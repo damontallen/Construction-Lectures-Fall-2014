{
 "metadata": {
  "name": "",
  "signature": "sha256:f64ddf7bea03b6bc19fb594bc144c540dc11cdc8c26f2efefc899a597bf41e05"
 },
 "nbformat": 3,
 "nbformat_minor": 0,
 "worksheets": [
  {
   "cells": [
    {
     "cell_type": "heading",
     "level": 1,
     "metadata": {
      "slideshow": {
       "slide_type": "slide"
      }
     },
     "source": [
      "Structure and Properties of Wood"
     ]
    },
    {
     "cell_type": "markdown",
     "metadata": {
      "slideshow": {
       "slide_type": "-"
      }
     },
     "source": [
      "<iframe width=\"420\" height=\"315\" src=\"//www.youtube.com/embed/v5ByV42oWIk\" frameborder=\"0\" allowfullscreen></iframe>"
     ]
    },
    {
     "cell_type": "heading",
     "level": 2,
     "metadata": {
      "slideshow": {
       "slide_type": "slide"
      }
     },
     "source": [
      "Hardwoods and Softwoods"
     ]
    },
    {
     "cell_type": "markdown",
     "metadata": {
      "slideshow": {
       "slide_type": "-"
      }
     },
     "source": [
      "<audio controls data-autoplay preload>\n",
      " <source src=\"https://github.com/damontallen/Construction-Lectures-Fall-2014/raw/master/Lecture%20Audio/Week%202/Wood%20as%20a%20building%20material/Hardwood%20vs%20Softwood.mp3\"\n",
      "     type='audio/mp3'>\n",
      " <p><strong>Your user agent does not support the HTML5 Audio element or the files are missing.</strong></p>\n",
      "</audio>"
     ]
    },
    {
     "cell_type": "markdown",
     "metadata": {
      "slideshow": {
       "slide_type": "-"
      }
     },
     "source": [
      "* Not necessarily a description of the physical properties of the wood.\n",
      "* Hard woods- broad leafed, <a href=\"http://pixabay.com/static/uploads/photo/2013/07/18/10/58/green-163638_640.jpg?i\">deciduous</a>\n",
      "* Soft woods - narrow, needle like leaves, generally <a href=\"http://pixabay.com/static/uploads/photo/2010/12/13/10/01/branch-2133_640.jpg?i\">evergreen</a>, conifers\n",
      "* Majority of structural lumber comes from the softwood category\n",
      "* Douglas Fir and Southern Pine are widely used\n",
      "    * Softwoods\n",
      "    * Relatively dense\n",
      "    * Structural properties exceed many hardwoods\n",
      "    \n",
      "*(Image source sites:[Hard wood](http://pixabay.com/en/green-leaf-leaves-deciduous-tree-163638/), [Soft wood](http://pixabay.com/en/branch-cone-conifer-coniferous-2133/))*"
     ]
    },
    {
     "cell_type": "heading",
     "level": 2,
     "metadata": {
      "slideshow": {
       "slide_type": "slide"
      }
     },
     "source": [
      "Parts of a Log"
     ]
    },
    {
     "cell_type": "markdown",
     "metadata": {
      "slideshow": {
       "slide_type": "-"
      }
     },
     "source": [
      "<audio controls data-autoplay preload>\n",
      " <source src=\"https://github.com/damontallen/Construction-Lectures-Fall-2014/raw/master/Lecture%20Audio/Week%202/Wood%20as%20a%20building%20material/Parts%20of%20a%20log.mp3\"\n",
      "     type='audio/mp3'>\n",
      " <p><stong>Your user agent does not support the HTML5 Audio element or the files are missing.</stong></p>\n",
      "</audio>"
     ]
    },
    {
     "cell_type": "markdown",
     "metadata": {
      "slideshow": {
       "slide_type": "-"
      }
     },
     "source": [
      "\n",
      "<a href=\"http://imgur.com/9wu86XJ\"><img src=\"http://i.imgur.com/9wu86XJ.png\" title=\"Tree Slice\" style=\"max-width:300px; max-height:300px; border:1px solid blue; float:left; margin-right:3px;\"/></a>\n"
     ]
    },
    {
     "cell_type": "markdown",
     "metadata": {
      "slideshow": {
       "slide_type": "-"
      }
     },
     "source": [
      "\n",
      "* Heartwood - dead cells, supply strength and support\n",
      "* Sapwood - living\n",
      "* No strength difference but the heartwood is more dcay resistant and sapwood accepts penetration by perservatives better."
     ]
    },
    {
     "cell_type": "heading",
     "level": 2,
     "metadata": {
      "slideshow": {
       "slide_type": "slide"
      }
     },
     "source": [
      "Rings"
     ]
    },
    {
     "cell_type": "markdown",
     "metadata": {
      "slideshow": {
       "slide_type": "-"
      }
     },
     "source": [
      "<audio controls data-autoplay preload>\n",
      " <source src=\"https://github.com/damontallen/Construction-Lectures-Fall-2014/raw/master/Lecture%20Audio/Week%202/Wood%20as%20a%20building%20material/Rings.mp3\"\n",
      "     type='audio/mp3'>\n",
      " <p>Your user agent does not support the HTML5 Audio element or the files are missing.</p>\n",
      "</audio>"
     ]
    },
    {
     "cell_type": "markdown",
     "metadata": {
      "slideshow": {
       "slide_type": "-"
      }
     },
     "source": [
      "Rings are made up of elongated round or rectangular tubelike cells, essentially parallel to the length of the tree.  The cells are primarily cellulose glued together by lignin (like a bundle of straws)\n",
      "\n",
      "\n"
     ]
    },
    {
     "cell_type": "markdown",
     "metadata": {
      "slideshow": {
       "slide_type": "-"
      }
     },
     "source": [
      "<a> </a>\n",
      "\n",
      "<a href=\"http://cwc.ca/education/teaching-learning-resources/\"><img src=\"http://www.arch.mcgill.ca/prof/friedman/arch240/winter1998/lecture3/Wood11.jpg\" alt=\"Micro Wood Rings\" style=\"max-width:300px; max-height:300px; border:1px solid blue; float:left; margin-right:3px;\"></a>\n",
      "\n",
      "<a href=\"http://cwc.ca/education/teaching-learning-resources/\"><img src=\"http://www.arch.mcgill.ca/prof/friedman/arch240/winter1998/lecture3/Wood12.jpg\" alt=\"Macro Wood Rings\" style=\"max-width:300px; max-height:300px; border:1px solid blue; float:left; margin-right:3px;\"></a>\n"
     ]
    },
    {
     "cell_type": "markdown",
     "metadata": {
      "slideshow": {
       "slide_type": "-"
      }
     },
     "source": [
      "* Early wood (spring wood) rapid growth, not as dense\n",
      "* Late wood (summer wood) dense, stronger\n",
      "\n",
      "The relative amounts of early and late wood are used in visual grading."
     ]
    },
    {
     "cell_type": "heading",
     "level": 2,
     "metadata": {
      "slideshow": {
       "slide_type": "slide"
      }
     },
     "source": [
      "By any other name..."
     ]
    },
    {
     "cell_type": "markdown",
     "metadata": {
      "slideshow": {
       "slide_type": "-"
      }
     },
     "source": [
      "<audio controls data-autoplay preload>\n",
      " <source src=\"https://github.com/damontallen/Construction-Lectures-Fall-2014/raw/master/Lecture%20Audio/Week%202/Wood%20as%20a%20building%20material/By%20any%20other%20name.mp3\"\n",
      "     type='audio/mp3'>\n",
      " <p><strong>Your user agent does not support the HTML5 Audio element or the files are missing.</strong></p>\n",
      "</audio>"
     ]
    },
    {
     "cell_type": "markdown",
     "metadata": {
      "slideshow": {
       "slide_type": "-"
      }
     },
     "source": [
      "You should be aware that typically the species of lumber that you buy in the store is actually group of different species.\n",
      "\n",
      "\"Southern Pine\" for instance is actually:\n",
      "\n",
      "* Loblolly Pine\n",
      "* Longleaf Pine\n",
      "* Shortleaf Pine\n",
      "* Slash Pine\n",
      "\n",
      "\"Red Oak\" could be any one of:\n",
      "\n",
      "* Black Oak\n",
      "* Cherrybark Oak\n",
      "* Laurel Oak\n",
      "* Northern Red Oak\n",
      "* Pin Oak\n",
      "* Scarlet Oak\n",
      "* Southern Red Oak\n",
      "* Water Oak\n",
      "* Willow Oak"
     ]
    },
    {
     "cell_type": "heading",
     "level": 2,
     "metadata": {
      "slideshow": {
       "slide_type": "slide"
      }
     },
     "source": [
      "Moisture Content"
     ]
    },
    {
     "cell_type": "markdown",
     "metadata": {
      "slideshow": {
       "slide_type": "-"
      }
     },
     "source": [
      "<audio controls data-autoplay preload>\n",
      " <source src=\"https://github.com/damontallen/Construction-Lectures-Fall-2014/raw/master/Lecture%20Audio/Week%202/Wood%20as%20a%20building%20material/Moisture%20Content.mp3\"\n",
      "     type='audio/mp3'>\n",
      " <p><strong>Your user agent does not support the HTML5 Audio element or the files are missing.</strong></p>\n",
      "</audio>"
     ]
    },
    {
     "cell_type": "markdown",
     "metadata": {
      "slideshow": {
       "slide_type": "-"
      }
     },
     "source": [
      "Moisture has an effect on the size and strength of lumber. Wood will swell and shrink an amount proportional to the moisture content up to the fiber saturation point.\n",
      "\n"
     ]
    },
    {
     "cell_type": "markdown",
     "metadata": {
      "slideshow": {
       "slide_type": "-"
      }
     },
     "source": [
      "\n",
      "<a href=\"http://imgur.com/O7vZHaC\"><img src=\"http://i.imgur.com/O7vZHaC.png\" title=\"Moisture content\" style=\"max-width:300px; max-height:300px; border:1px solid blue; float:left; margin-right:3px;\"/></a>\n",
      "<a></a>\n"
     ]
    },
    {
     "cell_type": "markdown",
     "metadata": {
      "slideshow": {
       "slide_type": "-"
      }
     },
     "source": [
      "However because a species of lumber a lot of the time is not actually a tree species the effect of moisture on lumber may not be fully predictable.  The tree species that make up Southern Pine have fiber saturation points that range from 21% to 30%.\n",
      "\n",
      "<table>\n",
      "<tr><th>Type of Lumber</th><th>Moisture Content</th><th>Lumber Stamp</th></tr>\n",
      "<tr><td>Dry Lumber</td><td>$\\leq$ 19%</td><td>S-DRY</td></tr>\n",
      "<tr><td>Green Lumber</td><td>$\\geq$ 20%</td><td>S-GRN</td></tr>\n",
      "<tr><td>Kiln Dried Lumber</td><td>$\\leq$ 15%</td><td>MC-15% or KD</td></tr>\n",
      "</table>"
     ]
    },
    {
     "cell_type": "heading",
     "level": 3,
     "metadata": {
      "slideshow": {
       "slide_type": "slide"
      }
     },
     "source": [
      "Shrinkage"
     ]
    },
    {
     "cell_type": "markdown",
     "metadata": {
      "slideshow": {
       "slide_type": "-"
      }
     },
     "source": [
      "<audio controls data-autoplay preload>\n",
      " <source src=\"https://github.com/damontallen/Construction-Lectures-Fall-2014/raw/master/Lecture%20Audio/Week%202/Wood%20as%20a%20building%20material/Shrinkage.mp3\"\n",
      "     type='audio/mp3'>\n",
      " <p><strong>Your user agent does not support the HTML5 Audio element or the files are missing.</strong></p>\n",
      "</audio>"
     ]
    },
    {
     "cell_type": "markdown",
     "metadata": {
      "slideshow": {
       "slide_type": "-"
      }
     },
     "source": [
      "<a></a>\n",
      "\n",
      "<a href=\"http://cwc.ca/education/teaching-learning-resources/\"><img src=\"http://www.arch.mcgill.ca/prof/friedman/arch240/winter1998/lecture3/Wood17.jpg\" alt = \"Dry vs Green Lumber\" style=\"max-width:300px; max-height:300px; border:1px solid blue; float:left; margin-right:3px;\"></a>\n",
      "\n",
      "<a href=\"http://cwc.ca/education/teaching-learning-resources/\"><img src=\"http://www.arch.mcgill.ca/prof/friedman/arch240/winter1998/lecture3/Wood26b.jpg\" alt = \"Dry vs Green Lumber\" style=\"max-width:300px; max-height:300px; border:1px solid blue; float:left; margin-right:3px;\"></a>\n"
     ]
    },
    {
     "cell_type": "markdown",
     "metadata": {
      "slideshow": {
       "slide_type": "-"
      }
     },
     "source": [
      "The shrinkage in the tangential to the grain typically ranges from 6.5% to 9.5% when going from FSP to oven dry.  However, the shrinkage raidally will only range from 2% to 5.5%.  Because of this lumber will distort its shape when it drys.  The shinkage along the gain is practially non-existant since the cell walls are almost completly continous in that direction.  \n",
      "\n",
      "To estimate the change in size over a particular change in moisture content is it usually safe to assume that the change in size is proportional to the maximum change in size over the content in moisture content.\n",
      "\n",
      "$$\\text{Shrinkage} = \\frac{\\text{Maximum Srinkage}}{\\text{FSP}} \\times (\\text{Final MC} - \\text{Current MC})$$\n",
      "\n",
      "For instance if you are going from a MC of 19% to a MC of 9.2% and your lumber has a maximum tangential shrinkage of 9.5% and a FSP of %30 you would expect potentially a 3.2% change in width.\n",
      "\n",
      "$$\\text{Shrinkage} = \\frac{9.5\\%}{30\\%} \\times (9.2\\% - 19.2\\%) = -3.16\\%$$\n"
     ]
    },
    {
     "cell_type": "code",
     "collapsed": false,
     "input": [
      "W = lambda T: 330 + 0.452*T + 0.00414*T**2\n",
      "k = lambda T: 0.791 + 4.63E-4*T - 8.44E-7*T**2\n",
      "k_1 = lambda T: 6.34 + 7.745E-4*T - 9.35E-7*T**2\n",
      "k_2 = lambda T: 1.09 + 2.84E-4*T - 9.04E-7*T**2\n",
      "%matplotlib inline\n",
      "\n",
      "def m_eq(T,h):\n",
      "    m = 1800/W(T)*(k(T)*h/(1-k(T)*h)+(k_1(T)*k(T)*h+2*k_1(T)*k_2(T)*k(T)**2*h**2)/ \\\n",
      "                   (1+ k_1(T)*k(T)*h+k_1(T)*k_2(T)*k(T)**2*h**2))\n",
      "    return m\n",
      "import matplotlib.pyplot as plt\n",
      "import matplotlib.figure as figure\n",
      "def EMC():\n",
      "    H = [h for h in range(0,101)]\n",
      "    M_eq_0 = [m_eq(0, h/100)for h in H]\n",
      "    M_eq_30 = [m_eq(30, h/100)for h in H]\n",
      "    M_eq_60 = [m_eq(60, h/100)for h in H]\n",
      "    M_eq_100 = [m_eq(100, h/100)for h in H]\n",
      "    fig = plt.figure(1, figsize=(9,4))\n",
      "    ax = plt.plot\n",
      "    ax(H,M_eq_0, 'black', label='$0^o C$')\n",
      "    ax(H,M_eq_30, 'blue', label='$30^o C$')\n",
      "    ax(H,M_eq_60, 'green', label='$60^o C$')\n",
      "    ax(H,M_eq_100, 'red', label='$100^o C$')\n",
      "    legend = plt.legend(loc='upper left', shadow=True)\n",
      "    plt.xlabel('Relative Humidity (%)')\n",
      "    plt.ylabel('EMC (%)')\n",
      "    plt.title('Equilibrium Moisture Content of Wood vs Humidity and Tempature')\n",
      "    plt.grid()\n"
     ],
     "language": "python",
     "metadata": {
      "slideshow": {
       "slide_type": "skip"
      }
     },
     "outputs": [],
     "prompt_number": 1
    },
    {
     "cell_type": "heading",
     "level": 3,
     "metadata": {
      "slideshow": {
       "slide_type": "slide"
      }
     },
     "source": [
      "Equilibrium Moisture Content"
     ]
    },
    {
     "cell_type": "markdown",
     "metadata": {
      "slideshow": {
       "slide_type": "-"
      }
     },
     "source": [
      "<audio controls data-autoplay preload>\n",
      " <source src=\"https://github.com/damontallen/Construction-Lectures-Fall-2014/raw/master/Lecture%20Audio/Week%202/Wood%20as%20a%20building%20material/Equilibrium%20Moisture%20Content.mp3\"\n",
      "     type='audio/mp3'>\n",
      " <p><strong>Your user agent does not support the HTML5 Audio element or the files are missing.</strong></p>\n",
      "</audio>"
     ]
    },
    {
     "cell_type": "markdown",
     "metadata": {
      "slideshow": {
       "slide_type": "-"
      }
     },
     "source": [
      "[Equilibrium Moisture Content (EMC)](http://en.wikipedia.org/wiki/Equilibrium_moisture_content) is the percentage of moisture that is in wood when it is no longer gaining or losing moisture.  In other words the size is stable.  \n",
      "\n",
      "The value for EMC is dependent on both the temperature and relative humidity of the environment.  Formwork touching wet concrete is often close to the fiber saturation point."
     ]
    },
    {
     "cell_type": "code",
     "collapsed": false,
     "input": [
      "EMC()"
     ],
     "language": "python",
     "metadata": {
      "slideshow": {
       "slide_type": "-"
      }
     },
     "outputs": [
      {
       "metadata": {},
       "output_type": "display_data",
       "png": "[encoded data removed]",
       "text": [
        "<matplotlib.figure.Figure at 0x7f5ecf195150>"
       ]
      }
     ],
     "prompt_number": 2
    },
    {
     "cell_type": "heading",
     "level": 2,
     "metadata": {
      "slideshow": {
       "slide_type": "slide"
      }
     },
     "source": [
      "Moisture and the Timber Code"
     ]
    },
    {
     "cell_type": "markdown",
     "metadata": {
      "slideshow": {
       "slide_type": "-"
      }
     },
     "source": [
      "<audio controls data-autoplay preload>\n",
      " <source src=\"https://github.com/damontallen/Construction-Lectures-Fall-2014/raw/master/Lecture%20Audio/Week%202/Wood%20as%20a%20building%20material/Moisture%20and%20the%20Timber%20Code.mp3\"\n",
      "     type='audio/mp3'>\n",
      " <p><strong>Your user agent does not support the HTML5 Audio element or the files are missing.</strong></p>\n",
      "</audio>"
     ]
    },
    {
     "cell_type": "markdown",
     "metadata": {
      "slideshow": {
       "slide_type": "-"
      }
     },
     "source": [
      "Fortunately lumber grading has established the dry size as a basis for structural calculations (allowable stresses are adjusted to account for the size differences).  As a designer you do not have to use different section properties for different moisture content."
     ]
    },
    {
     "cell_type": "heading",
     "level": 2,
     "metadata": {
      "slideshow": {
       "slide_type": "slide"
      }
     },
     "source": [
      "Defects in Wood"
     ]
    },
    {
     "cell_type": "markdown",
     "metadata": {
      "slideshow": {
       "slide_type": "-"
      }
     },
     "source": [
      "<audio controls data-autoplay preload>\n",
      " <source src=\"https://github.com/damontallen/Construction-Lectures-Fall-2014/raw/master/Lecture%20Audio/Week%202/Wood%20as%20a%20building%20material/Defects%20in%20wood.mp3\"\n",
      "     type='audio/mp3'>\n",
      " <p><strong>Your user agent does not support the HTML5 Audio element or the files are missing.</strong></p>\n",
      "</audio>"
     ]
    },
    {
     "cell_type": "markdown",
     "metadata": {
      "slideshow": {
       "slide_type": "-"
      }
     },
     "source": [
      "<a> </a>\n",
      "\n",
      "<a href=\"http://imgur.com/sQuYTSA\"><img src=\"http://i.imgur.com/sQuYTSA.png\" title=\"Defects in wood\" style=\"max-width:300px; max-height:300px; border:1px solid blue; float:left; margin-right:3px;\" /></a>\n",
      "\n",
      "<a href=\"http://imgur.com/NFh88cK\"><img src=\"http://i.imgur.com/NFh88cK.png\" title=\"Defects in Timber\" style=\"max-width:300px; max-height:300px; border:1px solid blue; float:left; margin-right:3px;\"/></a>\n"
     ]
    },
    {
     "cell_type": "markdown",
     "metadata": {
      "slideshow": {
       "slide_type": "-"
      }
     },
     "source": [
      "Amount of defects used to grade wood\n",
      "\n",
      "* Knots\n",
      "    * Number in wide face and size\n",
      "    * Number in narrow face and size\n",
      "* Slope of grain\n",
      "* Checks\n",
      "* Shake\n",
      "* Splits\n"
     ]
    },
    {
     "cell_type": "heading",
     "level": 2,
     "metadata": {
      "slideshow": {
       "slide_type": "slide"
      }
     },
     "source": [
      "Sizes of Structural Lumber"
     ]
    },
    {
     "cell_type": "markdown",
     "metadata": {
      "slideshow": {
       "slide_type": "-"
      }
     },
     "source": [
      "<audio controls data-autoplay preload>\n",
      " <source src=\"https://github.com/damontallen/Construction-Lectures-Fall-2014/raw/master/Lecture%20Audio/Week%202/Wood%20as%20a%20building%20material/Sizes%20of%20Structural%20Lumber.mp3\"\n",
      "     type='audio/mp3'>\n",
      " <p><strong>Your user agent does not support the HTML5 Audio element or the files are missing.</strong></p>\n",
      "</audio>"
     ]
    },
    {
     "cell_type": "markdown",
     "metadata": {
      "slideshow": {
       "slide_type": "-"
      }
     },
     "source": [
      "<a href=\"http://imgur.com/cMSiz4y\"><img src=\"http://i.imgur.com/cMSiz4y.png\" title=\"Hosted by imgur.com\" style=\"max-width:300px; max-height:300px; border:1px solid blue; float:left; margin-right:3px;\"/></a>\n",
      "\n"
     ]
    },
    {
     "cell_type": "markdown",
     "metadata": {
      "slideshow": {
       "slide_type": "-"
      }
     },
     "source": [
      "* Dressed - normally S4S (Surfaced 4 Sides) can be S2S1E (Surfaced 2 Sides 1 Edge), reduction in size is due to initial saw cut plus surfacing.\n",
      "    * $\\frac{1}{2}\"$ less than nominal in thickness\n",
      "    * $\\frac{1}{2}\" - \\frac{3}{4}\"$ less in width\n",
      "        * In 2x material, above 7\" the width is reduced $\\frac{3}{4}\"$ and everthing less than 6\" is reduced $\\frac{1}{2}\"$\n",
      "        * In material that is 5\" thick or larger, the width is just reduced $\\frac{1}{2}\"$\n",
      "    * Examples: \n",
      "        * a nominal 2x4 is $1 \\frac{1}{2}\" \\times 3 \\frac{1}{2}\"$\n",
      "        * a nominal 2x8 is $1 \\frac{1}{2}\" \\times 7 \\frac{1}{4}\"$\n",
      "        * a nominal 6x6 is $5 \\frac{1}{2}\" \\times 5 \\frac{1}{2}\"$\n",
      "    \n",
      "* Rought Sawn - used for architectural appeal and/or economy, $\\frac{1}{8}\"$ larger than dresses, no surfacing\n",
      "* Full Sawn - generally not available, must allow for reduction in size due to saw cut, would be a special order and not worth the cost"
     ]
    },
    {
     "cell_type": "heading",
     "level": 2,
     "metadata": {
      "slideshow": {
       "slide_type": "slide"
      }
     },
     "source": [
      "Mechanical Properties"
     ]
    },
    {
     "cell_type": "markdown",
     "metadata": {
      "slideshow": {
       "slide_type": "-"
      }
     },
     "source": [
      "<audio controls data-autoplay preload>\n",
      " <source src=\"https://github.com/damontallen/Construction-Lectures-Fall-2014/raw/master/Lecture%20Audio/Week%202/Wood%20as%20a%20building%20material/Mechanical%20Properties.mp3\"\n",
      "     type='audio/mp3'>\n",
      " <p><strong>Your user agent does not support the HTML5 Audio element or the files are missing.</strong></p>\n",
      "</audio>"
     ]
    },
    {
     "cell_type": "markdown",
     "metadata": {
      "slideshow": {
       "slide_type": "-"
      }
     },
     "source": [
      "<a></a>\n",
      "\n",
      "<a href=\"http://cwc.ca/education/teaching-learning-resources/\"><img src=\"http://www.arch.mcgill.ca/prof/friedman/arch240/winter1998/lecture3/Wood13.jpg\" alt=\"tension\" style=\"max-width:300px; max-height:300px; border:1px solid blue; float:left; margin-right:3px;\"></a>\n",
      "\n",
      "<a href=\"http://cwc.ca/education/teaching-learning-resources/\"><img src=\"http://www.arch.mcgill.ca/prof/friedman/arch240/winter1998/lecture3/wood14.jpg\" alt=\"tension\" style=\"max-width:300px; max-height:300px; border:1px solid blue; float:left; margin-right:3px;\"></a>\n",
      "\n",
      "<a href=\"http://cwc.ca/education/teaching-learning-resources/\"><img src=\"http://www.arch.mcgill.ca/prof/friedman/arch240/winter1998/lecture3/Wood15.jpg\" alt=\"tension\" style=\"max-width:300px; max-height:300px; border:1px solid blue; float:left; margin-right:3px;\"></a>"
     ]
    },
    {
     "cell_type": "markdown",
     "metadata": {
      "slideshow": {
       "slide_type": "-"
      }
     },
     "source": [
      "* Tension parallel to grain - $F_t$ - Strong but can't really achieve complete failure of cross section, failure occurs at the connections\n",
      "* Tension perpendicular to grain - No good! Very weak, avoid loading in this direction\n",
      "* Compression parallel to grain - $F_c$ - Column type loading, slenderness effects must be considered\n",
      "* Compression perpendicular to grain (crushing) - $F_{c \\perp}$ - Not as strong as compression parallel to grain but overload only causes local crushing of timber and not collapse.  In fact, the allowable stress is really based on a deformation limit."
     ]
    },
    {
     "cell_type": "heading",
     "level": 2,
     "metadata": {
      "slideshow": {
       "slide_type": "slide"
      }
     },
     "source": [
      "More properties"
     ]
    },
    {
     "cell_type": "markdown",
     "metadata": {
      "slideshow": {
       "slide_type": "-"
      }
     },
     "source": [
      "<audio controls data-autoplay preload>\n",
      " <source src=\"https://github.com/damontallen/Construction-Lectures-Fall-2014/raw/master/Lecture%20Audio/Week%202/Wood%20as%20a%20building%20material/More%20Properties.mp3\"\n",
      "     type='audio/mp3'>\n",
      " <p><strong>Your user agent does not support the HTML5 Audio element or the files are missing.</strong></p>\n",
      "</audio>"
     ]
    },
    {
     "cell_type": "markdown",
     "metadata": {
      "slideshow": {
       "slide_type": "-"
      }
     },
     "source": [
      "<a></a>\n",
      "\n",
      "<a href=\"http://imgur.com/GbwjZzp\"><img src=\"http://i.imgur.com/GbwjZzp.png\" title=\"Bending\" style=\"max-width:300px; max-height:300px; border:1px solid blue; float:left; margin-right:3px;\"/></a>\n",
      "\n",
      "<a href=\"http://imgur.com/beanCAN\"><img src=\"http://i.imgur.com/beanCAN.png\" title=\"Shear\" style=\"max-width:300px; max-height:300px; border:1px solid blue; float:left; margin-right:3px;\"/></a>\n",
      "\n",
      "<a href=\"http://imgur.com/3WPHP1G\"><img src=\"http://i.imgur.com/3WPHP1G.png\" title=\"Shear perpendicular to grain\" style=\"max-width:300px; max-height:300px; border:1px solid blue; float:left; margin-right:3px;\"/></a>\n"
     ]
    },
    {
     "cell_type": "markdown",
     "metadata": {
      "slideshow": {
       "slide_type": "-"
      }
     },
     "source": [
      "* Bending - $F_b$\n",
      "* Shear - $F_v$\n",
      "* Shear perpendicular to grain - Does not fail this way.  Slip parallel to grain will occur first.\n",
      "\n",
      "*(Click the blue right for links to the references used in this lecture and some additional resources.)*"
     ]
    },
    {
     "cell_type": "heading",
     "level": 2,
     "metadata": {
      "slideshow": {
       "slide_type": "slide"
      }
     },
     "source": [
      "References:"
     ]
    },
    {
     "cell_type": "markdown",
     "metadata": {
      "slideshow": {
       "slide_type": "-"
      }
     },
     "source": [
      "\n",
      "[Source material](http://cwc.ca/education/teaching-learning-resources/)\n",
      "\n",
      "Additional Resources:\n",
      "\n",
      "[AWC Video Playlist](https://www.youtube.com/watch?v=yIyg312KKLw&list=PLirAxoTYzncWYyxydMzz8r22FKLEd4X8q)\n",
      "\n",
      "[Class website](https://elearning2.courses.ufl.edu/portal/site/UFL-BCN4423C-40908-52014) *(Use this link to if you are taking the course on e-learning.)*\n",
      "\n",
      "[Github.io version of course website](http://damontallen.github.io/Construction-Lectures/) *(Do not use this link if you are taking this course in Summer A or B.)*\n",
      "\n",
      "[IPython.org](http://ipython.org/) *(IPython is the opensource software used in the development of much of this course.)*\n",
      "\n",
      "[Complete Software List](http://nbviewer.ipython.org/github/damontallen/Construction-Lectures-Fall-2014/blob/master/Resources.ipynb)"
     ]
    },
    {
     "cell_type": "markdown",
     "metadata": {
      "slideshow": {
       "slide_type": "skip"
      }
     },
     "source": [
      "CSS stylesheet\n",
      "\n",
      "<head>\n",
      "<style>\n",
      "important {font:italic bold 16px arial;}\n",
      ".missing {color:Red}\n",
      "fragment {color:LightBlue;}\n",
      "subslide {color:DarkBlue;}\n",
      "\n",
      ".rgt {float:right;}\n",
      "\n",
      ".lt {float:left;}\n",
      "\n",
      ".cnt {text-align:center; vertical-align:text-top;}\n",
      "\n",
      ".box { border:1px solid blue; float:left; margin-right:3px;}\n",
      "\n",
      ".max {max-width:300px; max-height:300px;}\n",
      "\n",
      ".fix {max-height:200px; max-width:200px;}\n",
      "\n",
      "</style>\n",
      "</head>\n",
      "\n",
      "    /* class = \"max box\" for img tags\n",
      "    \n",
      "    <audio controls data-autoplay preload>\n",
      "     <source src=\"https://github.com/damontallen/Construction-Lectures-Fall-2014/raw/master/Intro/FILE%20NAME.mp3\"\n",
      "         type='audio/mp3'>\n",
      "     <p>Your user agent does not support the HTML5 Audio element or the files are missing.</p>\n",
      "    </audio><a></a>\n",
      "    \n",
      "    */\n",
      "    class = \"max box\" == style=\"max-width:300px; max-height:300px; border:1px solid blue; float:left; margin-right:3px;\"\n"
     ]
    }
   ],
   "metadata": {}
  }
 ]
}