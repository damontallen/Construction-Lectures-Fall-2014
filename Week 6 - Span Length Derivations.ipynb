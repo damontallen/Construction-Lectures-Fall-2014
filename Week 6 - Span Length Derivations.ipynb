{
 "cells": [
  {
   "cell_type": "markdown",
   "metadata": {
    "slideshow": {
     "slide_type": "slide"
    }
   },
   "source": [
    "# Span Length Derivation"
   ]
  },
  {
   "cell_type": "markdown",
   "metadata": {
    "slideshow": {
     "slide_type": "-"
    }
   },
   "source": [
    "<iframe width=\"420\" height=\"315\" src=\"//www.youtube.com/embed/lqmcegeIwpU\" frameborder=\"0\" allowfullscreen></iframe>\n",
    "\n",
    "*(You can click on this link to skip the derivations and go to [How to use the Span Length Limits](#/12).)*"
   ]
  },
  {
   "cell_type": "markdown",
   "metadata": {
    "slideshow": {
     "slide_type": "slide"
    }
   },
   "source": [
    "## Limiting the Deflection of a Beam"
   ]
  },
  {
   "cell_type": "markdown",
   "metadata": {
    "slideshow": {
     "slide_type": "-"
    }
   },
   "source": [
    "<audio controls data-autoplay preload>\n",
    " <source src=\"https://github.com/damontallen/Construction-Lectures-Fall-2014/raw/master/Lecture%20Audio/Week%206/Span%20Length%20Derivations/Limiting%20the%20Deflection%20of%20a%20Beam.mp3\"\n",
    "         type='audio/mp3'>\n",
    " <p>Your user agent does not support the HTML5 Audio element or the files are missing.</p>\n",
    "</audio>"
   ]
  },
  {
   "cell_type": "markdown",
   "metadata": {
    "slideshow": {
     "slide_type": "-"
    }
   },
   "source": [
    "In most problems, we want to limit the deflection of a beam (or member acting like a beam) to either some fraction of the length of the beam, or some fixed value.  To do this we can either pick the support spacing, and design the member to satisfy these limits over that span, or we can pick a member size, species, and grade, and solve for the support spacing.  This second alternative is the most common approach used in concrete formwork.\n",
    "\n",
    "To determine the support spacing of a beam, based deflection limits, we'll start with the deflection equation for a uniformly distributed load, and solve for $L$.\n",
    "\n",
    "$$\\Delta = \\frac{5 w L^4}{384 E' I} \\Rightarrow L^4 = \\Delta \\frac{ 384 E' I}{5 w}$$\n",
    "\n",
    "However, this is for a simply supported beam, and it is more efficient for structural members, in forms of any useful size, to be have intermediate supports rather than just be simply supported.  Typically, you will see a beam supported over three or more spans.  \n",
    "\n",
    "For that reason we need to start with the maximum defection equation for a beam that is supported over three or more spans.  This found in Table 7-1 of the Formwork text.\n",
    "\n",
    "$$\\Delta_{max} = \\frac{w L^4}{145 E' I}\\frac{1 ft}{12 in}$$\n",
    "\n",
    "Where:\n",
    "\n",
    "* $w$ is the uniformly distributed load on the beam, in units of $plf$\n",
    "* $L$ is the distance between supports, in units of $inches$\n",
    "* $E'$ is the adjusted Young's modulus of the beam's material, in units of $psi$\n",
    "* $I$ is the moment of inertia of the beam, in units of $in^4$\n",
    "\n",
    "To start with we solve for $L^4$ in terms of $\\Delta_{max}$.\n",
    "\n",
    "$$ L^4 = \\Delta_{max} \\frac{145 E' I}{w }\\frac{12 in}{1 ft} =   \\Delta_{max} \\frac{(1,740 in/ft) E' I}{w}$$"
   ]
  },
  {
   "cell_type": "markdown",
   "metadata": {
    "slideshow": {
     "slide_type": "slide"
    }
   },
   "source": [
    "## Limit Deflection to a Fraction of the Span"
   ]
  },
  {
   "cell_type": "markdown",
   "metadata": {
    "slideshow": {
     "slide_type": "-"
    }
   },
   "source": [
    "<audio controls data-autoplay preload>\n",
    " <source src=\"https://github.com/damontallen/Construction-Lectures-Fall-2014/raw/master/Lecture%20Audio/Week%206/Span%20Length%20Derivations/Limit%20Deflection%20to%20a%20Fraction%20of%20the%20Span.mp3\"\n",
    "         type='audio/mp3'>\n",
    " <p>Your user agent does not support the HTML5 Audio element or the files are missing.</p>\n",
    "</audio>"
   ]
  },
  {
   "cell_type": "markdown",
   "metadata": {
    "slideshow": {
     "slide_type": "-"
    }
   },
   "source": [
    "We left our equation in terms of $L^4$ because we might want to set the deflection to either a fixed amount, *or* some fraction of the span length.  An example of this type of fractional limit is, $\\Delta \\leq L/360$.  We could use that to work with, but for now I will represent the constant, $360$, as a unknown value, $C$.\n",
    "\n",
    "$$ L^4 = \\Delta_{max} \\frac{(1,740 in/ft) E' I}{w} = \\frac{L}{C} \\frac{(1,740 in/ft) E' I}{w}$$\n",
    "\n",
    "$$ L^3 =  \\frac{1}{C} \\frac{(1,740 in/ft) E' I}{w}$$\n",
    "\n",
    "$$ L^3 =  \\frac{1,740 in/ft}{C} \\frac{ E' I}{w}$$\n",
    "\n",
    "$$ L =  \\sqrt[3]{\\frac{1,740 in/ft}{C} \\frac{ E' I}{w}}$$\n",
    "\n",
    "$$ L =  \\sqrt[3]{\\frac{1,740 in/ft}{C}}\\sqrt[3]{ \\frac{ E' I}{w}} \\text{ (or) } $$\n",
    "\n",
    "$$L = \\sqrt[3]{\\frac{1,740 }{C}}\\left(\\frac{in}{ft} \\right)^{1/3}\\sqrt[3]{ \\frac{ E' I}{w}}$$"
   ]
  },
  {
   "cell_type": "markdown",
   "metadata": {
    "slideshow": {
     "slide_type": "slide"
    }
   },
   "source": [
    "## Deflection Limit of $L/360$"
   ]
  },
  {
   "cell_type": "markdown",
   "metadata": {
    "slideshow": {
     "slide_type": "-"
    }
   },
   "source": [
    "<audio controls data-autoplay preload>\n",
    " <source src=\"https://github.com/damontallen/Construction-Lectures-Fall-2014/raw/master/Lecture%20Audio/Week%206/Span%20Length%20Derivations/Deflection%20Limit%20of%20L_360.mp3\"\n",
    "         type='audio/mp3'>\n",
    " <p>Your user agent does not support the HTML5 Audio element or the files are missing.</p>\n",
    "</audio>"
   ]
  },
  {
   "cell_type": "markdown",
   "metadata": {
    "slideshow": {
     "slide_type": "-"
    }
   },
   "source": [
    "For a specific fractional limit like $L/360$ we just take our equation and substitute 360 for the constant $C$.\n",
    "\n",
    "$$L = \\sqrt[3]{\\frac{1,740 }{C}}\\left(\\frac{in}{ft} \\right)^{1/3}\\sqrt[3]{ \\frac{ E' I}{w}} \\Rightarrow L = \\sqrt[3]{\\frac{1,740 }{360}}\\left(\\frac{in}{ft} \\right)^{1/3}\\sqrt[3]{ \\frac{ E' I}{w}}$$ \n",
    "\n",
    "$$ L =  1.69 \\left(\\frac{in}{ft} \\right)^{1/3}\\sqrt[3]{ \\frac{ E' I}{w}}$$\n",
    "\n",
    "The value $1.69$ has some unusual units associated with it. However, if we can just remember what the variables' units are supposed to be in the equation, we can have the units of $1.69$ implied, and write it like this, \n",
    "\n",
    "$$L =  1.69 \\sqrt[3]{ \\frac{ E' I}{w}}$$\n",
    "\n",
    "Where:\n",
    "\n",
    "* $L$ is distance between the supports, in units of $inches$\n",
    "* $w$ is the uniformly distributed load on the beam, in units of $plf$\n",
    "* $E'$ is the adjusted Young's modulus of the beam's material, in units of $psi$\n",
    "* $I$ is the moment of inertia of the beam, in units of $in^4$\n",
    "\n",
    "If, on your particular project, you are using a different fractional deflection limit, you can just solve the equation again with a new $C$."
   ]
  },
  {
   "cell_type": "markdown",
   "metadata": {
    "slideshow": {
     "slide_type": "slide"
    }
   },
   "source": [
    "## Fixed Deflection Limit"
   ]
  },
  {
   "cell_type": "markdown",
   "metadata": {
    "slideshow": {
     "slide_type": "-"
    }
   },
   "source": [
    "<audio controls data-autoplay preload>\n",
    " <source src=\"https://github.com/damontallen/Construction-Lectures-Fall-2014/raw/master/Lecture%20Audio/Week%206/Span%20Length%20Derivations/Fixed%20Deflection%20Limit.mp3\"\n",
    "         type='audio/mp3'>\n",
    " <p>Your user agent does not support the HTML5 Audio element or the files are missing.</p>\n",
    "</audio>"
   ]
  },
  {
   "cell_type": "markdown",
   "metadata": {
    "slideshow": {
     "slide_type": "-"
    }
   },
   "source": [
    "With a fixed deflection limit, like $1/16\"$ for example, we need to start with out original solution and solve for $L$.\n",
    "\n",
    "$$ L^4 = \\Delta_{max} \\frac{(1,740 in/ft) E' I}{w}$$\n",
    "\n",
    "$$ L = \\sqrt[4]{\\Delta_{max} \\frac{(1,740 in/ft) E' I}{w}}$$\n",
    "\n",
    "$$ L = \\sqrt[4]{\\Delta_{max} \\times 1,740 \\frac{in}{ft}} \\times \\sqrt[4]{ \\frac{ E' I}{w}}$$"
   ]
  },
  {
   "cell_type": "markdown",
   "metadata": {
    "slideshow": {
     "slide_type": "slide"
    }
   },
   "source": [
    "## Limiting Deflection to $1/16\"$"
   ]
  },
  {
   "cell_type": "markdown",
   "metadata": {
    "slideshow": {
     "slide_type": "-"
    }
   },
   "source": [
    "<audio controls data-autoplay preload>\n",
    " <source src=\"https://github.com/damontallen/Construction-Lectures-Fall-2014/raw/master/Lecture%20Audio/Week%206/Span%20Length%20Derivations/Limiting%20Deflection%20to%201_16_in.mp3\"\n",
    "         type='audio/mp3'>\n",
    " <p>Your user agent does not support the HTML5 Audio element or the files are missing.</p>\n",
    "</audio>"
   ]
  },
  {
   "cell_type": "markdown",
   "metadata": {
    "slideshow": {
     "slide_type": "-"
    }
   },
   "source": [
    "If we pick a fixed deflection like $1/16\"$ we just need to substitute it for $\\Delta_{max}$ in our equation.\n",
    "\n",
    "$$ L = \\sqrt[4]{\\Delta_{max} \\times 1,740 \\frac{in}{ft}} \\times \\sqrt[4]{ \\frac{ E' I}{w}} \\Rightarrow L = \\sqrt[4]{\\frac{1}{16}\" \\times 1,740 \\frac{in}{ft}} \\times \\sqrt[4]{ \\frac{ E' I}{w}}$$\n",
    "\n",
    "$$ L = \\sqrt[4]{\\frac{1,740 in^2}{16 ft}}\\times \\sqrt[4]{ \\frac{ E' I}{w}}$$\n",
    "\n",
    "$$ L = \\sqrt[4]{108.75} \\left(\\frac{in^2}{ft} \\right)^{1/4}\\times \\sqrt[4]{ \\frac{ E' I}{w}}$$\n",
    "\n",
    "$$ L = 3.23 \\frac{\\sqrt{in}}{\\sqrt[4]{ft}} \\sqrt[4]{ \\frac{ E' I}{w}}$$"
   ]
  },
  {
   "cell_type": "markdown",
   "metadata": {
    "slideshow": {
     "slide_type": "-"
    }
   },
   "source": [
    "Like before, we have some unusual units associated with the constant in our solution.  If we want to leave out those units, we just need to remember what all the variables' units are supposed to be.\n",
    "\n",
    "$$ L = 3.23 \\sqrt[4]{ \\frac{ E' I}{w}}$$\n",
    "\n",
    "Where:\n",
    "\n",
    "* $L$ is the distance between supports, in units of $inches$\n",
    "* $E'$ is the adjusted Young's modulus of the beam's material, in units of $psi$\n",
    "* $I$ is the moment of inertia of the beam, in units of $in^4$\n",
    "* $w$ is the uniformly distributed load on the beam, in units of $plf$\n",
    "\n",
    "If you are using a different deflection limit, just resolve the equation using the new $\\Delta_{max}$."
   ]
  },
  {
   "cell_type": "markdown",
   "metadata": {
    "slideshow": {
     "slide_type": "slide"
    }
   },
   "source": [
    "## Using Bending Stress in a Beam to Determine Allowable Spans"
   ]
  },
  {
   "cell_type": "markdown",
   "metadata": {
    "slideshow": {
     "slide_type": "-"
    }
   },
   "source": [
    "<audio controls data-autoplay preload>\n",
    " <source src=\"https://github.com/damontallen/Construction-Lectures-Fall-2014/raw/master/Lecture%20Audio/Week%206/Span%20Length%20Derivations/Using%20Bending%20Stress%20in%20a%20Beam%20to%20Determine%20Allowable%20Spans%20pt1.mp3\"\n",
    "         type='audio/mp3'>\n",
    " <p>Your user agent does not support the HTML5 Audio element or the files are missing.</p>\n",
    "</audio>"
   ]
  },
  {
   "cell_type": "markdown",
   "metadata": {
    "slideshow": {
     "slide_type": "-"
    }
   },
   "source": [
    "There are three (or four) failure modes that need to be checked with any beam: the deflection(s), bending, and shear.  For bending, we just compare $f_b$ to $F_b'$.  However, in order to find the actual bending stress, we need to know the equation for the maximum bending moment.  In a simply supported beam, the maximum bending moment due to a uniformly distributed load, is,\n",
    "\n",
    "$$M = \\frac{w L^2}{8}$$\n",
    "\n",
    "But, we are not using a simply supported beam.  Instead, we need the equation for the maximum bending moment in a beam that is supported over three or more spans.  That equation can be found in Table 7-1 of the Formwork text.\n",
    "\n",
    "$$M = \\frac{w L^2}{10} \\times \\frac{1 ft}{12 in}$$\n",
    "\n",
    "Where:\n",
    "\n",
    "* $M$ is the maximum bending moment in the beam, in units of $in$-$lbs$\n",
    "* $L$ is distance between the supports, in units of $inches$\n",
    "* $w$ is the uniformly distributed load on the beam, in units of $plf$\n",
    "\n",
    "\n",
    "*(Continued on the next slide)*"
   ]
  },
  {
   "cell_type": "markdown",
   "metadata": {
    "slideshow": {
     "slide_type": "slide"
    }
   },
   "source": [
    "<audio controls data-autoplay preload>\n",
    " <source src=\"https://github.com/damontallen/Construction-Lectures-Fall-2014/raw/master/Lecture%20Audio/Week%206/Span%20Length%20Derivations/Using%20Bending%20Stress%20in%20a%20Beam%20to%20Determine%20Allowable%20Spans%20pt2.mp3\"\n",
    "         type='audio/mp3'>\n",
    " <p>Your user agent does not support the HTML5 Audio element or the files are missing.</p>\n",
    "</audio>"
   ]
  },
  {
   "cell_type": "markdown",
   "metadata": {
    "slideshow": {
     "slide_type": "-"
    }
   },
   "source": [
    "Since the actual bending stress is proportional to the bending moment divided by the section modulus, we find the bending moment like this.\n",
    "\n",
    "$$M = f_b \\times S$$\n",
    "\n",
    "By setting the actual bending stress equal to the allowable bending stress, we can rewrite the bending moment equation in terms of $F_b'$.\n",
    "\n",
    "$$F_b' \\times S = M = \\frac{w L^2}{120} \\times 1 \\frac{ft}{in}$$\n",
    "\n",
    "Solving for $L^2$ we get,\n",
    "\n",
    "$$L^2 = 120 \\frac{in}{ft} \\times \\frac{F_b' \\times S }{w} $$\n",
    "\n",
    "and $L$ is,\n",
    "\n",
    "$$L = \\sqrt{120 \\frac{in}{ft}} \\times \\sqrt{\\frac{F_b' \\times S }{w}} $$\n",
    "\n",
    "$$L = 10.95 \\sqrt{ \\frac{in}{ft}} \\times \\sqrt{\\frac{F_b' \\times S }{w}} \\textbf{ or if the units are just implied } L = 10.95 \\times \\sqrt{\\frac{F_b' \\times S }{w}}$$\n",
    "\n",
    "Where:\n",
    "\n",
    "* $L$ is the distance between supports, in units of $inches$\n",
    "* $F_b'$ is the allowable bending stress of the beam, in units of $psi$\n",
    "* $S$ is the section modulus of the beam, in units of $in^3$\n",
    "* $w$ is the uniformly distributed load on the beam, in units of $plf$\n"
   ]
  },
  {
   "cell_type": "markdown",
   "metadata": {
    "slideshow": {
     "slide_type": "slide"
    }
   },
   "source": [
    "## Span Limit when Shear Controls"
   ]
  },
  {
   "cell_type": "markdown",
   "metadata": {
    "slideshow": {
     "slide_type": "-"
    }
   },
   "source": [
    "<audio controls data-autoplay preload>\n",
    " <source src=\"https://github.com/damontallen/Construction-Lectures-Fall-2014/raw/master/Lecture%20Audio/Week%206/Span%20Length%20Derivations/Span%20Limit%20when%20Shear%20Controls%20pt1.mp3\"\n",
    "         type='audio/mp3'>\n",
    " <p>Your user agent does not support the HTML5 Audio element or the files are missing.</p>\n",
    "</audio>"
   ]
  },
  {
   "cell_type": "markdown",
   "metadata": {
    "slideshow": {
     "slide_type": "-"
    }
   },
   "source": [
    "<a href = \"http://i.imgur.com/E2UUjpH.png\"><img src=\"http://i.imgur.com/E2UUjpH.png\" alt = \"Concrete Beam\"style=\"max-width:300px; max-height:300px; border:1px solid blue; float:right; margin-left:10px;\"/></a>\n",
    "\n",
    "Like with bending, and deflection before, the value for the maximum shear, in a beam supported over three or more spans, is not the same as for a simply supported beam.\n",
    "\n",
    "From Table 7-1 in the Formwork text we find,"
   ]
  },
  {
   "cell_type": "markdown",
   "metadata": {
    "slideshow": {
     "slide_type": "-"
    }
   },
   "source": [
    "$$V_{max} = 0.6 \\times w \\times L \\times \\frac{1 ft}{12 in} \\left(\\text{ or } V_{max} = 1.2 \\times w \\times \\frac{L}{2} \\times \\frac{1 ft}{12 in} \\right)$$ \n",
    "\n",
    "Where:\n",
    "\n",
    "* $V_{max}$ is the maximum shear in a beam supported over three or more spans, in units of $lbs$\n",
    "* $w$ is the uniformly distributed load on the beam, in units of $plf$\n",
    "* $L$ is the distance between supports, in units of $inches$\n",
    "\n",
    "For beams that are loaded on the opposite side from the supports, we can take advantage of Section 3.4.3 in the Timber NDS. That section states, the maximum shear may be measured at a distance $d$ over from the edge of the supports.  This is instead of the usual way, which is right at the supports.  You may recall something similar to this from studying concrete beams.  Instead of going over that explanation again, I've included the drawing of a concrete beam, failing in shear, to serve as a reminder about why this can be done.\n",
    "\n",
    "*(Continued on the next slide.)*"
   ]
  },
  {
   "cell_type": "markdown",
   "metadata": {
    "slideshow": {
     "slide_type": "slide"
    }
   },
   "source": [
    "<audio controls data-autoplay preload>\n",
    " <source src=\"https://github.com/damontallen/Construction-Lectures-Fall-2014/raw/master/Lecture%20Audio/Week%206/Span%20Length%20Derivations/Span%20Limit%20when%20Shear%20Controls%20pt2.mp3\"\n",
    "         type='audio/mp3'>\n",
    " <p>Your user agent does not support the HTML5 Audio element or the files are missing.</p>\n",
    "</audio>"
   ]
  },
  {
   "cell_type": "markdown",
   "metadata": {
    "slideshow": {
     "slide_type": "-"
    }
   },
   "source": [
    "After accounting for this allowance, the maximum shear equation becomes,\n",
    "\n",
    "\n",
    "$$V_{max} =  1.2 \\times w \\times \\left( \\frac{L}{2} - d \\right) \\times \\frac{1 ft}{12 in} \\text{ or }$$ \n",
    "\n",
    "$$V_{max} =  0.6 \\times w \\times \\left( L - 2d \\right) \\times \\frac{1 ft}{12 in} = \\frac{0.6 ft}{12 in} \\times w \\times \\left( L - 2d \\right) $$ \n",
    "\n",
    "$$V_{max} = \\frac{1 ft}{20 in} \\times w \\times \\left( L - 2d \\right) $$ \n",
    "\n",
    "By rewriting $V_{max}$ in terms of allowable shear stress we get,\n",
    "\n",
    "$$F_v' = \\frac{3}{2}\\frac{V_{max}}{A} = \\frac{3}{2 \\times A}\\frac{1 ft}{20 in} \\times w \\times \\left( L - 2d \\right) $$ \n",
    "\n",
    "$$F_v' = \\left(\\frac{3 ft}{40 in} \\times \\frac{w}{A}\\right) \\times \\left( L - 2d \\right) $$ \n",
    "\n",
    "*(Continues on the next slide.)*"
   ]
  },
  {
   "cell_type": "markdown",
   "metadata": {
    "slideshow": {
     "slide_type": "slide"
    }
   },
   "source": [
    "<audio controls data-autoplay preload>\n",
    " <source src=\"https://github.com/damontallen/Construction-Lectures-Fall-2014/raw/master/Lecture%20Audio/Week%206/Span%20Length%20Derivations/Span%20Limit%20when%20Shear%20Controls%20pt3.mp3\"\n",
    "         type='audio/mp3'>\n",
    " <p>Your user agent does not support the HTML5 Audio element or the files are missing.</p>\n",
    "</audio>"
   ]
  },
  {
   "cell_type": "markdown",
   "metadata": {
    "slideshow": {
     "slide_type": "-"
    }
   },
   "source": [
    "\n",
    "Now we solve for $L$.\n",
    "\n",
    "$$F_v' = \\left(\\frac{3 ft}{40 in} \\times \\frac{w}{A}\\right) \\times \\left( L - 2d \\right) \\Rightarrow \\left( L - 2d \\right) = F_v' \\times \\left(\\frac{40 in}{3 ft} \\times \\frac{A}{w}\\right) $$ \n",
    "\n",
    "by adding $2d$ to both sides we get,\n",
    "\n",
    "$$ L =  \\frac{40 in}{3 ft} \\times \\frac{F_v' \\times A}{w} + 2d  $$ \n",
    "\n",
    "$$ L =  13.33\\frac{ in}{ ft} \\times \\frac{F_v' \\times A}{w} + 2d  \\text{ or just,}$$ \n",
    "\n",
    "$$ L =  13.33\\times \\frac{F_v' \\times A}{w} + 2d $$ \n",
    "\n",
    "Where:\n",
    "\n",
    "* $L$ is the distance between supports, in units of $inches$\n",
    "* $F_v'$ is the maximum allowable shear stress in the beam, in units of $psi$\n",
    "* $A$ is the cross sectional area of the beam, in units of $in^2$\n",
    "* $w$ is the uniformly distributed load on the beam, in units of $plf$\n",
    "* $d$ is the width of the beam, in units of $in$"
   ]
  },
  {
   "cell_type": "markdown",
   "metadata": {
    "slideshow": {
     "slide_type": "slide"
    }
   },
   "source": [
    "## Plywood Rolling Shear"
   ]
  },
  {
   "cell_type": "markdown",
   "metadata": {
    "slideshow": {
     "slide_type": "-"
    }
   },
   "source": [
    "<audio controls data-autoplay preload>\n",
    " <source src=\"https://github.com/damontallen/Construction-Lectures-Fall-2014/raw/master/Lecture%20Audio/Week%206/Span%20Length%20Derivations/Plywood%20Rolling%20Shear.mp3\"\n",
    "         type='audio/mp3'>\n",
    " <p>Your user agent does not support the HTML5 Audio element or the files are missing.</p>\n",
    "</audio>"
   ]
  },
  {
   "cell_type": "markdown",
   "metadata": {
    "slideshow": {
     "slide_type": "-"
    }
   },
   "source": [
    "The span limit for plywood panels, supported over three or more spans, due to rolling shear, can be found using Equation 11 from the [APA Panel Design Specification](http://www.apawood.org/SearchResults.aspx?q=d510&tid=1).\n",
    "\n",
    "$$w  = \\frac{20 F_s' (Ib/Q)}{L} $$ \n",
    "\n",
    "Since plywood is designed using a per unit foot procedure&#42;, this equation, (as well as all the other equations, when they are used with plywood), results in $w$ being in units of, $\\frac{plf}{1 ft}$.  We convert it to the units we want to use by multiplying both sides by $1 ft$.\n",
    "\n",
    "$$w \\times 1 ft = \\frac{20 F_s' (Ib/Q)}{L}\\times 1 ft $$\n",
    "\n",
    "Solving for $L$ we get,"
   ]
  },
  {
   "cell_type": "markdown",
   "metadata": {
    "slideshow": {
     "slide_type": "-"
    }
   },
   "source": [
    "$$L  = \\frac{20 F_s' (Ib/Q)}{w} $$\n",
    "\n",
    "Where:\n",
    "\n",
    "* $L$ is the distance between supports, in units of $inches$\n",
    "* $F_s'$ is the maximum allowable rolling shear stress in the panel, in units of $psi$\n",
    "* $Ib/Q$ is the rolling shear constant of the panel, in units of $in^2/ft$\n",
    "* $w$ is the uniformly distributed load on the panel, in units of $plf$\n",
    "\n",
    "Sometimes this equation is written in a way that $L$ comes out in feet.  This looks like,\n",
    "\n",
    "$$L  = \\frac{F_s' (Ib/Q)}{0.6 w} $$\n",
    "\n",
    "Note: In both versions of this equation $F_s' = F_s \\times C_D$.\n",
    "\n",
    "*( &#42; - See the slide below for the explanation of why the per unit foot procedure is used.)*"
   ]
  },
  {
   "cell_type": "markdown",
   "metadata": {
    "slideshow": {
     "slide_type": "subslide"
    }
   },
   "source": [
    "<audio controls data-autoplay preload>\n",
    " <source src=\"https://github.com/damontallen/Construction-Lectures-Fall-2014/raw/master/Lecture%20Audio/Week%206/Span%20Length%20Derivations/Explanation%20of%20why%20the%20per%20unit%20foot%20procedure%20is%20used.mp3\"\n",
    "         type='audio/mp3'>\n",
    " <p>Your user agent does not support the HTML5 Audio element or the files are missing.</p>\n",
    "</audio>"
   ]
  },
  {
   "cell_type": "markdown",
   "metadata": {},
   "source": [
    "Because plywood panels are regularly cut to irregular widths, the writing of tables that contain all the section properties, for all the possible widths, is not only a daunting task, but it would take forever to accomplish.  However, tables written in a per-unit-width basis can be used to find any section property by simply multiplying the table values by that particular plywood section's width.\n",
    "\n",
    "In practice, plywood is typically designed to resist a pressure load.  It can be shown that, if you use the pressure load in the analysis, instead of an actual line load, and you use the values straight from the per-unit-width table, you will get the same result.  The reason for this is that the width of a plywood section and the tributary width for the section are the same, and during the analysis, these two values cancel each other out."
   ]
  },
  {
   "cell_type": "markdown",
   "metadata": {
    "slideshow": {
     "slide_type": "slide"
    }
   },
   "source": [
    "## How to use the Span Length Limits"
   ]
  },
  {
   "cell_type": "markdown",
   "metadata": {
    "slideshow": {
     "slide_type": "-"
    }
   },
   "source": [
    "<audio controls data-autoplay preload>\n",
    " <source src=\"https://github.com/damontallen/Construction-Lectures-Fall-2014/raw/master/Lecture%20Audio/Week%206/Span%20Length%20Derivations/How%20to%20use%20the%20Span%20Length%20Limits.mp3\"\n",
    "         type='audio/mp3'>\n",
    " <p>Your user agent does not support the HTML5 Audio element or the files are missing.</p>\n",
    "</audio>"
   ]
  },
  {
   "cell_type": "markdown",
   "metadata": {},
   "source": [
    "In this class, our typical set of span length equations are:\n",
    "\n",
    "$$L = 10.95 \\times \\sqrt{\\frac{F_b' \\times S }{w}} \\text{ (For bending)}$$\n",
    "$$L = 13.33\\times \\frac{F_v' \\times A}{w} + 2d \\text{ (For shear for everthing but plywood)}$$ \n",
    "$$L = \\frac{20 F_s' (Ib/Q)}{w} \\text{ (For rolling shear for plywood only)}$$\n",
    "$$L = 1.69 \\sqrt[3]{ \\frac{ E' I}{w}} \\text{ (For limiting deflections to L/360)}$$\n",
    "$$L = 3.23 \\sqrt[4]{ \\frac{ E' I}{w}} \\text{ (For limiting deflections to 1/16\")}$$\n",
    "\n",
    "*(See the slide below for all the variable definitions.)*\n",
    "\n",
    "For a given member being used as a beam, you will solve four of these span length equations.  What you will end up with is a list of four maximum span lengths. Each of these span lengths corresponds the particular failure mode of its original equation.  Since any span greater than the smallest length will result in that member failing, and failing in the failure mode of the smallest length, we have to set the support spacing to something less than that.  For instance:\n",
    "\n",
    "* $L_{bend} = 20.5\"$\n",
    "* $L_{shear} = 36.1\"$\n",
    "* $L_{L/360} = 25.6\"$\n",
    "* $L_{1/16\"} = 23.2\"$\n",
    "\n",
    "For this beam, bending controls, and we cannot set our supports any farther apart than $20.5\"$, or the beam will fail in bending.  However, $20.5\"$ is not the *optimal* support spacing; it's just the limit.  Since this optimal value will depend on the use case, we will discuss it more when we cover formwork for walls, and again when we discuss slab forms."
   ]
  },
  {
   "cell_type": "markdown",
   "metadata": {
    "slideshow": {
     "slide_type": "subslide"
    }
   },
   "source": [
    "In the span length equations:\n",
    "\n",
    "* $L$ is the spacing between supports, in units of $inches (in)$\n",
    "* $w$ is the uniformly distributed load on the beam, in units of $plf$\n",
    "\n",
    "* $d$ is the width of the beam, in units of $in$\n",
    "* $A$ is the cross sectional area of the beam, in units of $in^2$ \n",
    "* $S$ is the section modulus of the beam, in units of $in^3$ (or $in^3/ft$ for plywood)\n",
    "* $I$ is the moment of inertia of the beam, in units of $in^4$ (or $in^4/ft$ for plywood)\n",
    "\n",
    "* $F_b'$ is the maximum allowable bending stress of the beam, in units of $psi$\n",
    "* $F_v'$ is the maximum allowable shear stress in the beam, in units of $psi$\n",
    "* $F_s'$ is the maximum allowable rolling shear stress in the panel, in units of $psi$\n",
    "* $E'$ is the adjusted Young's modulus of the beam's material, in units of $psi$\n",
    "* $Ib/Q$ is the rolling shear constant of the panel, in units of $in^2/ft$\n"
   ]
  },
  {
   "cell_type": "markdown",
   "metadata": {
    "slideshow": {
     "slide_type": "slide"
    }
   },
   "source": [
    "## References:"
   ]
  },
  {
   "cell_type": "markdown",
   "metadata": {
    "slideshow": {
     "slide_type": "-"
    }
   },
   "source": [
    "[APA Panel Design Specification](http://www.apawood.org/SearchResults.aspx?q=d510&tid=1)\n",
    "\n",
    "[Class website](https://ufl.instructure.com/courses/) *(Use this link to if you are taking the course on e-learning.)*\n",
    "\n",
    "[Github.io version of course website](http://damontallen.github.io/Construction-Lectures-Fall-2014/) *(Do not use this link if you are taking this course in Summer A or B.)*\n",
    "\n",
    "[IPython.org](http://ipython.org/) *(IPython is the opensource software used in the development of much of this course.)*\n",
    "\n",
    "[Complete Software List](http://nbviewer.ipython.org/github/damontallen/Construction-Lectures-Fall-2014/blob/master/Resources.ipynb)"
   ]
  },
  {
   "cell_type": "markdown",
   "metadata": {
    "slideshow": {
     "slide_type": "skip"
    }
   },
   "source": [
    "CSS stylesheet\n",
    "\n",
    "<head>\n",
    "<style>\n",
    "important {font:italic bold 16px arial;}\n",
    ".missing {color:Red}\n",
    "fragment {color:LightBlue;}\n",
    "subslide {color:DarkBlue;}\n",
    "\n",
    ".rgt {float:right;}\n",
    "\n",
    ".lt {float:left;}\n",
    "\n",
    ".cnt {text-align:center; vertical-align:text-top;}\n",
    "\n",
    ".box { border:1px solid blue; float:left; margin-right:3px;}\n",
    "\n",
    ".max {max-width:300px; max-height:300px;}\n",
    "\n",
    ".fix {max-height:200px; max-width:200px;}\n",
    "\n",
    "</style>\n",
    "</head>\n",
    "\n",
    "    ###Useful Tip:\n",
    "\n",
    "    If you use Firefox or Chrome then installing one of the following extensions will make viewing images in lectures easier.\n",
    "    \n",
    "    * Firefox - [Thumbnail Zoom Plus](https://addons.mozilla.org/en-US/firefox/addon/thumbnail-zoom-plus/?src=search)\n",
    "    * Chrome - [Hover Free](https://chrome.google.com/webstore/detail/hover-free/hcmnnggnaofmhflgomfjfbndngdoogkj) (Not to be confused with Hover Zoom.)\n",
    "\n",
    "    /* class = \"max box\" for img tags\n",
    "    \n",
    "    \n",
    "    Audio Player:\n",
    "    <audio controls data-autoplay preload>\n",
    "     <source src=\"https://github.com/damontallen/Construction-Lectures-Fall-2014/raw/master/Intro/FILE%20NAME.mp3\"\n",
    "             type='audio/mp3'>\n",
    "     <p><strong>Your user agent does not support the HTML5 Audio element or the files are missing.</strong></p>\n",
    "    </audio><a></a>\n",
    "    \n",
    "    */\n",
    "    class = \"max box\" == style=\"max-width:300px; max-height:300px; border:1px solid blue; float:left; margin-right:3px;\"\n",
    "    important == <strong><font style=\"font:italic bold 16px arial;\"> Text here </font></strong>\n",
    "    Example <important class=\"missing\">Video Placeholder</important>\n",
    "    \n",
    "    Picture Examples: \n",
    "    (Right side)\n",
    "    <a href = \"http://i.imgur.com/h7H0m0b.png\"><img src=\"http://i.imgur.com/h7H0m0b.png\" alt = \"Elevated Slab with Worker\"style=\"max-width:300px; max-height:300px; border:1px solid blue; float:right; margin-left:10px;\"/></a>\n",
    "    \n",
    "    (Left side)\n",
    "    <a href = \"http://i.imgur.com/EWHj3eh.png\"><img src=\"http://i.imgur.com/EWHj3eh.png\" alt = \"Braced Slab\" Title = \"Braced Slab\"style=\"max-width:300px; max-height:300px; border:1px solid blue; float:left; margin-right:3px;\"/></a>\n",
    "    \n",
    "    (hover over image)\n",
    "    <a href=\"http://i.imgur.com/aTxezXX.png\" id=\"Top Down Slab\">\n",
    "        <img title=\"Top Down Slab (Bracing in the 60 ft direction)\" alt = \"Top Down Slab\"\n",
    "            src=\"http://i.imgur.com/EL2FYDQ.png\" \n",
    "            onmouseover=\"this.src='http://i.imgur.com/aTxezXX.png'\".\n",
    "            onmouseout=\"this.src='http://i.imgur.com/EL2FYDQ.png'\" \n",
    "            style=\"max-width:300px; max-height:300px; border:1px solid blue; \n",
    "                    float:right; margin-left:10px;\"/>\n",
    "    </a>\n",
    "    \n",
    "    Video:\n",
    "    <iframe width=\"420\" height=\"315\" src=\"//www.youtube.com/embed/g43sFmgHOCk\" frameborder=\"0\" allowfullscreen style=\" float:left; margin-right:20px;\"></iframe>"
   ]
  },
  {
   "cell_type": "markdown",
   "metadata": {
    "slideshow": {
     "slide_type": "skip"
    }
   },
   "source": [
    "(hover over image)\n",
    "    <a href=\"http://i.imgur.com/aTxezXX.png\" id=\"Top Down Slab\">\n",
    "        <img title=\"Top Down Slab (Bracing in the 60 ft direction)\" alt = \"Top Down Slab\"\n",
    "            src=\"http://i.imgur.com/EL2FYDQ.png\" \n",
    "            onmouseover=\"this.src='http://i.imgur.com/aTxezXX.png'\".\n",
    "            onmouseout=\"this.src='http://i.imgur.com/EL2FYDQ.png'\" \n",
    "            style=\"max-width:300px; max-height:300px; border:1px solid blue; \n",
    "                    float:right; margin-left:10px;\"/>\n",
    "    </a>"
   ]
  }
 ],
 "metadata": {
  "celltoolbar": "Slideshow",
  "kernelspec": {
   "display_name": "Python 3",
   "language": "python",
   "name": "python3"
  },
  "language_info": {
   "codemirror_mode": {
    "name": "ipython",
    "version": 3
   },
   "file_extension": ".py",
   "mimetype": "text/x-python",
   "name": "python",
   "nbconvert_exporter": "python",
   "pygments_lexer": "ipython3",
   "version": "3.4.3+"
  }
 },
 "nbformat": 4,
 "nbformat_minor": 0
}
