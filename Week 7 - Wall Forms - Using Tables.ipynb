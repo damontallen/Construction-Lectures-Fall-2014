{
 "metadata": {
  "celltoolbar": "Slideshow",
  "name": "",
  "signature": "sha256:77c9dbcb84bbdc8db665f2927a622bef0ce42e33f5428f6d95f28643e62f50f6"
 },
 "nbformat": 3,
 "nbformat_minor": 0,
 "worksheets": [
  {
   "cells": [
    {
     "cell_type": "heading",
     "level": 1,
     "metadata": {
      "slideshow": {
       "slide_type": "slide"
      }
     },
     "source": [
      "Wall Forms - Using Formwork Tables"
     ]
    },
    {
     "cell_type": "markdown",
     "metadata": {
      "slideshow": {
       "slide_type": "-"
      }
     },
     "source": [
      "<iframe width=\"420\" height=\"315\" src=\"//www.youtube.com/embed/VGpnKEDbUuk\" frameborder=\"0\" allowfullscreen></iframe>"
     ]
    },
    {
     "cell_type": "heading",
     "level": 2,
     "metadata": {
      "slideshow": {
       "slide_type": "slide"
      }
     },
     "source": [
      "What Tables?"
     ]
    },
    {
     "cell_type": "markdown",
     "metadata": {
      "slideshow": {
       "slide_type": "-"
      }
     },
     "source": [
      "<audio controls data-autoplay preload>\n",
      " <source src=\"https://github.com/damontallen/Construction-Lectures-Fall-2014/raw/master/Lecture%20Audio/Week%207/Wall%20Form%20Design%20Using%20Tables/What%20Tables.mp3\"\n",
      "         type='audio/mp3'>\n",
      " <p>Your user agent does not support the HTML5 Audio element or the files are missing.</p>\n",
      "</audio>"
     ]
    },
    {
     "cell_type": "markdown",
     "metadata": {
      "slideshow": {
       "slide_type": "-"
      }
     },
     "source": [
      "As an alternative to a strictly analytically approach, there are tables in the Formwork text that you can use.  These tables however, are limited to a smaller selection of material.  For instance, instead of plywood you will have to design using Class I Plyform if you use Table 7-2.\n",
      "\n",
      "Table 7-2 has values for 1/2\" to 1\", wet, Class I Plyform, with both $C_D = 1.0$ and $C_D = 1.25$, in either the strong, or weak orientation.  This is the only material used, in the Formwork text tables of pre-calculated span limits for sheathing.  There are other sheathing tables but they are for other support conditions, and we are only interested in sheathing supported over three or more spans.\n",
      "\n",
      "Tables 7-5, 7-6, and 7-7 are similar to the sheathing tables except for beams.  They are for different support conditions, and both duration factors.  There are more sizes than for the sheathing though, eight instead of four, or sixteen instead of four if you count the flat use orientations.  These beam tables are arranged such that the .1 version contains values found using $C_D = 1.0$, and the .2 version contains values using $C_D= 1.25$.  Both the .1 and .2 versions are for No.2 Douglas Fir-Larch lumber.  For example Table 7-5.2 contain pre-calculated span limits for No.2, Douglas Fir-Larch lumber, supported over three or more spans with a 1.25 load duration factor.  There are .3 and .4 versions of these tables as well.  They are just the same as the .1 and .2 versions, except that those values are found using No.1/No.2 grade Spruce Pine Fir.\n",
      "\n",
      "Tables 7-8 through 7-10 are for double wales.  In this case the .1 version uses No.2 Douglas Fir-Larch, and the .2 version uses Spruce Pine Fir.  Each individual table is broken up into a left and right side for, $C_D = 1.0$, and $C_D = 1.25$ respectively.  Each of these sub-tables contains span limits for nine different double wale sizes, ranging form double 2x4s to double 4x8s.\n",
      "\n",
      "We haven't done any shoring calculations yet, but Table 7-11 contains allowable axial loads of a variety of species, sizes, and effective lengths.  However, the values in this table are all found using a $C_D=1.0$.  This is not unreasonable since you are much more likely to reuse shores which means their capacity would have to be calculated using a $C_D=1.0$ anyway.  I do have a couple words of caution about using these values in the future.  First, there are six obvious typos in the table.  Second, these values correspond to an older version of the Timber code, and as such they don't exactly match up with the Florida Building Code.  I will say that these values are close, but they are not exact; some will be smaller and some will be larger than the actual allowed values.  We will talk more about Table 7-11 in the slab form modules.\n",
      "\n",
      "I will not be spending any time beyond now talking about the allowable bearing values found in Table 7-12.  I think you can figure it out by yourself, and I actually think it would be quicker calculating the values form the Timber code than using this Table.  Either way, be aware that you are responsible for using the correct (or newer) version of the building code. \n",
      "\n",
      "*(Continued on the next slide.)*"
     ]
    },
    {
     "cell_type": "markdown",
     "metadata": {
      "slideshow": {
       "slide_type": "slide"
      }
     },
     "source": [
      "<audio controls data-autoplay preload>\n",
      " <source src=\"https://github.com/damontallen/Construction-Lectures-Fall-2014/raw/master/Lecture%20Audio/Week%207/Wall%20Form%20Design%20Using%20Tables/What%20Tables%20Continued.mp3\"\n",
      "         type='audio/mp3'>\n",
      " <p>Your user agent does not support the HTML5 Audio element or the files are missing.</p>\n",
      "</audio>"
     ]
    },
    {
     "cell_type": "markdown",
     "metadata": {
      "slideshow": {
       "slide_type": "-"
      }
     },
     "source": [
      "I'll probably mention this again, but if you look at Tables 7-5 through 7-10 you will not see where it is written that they are for particular species.  Nor will you see where the $C_D$ is written in any of the tables.  That is because it isn't.  The species and $C_D$ values I've given you are based on matching the properties listed to species in the Timber Supplement, and calculating support spacing limits using various adjustment factors.  In other words, I determined this information through a trial and error.  This is another reason why I like the Timber building codes, good documentation.\n",
      "\n",
      "If you want to quickly find what table (or portion of a table) goes with what species, and which $C_D$ value, you should label the tables based on my descriptions in the previous slide.  For this class, however, I will try to specify at least which table to use for a particular problem.  If the table is divided based on load duration factor, then just remember that the higher allowable stress indicated in the table corresponds to a $C_D=1.25$."
     ]
    },
    {
     "cell_type": "heading",
     "level": 1,
     "metadata": {
      "slideshow": {
       "slide_type": "slide"
      }
     },
     "source": [
      "Wall Form"
     ]
    },
    {
     "cell_type": "markdown",
     "metadata": {
      "slideshow": {
       "slide_type": "-"
      }
     },
     "source": [
      "<audio controls data-autoplay preload>\n",
      " <source src=\"https://github.com/damontallen/Construction-Lectures-Fall-2014/raw/master/Lecture%20Audio/Week%207/Wall%20Form%20Design%20Using%20Tables/Wall%20Form.mp3\"\n",
      "         type='audio/mp3'>\n",
      " <p>Your user agent does not support the HTML5 Audio element or the files are missing.</p>\n",
      "</audio>"
     ]
    },
    {
     "cell_type": "markdown",
     "metadata": {
      "slideshow": {
       "slide_type": "-"
      }
     },
     "source": [
      "Just so we can see the process of using these tables, lets rework the previous wall form problem.  We still have to calculate the concrete pressure (and later, the line loads)."
     ]
    },
    {
     "cell_type": "heading",
     "level": 2,
     "metadata": {
      "slideshow": {
       "slide_type": "-"
      }
     },
     "source": [
      "Example Problem"
     ]
    },
    {
     "cell_type": "markdown",
     "metadata": {
      "slideshow": {
       "slide_type": "-"
      }
     },
     "source": [
      "Lateral Pressure from concrete, Max $P = 150 pcf \\times h$\n",
      "\n",
      "Pour Rate: $R\\le 7 \\frac{ft}{hr}$\n",
      "\n",
      "$\\hspace{4 cm} P = 150 +\\frac{9000 R}{T} \\le 150 pcf \\times h$\n",
      "\n",
      "Pour Rate: $ 7 \\frac{ft}{hr}< R \\le 10 \\frac{ft}{hr}$\n",
      "\n",
      "$\\hspace{4 cm} P = 150 +\\frac{43,400}{T} +\\frac{2800 R}{T} \\le 150 pcf \\times h$\n",
      "\n",
      "Pour Rate: $R> 10 \\frac{ft}{hr}$\n",
      "\n",
      "$\\hspace{4 cm} P = 150 pcf \\times h \\text{ (Maximum Pressure)}$"
     ]
    },
    {
     "cell_type": "heading",
     "level": 2,
     "metadata": {
      "slideshow": {
       "slide_type": "slide"
      }
     },
     "source": [
      "Determine the Following"
     ]
    },
    {
     "cell_type": "markdown",
     "metadata": {
      "slideshow": {
       "slide_type": "-"
      }
     },
     "source": [
      "<audio controls data-autoplay preload>\n",
      " <source src=\"https://github.com/damontallen/Construction-Lectures-Fall-2014/raw/master/Lecture%20Audio/Week%207/Wall%20Form%20Design%20Using%20Tables/Determine%20the%20Following.mp3\"\n",
      "         type='audio/mp3'>\n",
      " <p>Your user agent does not support the HTML5 Audio element or the files are missing.</p>\n",
      "</audio>"
     ]
    },
    {
     "cell_type": "markdown",
     "metadata": {
      "slideshow": {
       "slide_type": "-"
      }
     },
     "source": [
      "1. Concrete Pressure\n",
      "2. Stud spacing\n",
      "3. Wale spacing\n",
      "4. Tie spacing\n",
      "5. Required tie strength\n"
     ]
    },
    {
     "cell_type": "heading",
     "level": 3,
     "metadata": {
      "slideshow": {
       "slide_type": "-"
      }
     },
     "source": [
      "Given:"
     ]
    },
    {
     "cell_type": "markdown",
     "metadata": {
      "slideshow": {
       "slide_type": "-"
      }
     },
     "source": [
      "* Height of wall = 15 ft\n",
      "* Rate of filling = 10 ft/hr\n",
      "* Temperature = 80$^o$ F\n",
      "* Concrete unit weight = 150 lb/ft$^3$\n",
      "* Wet conditions prevail\n",
      "* Limit deflection to L/360 but not greater than 1/16\"\n",
      "* All lumber will be 2x4 S4S lumber, No.2 Douglas Fir-Larch with no splits\n",
      "* Sheathing will be 3/4\" Class I Plyform\n",
      "* Use double 2x4 wales"
     ]
    },
    {
     "cell_type": "heading",
     "level": 2,
     "metadata": {
      "slideshow": {
       "slide_type": "slide"
      }
     },
     "source": [
      "Pressure"
     ]
    },
    {
     "cell_type": "markdown",
     "metadata": {
      "slideshow": {
       "slide_type": "-"
      }
     },
     "source": [
      "<audio controls data-autoplay preload>\n",
      " <source src=\"https://github.com/damontallen/Construction-Lectures-Fall-2014/raw/master/Lecture%20Audio/Week%207/Wall%20Form%20Design%20Using%20Tables/Pressure.mp3\"\n",
      "         type='audio/mp3'>\n",
      " <p>Your user agent does not support the HTML5 Audio element or the files are missing.</p>\n",
      "</audio>"
     ]
    },
    {
     "cell_type": "code",
     "collapsed": false,
     "input": [
      "%run Older_Classes/Temp_struc.py\n",
      "R = 10\n",
      "T = 80\n",
      "h = 15\n",
      "P_ = Pressure(R,T,h)\n",
      "P=P_[\"value\"]"
     ],
     "language": "python",
     "metadata": {
      "slideshow": {
       "slide_type": "skip"
      }
     },
     "outputs": [],
     "prompt_number": 1
    },
    {
     "cell_type": "code",
     "collapsed": false,
     "input": [
      "P_['work']"
     ],
     "language": "python",
     "metadata": {
      "slideshow": {
       "slide_type": "-"
      }
     },
     "outputs": [
      {
       "latex": [
        "$$\\text{Since R = 10}\\frac{ft}{hr}  \\text{ then } P =  150 + \\frac{43,400}{T} + \\frac{2800 \\times R}{T}$$ \n",
        "${}$\n",
        " $$P = 150 + \\frac{43,400}{ 80 }+\\frac{2800 \\times 10 }{ 80 } =  1042 psf $$ \n",
        "${}$\n",
        " $$P_{max} = 150 pcf \\times h= 150 pcf \\times 15 ft$$ \n",
        "${}$\n",
        " $$P_{max} = 2250 psf$$ \n",
        "${}$\n",
        " $$\\text{Therefore }P =  1042 psf $$ \n",
        "${}$\n",
        " "
       ],
       "metadata": {},
       "output_type": "pyout",
       "prompt_number": 2,
       "text": [
        "<IPython.core.display.Latex at 0x7f3a4c292f98>"
       ]
      }
     ],
     "prompt_number": 2
    },
    {
     "cell_type": "heading",
     "level": 2,
     "metadata": {
      "slideshow": {
       "slide_type": "slide"
      }
     },
     "source": [
      "Plywood Analysis (Stud Spacing)"
     ]
    },
    {
     "cell_type": "markdown",
     "metadata": {
      "slideshow": {
       "slide_type": "-"
      }
     },
     "source": [
      "<audio controls data-autoplay preload>\n",
      " <source src=\"https://github.com/damontallen/Construction-Lectures-Fall-2014/raw/master/Lecture%20Audio/Week%207/Wall%20Form%20Design%20Using%20Tables/Plywood%20Analysis%20(Stud%20Spacing).mp3\"\n",
      "         type='audio/mp3'>\n",
      " <p>Your user agent does not support the HTML5 Audio element or the files are missing.</p>\n",
      "</audio>"
     ]
    },
    {
     "cell_type": "markdown",
     "metadata": {
      "slideshow": {
       "slide_type": "-"
      }
     },
     "source": [
      "<a href = \"http://i.imgur.com/NnwmzD3.png\"><img src=\"http://i.imgur.com/NnwmzD3.png\" alt = \"Formwork for Concrete Table 7-2\" title = \"Formwork for Concrete Table 7-2\" style=\"max-width:200px; max-height:200px; border:1px solid blue; float:right; margin-left:10px;\"/></a>\n",
      "\n",
      "Since the problem statement did not indicate otherwise, the load duration factor $C_D = 1.25$.  This means,we are using the left hand side of Table 7-2.  The concrete pressure is pretty close to the $1,000 psf$ in the left hand column, but it is over.  This illiterates the first problem with using these tables, there are not exact values listed for every case.  However, as a rule of thumb (taken with a gain of salt...), if the value is within 5% of a lower pressure, you can use that pressure.  This means that you can use the values at $1,000 psf$ in this class; in your professional life, I recommend using the spreadsheets you write in this class.\n",
      "\n",
      "For $3/4\"$ Class I Plyform, subjected to a $1,000 psf$ pressure load, using a 7 day load duration factor, orientating the Plyform in the strong direction (grain perpendicular to the supports), and supported over three or more spans, the maximum support spacing is $10\"$.  Or in other words read down to $1,000 psf$ in the first column and then read over to the first $3/4\"$ column, to find the allowable spacing of $10\"$.\n",
      "\n",
      "For the purposes of preparing you for the [AIC exam](http://www.professionalconstructor.org/exam-info), I am telling you to not determine the constructible spacings for any problem in this course that is solved using these tables.  This means that our stud spacing *will be* $10\"$ on center.\n",
      "\n",
      "During the AIC exam this will be the correct answer even though, in practice, this is going to be incorrect."
     ]
    },
    {
     "cell_type": "heading",
     "level": 2,
     "metadata": {
      "slideshow": {
       "slide_type": "slide"
      }
     },
     "source": [
      "Wale Spacing (Stud Support)"
     ]
    },
    {
     "cell_type": "markdown",
     "metadata": {
      "slideshow": {
       "slide_type": "-"
      }
     },
     "source": [
      "<audio controls data-autoplay preload>\n",
      " <source src=\"https://github.com/damontallen/Construction-Lectures-Fall-2014/raw/master/Lecture%20Audio/Week%207/Wall%20Form%20Design%20Using%20Tables/Wale%20Spacing%20(Stud%20Support).mp3\"\n",
      "         type='audio/mp3'>\n",
      " <p>Your user agent does not support the HTML5 Audio element or the files are missing.</p>\n",
      "</audio>"
     ]
    },
    {
     "cell_type": "markdown",
     "metadata": {
      "slideshow": {
       "slide_type": "-"
      }
     },
     "source": [
      "We need to determine the new line load to calculate the spacing of the stud supports."
     ]
    },
    {
     "cell_type": "code",
     "collapsed": false,
     "input": [
      "stud=two_by_four() \n",
      "stud.F_b = 900 #psi\n",
      "stud.F_v = 180 #psi\n",
      "stud.F_c_p = 625 #psi\n",
      "stud.E = 1600000 #psi\n",
      "stud.C_D = 1.25\n",
      "stud.C_F = 1.5\n",
      "stud.C_M.wet=True\n",
      "stud.spacing = 10 #for C_r\n",
      "stud.connected = True #for C_r\n",
      "w_ = line_load(P,10/12)\n",
      "w=w_['value']"
     ],
     "language": "python",
     "metadata": {
      "slideshow": {
       "slide_type": "skip"
      }
     },
     "outputs": [],
     "prompt_number": 3
    },
    {
     "cell_type": "code",
     "collapsed": false,
     "input": [
      "w_['work']"
     ],
     "language": "python",
     "metadata": {
      "slideshow": {
       "slide_type": "-"
      }
     },
     "outputs": [
      {
       "latex": [
        "$$\\text{Line load} = w = \\text{pressure}\\times\\text{tributary width}$$ $$w = P \\times s = 1042.5 psf \\times 10.0\" \\times \\frac{1 ft}{12 in}$$$$w = 868.75 plf$$"
       ],
       "metadata": {},
       "output_type": "pyout",
       "prompt_number": 4,
       "text": [
        "<IPython.core.display.Latex at 0x7f3a2fb14c88>"
       ]
      }
     ],
     "prompt_number": 4
    },
    {
     "cell_type": "markdown",
     "metadata": {
      "slideshow": {
       "slide_type": "-"
      }
     },
     "source": [
      "<a href = \"http://i.imgur.com/BahdSNW.png\"><img src=\"http://i.imgur.com/BahdSNW.png\" alt = \"Formwork for Concrete Table 7-5.*\" title = \"Formwork for Concrete Table 7-5.*\" style=\"max-width:200px; max-height:200px; border:1px solid blue; float:right; margin-left:10px;\"/></a>\n",
      "\n",
      "Now we look up the allowable support spacings for the studs in Table 7-5, again because the studs are being supported over three or more spans.  Since, we are using Douglass Fir-Larch and $C_D=1.25$ we will specifically use Table 7-5.2, (if we are reusing the studs again in another form, then we would look in Table 7-5.1).\n",
      "\n",
      "Reading down to $900 plf$ in the pressure column and over to the 2x4 column, (not the 4x2 column since that is for a 2x4 on the flat) we find that the maximum support spacings for the studs is $25\"$."
     ]
    },
    {
     "cell_type": "heading",
     "level": 3,
     "metadata": {
      "slideshow": {
       "slide_type": "slide"
      }
     },
     "source": [
      "Wale Bearing Stress Check"
     ]
    },
    {
     "cell_type": "markdown",
     "metadata": {
      "slideshow": {
       "slide_type": "-"
      }
     },
     "source": [
      "<audio controls data-autoplay preload>\n",
      " <source src=\"https://github.com/damontallen/Construction-Lectures-Fall-2014/raw/master/Lecture%20Audio/Week%207/Wall%20Form%20Design%20Using%20Tables/Wale%20Bearing%20Stress%20Check.mp3\"\n",
      "         type='audio/mp3'>\n",
      " <p>Your user agent does not support the HTML5 Audio element or the files are missing.</p>\n",
      "</audio>"
     ]
    },
    {
     "cell_type": "markdown",
     "metadata": {
      "slideshow": {
       "slide_type": "-"
      }
     },
     "source": [
      "\n",
      "<a href = \"http://i.imgur.com/z279ije.png\"><img src=\"http://i.imgur.com/z279ije.png\" alt = \"Bearing Area\" title = \"Bearing Area\"style=\"max-width:300px; max-height:300px; border:1px solid blue; float:right; margin-left:10px;\"/></a>\n",
      "\n",
      "We still would have to check the bearing stress the same way as before.\n",
      "\n",
      "$A_{bearing} = (1.5\" \\times 1.5\") \\times 2 = 4.5 in^2$\n",
      "\n",
      "The load that is on that area is the pressure times the tributary area, or,\n",
      "\n",
      "$\\text{Bearing Load } = P_{bearing} = P \\times A_{trib}$\n",
      "\n",
      "$P_{bearing} = P \\times s_{stud} \\times s_{wale}$\n",
      "\n",
      "$P_{bearing} = 1042 psf \\times 10 in \\times 25 in \\times \\left(\\frac{1 ft}{12 in}\\right)^2= 1810 lbs$\n",
      "\n"
     ]
    },
    {
     "cell_type": "code",
     "collapsed": false,
     "input": [
      "load = P * 25 * 10 / 144"
     ],
     "language": "python",
     "metadata": {
      "slideshow": {
       "slide_type": "skip"
      }
     },
     "outputs": [],
     "prompt_number": 5
    },
    {
     "cell_type": "code",
     "collapsed": false,
     "input": [
      "bearing_check(stud,load)"
     ],
     "language": "python",
     "metadata": {
      "slideshow": {
       "slide_type": "-"
      }
     },
     "outputs": [
      {
       "latex": [
        "$$f_{c,\\perp} = \\frac{P_{bearing}}{A_{bearing}} = \\frac{ 1810 lb }{ 4.50 in^2 }= 402.20 psi $$ \n",
        "${}$\n",
        " $$F_{c,\\perp}' = F_{c,\\perp} \\times C_M =  625.00 psi \\times 0.67 = 418.75 psi $$ \n",
        "${}$\n",
        " $$P_{bearing,allowed} = F_{c,\\perp}' \\times A_{bearing} =419 psi \\times  4.50 in^2 = 1884 lb $$ \n",
        "${}$\n",
        " $$\\text{Since the allowable load due to bearing is } 1884 lb \\text{ the  and the actual load is } 1810 lb \\text{,}$$ $$\\text{the wales are good in bearing.}$$ \n",
        "${}$\n",
        " "
       ],
       "metadata": {},
       "output_type": "pyout",
       "prompt_number": 6,
       "text": [
        "<IPython.core.display.Latex at 0x7f3a45c85080>"
       ]
      }
     ],
     "prompt_number": 6
    },
    {
     "cell_type": "heading",
     "level": 2,
     "metadata": {
      "slideshow": {
       "slide_type": "slide"
      }
     },
     "source": [
      "Tie Spacing (Wale Analysis)"
     ]
    },
    {
     "cell_type": "markdown",
     "metadata": {
      "slideshow": {
       "slide_type": "-"
      }
     },
     "source": [
      "<audio controls data-autoplay preload>\n",
      " <source src=\"https://github.com/damontallen/Construction-Lectures-Fall-2014/raw/master/Lecture%20Audio/Week%207/Wall%20Form%20Design%20Using%20Tables/Tie%20Spacing%20(Wale%20Analysis).mp3\"\n",
      "         type='audio/mp3'>\n",
      " <p>Your user agent does not support the HTML5 Audio element or the files are missing.</p>\n",
      "</audio>"
     ]
    },
    {
     "cell_type": "code",
     "collapsed": false,
     "input": [
      "w_ = line_load(P,25/12)"
     ],
     "language": "python",
     "metadata": {
      "slideshow": {
       "slide_type": "skip"
      }
     },
     "outputs": [],
     "prompt_number": 7
    },
    {
     "cell_type": "markdown",
     "metadata": {
      "slideshow": {
       "slide_type": "-"
      }
     },
     "source": [
      "We need to determine the new line load to calculate the spacing of the wale supports."
     ]
    },
    {
     "cell_type": "code",
     "collapsed": false,
     "input": [
      "w_['work']"
     ],
     "language": "python",
     "metadata": {
      "slideshow": {
       "slide_type": "-"
      }
     },
     "outputs": [
      {
       "latex": [
        "$$\\text{Line load} = w = \\text{pressure}\\times\\text{tributary width}$$ $$w = P \\times s = 1042.5 psf \\times 25.0\" \\times \\frac{1 ft}{12 in}$$$$w = 2171.88 plf$$"
       ],
       "metadata": {},
       "output_type": "pyout",
       "prompt_number": 8,
       "text": [
        "<IPython.core.display.Latex at 0x7f3a4c296a20>"
       ]
      }
     ],
     "prompt_number": 8
    },
    {
     "cell_type": "markdown",
     "metadata": {
      "slideshow": {
       "slide_type": "-"
      }
     },
     "source": [
      "<a href = \"http://i.imgur.com/T2VLoFP.png\"><img src=\"http://i.imgur.com/T2VLoFP.png\" alt = \"Formwork for Concrete Table 7-8.*\" title = \"Formwork for Concrete Table 7-8.*\" style=\"max-width:200px; max-height:200px; border:1px solid blue; float:right; margin-left:10px;\"/></a>\n",
      "\n",
      "To determine the tie spacing we turn to Table 7-8.1, No.2 Douglas Fir-Larch.  The right half of the table is for $C_D = 1.25$ and we are using double 2x4 wales.  We read down to $2,200 plf$, and then over to the 2x4 column on the right half, to find that the allowable support spacing is $21\"$ on center."
     ]
    },
    {
     "cell_type": "heading",
     "level": 2,
     "metadata": {
      "slideshow": {
       "slide_type": "slide"
      }
     },
     "source": [
      "Tie Strength"
     ]
    },
    {
     "cell_type": "markdown",
     "metadata": {
      "slideshow": {
       "slide_type": "-"
      }
     },
     "source": [
      "<audio controls data-autoplay preload>\n",
      " <source src=\"https://github.com/damontallen/Construction-Lectures-Fall-2014/raw/master/Lecture%20Audio/Week%207/Wall%20Form%20Design%20Using%20Tables/Tie%20Strength.mp3\"\n",
      "         type='audio/mp3'>\n",
      " <p>Your user agent does not support the HTML5 Audio element or the files are missing.</p>\n",
      "</audio>"
     ]
    },
    {
     "cell_type": "code",
     "collapsed": false,
     "input": [
      "tie_spacing = {'in feet':21/12}\n",
      "wale_spacing = {'in feet':25/12}\n",
      "tie_strength = tie_check(P, tie_spacing, wale_spacing)"
     ],
     "language": "python",
     "metadata": {
      "slideshow": {
       "slide_type": "skip"
      }
     },
     "outputs": [],
     "prompt_number": 9
    },
    {
     "cell_type": "markdown",
     "metadata": {
      "slideshow": {
       "slide_type": "-"
      }
     },
     "source": [
      "To determine the required tie strength we need to find the load that each tie must carry.  That load is equal to the pressure times the tributary area of a tie.  This tributary area is the found by multiplying the tie spacing by the wale spacing."
     ]
    },
    {
     "cell_type": "code",
     "collapsed": false,
     "input": [
      "tie_strength['work']"
     ],
     "language": "python",
     "metadata": {
      "slideshow": {
       "slide_type": "-"
      }
     },
     "outputs": [
      {
       "latex": [
        "$$\\text{The load on the ties is,}$$ \n",
        "${}$\n",
        " $$P_{ties} = P \\times s_{ties} \\times s_{wales} =  1042 psf \\times  1.750 ft \\times  2.083 ft  =  3801 lb$$ \n",
        "${}$\n",
        " $$\\text{Use 4000 lb ties.}$$ \n",
        "${}$\n",
        " "
       ],
       "metadata": {},
       "output_type": "pyout",
       "prompt_number": 10,
       "text": [
        "<IPython.core.display.Latex at 0x7f3a2fb14780>"
       ]
      }
     ],
     "prompt_number": 10
    },
    {
     "cell_type": "heading",
     "level": 2,
     "metadata": {
      "slideshow": {
       "slide_type": "slide"
      }
     },
     "source": [
      "Summary"
     ]
    },
    {
     "cell_type": "markdown",
     "metadata": {
      "slideshow": {
       "slide_type": "-"
      }
     },
     "source": [
      "<audio controls data-autoplay preload>\n",
      " <source src=\"https://github.com/damontallen/Construction-Lectures-Fall-2014/raw/master/Lecture%20Audio/Week%207/Wall%20Form%20Design%20Using%20Tables/Summary.mp3\"\n",
      "         type='audio/mp3'>\n",
      " <p>Your user agent does not support the HTML5 Audio element or the files are missing.</p>\n",
      "</audio>"
     ]
    },
    {
     "cell_type": "markdown",
     "metadata": {
      "slideshow": {
       "slide_type": "-"
      }
     },
     "source": [
      "$\\text{With }3/4\"\\text{ Class I Plyform space the 2x4 studs every }10\"\\text{.}$\n",
      "\n",
      "$\\text{The double 2x4 wales need to be spaced }25\"\\text{ on center.}$\n",
      "\n",
      "$\\text{The }4000 lb\\text{ ties need to be spaced at }21\"\\text{ on center.}$\n",
      "\n",
      "You'll notice that the spacings are very different than what we found with the analytical approach.  This is mainly due to the fact that we sprung for the more expensive Plyform rather than just use $3/4\"$ plywood.  There are fewer calculations, but we are locked into using more expensive material.  Additionally, if we use a spreadsheet solution, we would be able to use the material we wanted, and have an exact solution.  Once the spreadsheet is set up correctly the first time, it will be easier to use than these tables.\n",
      "\n",
      "That being said, you might ask why are we bothering to learn about this?  The reason is that this material will show up on the [AIC exam](http://www.professionalconstructor.org/exam-info), and you might end up going to work for someone that believes this is the fastest way to work.  Either way, you need to be able to use these tables."
     ]
    },
    {
     "cell_type": "heading",
     "level": 2,
     "metadata": {
      "slideshow": {
       "slide_type": "slide"
      }
     },
     "source": [
      "References:"
     ]
    },
    {
     "cell_type": "markdown",
     "metadata": {
      "slideshow": {
       "slide_type": "-"
      }
     },
     "source": [
      "[Class website](https://ufl.instructure.com/courses/314024) *(Use this link to if you are taking the course on e-learning.)*\n",
      "\n",
      "[Github.io version of course website](http://damontallen.github.io/Construction-Lectures-Fall-2014/) *(Do not use this link if you are taking this course in Summer A or B.)*\n",
      "\n",
      "[IPython.org](http://ipython.org/) *(IPython is the opensource software used in the development of much of this course.)*\n",
      "\n",
      "[Complete Software List](http://nbviewer.ipython.org/github/damontallen/Construction-Lectures-Fall-2014/blob/master/Resources.ipynb)"
     ]
    },
    {
     "cell_type": "code",
     "collapsed": false,
     "input": [],
     "language": "python",
     "metadata": {
      "slideshow": {
       "slide_type": "skip"
      }
     },
     "outputs": [],
     "prompt_number": 10
    }
   ],
   "metadata": {}
  }
 ]
}