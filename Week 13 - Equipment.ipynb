{
 "metadata": {
  "celltoolbar": "Slideshow",
  "name": "",
  "signature": "sha256:0fcc13343b18cfd2f6d84dc5638b7f57eb528ac90997e190e7827e50a52a357d"
 },
 "nbformat": 3,
 "nbformat_minor": 0,
 "worksheets": [
  {
   "cells": [
    {
     "cell_type": "heading",
     "level": 1,
     "metadata": {
      "slideshow": {
       "slide_type": "slide"
      }
     },
     "source": [
      "Equipment Choice"
     ]
    },
    {
     "cell_type": "markdown",
     "metadata": {},
     "source": [
      "<iframe width=\"420\" height=\"315\" src=\"//www.youtube.com/embed/dwpfaHbI0Ak\" frameborder=\"0\" allowfullscreen></iframe>"
     ]
    },
    {
     "cell_type": "markdown",
     "metadata": {
      "slideshow": {
       "slide_type": "skip"
      }
     },
     "source": [
      "Congratulations, you have reached the final module.  At this point in your academic career you have learned a great deal and are well prepared for your professional life.  However, there is one thing still that you should practice some more prior to graduation, and that is research.  Even if you are just graduating and starting a job do not think that your education is done.  The education you have received has brought you up to the current standards and practices.  The world does not stop just because you have graduated.  It will now be up to you to stay on top of trends and technologies to remain competitive with your peers.  To that end this last module is aimed at getting you to practice the techniques that you will have to employ to keep that edge.  This time rather than me telling you what you should know, I am going to tell you what you need to find out."
     ]
    },
    {
     "cell_type": "heading",
     "level": 2,
     "metadata": {
      "slideshow": {
       "slide_type": "slide"
      }
     },
     "source": [
      "Description"
     ]
    },
    {
     "cell_type": "markdown",
     "metadata": {
      "slideshow": {
       "slide_type": "-"
      }
     },
     "source": [
      "<audio controls data-autoplay preload>\n",
      " <source src=\"https://github.com/damontallen/Construction-Lectures-Fall-2014/raw/master/Lecture%20Audio/Week%2013/Equipment/Description.mp3\"\n",
      "         type='audio/mp3'>\n",
      " <p>Your user agent does not support the HTML5 Audio element or the files are missing.</p>\n",
      "</audio>"
     ]
    },
    {
     "cell_type": "markdown",
     "metadata": {
      "slideshow": {
       "slide_type": "-"
      }
     },
     "source": [
      "Firstly, let's set the scope of what needs to be covered.  You have started a new job where the general contractor will be providing all of the heavy equipment, and your boss has asked you to find out what will be the best equipment for the tasks at hand.  This is a rather unusual project since it is being funded by Bill Gates, and he is only interested in completing as quickly as possible, and is willing to buy any equipment needed, new. \n",
      "\n",
      "The equipment that you will need to locate is the following:\n",
      "\n",
      "<a href = \"http://i.imgur.com/XnYEsGZ.png\"><img src=\"http://i.imgur.com/XnYEsGZ.png\" alt = \"Site Plan\" title = \"Site Plan\" style=\"max-width:300px; max-height:300px; border:1px solid blue; float:right; margin-left:10px;\"/></a>\n",
      "\n",
      "* A crane to hoist 42 ton (with a factor of safety of 5 applied) precast wall panels in place.  These walls are 35 ft long, 32 ft high, and 1 ft thick.  The crane will only be able to be located in the corner of the site (as seen on right, outlined in red) and it will have to reach the entire building, and high enough to place panels two stories up.  With the lifting beam, the crane will have to be able to lift the panels to a height of 46 ft, and a horizontal distance of 65 ft.  (Trusses also need to placed, but those can be installed quickly during what would otherwise be down time for the crane.)\n",
      "* A forklift (telescopic handler), to lift the blocks (3000 lbs with a safety factor applied) up to the mason's scaffold, at a height of 30 ft.\n",
      "* A hydraulic scissor lift for working inside the building's atrium.  But it also will be used by the HVAC contractor to install the odd, and never-before-seen, wall-tower mounted units on the outside of the building (no images available at this time).  It needs to have a lift rating of 1500 lb for personnel and equipment.  It also needs to be able to move over rough terrain and reach a height of 40 ft. \n",
      "* The painters are required to work off of an Articulating Boom, above the masons during construction.  The boom needs to be able to have a horizontal reach of 25 ft, and a vertical reach of 35 ft, but only needs a 500 lb capacity.\n",
      "\n",
      "What you boss means by best, in this case, is the equipment that will do the job, but just do the job.  Equipment that can be quickly brought in to do the work, but does not require extra space due to the site restrictions.  \n",
      "\n",
      "Again, he does not care about price, just equipment that most closely matches the specifications of the job at hand.  Odds are that there will only be one or two controlling factors in the equipment selection, so you will have to decide what is the critical specification that needs to be met.\n",
      "\n",
      "One last thing, you have just over heard Bill mumbling about two smaller cranes might be quicker than one big one.  If you can find a way to place two cranes (with a smaller reach) on the site at the same time, along with being able to bring the precast walls into their reach, you will be able to get future work for your company with Bill."
     ]
    },
    {
     "cell_type": "heading",
     "level": 2,
     "metadata": {
      "slideshow": {
       "slide_type": "slide"
      }
     },
     "source": [
      "Assignment Description"
     ]
    },
    {
     "cell_type": "markdown",
     "metadata": {
      "slideshow": {
       "slide_type": "-"
      }
     },
     "source": [
      "<audio controls data-autoplay preload>\n",
      " <source src=\"https://github.com/damontallen/Construction-Lectures-Fall-2014/raw/master/Lecture%20Audio/Week%2013/Equipment/Assignment%20Description.mp3\"\n",
      "         type='audio/mp3'>\n",
      " <p>Your user agent does not support the HTML5 Audio element or the files are missing.</p>\n",
      "</audio>"
     ]
    },
    {
     "cell_type": "markdown",
     "metadata": {
      "slideshow": {
       "slide_type": "-"
      }
     },
     "source": [
      "Note: What you need to do, is lookup on the web, and find equipment that will do the job.  You need to provide either a pdf of the specifications for each piece of equipment or a url link to the specifications.  You also need to write a sentence or two explaining the criteria that you used to select this equipment, i.e. boom reach, lift capacity, etc.  \n",
      "\n",
      "Keep in mind that you cannot operate equipment while it is over the railroad, unless it is designed to operate on rails.  You also may take down part of the perimeter fence to bring in equipment, but it must be in place while the equipment is operating (consider the swinging of the crane boom).  Lastly, you need to have enough space to have any fixed crane boom laying down during assembly.\n",
      "\n",
      "This is an individual assignment.  Once you have determined the equipment you need, submit your list on Sakai.  One work of caution, read over the instructions for the assignment on the [assignments page](https://elearning2.courses.ufl.edu/portal/site/UFL-BCN4423C-40908-52014/page/d67bbb77-f3e3-48b7-8260-ad7878eebba4) prior to starting, this way you can make sure that you are recording all the details that need to be submitted along with the list.  The rubric for this assignment is [here](https://drive.google.com/file/d/0B4xhmoMLMWNVVnFpcnd3ajJ4MWM/edit?usp=sharing)."
     ]
    },
    {
     "cell_type": "heading",
     "level": 2,
     "metadata": {
      "slideshow": {
       "slide_type": "slide"
      }
     },
     "source": [
      "References:\n"
     ]
    },
    {
     "cell_type": "markdown",
     "metadata": {
      "slideshow": {
       "slide_type": "-"
      }
     },
     "source": [
      "[Class website](https://elearning2.courses.ufl.edu/portal/site/UFL-BCN4423C-40908-52014) *(Use this link to if you are taking the course on e-learning.)*\n",
      "\n",
      "[Github.io version of course website](http://damontallen.github.io/Construction-Lectures/) *(Do not use this link if you are taking this course in Summer A or B.)*\n",
      "\n",
      "[IPython.org](http://ipython.org/) *(IPython is the opensource software used in the development of much of this course.)*\n",
      "\n",
      "[Complete Software List](http://nbviewer.ipython.org/github/damontallen/Construction-Lectures-Fall-2014/blob/master/Resources.ipynb)"
     ]
    },
    {
     "cell_type": "markdown",
     "metadata": {
      "slideshow": {
       "slide_type": "skip"
      }
     },
     "source": [
      "CSS stylesheet\n",
      "\n",
      "<head>\n",
      "<style>\n",
      "important {font:italic bold 16px arial;}\n",
      ".missing {color:Red}\n",
      "fragment {color:LightBlue;}\n",
      "subslide {color:DarkBlue;}\n",
      "\n",
      ".rgt {float:right;}\n",
      "\n",
      ".lt {float:left;}\n",
      "\n",
      ".cnt {text-align:center; vertical-align:text-top;}\n",
      "\n",
      ".box { border:1px solid blue; float:left; margin-right:3px;}\n",
      "\n",
      ".max {max-width:300px; max-height:300px;}\n",
      "\n",
      ".fix {max-height:200px; max-width:200px;}\n",
      "\n",
      "</style>\n",
      "</head>\n",
      "\n",
      "    ###Useful Tip:\n",
      "\n",
      "    If you use Firefox or Chrome then installing one of the following extensions will make viewing images in lectures easier.\n",
      "    \n",
      "    * Firefox - [Thumbnail Zoom Plus](https://addons.mozilla.org/en-US/firefox/addon/thumbnail-zoom-plus/?src=search)\n",
      "    * Chrome - [Hover Free](https://chrome.google.com/webstore/detail/hover-free/hcmnnggnaofmhflgomfjfbndngdoogkj) (Not to be confused with Hover Zoom.)\n",
      "\n",
      "    /* class = \"max box\" for img tags\n",
      "    \n",
      "    \n",
      "    Audio Player:\n",
      "    <audio controls data-autoplay preload>\n",
      "     <source src=\"https://github.com/damontallen/Construction-Lectures-Fall-2014/raw/master/Intro/FILE%20NAME.mp3\"\n",
      "             type='audio/mp3'>\n",
      "     <p>Your user agent does not support the HTML5 Audio element or the files are missing.</p>\n",
      "    </audio>\n",
      "    \n",
      "    */\n",
      "    class = \"max box\" == style=\"max-width:300px; max-height:300px; border:1px solid blue; float:left; margin-right:3px;\"\n",
      "    important == <strong><font style=\"font:italic bold 16px arial;\"> Text here </font></strong>\n",
      "    Example <important class=\"missing\">Video Placeholder</important>\n",
      "    \n",
      "    Picture Examples: \n",
      "    (Right side)\n",
      "    <a href = \"http://i.imgur.com/h7H0m0b.png\"><img src=\"http://i.imgur.com/h7H0m0b.png\" alt = \"Elevated Slab with Worker\" title = \"Elevated Slab with Worker\" style=\"max-width:300px; max-height:300px; border:1px solid blue; float:right; margin-left:10px;\"/></a>\n",
      "    \n",
      "    (Left side)\n",
      "    <a href = \"http://i.imgur.com/EWHj3eh.png\"><img src=\"http://i.imgur.com/EWHj3eh.png\" alt = \"Braced Slab\" title = \"Braced Slab\"style=\"max-width:300px; max-height:300px; border:1px solid blue; float:left; margin-right:3px;\"/></a>\n",
      "    \n",
      "    (hover over image)\n",
      "    <a href=\"http://i.imgur.com/aTxezXX.png\" id=\"Top Down Slab\">\n",
      "        <img title=\"Top Down Slab (Bracing in the 60 ft direction)\" alt = \"Top Down Slab\"\n",
      "            src=\"http://i.imgur.com/EL2FYDQ.png\" \n",
      "            onmouseover=\"this.src='http://i.imgur.com/aTxezXX.png'\".\n",
      "            onmouseout=\"this.src='http://i.imgur.com/EL2FYDQ.png'\" \n",
      "            style=\"max-width:300px; max-height:300px; border:1px solid blue; \n",
      "                    float:right; margin-left:10px;\"/>\n",
      "    </a>\n",
      "    \n",
      "    Video:\n",
      "    <iframe width=\"420\" height=\"315\" src=\"http://www.youtube.com/embed/g43sFmgHOCk\" frameborder=\"0\" allowfullscreen style=\" float:left; margin-right:20px;\"></iframe>"
     ]
    },
    {
     "cell_type": "markdown",
     "metadata": {
      "slideshow": {
       "slide_type": "skip"
      }
     },
     "source": [
      "(hover over image)\n",
      "    <a href=\"http://i.imgur.com/aTxezXX.png\" id=\"Top Down Slab\">\n",
      "        <img title=\"Top Down Slab (Bracing in the 60 ft direction)\" alt = \"Top Down Slab\"\n",
      "            src=\"http://i.imgur.com/EL2FYDQ.png\" \n",
      "            onmouseover=\"this.src='http://i.imgur.com/aTxezXX.png'\".\n",
      "            onmouseout=\"this.src='http://i.imgur.com/EL2FYDQ.png'\" \n",
      "            style=\"max-width:300px; max-height:300px; border:1px solid blue; \n",
      "                    float:right; margin-left:10px;\"/>\n",
      "    </a>"
     ]
    }
   ],
   "metadata": {}
  }
 ]
}