{
 "metadata": {
  "celltoolbar": "Slideshow",
  "name": "",
  "signature": "sha256:0f811a109a356370696c4b2e4bf2fbef9a9cd7d5703f7e99a9901b9394fe0487"
 },
 "nbformat": 3,
 "nbformat_minor": 0,
 "worksheets": [
  {
   "cells": [
    {
     "cell_type": "heading",
     "level": 1,
     "metadata": {
      "slideshow": {
       "slide_type": "slide"
      }
     },
     "source": [
      "Course Introduction"
     ]
    },
    {
     "cell_type": "markdown",
     "metadata": {
      "slideshow": {
       "slide_type": "-"
      }
     },
     "source": [
      "<strong>If you haven't watched the <a href=\"http://damontallen.github.io/Construction-Lectures-Fall-2014/Week%200%20-%20Greetings.slides.html#/\">greeting presentation</a>, go and watch it now.</strong>"
     ]
    },
    {
     "cell_type": "markdown",
     "metadata": {
      "slideshow": {
       "slide_type": "-"
      }
     },
     "source": [
      "<iframe width=\"420\" height=\"315\" src=\"//www.youtube.com/embed/esBS4kGvxzI\" frameborder=\"0\" allowfullscreen></iframe>"
     ]
    },
    {
     "cell_type": "heading",
     "level": 2,
     "metadata": {
      "slideshow": {
       "slide_type": "slide"
      }
     },
     "source": [
      "Class Website Information"
     ]
    },
    {
     "cell_type": "markdown",
     "metadata": {
      "slideshow": {
       "slide_type": "-"
      }
     },
     "source": [
      "<audio controls data-autoplay preload>\n",
      " <source src=\"https://github.com/damontallen/Construction-Lectures-Fall-2014/raw/master/Lecture%20Audio/Week%201/Class%20Introduction/Class%20Website%20Information.mp3\"\n",
      "         type='audio/mp3'>\n",
      " <p>Your user agent does not support the HTML5 Audio element or the files is missing.</p>\n",
      "</audio>"
     ]
    },
    {
     "cell_type": "markdown",
     "metadata": {
      "slideshow": {
       "slide_type": "-"
      }
     },
     "source": [
      "* [FAQ Page](https://ufl.instructure.com/courses//discussion_topics)\n",
      "* [Announcements Page](https://ufl.instructure.com/courses//announcements)\n",
      "* [Course Modules](https://ufl.instructure.com/courses//modules)\n",
      "* [Syllabus Page](https://ufl.instructure.com/courses//assignments/syllabus)\n",
      "    * [Rubrics](http://nbviewer.ipython.org/github/damontallen/Construction-Lectures-Fall-2014/blob/master/Rubrics%20and%20Excel%20Help.ipynb)\n",
      "    * [Reference Material](https://www.dropbox.com/sh/45osbsljpnks8vb/1dqj8jf7M6)\n",
      "    \n",
      "*(Click down for links to specific Rubrics on how assignments will be graded, Example assignments, and Team Division of Labor.)*"
     ]
    },
    {
     "cell_type": "markdown",
     "metadata": {
      "slideshow": {
       "slide_type": "subslide"
      }
     },
     "source": [
      "* [Hand Solution Rubric.pdf](https://drive.google.com/file/d/0B4xhmoMLMWNVUDgwSDNqa3U4eE0/edit?usp=sharing)\n",
      "* [Hand Verification Rubric.pdf](https://drive.google.com/file/d/0B4xhmoMLMWNVcmdPX19Jbkt6Snc/edit?usp=sharing)\n",
      "* [Spreadsheet Solution Rubric.pdf](https://drive.google.com/file/d/0B4xhmoMLMWNVTFZjbXNWblItX28/edit?usp=sharing)\n",
      "* [Spreadsheet Documentation Rubric.pdf](https://drive.google.com/file/d/0B4xhmoMLMWNVOWpDZ3pBWm5pdlE/edit?usp=sharing)\n",
      "* [Timber Beam Spreadsheet Example.pdf](https://drive.google.com/file/d/0B4xhmoMLMWNVS2w1alpuOUJhSWs/edit?usp=sharing)\n",
      "* [Beam Problem Example.pdf](https://drive.google.com/file/d/0B4xhmoMLMWNVYW1oNnQ0UHdPU28/edit?usp=sharing)\n",
      "* [Team Division of Labor for Spreadsheet Assignments.pdf](https://drive.google.com/file/d/0B4xhmoMLMWNVVkVEMjQ2ZE5ud0U/edit?usp=sharing)"
     ]
    },
    {
     "cell_type": "heading",
     "level": 2,
     "metadata": {
      "slideshow": {
       "slide_type": "slide"
      }
     },
     "source": [
      "Syllabus and Grading"
     ]
    },
    {
     "cell_type": "heading",
     "level": 3,
     "metadata": {
      "slideshow": {
       "slide_type": "-"
      }
     },
     "source": [
      "Description of Course:"
     ]
    },
    {
     "cell_type": "markdown",
     "metadata": {
      "slideshow": {
       "slide_type": "-"
      }
     },
     "source": [
      "<audio controls data-autoplay preload>\n",
      " <source src=\"https://github.com/damontallen/Construction-Lectures-Fall-2014/raw/master/Lecture%20Audio/Week%201/Class%20Introduction/Description%20of%20Course.mp3\"\n",
      "         type='audio/mp3'>\n",
      " <p>Your user agent does not support the HTML5 Audio element or the files is missing.</p>\n",
      "</audio>"
     ]
    },
    {
     "cell_type": "markdown",
     "metadata": {
      "slideshow": {
       "slide_type": "-"
      }
     },
     "source": [
      "\n",
      "\n",
      "\n",
      "To study the temporary structures that contractors have to build in order to construct the primary structure. This includes formwork, scaffolding, support excavation systems, and equipment for hoisting materials, personnel, and erecting structures.\n",
      "\n",
      "*(Be sure to click the blue down arrow to see more about the syllabus and grading.)*"
     ]
    },
    {
     "cell_type": "heading",
     "level": 3,
     "metadata": {
      "slideshow": {
       "slide_type": "subslide"
      }
     },
     "source": [
      "Course Activities:"
     ]
    },
    {
     "cell_type": "markdown",
     "metadata": {
      "slideshow": {
       "slide_type": "-"
      }
     },
     "source": [
      "<audio controls data-autoplay preload>\n",
      " <source src=\"https://github.com/damontallen/Construction-Lectures-Fall-2014/raw/master/Lecture%20Audio/Week%201/Class%20Introduction/Course%20Activities.mp3\"\n",
      "         type='audio/mp3'>\n",
      " <p>Your user agent does not support the HTML5 Audio element or the files is missing.</p>\n",
      "</audio>"
     ]
    },
    {
     "cell_type": "markdown",
     "metadata": {
      "slideshow": {
       "slide_type": "-"
      }
     },
     "source": [
      "\n",
      "\n",
      "* Lectures \n",
      "* Discussion board practice problems \n",
      "* Team projects\n",
      "* Individual assignments\n",
      "* Quizzes\n",
      "* Field trip(s) (as scheduling permits).  \n",
      "    * Be aware that protective equipment is required for Field trip(s), i.e. work boots, safety glasses, hardhat, etc, and that you would be denied admittance without it.\n",
      "\n"
     ]
    },
    {
     "cell_type": "heading",
     "level": 3,
     "metadata": {
      "slideshow": {
       "slide_type": "subslide"
      }
     },
     "source": [
      "Grading:"
     ]
    },
    {
     "cell_type": "markdown",
     "metadata": {
      "slideshow": {
       "slide_type": "-"
      }
     },
     "source": [
      "<audio controls data-autoplay preload>\n",
      " <source src=\"https://github.com/damontallen/Construction-Lectures-Fall-2014/raw/master/Lecture%20Audio/Week%201/Class%20Introduction/Grading%20Scale.mp3\"\n",
      "         type='audio/mp3'>\n",
      " <p>Your user agent does not support the HTML5 Audio element or the files is missing.</p>\n",
      "</audio>"
     ]
    },
    {
     "cell_type": "markdown",
     "metadata": {
      "slideshow": {
       "slide_type": "-"
      }
     },
     "source": [
      "\n",
      "\n",
      "<Table  align=\"center\">\n",
      " <caption><strong>Grading Apportionment</strong></caption>\n",
      " <tr><th>Type</th><th>Value</th></tr>\n",
      "<tr><td>Individual Assignments</td><td> <div class=\"rgt\">20%</div></td></tr>\n",
      "<tr><td>Team Assignments</td><td> <div class=\"rgt\">20%</div></td></tr>\n",
      "<tr><td>Participation in Class Discussions</td><td> <div class=\"rgt\">10%</div></td></tr>\n",
      "<tr><td>Participation Laboratory</td><td> <div class=\"rgt\">10%</div></td></tr>\n",
      "<tr><td>Quizzes</td><td> <div class=\"rgt\">10%</div></td></tr>\n",
      "<tr><td>Tests</td><td> <div class=\"rgt\">20%</div></td></tr>\n",
      "<tr><td>Final Project</td><td>   <div class=\"rgt\">10%</div></td></tr>\n",
      "<tr><td><strong>Total</strong></td><td><strong>100%</strong></td></tr>\n",
      "</Table>\n",
      "\n",
      "<Table  align=\"center\">\n",
      "<caption><strong>Grading Scale</strong></caption>\n",
      "<tr><td>A-: 90% - 92.9%</td><td colspan=\"2\">A: 93% - 100%</td></tr>\n",
      "<tr><td>B-: 80% - 82.9%</td><td>B: 83% - 86.9%</td><td>B+: 87% - 89.9%</td></tr>\n",
      "<tr><td>C-: 70% - 72.9%</td><td>C: 73% - 76.9%</td><td>C+: 77% - 79.9%</td></tr>\n",
      "<tr><td>D-: 60% - 62.9%</td><td>D: 63% - 66.9%</td><td>D+: 67% - 69.9%</td></tr>\n",
      "<tr><td colspan=\"3\">E-: &lt; 60%</td></tr>\n",
      "</Table>"
     ]
    },
    {
     "cell_type": "heading",
     "level": 2,
     "metadata": {
      "slideshow": {
       "slide_type": "slide"
      }
     },
     "source": [
      "Why Are Temporary Structures Important"
     ]
    },
    {
     "cell_type": "markdown",
     "metadata": {
      "slideshow": {
       "slide_type": "-"
      }
     },
     "source": [
      "<audio controls data-autoplay preload>\n",
      " <source src=\"https://github.com/damontallen/Construction-Lectures-Fall-2014/raw/master/Intro/Why%20audio.mp3\"\n",
      "         type='audio/mp3'>\n",
      " <p>Your user agent does not support the HTML5 Audio element or the file is missing.</p>\n",
      "</audio>"
     ]
    },
    {
     "cell_type": "markdown",
     "metadata": {
      "slideshow": {
       "slide_type": "-"
      }
     },
     "source": [
      "When I have asked this question to students in the past I have gotten answers like:\n",
      "\n",
      "* So we don\u2019t get sued.\n",
      "\n",
      "Temporary structures are really the most important type of structures you as a contractor\n",
      "or project manager will have to build. These structures are built by you, used by you,\n",
      "and demolished by you. The common denominator in this is you. Because these\n",
      "structures are only used by the construction industry, most of the time you will not have\n",
      "an outside inspector looking at them telling you that they are dangerous.\n",
      "\n",
      "This is the reason that it is so important that you know how to construct them correctly.\n",
      "That is to say, it is in your best interest that they are built safely and cost effective.\n",
      "On a personal note, you might be walking under that slab form, or standing on that\n",
      "scaffold, or inspecting work at the bottom of that trench when there is a collapse. So, if\n",
      "for no other reason than self-preservation, you should know how to build them correctly.\n",
      "\n",
      "*(Press the down arrow again to see images of scaffolding, a trench collapse and formwork.)*"
     ]
    },
    {
     "cell_type": "markdown",
     "metadata": {
      "slideshow": {
       "slide_type": "subslide"
      }
     },
     "source": [
      "<a></a>\n",
      "\n",
      "<a title=\"By Sam Effron [CC-BY-SA-2.0 (http://creativecommons.org/licenses/by-sa/2.0)], via Wikimedia Commons\" href=\"http://upload.wikimedia.org/wikipedia/commons/thumb/2/23/Addis_Abeba_Wood_Scaffold_%28Sam_Effron%29.jpg/397px-Addis_Abeba_Wood_Scaffold_%28Sam_Effron%29.jpg\"><img  alt=\"Addis Abeba Wood Scaffold (Sam Effron)\" src=\"//upload.wikimedia.org/wikipedia/commons/thumb/2/23/Addis_Abeba_Wood_Scaffold_%28Sam_Effron%29.jpg/256px-Addis_Abeba_Wood_Scaffold_%28Sam_Effron%29.jpg\"/   style=\"max-width:300px; max-height:300px; border:1px solid blue; float:left; margin-right:3px;\"></a>\n",
      "\n",
      "<a title=\"Soldiers from 911th U.S. Army Technical Rescue Engineer Company and Marines from Chemical Biological Incident Response Force's Technical Rescue Platoon work to stabilize a trench before attempting to enter and extract two \u201cvictims\u201d after a simulated collapse during CBIRF's annual 72-hour technical rescue training operation at the Downey Responder Training Facility. This joint 72-hour technical rescue training operation at DRTF allowed the two units take the opportunity to train together to build a good working relationship and familiarity of each other\u2019s capabilities and limitations. Since both units cover the National Capitol Region, in the event of a disaster, both units would work side by side., via Wikimedia Commons\" href=\"http://upload.wikimedia.org/wikipedia/commons/thumb/2/29/USMC-120110-M-WC814-010.jpg/400px-USMC-120110-M-WC814-010.jpg\"><img  alt=\"USMC-120110-M-WC814-010\" src=\"//upload.wikimedia.org/wikipedia/commons/thumb/2/29/USMC-120110-M-WC814-010.jpg/256px-USMC-120110-M-WC814-010.jpg\"/   style=\"max-width:300px; max-height:300px; border:1px solid blue; float:left; margin-right:3px;\"></a>\n",
      "\n",
      "<a title=\"By STALFORM Engineering (Own work) [CC-BY-SA-3.0 (http://creativecommons.org/licenses/by-sa/3.0)], via Wikimedia Commons\" href=\"http://upload.wikimedia.org/wikipedia/commons/thumb/7/77/Mobil_Formwork_system_Stalform_for_underground_construction._%D0%9C%D0%B5%D1%85%D0%B0%D0%BD%D0%B8%D0%B7%D0%B8%D1%80%D0%BE%D0%B2%D0%B0%D0%BD%D0%BD%D0%B0%D1%8F_%D0%BE%D0%BF%D0%B0%D0%BB%D1%83%D0%B1%D0%BA%D0%B0_%D0%B4%D0%BB%D1%8F_%D1%83%D1%81%D0%BA%D0%BE%D1%80%D0%B5%D0%BD%D0%BD%D0%BE%D0%B3%D0%BE_%D1%81%D1%82%D1%80%D0%BE%D0%B8%D1%82%D0%B5%D0%BB%D1%8C%D1%81%D1%82%D0%B2%D0%B0_%D1%81%D1%82%D0%B0%D0%BD%D1%86%D0%B8%D0%B8_%D0%BC%D0%B5%D1%82%D1%80%D0%BE_%D0%A2%D1%80%D0%BE%D0%BF%D0%B0%D1%80%D0%B5%D0%B2%D0%BE.jpg/800px-thumbnail.jpg\"><img  alt=\"Mobil Formwork system Stalform for underground construction. \u041c\u0435\u0445\u0430\u043d\u0438\u0437\u0438\u0440\u043e\u0432\u0430\u043d\u043d\u0430\u044f \u043e\u043f\u0430\u043b\u0443\u0431\u043a\u0430 \u0434\u043b\u044f \u0443\u0441\u043a\u043e\u0440\u0435\u043d\u043d\u043e\u0433\u043e \u0441\u0442\u0440\u043e\u0438\u0442\u0435\u043b\u044c\u0441\u0442\u0432\u0430 \u0441\u0442\u0430\u043d\u0446\u0438\u0438 \u043c\u0435\u0442\u0440\u043e \u0422\u0440\u043e\u043f\u0430\u0440\u0435\u0432\u043e\" src=\"//upload.wikimedia.org/wikipedia/commons/thumb/7/77/Mobil_Formwork_system_Stalform_for_underground_construction._%D0%9C%D0%B5%D1%85%D0%B0%D0%BD%D0%B8%D0%B7%D0%B8%D1%80%D0%BE%D0%B2%D0%B0%D0%BD%D0%BD%D0%B0%D1%8F_%D0%BE%D0%BF%D0%B0%D0%BB%D1%83%D0%B1%D0%BA%D0%B0_%D0%B4%D0%BB%D1%8F_%D1%83%D1%81%D0%BA%D0%BE%D1%80%D0%B5%D0%BD%D0%BD%D0%BE%D0%B3%D0%BE_%D1%81%D1%82%D1%80%D0%BE%D0%B8%D1%82%D0%B5%D0%BB%D1%8C%D1%81%D1%82%D0%B2%D0%B0_%D1%81%D1%82%D0%B0%D0%BD%D1%86%D0%B8%D0%B8_%D0%BC%D0%B5%D1%82%D1%80%D0%BE_%D0%A2%D1%80%D0%BE%D0%BF%D0%B0%D1%80%D0%B5%D0%B2%D0%BE.jpg/512px-thumbnail.jpg\"/ style=\"max-width:300px; max-height:300px; border:1px solid blue; float:left; margin-right:3px;\"></a>\n",
      "\n",
      "\n"
     ]
    },
    {
     "cell_type": "markdown",
     "metadata": {
      "slideshow": {
       "slide_type": "-"
      }
     },
     "source": [
      "<p><em>(Press the blue right arrow at the bottom right to move onto Team Assignments.)</em></p>"
     ]
    },
    {
     "cell_type": "heading",
     "level": 2,
     "metadata": {
      "slideshow": {
       "slide_type": "slide"
      }
     },
     "source": [
      "Team Assignments"
     ]
    },
    {
     "cell_type": "markdown",
     "metadata": {
      "slideshow": {
       "slide_type": "-"
      }
     },
     "source": [
      "<audio controls data-autoplay preload>\n",
      " <source src=\"https://github.com/damontallen/Construction-Lectures-Fall-2014/raw/master/Lecture%20Audio/Week%201/Class%20Introduction/Team%20Assignments.mp3\"\n",
      "         type='audio/mp3'>\n",
      " <p>Your user agent does not support the HTML5 Audio element or the files is missing.</p>\n",
      "</audio>"
     ]
    },
    {
     "cell_type": "markdown",
     "metadata": {},
     "source": [
      "On the first day of class I will be giving out a pre-quiz and this will aid in the pairing process.  It will be very helpful to have at least one student in each pair that is familiar with using Excel."
     ]
    },
    {
     "cell_type": "markdown",
     "metadata": {
      "slideshow": {
       "slide_type": "skip"
      }
     },
     "source": [
      "[Click here to find out what team you will be on.]() (This link will not work until I have been able to assembled the teams.)"
     ]
    },
    {
     "cell_type": "heading",
     "level": 2,
     "metadata": {
      "slideshow": {
       "slide_type": "slide"
      }
     },
     "source": [
      "First Assignment"
     ]
    },
    {
     "cell_type": "markdown",
     "metadata": {
      "slideshow": {
       "slide_type": "-"
      }
     },
     "source": [
      "<audio controls data-autoplay preload>\n",
      " <source src=\"https://github.com/damontallen/Construction-Lectures-Fall-2014/raw/master/Lecture%20Audio/Week%201/Class%20Introduction/First%20Assignment.mp3\"\n",
      "         type='audio/mp3'>\n",
      " <p>Your user agent does not support the HTML5 Audio element or the files are missing.</p>\n",
      "</audio>"
     ]
    },
    {
     "cell_type": "markdown",
     "metadata": {
      "slideshow": {
       "slide_type": "-"
      }
     },
     "source": [
      "Read the Syllabus. (In preparation for the syllabus quiz.)\n",
      "\n",
      "Read Chapters 1-3 in Hurd's Formwork for Concrete. (In preparation for quiz 1.)"
     ]
    },
    {
     "cell_type": "markdown",
     "metadata": {
      "slideshow": {
       "slide_type": "-"
      }
     },
     "source": [
      "[Click here to go to the Course Modules page.](https://ufl.instructure.com/courses//modules)"
     ]
    },
    {
     "cell_type": "heading",
     "level": 2,
     "metadata": {
      "slideshow": {
       "slide_type": "slide"
      }
     },
     "source": [
      "References:"
     ]
    },
    {
     "cell_type": "markdown",
     "metadata": {
      "slideshow": {
       "slide_type": "-"
      }
     },
     "source": [
      "\n",
      "\n",
      "[Slab form image](http://commons.wikimedia.org/wiki/File%3AMobil_Formwork_system_Stalform_for_underground_construction._%D0%9C%D0%B5%D1%85%D0%B0%D0%BD%D0%B8%D0%B7%D0%B8%D1%80%D0%BE%D0%B2%D0%B0%D0%BD%D0%BD%D0%B0%D1%8F_%D0%BE%D0%BF%D0%B0%D0%BB%D1%83%D0%B1%D0%BA%D0%B0_%D0%B4%D0%BB%D1%8F_%D1%83%D1%81%D0%BA%D0%BE%D1%80%D0%B5%D0%BD%D0%BD%D0%BE%D0%B3%D0%BE_%D1%81%D1%82%D1%80%D0%BE%D0%B8%D1%82%D0%B5%D0%BB%D1%8C%D1%81%D1%82%D0%B2%D0%B0_%D1%81%D1%82%D0%B0%D0%BD%D1%86%D0%B8%D0%B8_%D0%BC%D0%B5%D1%82%D1%80%D0%BE_%D0%A2%D1%80%D0%BE%D0%BF%D0%B0%D1%80%D0%B5%D0%B2%D0%BE.jpg)\n",
      "\n",
      "[Trench image](http://commons.wikimedia.org/wiki/File%3AUSMC-120110-M-WC814-010.jpg)\n",
      "\n",
      "<a href=\"http://commons.wikimedia.org/wiki/File%3AAddis_Abeba_Wood_Scaffold_(Sam_Effron).jpg\">Scaffolding image</a>\n",
      "\n",
      "[Class website](https://ufl.instructure.com/courses/) *(Use this link to if you are taking the course on e-learning.)*\n",
      "\n",
      "[Github.io version of course website](http://damontallen.github.io/Construction-Lectures-Fall-2014/) *(Do not use this link if you are taking this course in Summer A or B.)*\n",
      "\n",
      "[IPython.org](http://ipython.org/) *(IPython is the opensource software used in the development of much of this course.)*\n",
      "\n",
      "[Complete Software List](http://nbviewer.ipython.org/github/damontallen/Construction-Lectures-Fall-2014/blob/master/Resources.ipynb)"
     ]
    },
    {
     "cell_type": "markdown",
     "metadata": {
      "slideshow": {
       "slide_type": "skip"
      }
     },
     "source": [
      "CSS stylesheet\n",
      "\n",
      "<head>\n",
      "<style>\n",
      "important {font:italic bold 16px arial;}\n",
      ".missing {color:Red}\n",
      "fragment {color:LightBlue;}\n",
      "subslide {color:DarkBlue;}\n",
      "\n",
      ".rgt {float:right;}\n",
      "\n",
      ".lt {float:left;}\n",
      "\n",
      ".cnt {text-align:center; vertical-align:text-top;}\n",
      "\n",
      ".box { border:1px solid blue; float:left; margin-right:3px;}\n",
      "\n",
      ".max {max-width:300px; max-height:300px;}\n",
      "\n",
      ".fix {max-height:200px; max-width:200px;}\n",
      "\n",
      "</style>\n",
      "</head>\n",
      "\n",
      "    /* class = \"max box\" for img tags\n",
      "\n",
      "    <audio controls data-autoplay preload>\n",
      "     <source src=\"https://github.com/damontallen/Construction-Lectures-Fall-2014/raw/master/Intro/FILE%20NAME.mp3\"\n",
      "         type='audio/mp3'>\n",
      "     <p>Your user agent does not support the HTML5 Audio element or the files are missing.</p>\n",
      "    </audio><a></a>\n",
      "\n",
      "    */\n",
      "    class = \"max box\" == style=\"max-width:300px; max-height:300px; border:1px solid blue; float:left; margin-right:3px;\""
     ]
    },
    {
     "cell_type": "code",
     "collapsed": false,
     "input": [
      "%%javascript\n",
      "IPython.load_extensions(\"calico-spell-check\", \"calico-document-tools\", \"calico-cell-tools\");"
     ],
     "language": "python",
     "metadata": {},
     "outputs": [
      {
       "javascript": [
        "IPython.load_extensions(\"calico-spell-check\", \"calico-document-tools\", \"calico-cell-tools\");"
       ],
       "metadata": {},
       "output_type": "display_data",
       "text": [
        "<IPython.core.display.Javascript at 0x7fd8b91c1198>"
       ]
      }
     ],
     "prompt_number": 1
    }
   ],
   "metadata": {}
  }
 ]
}