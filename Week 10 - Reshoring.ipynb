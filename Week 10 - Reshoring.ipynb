{
 "metadata": {
  "celltoolbar": "Slideshow",
  "name": "",
  "signature": "sha256:3a8dd511311ff0a51a65fe22fce61bfb65a2723f8dc669acc3e3a5a5d0e2f167"
 },
 "nbformat": 3,
 "nbformat_minor": 0,
 "worksheets": [
  {
   "cells": [
    {
     "cell_type": "heading",
     "level": 1,
     "metadata": {
      "slideshow": {
       "slide_type": "slide"
      }
     },
     "source": [
      "Slab Reshoring"
     ]
    },
    {
     "cell_type": "markdown",
     "metadata": {
      "slideshow": {
       "slide_type": "-"
      }
     },
     "source": [
      "<iframe width=\"420\" height=\"315\" src=\"//www.youtube.com/embed/MCScpYjKELE\" frameborder=\"0\" allowfullscreen></iframe>"
     ]
    },
    {
     "cell_type": "heading",
     "level": 2,
     "metadata": {
      "slideshow": {
       "slide_type": "slide"
      }
     },
     "source": [
      "What Are Reshores?"
     ]
    },
    {
     "cell_type": "markdown",
     "metadata": {
      "slideshow": {
       "slide_type": "-"
      }
     },
     "source": [
      "<audio controls data-autoplay preload>\n",
      " <source src=\"https://github.com/damontallen/Construction-Lectures/raw/master/Lecture%20Audio/Week%2010/Reshoring%20Slabs/What%20Are%20Reshores.mp3\"\n",
      "         type='audio/mp3'>\n",
      " <p>Your user agent does not support the HTML5 Audio element or the files are missing.</p>\n",
      "</audio>"
     ]
    },
    {
     "cell_type": "markdown",
     "metadata": {},
     "source": [
      "For most multistory structures you will have to use reshoring. Reshoring a slab is where you first\n",
      "remove the shoring and formwork, and then place shores just snugly under the freshly stripped slab. The idea is that\n",
      "these replaced shores will not be carrying the load of the slab which they previously supported,\n",
      "but rather that they are going to be used to support the future loads placed on that slab.\n",
      "\n",
      "Think about this example: \n",
      "\n",
      "The ground floor and first floor have been poured in a hotel; now you are\n",
      "going to pour the second floor. In order to support the slab for the second floor you have shores,\n",
      "resting on the first floor, holding up the formwork. When the second floor slab is poured, the dead load\n",
      "due to the concrete, and formwork, as well as the live load due to the construction workers, will be held\n",
      "up by that formwork. That load is supported by the shores, which, in turn, are supported by the first\n",
      "floor slab. The first floor slab is already carrying its own self weight, and now this relatively green slab is\n",
      "being called upon to carry all this additional load. If the slab was designed to carry all this additional\n",
      "load in its currently weakened state, then no problem. However, if not you will need to help it out.\n",
      "\n",
      "Because the first floor slab will start to sag before it fails, you just need to support the sag to prevent the slab's failure. The question now is, how much support will you need to provide? Perhaps it might be better to look at a\n",
      "simplified example first."
     ]
    },
    {
     "cell_type": "heading",
     "level": 2,
     "metadata": {
      "slideshow": {
       "slide_type": "slide"
      }
     },
     "source": [
      "Simple Model"
     ]
    },
    {
     "cell_type": "markdown",
     "metadata": {},
     "source": [
      "<audio controls data-autoplay preload>\n",
      " <source src=\"https://github.com/damontallen/Construction-Lectures/raw/master/Lecture%20Audio/Week%2010/Reshoring%20Slabs/Simple%20Model.mp3\"\n",
      "         type='audio/mp3'>\n",
      " <p>Your user agent does not support the HTML5 Audio element or the files are missing.</p>\n",
      "</audio>"
     ]
    },
    {
     "cell_type": "markdown",
     "metadata": {},
     "source": [
      "Let's start by examining the deflection equation for a <a href = \"http://en.wikipedia.org/wiki/Deflection_(engineering)#Center_loaded_beam\">beam with a center point load</a>.  \n",
      "\n",
      "$$\\Delta = \\frac{P L^3}{48 E I} = P \\left(\\frac{L^3}{48 E I}\\right)$$\n",
      "$$ \\text{(or)}$$\n",
      "$$\\Delta = P \\times k_{eq}$$\n",
      "\n",
      "In this equation we can see that the deflection is proportional to the load.  This behavior is just the same as the behavior observed in [springs](http://en.wikipedia.org/wiki/Hooke's_law#For_linear_springs).  Additionally, this proportionality holds true for all structural objects that behave in a linear elastic manor.  And since new floor slabs behave this way, we can model a slab as a spring.\n",
      "\n",
      "<a href = \"http://i.imgur.com/xkmedp2.png\"><img src=\"http://i.imgur.com/xkmedp2.png\" alt = \"Compressed Supports\" title = \"Compressed Supports\" style=\"max-width:300px; max-height:300px; border:1px solid blue; float:right; margin-left:10px;\"/></a>\n",
      "\n",
      "<a href = \"http://i.imgur.com/p6j8R6s.png\"><img src=\"http://i.imgur.com/p6j8R6s.png\" alt = \"Uncompressed Supports\" title = \"Uncompressed Supports\"style=\"max-width:300px; max-height:300px; border:1px solid blue; float:right; margin-left:3px;\"/></a>\n",
      "\n",
      "Because the deflection of a slab will be orders of magnitude greater than the axial compression of the supporting reshores, we can treat those reshores as a single rigid object.  This also implies that what ever deflection that the top slab undergoes will be the same for all the slabs supporting it.  Finally, since the deflection of a slab is proportional to the load placed upon it, we can model the slab-reshore system as springs connected in parallel."
     ]
    },
    {
     "cell_type": "heading",
     "level": 2,
     "metadata": {
      "slideshow": {
       "slide_type": "slide"
      }
     },
     "source": [
      "Simple Model: Continued"
     ]
    },
    {
     "cell_type": "markdown",
     "metadata": {},
     "source": [
      "<audio controls data-autoplay preload>\n",
      " <source src=\"https://github.com/damontallen/Construction-Lectures/raw/master/Lecture%20Audio/Week%2010/Reshoring%20Slabs/Simple%20Model:%20Continued.mp3\"\n",
      "         type='audio/mp3'>\n",
      " <p>Your user agent does not support the HTML5 Audio element or the files are missing.</p>\n",
      "</audio>"
     ]
    },
    {
     "cell_type": "markdown",
     "metadata": {},
     "source": [
      "<a href = \"http://i.imgur.com/JVjGbhf.png\"><img src=\"http://i.imgur.com/JVjGbhf.png\" alt = \"Compressed Supports\" title = \"Compressed Supports\" style=\"max-width:300px; max-height:300px; border:1px solid blue; float:right; margin-left:10px;\"/></a>\n",
      "\n",
      "The system shown here is the equivalent to formwork being supported by three slabs with reshores seperating them.  Since each of the slabs are of equal stiffness, and are deflecting the same amount, they will each carry the same load, $F$.  If we just look at the top bar, we see that there is a load $P$ on the top, and $3 F$ on the bottom.  Because the bar isn't moving, these loads must be equal and oppisite, $3 F = P$ or $F = \\frac{1}{3} P$.\n",
      "\n",
      "By supporting the load on the top slab with two layers of reshores the reaction loads are cut\n",
      "into thirds. It is a little more complicated in a real structure but at least you can begin to see the idea."
     ]
    },
    {
     "cell_type": "heading",
     "level": 2,
     "metadata": {
      "slideshow": {
       "slide_type": "slide"
      }
     },
     "source": [
      "Real Reshoring"
     ]
    },
    {
     "cell_type": "markdown",
     "metadata": {},
     "source": [
      "<audio controls data-autoplay preload>\n",
      " <source src=\"https://github.com/damontallen/Construction-Lectures/raw/master/Lecture%20Audio/Week%2010/Reshoring%20Slabs/Real%20Reshoring.mp3\"\n",
      "         type='audio/mp3'>\n",
      " <p>Your user agent does not support the HTML5 Audio element or the files are missing.</p>\n",
      "</audio>"
     ]
    },
    {
     "cell_type": "markdown",
     "metadata": {},
     "source": [
      "In a real structure, the self-weight of each supporting slab will be about the same as\n",
      "the new slab load. In the simplified example, the load due to a new slab would be superimposed with the load due to each slab's self-weight.  The reactions would actually be $1 \\frac{1}{3} P = \\left(\\text{self-weight} + \\frac{1}{3} \\text{of the new slab weight}\\right)$. \n",
      "\n",
      "Additionally, due to the need to leave formwork implace while a slab gains strength, you might have to leave the shores, and formwork, in place while you are pouring the next slab. That would mean that the still shored slab is being completely\n",
      "supported by lower level slabs, and it would not be carrying it own self-weight. \n",
      "\n",
      "It turns out, that the sequence that you shore, and reshore, will have a\n",
      "dramatic effect on how much load a particular slab has to carry, and how much load will be carried by a particular set of shores.  By leaving shores in place, the shores will carry their original load plus some fraction of the new load. This gets even more complicated if you have multiple layers of reshores, and you leave some of them in place from one pour\n",
      "to the next. Let\u2019s look at the loads on some slabs, shores, and reshores, as a multiple story building is being\n",
      "built."
     ]
    },
    {
     "cell_type": "heading",
     "level": 2,
     "metadata": {
      "slideshow": {
       "slide_type": "slide"
      }
     },
     "source": [
      "Multistory Building"
     ]
    },
    {
     "cell_type": "markdown",
     "metadata": {
      "slideshow": {
       "slide_type": "-"
      }
     },
     "source": [
      "<audio controls data-autoplay preload>\n",
      " <source src=\"https://github.com/damontallen/Construction-Lectures/raw/master/Lecture%20Audio/Week%2010/Reshoring%20Slabs/Multistory%20Building.mp3\"\n",
      "         type='audio/mp3'>\n",
      " <p>Your user agent does not support the HTML5 Audio element or the files are missing.</p>\n",
      "</audio>"
     ]
    },
    {
     "cell_type": "markdown",
     "metadata": {},
     "source": [
      "<a href = \"http://i.imgur.com/xb94twq.png\"><img src=\"http://i.imgur.com/xb94twq.png\" alt = \"First Floor with Sides Stripped\" title = \"First Floor with Sides Stripped\" style=\"max-width:300px; max-height:300px; border:1px solid blue; float:right; margin-left:10px;\"/></a>\n",
      "\n",
      "To start with let's look at a constructions sequence.  First, we have our ground floor slab poured, and the structural columns in place.  These concrete columns do not carry any load during the pouring of the first floor, because they still have to be cast into the new slab.  \n",
      "\n",
      "What carries the load of the first floor slab initially is the timber shores.  While those shores are in place the slab cannot sag.  This is a subtle but important point.  If a structural member is carrying a load it must deform in some way, but the corollary of that is also true; a stuctural member must deform in order to carry a load. This means that the slab will not carry any load while those shores are in place.  "
     ]
    },
    {
     "cell_type": "markdown",
     "metadata": {},
     "source": [
      "<a href = \"http://i.imgur.com/7lV4nLg.png\"><img src=\"http://i.imgur.com/7lV4nLg.png\" alt = \"First Floor with Forms Stripped\" title = \"First Floor with Forms Stripped\" style=\"max-width:300px; max-height:300px; border:1px solid blue; float:right; margin-left:10px;\"/></a>\n",
      "\n",
      "For convienence of discussion let's say that the load due to the weight of a slab is equal to $(1 \\times D)$, (for dead load).  It is also important to note that relative to the slab's weight, the formwork self-weight is rather small.  To keep things simple we are going to neglect the weight of the formwork.  This load is always easy to add to back into our calculations later.  Simularly the construction live load can also be added back in to our calculations when we need to account for it.  \n",
      "\n",
      "In summary, we will only be concerened with the dead load due to the slabs' self-weights for the time being.  With that assumption, we can see that the total load being carried by the shores, holding up the form work, is equal to $D$ (the slab's self-weight).\n"
     ]
    },
    {
     "cell_type": "markdown",
     "metadata": {
      "slideshow": {
       "slide_type": "-"
      }
     },
     "source": [
      "<a href = \"http://i.imgur.com/6AsaBaP.png\"><img src=\"http://i.imgur.com/6AsaBaP.png\" alt = \"First Floor Reshored\" title = \"First Floor Reshored\" style=\"max-width:300px; max-height:300px; border:1px solid blue; float:right; margin-left:10px;\"/></a>\n",
      "\n",
      "It is only after the shores have been removed does the slab carry its own weight.  However, as the slab still has not reached full strength, it needs to be supported if any additional weight is going to be placed on it.  This is where the reshores come in.  Reshores should not be placed in such a way that they are lifting the existing slab.  This would add additional load to the reshores that they do not need to carry.  Slabs should only be striped when they can carry their own weight, and reshores are placed to prevent sag; like sag from when another slab is being poured.  Another way to put this is when the reshores are first placed, before the next floor is poured, they have $(0 \\times D)$ load on them.\n",
      "\n",
      "The load summary at this point is: $1D$ on the slab, and $0D$ on the reshores.\n",
      "\n",
      "*(Continued on the next slide.)*"
     ]
    },
    {
     "cell_type": "heading",
     "level": 2,
     "metadata": {
      "slideshow": {
       "slide_type": "slide"
      }
     },
     "source": [
      "Multistory Building: Continued"
     ]
    },
    {
     "cell_type": "markdown",
     "metadata": {},
     "source": [
      "<audio controls data-autoplay preload>\n",
      " <source src=\"https://github.com/damontallen/Construction-Lectures/raw/master/Lecture%20Audio/Week%2010/Reshoring%20Slabs/Multistory%20Building:%20Continued.mp3\"\n",
      "         type='audio/mp3'>\n",
      " <p>Your user agent does not support the HTML5 Audio element or the files are missing.</p>\n",
      "</audio>"
     ]
    },
    {
     "cell_type": "markdown",
     "metadata": {},
     "source": [
      "<a href = \"http://i.imgur.com/0pGAN8v.png\"><img src=\"http://i.imgur.com/0pGAN8v.png\" alt = \"Second Floor Poured\" title = \"Second Floor Poured\" style=\"max-width:300px; max-height:300px; border:1px solid blue; float:right; margin-left:10px;\"/></a>\n",
      "\n",
      "With the second floor poured, the shores supporting the formwork now carry a $1D$ load.  This load passes through the first floor slab to the reshores below.  This is because the first floor slab cannot sag, and as we covered earlier, if it cannot sag, it cannot carry additional load.  The first floor still carries its own self-weight, but because it is locked in place, so that is all.  For the reshores this means that they are carrying the same load as the shores, $1D$.\n",
      "\n",
      "The load summary is: $0D$ is carried by the second floor, $1D$ is carried by the shores supporting the second floor, $1D$ is carried by the first floor, and $1D$ is carried by the reshores.\n",
      "\n",
      "This is not too difficult at this point, but keeping track of all the loads is going to get more complicated.  We need to have a system to manage this bookkeeping, and maybe some shorthand symbols for shores, and reshores."
     ]
    },
    {
     "cell_type": "heading",
     "level": 2,
     "metadata": {
      "slideshow": {
       "slide_type": "slide"
      }
     },
     "source": [
      "Bookkeeping System"
     ]
    },
    {
     "cell_type": "markdown",
     "metadata": {},
     "source": [
      "<audio controls data-autoplay preload>\n",
      " <source src=\"https://github.com/damontallen/Construction-Lectures/raw/master/Lecture%20Audio/Week%2010/Reshoring%20Slabs/Bookkeeping%20System.mp3\"\n",
      "         type='audio/mp3'>\n",
      " <p>Your user agent does not support the HTML5 Audio element or the files are missing.</p>\n",
      "</audio>"
     ]
    },
    {
     "cell_type": "markdown",
     "metadata": {},
     "source": [
      "First of all, rather than draw an actual slab with shores, and formwork, let's simplify the images to these:\n",
      "\n",
      "<table>\n",
      "<tr><th>Identification</th><th>Symbol</th></tr>\n",
      "<tr><td>Shored Slab</td><td><a href = \"http://i.imgur.com/W6Tqme1.png\"><img src=\"http://i.imgur.com/W6Tqme1.png\" alt = \"Shored Slab\" title = \"Shored Slab\"style=\"max-width:50px; max-height:50px;  float:left; margin-right:3px;\"/></a></td></tr>\n",
      "<tr><td>Unshored Slab</td><td><a href = \"http://i.imgur.com/f9HJsu6.png\"><img src=\"http://i.imgur.com/f9HJsu6.png\" alt = \"Unshored Slab\" title = \"Unshored Slab\"style=\"max-width:50px; max-height:50px;  float:left; margin-right:3px;\"/></a></td></tr>\n",
      "<tr><td>Reshored Slab</td><td><a href = \"http://i.imgur.com/vMgiW58.png\"><img src=\"http://i.imgur.com/vMgiW58.png\" alt = \"Reshored Slab\" title = \"Reshored Slab\"style=\"max-width:50px; max-height:50px;  float:left; margin-right:3px;\"/></a></td></tr>\n",
      "</table>\n",
      "\n",
      "These are quick and easy to draw by hand and they are very similar to the images you will see in Table 5-2 of your Formwork textbook.  Since the load on the shores is no different for a fresh slab verse a cured slab, I am not going to make a distinction in the symbols.  In your work you are welcome to use the symbols shown in Table 5-2 if you think it will add clarity.\n",
      "\n",
      "Next we need to keep track of the loads.  There are basically two procedures we are doing that affect the loads in this process: removing shores (or reshores), and pouring a new slab.  In both of these cases we distribute loads to the supporting slabs, and their structural columns.  We are not concerned with the loads in the structural columns because those were accounted for in the building design.  However, we will need to look at the loads being supported by the slabs, because what isn't supported by a slab needs to be supported by a shore, or reshore.  To organize all this information in some usable format, we will need to keep track of it in a table like the one on the next slide."
     ]
    },
    {
     "cell_type": "heading",
     "level": 2,
     "metadata": {
      "slideshow": {
       "slide_type": "slide"
      }
     },
     "source": [
      "Bookkeeping System: Continued"
     ]
    },
    {
     "cell_type": "markdown",
     "metadata": {},
     "source": [
      "<audio controls data-autoplay preload>\n",
      " <source src=\"https://github.com/damontallen/Construction-Lectures/raw/master/Lecture%20Audio/Week%2010/Reshoring%20Slabs/Bookkeeping%20System:%20Continued.mp3\"\n",
      "         type='audio/mp3'>\n",
      " <p>Your user agent does not support the HTML5 Audio element or the files are missing.</p>\n",
      "</audio>"
     ]
    },
    {
     "cell_type": "markdown",
     "metadata": {},
     "source": [
      "**Reshore Level 2**\n",
      "<table>\n",
      "<tr><th>Level</th><th>Item</th><th>Starting Loads</th><th>Load to be Distributed</th><th>New Slab Reactions</th><th style=\"text-align: right;\">Number of Slabs Above<br>- Slab Reactions</th><th>Ending Loads</th><th>Symbols</th></tr>\n",
      "<tr><th rowspan = '2'>3</th><th>Slab</th>\n",
      "    <td>0.5</td>\n",
      "    <td></td>\n",
      "    <td>0.5</td>\n",
      "    <td></td>\n",
      "    <td>0.5</td>\n",
      "    <td rowspan='2'> \n",
      "        <img src=\"http://i.imgur.com/W6Tqme1.png\" alt = \"Shored Slab\" title = \"Shored Slab\"style=\"max-width:50px; max-height:50px;  float:left; margin-right:3px;\"/> \n",
      "        </td>\n",
      "</tr>\n",
      "<tr><th>Shores</th>\n",
      "    <td>0.5</td>\n",
      "    <td></td>\n",
      "    <td></td>\n",
      "    <td>0.5</td>\n",
      "    <td>0.5</td>\n",
      "</tr>\n",
      "<tr><th rowspan = '2'>2</th><th>Slab</th>\n",
      "    <td>1.5</td>\n",
      "    <td></td>\n",
      "    <td>1.5</td>\n",
      "    <td></td>\n",
      "    <td>1.5</td>\n",
      "    <td rowspan='2'> \n",
      "        <img src=\"http://i.imgur.com/vMgiW58.png\" alt = \"Reshored Slab\" title = \"Reshored Slab\"style=\"max-width:50px; max-height:50px;  float:left; margin-right:3px;\"/> \n",
      "        </td>\n",
      "</tr>\n",
      "<tr><th>Reshores</th>\n",
      "    <td></td>\n",
      "    <td></td>\n",
      "    <td></td>\n",
      "    <td>0</td>\n",
      "    <td>0</td>\n",
      "</tr>\n",
      "<tr><th rowspan = '2'>1</th><th>Slab</th>\n",
      "    <td>1</td>\n",
      "    <td></td>\n",
      "    <td>1</td>\n",
      "    <td></td>\n",
      "    <td>1</td>\n",
      "    <td rowspan='2'> \n",
      "        <img src=\"http://i.imgur.com/f9HJsu6.png\" alt = \"Unshored Slab\" title = \"Unshored Slab\"style=\"max-width:50px; max-height:50px;  float:left; margin-right:3px;\"/>\n",
      "        </td>\n",
      "</tr>\n",
      "<tr><th>Empty</th>\n",
      "    <td></td>\n",
      "    <td></td>\n",
      "    <td></td>\n",
      "    <td></td>\n",
      "    <td></td>\n",
      "</tr>\n",
      "</table>"
     ]
    },
    {
     "cell_type": "markdown",
     "metadata": {},
     "source": [
      "To start with let's look at the general format of this table.  You'll notice that a level consists of a space between floors and the slab above.  This is a little different than thinking about floors where you have the space between floors and the slab below, but for bookkeeping purposes this is the best way to think about it.  You can also think about levels as the construction space to build the next floor (if that helps).\n",
      "\n",
      "The item in the \"Item\" column is what the loads on that particular row of the table belong to.  For instance the \"Starting Loads\", for the level 3 slab, is $0.5 \\times \\text{a single slab dead load}$, and the \"Ending Loads\" is also $0.5 \\times \\text{a single slab dead load}$.  The reason there is no change in the load is that all is happening here is the addition of reshores, which, as previously indicated, does not add any loads relative to the slab dead loads.\n",
      "\n",
      "*(Continued on the next slide.)*"
     ]
    },
    {
     "cell_type": "heading",
     "level": 2,
     "metadata": {
      "slideshow": {
       "slide_type": "slide"
      }
     },
     "source": [
      "\"Load to be Distributed\""
     ]
    },
    {
     "cell_type": "markdown",
     "metadata": {},
     "source": [
      "<audio controls data-autoplay preload>\n",
      " <source src=\"https://github.com/damontallen/Construction-Lectures/raw/master/Lecture%20Audio/Week%2010/Reshoring%20Slabs/Load%20to%20be%20Distributed.mp3\"\n",
      "         type='audio/mp3'>\n",
      " <p>Your user agent does not support the HTML5 Audio element or the files are missing.</p>\n",
      "</audio>"
     ]
    },
    {
     "cell_type": "markdown",
     "metadata": {},
     "source": [
      "**Remove Level 3 Reshore**\n",
      "<table border=\"1\" class=\"dataframe\">\n",
      "  <thead>\n",
      "    <tr style=\"text-align: right;\">\n",
      "      <th rowspan = 2>Level</th>\n",
      "      <th rowspan = 2>Item</th>\n",
      "      <th rowspan = 2>Starting Loads</th>\n",
      "      <th rowspan = 2>Load to be Distributed</th>\n",
      "      <th rowspan = 2>New Slab Reactions</th>\n",
      "      <th  rowspan = 2 style=\"text-align: right;\">Number of Slabs Above<br>- Slab Reactions</th>\n",
      "      <th rowspan = 2>Ending Loads</th>\n",
      "      <th rowspan = 2>Symbol</th>\n",
      "    </tr>\n",
      "  </thead>\n",
      "  <tbody>\n",
      "    <tr>\n",
      "      <th rowspan=\"2\" valign=\"top\">3</th>\n",
      "      <th>Slab</th>\n",
      "      <td> 0.3333333</td>\n",
      "      <td>          </td>\n",
      "      <td> 1</td>\n",
      "      <td>  </td>\n",
      "      <td> 1</td>\n",
      "      <td rowspan=2><img src=\"http://i.imgur.com/f9HJsu6.png\" alt = \"Unshored Slab\" title = \"Unshored Slab\"style=\"max-width:50px; max-height:50px;  float:left; margin-right:3px;\"/> </td>\n",
      "    </tr>\n",
      "    <tr>\n",
      "      <th>Empty</th>\n",
      "      <td> 0.6666667</td>\n",
      "      <td> 0.6666667</td>\n",
      "      <td>  </td>\n",
      "      <td>  </td>\n",
      "      <td>  </td>\n",
      "    </tr>\n",
      "    <tr>\n",
      "      <th rowspan=\"2\" valign=\"top\">2</th>\n",
      "      <th>Slab</th>\n",
      "      <td>  1.333333</td>\n",
      "      <td>          </td>\n",
      "      <td> 1</td>\n",
      "      <td>  </td>\n",
      "      <td> 1</td>\n",
      "      <td rowspan=2><img src=\"http://i.imgur.com/vMgiW58.png\" alt = \"Reshored Slab\" title = \"Reshored Slab\"style=\"max-width:50px; max-height:50px;  float:left; margin-right:3px;\"/> </td>\n",
      "    </tr>\n",
      "    <tr>\n",
      "      <th>Reshores</th>\n",
      "      <td> 0.3333333</td>\n",
      "      <td>          </td>\n",
      "      <td>  </td>\n",
      "      <td> 0</td>\n",
      "      <td> 0</td>\n",
      "    </tr>\n",
      "    <tr>\n",
      "      <th rowspan=\"2\" valign=\"top\">1</th>\n",
      "      <th>Slab</th>\n",
      "      <td>  1.333333</td>\n",
      "      <td>          </td>\n",
      "      <td> 1</td>\n",
      "      <td>  </td>\n",
      "      <td> 1</td>\n",
      "      <td rowspan=2><img src=\"http://i.imgur.com/f9HJsu6.png\" alt = \"Unshored Slab\" title = \"Unshored Slab\"style=\"max-width:50px; max-height:50px;  float:left; margin-right:3px;\"/> </td>\n",
      "    </tr>\n",
      "    <tr>\n",
      "      <th>Empty</th>\n",
      "      <td>          </td>\n",
      "      <td>          </td>\n",
      "      <td>  </td>\n",
      "      <td>  </td>\n",
      "      <td>  </td>\n",
      "    </tr>\n",
      "  </tbody>\n",
      "</table>"
     ]
    },
    {
     "cell_type": "markdown",
     "metadata": {},
     "source": [
      "The \"Load to be Distributed\" column will have one value in it.  This value is comes from the change that is occurring in the structure, in this case a reshore was removed.  (This example is a little contrived but I'm trying to illustrate a point.)\n",
      "\n",
      "\n",
      "The \"New Slab Reactions\" column will contain the values of the slab reactions after you distribute the load to the supporting slabs.  The \"Number of Slabs Above - Slab Reactions\" column will take a little explaining, but it is where you determine the loads on the shores and reshores.  Again, this will make more sense with some examples.  Finally, the \"Symbols\" column is where you draw a sketch of the level.  This is more documentation, than is necessary, but this can be very useful when trying to visualize what is going on.\n",
      "\n",
      "One last thing about this table, it can have more or less rows depending on how many levels have shoring and reshoring.  Let's look at some examples to see how this works."
     ]
    },
    {
     "cell_type": "code",
     "collapsed": false,
     "input": [
      "%run Older_Classes/Reshore.py #note \"undo\" is available for one change\n",
      "struct = building()"
     ],
     "language": "python",
     "metadata": {
      "slideshow": {
       "slide_type": "skip"
      }
     },
     "outputs": [],
     "prompt_number": 1
    },
    {
     "cell_type": "heading",
     "level": 2,
     "metadata": {
      "slideshow": {
       "slide_type": "slide"
      }
     },
     "source": [
      "Filling out the Table"
     ]
    },
    {
     "cell_type": "markdown",
     "metadata": {},
     "source": [
      "<audio controls data-autoplay preload>\n",
      " <source src=\"https://github.com/damontallen/Construction-Lectures/raw/master/Lecture%20Audio/Week%2010/Reshoring%20Slabs/Filling%20out%20the%20Table.mp3\"\n",
      "         type='audio/mp3'>\n",
      " <p>Your user agent does not support the HTML5 Audio element or the files are missing.</p>\n",
      "</audio>"
     ]
    },
    {
     "cell_type": "markdown",
     "metadata": {},
     "source": [
      "To start with we have shoring in place just holding up the formwork for a slab.  Initially the slab has not been poured so the starting load for the slab is $0 D$, and since the formwork is such a small load the shores will effectively have a $0 D$ load on them as well.  To emphasize the important values I will leave zeros out of the table, and instead have a dash as a placeholder.  So we place a dash in the Starting Loads column for the Slab and we place a dash in the Starting Loads column for the Shores.\n",
      "\n",
      "For now, I'll mark each new additional information added to the table with a green dot."
     ]
    },
    {
     "cell_type": "markdown",
     "metadata": {},
     "source": [
      "<strong>Starting Condition</strong>\n",
      "<table border=\"1\" class=\"dataframe\">\n",
      "  <thead>\n",
      "    <tr style=\"text-align: right;\">\n",
      "      <th rowspan = 2>Level</th><th rowspan = 2>Item</th>\n",
      "      <th rowspan = 2>Starting Loads</th>\n",
      "      <th rowspan = 2>Load to be Distributed</th>\n",
      "      <th rowspan = 2>New Slab Reactions</th>\n",
      "      <th  rowspan = 2 style=\"text-align: right;\">Number of Slabs Above<br>- Slab Reactions</th>\n",
      "      <th rowspan = 2>Ending Loads</th>\n",
      "      <th rowspan = 2>Symbol</th>\n",
      "    </tr>\n",
      "  </thead>\n",
      "  <tbody>\n",
      "    <tr>\n",
      "<th rowspan=\"2\">1</th>\n",
      "      <td>Slab</td>\n",
      "      <td> <center>\n",
      "              <div style = \"width:20px;\n",
      "                    height:20px;\n",
      "                    border-radius:10px;\n",
      "                    color:#fff;\n",
      "                    line-height:20px;\n",
      "                    text-align:center;\n",
      "                    background:#090\">\n",
      "                    <b>-</b>\n",
      "              </div>\n",
      "           </center></td>\n",
      "      <td> <center>\n",
      "              \n",
      "           </center></td>\n",
      "      <td> <center></center></td>\n",
      "      <td> <center></center></td>\n",
      "      <td> <center></center></td>\n",
      "      <td rowspan=2></td>\n",
      "    </tr>\n",
      "    <tr>\n",
      "\n",
      "      <td>Shores</td>\n",
      "      <td> <center>\n",
      "              <div style = \"width:20px;\n",
      "                    height:20px;\n",
      "                    border-radius:10px;\n",
      "                    color:#fff;\n",
      "                    line-height:20px;\n",
      "                    text-align:center;\n",
      "                    background:#090\">\n",
      "                    <b>-</b>\n",
      "              </div>\n",
      "              </center></td>\n",
      "      <td> <center></center></td>\n",
      "      <td> <center></center></td>\n",
      "      <td> <center></center></td>\n",
      "      <td> <center></center></td>\n",
      "    </tr>\n",
      "  </tbody>\n",
      "</table>"
     ]
    },
    {
     "cell_type": "heading",
     "level": 2,
     "metadata": {
      "slideshow": {
       "slide_type": "slide"
      }
     },
     "source": [
      "Filling out the Table - Loads to be Distributed"
     ]
    },
    {
     "cell_type": "markdown",
     "metadata": {},
     "source": [
      "<audio controls data-autoplay preload>\n",
      " <source src=\"https://github.com/damontallen/Construction-Lectures/raw/master/Lecture%20Audio/Week%2010/Reshoring%20Slabs/Filling%20out%20the%20Table%20-%20Loads%20to%20be%20Distributed.mp3\"\n",
      "         type='audio/mp3'>\n",
      " <p>Your user agent does not support the HTML5 Audio element or the files are missing.</p>\n",
      "</audio>"
     ]
    },
    {
     "cell_type": "markdown",
     "metadata": {},
     "source": [
      "The next step in construction is to pour the slab.  This will add a load on the building's system of formwork of one slab dead load $(1 D)$.  Since we are adding a slab at the top of the formwork of level 1, we need to distribute that new load.  We record the load in the Load to be Distributed column in the slab row of level 1.  Since the shores are not contributing to the change in load of the building's system of formwork, just reacting to it, they do not contribute to the Load to be Distributed.  To mark that this has been accounted for, we'll put a dash in row for the Shores in the Load to be Distributed column.\n",
      "\n",
      "To keep track of what is going on in the table, we'll draw the symbol for a shored slab in the Symbol column at level 1."
     ]
    },
    {
     "cell_type": "markdown",
     "metadata": {},
     "source": [
      "<strong>Action taken: Pour a Slab</strong>\n",
      "<table border=\"1\" class=\"dataframe\">\n",
      "  <thead>\n",
      "    <tr style=\"text-align: right;\">\n",
      "      <th rowspan = 2>Level</th><th rowspan = 2>Item</th>\n",
      "      <th rowspan = 2>Starting Loads</th>\n",
      "      <th rowspan = 2>Load to be Distributed</th>\n",
      "      <th rowspan = 2>New Slab Reactions</th>\n",
      "      <th  rowspan = 2 style=\"text-align: right;\">Number of Slabs Above<br>- Slab Reactions</th>\n",
      "      <th rowspan = 2>Ending Loads</th>\n",
      "      <th rowspan = 2>Symbol</th>\n",
      "    </tr>\n",
      "  </thead>\n",
      "  <tbody>\n",
      "    <tr>\n",
      "<th rowspan=\"2\">1</th>\n",
      "      <td>Slab</td>\n",
      "      <td> <center>-</center></td>\n",
      "      <td> <center>\n",
      "              <div style = \"width:20px;\n",
      "                    height:20px;\n",
      "                    border-radius:10px;\n",
      "                    color:#fff;\n",
      "                    line-height:20px;\n",
      "                    text-align:center;\n",
      "                    background:#090\">\n",
      "                    <b>1</b>\n",
      "              </div>\n",
      "           </center></td>\n",
      "      <td> <center></center></td>\n",
      "      <td> <center></center></td>\n",
      "      <td> <center></center></td>\n",
      "      <td rowspan=2><img src=\"http://i.imgur.com/W6Tqme1.png\" alt = \"Shored Slab\" title = \"Shored Slab\"style=\"max-width:50px; max-height:50px;  float:left; margin-right:3px;\"/></td>\n",
      "    </tr>\n",
      "    <tr>\n",
      "\n",
      "      <td>Shores</td>\n",
      "      <td> <center>-</center></td>\n",
      "      <td> <center>\n",
      "              <div style = \"width:20px;\n",
      "                    height:20px;\n",
      "                    border-radius:10px;\n",
      "                    color:#fff;\n",
      "                    line-height:20px;\n",
      "                    text-align:center;\n",
      "                    background:#090\">\n",
      "                    <b>-</b>\n",
      "              </div>\n",
      "           </center></td>\n",
      "      <td> <center></center></td>\n",
      "      <td> <center></center></td>\n",
      "      <td> <center></center></td>\n",
      "    </tr>\n",
      "  </tbody>\n",
      "</table>"
     ]
    },
    {
     "cell_type": "heading",
     "level": 2,
     "metadata": {
      "slideshow": {
       "slide_type": "slide"
      }
     },
     "source": [
      "Filling out the Table - New Slab Reactions"
     ]
    },
    {
     "cell_type": "markdown",
     "metadata": {},
     "source": [
      "<audio controls data-autoplay preload>\n",
      " <source src=\"https://github.com/damontallen/Construction-Lectures/raw/master/Lecture%20Audio/Week%2010/Reshoring%20Slabs/Filling%20out%20the%20Table%20-%20New%20Slab%20Reactions.mp3\"\n",
      "         type='audio/mp3'>\n",
      " <p>Your user agent does not support the HTML5 Audio element or the files are missing.</p>\n",
      "</audio>"
     ]
    },
    {
     "cell_type": "markdown",
     "metadata": {},
     "source": [
      "To have a reaction a slab must meet three conditions:\n",
      "\n",
      "1. The slab must be loaded in some way, e.g. gravity load due to self weight, and/or a load applied to the the slab by the reshores or shores it's supporting.\n",
      "2. The slab must be able to deflect to generate a reaction.\n",
      "3. The slab must be strong enough to carry that load.\n",
      "\n",
      "A freshly poured slab is always loaded with its own self weight, in some cases (cases where the shoring does not reach all the way to the ground) a freshly poured slab could be able to deflect, however, wet concrete does not have any strength.  Because we only are dealing with one slab above ground at this point, there are no New Slab Reactions to record.  We'll put a dash for the slab at level 1 under the New Slab Reaction column.  \n",
      "\n",
      "* Note that if the slab had been able to generate a reaction by satisfying the three conditions above, then the New Slab Reactions of that slab would just be, the summation of both the part of the Load to be Distributed that that slab has to carry, and the Starting Load reaction of the slab at that level.\n",
      "\n",
      "Since shores are not slabs, there will never be a new slab reaction for a shore on any level.  The way to remember this is to recall that the New Slab Reactions column is just for calculating slab reactions.  We'll put a dash for the shores row of level 1 in the New Slab Reactions column, rather than leave it blank."
     ]
    },
    {
     "cell_type": "markdown",
     "metadata": {},
     "source": [
      "<strong>Action taken: Pour a Slab</strong>\n",
      "<table border=\"1\" class=\"dataframe\">\n",
      "  <thead>\n",
      "    <tr style=\"text-align: right;\">\n",
      "      <th rowspan = 2>Level</th><th rowspan = 2>Item</th>\n",
      "      <th rowspan = 2>Starting Loads</th>\n",
      "      <th rowspan = 2>Load to be Distributed</th>\n",
      "      <th rowspan = 2>New Slab Reactions</th>\n",
      "      <th  rowspan = 2 style=\"text-align: right;\">Number of Slabs Above<br>- Slab Reactions</th>\n",
      "      <th rowspan = 2>Ending Loads</th>\n",
      "      <th rowspan = 2>Symbol</th>\n",
      "    </tr>\n",
      "  </thead>\n",
      "  <tbody>\n",
      "    <tr>\n",
      "<th rowspan=\"2\">1</th>\n",
      "      <td>Slab</td>\n",
      "      <td> <center>-</center></td>\n",
      "      <td> <center>1</center></td>\n",
      "      <td> <center>\n",
      "              <div style = \"width:20px;\n",
      "                    height:20px;\n",
      "                    border-radius:10px;\n",
      "                    color:#fff;\n",
      "                    line-height:20px;\n",
      "                    text-align:center;\n",
      "                    background:#090\">\n",
      "                    <b>-</b>\n",
      "              </div>\n",
      "              </center></td>\n",
      "      <td> <center></center></td>\n",
      "      <td> <center></center></td>\n",
      "      <td rowspan=2><img src=\"http://i.imgur.com/W6Tqme1.png\" alt = \"Shored Slab\" title = \"Shored Slab\"style=\"max-width:50px; max-height:50px;  float:left; margin-right:3px;\"/></td>\n",
      "    </tr>\n",
      "    <tr>\n",
      "\n",
      "      <td>Shores</td>\n",
      "      <td> <center>-</center></td>\n",
      "      <td> <center>-</center></td>\n",
      "      <td> <center>\n",
      "              <div style = \"width:20px;\n",
      "                    height:20px;\n",
      "                    border-radius:10px;\n",
      "                    color:#fff;\n",
      "                    line-height:20px;\n",
      "                    text-align:center;\n",
      "                    background:#090\">\n",
      "                    <b>-</b>\n",
      "              </div>\n",
      "              </center></td>\n",
      "      <td> <center></center></td>\n",
      "      <td> <center></center></td>\n",
      "    </tr>\n",
      "  </tbody>\n",
      "</table>"
     ]
    },
    {
     "cell_type": "heading",
     "level": 2,
     "metadata": {
      "slideshow": {
       "slide_type": "slide"
      }
     },
     "source": [
      "Filling out the Table - Number of Slabs Above minus Slab Reactions"
     ]
    },
    {
     "cell_type": "markdown",
     "metadata": {},
     "source": [
      "<audio controls data-autoplay preload>\n",
      " <source src=\"https://github.com/damontallen/Construction-Lectures/raw/master/Lecture%20Audio/Week%2010/Reshoring%20Slabs/Filling%20out%20the%20Table%20-%20Number%20of%20Slabs%20Above%20minus%20Slab%20Reactions.mp3\"\n",
      "         type='audio/mp3'>\n",
      " <p>Your user agent does not support the HTML5 Audio element or the files are missing.</p>\n",
      "</audio>"
     ]
    },
    {
     "cell_type": "markdown",
     "metadata": {},
     "source": [
      "Much like the New Slab Reactions column is only for slab reactions, the Number of Slabs Above - Slab Reactions column is only for shore reactions.  In other words there will never be a vlaue for slabs on this column.  That being said we will place dashs at every slab row, of every level, in the Number of Slabs Above - Slab Reactions column.  In this case, that means we put a dash in the slab row of level 1.\n",
      "\n",
      "Next we calculate the value for the shores rows.  At level 1 there is a slab above the level 1 shores, but there are no slab reactions above the shores.  To find the value in the Number of Slabs Above - Slab Reactions column for the level 1 shores, we take the load due to the number of slabs above the level 1 shores $(1 \\times 1 D)$ and subtract the sum of all the slab reactions above the shores of level 1 $(0 D)$.  The final calculation is just $1 D - 0 D = 1 D$.  We put $1$ in the shores row of level 1 under the Number of Slabs Above - Slab Reactions column."
     ]
    },
    {
     "cell_type": "markdown",
     "metadata": {},
     "source": [
      "<strong>Action taken: Pour a Slab</strong>\n",
      "<table border=\"1\" class=\"dataframe\">\n",
      "  <thead>\n",
      "    <tr style=\"text-align: right;\">\n",
      "      <th rowspan = 2>Level</th><th rowspan = 2>Item</th>\n",
      "      <th rowspan = 2>Starting Loads</th>\n",
      "      <th rowspan = 2>Load to be Distributed</th>\n",
      "      <th rowspan = 2>New Slab Reactions</th>\n",
      "      <th  rowspan = 2 style=\"text-align: right;\">Number of Slabs Above<br>- Slab Reactions</th>\n",
      "      <th rowspan = 2>Ending Loads</th>\n",
      "      <th rowspan = 2>Symbol</th>\n",
      "    </tr>\n",
      "  </thead>\n",
      "  <tbody>\n",
      "    <tr>\n",
      "<th rowspan=\"2\">1</th>\n",
      "      <td>Slab</td>\n",
      "      <td> <center>-</center></td>\n",
      "      <td> <center>1</center></td>\n",
      "      <td> <center>-</center></td>\n",
      "      <td> <center>\n",
      "              <div style = \"width:20px;\n",
      "                    height:20px;\n",
      "                    border-radius:10px;\n",
      "                    color:#fff;\n",
      "                    line-height:20px;\n",
      "                    text-align:center;\n",
      "                    background:#090\">\n",
      "                    <b>-</b>\n",
      "              </div>\n",
      "              </center></td>\n",
      "      <td> <center></center></td>\n",
      "      <td rowspan=2><img src=\"http://i.imgur.com/W6Tqme1.png\" alt = \"Shored Slab\" title = \"Shored Slab\"style=\"max-width:50px; max-height:50px;  float:left; margin-right:3px;\"/></td>\n",
      "    </tr>\n",
      "    <tr>\n",
      "\n",
      "      <td>Shores</td>\n",
      "      <td> <center>-</center></td>\n",
      "      <td> <center>-</center></td>\n",
      "      <td> <center>-</center></td>\n",
      "      <td> <center>\n",
      "              <div style = \"width:20px;\n",
      "                    height:20px;\n",
      "                    border-radius:10px;\n",
      "                    color:#fff;\n",
      "                    line-height:20px;\n",
      "                    text-align:center;\n",
      "                    background:#090\">\n",
      "                    <b>1</b>\n",
      "              </div>\n",
      "              </center></td>\n",
      "      <td> <center></center></td>\n",
      "    </tr>\n",
      "  </tbody>\n",
      "</table>"
     ]
    },
    {
     "cell_type": "heading",
     "level": 2,
     "metadata": {
      "slideshow": {
       "slide_type": "slide"
      }
     },
     "source": [
      "Filling out the Table - Ending Loads"
     ]
    },
    {
     "cell_type": "markdown",
     "metadata": {},
     "source": [
      "<audio controls data-autoplay preload>\n",
      " <source src=\"https://github.com/damontallen/Construction-Lectures/raw/master/Lecture%20Audio/Week%2010/Reshoring%20Slabs/Filling%20out%20the%20Table%20-%20Ending%20Loads.mp3\"\n",
      "         type='audio/mp3'>\n",
      " <p>Your user agent does not support the HTML5 Audio element or the files are missing.</p>\n",
      "</audio>"
     ]
    },
    {
     "cell_type": "markdown",
     "metadata": {},
     "source": [
      "We can now fill in the Ending Loads column. The ending load for the slab on level 1 is just the New Slab Reaction of the slab on level 1, $0 D$.  Remember that we are using dashes as place holders for the value of zero dead load.  Since this new zero is important, being in part of the final calculations in the Ending Loads column, we will write the zero instead of putting a dash there.  The Ending Loads on the shores of level 1 is the just Number of Slabs Above - Slab Reactions, $(1 D)$, so we write $1$ in the Ending Loads column for the level 1 shores.  \n",
      "\n",
      "To reiterate, the value for the slab row, in the Ending Loads column, is just the value in the New Slab Reactions column, and the value in the shores row in the Ending Loads column, is just the value in the Number of Slabs Above - Slab Reactions.\n",
      "\n",
      "We have now completed the calculations for the action of pouring a slab on level 1."
     ]
    },
    {
     "cell_type": "markdown",
     "metadata": {},
     "source": [
      "<strong>Action taken: Pour a Slab</strong>\n",
      "<table border=\"1\" class=\"dataframe\">\n",
      "  <thead>\n",
      "    <tr style=\"text-align: right;\">\n",
      "      <th rowspan = 2>Level</th><th rowspan = 2>Item</th>\n",
      "      <th rowspan = 2>Starting Loads</th>\n",
      "      <th rowspan = 2>Load to be Distributed</th>\n",
      "      <th rowspan = 2>New Slab Reactions</th>\n",
      "      <th  rowspan = 2 style=\"text-align: right;\">Number of Slabs Above<br>- Slab Reactions</th>\n",
      "      <th rowspan = 2>Ending Loads</th>\n",
      "      <th rowspan = 2>Symbol</th>\n",
      "    </tr>\n",
      "  </thead>\n",
      "  <tbody>\n",
      "    <tr>\n",
      "<th rowspan=\"2\">1</th>\n",
      "      <td>Slab</td>\n",
      "      <td> <center>-</center></td>\n",
      "      <td> <center>1</center></td>\n",
      "      <td> <center>-</center></td>\n",
      "      <td> <center>-</center></td>\n",
      "      <td> <center>\n",
      "              <div style = \"width:20px;\n",
      "                    height:20px;\n",
      "                    border-radius:10px;\n",
      "                    color:#fff;\n",
      "                    line-height:20px;\n",
      "                    text-align:center;\n",
      "                    background:#090\">\n",
      "                    <b>0</b>\n",
      "              </div>\n",
      "              </center></td>\n",
      "      <td rowspan=2><img src=\"http://i.imgur.com/W6Tqme1.png\" alt = \"Shored Slab\" title = \"Shored Slab\"style=\"max-width:50px; max-height:50px;  float:left; margin-right:3px;\"/></td>\n",
      "    </tr>\n",
      "    <tr>\n",
      "\n",
      "      <td>Shores</td>\n",
      "      <td> <center>-</center></td>\n",
      "      <td> <center>-</center></td>\n",
      "      <td> <center>-</center></td>\n",
      "      <td> <center>1</center></td>\n",
      "      <td> <center>\n",
      "              <div style = \"width:20px;\n",
      "                    height:20px;\n",
      "                    border-radius:10px;\n",
      "                    color:#fff;\n",
      "                    line-height:20px;\n",
      "                    text-align:center;\n",
      "                    background:#090\">\n",
      "                    <b>1</b>\n",
      "              </div>\n",
      "              </center></td>\n",
      "    </tr>\n",
      "  </tbody>\n",
      "</table>"
     ]
    },
    {
     "cell_type": "markdown",
     "metadata": {},
     "source": [
      "Using the table is really just that simple.  Filling out each column completely working from left to right.\n",
      "\n",
      "1. Fill out the Starting Loads either with the Ending Loads of the previous action (or dashes if there were no previous actions have been taken).  \n",
      "2. Fill out the Load to be Distributed column based on the action that is to be taken (put a value of 1 for the slab at the top level of the building when pouring a new slab, or put the value from the Starting Loads of the shores (or reshores) that are to be removed into the shore or reshore row).  \n",
      "    * Note that this should only be a single load.\n",
      "3. Fill out the New Slab Reactions column by dividing the load, in the Load to be Distributed column, by the number of slabs that can react to the load, then adding the result to the starting load, of each reacting slab, at every level. (Or for non-reacting slabs, just recopy the Starting Loads value.)\n",
      "    * $\\text{Distributed}_{\\text{load}} = \\frac{\\text{Load to be Distributed}}{\\text{Number of slabs that will react}}$\n",
      "    * $\\text{Slab}_{\\text{New Slab Reactions}} = \\text{Slab}_{\\text{Starting Loads}} + \\text{Distributed}_{\\text{load}}$\n",
      "4. Calculate the shores reactions $(\\text{Number of Slabs Above} - \\text{Sum of Slab Reactions Above})$ and record them in the Number of Slabs Above - Slab Reactions column.\n",
      "5. Write the ending loads for the slab, shores and reshores into the Ending Loads column, at every level.\n",
      "\n",
      "Now that you know how to fill out the table, we'll look at tracking the loads during the process of building an eight story building."
     ]
    },
    {
     "cell_type": "heading",
     "level": 2,
     "metadata": {
      "slideshow": {
       "slide_type": "slide"
      }
     },
     "source": [
      "First Floor"
     ]
    },
    {
     "cell_type": "markdown",
     "metadata": {},
     "source": [
      "<audio controls data-autoplay preload>\n",
      " <source src=\"https://github.com/damontallen/Construction-Lectures/raw/master/Lecture%20Audio/Week%2010/Reshoring%20Slabs/First%20Floor.mp3\"\n",
      "         type='audio/mp3'>\n",
      " <p>Your user agent does not support the HTML5 Audio element or the files are missing.</p>\n",
      "</audio>"
     ]
    },
    {
     "cell_type": "code",
     "collapsed": false,
     "input": [
      "struct.show"
     ],
     "language": "python",
     "metadata": {},
     "outputs": [
      {
       "html": [
        "<strong>Action taken: Pour a Slab</strong>\n",
        "<table border=\"1\" class=\"dataframe\">\n",
        "  <thead>\n",
        "    <tr style=\"text-align: right;\">\n",
        "      <th rowspan = 2>Level</th><th rowspan = 2>Item</th>\n",
        "      <th rowspan = 2>Starting Loads</th>\n",
        "      <th rowspan = 2>Load to be Distributed</th>\n",
        "      <th rowspan = 2>New Slab Reactions</th>\n",
        "      <th  rowspan = 2 style=\"text-align: right;\">Number of Slabs Above<br>- Slab Reactions</th>\n",
        "      <th rowspan = 2>Ending Loads</th>\n",
        "      <th rowspan = 2>Symbol</th>\n",
        "    </tr>\n",
        "  </thead>\n",
        "  <tbody>\n",
        "    <tr>\n",
        "<th rowspan=\"2\">1</th>\n",
        "      <td>Slab</td>\n",
        "      <td> <center>-</center></td>\n",
        "      <td> <center>1</center></td>\n",
        "      <td> <center>-</center></td>\n",
        "      <td> <center>-</center></td>\n",
        "      <td> <center>0</center></td>\n",
        "      <td rowspan=2><img src=\"http://i.imgur.com/W6Tqme1.png\" alt = \"Shored Slab\" title = \"Shored Slab\"style=\"max-width:50px; max-height:50px;  float:left; margin-right:3px;\"/></td>\n",
        "    </tr>\n",
        "    <tr>\n",
        "\n",
        "      <td>Shores</td>\n",
        "      <td> <center>-</center></td>\n",
        "      <td> <center>-</center></td>\n",
        "      <td> <center>-</center></td>\n",
        "      <td> <center>1</center></td>\n",
        "      <td> <center>1</center></td>\n",
        "    </tr>\n",
        "  </tbody>\n",
        "</table>\n"
       ],
       "metadata": {},
       "output_type": "pyout",
       "prompt_number": 6,
       "text": [
        "<IPython.core.display.HTML at 0x7f58989e9dd8>"
       ]
      }
     ],
     "prompt_number": 6
    },
    {
     "cell_type": "markdown",
     "metadata": {},
     "source": [
      "When we add a second slab (without stripping the level 1 formwork), the first slab cannot move, so the load is carried by the level 1 shores."
     ]
    },
    {
     "cell_type": "code",
     "collapsed": false,
     "input": [
      "struct.add_slab"
     ],
     "language": "python",
     "metadata": {},
     "outputs": [
      {
       "html": [
        "<strong>Action taken: Pour a Slab on Level 2</strong>\n",
        "<table border=\"1\" class=\"dataframe\">\n",
        "  <thead>\n",
        "    <tr style=\"text-align: right;\">\n",
        "      <th rowspan = 2>Level</th><th rowspan = 2>Item</th>\n",
        "      <th rowspan = 2>Starting Loads</th>\n",
        "      <th rowspan = 2>Load to be Distributed</th>\n",
        "      <th rowspan = 2>New Slab Reactions</th>\n",
        "      <th  rowspan = 2 style=\"text-align: right;\">Number of Slabs Above<br>- Slab Reactions</th>\n",
        "      <th rowspan = 2>Ending Loads</th>\n",
        "      <th rowspan = 2>Symbol</th>\n",
        "    </tr>\n",
        "  </thead>\n",
        "  <tbody>\n",
        "    <tr>\n",
        "<th rowspan=\"2\">2</th>\n",
        "      <td>Slab</td>\n",
        "      <td> <center>-</center></td>\n",
        "      <td> <center>1</center></td>\n",
        "      <td> <center>-</center></td>\n",
        "      <td> <center>-</center></td>\n",
        "      <td> <center>0</center></td>\n",
        "      <td rowspan=2><img src=\"http://i.imgur.com/W6Tqme1.png\" alt = \"Shored Slab\" title = \"Shored Slab\"style=\"max-width:50px; max-height:50px;  float:left; margin-right:3px;\"/></td>\n",
        "    </tr>\n",
        "    <tr>\n",
        "\n",
        "      <td>Shores</td>\n",
        "      <td> <center>-</center></td>\n",
        "      <td> <center>-</center></td>\n",
        "      <td> <center>-</center></td>\n",
        "      <td> <center>1</center></td>\n",
        "      <td> <center>1</center></td>\n",
        "    </tr>\n",
        "    <tr>\n",
        "<th rowspan=\"2\">1</th>\n",
        "      <td>Slab</td>\n",
        "      <td> <center>0</center></td>\n",
        "      <td> <center>-</center></td>\n",
        "      <td> <center>-</center></td>\n",
        "      <td> <center>-</center></td>\n",
        "      <td> <center>0</center></td>\n",
        "      <td rowspan=2><img src=\"http://i.imgur.com/W6Tqme1.png\" alt = \"Shored Slab\" title = \"Shored Slab\"style=\"max-width:50px; max-height:50px;  float:left; margin-right:3px;\"/></td>\n",
        "    </tr>\n",
        "    <tr>\n",
        "\n",
        "      <td>Shores</td>\n",
        "      <td> <center>1</center></td>\n",
        "      <td> <center>-</center></td>\n",
        "      <td> <center>-</center></td>\n",
        "      <td> <center>2</center></td>\n",
        "      <td> <center>2</center></td>\n",
        "    </tr>\n",
        "  </tbody>\n",
        "</table>\n"
       ],
       "metadata": {},
       "output_type": "pyout",
       "prompt_number": 7,
       "text": [
        "<IPython.core.display.HTML at 0x7f58b03eca58>"
       ]
      }
     ],
     "prompt_number": 7
    },
    {
     "cell_type": "markdown",
     "metadata": {},
     "source": [
      "As for the table approach, we start with one slab load being carried by the level 1 shores, (this comes from the previous ending loads).  When we add a new slab, we must distribute 1 slab dead load through the supports.  This is a little unusual in this method since the slabs cannot move to react, so no loads can be carried by the slabs.  Next, we get to the shore loads.  At level 2, there is one slab above, and it is not carying any load so the shore must carry 1 slab dead load.  At level 1, there are two slabs above those shores, but neither slab is carrying any load, the shores must carry 2 slab dead loads.  This process will become a little clearer when we are up a couple levels above the gound."
     ]
    },
    {
     "cell_type": "heading",
     "level": 2,
     "metadata": {
      "slideshow": {
       "slide_type": "slide"
      }
     },
     "source": [
      "Remove Level 1 Shores"
     ]
    },
    {
     "cell_type": "markdown",
     "metadata": {},
     "source": [
      "<audio controls data-autoplay preload>\n",
      " <source src=\"https://github.com/damontallen/Construction-Lectures/raw/master/Lecture%20Audio/Week%2010/Reshoring%20Slabs/Remove%20Level%201%20Shores.mp3\"\n",
      "         type='audio/mp3'>\n",
      " <p>Your user agent does not support the HTML5 Audio element or the files are missing.</p>\n",
      "</audio>"
     ]
    },
    {
     "cell_type": "markdown",
     "metadata": {},
     "source": [
      "When we remove the shores on level 1, the level 1 slab can now sag.  However, as it sags, the shores, and the level 2 slab, also move down the same amount.  This means that once the first slab sags enough to carry its own weight, then level 2's slab has sagged enough to carry its own weight as well."
     ]
    },
    {
     "cell_type": "code",
     "collapsed": false,
     "input": [
      "struct.remove_shore"
     ],
     "language": "python",
     "metadata": {},
     "outputs": [
      {
       "html": [
        "<strong>Action taken: Remove Shores at Level 1</strong>\n",
        "<table border=\"1\" class=\"dataframe\">\n",
        "  <thead>\n",
        "    <tr style=\"text-align: right;\">\n",
        "      <th rowspan = 2>Level</th><th rowspan = 2>Item</th>\n",
        "      <th rowspan = 2>Starting Loads</th>\n",
        "      <th rowspan = 2>Load to be Distributed</th>\n",
        "      <th rowspan = 2>New Slab Reactions</th>\n",
        "      <th  rowspan = 2 style=\"text-align: right;\">Number of Slabs Above<br>- Slab Reactions</th>\n",
        "      <th rowspan = 2>Ending Loads</th>\n",
        "      <th rowspan = 2>Symbol</th>\n",
        "    </tr>\n",
        "  </thead>\n",
        "  <tbody>\n",
        "    <tr>\n",
        "<th rowspan=\"2\">2</th>\n",
        "      <td>Slab</td>\n",
        "      <td> <center>0</center></td>\n",
        "      <td> <center>-</center></td>\n",
        "      <td> <center>1</center></td>\n",
        "      <td> <center>-</center></td>\n",
        "      <td> <center>1</center></td>\n",
        "      <td rowspan=2><img src=\"http://i.imgur.com/W6Tqme1.png\" alt = \"Shored Slab\" title = \"Shored Slab\"style=\"max-width:50px; max-height:50px;  float:left; margin-right:3px;\"/></td>\n",
        "    </tr>\n",
        "    <tr>\n",
        "\n",
        "      <td>Shores</td>\n",
        "      <td> <center>1</center></td>\n",
        "      <td> <center>-</center></td>\n",
        "      <td> <center>-</center></td>\n",
        "      <td> <center>0</center></td>\n",
        "      <td> <center>0</center></td>\n",
        "    </tr>\n",
        "    <tr>\n",
        "<th rowspan=\"2\">1</th>\n",
        "      <td>Slab</td>\n",
        "      <td> <center>0</center></td>\n",
        "      <td> <center>-</center></td>\n",
        "      <td> <center>1</center></td>\n",
        "      <td> <center>-</center></td>\n",
        "      <td> <center>1</center></td>\n",
        "      <td rowspan=2><img src=\"http://i.imgur.com/f9HJsu6.png\" alt = \"Unshored Slab\" title = \"Unshored Slab\"style=\"max-width:50px; max-height:50px;  float:left; margin-right:3px;\"/></td>\n",
        "    </tr>\n",
        "    <tr>\n",
        "\n",
        "      <td>Empty</td>\n",
        "      <td> <center>2</center></td>\n",
        "      <td> <center>2</center></td>\n",
        "      <td> <center>-</center></td>\n",
        "      <td> <center>-</center></td>\n",
        "      <td> <center>-</center></td>\n",
        "    </tr>\n",
        "  </tbody>\n",
        "</table>\n"
       ],
       "metadata": {},
       "output_type": "pyout",
       "prompt_number": 8,
       "text": [
        "<IPython.core.display.HTML at 0x7f58989e97b8>"
       ]
      }
     ],
     "prompt_number": 8
    },
    {
     "cell_type": "markdown",
     "metadata": {},
     "source": [
      "In terms of the table, the load carried by the level 1 shores must now be spread across the slabs above equally.  This means since there are two slabs above the level 1 shores, half of the load previously carried by the level 1 shores will now be carried by each slab.  Add that load to the starting slab loads for each level, and we now get the the new reactions of the slabs.  Since the slab reactions equal to the loads at each level, nothing is being carried by the shores.  Thus we get our ending loads."
     ]
    },
    {
     "cell_type": "code",
     "collapsed": false,
     "input": [
      "struct.reshore"
     ],
     "language": "python",
     "metadata": {
      "slideshow": {
       "slide_type": "skip"
      }
     },
     "outputs": [
      {
       "output_type": "stream",
       "stream": "stdout",
       "text": [
        "Reshore does not affect loads.  To show the reshore step set show_reshore to True\n"
       ]
      }
     ],
     "prompt_number": 9
    },
    {
     "cell_type": "heading",
     "level": 2,
     "metadata": {
      "slideshow": {
       "slide_type": "slide"
      }
     },
     "source": [
      "Add a Slab to Level 3"
     ]
    },
    {
     "cell_type": "markdown",
     "metadata": {},
     "source": [
      "<audio controls data-autoplay preload>\n",
      " <source src=\"https://github.com/damontallen/Construction-Lectures/raw/master/Lecture%20Audio/Week%2010/Reshoring%20Slabs/Add%20a%20Slab%20to%20Level%203.mp3\"\n",
      "         type='audio/mp3'>\n",
      " <p>Your user agent does not support the HTML5 Audio element or the files are missing.</p>\n",
      "</audio>"
     ]
    },
    {
     "cell_type": "markdown",
     "metadata": {},
     "source": [
      "By having all slabs either shored, or reshored to restrict their movement, the load of a new slab must be carried by the shores all the way to the ground."
     ]
    },
    {
     "cell_type": "code",
     "collapsed": false,
     "input": [
      "struct.add_slab"
     ],
     "language": "python",
     "metadata": {},
     "outputs": [
      {
       "html": [
        "<strong>Action taken: Reshore level 1, and Pour a Slab on Level 3</strong>\n",
        "<table border=\"1\" class=\"dataframe\">\n",
        "  <thead>\n",
        "    <tr style=\"text-align: right;\">\n",
        "      <th rowspan = 2>Level</th><th rowspan = 2>Item</th>\n",
        "      <th rowspan = 2>Starting Loads</th>\n",
        "      <th rowspan = 2>Load to be Distributed</th>\n",
        "      <th rowspan = 2>New Slab Reactions</th>\n",
        "      <th  rowspan = 2 style=\"text-align: right;\">Number of Slabs Above<br>- Slab Reactions</th>\n",
        "      <th rowspan = 2>Ending Loads</th>\n",
        "      <th rowspan = 2>Symbol</th>\n",
        "    </tr>\n",
        "  </thead>\n",
        "  <tbody>\n",
        "    <tr>\n",
        "<th rowspan=\"2\">3</th>\n",
        "      <td>Slab</td>\n",
        "      <td> <center>-</center></td>\n",
        "      <td> <center>1</center></td>\n",
        "      <td> <center>-</center></td>\n",
        "      <td> <center>-</center></td>\n",
        "      <td> <center>0</center></td>\n",
        "      <td rowspan=2><img src=\"http://i.imgur.com/W6Tqme1.png\" alt = \"Shored Slab\" title = \"Shored Slab\"style=\"max-width:50px; max-height:50px;  float:left; margin-right:3px;\"/></td>\n",
        "    </tr>\n",
        "    <tr>\n",
        "\n",
        "      <td>Shores</td>\n",
        "      <td> <center>-</center></td>\n",
        "      <td> <center>-</center></td>\n",
        "      <td> <center>-</center></td>\n",
        "      <td> <center>1</center></td>\n",
        "      <td> <center>1</center></td>\n",
        "    </tr>\n",
        "    <tr>\n",
        "<th rowspan=\"2\">2</th>\n",
        "      <td>Slab</td>\n",
        "      <td> <center>1</center></td>\n",
        "      <td> <center>-</center></td>\n",
        "      <td> <center>1</center></td>\n",
        "      <td> <center>-</center></td>\n",
        "      <td> <center>1</center></td>\n",
        "      <td rowspan=2><img src=\"http://i.imgur.com/W6Tqme1.png\" alt = \"Shored Slab\" title = \"Shored Slab\"style=\"max-width:50px; max-height:50px;  float:left; margin-right:3px;\"/></td>\n",
        "    </tr>\n",
        "    <tr>\n",
        "\n",
        "      <td>Shores</td>\n",
        "      <td> <center>0</center></td>\n",
        "      <td> <center>-</center></td>\n",
        "      <td> <center>-</center></td>\n",
        "      <td> <center>1</center></td>\n",
        "      <td> <center>1</center></td>\n",
        "    </tr>\n",
        "    <tr>\n",
        "<th rowspan=\"2\">1</th>\n",
        "      <td>Slab</td>\n",
        "      <td> <center>1</center></td>\n",
        "      <td> <center>-</center></td>\n",
        "      <td> <center>1</center></td>\n",
        "      <td> <center>-</center></td>\n",
        "      <td> <center>1</center></td>\n",
        "      <td rowspan=2><img src=\"http://i.imgur.com/vMgiW58.png\" alt = \"Reshored Slab\" title = \"Reshored Slab\"style=\"max-width:50px; max-height:50px;  float:left; margin-right:3px;\"/></td>\n",
        "    </tr>\n",
        "    <tr>\n",
        "\n",
        "      <td>Reshores</td>\n",
        "      <td> <center>0</center></td>\n",
        "      <td> <center>-</center></td>\n",
        "      <td> <center>-</center></td>\n",
        "      <td> <center>1</center></td>\n",
        "      <td> <center>1</center></td>\n",
        "    </tr>\n",
        "  </tbody>\n",
        "</table>\n"
       ],
       "metadata": {},
       "output_type": "pyout",
       "prompt_number": 10,
       "text": [
        "<IPython.core.display.HTML at 0x7f58989e9a58>"
       ]
      }
     ],
     "prompt_number": 10
    },
    {
     "cell_type": "heading",
     "level": 2,
     "metadata": {
      "slideshow": {
       "slide_type": "slide"
      }
     },
     "source": [
      "Remove Level 1's Reshores"
     ]
    },
    {
     "cell_type": "markdown",
     "metadata": {},
     "source": [
      "<audio controls data-autoplay preload>\n",
      " <source src=\"https://github.com/damontallen/Construction-Lectures/raw/master/Lecture%20Audio/Week%2010/Reshoring%20Slabs/Remove%20Level%201's%20Reshores.mp3\"\n",
      "         type='audio/mp3'>\n",
      " <p>Your user agent does not support the HTML5 Audio element or the files are missing.</p>\n",
      "</audio>"
     ]
    },
    {
     "cell_type": "markdown",
     "metadata": {},
     "source": [
      "With this action we can see the use of this table, and how it helps in organizing the slab, and shore loads.  By removing the reshores on level 1, we must distribute the single slab dead load equally to the three slabs above, $\\frac{1}{3} D$ to each slab.  This load is added to the load already carried by each slab at each level.  Since level 3's slab was not originally carrying any load, it only caries $\\frac{1}{3}$ of its own dead load.  Level 2, and level 1's slabs, each must carry an additional $\\frac{1}{3}$ of their own dead load to compensate for the load that was previously carried by level 1's reshores."
     ]
    },
    {
     "cell_type": "code",
     "collapsed": false,
     "input": [
      "struct.remove_reshore"
     ],
     "language": "python",
     "metadata": {},
     "outputs": [
      {
       "html": [
        "<strong>Action taken: Remove Reshores at Level 1</strong>\n",
        "<table border=\"1\" class=\"dataframe\">\n",
        "  <thead>\n",
        "    <tr style=\"text-align: right;\">\n",
        "      <th rowspan = 2>Level</th><th rowspan = 2>Item</th>\n",
        "      <th rowspan = 2>Starting Loads</th>\n",
        "      <th rowspan = 2>Load to be Distributed</th>\n",
        "      <th rowspan = 2>New Slab Reactions</th>\n",
        "      <th  rowspan = 2 style=\"text-align: right;\">Number of Slabs Above<br>- Slab Reactions</th>\n",
        "      <th rowspan = 2>Ending Loads</th>\n",
        "      <th rowspan = 2>Symbol</th>\n",
        "    </tr>\n",
        "  </thead>\n",
        "  <tbody>\n",
        "    <tr>\n",
        "<th rowspan=\"2\">3</th>\n",
        "      <td>Slab</td>\n",
        "      <td> <center>0</center></td>\n",
        "      <td> <center>-</center></td>\n",
        "      <td> <center>0.3333</center></td>\n",
        "      <td>         <center>-</center></td>\n",
        "      <td> <center>0.3333</center></td>\n",
        "      <td rowspan=2><img src=\"http://i.imgur.com/W6Tqme1.png\" alt = \"Shored Slab\" title = \"Shored Slab\"style=\"max-width:50px; max-height:50px;  float:left; margin-right:3px;\"/></td>\n",
        "    </tr>\n",
        "    <tr>\n",
        "\n",
        "      <td>Shores</td>\n",
        "      <td> <center>1</center></td>\n",
        "      <td> <center>-</center></td>\n",
        "      <td>         <center>-</center></td>\n",
        "      <td> <center>0.6667</center></td>\n",
        "      <td> <center>0.6667</center></td>\n",
        "    </tr>\n",
        "    <tr>\n",
        "<th rowspan=\"2\">2</th>\n",
        "      <td>Slab</td>\n",
        "      <td> <center>1</center></td>\n",
        "      <td> <center>-</center></td>\n",
        "      <td>  <center>1.3333</center></td>\n",
        "      <td>         <center>-</center></td>\n",
        "      <td>  <center>1.3333</center></td>\n",
        "      <td rowspan=2><img src=\"http://i.imgur.com/W6Tqme1.png\" alt = \"Shored Slab\" title = \"Shored Slab\"style=\"max-width:50px; max-height:50px;  float:left; margin-right:3px;\"/></td>\n",
        "    </tr>\n",
        "    <tr>\n",
        "\n",
        "      <td>Shores</td>\n",
        "      <td> <center>1</center></td>\n",
        "      <td> <center>-</center></td>\n",
        "      <td>         <center>-</center></td>\n",
        "      <td> <center>0.3333</center></td>\n",
        "      <td> <center>0.3333</center></td>\n",
        "    </tr>\n",
        "    <tr>\n",
        "<th rowspan=\"2\">1</th>\n",
        "      <td>Slab</td>\n",
        "      <td> <center>1</center></td>\n",
        "      <td> <center>-</center></td>\n",
        "      <td>  <center>1.3333</center></td>\n",
        "      <td>         <center>-</center></td>\n",
        "      <td>  <center>1.3333</center></td>\n",
        "      <td rowspan=2><img src=\"http://i.imgur.com/f9HJsu6.png\" alt = \"Unshored Slab\" title = \"Unshored Slab\"style=\"max-width:50px; max-height:50px;  float:left; margin-right:3px;\"/></td>\n",
        "    </tr>\n",
        "    <tr>\n",
        "\n",
        "      <td>Empty</td>\n",
        "      <td> <center>1</center></td>\n",
        "      <td> <center>1</center></td>\n",
        "      <td>         <center>-</center></td>\n",
        "      <td>         <center>-</center></td>\n",
        "      <td>         <center>-</center></td>\n",
        "    </tr>\n",
        "  </tbody>\n",
        "</table>\n"
       ],
       "metadata": {},
       "output_type": "pyout",
       "prompt_number": 11,
       "text": [
        "<IPython.core.display.HTML at 0x7f58989e9ef0>"
       ]
      }
     ],
     "prompt_number": 11
    },
    {
     "cell_type": "markdown",
     "metadata": {},
     "source": [
      "Now we come to the shore loads.  Level 3's shores see 1 slab dead load above them, and the slab above them is only carrying $\\frac{1}{3}$ of it.  This means that Level 3's shores must carry the remaining $\\frac{2}{3} D$.  At level 2, the shores see 2 slab dead loads above, but between level 3, and level 2's slabs, there is a total reaction of $1 \\frac{2}{3} D$.  This means that level 2's shores must only carry $2 D- 1 \\frac{2}{3} D$ or $\\frac{1}{3}$ of a slab dead load.  Now we have solved all of our loads, and we can write them in the Ending Loads column."
     ]
    },
    {
     "cell_type": "code",
     "collapsed": false,
     "input": [
      "#print(struct._show_all())"
     ],
     "language": "python",
     "metadata": {
      "slideshow": {
       "slide_type": "skip"
      }
     },
     "outputs": [],
     "prompt_number": 12
    },
    {
     "cell_type": "code",
     "collapsed": false,
     "input": [
      "struct.remove_shore #use show all"
     ],
     "language": "python",
     "metadata": {
      "slideshow": {
       "slide_type": "skip"
      }
     },
     "outputs": [
      {
       "html": [
        "<strong>Action taken: Remove Shores at Level 2</strong>\n",
        "<table border=\"1\" class=\"dataframe\">\n",
        "  <thead>\n",
        "    <tr style=\"text-align: right;\">\n",
        "      <th rowspan = 2>Level</th><th rowspan = 2>Item</th>\n",
        "      <th rowspan = 2>Starting Loads</th>\n",
        "      <th rowspan = 2>Load to be Distributed</th>\n",
        "      <th rowspan = 2>New Slab Reactions</th>\n",
        "      <th  rowspan = 2 style=\"text-align: right;\">Number of Slabs Above<br>- Slab Reactions</th>\n",
        "      <th rowspan = 2>Ending Loads</th>\n",
        "      <th rowspan = 2>Symbol</th>\n",
        "    </tr>\n",
        "  </thead>\n",
        "  <tbody>\n",
        "    <tr>\n",
        "<th rowspan=\"2\">3</th>\n",
        "      <td>Slab</td>\n",
        "      <td> <center>0.3333</center></td>\n",
        "      <td>         <center>-</center></td>\n",
        "      <td> <center>0.5</center></td>\n",
        "      <td>   <center>-</center></td>\n",
        "      <td> <center>0.5</center></td>\n",
        "      <td rowspan=2><img src=\"http://i.imgur.com/W6Tqme1.png\" alt = \"Shored Slab\" title = \"Shored Slab\"style=\"max-width:50px; max-height:50px;  float:left; margin-right:3px;\"/></td>\n",
        "    </tr>\n",
        "    <tr>\n",
        "\n",
        "      <td>Shores</td>\n",
        "      <td> <center>0.6667</center></td>\n",
        "      <td>         <center>-</center></td>\n",
        "      <td>   <center>-</center></td>\n",
        "      <td> <center>0.5</center></td>\n",
        "      <td> <center>0.5</center></td>\n",
        "    </tr>\n",
        "    <tr>\n",
        "<th rowspan=\"2\">2</th>\n",
        "      <td>Slab</td>\n",
        "      <td>  <center>1.3333</center></td>\n",
        "      <td>         <center>-</center></td>\n",
        "      <td> <center>1.5</center></td>\n",
        "      <td>   <center>-</center></td>\n",
        "      <td> <center>1.5</center></td>\n",
        "      <td rowspan=2><img src=\"http://i.imgur.com/f9HJsu6.png\" alt = \"Unshored Slab\" title = \"Unshored Slab\"style=\"max-width:50px; max-height:50px;  float:left; margin-right:3px;\"/></td>\n",
        "    </tr>\n",
        "    <tr>\n",
        "\n",
        "      <td>Empty</td>\n",
        "      <td> <center>0.3333</center></td>\n",
        "      <td> <center>0.3333</center></td>\n",
        "      <td>   <center>-</center></td>\n",
        "      <td>   <center>-</center></td>\n",
        "      <td>   <center>-</center></td>\n",
        "    </tr>\n",
        "  </tbody>\n",
        "</table>\n"
       ],
       "metadata": {},
       "output_type": "pyout",
       "prompt_number": 13,
       "text": [
        "<IPython.core.display.HTML at 0x7f5898a04710>"
       ]
      }
     ],
     "prompt_number": 13
    },
    {
     "cell_type": "heading",
     "level": 2,
     "metadata": {
      "slideshow": {
       "slide_type": "slide"
      }
     },
     "source": [
      "Remove Level 2's Shores"
     ]
    },
    {
     "cell_type": "markdown",
     "metadata": {},
     "source": [
      "<audio controls data-autoplay preload>\n",
      " <source src=\"https://github.com/damontallen/Construction-Lectures/raw/master/Lecture%20Audio/Week%2010/Reshoring%20Slabs/Remove%20Level%202's%20Shores.mp3\"\n",
      "         type='audio/mp3'>\n",
      " <p>Your user agent does not support the HTML5 Audio element or the files are missing.</p>\n",
      "</audio>"
     ]
    },
    {
     "cell_type": "markdown",
     "metadata": {},
     "source": [
      "By removing the shores on level 2, we must distribute the load carried by those shores to the two slabs above.  That means that the slabs on levels 2, and 3, must now carry an additional $\\frac{1}{6} D$, bring their reactions up to 1.5, and 0.5 respectively.  There is an additional distribution that occurs as well though.  That $\\frac{1}{3} D$ carried by the level 2 shores no longer needs to be supported by the level 1 slab.  Since the the load in no longer is no longer being supported by the level 1 slab, it only has to carry its own self-weight now."
     ]
    },
    {
     "cell_type": "code",
     "collapsed": false,
     "input": [
      "struct.show_all"
     ],
     "language": "python",
     "metadata": {},
     "outputs": [
      {
       "html": [
        "<strong>Action taken: Remove Shores at Level 2</strong>\n",
        "<table border=\"1\" class=\"dataframe\">\n",
        "  <thead>\n",
        "    <tr style=\"text-align: right;\">\n",
        "      <th rowspan = 2>Level</th><th rowspan = 2>Item</th>\n",
        "      <th rowspan = 2>Starting Loads</th>\n",
        "      <th rowspan = 2>Load to be Distributed</th>\n",
        "      <th rowspan = 2>New Slab Reactions</th>\n",
        "      <th  rowspan = 2 style=\"text-align: right;\">Number of Slabs Above<br>- Slab Reactions</th>\n",
        "      <th rowspan = 2>Ending Loads</th>\n",
        "      <th rowspan = 2>Symbol</th>\n",
        "    </tr>\n",
        "  </thead>\n",
        "  <tbody>\n",
        "    <tr>\n",
        "<th rowspan=\"2\">3</th>\n",
        "      <td>Slab</td>\n",
        "      <td> <center>0.3333</center></td>\n",
        "      <td>         <center>-</center></td>\n",
        "      <td> <center>0.5</center></td>\n",
        "      <td>   <center>-</center></td>\n",
        "      <td> <center>0.5</center></td>\n",
        "      <td rowspan=2><img src=\"http://i.imgur.com/W6Tqme1.png\" alt = \"Shored Slab\" title = \"Shored Slab\"style=\"max-width:50px; max-height:50px;  float:left; margin-right:3px;\"/></td>\n",
        "    </tr>\n",
        "    <tr>\n",
        "\n",
        "      <td>Shores</td>\n",
        "      <td> <center>0.6667</center></td>\n",
        "      <td>         <center>-</center></td>\n",
        "      <td>   <center>-</center></td>\n",
        "      <td> <center>0.5</center></td>\n",
        "      <td> <center>0.5</center></td>\n",
        "    </tr>\n",
        "    <tr>\n",
        "<th rowspan=\"2\">2</th>\n",
        "      <td>Slab</td>\n",
        "      <td>  <center>1.3333</center></td>\n",
        "      <td>         <center>-</center></td>\n",
        "      <td> <center>1.5</center></td>\n",
        "      <td>   <center>-</center></td>\n",
        "      <td> <center>1.5</center></td>\n",
        "      <td rowspan=2><img src=\"http://i.imgur.com/f9HJsu6.png\" alt = \"Unshored Slab\" title = \"Unshored Slab\"style=\"max-width:50px; max-height:50px;  float:left; margin-right:3px;\"/></td>\n",
        "    </tr>\n",
        "    <tr>\n",
        "\n",
        "      <td>Empty</td>\n",
        "      <td> <center>0.3333</center></td>\n",
        "      <td> <center>0.3333</center></td>\n",
        "      <td>   <center>-</center></td>\n",
        "      <td>   <center>-</center></td>\n",
        "      <td>   <center>-</center></td>\n",
        "    </tr>\n",
        "    <tr>\n",
        "<th rowspan=\"2\">1</th>\n",
        "      <td>Slab</td>\n",
        "      <td>  <center>1.3333</center></td>\n",
        "      <td>         <center>-</center></td>\n",
        "      <td>   <center>1</center></td>\n",
        "      <td>   <center>-</center></td>\n",
        "      <td>   <center>1</center></td>\n",
        "      <td rowspan=2><img src=\"http://i.imgur.com/f9HJsu6.png\" alt = \"Unshored Slab\" title = \"Unshored Slab\"style=\"max-width:50px; max-height:50px;  float:left; margin-right:3px;\"/></td>\n",
        "    </tr>\n",
        "    <tr>\n",
        "\n",
        "      <td>Empty</td>\n",
        "      <td>         <center>-</center></td>\n",
        "      <td>         <center>-</center></td>\n",
        "      <td>   <center>-</center></td>\n",
        "      <td>   <center>-</center></td>\n",
        "      <td>   <center>-</center></td>\n",
        "    </tr>\n",
        "  </tbody>\n",
        "</table>\n"
       ],
       "metadata": {},
       "output_type": "pyout",
       "prompt_number": 14,
       "text": [
        "<IPython.core.display.HTML at 0x7f5898a04eb8>"
       ]
      }
     ],
     "prompt_number": 14
    },
    {
     "cell_type": "markdown",
     "metadata": {},
     "source": [
      "At this point we can see the general procedure of distributing the loads, above the top empty level, to all slabs that can carry a load.  This is done by adding equal portions of the load to all these slabs.  Since all the slabs, below an empty space, are no longer carrying extra loads, their reactions drop down to only self-weight.  To prove that this works, in cases where we are not adding a new slab, just add all the slab starting loads together, and compare them with the total of the ending slab loads.\n",
      "\n",
      "$$0.3333333+1.333333+ 1.333333 = 3$$\n",
      "$$0.5 +1.5 + 1 = 3$$\n",
      "\n",
      "To finish calculating the loads for this action, we look at the shores on level 3.  They see one slab dead load above, and $\\frac{1}{2}$ a slab dead load reaction, so the level 3 shores must support $1 D - 0.5 D = 0.5 D$.  \n",
      "\n",
      "By the way, we could have left off level 1 in this table, since we know that its slab is only carrying its own self-weight by the end of the action."
     ]
    },
    {
     "cell_type": "code",
     "collapsed": false,
     "input": [
      "struct.reshore"
     ],
     "language": "python",
     "metadata": {
      "slideshow": {
       "slide_type": "skip"
      }
     },
     "outputs": [
      {
       "output_type": "stream",
       "stream": "stdout",
       "text": [
        "Reshore does not affect loads.  To show the reshore step set show_reshore to True\n"
       ]
      }
     ],
     "prompt_number": 15
    },
    {
     "cell_type": "heading",
     "level": 2,
     "metadata": {
      "slideshow": {
       "slide_type": "slide"
      }
     },
     "source": [
      "Reshore Level 2 and Pour a Slab"
     ]
    },
    {
     "cell_type": "markdown",
     "metadata": {},
     "source": [
      "<audio controls data-autoplay preload>\n",
      " <source src=\"https://github.com/damontallen/Construction-Lectures/raw/master/Lecture%20Audio/Week%2010/Reshoring%20Slabs/Reshore%20Level%202%20and%20Pour%20a%20Slab.mp3\"\n",
      "         type='audio/mp3'>\n",
      " <p>Your user agent does not support the HTML5 Audio element or the files are missing.</p>\n",
      "</audio>"
     ]
    },
    {
     "cell_type": "markdown",
     "metadata": {},
     "source": [
      "Again we add a slab to the top of the building, but not before reshoring at level 2.  This reshoring allows us to distribute the new slab load to three levels below.  This is different than rearranging existing reactions.  In this case we are clearly adding a new load to the supporting slabs."
     ]
    },
    {
     "cell_type": "code",
     "collapsed": false,
     "input": [
      "struct.add_slab"
     ],
     "language": "python",
     "metadata": {},
     "outputs": [
      {
       "html": [
        "<strong>Action taken: Reshore level 2, and Pour a Slab on Level 4</strong>\n",
        "<table border=\"1\" class=\"dataframe\">\n",
        "  <thead>\n",
        "    <tr style=\"text-align: right;\">\n",
        "      <th rowspan = 2>Level</th><th rowspan = 2>Item</th>\n",
        "      <th rowspan = 2>Starting Loads</th>\n",
        "      <th rowspan = 2>Load to be Distributed</th>\n",
        "      <th rowspan = 2>New Slab Reactions</th>\n",
        "      <th  rowspan = 2 style=\"text-align: right;\">Number of Slabs Above<br>- Slab Reactions</th>\n",
        "      <th rowspan = 2>Ending Loads</th>\n",
        "      <th rowspan = 2>Symbol</th>\n",
        "    </tr>\n",
        "  </thead>\n",
        "  <tbody>\n",
        "    <tr>\n",
        "<th rowspan=\"2\">4</th>\n",
        "      <td>Slab</td>\n",
        "      <td>   <center>-</center></td>\n",
        "      <td> <center>1</center></td>\n",
        "      <td>         <center>-</center></td>\n",
        "      <td>         <center>-</center></td>\n",
        "      <td>         <center>0</center></td>\n",
        "      <td rowspan=2><img src=\"http://i.imgur.com/W6Tqme1.png\" alt = \"Shored Slab\" title = \"Shored Slab\"style=\"max-width:50px; max-height:50px;  float:left; margin-right:3px;\"/></td>\n",
        "    </tr>\n",
        "    <tr>\n",
        "\n",
        "      <td>Shores</td>\n",
        "      <td>   <center>-</center></td>\n",
        "      <td> <center>-</center></td>\n",
        "      <td>         <center>-</center></td>\n",
        "      <td>         <center>1</center></td>\n",
        "      <td>         <center>1</center></td>\n",
        "    </tr>\n",
        "    <tr>\n",
        "<th rowspan=\"2\">3</th>\n",
        "      <td>Slab</td>\n",
        "      <td> <center>0.5</center></td>\n",
        "      <td> <center>-</center></td>\n",
        "      <td> <center>0.8333</center></td>\n",
        "      <td>         <center>-</center></td>\n",
        "      <td> <center>0.8333</center></td>\n",
        "      <td rowspan=2><img src=\"http://i.imgur.com/W6Tqme1.png\" alt = \"Shored Slab\" title = \"Shored Slab\"style=\"max-width:50px; max-height:50px;  float:left; margin-right:3px;\"/></td>\n",
        "    </tr>\n",
        "    <tr>\n",
        "\n",
        "      <td>Shores</td>\n",
        "      <td> <center>0.5</center></td>\n",
        "      <td> <center>-</center></td>\n",
        "      <td>         <center>-</center></td>\n",
        "      <td>  <center>1.1667</center></td>\n",
        "      <td>  <center>1.1667</center></td>\n",
        "    </tr>\n",
        "    <tr>\n",
        "<th rowspan=\"2\">2</th>\n",
        "      <td>Slab</td>\n",
        "      <td> <center>1.5</center></td>\n",
        "      <td> <center>-</center></td>\n",
        "      <td>  <center>1.8333</center></td>\n",
        "      <td>         <center>-</center></td>\n",
        "      <td>  <center>1.8333</center></td>\n",
        "      <td rowspan=2><img src=\"http://i.imgur.com/vMgiW58.png\" alt = \"Reshored Slab\" title = \"Reshored Slab\"style=\"max-width:50px; max-height:50px;  float:left; margin-right:3px;\"/></td>\n",
        "    </tr>\n",
        "    <tr>\n",
        "\n",
        "      <td>Reshores</td>\n",
        "      <td>   <center>0</center></td>\n",
        "      <td> <center>-</center></td>\n",
        "      <td>         <center>-</center></td>\n",
        "      <td> <center>0.3333</center></td>\n",
        "      <td> <center>0.3333</center></td>\n",
        "    </tr>\n",
        "    <tr>\n",
        "<th rowspan=\"2\">1</th>\n",
        "      <td>Slab</td>\n",
        "      <td>   <center>1</center></td>\n",
        "      <td> <center>-</center></td>\n",
        "      <td>  <center>1.3333</center></td>\n",
        "      <td>         <center>-</center></td>\n",
        "      <td>  <center>1.3333</center></td>\n",
        "      <td rowspan=2><img src=\"http://i.imgur.com/f9HJsu6.png\" alt = \"Unshored Slab\" title = \"Unshored Slab\"style=\"max-width:50px; max-height:50px;  float:left; margin-right:3px;\"/></td>\n",
        "    </tr>\n",
        "    <tr>\n",
        "\n",
        "      <td>Empty</td>\n",
        "      <td>   <center>-</center></td>\n",
        "      <td> <center>-</center></td>\n",
        "      <td>         <center>-</center></td>\n",
        "      <td>         <center>-</center></td>\n",
        "      <td>         <center>-</center></td>\n",
        "    </tr>\n",
        "  </tbody>\n",
        "</table>\n"
       ],
       "metadata": {},
       "output_type": "pyout",
       "prompt_number": 16,
       "text": [
        "<IPython.core.display.HTML at 0x7f5898a04da0>"
       ]
      }
     ],
     "prompt_number": 16
    },
    {
     "cell_type": "markdown",
     "metadata": {},
     "source": [
      "Level 4's shores see 1 dead load, and no support above, so they must carry a whole slab dead load.  At level 3, there are 2 dead loads, and $0.83333 D$ support above.  This means they must carry $2 D- 0.83333 D$, or $1.1666667 D$. At level 2 the calculation for the shores becomes $3 D - 0.833333 D - 1.833333 D = 0.333333 D$.  \n",
      "\n",
      "We can now transfer the loads from New Slab Reactions, and the shore loads, to the Ending Loads column."
     ]
    },
    {
     "cell_type": "heading",
     "level": 2,
     "metadata": {
      "slideshow": {
       "slide_type": "slide"
      }
     },
     "source": [
      "Removing Shores from Level 3"
     ]
    },
    {
     "cell_type": "markdown",
     "metadata": {},
     "source": [
      "<audio controls data-autoplay preload>\n",
      " <source src=\"https://github.com/damontallen/Construction-Lectures/raw/master/Lecture%20Audio/Week%2010/Reshoring%20Slabs/Removing%20Shores%20from%20Level%203.mp3\"\n",
      "         type='audio/mp3'>\n",
      " <p>Your user agent does not support the HTML5 Audio element or the files are missing.</p>\n",
      "</audio>"
     ]
    },
    {
     "cell_type": "markdown",
     "metadata": {},
     "source": [
      "There are 2 slabs above, and below, the level 3 shores.  This means the each of these slabs' reactions will either, gain $\\frac{1.16667 D}{2} = 0.583333 D$, or just drop to self weight.  Level 3 and 4's slabs gains this additional load.  Their reactions become $1.416667$ and $0.583333 D$ respectively.  Since the loads on level 2 and level 1's slabs are reduced by a total of $1.166667 D$, they wind up dropping to self-weight alone."
     ]
    },
    {
     "cell_type": "code",
     "collapsed": false,
     "input": [
      "struct.remove_shore"
     ],
     "language": "python",
     "metadata": {},
     "outputs": [
      {
       "html": [
        "<strong>Action taken: Remove Shores at Level 3</strong>\n",
        "<table border=\"1\" class=\"dataframe\">\n",
        "  <thead>\n",
        "    <tr style=\"text-align: right;\">\n",
        "      <th rowspan = 2>Level</th><th rowspan = 2>Item</th>\n",
        "      <th rowspan = 2>Starting Loads</th>\n",
        "      <th rowspan = 2>Load to be Distributed</th>\n",
        "      <th rowspan = 2>New Slab Reactions</th>\n",
        "      <th  rowspan = 2 style=\"text-align: right;\">Number of Slabs Above<br>- Slab Reactions</th>\n",
        "      <th rowspan = 2>Ending Loads</th>\n",
        "      <th rowspan = 2>Symbol</th>\n",
        "    </tr>\n",
        "  </thead>\n",
        "  <tbody>\n",
        "    <tr>\n",
        "<th rowspan=\"2\">4</th>\n",
        "      <td>Slab</td>\n",
        "      <td>         <center>0</center></td>\n",
        "      <td>        <center>-</center></td>\n",
        "      <td> <center>0.5833</center></td>\n",
        "      <td>         <center>-</center></td>\n",
        "      <td> <center>0.5833</center></td>\n",
        "      <td rowspan=2><img src=\"http://i.imgur.com/W6Tqme1.png\" alt = \"Shored Slab\" title = \"Shored Slab\"style=\"max-width:50px; max-height:50px;  float:left; margin-right:3px;\"/></td>\n",
        "    </tr>\n",
        "    <tr>\n",
        "\n",
        "      <td>Shores</td>\n",
        "      <td>         <center>1</center></td>\n",
        "      <td>        <center>-</center></td>\n",
        "      <td>         <center>-</center></td>\n",
        "      <td> <center>0.4167</center></td>\n",
        "      <td> <center>0.4167</center></td>\n",
        "    </tr>\n",
        "    <tr>\n",
        "<th rowspan=\"2\">3</th>\n",
        "      <td>Slab</td>\n",
        "      <td> <center>0.8333</center></td>\n",
        "      <td>        <center>-</center></td>\n",
        "      <td>  <center>1.4167</center></td>\n",
        "      <td>         <center>-</center></td>\n",
        "      <td>  <center>1.4167</center></td>\n",
        "      <td rowspan=2><img src=\"http://i.imgur.com/f9HJsu6.png\" alt = \"Unshored Slab\" title = \"Unshored Slab\"style=\"max-width:50px; max-height:50px;  float:left; margin-right:3px;\"/></td>\n",
        "    </tr>\n",
        "    <tr>\n",
        "\n",
        "      <td>Empty</td>\n",
        "      <td>  <center>1.1667</center></td>\n",
        "      <td> <center>1.1667</center></td>\n",
        "      <td>         <center>-</center></td>\n",
        "      <td>         <center>-</center></td>\n",
        "      <td>         <center>-</center></td>\n",
        "    </tr>\n",
        "    <tr>\n",
        "<th rowspan=\"2\">2</th>\n",
        "      <td>Slab</td>\n",
        "      <td>  <center>1.8333</center></td>\n",
        "      <td>        <center>-</center></td>\n",
        "      <td>         <center>1</center></td>\n",
        "      <td>         <center>-</center></td>\n",
        "      <td>         <center>1</center></td>\n",
        "      <td rowspan=2><img src=\"http://i.imgur.com/vMgiW58.png\" alt = \"Reshored Slab\" title = \"Reshored Slab\"style=\"max-width:50px; max-height:50px;  float:left; margin-right:3px;\"/></td>\n",
        "    </tr>\n",
        "    <tr>\n",
        "\n",
        "      <td>Reshores</td>\n",
        "      <td> <center>0.3333</center></td>\n",
        "      <td>        <center>-</center></td>\n",
        "      <td>         <center>-</center></td>\n",
        "      <td>         <center>0</center></td>\n",
        "      <td>         <center>0</center></td>\n",
        "    </tr>\n",
        "    <tr>\n",
        "<th rowspan=\"2\">1</th>\n",
        "      <td>Slab</td>\n",
        "      <td>  <center>1.3333</center></td>\n",
        "      <td>        <center>-</center></td>\n",
        "      <td>         <center>1</center></td>\n",
        "      <td>         <center>-</center></td>\n",
        "      <td>         <center>1</center></td>\n",
        "      <td rowspan=2><img src=\"http://i.imgur.com/f9HJsu6.png\" alt = \"Unshored Slab\" title = \"Unshored Slab\"style=\"max-width:50px; max-height:50px;  float:left; margin-right:3px;\"/></td>\n",
        "    </tr>\n",
        "    <tr>\n",
        "\n",
        "      <td>Empty</td>\n",
        "      <td>         <center>-</center></td>\n",
        "      <td>        <center>-</center></td>\n",
        "      <td>         <center>-</center></td>\n",
        "      <td>         <center>-</center></td>\n",
        "      <td>         <center>-</center></td>\n",
        "    </tr>\n",
        "  </tbody>\n",
        "</table>\n"
       ],
       "metadata": {},
       "output_type": "pyout",
       "prompt_number": 17,
       "text": [
        "<IPython.core.display.HTML at 0x7f5898a04c88>"
       ]
      }
     ],
     "prompt_number": 17
    },
    {
     "cell_type": "markdown",
     "metadata": {},
     "source": [
      "Since the Level 4's shores see a single slab dead load above, which is only partially supported by an amount of $0.583333 D$, they must carry $1 D - 0.583333 D = 0.416667 D$.  There are still reshores on level 2.  Above them there are three slabs of dead load, but there are also some reactions.  This means that we can calculate the load on those reshores by:\n",
      "\n",
      "$$3 D - 0.583333 D - 1.416667 D - 1 D = 0 D$$\n",
      "\n",
      "This is actually obvious since there is an empty space at level 3, and every layer of shores, and reshores below, must carry no load, since none can be transmitted past level 3."
     ]
    },
    {
     "cell_type": "code",
     "collapsed": false,
     "input": [
      "struct.reshore"
     ],
     "language": "python",
     "metadata": {
      "slideshow": {
       "slide_type": "skip"
      }
     },
     "outputs": [
      {
       "output_type": "stream",
       "stream": "stdout",
       "text": [
        "Reshore does not affect loads.  To show the reshore step set show_reshore to True\n"
       ]
      }
     ],
     "prompt_number": 18
    },
    {
     "cell_type": "heading",
     "level": 2,
     "metadata": {
      "slideshow": {
       "slide_type": "slide"
      }
     },
     "source": [
      "The Rest of the Building"
     ]
    },
    {
     "cell_type": "markdown",
     "metadata": {},
     "source": [
      "<audio controls data-autoplay preload>\n",
      " <source src=\"https://github.com/damontallen/Construction-Lectures/raw/master/Lecture%20Audio/Week%2010/Reshoring%20Slabs/The%20Rest%20of%20the%20Building.mp3\"\n",
      "         type='audio/mp3'>\n",
      " <p>Your user agent does not support the HTML5 Audio element or the files are missing.</p>\n",
      "</audio>"
     ]
    },
    {
     "cell_type": "markdown",
     "metadata": {},
     "source": [
      "What I am showing here, is the table from the previous slide.  From here on out, the results from, adding slabs, removing shores, and reshores, will just follow the same processes as we've already seen.  To be clear, this example is more for teaching you how to calculate these ending loads, than an appropriate reshoring sequence.  The sequence *you* will have to follow, will depend on how much time you need to keep the slab forms in place, and how much time you have your schedule for each pour.  As a general rule of thumb, the more levels of slabs that are poured before stripping, the greater the strength of the the formwork needs to be.  This is especially true for the shores.  Another idea you should take away from this, is that the more levels of reshores you have in place, the more slabs will be carrying the load from a fresh pour, and the less likely any particular slab will fail.\n",
      "\n",
      "The rest of this example building sequence will be on slides below.  \n",
      "\n",
      "I am going to indicate what actions will be on the next slide, and what I want you to do is to take some notebook paper, and calculate what you think will be the new ending loads will be.  The next slide below will be for reshoring level 3, and pouring level 5's slab.\n",
      "\n",
      "As you procede down, from one ation to the next, you should get to a point where you repeatedly get the right results.  Once you are confident that you can calculate the loads, resulting from a specific action, given the current condition of the building, then continue to the right.\n",
      "\n",
      "FYI: I will not be talking in the slides below, so you need to read the results, and next action in each slide."
     ]
    },
    {
     "cell_type": "code",
     "collapsed": false,
     "input": [
      "struct.show"
     ],
     "language": "python",
     "metadata": {},
     "outputs": [
      {
       "html": [
        "<strong>Action taken: Reshore level 3</strong>\n",
        "<table border=\"1\" class=\"dataframe\">\n",
        "  <thead>\n",
        "    <tr style=\"text-align: right;\">\n",
        "      <th rowspan = 2>Level</th><th rowspan = 2>Item</th>\n",
        "      <th rowspan = 2>Starting Loads</th>\n",
        "      <th rowspan = 2>Load to be Distributed</th>\n",
        "      <th rowspan = 2>New Slab Reactions</th>\n",
        "      <th  rowspan = 2 style=\"text-align: right;\">Number of Slabs Above<br>- Slab Reactions</th>\n",
        "      <th rowspan = 2>Ending Loads</th>\n",
        "      <th rowspan = 2>Symbol</th>\n",
        "    </tr>\n",
        "  </thead>\n",
        "  <tbody>\n",
        "    <tr>\n",
        "<th rowspan=\"2\">4</th>\n",
        "      <td>Slab</td>\n",
        "      <td> <center>0.5833</center></td>\n",
        "      <td> <center>-</center></td>\n",
        "      <td> <center>0.5833</center></td>\n",
        "      <td>         <center>-</center></td>\n",
        "      <td> <center>0.5833</center></td>\n",
        "      <td rowspan=2><img src=\"http://i.imgur.com/W6Tqme1.png\" alt = \"Shored Slab\" title = \"Shored Slab\"style=\"max-width:50px; max-height:50px;  float:left; margin-right:3px;\"/></td>\n",
        "    </tr>\n",
        "    <tr>\n",
        "\n",
        "      <td>Shores</td>\n",
        "      <td> <center>0.4167</center></td>\n",
        "      <td> <center>-</center></td>\n",
        "      <td>         <center>-</center></td>\n",
        "      <td> <center>0.4167</center></td>\n",
        "      <td> <center>0.4167</center></td>\n",
        "    </tr>\n",
        "    <tr>\n",
        "<th rowspan=\"2\">3</th>\n",
        "      <td>Slab</td>\n",
        "      <td>  <center>1.4167</center></td>\n",
        "      <td> <center>-</center></td>\n",
        "      <td>  <center>1.4167</center></td>\n",
        "      <td>         <center>-</center></td>\n",
        "      <td>  <center>1.4167</center></td>\n",
        "      <td rowspan=2><img src=\"http://i.imgur.com/vMgiW58.png\" alt = \"Reshored Slab\" title = \"Reshored Slab\"style=\"max-width:50px; max-height:50px;  float:left; margin-right:3px;\"/></td>\n",
        "    </tr>\n",
        "    <tr>\n",
        "\n",
        "      <td>Reshores</td>\n",
        "      <td>         <center>-</center></td>\n",
        "      <td> <center>-</center></td>\n",
        "      <td>         <center>-</center></td>\n",
        "      <td>         <center>0</center></td>\n",
        "      <td>         <center>0</center></td>\n",
        "    </tr>\n",
        "    <tr>\n",
        "<th rowspan=\"2\">2</th>\n",
        "      <td>Slab</td>\n",
        "      <td>         <center>1</center></td>\n",
        "      <td> <center>-</center></td>\n",
        "      <td>         <center>1</center></td>\n",
        "      <td>         <center>-</center></td>\n",
        "      <td>         <center>1</center></td>\n",
        "      <td rowspan=2><img src=\"http://i.imgur.com/vMgiW58.png\" alt = \"Reshored Slab\" title = \"Reshored Slab\"style=\"max-width:50px; max-height:50px;  float:left; margin-right:3px;\"/></td>\n",
        "    </tr>\n",
        "    <tr>\n",
        "\n",
        "      <td>Reshores</td>\n",
        "      <td>         <center>0</center></td>\n",
        "      <td> <center>-</center></td>\n",
        "      <td>         <center>-</center></td>\n",
        "      <td>         <center>0</center></td>\n",
        "      <td>         <center>0</center></td>\n",
        "    </tr>\n",
        "    <tr>\n",
        "<th rowspan=\"2\">1</th>\n",
        "      <td>Slab</td>\n",
        "      <td>         <center>1</center></td>\n",
        "      <td> <center>-</center></td>\n",
        "      <td>         <center>1</center></td>\n",
        "      <td>         <center>-</center></td>\n",
        "      <td>         <center>1</center></td>\n",
        "      <td rowspan=2><img src=\"http://i.imgur.com/f9HJsu6.png\" alt = \"Unshored Slab\" title = \"Unshored Slab\"style=\"max-width:50px; max-height:50px;  float:left; margin-right:3px;\"/></td>\n",
        "    </tr>\n",
        "    <tr>\n",
        "\n",
        "      <td>Empty</td>\n",
        "      <td>         <center>-</center></td>\n",
        "      <td> <center>-</center></td>\n",
        "      <td>         <center>-</center></td>\n",
        "      <td>         <center>-</center></td>\n",
        "      <td>         <center>-</center></td>\n",
        "    </tr>\n",
        "  </tbody>\n",
        "</table>\n"
       ],
       "metadata": {},
       "output_type": "pyout",
       "prompt_number": 19,
       "text": [
        "<IPython.core.display.HTML at 0x7f58989e9da0>"
       ]
      }
     ],
     "prompt_number": 19
    },
    {
     "cell_type": "code",
     "collapsed": false,
     "input": [
      "struct.add_slab"
     ],
     "language": "python",
     "metadata": {
      "slideshow": {
       "slide_type": "subslide"
      }
     },
     "outputs": [
      {
       "html": [
        "<strong>Action taken: Reshore level 3, and Pour a Slab on Level 5</strong>\n",
        "<table border=\"1\" class=\"dataframe\">\n",
        "  <thead>\n",
        "    <tr style=\"text-align: right;\">\n",
        "      <th rowspan = 2>Level</th><th rowspan = 2>Item</th>\n",
        "      <th rowspan = 2>Starting Loads</th>\n",
        "      <th rowspan = 2>Load to be Distributed</th>\n",
        "      <th rowspan = 2>New Slab Reactions</th>\n",
        "      <th  rowspan = 2 style=\"text-align: right;\">Number of Slabs Above<br>- Slab Reactions</th>\n",
        "      <th rowspan = 2>Ending Loads</th>\n",
        "      <th rowspan = 2>Symbol</th>\n",
        "    </tr>\n",
        "  </thead>\n",
        "  <tbody>\n",
        "    <tr>\n",
        "<th rowspan=\"2\">5</th>\n",
        "      <td>Slab</td>\n",
        "      <td>         <center>-</center></td>\n",
        "      <td> <center>1</center></td>\n",
        "      <td>         <center>-</center></td>\n",
        "      <td>        <center>-</center></td>\n",
        "      <td>         <center>0</center></td>\n",
        "      <td rowspan=2><img src=\"http://i.imgur.com/W6Tqme1.png\" alt = \"Shored Slab\" title = \"Shored Slab\"style=\"max-width:50px; max-height:50px;  float:left; margin-right:3px;\"/></td>\n",
        "    </tr>\n",
        "    <tr>\n",
        "\n",
        "      <td>Shores</td>\n",
        "      <td>         <center>-</center></td>\n",
        "      <td> <center>-</center></td>\n",
        "      <td>         <center>-</center></td>\n",
        "      <td>        <center>1</center></td>\n",
        "      <td>         <center>1</center></td>\n",
        "    </tr>\n",
        "    <tr>\n",
        "<th rowspan=\"2\">4</th>\n",
        "      <td>Slab</td>\n",
        "      <td> <center>0.5833</center></td>\n",
        "      <td> <center>-</center></td>\n",
        "      <td> <center>0.8333</center></td>\n",
        "      <td>        <center>-</center></td>\n",
        "      <td> <center>0.8333</center></td>\n",
        "      <td rowspan=2><img src=\"http://i.imgur.com/W6Tqme1.png\" alt = \"Shored Slab\" title = \"Shored Slab\"style=\"max-width:50px; max-height:50px;  float:left; margin-right:3px;\"/></td>\n",
        "    </tr>\n",
        "    <tr>\n",
        "\n",
        "      <td>Shores</td>\n",
        "      <td> <center>0.4167</center></td>\n",
        "      <td> <center>-</center></td>\n",
        "      <td>         <center>-</center></td>\n",
        "      <td> <center>1.1667</center></td>\n",
        "      <td>  <center>1.1667</center></td>\n",
        "    </tr>\n",
        "    <tr>\n",
        "<th rowspan=\"2\">3</th>\n",
        "      <td>Slab</td>\n",
        "      <td>  <center>1.4167</center></td>\n",
        "      <td> <center>-</center></td>\n",
        "      <td>  <center>1.6667</center></td>\n",
        "      <td>        <center>-</center></td>\n",
        "      <td>  <center>1.6667</center></td>\n",
        "      <td rowspan=2><img src=\"http://i.imgur.com/vMgiW58.png\" alt = \"Reshored Slab\" title = \"Reshored Slab\"style=\"max-width:50px; max-height:50px;  float:left; margin-right:3px;\"/></td>\n",
        "    </tr>\n",
        "    <tr>\n",
        "\n",
        "      <td>Reshores</td>\n",
        "      <td>         <center>0</center></td>\n",
        "      <td> <center>-</center></td>\n",
        "      <td>         <center>-</center></td>\n",
        "      <td>      <center>0.5</center></td>\n",
        "      <td>       <center>0.5</center></td>\n",
        "    </tr>\n",
        "    <tr>\n",
        "<th rowspan=\"2\">2</th>\n",
        "      <td>Slab</td>\n",
        "      <td>         <center>1</center></td>\n",
        "      <td> <center>-</center></td>\n",
        "      <td>      <center>1.25</center></td>\n",
        "      <td>        <center>-</center></td>\n",
        "      <td>      <center>1.25</center></td>\n",
        "      <td rowspan=2><img src=\"http://i.imgur.com/vMgiW58.png\" alt = \"Reshored Slab\" title = \"Reshored Slab\"style=\"max-width:50px; max-height:50px;  float:left; margin-right:3px;\"/></td>\n",
        "    </tr>\n",
        "    <tr>\n",
        "\n",
        "      <td>Reshores</td>\n",
        "      <td>         <center>0</center></td>\n",
        "      <td> <center>-</center></td>\n",
        "      <td>         <center>-</center></td>\n",
        "      <td>     <center>0.25</center></td>\n",
        "      <td>      <center>0.25</center></td>\n",
        "    </tr>\n",
        "    <tr>\n",
        "<th rowspan=\"2\">1</th>\n",
        "      <td>Slab</td>\n",
        "      <td>         <center>1</center></td>\n",
        "      <td> <center>-</center></td>\n",
        "      <td>      <center>1.25</center></td>\n",
        "      <td>        <center>-</center></td>\n",
        "      <td>      <center>1.25</center></td>\n",
        "      <td rowspan=2><img src=\"http://i.imgur.com/f9HJsu6.png\" alt = \"Unshored Slab\" title = \"Unshored Slab\"style=\"max-width:50px; max-height:50px;  float:left; margin-right:3px;\"/></td>\n",
        "    </tr>\n",
        "    <tr>\n",
        "\n",
        "      <td>Empty</td>\n",
        "      <td>         <center>-</center></td>\n",
        "      <td> <center>-</center></td>\n",
        "      <td>         <center>-</center></td>\n",
        "      <td>        <center>-</center></td>\n",
        "      <td>         <center>-</center></td>\n",
        "    </tr>\n",
        "  </tbody>\n",
        "</table>\n"
       ],
       "metadata": {},
       "output_type": "pyout",
       "prompt_number": 20,
       "text": [
        "<IPython.core.display.HTML at 0x7f58989e92b0>"
       ]
      }
     ],
     "prompt_number": 20
    },
    {
     "cell_type": "markdown",
     "metadata": {},
     "source": [
      "Next slide below contains the results of pouring a slab on level 6"
     ]
    },
    {
     "cell_type": "code",
     "collapsed": false,
     "input": [
      "struct.add_slab"
     ],
     "language": "python",
     "metadata": {
      "slideshow": {
       "slide_type": "subslide"
      }
     },
     "outputs": [
      {
       "html": [
        "<strong>Action taken: Pour a Slab on Level 6</strong>\n",
        "<table border=\"1\" class=\"dataframe\">\n",
        "  <thead>\n",
        "    <tr style=\"text-align: right;\">\n",
        "      <th rowspan = 2>Level</th><th rowspan = 2>Item</th>\n",
        "      <th rowspan = 2>Starting Loads</th>\n",
        "      <th rowspan = 2>Load to be Distributed</th>\n",
        "      <th rowspan = 2>New Slab Reactions</th>\n",
        "      <th  rowspan = 2 style=\"text-align: right;\">Number of Slabs Above<br>- Slab Reactions</th>\n",
        "      <th rowspan = 2>Ending Loads</th>\n",
        "      <th rowspan = 2>Symbol</th>\n",
        "    </tr>\n",
        "  </thead>\n",
        "  <tbody>\n",
        "    <tr>\n",
        "<th rowspan=\"2\">6</th>\n",
        "      <td>Slab</td>\n",
        "      <td>         <center>-</center></td>\n",
        "      <td> <center>1</center></td>\n",
        "      <td>        <center>-</center></td>\n",
        "      <td>        <center>-</center></td>\n",
        "      <td>        <center>0</center></td>\n",
        "      <td rowspan=2><img src=\"http://i.imgur.com/W6Tqme1.png\" alt = \"Shored Slab\" title = \"Shored Slab\"style=\"max-width:50px; max-height:50px;  float:left; margin-right:3px;\"/></td>\n",
        "    </tr>\n",
        "    <tr>\n",
        "\n",
        "      <td>Shores</td>\n",
        "      <td>         <center>-</center></td>\n",
        "      <td> <center>-</center></td>\n",
        "      <td>        <center>-</center></td>\n",
        "      <td>        <center>1</center></td>\n",
        "      <td>        <center>1</center></td>\n",
        "    </tr>\n",
        "    <tr>\n",
        "<th rowspan=\"2\">5</th>\n",
        "      <td>Slab</td>\n",
        "      <td>         <center>0</center></td>\n",
        "      <td> <center>-</center></td>\n",
        "      <td>      <center>0.2</center></td>\n",
        "      <td>        <center>-</center></td>\n",
        "      <td>      <center>0.2</center></td>\n",
        "      <td rowspan=2><img src=\"http://i.imgur.com/W6Tqme1.png\" alt = \"Shored Slab\" title = \"Shored Slab\"style=\"max-width:50px; max-height:50px;  float:left; margin-right:3px;\"/></td>\n",
        "    </tr>\n",
        "    <tr>\n",
        "\n",
        "      <td>Shores</td>\n",
        "      <td>         <center>1</center></td>\n",
        "      <td> <center>-</center></td>\n",
        "      <td>        <center>-</center></td>\n",
        "      <td>      <center>1.8</center></td>\n",
        "      <td>      <center>1.8</center></td>\n",
        "    </tr>\n",
        "    <tr>\n",
        "<th rowspan=\"2\">4</th>\n",
        "      <td>Slab</td>\n",
        "      <td> <center>0.8333</center></td>\n",
        "      <td> <center>-</center></td>\n",
        "      <td> <center>1.0333</center></td>\n",
        "      <td>        <center>-</center></td>\n",
        "      <td> <center>1.0333</center></td>\n",
        "      <td rowspan=2><img src=\"http://i.imgur.com/W6Tqme1.png\" alt = \"Shored Slab\" title = \"Shored Slab\"style=\"max-width:50px; max-height:50px;  float:left; margin-right:3px;\"/></td>\n",
        "    </tr>\n",
        "    <tr>\n",
        "\n",
        "      <td>Shores</td>\n",
        "      <td>  <center>1.1667</center></td>\n",
        "      <td> <center>-</center></td>\n",
        "      <td>        <center>-</center></td>\n",
        "      <td> <center>1.7667</center></td>\n",
        "      <td> <center>1.7667</center></td>\n",
        "    </tr>\n",
        "    <tr>\n",
        "<th rowspan=\"2\">3</th>\n",
        "      <td>Slab</td>\n",
        "      <td>  <center>1.6667</center></td>\n",
        "      <td> <center>-</center></td>\n",
        "      <td> <center>1.8667</center></td>\n",
        "      <td>        <center>-</center></td>\n",
        "      <td> <center>1.8667</center></td>\n",
        "      <td rowspan=2><img src=\"http://i.imgur.com/vMgiW58.png\" alt = \"Reshored Slab\" title = \"Reshored Slab\"style=\"max-width:50px; max-height:50px;  float:left; margin-right:3px;\"/></td>\n",
        "    </tr>\n",
        "    <tr>\n",
        "\n",
        "      <td>Reshores</td>\n",
        "      <td>       <center>0.5</center></td>\n",
        "      <td> <center>-</center></td>\n",
        "      <td>        <center>-</center></td>\n",
        "      <td>      <center>0.9</center></td>\n",
        "      <td>      <center>0.9</center></td>\n",
        "    </tr>\n",
        "    <tr>\n",
        "<th rowspan=\"2\">2</th>\n",
        "      <td>Slab</td>\n",
        "      <td>      <center>1.25</center></td>\n",
        "      <td> <center>-</center></td>\n",
        "      <td>     <center>1.45</center></td>\n",
        "      <td>        <center>-</center></td>\n",
        "      <td>     <center>1.45</center></td>\n",
        "      <td rowspan=2><img src=\"http://i.imgur.com/vMgiW58.png\" alt = \"Reshored Slab\" title = \"Reshored Slab\"style=\"max-width:50px; max-height:50px;  float:left; margin-right:3px;\"/></td>\n",
        "    </tr>\n",
        "    <tr>\n",
        "\n",
        "      <td>Reshores</td>\n",
        "      <td>      <center>0.25</center></td>\n",
        "      <td> <center>-</center></td>\n",
        "      <td>        <center>-</center></td>\n",
        "      <td>     <center>0.45</center></td>\n",
        "      <td>     <center>0.45</center></td>\n",
        "    </tr>\n",
        "    <tr>\n",
        "<th rowspan=\"2\">1</th>\n",
        "      <td>Slab</td>\n",
        "      <td>      <center>1.25</center></td>\n",
        "      <td> <center>-</center></td>\n",
        "      <td>     <center>1.45</center></td>\n",
        "      <td>        <center>-</center></td>\n",
        "      <td>     <center>1.45</center></td>\n",
        "      <td rowspan=2><img src=\"http://i.imgur.com/f9HJsu6.png\" alt = \"Unshored Slab\" title = \"Unshored Slab\"style=\"max-width:50px; max-height:50px;  float:left; margin-right:3px;\"/></td>\n",
        "    </tr>\n",
        "    <tr>\n",
        "\n",
        "      <td>Empty</td>\n",
        "      <td>         <center>-</center></td>\n",
        "      <td> <center>-</center></td>\n",
        "      <td>        <center>-</center></td>\n",
        "      <td>        <center>-</center></td>\n",
        "      <td>        <center>-</center></td>\n",
        "    </tr>\n",
        "  </tbody>\n",
        "</table>\n"
       ],
       "metadata": {},
       "output_type": "pyout",
       "prompt_number": 21,
       "text": [
        "<IPython.core.display.HTML at 0x7f5898a043c8>"
       ]
      }
     ],
     "prompt_number": 21
    },
    {
     "cell_type": "markdown",
     "metadata": {},
     "source": [
      "Again the shore loads were high.  The next slide show the results from removing reshores from level 2."
     ]
    },
    {
     "cell_type": "code",
     "collapsed": false,
     "input": [
      "struct.remove_reshore"
     ],
     "language": "python",
     "metadata": {
      "slideshow": {
       "slide_type": "subslide"
      }
     },
     "outputs": [
      {
       "html": [
        "<strong>Action taken: Remove Reshores at Level 2</strong>\n",
        "<table border=\"1\" class=\"dataframe\">\n",
        "  <thead>\n",
        "    <tr style=\"text-align: right;\">\n",
        "      <th rowspan = 2>Level</th><th rowspan = 2>Item</th>\n",
        "      <th rowspan = 2>Starting Loads</th>\n",
        "      <th rowspan = 2>Load to be Distributed</th>\n",
        "      <th rowspan = 2>New Slab Reactions</th>\n",
        "      <th  rowspan = 2 style=\"text-align: right;\">Number of Slabs Above<br>- Slab Reactions</th>\n",
        "      <th rowspan = 2>Ending Loads</th>\n",
        "      <th rowspan = 2>Symbol</th>\n",
        "    </tr>\n",
        "  </thead>\n",
        "  <tbody>\n",
        "    <tr>\n",
        "<th rowspan=\"2\">6</th>\n",
        "      <td>Slab</td>\n",
        "      <td>        <center>0</center></td>\n",
        "      <td>    <center>-</center></td>\n",
        "      <td>     <center>0.09</center></td>\n",
        "      <td>        <center>-</center></td>\n",
        "      <td>     <center>0.09</center></td>\n",
        "      <td rowspan=2><img src=\"http://i.imgur.com/W6Tqme1.png\" alt = \"Shored Slab\" title = \"Shored Slab\"style=\"max-width:50px; max-height:50px;  float:left; margin-right:3px;\"/></td>\n",
        "    </tr>\n",
        "    <tr>\n",
        "\n",
        "      <td>Shores</td>\n",
        "      <td>        <center>1</center></td>\n",
        "      <td>    <center>-</center></td>\n",
        "      <td>        <center>-</center></td>\n",
        "      <td>     <center>0.91</center></td>\n",
        "      <td>     <center>0.91</center></td>\n",
        "    </tr>\n",
        "    <tr>\n",
        "<th rowspan=\"2\">5</th>\n",
        "      <td>Slab</td>\n",
        "      <td>      <center>0.2</center></td>\n",
        "      <td>    <center>-</center></td>\n",
        "      <td>     <center>0.29</center></td>\n",
        "      <td>        <center>-</center></td>\n",
        "      <td>     <center>0.29</center></td>\n",
        "      <td rowspan=2><img src=\"http://i.imgur.com/W6Tqme1.png\" alt = \"Shored Slab\" title = \"Shored Slab\"style=\"max-width:50px; max-height:50px;  float:left; margin-right:3px;\"/></td>\n",
        "    </tr>\n",
        "    <tr>\n",
        "\n",
        "      <td>Shores</td>\n",
        "      <td>      <center>1.8</center></td>\n",
        "      <td>    <center>-</center></td>\n",
        "      <td>        <center>-</center></td>\n",
        "      <td>     <center>1.62</center></td>\n",
        "      <td>     <center>1.62</center></td>\n",
        "    </tr>\n",
        "    <tr>\n",
        "<th rowspan=\"2\">4</th>\n",
        "      <td>Slab</td>\n",
        "      <td> <center>1.0333</center></td>\n",
        "      <td>    <center>-</center></td>\n",
        "      <td> <center>1.1233</center></td>\n",
        "      <td>        <center>-</center></td>\n",
        "      <td> <center>1.1233</center></td>\n",
        "      <td rowspan=2><img src=\"http://i.imgur.com/W6Tqme1.png\" alt = \"Shored Slab\" title = \"Shored Slab\"style=\"max-width:50px; max-height:50px;  float:left; margin-right:3px;\"/></td>\n",
        "    </tr>\n",
        "    <tr>\n",
        "\n",
        "      <td>Shores</td>\n",
        "      <td> <center>1.7667</center></td>\n",
        "      <td>    <center>-</center></td>\n",
        "      <td>        <center>-</center></td>\n",
        "      <td> <center>1.4967</center></td>\n",
        "      <td> <center>1.4967</center></td>\n",
        "    </tr>\n",
        "    <tr>\n",
        "<th rowspan=\"2\">3</th>\n",
        "      <td>Slab</td>\n",
        "      <td> <center>1.8667</center></td>\n",
        "      <td>    <center>-</center></td>\n",
        "      <td> <center>1.9567</center></td>\n",
        "      <td>        <center>-</center></td>\n",
        "      <td> <center>1.9567</center></td>\n",
        "      <td rowspan=2><img src=\"http://i.imgur.com/vMgiW58.png\" alt = \"Reshored Slab\" title = \"Reshored Slab\"style=\"max-width:50px; max-height:50px;  float:left; margin-right:3px;\"/></td>\n",
        "    </tr>\n",
        "    <tr>\n",
        "\n",
        "      <td>Reshores</td>\n",
        "      <td>      <center>0.9</center></td>\n",
        "      <td>    <center>-</center></td>\n",
        "      <td>        <center>-</center></td>\n",
        "      <td>     <center>0.54</center></td>\n",
        "      <td>     <center>0.54</center></td>\n",
        "    </tr>\n",
        "    <tr>\n",
        "<th rowspan=\"2\">2</th>\n",
        "      <td>Slab</td>\n",
        "      <td>     <center>1.45</center></td>\n",
        "      <td>    <center>-</center></td>\n",
        "      <td>     <center>1.54</center></td>\n",
        "      <td>        <center>-</center></td>\n",
        "      <td>     <center>1.54</center></td>\n",
        "      <td rowspan=2><img src=\"http://i.imgur.com/f9HJsu6.png\" alt = \"Unshored Slab\" title = \"Unshored Slab\"style=\"max-width:50px; max-height:50px;  float:left; margin-right:3px;\"/></td>\n",
        "    </tr>\n",
        "    <tr>\n",
        "\n",
        "      <td>Empty</td>\n",
        "      <td>     <center>0.45</center></td>\n",
        "      <td> <center>0.45</center></td>\n",
        "      <td>        <center>-</center></td>\n",
        "      <td>        <center>-</center></td>\n",
        "      <td>        <center>-</center></td>\n",
        "    </tr>\n",
        "  </tbody>\n",
        "</table>\n"
       ],
       "metadata": {},
       "output_type": "pyout",
       "prompt_number": 22,
       "text": [
        "<IPython.core.display.HTML at 0x7f5898a049e8>"
       ]
      }
     ],
     "prompt_number": 22
    },
    {
     "cell_type": "markdown",
     "metadata": {},
     "source": [
      "Level 3's slab is almost carrying twice its own weight.  The next slide shore the results from removing the reshores on level 3."
     ]
    },
    {
     "cell_type": "code",
     "collapsed": false,
     "input": [
      "struct.remove_reshore"
     ],
     "language": "python",
     "metadata": {
      "slideshow": {
       "slide_type": "subslide"
      }
     },
     "outputs": [
      {
       "html": [
        "<strong>Action taken: Remove Reshores at Level 3</strong>\n",
        "<table border=\"1\" class=\"dataframe\">\n",
        "  <thead>\n",
        "    <tr style=\"text-align: right;\">\n",
        "      <th rowspan = 2>Level</th><th rowspan = 2>Item</th>\n",
        "      <th rowspan = 2>Starting Loads</th>\n",
        "      <th rowspan = 2>Load to be Distributed</th>\n",
        "      <th rowspan = 2>New Slab Reactions</th>\n",
        "      <th  rowspan = 2 style=\"text-align: right;\">Number of Slabs Above<br>- Slab Reactions</th>\n",
        "      <th rowspan = 2>Ending Loads</th>\n",
        "      <th rowspan = 2>Symbol</th>\n",
        "    </tr>\n",
        "  </thead>\n",
        "  <tbody>\n",
        "    <tr>\n",
        "<th rowspan=\"2\">6</th>\n",
        "      <td>Slab</td>\n",
        "      <td>     <center>0.09</center></td>\n",
        "      <td>    <center>-</center></td>\n",
        "      <td>    <center>0.225</center></td>\n",
        "      <td>        <center>-</center></td>\n",
        "      <td>    <center>0.225</center></td>\n",
        "      <td rowspan=2><img src=\"http://i.imgur.com/W6Tqme1.png\" alt = \"Shored Slab\" title = \"Shored Slab\"style=\"max-width:50px; max-height:50px;  float:left; margin-right:3px;\"/></td>\n",
        "    </tr>\n",
        "    <tr>\n",
        "\n",
        "      <td>Shores</td>\n",
        "      <td>     <center>0.91</center></td>\n",
        "      <td>    <center>-</center></td>\n",
        "      <td>        <center>-</center></td>\n",
        "      <td>    <center>0.775</center></td>\n",
        "      <td>    <center>0.775</center></td>\n",
        "    </tr>\n",
        "    <tr>\n",
        "<th rowspan=\"2\">5</th>\n",
        "      <td>Slab</td>\n",
        "      <td>     <center>0.29</center></td>\n",
        "      <td>    <center>-</center></td>\n",
        "      <td>    <center>0.425</center></td>\n",
        "      <td>        <center>-</center></td>\n",
        "      <td>    <center>0.425</center></td>\n",
        "      <td rowspan=2><img src=\"http://i.imgur.com/W6Tqme1.png\" alt = \"Shored Slab\" title = \"Shored Slab\"style=\"max-width:50px; max-height:50px;  float:left; margin-right:3px;\"/></td>\n",
        "    </tr>\n",
        "    <tr>\n",
        "\n",
        "      <td>Shores</td>\n",
        "      <td>     <center>1.62</center></td>\n",
        "      <td>    <center>-</center></td>\n",
        "      <td>        <center>-</center></td>\n",
        "      <td>     <center>1.35</center></td>\n",
        "      <td>     <center>1.35</center></td>\n",
        "    </tr>\n",
        "    <tr>\n",
        "<th rowspan=\"2\">4</th>\n",
        "      <td>Slab</td>\n",
        "      <td> <center>1.1233</center></td>\n",
        "      <td>    <center>-</center></td>\n",
        "      <td> <center>1.2583</center></td>\n",
        "      <td>        <center>-</center></td>\n",
        "      <td> <center>1.2583</center></td>\n",
        "      <td rowspan=2><img src=\"http://i.imgur.com/W6Tqme1.png\" alt = \"Shored Slab\" title = \"Shored Slab\"style=\"max-width:50px; max-height:50px;  float:left; margin-right:3px;\"/></td>\n",
        "    </tr>\n",
        "    <tr>\n",
        "\n",
        "      <td>Shores</td>\n",
        "      <td> <center>1.4967</center></td>\n",
        "      <td>    <center>-</center></td>\n",
        "      <td>        <center>-</center></td>\n",
        "      <td> <center>1.0917</center></td>\n",
        "      <td> <center>1.0917</center></td>\n",
        "    </tr>\n",
        "    <tr>\n",
        "<th rowspan=\"2\">3</th>\n",
        "      <td>Slab</td>\n",
        "      <td> <center>1.9567</center></td>\n",
        "      <td>    <center>-</center></td>\n",
        "      <td> <center>2.0917</center></td>\n",
        "      <td>        <center>-</center></td>\n",
        "      <td> <center>2.0917</center></td>\n",
        "      <td rowspan=2><img src=\"http://i.imgur.com/f9HJsu6.png\" alt = \"Unshored Slab\" title = \"Unshored Slab\"style=\"max-width:50px; max-height:50px;  float:left; margin-right:3px;\"/></td>\n",
        "    </tr>\n",
        "    <tr>\n",
        "\n",
        "      <td>Empty</td>\n",
        "      <td>     <center>0.54</center></td>\n",
        "      <td> <center>0.54</center></td>\n",
        "      <td>        <center>-</center></td>\n",
        "      <td>        <center>-</center></td>\n",
        "      <td>        <center>-</center></td>\n",
        "    </tr>\n",
        "  </tbody>\n",
        "</table>\n"
       ],
       "metadata": {},
       "output_type": "pyout",
       "prompt_number": 23,
       "text": [
        "<IPython.core.display.HTML at 0x7f5898a090f0>"
       ]
      }
     ],
     "prompt_number": 23
    },
    {
     "cell_type": "markdown",
     "metadata": {},
     "source": [
      "We next remove the shores on level 4."
     ]
    },
    {
     "cell_type": "code",
     "collapsed": false,
     "input": [
      "struct.remove_shore "
     ],
     "language": "python",
     "metadata": {
      "slideshow": {
       "slide_type": "subslide"
      }
     },
     "outputs": [
      {
       "html": [
        "<strong>Action taken: Remove Shores at Level 4</strong>\n",
        "<table border=\"1\" class=\"dataframe\">\n",
        "  <thead>\n",
        "    <tr style=\"text-align: right;\">\n",
        "      <th rowspan = 2>Level</th><th rowspan = 2>Item</th>\n",
        "      <th rowspan = 2>Starting Loads</th>\n",
        "      <th rowspan = 2>Load to be Distributed</th>\n",
        "      <th rowspan = 2>New Slab Reactions</th>\n",
        "      <th  rowspan = 2 style=\"text-align: right;\">Number of Slabs Above<br>- Slab Reactions</th>\n",
        "      <th rowspan = 2>Ending Loads</th>\n",
        "      <th rowspan = 2>Symbol</th>\n",
        "    </tr>\n",
        "  </thead>\n",
        "  <tbody>\n",
        "    <tr>\n",
        "<th rowspan=\"2\">6</th>\n",
        "      <td>Slab</td>\n",
        "      <td>    <center>0.225</center></td>\n",
        "      <td>        <center>-</center></td>\n",
        "      <td> <center>0.5889</center></td>\n",
        "      <td>         <center>-</center></td>\n",
        "      <td> <center>0.5889</center></td>\n",
        "      <td rowspan=2><img src=\"http://i.imgur.com/W6Tqme1.png\" alt = \"Shored Slab\" title = \"Shored Slab\"style=\"max-width:50px; max-height:50px;  float:left; margin-right:3px;\"/></td>\n",
        "    </tr>\n",
        "    <tr>\n",
        "\n",
        "      <td>Shores</td>\n",
        "      <td>    <center>0.775</center></td>\n",
        "      <td>        <center>-</center></td>\n",
        "      <td>         <center>-</center></td>\n",
        "      <td> <center>0.4111</center></td>\n",
        "      <td> <center>0.4111</center></td>\n",
        "    </tr>\n",
        "    <tr>\n",
        "<th rowspan=\"2\">5</th>\n",
        "      <td>Slab</td>\n",
        "      <td>    <center>0.425</center></td>\n",
        "      <td>        <center>-</center></td>\n",
        "      <td> <center>0.7889</center></td>\n",
        "      <td>         <center>-</center></td>\n",
        "      <td> <center>0.7889</center></td>\n",
        "      <td rowspan=2><img src=\"http://i.imgur.com/W6Tqme1.png\" alt = \"Shored Slab\" title = \"Shored Slab\"style=\"max-width:50px; max-height:50px;  float:left; margin-right:3px;\"/></td>\n",
        "    </tr>\n",
        "    <tr>\n",
        "\n",
        "      <td>Shores</td>\n",
        "      <td>     <center>1.35</center></td>\n",
        "      <td>        <center>-</center></td>\n",
        "      <td>         <center>-</center></td>\n",
        "      <td> <center>0.6222</center></td>\n",
        "      <td> <center>0.6222</center></td>\n",
        "    </tr>\n",
        "    <tr>\n",
        "<th rowspan=\"2\">4</th>\n",
        "      <td>Slab</td>\n",
        "      <td> <center>1.2583</center></td>\n",
        "      <td>        <center>-</center></td>\n",
        "      <td>  <center>1.6222</center></td>\n",
        "      <td>         <center>-</center></td>\n",
        "      <td>  <center>1.6222</center></td>\n",
        "      <td rowspan=2><img src=\"http://i.imgur.com/f9HJsu6.png\" alt = \"Unshored Slab\" title = \"Unshored Slab\"style=\"max-width:50px; max-height:50px;  float:left; margin-right:3px;\"/></td>\n",
        "    </tr>\n",
        "    <tr>\n",
        "\n",
        "      <td>Empty</td>\n",
        "      <td> <center>1.0917</center></td>\n",
        "      <td> <center>1.0917</center></td>\n",
        "      <td>         <center>-</center></td>\n",
        "      <td>         <center>-</center></td>\n",
        "      <td>         <center>-</center></td>\n",
        "    </tr>\n",
        "  </tbody>\n",
        "</table>\n"
       ],
       "metadata": {},
       "output_type": "pyout",
       "prompt_number": 24,
       "text": [
        "<IPython.core.display.HTML at 0x7f5898a04dd8>"
       ]
      }
     ],
     "prompt_number": 24
    },
    {
     "cell_type": "markdown",
     "metadata": {},
     "source": [
      "Add reshores to level 4, and pour a slab on level 7, and what would you get?"
     ]
    },
    {
     "cell_type": "code",
     "collapsed": false,
     "input": [
      "struct.reshore"
     ],
     "language": "python",
     "metadata": {
      "slideshow": {
       "slide_type": "skip"
      }
     },
     "outputs": [
      {
       "output_type": "stream",
       "stream": "stdout",
       "text": [
        "Reshore does not affect loads.  To show the reshore step set show_reshore to True\n"
       ]
      }
     ],
     "prompt_number": 25
    },
    {
     "cell_type": "code",
     "collapsed": false,
     "input": [
      "struct.add_slab"
     ],
     "language": "python",
     "metadata": {
      "slideshow": {
       "slide_type": "subslide"
      }
     },
     "outputs": [
      {
       "html": [
        "<strong>Action taken: Reshore level 4, and Pour a Slab on Level 7</strong>\n",
        "<table border=\"1\" class=\"dataframe\">\n",
        "  <thead>\n",
        "    <tr style=\"text-align: right;\">\n",
        "      <th rowspan = 2>Level</th><th rowspan = 2>Item</th>\n",
        "      <th rowspan = 2>Starting Loads</th>\n",
        "      <th rowspan = 2>Load to be Distributed</th>\n",
        "      <th rowspan = 2>New Slab Reactions</th>\n",
        "      <th  rowspan = 2 style=\"text-align: right;\">Number of Slabs Above<br>- Slab Reactions</th>\n",
        "      <th rowspan = 2>Ending Loads</th>\n",
        "      <th rowspan = 2>Symbol</th>\n",
        "    </tr>\n",
        "  </thead>\n",
        "  <tbody>\n",
        "    <tr>\n",
        "<th rowspan=\"2\">7</th>\n",
        "      <td>Slab</td>\n",
        "      <td>         <center>-</center></td>\n",
        "      <td> <center>1</center></td>\n",
        "      <td>         <center>-</center></td>\n",
        "      <td>        <center>-</center></td>\n",
        "      <td>         <center>0</center></td>\n",
        "      <td rowspan=2><img src=\"http://i.imgur.com/W6Tqme1.png\" alt = \"Shored Slab\" title = \"Shored Slab\"style=\"max-width:50px; max-height:50px;  float:left; margin-right:3px;\"/></td>\n",
        "    </tr>\n",
        "    <tr>\n",
        "\n",
        "      <td>Shores</td>\n",
        "      <td>         <center>-</center></td>\n",
        "      <td> <center>-</center></td>\n",
        "      <td>         <center>-</center></td>\n",
        "      <td>        <center>1</center></td>\n",
        "      <td>         <center>1</center></td>\n",
        "    </tr>\n",
        "    <tr>\n",
        "<th rowspan=\"2\">6</th>\n",
        "      <td>Slab</td>\n",
        "      <td> <center>0.5889</center></td>\n",
        "      <td> <center>-</center></td>\n",
        "      <td> <center>0.8389</center></td>\n",
        "      <td>        <center>-</center></td>\n",
        "      <td> <center>0.8389</center></td>\n",
        "      <td rowspan=2><img src=\"http://i.imgur.com/W6Tqme1.png\" alt = \"Shored Slab\" title = \"Shored Slab\"style=\"max-width:50px; max-height:50px;  float:left; margin-right:3px;\"/></td>\n",
        "    </tr>\n",
        "    <tr>\n",
        "\n",
        "      <td>Shores</td>\n",
        "      <td> <center>0.4111</center></td>\n",
        "      <td> <center>-</center></td>\n",
        "      <td>         <center>-</center></td>\n",
        "      <td> <center>1.1611</center></td>\n",
        "      <td>  <center>1.1611</center></td>\n",
        "    </tr>\n",
        "    <tr>\n",
        "<th rowspan=\"2\">5</th>\n",
        "      <td>Slab</td>\n",
        "      <td> <center>0.7889</center></td>\n",
        "      <td> <center>-</center></td>\n",
        "      <td>  <center>1.0389</center></td>\n",
        "      <td>        <center>-</center></td>\n",
        "      <td>  <center>1.0389</center></td>\n",
        "      <td rowspan=2><img src=\"http://i.imgur.com/W6Tqme1.png\" alt = \"Shored Slab\" title = \"Shored Slab\"style=\"max-width:50px; max-height:50px;  float:left; margin-right:3px;\"/></td>\n",
        "    </tr>\n",
        "    <tr>\n",
        "\n",
        "      <td>Shores</td>\n",
        "      <td> <center>0.6222</center></td>\n",
        "      <td> <center>-</center></td>\n",
        "      <td>         <center>-</center></td>\n",
        "      <td> <center>1.1222</center></td>\n",
        "      <td>  <center>1.1222</center></td>\n",
        "    </tr>\n",
        "    <tr>\n",
        "<th rowspan=\"2\">4</th>\n",
        "      <td>Slab</td>\n",
        "      <td>  <center>1.6222</center></td>\n",
        "      <td> <center>-</center></td>\n",
        "      <td>  <center>1.8722</center></td>\n",
        "      <td>        <center>-</center></td>\n",
        "      <td>  <center>1.8722</center></td>\n",
        "      <td rowspan=2><img src=\"http://i.imgur.com/vMgiW58.png\" alt = \"Reshored Slab\" title = \"Reshored Slab\"style=\"max-width:50px; max-height:50px;  float:left; margin-right:3px;\"/></td>\n",
        "    </tr>\n",
        "    <tr>\n",
        "\n",
        "      <td>Reshores</td>\n",
        "      <td>         <center>0</center></td>\n",
        "      <td> <center>-</center></td>\n",
        "      <td>         <center>-</center></td>\n",
        "      <td>     <center>0.25</center></td>\n",
        "      <td>      <center>0.25</center></td>\n",
        "    </tr>\n",
        "    <tr>\n",
        "<th rowspan=\"2\">3</th>\n",
        "      <td>Slab</td>\n",
        "      <td>         <center>1</center></td>\n",
        "      <td> <center>-</center></td>\n",
        "      <td>      <center>1.25</center></td>\n",
        "      <td>        <center>-</center></td>\n",
        "      <td>      <center>1.25</center></td>\n",
        "      <td rowspan=2><img src=\"http://i.imgur.com/f9HJsu6.png\" alt = \"Unshored Slab\" title = \"Unshored Slab\"style=\"max-width:50px; max-height:50px;  float:left; margin-right:3px;\"/></td>\n",
        "    </tr>\n",
        "    <tr>\n",
        "\n",
        "      <td>Empty</td>\n",
        "      <td>         <center>-</center></td>\n",
        "      <td> <center>-</center></td>\n",
        "      <td>         <center>-</center></td>\n",
        "      <td>        <center>-</center></td>\n",
        "      <td>         <center>-</center></td>\n",
        "    </tr>\n",
        "  </tbody>\n",
        "</table>\n"
       ],
       "metadata": {},
       "output_type": "pyout",
       "prompt_number": 26,
       "text": [
        "<IPython.core.display.HTML at 0x7f58989e9c88>"
       ]
      }
     ],
     "prompt_number": 26
    },
    {
     "cell_type": "markdown",
     "metadata": {},
     "source": [
      "Removing the reshores on level 4 results in what?"
     ]
    },
    {
     "cell_type": "code",
     "collapsed": false,
     "input": [
      "struct.remove_reshore"
     ],
     "language": "python",
     "metadata": {
      "slideshow": {
       "slide_type": "subslide"
      }
     },
     "outputs": [
      {
       "html": [
        "<strong>Action taken: Remove Reshores at Level 4</strong>\n",
        "<table border=\"1\" class=\"dataframe\">\n",
        "  <thead>\n",
        "    <tr style=\"text-align: right;\">\n",
        "      <th rowspan = 2>Level</th><th rowspan = 2>Item</th>\n",
        "      <th rowspan = 2>Starting Loads</th>\n",
        "      <th rowspan = 2>Load to be Distributed</th>\n",
        "      <th rowspan = 2>New Slab Reactions</th>\n",
        "      <th  rowspan = 2 style=\"text-align: right;\">Number of Slabs Above<br>- Slab Reactions</th>\n",
        "      <th rowspan = 2>Ending Loads</th>\n",
        "      <th rowspan = 2>Symbol</th>\n",
        "    </tr>\n",
        "  </thead>\n",
        "  <tbody>\n",
        "    <tr>\n",
        "<th rowspan=\"2\">7</th>\n",
        "      <td>Slab</td>\n",
        "      <td>         <center>0</center></td>\n",
        "      <td>    <center>-</center></td>\n",
        "      <td>    <center>0.0625</center></td>\n",
        "      <td>         <center>-</center></td>\n",
        "      <td>    <center>0.0625</center></td>\n",
        "      <td rowspan=2><img src=\"http://i.imgur.com/W6Tqme1.png\" alt = \"Shored Slab\" title = \"Shored Slab\"style=\"max-width:50px; max-height:50px;  float:left; margin-right:3px;\"/></td>\n",
        "    </tr>\n",
        "    <tr>\n",
        "\n",
        "      <td>Shores</td>\n",
        "      <td>         <center>1</center></td>\n",
        "      <td>    <center>-</center></td>\n",
        "      <td>         <center>-</center></td>\n",
        "      <td>    <center>0.9375</center></td>\n",
        "      <td>    <center>0.9375</center></td>\n",
        "    </tr>\n",
        "    <tr>\n",
        "<th rowspan=\"2\">6</th>\n",
        "      <td>Slab</td>\n",
        "      <td> <center>0.8389</center></td>\n",
        "      <td>    <center>-</center></td>\n",
        "      <td> <center>0.9014</center></td>\n",
        "      <td>         <center>-</center></td>\n",
        "      <td> <center>0.9014</center></td>\n",
        "      <td rowspan=2><img src=\"http://i.imgur.com/W6Tqme1.png\" alt = \"Shored Slab\" title = \"Shored Slab\"style=\"max-width:50px; max-height:50px;  float:left; margin-right:3px;\"/></td>\n",
        "    </tr>\n",
        "    <tr>\n",
        "\n",
        "      <td>Shores</td>\n",
        "      <td>  <center>1.1611</center></td>\n",
        "      <td>    <center>-</center></td>\n",
        "      <td>         <center>-</center></td>\n",
        "      <td>  <center>1.0361</center></td>\n",
        "      <td>  <center>1.0361</center></td>\n",
        "    </tr>\n",
        "    <tr>\n",
        "<th rowspan=\"2\">5</th>\n",
        "      <td>Slab</td>\n",
        "      <td>  <center>1.0389</center></td>\n",
        "      <td>    <center>-</center></td>\n",
        "      <td>  <center>1.1014</center></td>\n",
        "      <td>         <center>-</center></td>\n",
        "      <td>  <center>1.1014</center></td>\n",
        "      <td rowspan=2><img src=\"http://i.imgur.com/W6Tqme1.png\" alt = \"Shored Slab\" title = \"Shored Slab\"style=\"max-width:50px; max-height:50px;  float:left; margin-right:3px;\"/></td>\n",
        "    </tr>\n",
        "    <tr>\n",
        "\n",
        "      <td>Shores</td>\n",
        "      <td>  <center>1.1222</center></td>\n",
        "      <td>    <center>-</center></td>\n",
        "      <td>         <center>-</center></td>\n",
        "      <td> <center>0.9347</center></td>\n",
        "      <td> <center>0.9347</center></td>\n",
        "    </tr>\n",
        "    <tr>\n",
        "<th rowspan=\"2\">4</th>\n",
        "      <td>Slab</td>\n",
        "      <td>  <center>1.8722</center></td>\n",
        "      <td>    <center>-</center></td>\n",
        "      <td>  <center>1.9347</center></td>\n",
        "      <td>         <center>-</center></td>\n",
        "      <td>  <center>1.9347</center></td>\n",
        "      <td rowspan=2><img src=\"http://i.imgur.com/f9HJsu6.png\" alt = \"Unshored Slab\" title = \"Unshored Slab\"style=\"max-width:50px; max-height:50px;  float:left; margin-right:3px;\"/></td>\n",
        "    </tr>\n",
        "    <tr>\n",
        "\n",
        "      <td>Empty</td>\n",
        "      <td>      <center>0.25</center></td>\n",
        "      <td> <center>0.25</center></td>\n",
        "      <td>         <center>-</center></td>\n",
        "      <td>         <center>-</center></td>\n",
        "      <td>         <center>-</center></td>\n",
        "    </tr>\n",
        "  </tbody>\n",
        "</table>\n"
       ],
       "metadata": {},
       "output_type": "pyout",
       "prompt_number": 27,
       "text": [
        "<IPython.core.display.HTML at 0x7f58989e92e8>"
       ]
      }
     ],
     "prompt_number": 27
    },
    {
     "cell_type": "markdown",
     "metadata": {},
     "source": [
      "Removing the shores on level 5 is next."
     ]
    },
    {
     "cell_type": "code",
     "collapsed": false,
     "input": [
      "struct.remove_shore"
     ],
     "language": "python",
     "metadata": {
      "slideshow": {
       "slide_type": "subslide"
      }
     },
     "outputs": [
      {
       "html": [
        "<strong>Action taken: Remove Shores at Level 5</strong>\n",
        "<table border=\"1\" class=\"dataframe\">\n",
        "  <thead>\n",
        "    <tr style=\"text-align: right;\">\n",
        "      <th rowspan = 2>Level</th><th rowspan = 2>Item</th>\n",
        "      <th rowspan = 2>Starting Loads</th>\n",
        "      <th rowspan = 2>Load to be Distributed</th>\n",
        "      <th rowspan = 2>New Slab Reactions</th>\n",
        "      <th  rowspan = 2 style=\"text-align: right;\">Number of Slabs Above<br>- Slab Reactions</th>\n",
        "      <th rowspan = 2>Ending Loads</th>\n",
        "      <th rowspan = 2>Symbol</th>\n",
        "    </tr>\n",
        "  </thead>\n",
        "  <tbody>\n",
        "    <tr>\n",
        "<th rowspan=\"2\">7</th>\n",
        "      <td>Slab</td>\n",
        "      <td>    <center>0.0625</center></td>\n",
        "      <td>         <center>-</center></td>\n",
        "      <td> <center>0.3741</center></td>\n",
        "      <td>         <center>-</center></td>\n",
        "      <td> <center>0.3741</center></td>\n",
        "      <td rowspan=2><img src=\"http://i.imgur.com/W6Tqme1.png\" alt = \"Shored Slab\" title = \"Shored Slab\"style=\"max-width:50px; max-height:50px;  float:left; margin-right:3px;\"/></td>\n",
        "    </tr>\n",
        "    <tr>\n",
        "\n",
        "      <td>Shores</td>\n",
        "      <td>    <center>0.9375</center></td>\n",
        "      <td>         <center>-</center></td>\n",
        "      <td>         <center>-</center></td>\n",
        "      <td> <center>0.6259</center></td>\n",
        "      <td> <center>0.6259</center></td>\n",
        "    </tr>\n",
        "    <tr>\n",
        "<th rowspan=\"2\">6</th>\n",
        "      <td>Slab</td>\n",
        "      <td> <center>0.9014</center></td>\n",
        "      <td>         <center>-</center></td>\n",
        "      <td>  <center>1.2130</center></td>\n",
        "      <td>         <center>-</center></td>\n",
        "      <td>  <center>1.2130</center></td>\n",
        "      <td rowspan=2><img src=\"http://i.imgur.com/W6Tqme1.png\" alt = \"Shored Slab\" title = \"Shored Slab\"style=\"max-width:50px; max-height:50px;  float:left; margin-right:3px;\"/></td>\n",
        "    </tr>\n",
        "    <tr>\n",
        "\n",
        "      <td>Shores</td>\n",
        "      <td>  <center>1.0361</center></td>\n",
        "      <td>         <center>-</center></td>\n",
        "      <td>         <center>-</center></td>\n",
        "      <td>  <center>0.4130</center></td>\n",
        "      <td>  <center>0.4130</center></td>\n",
        "    </tr>\n",
        "    <tr>\n",
        "<th rowspan=\"2\">5</th>\n",
        "      <td>Slab</td>\n",
        "      <td>  <center>1.1014</center></td>\n",
        "      <td>         <center>-</center></td>\n",
        "      <td>  <center>1.4130</center></td>\n",
        "      <td>         <center>-</center></td>\n",
        "      <td>  <center>1.4130</center></td>\n",
        "      <td rowspan=2><img src=\"http://i.imgur.com/f9HJsu6.png\" alt = \"Unshored Slab\" title = \"Unshored Slab\"style=\"max-width:50px; max-height:50px;  float:left; margin-right:3px;\"/></td>\n",
        "    </tr>\n",
        "    <tr>\n",
        "\n",
        "      <td>Empty</td>\n",
        "      <td> <center>0.9347</center></td>\n",
        "      <td> <center>0.9347</center></td>\n",
        "      <td>         <center>-</center></td>\n",
        "      <td>         <center>-</center></td>\n",
        "      <td>         <center>-</center></td>\n",
        "    </tr>\n",
        "  </tbody>\n",
        "</table>\n"
       ],
       "metadata": {},
       "output_type": "pyout",
       "prompt_number": 28,
       "text": [
        "<IPython.core.display.HTML at 0x7f58b03fa048>"
       ]
      }
     ],
     "prompt_number": 28
    },
    {
     "cell_type": "markdown",
     "metadata": {},
     "source": [
      "Reshore level 5 and oure level 8."
     ]
    },
    {
     "cell_type": "code",
     "collapsed": false,
     "input": [
      "struct.reshore"
     ],
     "language": "python",
     "metadata": {
      "slideshow": {
       "slide_type": "skip"
      }
     },
     "outputs": [
      {
       "output_type": "stream",
       "stream": "stdout",
       "text": [
        "Reshore does not affect loads.  To show the reshore step set show_reshore to True\n"
       ]
      }
     ],
     "prompt_number": 29
    },
    {
     "cell_type": "code",
     "collapsed": false,
     "input": [
      "struct.add_slab"
     ],
     "language": "python",
     "metadata": {
      "slideshow": {
       "slide_type": "subslide"
      }
     },
     "outputs": [
      {
       "html": [
        "<strong>Action taken: Reshore level 5, and Pour a Slab on Level 8</strong>\n",
        "<table border=\"1\" class=\"dataframe\">\n",
        "  <thead>\n",
        "    <tr style=\"text-align: right;\">\n",
        "      <th rowspan = 2>Level</th><th rowspan = 2>Item</th>\n",
        "      <th rowspan = 2>Starting Loads</th>\n",
        "      <th rowspan = 2>Load to be Distributed</th>\n",
        "      <th rowspan = 2>New Slab Reactions</th>\n",
        "      <th  rowspan = 2 style=\"text-align: right;\">Number of Slabs Above<br>- Slab Reactions</th>\n",
        "      <th rowspan = 2>Ending Loads</th>\n",
        "      <th rowspan = 2>Symbol</th>\n",
        "    </tr>\n",
        "  </thead>\n",
        "  <tbody>\n",
        "    <tr>\n",
        "<th rowspan=\"2\">8</th>\n",
        "      <td>Slab</td>\n",
        "      <td>         <center>-</center></td>\n",
        "      <td> <center>1</center></td>\n",
        "      <td>         <center>-</center></td>\n",
        "      <td>        <center>-</center></td>\n",
        "      <td>         <center>0</center></td>\n",
        "      <td rowspan=2><img src=\"http://i.imgur.com/W6Tqme1.png\" alt = \"Shored Slab\" title = \"Shored Slab\"style=\"max-width:50px; max-height:50px;  float:left; margin-right:3px;\"/></td>\n",
        "    </tr>\n",
        "    <tr>\n",
        "\n",
        "      <td>Shores</td>\n",
        "      <td>         <center>-</center></td>\n",
        "      <td> <center>-</center></td>\n",
        "      <td>         <center>-</center></td>\n",
        "      <td>        <center>1</center></td>\n",
        "      <td>         <center>1</center></td>\n",
        "    </tr>\n",
        "    <tr>\n",
        "<th rowspan=\"2\">7</th>\n",
        "      <td>Slab</td>\n",
        "      <td> <center>0.3741</center></td>\n",
        "      <td> <center>-</center></td>\n",
        "      <td> <center>0.6241</center></td>\n",
        "      <td>        <center>-</center></td>\n",
        "      <td> <center>0.6241</center></td>\n",
        "      <td rowspan=2><img src=\"http://i.imgur.com/W6Tqme1.png\" alt = \"Shored Slab\" title = \"Shored Slab\"style=\"max-width:50px; max-height:50px;  float:left; margin-right:3px;\"/></td>\n",
        "    </tr>\n",
        "    <tr>\n",
        "\n",
        "      <td>Shores</td>\n",
        "      <td> <center>0.6259</center></td>\n",
        "      <td> <center>-</center></td>\n",
        "      <td>         <center>-</center></td>\n",
        "      <td> <center>1.3759</center></td>\n",
        "      <td>  <center>1.3759</center></td>\n",
        "    </tr>\n",
        "    <tr>\n",
        "<th rowspan=\"2\">6</th>\n",
        "      <td>Slab</td>\n",
        "      <td>  <center>1.2130</center></td>\n",
        "      <td> <center>-</center></td>\n",
        "      <td>  <center>1.4630</center></td>\n",
        "      <td>        <center>-</center></td>\n",
        "      <td>  <center>1.4630</center></td>\n",
        "      <td rowspan=2><img src=\"http://i.imgur.com/W6Tqme1.png\" alt = \"Shored Slab\" title = \"Shored Slab\"style=\"max-width:50px; max-height:50px;  float:left; margin-right:3px;\"/></td>\n",
        "    </tr>\n",
        "    <tr>\n",
        "\n",
        "      <td>Shores</td>\n",
        "      <td>  <center>0.4130</center></td>\n",
        "      <td> <center>-</center></td>\n",
        "      <td>         <center>-</center></td>\n",
        "      <td> <center>0.9130</center></td>\n",
        "      <td>  <center>0.9130</center></td>\n",
        "    </tr>\n",
        "    <tr>\n",
        "<th rowspan=\"2\">5</th>\n",
        "      <td>Slab</td>\n",
        "      <td>  <center>1.4130</center></td>\n",
        "      <td> <center>-</center></td>\n",
        "      <td>  <center>1.6630</center></td>\n",
        "      <td>        <center>-</center></td>\n",
        "      <td>  <center>1.6630</center></td>\n",
        "      <td rowspan=2><img src=\"http://i.imgur.com/vMgiW58.png\" alt = \"Reshored Slab\" title = \"Reshored Slab\"style=\"max-width:50px; max-height:50px;  float:left; margin-right:3px;\"/></td>\n",
        "    </tr>\n",
        "    <tr>\n",
        "\n",
        "      <td>Reshores</td>\n",
        "      <td>         <center>0</center></td>\n",
        "      <td> <center>-</center></td>\n",
        "      <td>         <center>-</center></td>\n",
        "      <td>     <center>0.25</center></td>\n",
        "      <td>      <center>0.25</center></td>\n",
        "    </tr>\n",
        "    <tr>\n",
        "<th rowspan=\"2\">4</th>\n",
        "      <td>Slab</td>\n",
        "      <td>         <center>1</center></td>\n",
        "      <td> <center>-</center></td>\n",
        "      <td>      <center>1.25</center></td>\n",
        "      <td>        <center>-</center></td>\n",
        "      <td>      <center>1.25</center></td>\n",
        "      <td rowspan=2><img src=\"http://i.imgur.com/f9HJsu6.png\" alt = \"Unshored Slab\" title = \"Unshored Slab\"style=\"max-width:50px; max-height:50px;  float:left; margin-right:3px;\"/></td>\n",
        "    </tr>\n",
        "    <tr>\n",
        "\n",
        "      <td>Empty</td>\n",
        "      <td>         <center>-</center></td>\n",
        "      <td> <center>-</center></td>\n",
        "      <td>         <center>-</center></td>\n",
        "      <td>        <center>-</center></td>\n",
        "      <td>         <center>-</center></td>\n",
        "    </tr>\n",
        "  </tbody>\n",
        "</table>\n"
       ],
       "metadata": {},
       "output_type": "pyout",
       "prompt_number": 30,
       "text": [
        "<IPython.core.display.HTML at 0x7f5898a04a58>"
       ]
      }
     ],
     "prompt_number": 30
    },
    {
     "cell_type": "markdown",
     "metadata": {},
     "source": [
      "What would happen to the loads on Level 5's slab and level 6's shores if we remove the reshores on level 5?"
     ]
    },
    {
     "cell_type": "code",
     "collapsed": false,
     "input": [
      "struct.remove_reshore"
     ],
     "language": "python",
     "metadata": {
      "slideshow": {
       "slide_type": "subslide"
      }
     },
     "outputs": [
      {
       "html": [
        "<strong>Action taken: Remove Reshores at Level 5</strong>\n",
        "<table border=\"1\" class=\"dataframe\">\n",
        "  <thead>\n",
        "    <tr style=\"text-align: right;\">\n",
        "      <th rowspan = 2>Level</th><th rowspan = 2>Item</th>\n",
        "      <th rowspan = 2>Starting Loads</th>\n",
        "      <th rowspan = 2>Load to be Distributed</th>\n",
        "      <th rowspan = 2>New Slab Reactions</th>\n",
        "      <th  rowspan = 2 style=\"text-align: right;\">Number of Slabs Above<br>- Slab Reactions</th>\n",
        "      <th rowspan = 2>Ending Loads</th>\n",
        "      <th rowspan = 2>Symbol</th>\n",
        "    </tr>\n",
        "  </thead>\n",
        "  <tbody>\n",
        "    <tr>\n",
        "<th rowspan=\"2\">8</th>\n",
        "      <td>Slab</td>\n",
        "      <td>         <center>0</center></td>\n",
        "      <td>    <center>-</center></td>\n",
        "      <td>    <center>0.0625</center></td>\n",
        "      <td>        <center>-</center></td>\n",
        "      <td>    <center>0.0625</center></td>\n",
        "      <td rowspan=2><img src=\"http://i.imgur.com/W6Tqme1.png\" alt = \"Shored Slab\" title = \"Shored Slab\"style=\"max-width:50px; max-height:50px;  float:left; margin-right:3px;\"/></td>\n",
        "    </tr>\n",
        "    <tr>\n",
        "\n",
        "      <td>Shores</td>\n",
        "      <td>         <center>1</center></td>\n",
        "      <td>    <center>-</center></td>\n",
        "      <td>         <center>-</center></td>\n",
        "      <td>   <center>0.9375</center></td>\n",
        "      <td>    <center>0.9375</center></td>\n",
        "    </tr>\n",
        "    <tr>\n",
        "<th rowspan=\"2\">7</th>\n",
        "      <td>Slab</td>\n",
        "      <td> <center>0.6241</center></td>\n",
        "      <td>    <center>-</center></td>\n",
        "      <td> <center>0.6866</center></td>\n",
        "      <td>        <center>-</center></td>\n",
        "      <td> <center>0.6866</center></td>\n",
        "      <td rowspan=2><img src=\"http://i.imgur.com/W6Tqme1.png\" alt = \"Shored Slab\" title = \"Shored Slab\"style=\"max-width:50px; max-height:50px;  float:left; margin-right:3px;\"/></td>\n",
        "    </tr>\n",
        "    <tr>\n",
        "\n",
        "      <td>Shores</td>\n",
        "      <td>  <center>1.3759</center></td>\n",
        "      <td>    <center>-</center></td>\n",
        "      <td>         <center>-</center></td>\n",
        "      <td> <center>1.2509</center></td>\n",
        "      <td>  <center>1.2509</center></td>\n",
        "    </tr>\n",
        "    <tr>\n",
        "<th rowspan=\"2\">6</th>\n",
        "      <td>Slab</td>\n",
        "      <td>  <center>1.4630</center></td>\n",
        "      <td>    <center>-</center></td>\n",
        "      <td>  <center>1.5255</center></td>\n",
        "      <td>        <center>-</center></td>\n",
        "      <td>  <center>1.5255</center></td>\n",
        "      <td rowspan=2><img src=\"http://i.imgur.com/W6Tqme1.png\" alt = \"Shored Slab\" title = \"Shored Slab\"style=\"max-width:50px; max-height:50px;  float:left; margin-right:3px;\"/></td>\n",
        "    </tr>\n",
        "    <tr>\n",
        "\n",
        "      <td>Shores</td>\n",
        "      <td>  <center>0.9130</center></td>\n",
        "      <td>    <center>-</center></td>\n",
        "      <td>         <center>-</center></td>\n",
        "      <td> <center>0.7255</center></td>\n",
        "      <td>  <center>0.7255</center></td>\n",
        "    </tr>\n",
        "    <tr>\n",
        "<th rowspan=\"2\">5</th>\n",
        "      <td>Slab</td>\n",
        "      <td>  <center>1.6630</center></td>\n",
        "      <td>    <center>-</center></td>\n",
        "      <td>  <center>1.7255</center></td>\n",
        "      <td>        <center>-</center></td>\n",
        "      <td>  <center>1.7255</center></td>\n",
        "      <td rowspan=2><img src=\"http://i.imgur.com/f9HJsu6.png\" alt = \"Unshored Slab\" title = \"Unshored Slab\"style=\"max-width:50px; max-height:50px;  float:left; margin-right:3px;\"/></td>\n",
        "    </tr>\n",
        "    <tr>\n",
        "\n",
        "      <td>Empty</td>\n",
        "      <td>      <center>0.25</center></td>\n",
        "      <td> <center>0.25</center></td>\n",
        "      <td>         <center>-</center></td>\n",
        "      <td>        <center>-</center></td>\n",
        "      <td>         <center>-</center></td>\n",
        "    </tr>\n",
        "  </tbody>\n",
        "</table>\n"
       ],
       "metadata": {},
       "output_type": "pyout",
       "prompt_number": 31,
       "text": [
        "<IPython.core.display.HTML at 0x7f5898a09f98>"
       ]
      }
     ],
     "prompt_number": 31
    },
    {
     "cell_type": "markdown",
     "metadata": {},
     "source": [
      "Next remove the shores on level 6."
     ]
    },
    {
     "cell_type": "code",
     "collapsed": false,
     "input": [
      "struct.remove_shore"
     ],
     "language": "python",
     "metadata": {
      "slideshow": {
       "slide_type": "subslide"
      }
     },
     "outputs": [
      {
       "html": [
        "<strong>Action taken: Remove Shores at Level 6</strong>\n",
        "<table border=\"1\" class=\"dataframe\">\n",
        "  <thead>\n",
        "    <tr style=\"text-align: right;\">\n",
        "      <th rowspan = 2>Level</th><th rowspan = 2>Item</th>\n",
        "      <th rowspan = 2>Starting Loads</th>\n",
        "      <th rowspan = 2>Load to be Distributed</th>\n",
        "      <th rowspan = 2>New Slab Reactions</th>\n",
        "      <th  rowspan = 2 style=\"text-align: right;\">Number of Slabs Above<br>- Slab Reactions</th>\n",
        "      <th rowspan = 2>Ending Loads</th>\n",
        "      <th rowspan = 2>Symbol</th>\n",
        "    </tr>\n",
        "  </thead>\n",
        "  <tbody>\n",
        "    <tr>\n",
        "<th rowspan=\"2\">8</th>\n",
        "      <td>Slab</td>\n",
        "      <td>    <center>0.0625</center></td>\n",
        "      <td>        <center>-</center></td>\n",
        "      <td>  <center>0.3043</center></td>\n",
        "      <td>        <center>-</center></td>\n",
        "      <td>  <center>0.3043</center></td>\n",
        "      <td rowspan=2><img src=\"http://i.imgur.com/W6Tqme1.png\" alt = \"Shored Slab\" title = \"Shored Slab\"style=\"max-width:50px; max-height:50px;  float:left; margin-right:3px;\"/></td>\n",
        "    </tr>\n",
        "    <tr>\n",
        "\n",
        "      <td>Shores</td>\n",
        "      <td>    <center>0.9375</center></td>\n",
        "      <td>        <center>-</center></td>\n",
        "      <td>         <center>-</center></td>\n",
        "      <td> <center>0.6957</center></td>\n",
        "      <td>  <center>0.6957</center></td>\n",
        "    </tr>\n",
        "    <tr>\n",
        "<th rowspan=\"2\">7</th>\n",
        "      <td>Slab</td>\n",
        "      <td> <center>0.6866</center></td>\n",
        "      <td>        <center>-</center></td>\n",
        "      <td> <center>0.9284</center></td>\n",
        "      <td>        <center>-</center></td>\n",
        "      <td> <center>0.9284</center></td>\n",
        "      <td rowspan=2><img src=\"http://i.imgur.com/W6Tqme1.png\" alt = \"Shored Slab\" title = \"Shored Slab\"style=\"max-width:50px; max-height:50px;  float:left; margin-right:3px;\"/></td>\n",
        "    </tr>\n",
        "    <tr>\n",
        "\n",
        "      <td>Shores</td>\n",
        "      <td>  <center>1.2509</center></td>\n",
        "      <td>        <center>-</center></td>\n",
        "      <td>         <center>-</center></td>\n",
        "      <td> <center>0.7673</center></td>\n",
        "      <td>  <center>0.7673</center></td>\n",
        "    </tr>\n",
        "    <tr>\n",
        "<th rowspan=\"2\">6</th>\n",
        "      <td>Slab</td>\n",
        "      <td>  <center>1.5255</center></td>\n",
        "      <td>        <center>-</center></td>\n",
        "      <td>  <center>1.7673</center></td>\n",
        "      <td>        <center>-</center></td>\n",
        "      <td>  <center>1.7673</center></td>\n",
        "      <td rowspan=2><img src=\"http://i.imgur.com/f9HJsu6.png\" alt = \"Unshored Slab\" title = \"Unshored Slab\"style=\"max-width:50px; max-height:50px;  float:left; margin-right:3px;\"/></td>\n",
        "    </tr>\n",
        "    <tr>\n",
        "\n",
        "      <td>Empty</td>\n",
        "      <td>  <center>0.7255</center></td>\n",
        "      <td> <center>0.7255</center></td>\n",
        "      <td>         <center>-</center></td>\n",
        "      <td>        <center>-</center></td>\n",
        "      <td>         <center>-</center></td>\n",
        "    </tr>\n",
        "  </tbody>\n",
        "</table>\n"
       ],
       "metadata": {},
       "output_type": "pyout",
       "prompt_number": 32,
       "text": [
        "<IPython.core.display.HTML at 0x7f5898a09da0>"
       ]
      }
     ],
     "prompt_number": 32
    },
    {
     "cell_type": "markdown",
     "metadata": {},
     "source": [
      "Remove the shores on level 7."
     ]
    },
    {
     "cell_type": "code",
     "collapsed": false,
     "input": [
      "struct.remove_shore"
     ],
     "language": "python",
     "metadata": {
      "slideshow": {
       "slide_type": "subslide"
      }
     },
     "outputs": [
      {
       "html": [
        "<strong>Action taken: Remove Shores at Level 7</strong>\n",
        "<table border=\"1\" class=\"dataframe\">\n",
        "  <thead>\n",
        "    <tr style=\"text-align: right;\">\n",
        "      <th rowspan = 2>Level</th><th rowspan = 2>Item</th>\n",
        "      <th rowspan = 2>Starting Loads</th>\n",
        "      <th rowspan = 2>Load to be Distributed</th>\n",
        "      <th rowspan = 2>New Slab Reactions</th>\n",
        "      <th  rowspan = 2 style=\"text-align: right;\">Number of Slabs Above<br>- Slab Reactions</th>\n",
        "      <th rowspan = 2>Ending Loads</th>\n",
        "      <th rowspan = 2>Symbol</th>\n",
        "    </tr>\n",
        "  </thead>\n",
        "  <tbody>\n",
        "    <tr>\n",
        "<th rowspan=\"2\">8</th>\n",
        "      <td>Slab</td>\n",
        "      <td>  <center>0.3043</center></td>\n",
        "      <td>        <center>-</center></td>\n",
        "      <td> <center>0.6880</center></td>\n",
        "      <td>        <center>-</center></td>\n",
        "      <td> <center>0.6880</center></td>\n",
        "      <td rowspan=2><img src=\"http://i.imgur.com/W6Tqme1.png\" alt = \"Shored Slab\" title = \"Shored Slab\"style=\"max-width:50px; max-height:50px;  float:left; margin-right:3px;\"/></td>\n",
        "    </tr>\n",
        "    <tr>\n",
        "\n",
        "      <td>Shores</td>\n",
        "      <td>  <center>0.6957</center></td>\n",
        "      <td>        <center>-</center></td>\n",
        "      <td>        <center>-</center></td>\n",
        "      <td> <center>0.3120</center></td>\n",
        "      <td> <center>0.3120</center></td>\n",
        "    </tr>\n",
        "    <tr>\n",
        "<th rowspan=\"2\">7</th>\n",
        "      <td>Slab</td>\n",
        "      <td> <center>0.9284</center></td>\n",
        "      <td>        <center>-</center></td>\n",
        "      <td> <center>1.3120</center></td>\n",
        "      <td>        <center>-</center></td>\n",
        "      <td> <center>1.3120</center></td>\n",
        "      <td rowspan=2><img src=\"http://i.imgur.com/f9HJsu6.png\" alt = \"Unshored Slab\" title = \"Unshored Slab\"style=\"max-width:50px; max-height:50px;  float:left; margin-right:3px;\"/></td>\n",
        "    </tr>\n",
        "    <tr>\n",
        "\n",
        "      <td>Empty</td>\n",
        "      <td>  <center>0.7673</center></td>\n",
        "      <td> <center>0.7673</center></td>\n",
        "      <td>        <center>-</center></td>\n",
        "      <td>        <center>-</center></td>\n",
        "      <td>        <center>-</center></td>\n",
        "    </tr>\n",
        "  </tbody>\n",
        "</table>\n"
       ],
       "metadata": {},
       "output_type": "pyout",
       "prompt_number": 33,
       "text": [
        "<IPython.core.display.HTML at 0x7f5898a04320>"
       ]
      }
     ],
     "prompt_number": 33
    },
    {
     "cell_type": "markdown",
     "metadata": {},
     "source": [
      "Remove the shores on level 8."
     ]
    },
    {
     "cell_type": "code",
     "collapsed": false,
     "input": [
      "struct.remove_shore"
     ],
     "language": "python",
     "metadata": {
      "slideshow": {
       "slide_type": "skip"
      }
     },
     "outputs": [
      {
       "html": [
        "<strong>Action taken: Remove Shores at Level 8</strong>\n",
        "<table border=\"1\" class=\"dataframe\">\n",
        "  <thead>\n",
        "    <tr style=\"text-align: right;\">\n",
        "      <th rowspan = 2>Level</th><th rowspan = 2>Item</th>\n",
        "      <th rowspan = 2>Starting Loads</th>\n",
        "      <th rowspan = 2>Load to be Distributed</th>\n",
        "      <th rowspan = 2>New Slab Reactions</th>\n",
        "      <th  rowspan = 2 style=\"text-align: right;\">Number of Slabs Above<br>- Slab Reactions</th>\n",
        "      <th rowspan = 2>Ending Loads</th>\n",
        "      <th rowspan = 2>Symbol</th>\n",
        "    </tr>\n",
        "  </thead>\n",
        "  <tbody>\n",
        "    <tr>\n",
        "<th rowspan=\"2\">8</th>\n",
        "      <td>Slab</td>\n",
        "      <td> <center>0.6880</center></td>\n",
        "      <td>        <center>-</center></td>\n",
        "      <td> <center>1</center></td>\n",
        "      <td> <center>-</center></td>\n",
        "      <td> <center>1</center></td>\n",
        "      <td rowspan=2><img src=\"http://i.imgur.com/f9HJsu6.png\" alt = \"Unshored Slab\" title = \"Unshored Slab\"style=\"max-width:50px; max-height:50px;  float:left; margin-right:3px;\"/></td>\n",
        "    </tr>\n",
        "    <tr>\n",
        "\n",
        "      <td>Empty</td>\n",
        "      <td> <center>0.3120</center></td>\n",
        "      <td> <center>0.3120</center></td>\n",
        "      <td> <center>-</center></td>\n",
        "      <td> <center>-</center></td>\n",
        "      <td> <center>-</center></td>\n",
        "    </tr>\n",
        "  </tbody>\n",
        "</table>\n"
       ],
       "metadata": {},
       "output_type": "pyout",
       "prompt_number": 34,
       "text": [
        "<IPython.core.display.HTML at 0x7f58989e9d30>"
       ]
      }
     ],
     "prompt_number": 34
    },
    {
     "cell_type": "code",
     "collapsed": false,
     "input": [
      "struct.show_all"
     ],
     "language": "python",
     "metadata": {
      "slideshow": {
       "slide_type": "subslide"
      }
     },
     "outputs": [
      {
       "html": [
        "<strong>Action taken: Remove Shores at Level 8</strong>\n",
        "<table border=\"1\" class=\"dataframe\">\n",
        "  <thead>\n",
        "    <tr style=\"text-align: right;\">\n",
        "      <th rowspan = 2>Level</th><th rowspan = 2>Item</th>\n",
        "      <th rowspan = 2>Starting Loads</th>\n",
        "      <th rowspan = 2>Load to be Distributed</th>\n",
        "      <th rowspan = 2>New Slab Reactions</th>\n",
        "      <th  rowspan = 2 style=\"text-align: right;\">Number of Slabs Above<br>- Slab Reactions</th>\n",
        "      <th rowspan = 2>Ending Loads</th>\n",
        "      <th rowspan = 2>Symbol</th>\n",
        "    </tr>\n",
        "  </thead>\n",
        "  <tbody>\n",
        "    <tr>\n",
        "<th rowspan=\"2\">8</th>\n",
        "      <td>Slab</td>\n",
        "      <td> <center>0.6880</center></td>\n",
        "      <td>        <center>-</center></td>\n",
        "      <td> <center>1</center></td>\n",
        "      <td> <center>-</center></td>\n",
        "      <td> <center>1</center></td>\n",
        "      <td rowspan=2><img src=\"http://i.imgur.com/f9HJsu6.png\" alt = \"Unshored Slab\" title = \"Unshored Slab\"style=\"max-width:50px; max-height:50px;  float:left; margin-right:3px;\"/></td>\n",
        "    </tr>\n",
        "    <tr>\n",
        "\n",
        "      <td>Empty</td>\n",
        "      <td> <center>0.3120</center></td>\n",
        "      <td> <center>0.3120</center></td>\n",
        "      <td> <center>-</center></td>\n",
        "      <td> <center>-</center></td>\n",
        "      <td> <center>-</center></td>\n",
        "    </tr>\n",
        "    <tr>\n",
        "<th rowspan=\"2\">7</th>\n",
        "      <td>Slab</td>\n",
        "      <td> <center>1.3120</center></td>\n",
        "      <td>        <center>-</center></td>\n",
        "      <td> <center>1</center></td>\n",
        "      <td> <center>-</center></td>\n",
        "      <td> <center>1</center></td>\n",
        "      <td rowspan=2><img src=\"http://i.imgur.com/f9HJsu6.png\" alt = \"Unshored Slab\" title = \"Unshored Slab\"style=\"max-width:50px; max-height:50px;  float:left; margin-right:3px;\"/></td>\n",
        "    </tr>\n",
        "    <tr>\n",
        "\n",
        "      <td>Empty</td>\n",
        "      <td>        <center>-</center></td>\n",
        "      <td>        <center>-</center></td>\n",
        "      <td> <center>-</center></td>\n",
        "      <td> <center>-</center></td>\n",
        "      <td> <center>-</center></td>\n",
        "    </tr>\n",
        "    <tr>\n",
        "<th rowspan=\"2\">6</th>\n",
        "      <td>Slab</td>\n",
        "      <td>        <center>1</center></td>\n",
        "      <td>        <center>-</center></td>\n",
        "      <td> <center>1</center></td>\n",
        "      <td> <center>-</center></td>\n",
        "      <td> <center>1</center></td>\n",
        "      <td rowspan=2><img src=\"http://i.imgur.com/f9HJsu6.png\" alt = \"Unshored Slab\" title = \"Unshored Slab\"style=\"max-width:50px; max-height:50px;  float:left; margin-right:3px;\"/></td>\n",
        "    </tr>\n",
        "    <tr>\n",
        "\n",
        "      <td>Empty</td>\n",
        "      <td>        <center>-</center></td>\n",
        "      <td>        <center>-</center></td>\n",
        "      <td> <center>-</center></td>\n",
        "      <td> <center>-</center></td>\n",
        "      <td> <center>-</center></td>\n",
        "    </tr>\n",
        "    <tr>\n",
        "<th rowspan=\"2\">5</th>\n",
        "      <td>Slab</td>\n",
        "      <td>        <center>1</center></td>\n",
        "      <td>        <center>-</center></td>\n",
        "      <td> <center>1</center></td>\n",
        "      <td> <center>-</center></td>\n",
        "      <td> <center>1</center></td>\n",
        "      <td rowspan=2><img src=\"http://i.imgur.com/f9HJsu6.png\" alt = \"Unshored Slab\" title = \"Unshored Slab\"style=\"max-width:50px; max-height:50px;  float:left; margin-right:3px;\"/></td>\n",
        "    </tr>\n",
        "    <tr>\n",
        "\n",
        "      <td>Empty</td>\n",
        "      <td>        <center>-</center></td>\n",
        "      <td>        <center>-</center></td>\n",
        "      <td> <center>-</center></td>\n",
        "      <td> <center>-</center></td>\n",
        "      <td> <center>-</center></td>\n",
        "    </tr>\n",
        "    <tr>\n",
        "<th rowspan=\"2\">4</th>\n",
        "      <td>Slab</td>\n",
        "      <td>        <center>1</center></td>\n",
        "      <td>        <center>-</center></td>\n",
        "      <td> <center>1</center></td>\n",
        "      <td> <center>-</center></td>\n",
        "      <td> <center>1</center></td>\n",
        "      <td rowspan=2><img src=\"http://i.imgur.com/f9HJsu6.png\" alt = \"Unshored Slab\" title = \"Unshored Slab\"style=\"max-width:50px; max-height:50px;  float:left; margin-right:3px;\"/></td>\n",
        "    </tr>\n",
        "    <tr>\n",
        "\n",
        "      <td>Empty</td>\n",
        "      <td>        <center>-</center></td>\n",
        "      <td>        <center>-</center></td>\n",
        "      <td> <center>-</center></td>\n",
        "      <td> <center>-</center></td>\n",
        "      <td> <center>-</center></td>\n",
        "    </tr>\n",
        "    <tr>\n",
        "<th rowspan=\"2\">3</th>\n",
        "      <td>Slab</td>\n",
        "      <td>        <center>1</center></td>\n",
        "      <td>        <center>-</center></td>\n",
        "      <td> <center>1</center></td>\n",
        "      <td> <center>-</center></td>\n",
        "      <td> <center>1</center></td>\n",
        "      <td rowspan=2><img src=\"http://i.imgur.com/f9HJsu6.png\" alt = \"Unshored Slab\" title = \"Unshored Slab\"style=\"max-width:50px; max-height:50px;  float:left; margin-right:3px;\"/></td>\n",
        "    </tr>\n",
        "    <tr>\n",
        "\n",
        "      <td>Empty</td>\n",
        "      <td>        <center>-</center></td>\n",
        "      <td>        <center>-</center></td>\n",
        "      <td> <center>-</center></td>\n",
        "      <td> <center>-</center></td>\n",
        "      <td> <center>-</center></td>\n",
        "    </tr>\n",
        "    <tr>\n",
        "<th rowspan=\"2\">2</th>\n",
        "      <td>Slab</td>\n",
        "      <td>        <center>1</center></td>\n",
        "      <td>        <center>-</center></td>\n",
        "      <td> <center>1</center></td>\n",
        "      <td> <center>-</center></td>\n",
        "      <td> <center>1</center></td>\n",
        "      <td rowspan=2><img src=\"http://i.imgur.com/f9HJsu6.png\" alt = \"Unshored Slab\" title = \"Unshored Slab\"style=\"max-width:50px; max-height:50px;  float:left; margin-right:3px;\"/></td>\n",
        "    </tr>\n",
        "    <tr>\n",
        "\n",
        "      <td>Empty</td>\n",
        "      <td>        <center>-</center></td>\n",
        "      <td>        <center>-</center></td>\n",
        "      <td> <center>-</center></td>\n",
        "      <td> <center>-</center></td>\n",
        "      <td> <center>-</center></td>\n",
        "    </tr>\n",
        "    <tr>\n",
        "<th rowspan=\"2\">1</th>\n",
        "      <td>Slab</td>\n",
        "      <td>        <center>1</center></td>\n",
        "      <td>        <center>-</center></td>\n",
        "      <td> <center>1</center></td>\n",
        "      <td> <center>-</center></td>\n",
        "      <td> <center>1</center></td>\n",
        "      <td rowspan=2><img src=\"http://i.imgur.com/f9HJsu6.png\" alt = \"Unshored Slab\" title = \"Unshored Slab\"style=\"max-width:50px; max-height:50px;  float:left; margin-right:3px;\"/></td>\n",
        "    </tr>\n",
        "    <tr>\n",
        "\n",
        "      <td>Empty</td>\n",
        "      <td>        <center>-</center></td>\n",
        "      <td>        <center>-</center></td>\n",
        "      <td> <center>-</center></td>\n",
        "      <td> <center>-</center></td>\n",
        "      <td> <center>-</center></td>\n",
        "    </tr>\n",
        "  </tbody>\n",
        "</table>\n"
       ],
       "metadata": {},
       "output_type": "pyout",
       "prompt_number": 35,
       "text": [
        "<IPython.core.display.HTML at 0x7f5898a19588>"
       ]
      }
     ],
     "prompt_number": 35
    },
    {
     "cell_type": "heading",
     "level": 2,
     "metadata": {
      "slideshow": {
       "slide_type": "slide"
      }
     },
     "source": [
      "Lowest Loads from the Simplist Procedure"
     ]
    },
    {
     "cell_type": "markdown",
     "metadata": {},
     "source": [
      "<audio controls data-autoplay preload>\n",
      " <source src=\"https://github.com/damontallen/Construction-Lectures/raw/master/Lecture%20Audio/Week%2010/Reshoring%20Slabs/Lowest%20Loads%20from%20the%20Simplist%20Procedure.mp3\"\n",
      "         type='audio/mp3'>\n",
      " <p>Your user agent does not support the HTML5 Audio element or the files are missing.</p>\n",
      "</audio>"
     ]
    },
    {
     "cell_type": "markdown",
     "metadata": {},
     "source": [
      "The following series of pouring, removal of shores and adding reshores, will result in the lowest loads you can have in a building under construction.  The idea is to reshore every level.  Forms should aways be stripped, and slabs reshored before the next pour.  In this way no slab will carry more than its own self-weight, and the shores, and reshore, will only ever carry one slab weight per level.  You can only do this if you can afford to have shores, and reshores, at every level.\n",
      "\n",
      "I'm arranging these slides vertically as well, since it becomes obvious fairly quickly why this is alway the case."
     ]
    },
    {
     "cell_type": "code",
     "collapsed": false,
     "input": [
      "Lowest_Loads = building()"
     ],
     "language": "python",
     "metadata": {
      "slideshow": {
       "slide_type": "skip"
      }
     },
     "outputs": [],
     "prompt_number": 36
    },
    {
     "cell_type": "code",
     "collapsed": false,
     "input": [
      "Lowest_Loads.show"
     ],
     "language": "python",
     "metadata": {
      "slideshow": {
       "slide_type": "subslide"
      }
     },
     "outputs": [
      {
       "html": [
        "<strong>Action taken: Pour a Slab</strong>\n",
        "<table border=\"1\" class=\"dataframe\">\n",
        "  <thead>\n",
        "    <tr style=\"text-align: right;\">\n",
        "      <th rowspan = 2>Level</th><th rowspan = 2>Item</th>\n",
        "      <th rowspan = 2>Starting Loads</th>\n",
        "      <th rowspan = 2>Load to be Distributed</th>\n",
        "      <th rowspan = 2>New Slab Reactions</th>\n",
        "      <th  rowspan = 2 style=\"text-align: right;\">Number of Slabs Above<br>- Slab Reactions</th>\n",
        "      <th rowspan = 2>Ending Loads</th>\n",
        "      <th rowspan = 2>Symbol</th>\n",
        "    </tr>\n",
        "  </thead>\n",
        "  <tbody>\n",
        "    <tr>\n",
        "<th rowspan=\"2\">1</th>\n",
        "      <td>Slab</td>\n",
        "      <td> <center>-</center></td>\n",
        "      <td> <center>1</center></td>\n",
        "      <td> <center>-</center></td>\n",
        "      <td> <center>-</center></td>\n",
        "      <td> <center>0</center></td>\n",
        "      <td rowspan=2><img src=\"http://i.imgur.com/W6Tqme1.png\" alt = \"Shored Slab\" title = \"Shored Slab\"style=\"max-width:50px; max-height:50px;  float:left; margin-right:3px;\"/></td>\n",
        "    </tr>\n",
        "    <tr>\n",
        "\n",
        "      <td>Shores</td>\n",
        "      <td> <center>-</center></td>\n",
        "      <td> <center>-</center></td>\n",
        "      <td> <center>-</center></td>\n",
        "      <td> <center>1</center></td>\n",
        "      <td> <center>1</center></td>\n",
        "    </tr>\n",
        "  </tbody>\n",
        "</table>\n"
       ],
       "metadata": {},
       "output_type": "pyout",
       "prompt_number": 37,
       "text": [
        "<IPython.core.display.HTML at 0x7f5898a04cc0>"
       ]
      }
     ],
     "prompt_number": 37
    },
    {
     "cell_type": "code",
     "collapsed": false,
     "input": [
      "Lowest_Loads.remove_shore"
     ],
     "language": "python",
     "metadata": {
      "slideshow": {
       "slide_type": "subslide"
      }
     },
     "outputs": [
      {
       "html": [
        "<strong>Action taken: Remove Shores at Level 1</strong>\n",
        "<table border=\"1\" class=\"dataframe\">\n",
        "  <thead>\n",
        "    <tr style=\"text-align: right;\">\n",
        "      <th rowspan = 2>Level</th><th rowspan = 2>Item</th>\n",
        "      <th rowspan = 2>Starting Loads</th>\n",
        "      <th rowspan = 2>Load to be Distributed</th>\n",
        "      <th rowspan = 2>New Slab Reactions</th>\n",
        "      <th  rowspan = 2 style=\"text-align: right;\">Number of Slabs Above<br>- Slab Reactions</th>\n",
        "      <th rowspan = 2>Ending Loads</th>\n",
        "      <th rowspan = 2>Symbol</th>\n",
        "    </tr>\n",
        "  </thead>\n",
        "  <tbody>\n",
        "    <tr>\n",
        "<th rowspan=\"2\">1</th>\n",
        "      <td>Slab</td>\n",
        "      <td> <center>0</center></td>\n",
        "      <td> <center>-</center></td>\n",
        "      <td> <center>1</center></td>\n",
        "      <td> <center>-</center></td>\n",
        "      <td> <center>1</center></td>\n",
        "      <td rowspan=2><img src=\"http://i.imgur.com/f9HJsu6.png\" alt = \"Unshored Slab\" title = \"Unshored Slab\"style=\"max-width:50px; max-height:50px;  float:left; margin-right:3px;\"/></td>\n",
        "    </tr>\n",
        "    <tr>\n",
        "\n",
        "      <td>Empty</td>\n",
        "      <td> <center>1</center></td>\n",
        "      <td> <center>1</center></td>\n",
        "      <td> <center>-</center></td>\n",
        "      <td> <center>-</center></td>\n",
        "      <td> <center>-</center></td>\n",
        "    </tr>\n",
        "  </tbody>\n",
        "</table>\n"
       ],
       "metadata": {},
       "output_type": "pyout",
       "prompt_number": 38,
       "text": [
        "<IPython.core.display.HTML at 0x7f5898a095f8>"
       ]
      }
     ],
     "prompt_number": 38
    },
    {
     "cell_type": "code",
     "collapsed": false,
     "input": [
      "Lowest_Loads.reshore"
     ],
     "language": "python",
     "metadata": {
      "slideshow": {
       "slide_type": "skip"
      }
     },
     "outputs": [
      {
       "output_type": "stream",
       "stream": "stdout",
       "text": [
        "Reshore does not affect loads.  To show the reshore step set show_reshore to True\n"
       ]
      }
     ],
     "prompt_number": 39
    },
    {
     "cell_type": "code",
     "collapsed": true,
     "input": [
      "Lowest_Loads.add_slab"
     ],
     "language": "python",
     "metadata": {
      "slideshow": {
       "slide_type": "subslide"
      }
     },
     "outputs": [
      {
       "html": [
        "<strong>Action taken: Reshore level 1, and Pour a Slab on Level 2</strong>\n",
        "<table border=\"1\" class=\"dataframe\">\n",
        "  <thead>\n",
        "    <tr style=\"text-align: right;\">\n",
        "      <th rowspan = 2>Level</th><th rowspan = 2>Item</th>\n",
        "      <th rowspan = 2>Starting Loads</th>\n",
        "      <th rowspan = 2>Load to be Distributed</th>\n",
        "      <th rowspan = 2>New Slab Reactions</th>\n",
        "      <th  rowspan = 2 style=\"text-align: right;\">Number of Slabs Above<br>- Slab Reactions</th>\n",
        "      <th rowspan = 2>Ending Loads</th>\n",
        "      <th rowspan = 2>Symbol</th>\n",
        "    </tr>\n",
        "  </thead>\n",
        "  <tbody>\n",
        "    <tr>\n",
        "<th rowspan=\"2\">2</th>\n",
        "      <td>Slab</td>\n",
        "      <td> <center>-</center></td>\n",
        "      <td> <center>1</center></td>\n",
        "      <td> <center>-</center></td>\n",
        "      <td> <center>-</center></td>\n",
        "      <td> <center>0</center></td>\n",
        "      <td rowspan=2><img src=\"http://i.imgur.com/W6Tqme1.png\" alt = \"Shored Slab\" title = \"Shored Slab\"style=\"max-width:50px; max-height:50px;  float:left; margin-right:3px;\"/></td>\n",
        "    </tr>\n",
        "    <tr>\n",
        "\n",
        "      <td>Shores</td>\n",
        "      <td> <center>-</center></td>\n",
        "      <td> <center>-</center></td>\n",
        "      <td> <center>-</center></td>\n",
        "      <td> <center>1</center></td>\n",
        "      <td> <center>1</center></td>\n",
        "    </tr>\n",
        "    <tr>\n",
        "<th rowspan=\"2\">1</th>\n",
        "      <td>Slab</td>\n",
        "      <td> <center>1</center></td>\n",
        "      <td> <center>-</center></td>\n",
        "      <td> <center>1</center></td>\n",
        "      <td> <center>-</center></td>\n",
        "      <td> <center>1</center></td>\n",
        "      <td rowspan=2><img src=\"http://i.imgur.com/vMgiW58.png\" alt = \"Reshored Slab\" title = \"Reshored Slab\"style=\"max-width:50px; max-height:50px;  float:left; margin-right:3px;\"/></td>\n",
        "    </tr>\n",
        "    <tr>\n",
        "\n",
        "      <td>Reshores</td>\n",
        "      <td> <center>0</center></td>\n",
        "      <td> <center>-</center></td>\n",
        "      <td> <center>-</center></td>\n",
        "      <td> <center>1</center></td>\n",
        "      <td> <center>1</center></td>\n",
        "    </tr>\n",
        "  </tbody>\n",
        "</table>\n"
       ],
       "metadata": {},
       "output_type": "pyout",
       "prompt_number": 40,
       "text": [
        "<IPython.core.display.HTML at 0x7f5898a19d30>"
       ]
      }
     ],
     "prompt_number": 40
    },
    {
     "cell_type": "code",
     "collapsed": false,
     "input": [
      "Lowest_Loads.remove_shore"
     ],
     "language": "python",
     "metadata": {
      "slideshow": {
       "slide_type": "subslide"
      }
     },
     "outputs": [
      {
       "html": [
        "<strong>Action taken: Remove Shores at Level 2</strong>\n",
        "<table border=\"1\" class=\"dataframe\">\n",
        "  <thead>\n",
        "    <tr style=\"text-align: right;\">\n",
        "      <th rowspan = 2>Level</th><th rowspan = 2>Item</th>\n",
        "      <th rowspan = 2>Starting Loads</th>\n",
        "      <th rowspan = 2>Load to be Distributed</th>\n",
        "      <th rowspan = 2>New Slab Reactions</th>\n",
        "      <th  rowspan = 2 style=\"text-align: right;\">Number of Slabs Above<br>- Slab Reactions</th>\n",
        "      <th rowspan = 2>Ending Loads</th>\n",
        "      <th rowspan = 2>Symbol</th>\n",
        "    </tr>\n",
        "  </thead>\n",
        "  <tbody>\n",
        "    <tr>\n",
        "<th rowspan=\"2\">2</th>\n",
        "      <td>Slab</td>\n",
        "      <td> <center>0</center></td>\n",
        "      <td> <center>-</center></td>\n",
        "      <td> <center>1</center></td>\n",
        "      <td> <center>-</center></td>\n",
        "      <td> <center>1</center></td>\n",
        "      <td rowspan=2><img src=\"http://i.imgur.com/f9HJsu6.png\" alt = \"Unshored Slab\" title = \"Unshored Slab\"style=\"max-width:50px; max-height:50px;  float:left; margin-right:3px;\"/></td>\n",
        "    </tr>\n",
        "    <tr>\n",
        "\n",
        "      <td>Empty</td>\n",
        "      <td> <center>1</center></td>\n",
        "      <td> <center>1</center></td>\n",
        "      <td> <center>-</center></td>\n",
        "      <td> <center>-</center></td>\n",
        "      <td> <center>-</center></td>\n",
        "    </tr>\n",
        "    <tr>\n",
        "<th rowspan=\"2\">1</th>\n",
        "      <td>Slab</td>\n",
        "      <td> <center>1</center></td>\n",
        "      <td> <center>-</center></td>\n",
        "      <td> <center>1</center></td>\n",
        "      <td> <center>-</center></td>\n",
        "      <td> <center>1</center></td>\n",
        "      <td rowspan=2><img src=\"http://i.imgur.com/vMgiW58.png\" alt = \"Reshored Slab\" title = \"Reshored Slab\"style=\"max-width:50px; max-height:50px;  float:left; margin-right:3px;\"/></td>\n",
        "    </tr>\n",
        "    <tr>\n",
        "\n",
        "      <td>Reshores</td>\n",
        "      <td> <center>1</center></td>\n",
        "      <td> <center>-</center></td>\n",
        "      <td> <center>-</center></td>\n",
        "      <td> <center>0</center></td>\n",
        "      <td> <center>0</center></td>\n",
        "    </tr>\n",
        "  </tbody>\n",
        "</table>\n"
       ],
       "metadata": {},
       "output_type": "pyout",
       "prompt_number": 41,
       "text": [
        "<IPython.core.display.HTML at 0x7f5898a04a20>"
       ]
      }
     ],
     "prompt_number": 41
    },
    {
     "cell_type": "code",
     "collapsed": false,
     "input": [
      "Lowest_Loads.reshore"
     ],
     "language": "python",
     "metadata": {
      "slideshow": {
       "slide_type": "skip"
      }
     },
     "outputs": [
      {
       "output_type": "stream",
       "stream": "stdout",
       "text": [
        "Reshore does not affect loads.  To show the reshore step set show_reshore to True\n"
       ]
      }
     ],
     "prompt_number": 42
    },
    {
     "cell_type": "code",
     "collapsed": true,
     "input": [
      "Lowest_Loads.add_slab"
     ],
     "language": "python",
     "metadata": {
      "slideshow": {
       "slide_type": "subslide"
      }
     },
     "outputs": [
      {
       "html": [
        "<strong>Action taken: Reshore level 2, and Pour a Slab on Level 3</strong>\n",
        "<table border=\"1\" class=\"dataframe\">\n",
        "  <thead>\n",
        "    <tr style=\"text-align: right;\">\n",
        "      <th rowspan = 2>Level</th><th rowspan = 2>Item</th>\n",
        "      <th rowspan = 2>Starting Loads</th>\n",
        "      <th rowspan = 2>Load to be Distributed</th>\n",
        "      <th rowspan = 2>New Slab Reactions</th>\n",
        "      <th  rowspan = 2 style=\"text-align: right;\">Number of Slabs Above<br>- Slab Reactions</th>\n",
        "      <th rowspan = 2>Ending Loads</th>\n",
        "      <th rowspan = 2>Symbol</th>\n",
        "    </tr>\n",
        "  </thead>\n",
        "  <tbody>\n",
        "    <tr>\n",
        "<th rowspan=\"2\">3</th>\n",
        "      <td>Slab</td>\n",
        "      <td> <center>-</center></td>\n",
        "      <td> <center>1</center></td>\n",
        "      <td> <center>-</center></td>\n",
        "      <td> <center>-</center></td>\n",
        "      <td> <center>0</center></td>\n",
        "      <td rowspan=2><img src=\"http://i.imgur.com/W6Tqme1.png\" alt = \"Shored Slab\" title = \"Shored Slab\"style=\"max-width:50px; max-height:50px;  float:left; margin-right:3px;\"/></td>\n",
        "    </tr>\n",
        "    <tr>\n",
        "\n",
        "      <td>Shores</td>\n",
        "      <td> <center>-</center></td>\n",
        "      <td> <center>-</center></td>\n",
        "      <td> <center>-</center></td>\n",
        "      <td> <center>1</center></td>\n",
        "      <td> <center>1</center></td>\n",
        "    </tr>\n",
        "    <tr>\n",
        "<th rowspan=\"2\">2</th>\n",
        "      <td>Slab</td>\n",
        "      <td> <center>1</center></td>\n",
        "      <td> <center>-</center></td>\n",
        "      <td> <center>1</center></td>\n",
        "      <td> <center>-</center></td>\n",
        "      <td> <center>1</center></td>\n",
        "      <td rowspan=2><img src=\"http://i.imgur.com/vMgiW58.png\" alt = \"Reshored Slab\" title = \"Reshored Slab\"style=\"max-width:50px; max-height:50px;  float:left; margin-right:3px;\"/></td>\n",
        "    </tr>\n",
        "    <tr>\n",
        "\n",
        "      <td>Reshores</td>\n",
        "      <td> <center>0</center></td>\n",
        "      <td> <center>-</center></td>\n",
        "      <td> <center>-</center></td>\n",
        "      <td> <center>1</center></td>\n",
        "      <td> <center>1</center></td>\n",
        "    </tr>\n",
        "    <tr>\n",
        "<th rowspan=\"2\">1</th>\n",
        "      <td>Slab</td>\n",
        "      <td> <center>1</center></td>\n",
        "      <td> <center>-</center></td>\n",
        "      <td> <center>1</center></td>\n",
        "      <td> <center>-</center></td>\n",
        "      <td> <center>1</center></td>\n",
        "      <td rowspan=2><img src=\"http://i.imgur.com/vMgiW58.png\" alt = \"Reshored Slab\" title = \"Reshored Slab\"style=\"max-width:50px; max-height:50px;  float:left; margin-right:3px;\"/></td>\n",
        "    </tr>\n",
        "    <tr>\n",
        "\n",
        "      <td>Reshores</td>\n",
        "      <td> <center>0</center></td>\n",
        "      <td> <center>-</center></td>\n",
        "      <td> <center>-</center></td>\n",
        "      <td> <center>1</center></td>\n",
        "      <td> <center>1</center></td>\n",
        "    </tr>\n",
        "  </tbody>\n",
        "</table>\n"
       ],
       "metadata": {},
       "output_type": "pyout",
       "prompt_number": 43,
       "text": [
        "<IPython.core.display.HTML at 0x7f5898a09f60>"
       ]
      }
     ],
     "prompt_number": 43
    },
    {
     "cell_type": "heading",
     "level": 2,
     "metadata": {
      "slideshow": {
       "slide_type": "slide"
      }
     },
     "source": [
      "References:\n"
     ]
    },
    {
     "cell_type": "markdown",
     "metadata": {
      "slideshow": {
       "slide_type": "-"
      }
     },
     "source": [
      "[Class website](https://elearning2.courses.ufl.edu/portal/site/UFL-BCN4423C-40908-52014) *(Use this link to if you are taking the course on e-learning.)*\n",
      "\n",
      "[Github.io version of course website](http://damontallen.github.io/Construction-Lectures/) *(Do not use this link if you are taking this course in Summer A or B.)*\n",
      "\n",
      "[IPython.org](http://ipython.org/) *(IPython is the opensource software used in the development of much of this course.)*\n",
      "\n",
      "[Complete Software List](http://nbviewer.ipython.org/github/damontallen/Construction-Lectures/blob/master/Resources.ipynb)"
     ]
    },
    {
     "cell_type": "markdown",
     "metadata": {
      "slideshow": {
       "slide_type": "skip"
      }
     },
     "source": [
      "CSS stylesheet\n",
      "\n",
      "<head>\n",
      "<style>\n",
      "important {font:italic bold 16px arial;}\n",
      ".missing {color:Red}\n",
      "fragment {color:LightBlue;}\n",
      "subslide {color:DarkBlue;}\n",
      "\n",
      ".rgt {float:right;}\n",
      "\n",
      ".lt {float:left;}\n",
      "\n",
      ".cnt {text-align:center; vertical-align:text-top;}\n",
      "\n",
      ".box { border:1px solid blue; float:left; margin-right:3px;}\n",
      "\n",
      ".max {max-width:300px; max-height:300px;}\n",
      "\n",
      ".fix {max-height:200px; max-width:200px;}\n",
      "\n",
      "</style>\n",
      "</head>\n",
      "\n",
      "    ###Useful Tip:\n",
      "\n",
      "    If you use Firefox or Chrome then installing one of the following extensions will make viewing images in lectures easier.\n",
      "    \n",
      "    * Firefox - [Thumbnail Zoom Plus](https://addons.mozilla.org/en-US/firefox/addon/thumbnail-zoom-plus/?src=search)\n",
      "    * Chrome - [Hover Free](https://chrome.google.com/webstore/detail/hover-free/hcmnnggnaofmhflgomfjfbndngdoogkj) (Not to be confused with Hover Zoom.)\n",
      "\n",
      "    /* class = \"max box\" for img tags\n",
      "    \n",
      "    \n",
      "    Audio Player:\n",
      "    <audio controls data-autoplay preload>\n",
      "     <source src=\"https://github.com/damontallen/Construction-Lectures/raw/master/Intro/FILE%20NAME.mp3\"\n",
      "             type='audio/mp3'>\n",
      "     <p>Your user agent does not support the HTML5 Audio element or the files are missing.</p>\n",
      "    </audio>\n",
      "    \n",
      "    */\n",
      "    class = \"max box\" == style=\"max-width:300px; max-height:300px; border:1px solid blue; float:left; margin-right:3px;\"\n",
      "    important == <strong><font style=\"font:italic bold 16px arial;\"> Text here </font></strong>\n",
      "    Example <important class=\"missing\">Video Placeholder</important>\n",
      "    \n",
      "    Picture Examples: \n",
      "    (Right side)\n",
      "    <a href = \"http://i.imgur.com/h7H0m0b.png\"><img src=\"http://i.imgur.com/h7H0m0b.png\" alt = \"Elevated Slab with Worker\" title = \"Elevated Slab with Worker\" style=\"max-width:300px; max-height:300px; border:1px solid blue; float:right; margin-left:10px;\"/></a>\n",
      "    \n",
      "    (Left side)\n",
      "    <a href = \"http://i.imgur.com/EWHj3eh.png\"><img src=\"http://i.imgur.com/EWHj3eh.png\" alt = \"Braced Slab\" title = \"Braced Slab\"style=\"max-width:300px; max-height:300px; border:1px solid blue; float:left; margin-right:3px;\"/></a>\n",
      "    \n",
      "    (hover over image)\n",
      "    <a href=\"http://i.imgur.com/aTxezXX.png\" id=\"Top Down Slab\">\n",
      "        <img title=\"Top Down Slab (Bracing in the 60 ft direction)\" alt = \"Top Down Slab\"\n",
      "            src=\"http://i.imgur.com/EL2FYDQ.png\" \n",
      "            onmouseover=\"this.src='http://i.imgur.com/aTxezXX.png'\".\n",
      "            onmouseout=\"this.src='http://i.imgur.com/EL2FYDQ.png'\" \n",
      "            style=\"max-width:300px; max-height:300px; border:1px solid blue; \n",
      "                    float:right; margin-left:10px;\"/>\n",
      "    </a>\n",
      "    \n",
      "    Video:\n",
      "    <iframe width=\"420\" height=\"315\" src=\"http://www.youtube.com/embed/g43sFmgHOCk\" frameborder=\"0\" allowfullscreen style=\" float:left; margin-right:20px;\"></iframe>"
     ]
    },
    {
     "cell_type": "markdown",
     "metadata": {
      "slideshow": {
       "slide_type": "skip"
      }
     },
     "source": [
      "(hover over image)\n",
      "    <a href=\"http://i.imgur.com/aTxezXX.png\" id=\"Top Down Slab\">\n",
      "        <img title=\"Top Down Slab (Bracing in the 60 ft direction)\" alt = \"Top Down Slab\"\n",
      "            src=\"http://i.imgur.com/EL2FYDQ.png\" \n",
      "            onmouseover=\"this.src='http://i.imgur.com/aTxezXX.png'\".\n",
      "            onmouseout=\"this.src='http://i.imgur.com/EL2FYDQ.png'\" \n",
      "            style=\"max-width:300px; max-height:300px; border:1px solid blue; \n",
      "                    float:right; margin-left:10px;\"/>\n",
      "    </a>"
     ]
    }
   ],
   "metadata": {}
  }
 ]
}