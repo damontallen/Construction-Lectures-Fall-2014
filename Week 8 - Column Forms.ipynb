{
 "cells": [
  {
   "cell_type": "markdown",
   "metadata": {
    "slideshow": {
     "slide_type": "slide"
    }
   },
   "source": [
    "# Column Forms"
   ]
  },
  {
   "cell_type": "markdown",
   "metadata": {},
   "source": [
    "<iframe width=\"420\" height=\"315\" src=\"//www.youtube.com/embed/DpKgDHq0FTM\" frameborder=\"0\" allowfullscreen></iframe>"
   ]
  },
  {
   "cell_type": "markdown",
   "metadata": {
    "slideshow": {
     "slide_type": "slide"
    }
   },
   "source": [
    "## What are Column Forms"
   ]
  },
  {
   "cell_type": "markdown",
   "metadata": {},
   "source": [
    "<audio controls data-autoplay preload>\n",
    " <source src=\"https://github.com/damontallen/Construction-Lectures-Fall-2014/raw/master/Lecture%20Audio/Week%208/Column%20Forms/What%20are%20Column%20Forms.mp3\"\n",
    "         type='audio/mp3'>\n",
    " <p>Your user agent does not support the HTML5 Audio element or the files are missing.</p>\n",
    "</audio>"
   ]
  },
  {
   "cell_type": "markdown",
   "metadata": {},
   "source": [
    "Column forms start out similar to wall forms.  Both require you to calculate the concrete pressure, and you need to analyze the plywood to determine the support spacing.  You will even have to look at the support spacing for the studs, except that the studs are likely to be placed on the flat.  This change is not difficult to take into account you would just need to apply the $C_{fu}$ factor to the allowable bending stress, and use the properties in Table 1B that are for bending about the Y-Y Axis.\n",
    "\n",
    "<a href = \"http://www.westernsafety.com/ellismanufacturing/ellispg1.html\">\n",
    "<img src=\"https://github.com/damontallen/Construction-Lectures-Fall-2014/blob/master/Images/ellispg10-ColumnClamps4.jpg?raw=true\" alt = \"Column Form with Column Clamps\" title = \"Column Form with Column Clamps\" style=\"max-width:300px; max-height:300px; border:1px solid blue; float:right; margin-left:10px;\"/>\n",
    "</a>\n",
    "\n",
    "\n",
    "The real difference is what you do next.  Rather than use wales, you are likely going to use column clamps.  Before I go any further I will add this caveat that you do not have to use column clamps; you can use ties and wales just like in a wall form.  You can even make job built column clamps (or yokes) if you provide enough resistance to spreading in the corners.\n",
    "\n",
    "<a href = \"http://www.ellisok.net/scissor-type-column-form-clamps\">\n",
    "<img src=\"https://github.com/damontallen/Construction-Lectures-Fall-2014/blob/master/Images/Scissor%20Clamps%20image.jpg?raw=true\" alt = \"Another Example of Column Clamps\" title = \"Another Example of Column Clamps\"style=\"max-width:300px; max-height:300px; border:1px solid blue; float:left; margin-right:3px;\"/>\n",
    "</a>\n",
    "\n",
    "There are many [different versions](https://www.google.com/search?q=column+clamp+vs+yoke&client=ubuntu-browser&espv=2&es_sm=125&source=lnms&tbm=isch&sa=X&ei=hQw3U-SQKpXQsQSYkICYDw&ved=0CAkQ_AUoAg&biw=1280&bih=645#q=column+clamp&tbm=isch) of column clamps but for our example we will use [Masco Scissor Clamps](http://www.masco.net/productimages/concreteformingaccessories/columnforming/scissorclamp/scissor_clamp.jpg).  The important part of this is that we will be using the [Clamp Spacing Chart (pdf)](http://www.masco.net/pdf/catalogs/formingandaccessories/page83.pdf).  The way this spacing chart is used is on the left you read off the pressure in the form, and you read over to the size of the column form to detemine the clamp spacing at that point. ([www.masco.net](http://www.masco.net/))\n",
    "\n",
    "The way this chart, and others like it, are setup is that the concrete pressure is based on the hydrostatic pressure of liquid concrete at the depth indicated (distance from the top).  Even though the pressure equations, mentioned in the wall form presentation, are still valid, the column will more likely be filled at such a rate as the hydrostatic pressure will control anyway.  The result of all of this is that you can simply find your column size, and just read from the top down to get all the clamp spacings.  \n",
    "\n",
    "For instance, if your column form is 24\" by 24\", and 10' tall, then, starting from the top, you would have a clamp at 2\" down, then the next one is 28\" below that then, 24\", 20\", 18\", 12\", and 12\".  This last clamp ends up about 4\" above the base.  You will always want a clamp somewhere between 4\" to 6\" above the base, so if the column was 10'-6\" tall then an additional clamp would need to be added.  This reduces the load on the fasteners in the wooden base plate (or yoke) around the bottom."
   ]
  },
  {
   "cell_type": "markdown",
   "metadata": {},
   "source": [
    "<a></a>\n",
    "\n",
    "<a  href = \"http://www.ellisok.net/scissor-type-column-form-clamps\" style=\"float:left;\">Image [2] Source</a>\n",
    "\n",
    "<a  href = \"http://www.westernsafety.com/ellismanufacturing/ellispg1.html\" style=\"float:right;\">Image [1] Source</a>\n",
    "\n",
    "<p><br/></p>\n",
    "\n",
    "*(Continued on the next slide.)*"
   ]
  },
  {
   "cell_type": "markdown",
   "metadata": {
    "slideshow": {
     "slide_type": "slide"
    }
   },
   "source": [
    "<audio controls data-autoplay preload>\n",
    " <source src=\"https://github.com/damontallen/Construction-Lectures-Fall-2014/raw/master/Lecture%20Audio/Week%208/Column%20Forms/What%20are%20Column%20Forms%20continued.mp3\"\n",
    "         type='audio/mp3'>\n",
    " <p>Your user agent does not support the HTML5 Audio element or the files are missing.</p>\n",
    "</audio>"
   ]
  },
  {
   "cell_type": "markdown",
   "metadata": {
    "slideshow": {
     "slide_type": "-"
    }
   },
   "source": [
    "git guiThe column clamps are designed to resist the outward pressure of the column but they do have their limits.  Unlike with ties, the larger the column the greater the load on the clamp.  These clamps have to support every stud they cross.  The more studs they span the greater the load at the corners of the clamp.  Beyond a certain size, you will need to resort to ties, or [pencil rod (hover)](http://williamsform.com/Concrete_Forming_Hardware/Test_Area/Miscellaneous_Light_Concrete_Forming/form_clamp2.jpg) and [pencil rod clamps (hover)](http://williamsform.com/Concrete_Forming_Hardware/Test_Area/Miscellaneous_Light_Concrete_Forming/form_clamp1.jpg), in conjunction with wales to resist the spread of a form (aka a blowout).\n",
    "\n",
    "*([Pencil rod image source.](http://williamsform.com/Concrete_Forming_Hardware/Test_Area/Miscellaneous_Light_Concrete_Forming/miscellaneous_light_forming.html))*\n",
    "\n",
    "An additional concern is lift.  You need to make sure that the column form is attached to the footing or slab that it is being poured on.  With the pressure of a pour, and some vibration, it is possible that a column form will lift up off of its base.  It doesn't take much to hold a form down, but once it starts to go, more surface area becomes exposed to the upward pressure at the bottom of the form, and failure becomes inevitable.  The best thing to do to prevent it is to have a tight fit between the base  of the form and the slab, or footing.  Think of it like this, it is easy to stop a small leak, but it is hard to stop a large one.  The force required to stop either is,\n",
    "\n",
    "$F = pressure \\times area$\n",
    "\n",
    "The final thing you need to do is to make sure that the column clamp table works with your form.  The spacings of these clamps are based on specific material.  If you have weaker material than the column clamp table was designed form you will need to calculate the spacings for all the clamps.  The quick check is to determine the spacing for the bottom clamp.  If this spacing is greater than the chart spacing then you can just use the chart.\n",
    "\n",
    "Let's look at an example."
   ]
  },
  {
   "cell_type": "markdown",
   "metadata": {
    "slideshow": {
     "slide_type": "slide"
    }
   },
   "source": [
    "## Problem Statement"
   ]
  },
  {
   "cell_type": "markdown",
   "metadata": {
    "slideshow": {
     "slide_type": "-"
    }
   },
   "source": [
    "<audio controls data-autoplay preload>\n",
    " <source src=\"https://github.com/damontallen/Construction-Lectures-Fall-2014/raw/master/Lecture%20Audio/Week%208/Column%20Forms/Problem%20Statement.mp3\"\n",
    "         type='audio/mp3'>\n",
    " <p>Your user agent does not support the HTML5 Audio element or the files are missing.</p>\n",
    "</audio>"
   ]
  },
  {
   "cell_type": "markdown",
   "metadata": {
    "slideshow": {
     "slide_type": "-"
    }
   },
   "source": [
    "<a href = \"http://i.imgur.com/CGIuiLd.png\">\n",
    "<img src=\"http://i.imgur.com/CGIuiLd.png\" alt = \"Column Form Cross Section\" title = \"Column Form Cross Section\" style=\"max-width:300px; max-height:300px; border:1px solid blue; float:right; margin-left:10px;\"/>\n",
    "</a>\n",
    "\n",
    "The forms for a 20\" x 20\" square column will consist of 3/4\" thick Class I Plyform backed with vertical, No.2 Douglas Fir-Larch, 2x4, battens (another word for studs laid on the flat), as shown.  Normal weight (150 pcf) concrete will be used in the 10 ft high pour.  The Class I Plyform will be oriented in the in the strongest direction, i.e. the grain will run horizontally.  We will assume the column form will be reused multiple times.\n",
    "\n",
    "Determine:\n",
    "\n",
    "a) Is the batten spacing acceptable?\n",
    "\n",
    "b) What is the recommended clamp spacing?"
   ]
  },
  {
   "cell_type": "markdown",
   "metadata": {
    "slideshow": {
     "slide_type": "-"
    }
   },
   "source": [
    "To start with we need to find the maximum pressure on the column form.\n",
    "\n",
    "Concrete Pressure, $P = 150 pcf \\times h$\n",
    "\n",
    "$P = 150 pcf \\times 10 ft = 1500 psf$"
   ]
  },
  {
   "cell_type": "code",
   "execution_count": 1,
   "metadata": {
    "collapsed": false,
    "slideshow": {
     "slide_type": "skip"
    }
   },
   "outputs": [],
   "source": [
    "P = 1500"
   ]
  },
  {
   "cell_type": "markdown",
   "metadata": {
    "slideshow": {
     "slide_type": "slide"
    }
   },
   "source": [
    "## Familiar Equations"
   ]
  },
  {
   "cell_type": "markdown",
   "metadata": {},
   "source": [
    "<audio controls data-autoplay preload>\n",
    " <source src=\"https://github.com/damontallen/Construction-Lectures-Fall-2014/raw/master/Lecture%20Audio/Week%208/Column%20Forms/Familiar%20Equations.mp3\"\n",
    "         type='audio/mp3'>\n",
    " <p>Your user agent does not support the HTML5 Audio element or the files are missing.</p>\n",
    "</audio>"
   ]
  },
  {
   "cell_type": "markdown",
   "metadata": {},
   "source": [
    "For Bending, span, $L = 10.95 \\sqrt{\\frac{F_b' S}{w}}$\n",
    "\n",
    "For Rolling shear, span, $L = \\frac{20 \\times F_s'}{w}\\times \\frac{I b }{Q}$ (for sheathing like plywood only)\n",
    "\n",
    "For Shear, span, $L = 13.33 \\times \\frac{F_v' b d}{w} + 2 d$ (for dimensional lumber only)\n",
    "\n",
    "For deflection where $\\Delta = {}^L/_{360}$,  span, $L = 1.69 \\sqrt[3]{\\frac{E' I}{w}}$\n",
    "\n",
    "For deflection where $\\Delta = {}^1/_{16}\\text{\"}$,  span, $L = 3.23 \\sqrt[4]{\\frac{E' I}{w}}$\n",
    "\n",
    "Stress = Load/Area\n",
    "\n",
    "*(See the slide below for variable definitions.)*"
   ]
  },
  {
   "cell_type": "markdown",
   "metadata": {
    "slideshow": {
     "slide_type": "subslide"
    }
   },
   "source": [
    "In the span length equations:\n",
    "\n",
    "* $L$ is the spacing between supports, in units of $inches (in)$\n",
    "* $w$ is the uniformly distributed line load on the beam, in units of $plf$\n",
    "\n",
    "* $d$ is the width of the beam, in units of $in$\n",
    "* $A$ is the cross sectional area of the beam, in units of $in^2$ \n",
    "* $S$ is the section modulus of the beam, in units of $in^3$ (or $in^3/ft$ for plywood)\n",
    "* $I$ is the moment of inertia of the beam, in units of $in^4$ (or $in^4/ft$ for plywood)\n",
    "\n",
    "* $F_b'$ is the maximum allowable bending stress of the beam, in units of $psi$\n",
    "* $F_v'$ is the maximum allowable shear stress in the beam, in units of $psi$\n",
    "* $F_s'$ is the maximum allowable rolling shear stress in the panel, in units of $psi$\n",
    "* $E'$ is the adjusted Young's modulus of the beam's material, in units of $psi$\n",
    "* $Ib/Q$ is the rolling shear constant of the panel, in units of $in^2/ft$"
   ]
  },
  {
   "cell_type": "code",
   "execution_count": 2,
   "metadata": {
    "collapsed": false,
    "slideshow": {
     "slide_type": "skip"
    }
   },
   "outputs": [],
   "source": [
    "Wet = True\n",
    "lumber_grade = \"No.2 Douglas Fir-Larch\"\n",
    "Plywood = '3/4\" Plyform Class I'"
   ]
  },
  {
   "cell_type": "code",
   "execution_count": 3,
   "metadata": {
    "collapsed": false,
    "slideshow": {
     "slide_type": "skip"
    }
   },
   "outputs": [
    {
     "name": "stdout",
     "output_type": "stream",
     "text": [
      "3/4\" Plyform Class I\n"
     ]
    }
   ],
   "source": [
    "%run Older_Classes/Temp_struc.py\n",
    "ply = Plyform() #S-2 Grade 2 (Dry)\n",
    "ply.nom_thick='3/4'\n",
    "#grade = 'S-1-'\n",
    "#ply.Grade = grade + ('Wet' if Wet else 'Dry')\n",
    "#ply.Group = 1\n",
    "ply.C_D = 1.0\n",
    "print(Plywood)"
   ]
  },
  {
   "cell_type": "markdown",
   "metadata": {
    "slideshow": {
     "slide_type": "slide"
    }
   },
   "source": [
    "## Plywood Properties"
   ]
  },
  {
   "cell_type": "markdown",
   "metadata": {},
   "source": [
    "<audio controls data-autoplay preload>\n",
    " <source src=\"https://github.com/damontallen/Construction-Lectures-Fall-2014/raw/master/Lecture%20Audio/Week%208/Column%20Forms/Plywood%20Properties.mp3\"\n",
    "         type='audio/mp3'>\n",
    " <p>Your user agent does not support the HTML5 Audio element or the files are missing.</p>\n",
    "</audio>"
   ]
  },
  {
   "cell_type": "markdown",
   "metadata": {},
   "source": [
    "From Table 12 of [APA's Design/Construction Guide: Concrete Forming](http://www.apawood.org/SearchResults.aspx?q=v345&tid=1) we can find the section properties.  We can get the material properties from Table 13, but you need to be aware that this table has a $C_D$ of $1.25$ **already** applied.  To adjust for the fact that we will be reusing these forms multiple times ($C_D = 1.0$) we need to divide these stresses by $1.25$.  Additionally, since we are calculating our defections based on bending, we will use $E$ for the modulus of elasticity.  We don't need to worry about a wet service factor since it is already applied to all the values."
   ]
  },
  {
   "cell_type": "code",
   "execution_count": 4,
   "metadata": {
    "collapsed": false,
    "slideshow": {
     "slide_type": "skip"
    }
   },
   "outputs": [],
   "source": [
    "ply.I = 0.199\n",
    "ply.S = 0.455\n",
    "ply.Ib_Q = 7.187\n",
    "ply.F_b = 1930/1.25\n",
    "ply.E = 1650000 #not adjusted by C_D\n",
    "ply.F_s = 72/1.25"
   ]
  },
  {
   "cell_type": "code",
   "execution_count": 5,
   "metadata": {
    "collapsed": false
   },
   "outputs": [
    {
     "data": {
      "text/latex": [
       "$$\\text{From the Plywood Properties Tables:}$$ $$t_{nom} = 3/4\"$$ $$A = 2.884 (in^2/ft)$$ $$I = 0.199 (in^4/ft)$$ $$S = 0.455 (in^3/ft)$$ $$Ib/Q = 7.187 (in^2/ft)$$ $$F_b = 1544.0 psi$$ $$F_s = 57.600 psi$$ $$E = 1.650E+06 psi$$ $$C_D = 1.0$$ $$strong = True$$ "
      ],
      "text/plain": [
       "<IPython.core.display.Latex at 0x7fcf5810af28>"
      ]
     },
     "execution_count": 5,
     "metadata": {},
     "output_type": "execute_result"
    }
   ],
   "source": [
    "ply.show_props"
   ]
  },
  {
   "cell_type": "code",
   "execution_count": 6,
   "metadata": {
    "collapsed": false,
    "slideshow": {
     "slide_type": "skip"
    }
   },
   "outputs": [],
   "source": [
    "w = P\n",
    "#w = 730\n",
    "stud_spacing = board_test(ply,w,plywood=True, column=True)"
   ]
  },
  {
   "cell_type": "markdown",
   "metadata": {
    "slideshow": {
     "slide_type": "slide"
    }
   },
   "source": [
    "## Plyform Span Limits"
   ]
  },
  {
   "cell_type": "markdown",
   "metadata": {},
   "source": [
    "<audio controls data-autoplay preload>\n",
    " <source src=\"https://github.com/damontallen/Construction-Lectures-Fall-2014/raw/master/Lecture%20Audio/Week%208/Column%20Forms/Plyform%20Span%20Limits.mp3\"\n",
    "         type='audio/mp3'>\n",
    " <p>Your user agent does not support the HTML5 Audio element or the files are missing.</p>\n",
    "</audio>"
   ]
  },
  {
   "cell_type": "markdown",
   "metadata": {},
   "source": [
    "We can now determine the span limits for the Plyform."
   ]
  },
  {
   "cell_type": "code",
   "execution_count": 7,
   "metadata": {
    "collapsed": false
   },
   "outputs": [
    {
     "data": {
      "text/latex": [
       "$$\\text{For a pressure of }1500 psf \\text{ the line load equals }  1500 plf $$ \n",
       "${}$\n",
       " $$L = 10.95 \\sqrt{\\frac{F_b' S}{w}} = 10.95 \\sqrt{\\frac{1544 psi  \\times 0.455 in^3 }{ 1500 plf }} =7.49\" \\text{ (due to bending)}$$ \n",
       "${}$\n",
       " $$L = \\frac{20 \\times F_s'}{w}\\times \\frac{I b }{Q} =\\frac{20 \\times 58 psi }{ 1500 plf }\\times  7.187 in^2  = 5.52\" \\text{ (due to rolling shear)}$$ \n",
       "${}$\n",
       " $$L = 1.69 \\sqrt[3]{\\frac{E' I}{w}} =1.69 \\sqrt[3]{\\frac{1.65E+06 psi  \\times  0.199 in^4 }{ 1500 plf }} =10.19\" \\text{ (for }\\Delta = L/360 \\text{)}$$ \n",
       "${}$\n",
       " $$L = 3.23 \\sqrt[4]{\\frac{E' I}{w}} =3.23 \\sqrt[4]{\\frac{1.65E+06 psi  \\times  0.199 in^4 }{ 1500 plf }} =12.42\" \\text{ (for }\\Delta = 1/16\" \\text{)}$$ \n",
       "${}$\n",
       " $$\\text{The maximum clear span between supports is 5.52\".}$$"
      ],
      "text/plain": [
       "<IPython.core.display.Latex at 0x7fcf3d888128>"
      ]
     },
     "execution_count": 7,
     "metadata": {},
     "output_type": "execute_result"
    }
   ],
   "source": [
    "stud_spacing['work']"
   ]
  },
  {
   "cell_type": "markdown",
   "metadata": {},
   "source": [
    "In the wall form presentation the span limits were measured from center to center spacing.  This is because the studs were on edge, and the clear span between the studs was relatively large, in comparison to half the stud width $(\\frac{3}{4}\")$.  In this case the studs are on the flat and the clear span $5.5\"$ is on the same order of magnitude as the width of the stud $3.5\"$.  That is why we only need to use the clear span measurement.  \n",
    "\n",
    "Our clear span of $5.5\" < 5.52\"$ so we the spacing is good."
   ]
  },
  {
   "cell_type": "markdown",
   "metadata": {
    "slideshow": {
     "slide_type": "slide"
    }
   },
   "source": [
    "## Loads and Allowable Stresses"
   ]
  },
  {
   "cell_type": "markdown",
   "metadata": {},
   "source": [
    "<audio controls data-autoplay preload>\n",
    " <source src=\"https://github.com/damontallen/Construction-Lectures-Fall-2014/raw/master/Lecture%20Audio/Week%208/Column%20Forms/Loads%20and%20Allowable%20Stresses.mp3\"\n",
    "         type='audio/mp3'>\n",
    " <p>Your user agent does not support the HTML5 Audio element or the files are missing.</p>\n",
    "</audio>"
   ]
  },
  {
   "cell_type": "markdown",
   "metadata": {},
   "source": [
    "We now need to calculate the line load to determine the clamp spacings."
   ]
  },
  {
   "cell_type": "code",
   "execution_count": 8,
   "metadata": {
    "collapsed": false,
    "slideshow": {
     "slide_type": "skip"
    }
   },
   "outputs": [],
   "source": [
    "w_ = line_load(P, (5.5+3.5)/12) #MANUALLY ENTERED THE STUD SPACING OF 5.5\"\n",
    "w=w_['value']"
   ]
  },
  {
   "cell_type": "code",
   "execution_count": 9,
   "metadata": {
    "collapsed": false
   },
   "outputs": [
    {
     "data": {
      "text/latex": [
       "$$\\text{Line load} = w = \\text{pressure}\\times\\text{tributary width}$$ $$w = P \\times s = 1500 psf \\times 9.0\" \\times \\frac{1 ft}{12 in}$$$$w = 1125.00 plf$$"
      ],
      "text/plain": [
       "<IPython.core.display.Latex at 0x7fcf3d888240>"
      ]
     },
     "execution_count": 9,
     "metadata": {},
     "output_type": "execute_result"
    }
   ],
   "source": [
    "w_['work']"
   ]
  },
  {
   "cell_type": "code",
   "execution_count": 10,
   "metadata": {
    "collapsed": false,
    "slideshow": {
     "slide_type": "skip"
    }
   },
   "outputs": [
    {
     "name": "stdout",
     "output_type": "stream",
     "text": [
      "E = 1.600E+06 psi\n"
     ]
    }
   ],
   "source": [
    "stud=two_by_four() \n",
    "stud.F_b = 900 #psi\n",
    "stud.F_v = 180 #psi\n",
    "stud.F_c_p = 625 #psi\n",
    "stud.E = 1600000 #psi\n",
    "stud.d, stud.b = stud.b, stud.d #lay it on the flat\n",
    "stud.C_D = 1.0\n",
    "stud.C_F = 1.5\n",
    "stud.C_fu = 1.1\n",
    "stud.C_M.wet=Wet\n",
    "stud.spacing = stud_spacing['value'] #for C_r\n",
    "stud.connected = True #for C_r\n",
    "clamp_spacing = board_test(stud,w, wale=True, column=True)\n",
    "print(\"E = {:.3E} psi\".format(stud.E))"
   ]
  },
  {
   "cell_type": "markdown",
   "metadata": {},
   "source": [
    "After looking in Table 4A in the Supplement and Table 4.3.1 in the Timber NDS we can calculate the allowable stresses."
   ]
  },
  {
   "cell_type": "code",
   "execution_count": 11,
   "metadata": {
    "collapsed": false
   },
   "outputs": [
    {
     "data": {
      "text/latex": [
       "$$F_b'=F_b \\times C_D \\times C_F \\times C_M \\times C_{fu} \\times C_r$$ $$F_b'=900 psi\\times 1 \\times 1.5 \\times 0.85 \\times 1.1 \\times 1.15 $$ $$F_b' = 1451.59 psi$$ \n",
       "${}$\n",
       " $$F_v'=F_v \\times C_D \\times C_M $$ $$F_v'=180 psi \\times 1 \\times 0.97 $$ $$F_v' = 174.60 psi$$ \n",
       "${}$\n",
       " $$F_{c,\\perp}'=F_{c,\\perp} \\times C_M $$ $$F_{c,\\perp}'=625 psi\\times 0.67 $$ $$F_{c,\\perp}' = 418.75 psi$$ \n",
       "${}$\n",
       " $$E'=E \\times C_M $$ $$E'=1.6e+06 psi\\times 0.9 $$ $$E' = 1.44E+06 psi$$ \n",
       "${}$\n",
       " "
      ],
      "text/plain": [
       "<IPython.core.display.Latex at 0x7fcf3daf7e48>"
      ]
     },
     "execution_count": 11,
     "metadata": {},
     "output_type": "execute_result"
    }
   ],
   "source": [
    "stud.reveal()['work']"
   ]
  },
  {
   "cell_type": "markdown",
   "metadata": {
    "slideshow": {
     "slide_type": "slide"
    }
   },
   "source": [
    "## Clamp Spacings"
   ]
  },
  {
   "cell_type": "markdown",
   "metadata": {},
   "source": [
    "<audio controls data-autoplay preload>\n",
    " <source src=\"https://github.com/damontallen/Construction-Lectures-Fall-2014/raw/master/Lecture%20Audio/Week%208/Column%20Forms/Clamp%20Spacings.mp3\"\n",
    "         type='audio/mp3'>\n",
    " <p>Your user agent does not support the HTML5 Audio element or the files are missing.</p>\n",
    "</audio>"
   ]
  },
  {
   "cell_type": "markdown",
   "metadata": {},
   "source": [
    "After getting the Y-Y section properties for the studs in Table 4B, we can calculate the span limits for the bottom clamp spacing."
   ]
  },
  {
   "cell_type": "code",
   "execution_count": 12,
   "metadata": {
    "collapsed": false
   },
   "outputs": [
    {
     "data": {
      "text/latex": [
       "$$\\text{For a line load of }w =  1125 plf $$ \n",
       "${}$\n",
       " $$L = 10.95 \\sqrt{\\frac{F_b' S}{w}} = 10.95 \\sqrt{\\frac{1452 psi  \\times 1.312 in^3 }{ 1125 plf }} =14.25\" \\text{ (due to bending)}$$ \n",
       "${}$\n",
       " $$L = 13.33 \\times \\frac{F_v' b d}{w} + 2 d = 13.33 \\times \\frac{175 psi \\times 3.50\" \\times 1.50\" }{ 1125 plf } + 2 \\times 1.50\"  = 13.86\"  \\text{ (due to shear)} $$ \n",
       "${}$\n",
       " $$L = 1.69 \\sqrt[3]{\\frac{E' I}{w}} =1.69 \\sqrt[3]{\\frac{1.44E+06 psi  \\times  0.984 in^4 }{ 1125 plf }} =18.25\" \\text{ (for }\\Delta = L/360 \\text{)}$$ \n",
       "${}$\n",
       " $$L = 3.23 \\sqrt[4]{\\frac{E' I}{w}} =3.23 \\sqrt[4]{\\frac{1.44E+06 psi  \\times  0.984 in^4 }{ 1125 plf }} =19.24\" \\text{ (for }\\Delta = 1/16\" \\text{)}$$ \n",
       "${}$\n",
       " $$\\text{The maximum spacing between clamps is 13.86\".}$$"
      ],
      "text/plain": [
       "<IPython.core.display.Latex at 0x7fcf3d88b198>"
      ]
     },
     "execution_count": 12,
     "metadata": {},
     "output_type": "execute_result"
    }
   ],
   "source": [
    "clamp_spacing['work']"
   ]
  },
  {
   "cell_type": "markdown",
   "metadata": {},
   "source": [
    "At $10'$ ($1500 psf$) in our clamp spacing chart, for $24\"$ column, we have a spacing limit of no more than $12\"$ required for our column clamps.  Because the chart has a smaller spacing, we can simply use the spacings indicated, and we will be conservative with our stud supports.\n",
    "\n",
    "From top down:\n",
    "\n",
    "$\\text{Clamp Spacings} = 2\", 28\", 24\", 20\", 18\", 12\", 12\"$"
   ]
  },
  {
   "cell_type": "markdown",
   "metadata": {
    "slideshow": {
     "slide_type": "slide"
    }
   },
   "source": [
    "### Wooden Yokes"
   ]
  },
  {
   "cell_type": "markdown",
   "metadata": {},
   "source": [
    "<audio controls data-autoplay preload>\n",
    " <source src=\"https://github.com/damontallen/Construction-Lectures-Fall-2014/raw/master/Lecture%20Audio/Week%208/Column%20Forms/Wooden%20Yokes.mp3\"\n",
    "         type='audio/mp3'>\n",
    " <p>Your user agent does not support the HTML5 Audio element or the files are missing.</p>\n",
    "</audio>"
   ]
  },
  {
   "cell_type": "markdown",
   "metadata": {},
   "source": [
    "If we were using wooden yokes, we would need to determine the load on the corner fasteners of the yoke based on our $13.86\"$ spacing.  This load is approximately:\n",
    "\n",
    "$F = \\text{Pressure} \\times \\text{Tributary Area} \\times \\sqrt{2}$\n",
    "\n",
    "The $\\sqrt{2}$ is because the load is coming from two sides of the form.\n",
    "\n",
    "$\\text{Tributary Area} = \\frac{1}{2} \\text{Concrete Width}\\times\\text{Clamp Spacing}$  so,\n",
    "\n",
    "$F = 1500 psf \\times \\frac{20\"}{2} \\times \\frac{1 ft}{12 in}\\times 13.86\"\\times \\frac{1 ft}{12 in} \\times \\sqrt{2}$\n",
    "\n",
    "$F = 2042 lbs$\n",
    "\n",
    "That is too high for a nailed connection so we would need to bolt it.  Additionally, we would need to determine if 2x4 yokes are even strong enough to carry the line load of $w = 1500 psf \\times 13.86\" \\times \\frac{1 ft}{12 in} = 1733 plf$ over the span of $24.5\"$.   We can see that it probably would not be adequate, since our maximum stud support spacing, on the flat, is $13.86\"$.  We would either need to reduce our yoke spacing or use larger material.  \n",
    "\n",
    "Additionally this is just for the bottom yoke.  We would need to recalculate everything for every yoke above that one.  You can see why column clamps are so popular."
   ]
  },
  {
   "cell_type": "markdown",
   "metadata": {
    "slideshow": {
     "slide_type": "slide"
    }
   },
   "source": [
    "## References:"
   ]
  },
  {
   "cell_type": "markdown",
   "metadata": {},
   "source": [
    "[Class website](https://ufl.instructure.com/courses/) *(Use this link to if you are taking the course on e-learning.)*\n",
    "\n",
    "[Github.io version of course website](http://damontallen.github.io/Construction-Lectures-Fall-2014/) *(Do not use this link if you are taking this course in Summer A or B.)*\n",
    "\n",
    "[IPython.org](http://ipython.org/) *(IPython is the opensource software used in the development of much of this course.)*\n",
    "\n",
    "[Complete Software List](http://nbviewer.ipython.org/github/damontallen/Construction-Lectures-Fall-2014/blob/master/Resources.ipynb)"
   ]
  },
  {
   "cell_type": "code",
   "execution_count": 13,
   "metadata": {
    "collapsed": false,
    "slideshow": {
     "slide_type": "skip"
    }
   },
   "outputs": [
    {
     "data": {
      "text/latex": [
       "$$\\text{For a line load of }w =  1125 plf $$ \n",
       "${}$\n",
       " $$L = 10.95 \\sqrt{\\frac{F_b' S}{w}} = 10.95 \\sqrt{\\frac{1148 psi  \\times 3.062 in^3 }{ 1125 plf }} =19.35\" \\text{ (due to bending)}$$ \n",
       "${}$\n",
       " $$L = 13.33 \\times \\frac{F_v' b d}{w} + 2 d = 13.33 \\times \\frac{175 psi \\times 1.50\" \\times 3.50\" }{ 1125 plf } + 2 \\times 3.50\"  = 17.86\"  \\text{ (due to shear)} $$ \n",
       "${}$\n",
       " $$L = 1.69 \\sqrt[3]{\\frac{E' I}{w}} =1.69 \\sqrt[3]{\\frac{1.44E+06 psi  \\times  5.359 in^4 }{ 1125 plf }} =32.11\" \\text{ (for }\\Delta = L/360 \\text{)}$$ \n",
       "${}$\n",
       " $$L = 3.23 \\sqrt[4]{\\frac{E' I}{w}} =3.23 \\sqrt[4]{\\frac{1.44E+06 psi  \\times  5.359 in^4 }{ 1125 plf }} =29.40\" \\text{ (for }\\Delta = 1/16\" \\text{)}$$ \n",
       "${}$\n",
       " $$\\text{The maximum spacing between clamps is 17.86\".}$$"
      ],
      "text/plain": [
       "<IPython.core.display.Latex at 0x7fcf3d888cf8>"
      ]
     },
     "execution_count": 13,
     "metadata": {},
     "output_type": "execute_result"
    }
   ],
   "source": [
    "yoke=two_by_four() \n",
    "yoke.F_b = 900 #psi\n",
    "yoke.F_v = 180 #psi\n",
    "yoke.F_c_p = 625 #psi\n",
    "yoke.E = 1600000 #psi\n",
    "yoke.C_D = 1.0\n",
    "yoke.C_F = 1.5\n",
    "yoke.C_fu = 1.0\n",
    "yoke.C_M.wet=Wet\n",
    "yoke_spacing = board_test(yoke,w, wale=True, column=True)\n",
    "yoke_spacing['work']"
   ]
  }
 ],
 "metadata": {
  "celltoolbar": "Slideshow",
  "kernelspec": {
   "display_name": "Python 2",
   "language": "python",
   "name": "python2"
  },
  "language_info": {
   "codemirror_mode": {
    "name": "ipython",
    "version": 2
   },
   "file_extension": ".py",
   "mimetype": "text/x-python",
   "name": "python",
   "nbconvert_exporter": "python",
   "pygments_lexer": "ipython2",
   "version": "2.7.10"
  }
 },
 "nbformat": 4,
 "nbformat_minor": 0
}
