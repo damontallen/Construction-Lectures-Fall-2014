{
 "cells": [
  {
   "cell_type": "code",
   "execution_count": 1,
   "metadata": {
    "collapsed": true
   },
   "outputs": [],
   "source": [
    "import os\n",
    "import re\n"
   ]
  },
  {
   "cell_type": "code",
   "execution_count": 4,
   "metadata": {
    "collapsed": false
   },
   "outputs": [
    {
     "name": "stdout",
     "output_type": "stream",
     "text": [
      "0 - TIPS FOR CLEAN AUDIO RECORDING.txt\r\n",
      "backup\r\n",
      "beams\r\n",
      "Converter.py\r\n",
      "Excess fragment remover.ipynb\r\n",
      "Images\r\n",
      "index.html~\r\n",
      "Intro\r\n",
      "Lecture Audio\r\n",
      "Link_checker.py\r\n",
      "MarkedChanges.txt\r\n",
      "MarkedChanges.txt~\r\n",
      "my_html.tpl~\r\n",
      "Nails\r\n",
      "Nail+Shear+Extrapolation.html\r\n",
      "Nail Shear Extrapolation.ipynb\r\n",
      "nblinkcheck\r\n",
      "Old Beams\r\n",
      "Older_Classes\r\n",
      "OSHA_Tables\r\n",
      "README.md\r\n",
      "README.md~\r\n",
      "Resources.ipynb\r\n",
      "Rubrics and Excel Help.ipynb\r\n",
      "Search_n_Replace.py\r\n",
      "Search_n_Replace.py~\r\n",
      "_skip.ipynb\r\n",
      "Slide Converter.ipynb\r\n",
      "Timber_beam_v_02.1.log\r\n",
      "TODO.txt\r\n",
      "TODO.txt~\r\n",
      "Untitled.ipynb\r\n",
      "Untitled.slides.html\r\n",
      "Warnings.txt\r\n",
      "Week 0 - Greetings.ipynb\r\n",
      "Week 0 - Greetings - Web only.ipynb\r\n",
      "Week 10 - Reshoring.ipynb\r\n",
      "Week 10 - Reshoring.tex\r\n",
      "Week 11 - Scaffolding.ipynb\r\n",
      "Week 12 - Excavation.ipynb\r\n",
      "Week 13 - Equipment.ipynb\r\n",
      "Week 1 - Class Introduction.ipynb\r\n",
      "Week 1 - Class Introduction - Web only.ipynb\r\n",
      "Week 1 - How to Complete Team and Individual Assignments.ipynb\r\n",
      "Week 2 - Introduction to Timber NDS.ipynb\r\n",
      "Week 2 - Introduction to Wood as a Building Material.ipynb\r\n",
      "Week 2 - Tributary Width vs Tributary Area.ipynb\r\n",
      "Week 3 - Timber Beam Lecture.ipynb\r\n",
      "Week 4 - Euler Buckling.ipynb\r\n",
      "Week 4 - Timber Column Lecture.ipynb\r\n",
      "Week 5 - Braced Wall (Part - 1 Compression Bracing).ipynb\r\n",
      "Week 5 - Braced Wall (Part - 1 Compression Bracing).pdf\r\n",
      "Week 5 - Braced Wall (Part - 1 Compression Bracing).tex\r\n",
      "Week 5 - Braced Wall (Part - 2 Tension Bracing with Fasteners) .ipynb\r\n",
      "Week 5 - Braced Wall (Part - 2 Tension Bracing with Fasteners) .pdf\r\n",
      "Week 5 - Braced Wall (Part - 2 Tension Bracing with Fasteners) .tex\r\n",
      "Week 5 - Bracing Stiffness Requirements.ipynb\r\n",
      "Week 5 - Slab Braces.ipynb\r\n",
      "Week 6 - Importance of Formwork Safety.ipynb\r\n",
      "Week 6 - Importance of Formwork Safety - Web only.ipynb\r\n",
      "Week 6 - Span Length Derivations.ipynb\r\n",
      "Week 6 - Span Length Derivations.pdf\r\n",
      "Week 6 - Span Length Derivations.tex\r\n",
      "Week 6 - Types of Concrete Form Work.ipynb\r\n",
      "Week 6 - Types of Concrete Form Work.pdf\r\n",
      "Week 6 - Types of Concrete Form Work.tex\r\n",
      "Week 7 - Wall Form Lab Supplement.html\r\n",
      "Week 7 - Wall Form Lab Supplement.ipynb\r\n",
      "Week 7 - Wall Forms.ipynb\r\n",
      "Week 7 - Wall Forms - Using Tables.ipynb\r\n",
      "Week 8 - Column Forms.ipynb\r\n",
      "Week 9 - Slab Forms.ipynb\r\n",
      "Week 9 - Slab Forms - Using Tables.ipynb\r\n",
      "Wood\r\n",
      "Wood_old\r\n"
     ]
    }
   ],
   "source": [
    "!ls"
   ]
  },
  {
   "cell_type": "code",
   "execution_count": 14,
   "metadata": {
    "collapsed": false
   },
   "outputs": [],
   "source": [
    "run = re.compile(r'%run\\s+Beams/')\n",
    "fro = re.compile(r'(from\\s+Beams)(?:.+import)')\n",
    "for path, folder, files in os.walk('.'):\n",
    "    if './.' in path or 'Lecture' in path or '__' in path or 'backup' in path:\n",
    "        continue\n",
    "    for file in files:\n",
    "        if \"skip\" in file:\n",
    "            continue\n",
    "        if not '.py' in file[-3:] and not '.ipynb' in file[-6:]:\n",
    "            continue\n",
    "        file_path = os.path.join(path,file)\n",
    "        changed = False\n",
    "        with open(file_path,'r') as f:\n",
    "            txt = f.read()\n",
    "        t_out = []\n",
    "        for line in txt.splitlines():\n",
    "            m = run.findall(line)\n",
    "            if len(m)>0:\n",
    "                print(f\"{m[0]} found in {file}\")\n",
    "                changed = True\n",
    "                line = line.replace(m[0],\"%run beams/\")\n",
    "            m = fro.findall(line)\n",
    "            if len(m)>0:\n",
    "                print(f\"from found in {file}\")\n",
    "            t_out.append(line)\n",
    "        if changed:\n",
    "            with open(file_path,'w') as f:\n",
    "                f.write('\\n'.join(t_out))"
   ]
  }
 ],
 "metadata": {
  "anaconda-cloud": {},
  "hide_input": false,
  "kernelspec": {
   "display_name": "Python 3",
   "language": "python",
   "name": "python3"
  },
  "language_info": {
   "codemirror_mode": {
    "name": "ipython",
    "version": 3
   },
   "file_extension": ".py",
   "mimetype": "text/x-python",
   "name": "python",
   "nbconvert_exporter": "python",
   "pygments_lexer": "ipython3",
   "version": "3.6.0"
  },
  "toc": {
   "toc_cell": false,
   "toc_number_sections": true,
   "toc_threshold": 6,
   "toc_window_display": false
  }
 },
 "nbformat": 4,
 "nbformat_minor": 1
}
