{
 "metadata": {
  "celltoolbar": "Slideshow",
  "name": "",
  "signature": "sha256:dc6da7327ac33fc94058f3af615951503fa11f0b8ddaa7bf4d2aa9a4d21dbb79"
 },
 "nbformat": 3,
 "nbformat_minor": 0,
 "worksheets": [
  {
   "cells": [
    {
     "cell_type": "heading",
     "level": 1,
     "metadata": {
      "slideshow": {
       "slide_type": "slide"
      }
     },
     "source": [
      "Wall Forms"
     ]
    },
    {
     "cell_type": "markdown",
     "metadata": {
      "slideshow": {
       "slide_type": "-"
      }
     },
     "source": [
      "<iframe width=\"420\" height=\"315\" src=\"//www.youtube.com/embed/KTeRyUQoTMQ\" frameborder=\"0\" allowfullscreen></iframe>"
     ]
    },
    {
     "cell_type": "heading",
     "level": 2,
     "metadata": {
      "slideshow": {
       "slide_type": "slide"
      }
     },
     "source": [
      "Concrete Pressure"
     ]
    },
    {
     "cell_type": "markdown",
     "metadata": {
      "slideshow": {
       "slide_type": "-"
      }
     },
     "source": [
      "<audio controls data-autoplay preload>\n",
      " <source src=\"https://github.com/damontallen/Construction-Lectures-Fall-2014/raw/master/Lecture%20Audio/Week%207/Wall%20Form%20Design/Concrete%20Pressure.mp3\"\n",
      "         type='audio/mp3'>\n",
      " <p>Your user agent does not support the HTML5 Audio element or the files are missing.</p>\n",
      "</audio>"
     ]
    },
    {
     "cell_type": "markdown",
     "metadata": {
      "slideshow": {
       "slide_type": "-"
      }
     },
     "source": [
      "By this point in your education you should be aware that concrete does not dry, but rather it cures.  This curing occurs at a specific rate based on the chemistry of the concrete, and the temperature at which it is cast.  Because, concrete starts as a liquid but then cures over time, it is possible that if you pour for long enough, or slow enough, then at some time, the first concrete you poured will have solidified.  This has an effect on the amount of force necessary to contain the concrete in the form work.  Specifically ACI has put out empirical equations, for wall forms, that are allowed to be used to find this lower pressure.\n",
      "\n",
      "The maximum pressure in a form is just hydrostatic pressure.  Normal weight concrete is 150 pcf in both solid and liquid states.  So the maximum pressure on a concrete form, containing normal weight concrete, is just,\n",
      "\n",
      "$P = 150 pcf \\times h$\n",
      "\n",
      "but this can be modified by the chemistry or the density of the concrete so the full equation is,\n",
      "\n",
      "$P = C_W \\times C_C \\times 150 pcf \\times h$\n",
      "\n",
      "Where:\n",
      "\n",
      "* $C_W$ is the unit weight coefficient (Table 10 of [APA's Design/Construction Guide: Concrete Forming](http://www.apawood.org/pdfs/download_pdf.cfm?PDFFilename=managed/V345.pdf))\n",
      "* $C_C$ is the chemistry coefficient (Table 11 of [APA's Design/Construction Guide: Concrete Forming](http://www.apawood.org/pdfs/download_pdf.cfm?PDFFilename=managed/V345.pdf))\n",
      "* $150 pcf$ is the unit weight of the normal weight concrete.\n",
      "* $h$ is the height of the pour.\n",
      "\n",
      "(Note that the [Design/Construction Guide: Concrete Forming](http://www.apawood.org/pdfs/download_pdf.cfm?PDFFilename=managed/V345.pdf) is a free pdf download, but you *are* required to sign up for a free membership to the American Plywood Association.)\n",
      "\n",
      "*(Continued on the next slide.)*"
     ]
    },
    {
     "cell_type": "markdown",
     "metadata": {
      "slideshow": {
       "slide_type": "slide"
      }
     },
     "source": [
      "<audio controls data-autoplay preload>\n",
      " <source src=\"https://github.com/damontallen/Construction-Lectures-Fall-2014/raw/master/Lecture%20Audio/Week%207/Wall%20Form%20Design/Concrete%20Pressure%20continued.mp3\"\n",
      "         type='audio/mp3'>\n",
      " <p>Your user agent does not support the HTML5 Audio element or the files are missing.</p>\n",
      "</audio>"
     ]
    },
    {
     "cell_type": "markdown",
     "metadata": {
      "slideshow": {
       "slide_type": "-"
      }
     },
     "source": [
      "To account for the effect of curing, ACI replaces the, relatively fixed, height term, with terms that affect the rate of change in the concrete pressure.  Specifically, they replace $h$ with functions based on temperature, and pour rate.\n",
      "\n",
      "For pour rates of less than $7 \\frac{ft}{hr}$, \n",
      "\n",
      "$P = C_W \\times C_C \\times \\left(150 +\\frac{9000 \\times R}{T}\\right)$\n",
      "\n",
      "Where:\n",
      "\n",
      "* R is the pour rate in $\\frac{ft}{hr}$\n",
      "* T is the ambient temperature in $^oF$\n",
      "\n",
      "For pour rates in the range of $ 7 \\frac{ft}{hr}< R \\le 10 \\frac{ft}{hr}$\n",
      "\n",
      "$P = C_W \\times C_C \\times \\left(150 +\\frac{43,400}{T} +\\frac{2800 \\times R}{T}\\right)$\n",
      "\n",
      "and for pour rates $R> 10 \\frac{ft}{hr}$\n",
      "\n",
      "$ P = C_W \\times C_C \\times \\left(150 pcf \\times h\\right) \\text{ (Maximum Pressure)}$\n",
      "\n",
      "This last equation is just the hydrostatic pressure again.  I've listed it again because it is not physically possible to have a pressure due to pouring concrete that is greater than the hydrostatic pressure.  That being said, you will alway need to calculate the hydrostatic pressure, and verify that the allowed concrete pressure is not greater.  If it is, you will just use the hydrostatic pressure.\n",
      "\n",
      "Additionally, you should note that through out the rest of the course I will be assuming that we are using normal weight concrete ($C_W = 1.0$), and Types I, II, or III concrete, without retarders ($C_C = 1.0$).  As such, these equations will mostly be written without the $C_W$ or $C_C$ multipliers out front.  That should not be taken as an indication that these are correct for all cases, but just for the conditions that I've just outlined."
     ]
    },
    {
     "cell_type": "heading",
     "level": 1,
     "metadata": {
      "slideshow": {
       "slide_type": "slide"
      }
     },
     "source": [
      "Wall Form"
     ]
    },
    {
     "cell_type": "markdown",
     "metadata": {
      "slideshow": {
       "slide_type": "-"
      }
     },
     "source": [
      "<audio controls data-autoplay preload>\n",
      " <source src=\"https://github.com/damontallen/Construction-Lectures-Fall-2014/raw/master/Lecture%20Audio/Week%207/Wall%20Form%20Design/Wall%20Form.mp3\"\n",
      "         type='audio/mp3'>\n",
      " <p>Your user agent does not support the HTML5 Audio element or the files are missing.</p>\n",
      "</audio>"
     ]
    },
    {
     "cell_type": "markdown",
     "metadata": {
      "slideshow": {
       "slide_type": "-"
      }
     },
     "source": [
      "<a href = \"http://i.imgur.com/HTuUtPz.png\"><img src=\"http://i.imgur.com/HTuUtPz.png\" alt = \"Wall Form Image (without braces or ties)\"style=\"max-width:300px; max-height:300px; border:1px solid blue; float:right; margin-left:10px;\"/></a>\n",
      "\n",
      "A typically wall form begins with a sheathing material, usually plywood or plyform, which is used to contain, and shape the liquid concrete.  This sheathing is supported by studs which, in turn, are supported by wales.  The wales are commonly made from the same lumber as the studs, but just arranged in a doubled up configuration.  The wales are supported by ties, and ties typically consist of a deformed metal rod that passes through, and remains in, the concrete.  I've shown a couple examples of ties below, but many [other versions are available](https://www.google.com/search?q=concrete+wall+form+ties&client=ubuntu&channel=fs&tbm=isch&tbo=u&source=univ&sa=X&ei=m6k1U6q9DKmw2gXJ1oGADA&ved=0CDEQsAQ&biw=1280&bih=665).\n",
      "\n",
      "<a></a>\n",
      "<a href = \"http://www.sweethaven02.com/BldgConst/Bldg02/fig0611.jpg\"><img src=\"http://www.sweethaven02.com/BldgConst/Bldg02/fig0611.jpg\" alt = \"Snap Tie\" Title = \"Snap Tie\"style=\"max-width:300px; max-height:300px; border:1px solid blue; float:left; margin-right:3px;\"/></a>\n",
      "\n",
      "<a href = \"http://www.sweethaven02.com/BldgConst/Bldg02/fig0612.jpg\"><img src=\"http://www.sweethaven02.com/BldgConst/Bldg02/fig0612.jpg\" alt = \"Wall Form Image (without braces or ties)\"style=\"max-width:300px; max-height:300px; border:1px solid blue; float:left; margin-left:3px;\"/></a>"
     ]
    },
    {
     "cell_type": "markdown",
     "metadata": {
      "slideshow": {
       "slide_type": "-"
      }
     },
     "source": [
      "\n",
      "[(*Tie image source*)](http://free-ed.net/free-ed/Resources/Trades/carpentry/Building01/?iNum=0601)\n",
      "\n",
      "Perhaps a better image of wall forms can be seen in Figure 1 of [APA's Design/Construction Guide: Concrete Forming](http://www.apawood.org/pdfs/download_pdf.cfm?PDFFilename=managed/V345.pdf) (page 18).  This shows a cutaway along with a pressure profile.\n"
     ]
    },
    {
     "cell_type": "heading",
     "level": 2,
     "metadata": {
      "slideshow": {
       "slide_type": "slide"
      }
     },
     "source": [
      "Plywood and Plyform Specifications"
     ]
    },
    {
     "cell_type": "markdown",
     "metadata": {
      "slideshow": {
       "slide_type": "-"
      }
     },
     "source": [
      "<audio controls data-autoplay preload>\n",
      " <source src=\"https://github.com/damontallen/Construction-Lectures-Fall-2014/raw/master/Lecture%20Audio/Week%207/Wall%20Form%20Design/Plywood%20and%20Plyform%20Specifications.mp3\"\n",
      "         type='audio/mp3'>\n",
      " <p>Your user agent does not support the HTML5 Audio element or the files are missing.</p>\n",
      "</audio>"
     ]
    },
    {
     "cell_type": "markdown",
     "metadata": {
      "slideshow": {
       "slide_type": "-"
      }
     },
     "source": [
      "At this point I need to mention that you should download the following two files since we *may* be using values in them in some calculations:\n",
      "\n",
      "* [APA's Design/Construction Guide: Concrete Forming](http://www.apawood.org/pdfs/download_pdf.cfm?PDFFilename=managed/V345.pdf)\n",
      "* [Panel Design Specification](http://www.apawood.org/pdfs/download_pdf.cfm?PDFFilename=managed/D510.pdf)\n",
      "\n",
      "and you **will** need to download the file below since we **will** be using values from it.\n",
      "\n",
      "* [Plywood Design Specification](http://www.apawood.org/pdfs/download_pdf.cfm?PDFFilename=managed/Y510.pdf)\n",
      "\n",
      "Specifically, we will be using Table 1 (Effective Section Properties for Plywood) and Table 3 (Allowable Stresses for Plywood).  \n",
      "\n",
      "You might wonder why the Plywood Design Specifications is more important than the Design/Construction Guide: Concrete Forming.  Even though the Design/Construction Guide: Concrete Forming is specifically about formwork, it mainly has information on Plyform, and many forms are not built using Plyform.  Sanded plywood is more commonly used in concrete form work than Plyform.  Thus the properties found in the Plywood Design Specifications are typically more important than the values in the Design/Construction Guide: Concrete Forming.  \n",
      "\n",
      "Obviously plywood and Plyform are not the only forming material used in form work.  Steel is also a common form material, but if you are using steel forms, then they will have been prefabricated, and it is unlikely that you were involved in the design process.  For this reason, we will be studying designing forms using plywood.  One of the reasons it is so common, is that plywood is relatively inexpensive, versicle, and readily available.  Because of this, almost every structure of any size has had plywood forms used, at some stage, in its construction.\n",
      "\n",
      "We *will* use Plyform for *some* formwork designs.  The properties of Plyform can be found in [APA's Design/Construction Guide: Concrete Forming](http://www.apawood.org/pdfs/download_pdf.cfm?PDFFilename=managed/V345.pdf), specifically in Table 12 (Section Properties for Plyform Class I and Class II, and Structural I Plyform) and Table 13 (Allowable Stresses).  However, in this class, we will most likely be using the pre-calculated values in Table 7-2 in our Formwork for Concrete text.\n",
      "\n",
      "While reading you may notice that the [Plywood Design Specification](http://www.apawood.org/pdfs/download_pdf.cfm?PDFFilename=managed/Y510.pdf) I'm having you download was published in 1998, while the [Panel Design Specification](http://www.apawood.org/pdfs/download_pdf.cfm?PDFFilename=managed/D510.pdf) was published in 2012.  Both of these files contain the same information, but it is arranged in them in very different formats.  For our purposes the [Plywood Design Specification](http://www.apawood.org/pdfs/download_pdf.cfm?PDFFilename=managed/Y510.pdf) is arranged in the most compact fashion.  It will be easier to use the two tables in the 1998 publication than the six tables on the 2012 publication.  \n",
      "\n",
      "That being said, the 2012 publication does have some clear writing describing the properties of plywood so I would encourage you to download the [Panel Design Specification](http://www.apawood.org/pdfs/download_pdf.cfm?PDFFilename=managed/D510.pdf), and read sections 1.1 Plywood, 2.2.2 Grades, 2.3.3 Sanded, 4.1 Strength axis, and 4.4.4 Shear in the plane of the panel.  \n",
      "\n",
      "Finally, when looking up any values for plywood, keep in mind that you should always use the **sanded plywood** values.  When non-sanded plywood is used in concrete form work, it will adhere to the concrete, and both be damaged, and damage the concrete during its removal."
     ]
    },
    {
     "cell_type": "heading",
     "level": 2,
     "metadata": {
      "slideshow": {
       "slide_type": "slide"
      }
     },
     "source": [
      "Example Problem"
     ]
    },
    {
     "cell_type": "markdown",
     "metadata": {
      "slideshow": {
       "slide_type": "-"
      }
     },
     "source": [
      "<audio controls data-autoplay preload>\n",
      " <source src=\"https://github.com/damontallen/Construction-Lectures-Fall-2014/raw/master/Lecture%20Audio/Week%207/Wall%20Form%20Design/Example%20Problem.mp3\"\n",
      "         type='audio/mp3'>\n",
      " <p>Your user agent does not support the HTML5 Audio element or the files are missing.</p>\n",
      "</audio>"
     ]
    },
    {
     "cell_type": "markdown",
     "metadata": {
      "slideshow": {
       "slide_type": "-"
      }
     },
     "source": [
      "Let's look at an example to see how the design process works."
     ]
    },
    {
     "cell_type": "heading",
     "level": 3,
     "metadata": {
      "slideshow": {
       "slide_type": "-"
      }
     },
     "source": [
      "Use the following design equations"
     ]
    },
    {
     "cell_type": "markdown",
     "metadata": {
      "slideshow": {
       "slide_type": "-"
      }
     },
     "source": [
      "Lateral Pressure from concrete, Max $P = 150 pcf \\times h$\n",
      "\n",
      "Pour Rate: $R\\le 7 \\frac{ft}{hr}$\n",
      "\n",
      "$\\hspace{4 cm} P = 150 +\\frac{9000 R}{T} \\le 150 pcf \\times h$\n",
      "\n",
      "Pour Rate: $ 7 \\frac{ft}{hr}< R \\le 10 \\frac{ft}{hr}$\n",
      "\n",
      "$\\hspace{4 cm} P = 150 +\\frac{43,400}{T} +\\frac{2800 R}{T} \\le 150 pcf \\times h$\n",
      "\n",
      "Pour Rate: $R> 10 \\frac{ft}{hr}$\n",
      "\n",
      "$\\hspace{4 cm} P = 150 pcf \\times h \\text{ (Maximum Pressure)}$"
     ]
    },
    {
     "cell_type": "heading",
     "level": 3,
     "metadata": {
      "slideshow": {
       "slide_type": "-"
      }
     },
     "source": [
      "Span calculations"
     ]
    },
    {
     "cell_type": "markdown",
     "metadata": {
      "slideshow": {
       "slide_type": "-"
      }
     },
     "source": [
      "For Bending, span, $L = 10.95 \\sqrt{\\frac{F_b' S}{w}}$\n",
      "\n",
      "For Rolling shear, span, $L = \\frac{20 \\times F_s'}{w}\\times \\frac{I b }{Q}$ (for sheathing like plywood only)\n",
      "\n",
      "For Shear, span, $L = 13.33 \\times \\frac{F_v' b d}{w} + 2 d$ (for dimensional lumber only)\n",
      "\n",
      "For deflection where $\\Delta = {}^L/_{360}$,  span, $L = 1.69 \\sqrt[3]{\\frac{E' I}{w}}$\n",
      "\n",
      "For deflection where $\\Delta = {}^1/_{16}\\text{\"}$,  span, $L = 3.23 \\sqrt[4]{\\frac{E' I}{w}}$\n",
      "\n",
      "Stress = Load/Area\n",
      "\n",
      "*(See the slide below for variable definitions.)*"
     ]
    },
    {
     "cell_type": "markdown",
     "metadata": {
      "slideshow": {
       "slide_type": "subslide"
      }
     },
     "source": [
      "In the span length equations:\n",
      "\n",
      "* $L$ is the spacing between supports, in units of $inches (in)$\n",
      "* $w$ is the uniformly distributed line load on the beam, in units of $plf$\n",
      "\n",
      "* $d$ is the width of the beam, in units of $in$\n",
      "* $A$ is the cross sectional area of the beam, in units of $in^2$ \n",
      "* $S$ is the section modulus of the beam, in units of $in^3$ (or $in^3/ft$ for plywood)\n",
      "* $I$ is the moment of inertia of the beam, in units of $in^4$ (or $in^4/ft$ for plywood)\n",
      "\n",
      "* $F_b'$ is the maximum allowable bending stress of the beam, in units of $psi$\n",
      "* $F_v'$ is the maximum allowable shear stress in the beam, in units of $psi$\n",
      "* $F_s'$ is the maximum allowable rolling shear stress in the panel, in units of $psi$\n",
      "* $E'$ is the adjusted Young's modulus of the beam's material, in units of $psi$\n",
      "* $Ib/Q$ is the rolling shear constant of the panel, in units of $in^2/ft$\n"
     ]
    },
    {
     "cell_type": "heading",
     "level": 2,
     "metadata": {
      "slideshow": {
       "slide_type": "slide"
      }
     },
     "source": [
      "Determine the Following"
     ]
    },
    {
     "cell_type": "markdown",
     "metadata": {
      "slideshow": {
       "slide_type": "-"
      }
     },
     "source": [
      "<audio controls data-autoplay preload>\n",
      " <source src=\"https://github.com/damontallen/Construction-Lectures-Fall-2014/raw/master/Lecture%20Audio/Week%207/Wall%20Form%20Design/Determine%20the%20Following.mp3\"\n",
      "         type='audio/mp3'>\n",
      " <p>Your user agent does not support the HTML5 Audio element or the files are missing.</p>\n",
      "</audio>"
     ]
    },
    {
     "cell_type": "markdown",
     "metadata": {
      "slideshow": {
       "slide_type": "-"
      }
     },
     "source": [
      "1. Concrete Pressure\n",
      "2. Stud spacing\n",
      "3. Wale spacing\n",
      "4. Check the adequacy of the wale bearing strength\n",
      "5. Tie spacing\n",
      "6. Tie strength\n"
     ]
    },
    {
     "cell_type": "heading",
     "level": 3,
     "metadata": {
      "slideshow": {
       "slide_type": "-"
      }
     },
     "source": [
      "Given:"
     ]
    },
    {
     "cell_type": "markdown",
     "metadata": {
      "slideshow": {
       "slide_type": "-"
      }
     },
     "source": [
      "* Height of wall = 15 ft\n",
      "* Rate of filling = 10 ft/hr\n",
      "* Temperature = 80$^o$ F\n",
      "* Concrete unit weight = 150 lb/ft$^3$\n",
      "* Wet conditions prevail\n",
      "* Limit deflection to L/360 but not greater than 1/16\"\n",
      "* All lumber will be 2x4 S4S lumber, No.2 Douglas Fir-Larch with no splits\n",
      "* Sheathing will be 3/4\" plywood from Group 1 species with an S-1 stress rating (Wet)\n",
      "* Use double wales\n",
      "* Ties strengths available are 3000 and 4000 lb working loads"
     ]
    },
    {
     "cell_type": "code",
     "collapsed": false,
     "input": [
      "Wet = True\n",
      "lumber_grade = \"No.2 Douglas Fir-Larch\"\n",
      "Plywood = '3/4\" plywood from Group 2 species with an S-2 stress rating'"
     ],
     "language": "python",
     "metadata": {
      "slideshow": {
       "slide_type": "skip"
      }
     },
     "outputs": [],
     "prompt_number": 1
    },
    {
     "cell_type": "heading",
     "level": 2,
     "metadata": {
      "slideshow": {
       "slide_type": "slide"
      }
     },
     "source": [
      "Pressure"
     ]
    },
    {
     "cell_type": "markdown",
     "metadata": {
      "slideshow": {
       "slide_type": "-"
      }
     },
     "source": [
      "<audio controls data-autoplay preload>\n",
      " <source src=\"https://github.com/damontallen/Construction-Lectures-Fall-2014/raw/master/Lecture%20Audio/Week%207/Wall%20Form%20Design/Pressure.mp3\"\n",
      "         type='audio/mp3'>\n",
      " <p>Your user agent does not support the HTML5 Audio element or the files are missing.</p>\n",
      "</audio>"
     ]
    },
    {
     "cell_type": "code",
     "collapsed": false,
     "input": [
      "%run Older_Classes/Temp_struc_v_3_beta.py\n",
      "R = 10\n",
      "T = 80\n",
      "h = 15\n",
      "P = Pressure(R,T,h)"
     ],
     "language": "python",
     "metadata": {
      "slideshow": {
       "slide_type": "skip"
      }
     },
     "outputs": [],
     "prompt_number": 2
    },
    {
     "cell_type": "code",
     "collapsed": false,
     "input": [
      "P.work"
     ],
     "language": "python",
     "metadata": {
      "slideshow": {
       "slide_type": "-"
      }
     },
     "outputs": [
      {
       "latex": [
        "$$\\text{Since R = 10}\\frac{ft}{hr}  \\text{ then } P =  150 + \\frac{43,400}{T} + \\frac{2800 \\times R}{T}$$ \n",
        "${}$\n",
        " $$P = 150 + \\frac{43,400}{ 80 }+\\frac{2800 \\times 10 }{ 80 } =  1042 psf $$ \n",
        "${}$\n",
        " $$P_{max} = 150 pcf \\times h= 150 pcf \\times 15 ft$$ \n",
        "${}$\n",
        " $$P_{max} = 2250 psf$$ \n",
        "${}$\n",
        " $$\\text{Therefore }P =  1042 psf $$"
       ],
       "metadata": {},
       "output_type": "pyout",
       "prompt_number": 3,
       "text": [
        "<IPython.core.display.Latex at 0x7f72482f14a8>"
       ]
      }
     ],
     "prompt_number": 3
    },
    {
     "cell_type": "heading",
     "level": 3,
     "metadata": {
      "slideshow": {
       "slide_type": "slide"
      }
     },
     "source": [
      "Load duration factor"
     ]
    },
    {
     "cell_type": "markdown",
     "metadata": {
      "slideshow": {
       "slide_type": "-"
      }
     },
     "source": [
      "<audio controls data-autoplay preload>\n",
      " <source src=\"https://github.com/damontallen/Construction-Lectures-Fall-2014/raw/master/Lecture%20Audio/Week%207/Wall%20Form%20Design/Load%20duration%20factor.mp3\"\n",
      "         type='audio/mp3'>\n",
      " <p>Your user agent does not support the HTML5 Audio element or the files are missing.</p>\n",
      "</audio>"
     ]
    },
    {
     "cell_type": "markdown",
     "metadata": {
      "slideshow": {
       "slide_type": "-"
      }
     },
     "source": [
      "Since the problem statement did not indicate otherwise, the load duration factor $C_D = 1.25$.  What would indicate that it was not $1.25$ would be a reference to reuse of the form work.  If a form, or element of a form, is going to be  reused, we will assume that it will see the maximum allowed load for more than seven days.  That means, if you are reusing forms then $C_D = 1.0$."
     ]
    },
    {
     "cell_type": "heading",
     "level": 2,
     "metadata": {
      "slideshow": {
       "slide_type": "slide"
      }
     },
     "source": [
      "Plywood Analysis (Stud Spacing)"
     ]
    },
    {
     "cell_type": "markdown",
     "metadata": {
      "slideshow": {
       "slide_type": "-"
      }
     },
     "source": [
      "<audio controls data-autoplay preload>\n",
      " <source src=\"https://github.com/damontallen/Construction-Lectures-Fall-2014/raw/master/Lecture%20Audio/Week%207/Wall%20Form%20Design/Plywood%20Analysis%20(Stud%20Spacing).mp3\"\n",
      "         type='audio/mp3'>\n",
      " <p>Your user agent does not support the HTML5 Audio element or the files are missing.</p>\n",
      "</audio>"
     ]
    },
    {
     "cell_type": "code",
     "collapsed": false,
     "input": [
      "print(Plywood)"
     ],
     "language": "python",
     "metadata": {
      "slideshow": {
       "slide_type": "skip"
      }
     },
     "outputs": [
      {
       "output_type": "stream",
       "stream": "stdout",
       "text": [
        "3/4\" plywood from Group 2 species with an S-2 stress rating\n"
       ]
      }
     ],
     "prompt_number": 4
    },
    {
     "cell_type": "code",
     "collapsed": false,
     "input": [
      "ply = panel() #S-2 Grade 2 (Dry)\n",
      "ply.nom_thick='3/4'\n",
      "grade = 'S-1-'\n",
      "ply.Grade = grade + ('Wet' if Wet else 'Dry')\n",
      "ply.Group = 1\n",
      "ply.C_D = 1.25"
     ],
     "language": "python",
     "metadata": {
      "slideshow": {
       "slide_type": "skip"
      }
     },
     "outputs": [],
     "prompt_number": 5
    },
    {
     "cell_type": "code",
     "collapsed": false,
     "input": [
      "ply.show_props.work"
     ],
     "language": "python",
     "metadata": {
      "slideshow": {
       "slide_type": "-"
      }
     },
     "outputs": [
      {
       "latex": [
        "$$\\text{From the Plyfrom Properties Tables:}$$ \n",
        "$$t_{nom} = 3/4\"$$\n",
        "$$A = 9.0 (in^2/ft)$$\n",
        "$$I = 0.199 (in^4/ft)$$\n",
        "$$S = 0.455 (in^3/ft)$$\n",
        "$$Ib/Q = 7.187 (in^2/ft)$$\n",
        "$$F_b = 1930 psi$$\n",
        "$$F_s = 72 psi$$\n",
        "$$E = 1.650E+06 psi$$\n",
        "$$C_D = 1.250$$\n",
        "$$strong = True$$"
       ],
       "metadata": {},
       "output_type": "pyout",
       "prompt_number": 6,
       "text": [
        "<IPython.core.display.Latex at 0x7f72482e8048>"
       ]
      }
     ],
     "prompt_number": 6
    },
    {
     "cell_type": "markdown",
     "metadata": {
      "slideshow": {
       "slide_type": "-"
      }
     },
     "source": [
      "The units of area (A), moment of inertia (I), and section modulus (S) all are per ft, as was mentioned in the <a href=\"http://damontallen.github.io/Construction-Lectures-Fall-2014/Week%206%20-%20(Optional)%20Span%20Length%20Derivations.slides.html\">(Optional) Span Length Derivation presentation</a>.  This is because plywood is designed on a per unit width basis.\n",
      "\n",
      "Since the line load ($w$), used in the span length equations, should be in plf we will find it by multiplying the pressure by 1 ft.  We will also need to multiple the area, moment of inertia, and section modulus by 1 ft to get the units to work out correctly.\n",
      "\n",
      "So for the plywood support spacing calculations,\n",
      "\n",
      "$w = P \\times 1 ft = 1042 plf$"
     ]
    },
    {
     "cell_type": "heading",
     "level": 3,
     "metadata": {
      "slideshow": {
       "slide_type": "slide"
      }
     },
     "source": [
      "Allowable Stresses"
     ]
    },
    {
     "cell_type": "markdown",
     "metadata": {
      "slideshow": {
       "slide_type": "-"
      }
     },
     "source": [
      "<audio controls data-autoplay preload>\n",
      " <source src=\"https://github.com/damontallen/Construction-Lectures-Fall-2014/raw/master/Lecture%20Audio/Week%207/Wall%20Form%20Design/Allowable%20Stresses.mp3\"\n",
      "         type='audio/mp3'>\n",
      " <p>Your user agent does not support the HTML5 Audio element or the files are missing.</p>\n",
      "</audio>"
     ]
    },
    {
     "cell_type": "markdown",
     "metadata": {
      "slideshow": {
       "slide_type": "-"
      }
     },
     "source": [
      "For plywood the only adjustment factor we use is the load duration factor $C_D$.\n",
      "\n",
      "So,"
     ]
    },
    {
     "cell_type": "code",
     "collapsed": false,
     "input": [
      "ply.show_allowable_stress.work"
     ],
     "language": "python",
     "metadata": {
      "slideshow": {
       "slide_type": "-"
      }
     },
     "outputs": [
      {
       "latex": [
        "$$F_b' = F_b \\times C_D$$ \n",
        "$$F_b' = 1930 psi \\times 1.25$$ \n",
        "$$F_b' = 2412.5 psi$$ \n",
        " $${}$$ \n",
        "$$F_s' = F_s \\times C_D$$ \n",
        "$$F_s' = 72 psi \\times 1.25$$ \n",
        "$$F_s' = 90 psi$$ \n",
        " $${}$$ \n",
        "$$E' = E$$ \n",
        "$$E' = 1.65E+06 psi$$"
       ],
       "metadata": {},
       "output_type": "pyout",
       "prompt_number": 7,
       "text": [
        "<IPython.core.display.Latex at 0x7f722c102e10>"
       ]
      }
     ],
     "prompt_number": 7
    },
    {
     "cell_type": "heading",
     "level": 2,
     "metadata": {
      "slideshow": {
       "slide_type": "slide"
      }
     },
     "source": [
      "Stud Spacing (Plywood Analysis)"
     ]
    },
    {
     "cell_type": "markdown",
     "metadata": {
      "slideshow": {
       "slide_type": "-"
      }
     },
     "source": [
      "<audio controls data-autoplay preload>\n",
      " <source src=\"https://github.com/damontallen/Construction-Lectures-Fall-2014/raw/master/Lecture%20Audio/Week%207/Wall%20Form%20Design/Stud%20Spacing%20(Plywood%20Analysis).mp3\"\n",
      "         type='audio/mp3'>\n",
      " <p>Your user agent does not support the HTML5 Audio element or the files are missing.</p>\n",
      "</audio>"
     ]
    },
    {
     "cell_type": "code",
     "collapsed": false,
     "input": [
      "w = P.value\n",
      "stud_spacing = board_test(ply,w,plywood=True)"
     ],
     "language": "python",
     "metadata": {
      "slideshow": {
       "slide_type": "skip"
      }
     },
     "outputs": [],
     "prompt_number": 8
    },
    {
     "cell_type": "code",
     "collapsed": false,
     "input": [
      "stud_spacing.work"
     ],
     "language": "python",
     "metadata": {
      "slideshow": {
       "slide_type": "-"
      }
     },
     "outputs": [
      {
       "latex": [
        "$$\\text{For a pressure of }1042 psf \\text{ the line load equals }  1042 plf $$ \n",
        "${}$\n",
        " $$L = 10.95 \\sqrt{\\frac{F_b' S}{w}} = 10.95 \\sqrt{\\frac{2412 psi  \\times 0.455 in^3 }{ 1042 plf }} =11.24\" \\text{ (due to bending)}$$ \n",
        "${}$\n",
        " $$L = \\frac{20 \\times F_s'}{w}\\times \\frac{I b }{Q} =\\frac{20 \\times 90 psi }{ 1042 plf }\\times  7.187 in^2  = 12.41\" \\text{ (due to rolling shear)}$$ \n",
        "${}$\n",
        " $$L = 1.69 \\sqrt[3]{\\frac{E' I}{w}} =1.69 \\sqrt[3]{\\frac{1.65E+06 psi  \\times  0.199 in^4 }{ 1042 plf }} =11.50\" \\text{ (for }\\Delta = L/360 \\text{)}$$ \n",
        "${}$\n",
        " $$L = 3.23 \\sqrt[4]{\\frac{E' I}{w}} =3.23 \\sqrt[4]{\\frac{1.65E+06 psi  \\times  0.199 in^4 }{ 1042 plf }} =13.61\" \\text{ (for }\\Delta = 1/16\" \\text{)}$$ \n",
        "${}$\n",
        " $$\\text{After rounding the smallest spacing to the nearest 1/16\" and determining the maximum allowed}$$ $$\\text{spacing lower than that, for the studs, the best spacing is 8\"  = 0.667 feet.}$$"
       ],
       "metadata": {},
       "output_type": "pyout",
       "prompt_number": 9,
       "text": [
        "<IPython.core.display.Latex at 0x7f722be83ba8>"
       ]
      }
     ],
     "prompt_number": 9
    },
    {
     "cell_type": "markdown",
     "metadata": {
      "slideshow": {
       "slide_type": "-"
      }
     },
     "source": [
      "When calculating the allowable spacing for the studs you should keep in mind that the sheet of plywood is only 96\" long.  The spacing of the studs should evenly divide into 96\", i.e. 6\", 8\", 12\", 16\", 24\", ... but not 18\" or 36\".  This insight is also true when determining the spacing of the ties.  However, when you are calculating the spacing of the wales the plywood is only 48\" in that direction."
     ]
    },
    {
     "cell_type": "heading",
     "level": 2,
     "metadata": {
      "slideshow": {
       "slide_type": "slide"
      }
     },
     "source": [
      "Constructibility"
     ]
    },
    {
     "cell_type": "markdown",
     "metadata": {
      "slideshow": {
       "slide_type": "-"
      }
     },
     "source": [
      "<audio controls data-autoplay preload>\n",
      " <source src=\"https://github.com/damontallen/Construction-Lectures-Fall-2014/raw/master/Lecture%20Audio/Week%207/Wall%20Form%20Design/Constructibility.mp3\"\n",
      "         type='audio/mp3'>\n",
      " <p>Your user agent does not support the HTML5 Audio element or the files are missing.</p>\n",
      "</audio>"
     ]
    },
    {
     "cell_type": "markdown",
     "metadata": {
      "slideshow": {
       "slide_type": "-"
      }
     },
     "source": [
      "We want the spacing such that the edges of the sheet of plywood are always supported by a stud.  To do this you should know that the standard size of sheets of plywood, and Plyforms, is 4ft by 8ft (48\"x96\").  Since the long direction of the plywood will be perpendicular to the studs, if we *only* support the edges of the plywood with studs then the spacing would be 96\" on center.\n",
      "\n",
      "\n",
      "<a href = \"http://i.imgur.com/Bu5KLIj.png\"><img src=\"http://i.imgur.com/Bu5KLIj.png\" alt = 'Studs at 96\" on Center' Title = 'Studs at 96\" on Center' style=\"max-width:200px; max-height:200px; border:1px solid blue; float:left; margin-right:3px;\"/></a>\n",
      "\n",
      "If we add another stud we can cut the spacing in half to 48\" on center.\n",
      "\n",
      "$\\frac{96}{2} = 48\"$\n",
      "\n",
      "Adding another stud our spacing becomes,\n",
      "\n",
      "$\\frac{96}{3} = 32\"$ on center.\n",
      "\n",
      "Every time we add another stud we have a whole number in the divisor.  We use that to our advantage we determining the appropriate spacing of our supports. For instance if we take the minimum limit we found for the stud support spacing, 7.13\", and divide 8 ft (96\") by it.\n",
      "\n",
      "$\\frac{96\"}{7.13\"}= 13.46 \\text{ This is not a whole number.}$\n",
      "\n",
      "\n",
      "<a href = \"http://i.imgur.com/KLrjVl0.jpg\"><img src=\"http://i.imgur.com/KLrjVl0.jpg\" alt = \"Tape Measure's Black Diamond\" Title = \"Tape Measure's Black Diamond\" style=\"max-width:200px; max-height:200px; border:1px solid blue; float:right; margin-left:10px;\"/></a>\n",
      "\n",
      "We need a spacing that is smaller than our rolling shear limit, and divides evenly into 96\", but results in the least number of studs.\n",
      "\n",
      "I happen to know that the next number larger than 13.46 that divides 96\" evenly is 16.\n",
      "\n",
      "$\\frac{96\"}{16} = 6\"$ on center.\n",
      "\n",
      "The reason I didn't use 14 is that you cannot find 6.8571\" on any tape measure.  You need to remember that this form is gonig to be built by construction workers, and they will need to be able to not only easily find the spacing you pick on their tape measures, but also all the multiples of that spacing.  Those values that can easily be found for an 8 ft sheet of plywood are, 3\", 4\", 6\", 8\", 12\" (1 ft), 16\", 19.2\", 24\" (2 ft), 32\", and 48\" (4 ft).  Why is 19.2\" on the list?  In the picture of the tape measure you'll see a black diamond at 19.2\".  This corresponds to 96\"/5.  There are special indicators for every 16\" and 1 ft increment too.  A complete list of usable spacings can be found [here](https://www.dropbox.com/s/pyzxpv0aipadbri/Allowable%20Spacings.pdf)."
     ]
    },
    {
     "cell_type": "heading",
     "level": 2,
     "metadata": {
      "slideshow": {
       "slide_type": "slide"
      }
     },
     "source": [
      "Wale Spacing (Stud Analysis)"
     ]
    },
    {
     "cell_type": "markdown",
     "metadata": {
      "slideshow": {
       "slide_type": "-"
      }
     },
     "source": [
      "<audio controls data-autoplay preload>\n",
      " <source src=\"https://github.com/damontallen/Construction-Lectures-Fall-2014/raw/master/Lecture%20Audio/Week%207/Wall%20Form%20Design/Wale%20Spacing%20(Stud%20Analysis).mp3\"\n",
      "         type='audio/mp3'>\n",
      " <p>Your user agent does not support the HTML5 Audio element or the files are missing.</p>\n",
      "</audio>"
     ]
    },
    {
     "cell_type": "code",
     "collapsed": false,
     "input": [
      "print(lumber_grade)"
     ],
     "language": "python",
     "metadata": {
      "slideshow": {
       "slide_type": "skip"
      }
     },
     "outputs": [
      {
       "output_type": "stream",
       "stream": "stdout",
       "text": [
        "No.2 Douglas Fir-Larch\n"
       ]
      }
     ],
     "prompt_number": 10
    },
    {
     "cell_type": "code",
     "collapsed": false,
     "input": [
      "stud=two_by_four() \n",
      "stud.F_b = 900 #psi\n",
      "stud.F_v = 180 #psi\n",
      "stud.F_c_p = 625 #psi\n",
      "stud.E = 1600000 #psi\n",
      "stud.C_D = 1.25\n",
      "stud.C_F = 1.5\n",
      "stud.C_M.wet=Wet\n",
      "stud.spacing = stud_spacing.value.inches #for C_r\n",
      "stud.connected = True #for C_r\n",
      "w = line_load(P.value, stud_spacing.value.feet)\n",
      "wale_spacing = board_test(stud,w.value, wale=True)\n",
      "print(\"E = {:.3E} psi\".format(stud.E))"
     ],
     "language": "python",
     "metadata": {
      "slideshow": {
       "slide_type": "skip"
      }
     },
     "outputs": [
      {
       "output_type": "stream",
       "stream": "stdout",
       "text": [
        "E = 1.600E+06 psi\n"
       ]
      }
     ],
     "prompt_number": 11
    },
    {
     "cell_type": "markdown",
     "metadata": {
      "slideshow": {
       "slide_type": "-"
      }
     },
     "source": [
      "When using a No.2 Douglas Fir-Larch 2x4 stud, we can find the unadjusted stresses in Table 4A of the Supplement.  The adjusted allowable stresses are found by applying the adjustment factors found in Table 4.3.1 of the Timber NDS.  Doing the calculations we get, "
     ]
    },
    {
     "cell_type": "code",
     "collapsed": false,
     "input": [
      "stud.reveal().work"
     ],
     "language": "python",
     "metadata": {
      "slideshow": {
       "slide_type": "-"
      }
     },
     "outputs": [
      {
       "latex": [
        "$$F_b'=F_b \\times C_D \\times C_F \\times C_M \\times C_r$$ \n",
        "$$F_b'=900 psi\\times 1.25 \\times 1.5 \\times 0.85 \\times 1.15 $$ $$F_b' = 1649.53 psi$$ \n",
        "${}$\n",
        " $$F_v'=F_v \\times C_D \\times C_M $$ \n",
        "$$F_v'=180 psi \\times 1.25 \\times 0.97 $$ \n",
        "$$F_v' = 218.25 psi$$ \n",
        "${}$\n",
        " $$F_{c,\\perp}'=F_{c,\\perp} \\times C_M $$ \n",
        "$$F_{c,\\perp}'=625 psi\\times 0.67 $$ \n",
        "$$F_{c,\\perp}' = 418.75 psi$$ \n",
        "${}$\n",
        " $$E'=E \\times C_M $$ \n",
        "$$E'=1.6e+06 psi\\times 0.9 $$ \n",
        "$$E' = 1.44E+06 psi$$"
       ],
       "metadata": {},
       "output_type": "pyout",
       "prompt_number": 12,
       "text": [
        "<IPython.core.display.Latex at 0x7f722be86518>"
       ]
      }
     ],
     "prompt_number": 12
    },
    {
     "cell_type": "markdown",
     "metadata": {
      "slideshow": {
       "slide_type": "-"
      }
     },
     "source": [
      "We apply $C_r$ to the bending stress because the studs are connected to the plywood, and are spaced less than 24\" apart.  The $C_M$ factor is applied to all the values, because the problem statement indicated that all the lumber was wet."
     ]
    },
    {
     "cell_type": "heading",
     "level": 3,
     "metadata": {
      "slideshow": {
       "slide_type": "slide"
      }
     },
     "source": [
      "Stud Line Load and Support Spacing"
     ]
    },
    {
     "cell_type": "markdown",
     "metadata": {
      "slideshow": {
       "slide_type": "-"
      }
     },
     "source": [
      "<audio controls data-autoplay preload>\n",
      " <source src=\"https://github.com/damontallen/Construction-Lectures-Fall-2014/raw/master/Lecture%20Audio/Week%207/Wall%20Form%20Design/Stud%20Line%20Load%20and%20Support%20Spacing.mp3\"\n",
      "         type='audio/mp3'>\n",
      " <p>Your user agent does not support the HTML5 Audio element or the files are missing.</p>\n",
      "</audio>"
     ]
    },
    {
     "cell_type": "markdown",
     "metadata": {
      "slideshow": {
       "slide_type": "-"
      }
     },
     "source": [
      "We need to determine the new line load to calculate the spacing of the stud supports."
     ]
    },
    {
     "cell_type": "code",
     "collapsed": false,
     "input": [
      "w.work"
     ],
     "language": "python",
     "metadata": {
      "slideshow": {
       "slide_type": "-"
      }
     },
     "outputs": [
      {
       "latex": [
        "$$\\text{Line load} = w = \\text{pressure}\\times\\text{tributary width}$$ $$w = P \\times s = 1042.5 psf \\times 8.0\" \\times \\frac{1 ft}{12 in}$$$$w = 695.00 plf$$"
       ],
       "metadata": {},
       "output_type": "pyout",
       "prompt_number": 13,
       "text": [
        "<IPython.core.display.Latex at 0x7f722be83a20>"
       ]
      }
     ],
     "prompt_number": 13
    },
    {
     "cell_type": "markdown",
     "metadata": {
      "slideshow": {
       "slide_type": "-"
      }
     },
     "source": [
      "Now that we have the line load we can calculate the support spacing limits."
     ]
    },
    {
     "cell_type": "code",
     "collapsed": false,
     "input": [
      "wale_spacing.work"
     ],
     "language": "python",
     "metadata": {
      "slideshow": {
       "slide_type": "-"
      }
     },
     "outputs": [
      {
       "latex": [
        "$$\\text{For a line load of }w =  695 plf $$ \n",
        "${}$\n",
        " $$L = 10.95 \\sqrt{\\frac{F_b' S}{w}} = 10.95 \\sqrt{\\frac{1650 psi  \\times 3.062 in^3 }{ 695 plf }} =29.52\" \\text{ (due to bending)}$$ \n",
        "${}$\n",
        " $$L = 13.33 \\times \\frac{F_v' b d}{w} + 2 d = 13.33 \\times \\frac{218 psi \\times 1.50\" \\times 3.50\" }{ 695 plf } + 2 \\times 3.50\"  = 28.98\"  \\text{ (due to shear)} $$ \n",
        "${}$\n",
        " $$L = 1.69 \\sqrt[3]{\\frac{E' I}{w}} =1.69 \\sqrt[3]{\\frac{1.44E+06 psi  \\times  5.359 in^4 }{ 695 plf }} =37.70\" \\text{ (for }\\Delta = L/360 \\text{)}$$ \n",
        "${}$\n",
        " $$L = 3.23 \\sqrt[4]{\\frac{E' I}{w}} =3.23 \\sqrt[4]{\\frac{1.44E+06 psi  \\times  5.359 in^4 }{ 695 plf }} =33.16\" \\text{ (for }\\Delta = 1/16\" \\text{)}$$ \n",
        "${}$\n",
        " $$\\text{After rounding the smallest spacing to the nearest 1/16\" and determining the maximum allowed}$$ $$\\text{spacing lower than that, using plywood with 4'  vertically, for the wales,}$$ $$\\text{the best spacing is 24.0\"  = 2.000 feet.}$$"
       ],
       "metadata": {},
       "output_type": "pyout",
       "prompt_number": 14,
       "text": [
        "<IPython.core.display.Latex at 0x7f722c102550>"
       ]
      }
     ],
     "prompt_number": 14
    },
    {
     "cell_type": "heading",
     "level": 3,
     "metadata": {
      "slideshow": {
       "slide_type": "slide"
      }
     },
     "source": [
      "Wale Bearing Stress Check"
     ]
    },
    {
     "cell_type": "markdown",
     "metadata": {
      "slideshow": {
       "slide_type": "-"
      }
     },
     "source": [
      "<audio controls data-autoplay preload>\n",
      " <source src=\"https://github.com/damontallen/Construction-Lectures-Fall-2014/raw/master/Lecture%20Audio/Week%207/Wall%20Form%20Design/Wale%20Bearing%20Stress%20Check.mp3\"\n",
      "         type='audio/mp3'>\n",
      " <p>Your user agent does not support the HTML5 Audio element or the files are missing.</p>\n",
      "</audio>"
     ]
    },
    {
     "cell_type": "markdown",
     "metadata": {
      "slideshow": {
       "slide_type": "-"
      }
     },
     "source": [
      "\n",
      "<a href = \"http://i.imgur.com/z279ije.png\"><img src=\"http://i.imgur.com/z279ije.png\" alt = \"Bearing Area\" title = \"Bearing Area\"style=\"max-width:300px; max-height:300px; border:1px solid blue; float:right; margin-left:10px;\"/></a>\n",
      "\n",
      "Where the studs are supported by the wales there is a lot of force being transmitted through a relatively small area.  In this case, that area is,\n",
      "\n",
      "$A_{bearing} = (1.5\" \\times 1.5\") \\times 2 = 4.5 in^2$\n",
      "\n",
      "The load that is on that area is the pressure times the tributary area, or,\n",
      "\n",
      "$\\text{Bearing Load } = P_{bearing} = P \\times A_{trib}$\n",
      "\n",
      "$P_{bearing} = P \\times s_{stud} \\times s_{wale}$\n",
      "\n",
      "$P_{bearing} = 1042 psf \\times 0.5 ft \\times 2 ft = 1042 lbs$\n",
      "\n"
     ]
    },
    {
     "cell_type": "code",
     "collapsed": false,
     "input": [
      "load = P.value * stud_spacing.value.feet * wale_spacing.value.feet"
     ],
     "language": "python",
     "metadata": {
      "slideshow": {
       "slide_type": "skip"
      }
     },
     "outputs": [],
     "prompt_number": 15
    },
    {
     "cell_type": "code",
     "collapsed": false,
     "input": [
      "bearing_check(stud,load).work"
     ],
     "language": "python",
     "metadata": {
      "slideshow": {
       "slide_type": "-"
      }
     },
     "outputs": [
      {
       "latex": [
        "$$f_{c,\\perp} = \\frac{P_{bearing}}{A_{bearing}} = \\frac{ 1390 lb }{ 4.50 in^2 }= 308.89 psi $$ \n",
        "${}$\n",
        " $$F_{c,\\perp}' = F_{c,\\perp} \\times C_M =  625.00 psi \\times 0.67 = 418.75 psi $$ \n",
        "${}$\n",
        " $$P_{bearing,allowed} = F_{c,\\perp}' \\times A_{bearing} =419 psi \\times  4.50 in^2 = 1884 lb $$ \n",
        "${}$\n",
        " $$\\text{Since the allowable load due to bearing is } 1884 lb \\text{ the  and the actual load is } 1390 lb \\text{,}$$ $$\\text{the wales are good in bearing.}$$"
       ],
       "metadata": {},
       "output_type": "pyout",
       "prompt_number": 16,
       "text": [
        "<IPython.core.display.Latex at 0x7f722be86978>"
       ]
      }
     ],
     "prompt_number": 16
    },
    {
     "cell_type": "heading",
     "level": 2,
     "metadata": {
      "slideshow": {
       "slide_type": "slide"
      }
     },
     "source": [
      "Tie Spacing (Wale Analysis)"
     ]
    },
    {
     "cell_type": "markdown",
     "metadata": {
      "slideshow": {
       "slide_type": "-"
      }
     },
     "source": [
      "<audio controls data-autoplay preload>\n",
      " <source src=\"https://github.com/damontallen/Construction-Lectures-Fall-2014/raw/master/Lecture%20Audio/Week%207/Wall%20Form%20Design/Tie%20Spacing%20(Wale%20Analysis).mp3\"\n",
      "         type='audio/mp3'>\n",
      " <p>Your user agent does not support the HTML5 Audio element or the files are missing.</p>\n",
      "</audio>"
     ]
    },
    {
     "cell_type": "code",
     "collapsed": false,
     "input": [
      "w = line_load(P.value,wale_spacing.value.feet)"
     ],
     "language": "python",
     "metadata": {
      "slideshow": {
       "slide_type": "skip"
      }
     },
     "outputs": [],
     "prompt_number": 17
    },
    {
     "cell_type": "markdown",
     "metadata": {
      "slideshow": {
       "slide_type": "-"
      }
     },
     "source": [
      "We need to determine the new line load to calculate the spacing of the wale supports."
     ]
    },
    {
     "cell_type": "code",
     "collapsed": false,
     "input": [
      "w.work"
     ],
     "language": "python",
     "metadata": {
      "slideshow": {
       "slide_type": "-"
      }
     },
     "outputs": [
      {
       "latex": [
        "$$\\text{Line load} = w = \\text{pressure}\\times\\text{tributary width}$$ $$w = P \\times s = 1042.5 psf \\times 24.0\" \\times \\frac{1 ft}{12 in}$$$$w = 2085.00 plf$$"
       ],
       "metadata": {},
       "output_type": "pyout",
       "prompt_number": 18,
       "text": [
        "<IPython.core.display.Latex at 0x7f722be86ac8>"
       ]
      }
     ],
     "prompt_number": 18
    },
    {
     "cell_type": "markdown",
     "metadata": {
      "slideshow": {
       "slide_type": "-"
      }
     },
     "source": [
      "Since the wales are simply twice as wide of the studs, and are made of the same material, we can reuse some of the allowable stresses from the studs.  \n",
      "\n",
      "$F_v'$, and $E'$ are exactly the same.  $F_b'$ is almost the same except when we calculate it we cannot apply the adjustment factor $C_r$.  This is because the wales are not in direct contact with the plywood.  So instead of\n",
      "\n",
      "$F_{b,studs}' = F_b \\times C_D \\times C_F \\times C_M \\times C_r$ we have,\n",
      "\n",
      "$F_{b,wales}' = F_b \\times C_D \\times C_F \\times C_M$ so,\n",
      "\n",
      "$$F_{b, wales}' = \\frac{F_{b,studs}'}{C_r}$$\n",
      "\n",
      "or just,\n",
      "\n",
      "$F_b' = \\frac{1650 psi}{1.15}= 1434 psi$\n",
      "\n",
      "The section properties will be just twice that of the studs.  This is because $b_{wale} = 2 \\times b_{stud}$ and,\n",
      "\n",
      "$A = b_{wale} \\times d = 2 \\times A_{stud} = 10.5 in^2$\n",
      "\n",
      "$S = \\frac{1}{6} b_{wale} \\times d^2 = 2 \\times S_{stud} = 6.125 in^3$\n",
      "\n",
      "$I = \\frac{1}{12} b_{wale} \\times d^3 = 2 \\times I_{stud} = 10.719 in^4$"
     ]
    },
    {
     "cell_type": "heading",
     "level": 3,
     "metadata": {
      "slideshow": {
       "slide_type": "slide"
      }
     },
     "source": [
      "Wale Support Spacing"
     ]
    },
    {
     "cell_type": "markdown",
     "metadata": {
      "slideshow": {
       "slide_type": "-"
      }
     },
     "source": [
      "<audio controls data-autoplay preload>\n",
      " <source src=\"https://github.com/damontallen/Construction-Lectures-Fall-2014/raw/master/Lecture%20Audio/Week%207/Wall%20Form%20Design/Wale%20Support%20Spacing.mp3\"\n",
      "         type='audio/mp3'>\n",
      " <p>Your user agent does not support the HTML5 Audio element or the files are missing.</p>\n",
      "</audio>"
     ]
    },
    {
     "cell_type": "markdown",
     "metadata": {
      "slideshow": {
       "slide_type": "-"
      }
     },
     "source": [
      "After finding the line load, the allowable stresses, and the section properties for the wales, we can finally determine the support spacing limits."
     ]
    },
    {
     "cell_type": "code",
     "collapsed": false,
     "input": [
      "wale = stud*2 #double 2x4\n",
      "tie_spacing = board_test(wale,w.value,tie=True)"
     ],
     "language": "python",
     "metadata": {
      "slideshow": {
       "slide_type": "skip"
      }
     },
     "outputs": [],
     "prompt_number": 19
    },
    {
     "cell_type": "code",
     "collapsed": false,
     "input": [
      "tie_spacing.work"
     ],
     "language": "python",
     "metadata": {
      "slideshow": {
       "slide_type": "-"
      }
     },
     "outputs": [
      {
       "latex": [
        "$$\\text{For a line load of }w =  2085 plf $$ \n",
        "${}$\n",
        " $$L = 10.95 \\sqrt{\\frac{F_b' S}{w}} = 10.95 \\sqrt{\\frac{1434 psi  \\times 6.125 in^3 }{ 2085 plf }} =22.48\" \\text{ (due to bending)}$$ \n",
        "${}$\n",
        " $$L = 13.33 \\times \\frac{F_v' b d}{w} + 2 d = 13.33 \\times \\frac{218 psi \\times 3.00\" \\times 3.50\" }{ 2085 plf } + 2 \\times 3.50\"  = 21.65\"  \\text{ (due to shear)} $$ \n",
        "${}$\n",
        " $$L = 1.69 \\sqrt[3]{\\frac{E' I}{w}} =1.69 \\sqrt[3]{\\frac{1.44E+06 psi  \\times  10.719 in^4 }{ 2085 plf }} =32.94\" \\text{ (for }\\Delta = L/360 \\text{)}$$ \n",
        "${}$\n",
        " $$L = 3.23 \\sqrt[4]{\\frac{E' I}{w}} =3.23 \\sqrt[4]{\\frac{1.44E+06 psi  \\times  10.719 in^4 }{ 2085 plf }} =29.96\" \\text{ (for }\\Delta = 1/16\" \\text{)}$$ \n",
        "${}$\n",
        " $$\\text{After rounding the smallest spacing to the nearest 1/16\" and determining the maximum allowed}$$ $$\\text{spacing lower than that, for ties, the best spacing is 19.2\"  = 1.600 feet.}$$"
       ],
       "metadata": {},
       "output_type": "pyout",
       "prompt_number": 20,
       "text": [
        "<IPython.core.display.Latex at 0x7f722be888d0>"
       ]
      }
     ],
     "prompt_number": 20
    },
    {
     "cell_type": "heading",
     "level": 2,
     "metadata": {
      "slideshow": {
       "slide_type": "slide"
      }
     },
     "source": [
      "Tie Strength"
     ]
    },
    {
     "cell_type": "markdown",
     "metadata": {
      "slideshow": {
       "slide_type": "-"
      }
     },
     "source": [
      "<audio controls data-autoplay preload>\n",
      " <source src=\"https://github.com/damontallen/Construction-Lectures-Fall-2014/raw/master/Lecture%20Audio/Week%207/Wall%20Form%20Design/Tie%20Strength.mp3\"\n",
      "         type='audio/mp3'>\n",
      " <p>Your user agent does not support the HTML5 Audio element or the files are missing.</p>\n",
      "</audio>"
     ]
    },
    {
     "cell_type": "code",
     "collapsed": false,
     "input": [
      "tie_strength = tie_check(P.value,tie_spacing, wale_spacing)"
     ],
     "language": "python",
     "metadata": {
      "slideshow": {
       "slide_type": "skip"
      }
     },
     "outputs": [],
     "prompt_number": 21
    },
    {
     "cell_type": "markdown",
     "metadata": {
      "slideshow": {
       "slide_type": "-"
      }
     },
     "source": [
      "To determine the required tie strength we need to find the load that each tie must carry.  That load is equal to the pressure times the tributary area of a tie.  This tributary area is the found by multiplying the tie spacing by the wale spacing."
     ]
    },
    {
     "cell_type": "code",
     "collapsed": false,
     "input": [
      "tie_strength.work"
     ],
     "language": "python",
     "metadata": {
      "slideshow": {
       "slide_type": "-"
      }
     },
     "outputs": [
      {
       "latex": [
        "$$\\text{The load on the ties is,}$$ \n",
        "${}$\n",
        " $$P_{ties} = P \\times s_{ties} \\times s_{wales} =  1042 psf \\times  1.600 ft \\times  2.000 ft  =  3336 lb$$ \n",
        "${}$\n",
        " $$\\text{Use 4000 lb ties.}$$"
       ],
       "metadata": {},
       "output_type": "pyout",
       "prompt_number": 22,
       "text": [
        "<IPython.core.display.Latex at 0x7f722be88fd0>"
       ]
      }
     ],
     "prompt_number": 22
    },
    {
     "cell_type": "heading",
     "level": 2,
     "metadata": {
      "slideshow": {
       "slide_type": "slide"
      }
     },
     "source": [
      "Summary"
     ]
    },
    {
     "cell_type": "markdown",
     "metadata": {
      "slideshow": {
       "slide_type": "-"
      }
     },
     "source": [
      "<audio controls data-autoplay preload>\n",
      " <source src=\"https://github.com/damontallen/Construction-Lectures-Fall-2014/raw/master/Lecture%20Audio/Week%207/Wall%20Form%20Design/Summary.mp3\"\n",
      "         type='audio/mp3'>\n",
      " <p>Your user agent does not support the HTML5 Audio element or the files are missing.</p>\n",
      "</audio>"
     ]
    },
    {
     "cell_type": "code",
     "collapsed": false,
     "input": [
      "summary(ply,stud_spacing,wale_spacing,tie_spacing,tie_strength).work"
     ],
     "language": "python",
     "metadata": {
      "slideshow": {
       "slide_type": "-"
      }
     },
     "outputs": [
      {
       "latex": [
        "$$\\text{With 3/4\" plywood space the 2x4 studs every 8\".}$$ \n",
        "${}$\n",
        " $$\\text{The double 2x4 wales need to be spaced 24.0\" on center.}$$ \n",
        "${}$\n",
        " $$\\text{The 4000 lb ties need to be spaced at 19.2\" on center.}$$"
       ],
       "metadata": {},
       "output_type": "pyout",
       "prompt_number": 23,
       "text": [
        "<IPython.core.display.Latex at 0x7f722be9a828>"
       ]
      }
     ],
     "prompt_number": 23
    },
    {
     "cell_type": "heading",
     "level": 2,
     "metadata": {
      "slideshow": {
       "slide_type": "slide"
      }
     },
     "source": [
      "References:"
     ]
    },
    {
     "cell_type": "markdown",
     "metadata": {
      "slideshow": {
       "slide_type": "-"
      }
     },
     "source": [
      "[Class website](https://ufl.instructure.com/courses/308516) *(Use this link to if you are taking the course on e-learning.)*\n",
      "\n",
      "[Github.io version of course website](http://damontallen.github.io/Construction-Lectures-Fall-2014/) *(Do not use this link if you are taking this course in Summer A or B.)*\n",
      "\n",
      "[IPython.org](http://ipython.org/) *(IPython is the opensource software used in the development of much of this course.)*\n",
      "\n",
      "[Complete Software List](http://nbviewer.ipython.org/github/damontallen/Construction-Lectures-Fall-2014/blob/master/Resources.ipynb)"
     ]
    },
    {
     "cell_type": "code",
     "collapsed": false,
     "input": [],
     "language": "python",
     "metadata": {
      "slideshow": {
       "slide_type": "skip"
      }
     },
     "outputs": [],
     "prompt_number": 23
    }
   ],
   "metadata": {}
  }
 ]
}