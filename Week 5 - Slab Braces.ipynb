{
 "metadata": {
  "name": "",
  "signature": "sha256:79f91d0b2073e5f4816690020274c38e33fe07fda8bad9a9b7798f2225d940d2"
 },
 "nbformat": 3,
 "nbformat_minor": 0,
 "worksheets": [
  {
   "cells": [
    {
     "cell_type": "heading",
     "level": 1,
     "metadata": {
      "slideshow": {
       "slide_type": "slide"
      }
     },
     "source": [
      "Brace Loads for Slab Forms"
     ]
    },
    {
     "cell_type": "markdown",
     "metadata": {
      "slideshow": {
       "slide_type": "-"
      }
     },
     "source": [
      "<iframe width=\"420\" height=\"315\" src=\"//www.youtube.com/embed/DtCiU5CpoG4\" frameborder=\"0\" allowfullscreen></iframe>"
     ]
    },
    {
     "cell_type": "heading",
     "level": 2,
     "metadata": {
      "slideshow": {
       "slide_type": "slide"
      }
     },
     "source": [
      "Elevated Slab Horizontal Loads"
     ]
    },
    {
     "cell_type": "markdown",
     "metadata": {
      "slideshow": {
       "slide_type": "-"
      }
     },
     "source": [
      "<audio controls data-autoplay preload>\n",
      " <source src=\"https://github.com/damontallen/Construction-Lectures-Fall-2014/raw/master/Lecture%20Audio/Week%205/Slab%20form%20braces/Elevated%20Slab%20Horizontal%20Loads.mp3\"\n",
      "         type='audio/mp3'>\n",
      " <p>Your user agent does not support the HTML5 Audio element or the files are missing.</p>\n",
      "</audio>"
     ]
    },
    {
     "cell_type": "markdown",
     "metadata": {
      "slideshow": {
       "slide_type": "-"
      }
     },
     "source": [
      "<a href = \"http://i.imgur.com/h7H0m0b.png\"><img src=\"http://i.imgur.com/h7H0m0b.png\" alt = \"Elevated Slab with Worker\" Title  = \"Elevated Slab with Worker\" style=\"max-width:300px; max-height:300px; border:1px solid blue;  float:right; margin-left:10px;\"/></a>\n",
      "\n",
      "The American Concrete Institute recommends designing for a minimum horizontal loading, on elevated slab forms, of 100 pounds per linear foot of tributary width for braces.  This means if you have a small elevated slab that is braced at 4 ft on center then each brace must resist a minimum horizontal load of 400 lbs.  \n",
      "\n",
      "You might think that a flat slab, without wind loading, will only have downward loading.  However, when concrete is being placed you'll have workers walking around, concrete hoses being dragged around, and maybe even concrete buggies being driven on the slab form.  If you remember nothing else from your physics class, you'll remember \"for every action there is an equal and opposite reaction\" and all these forces will cause reactions in the slab form.  This explains the minimum load requirements, but if the slab is of any substantial size you'll need more than the minimum.\n",
      "\n",
      "Elevated slabs are supported by shoring. Shoring is only designed to resist vertical loading.  If each shore is plumb then all the load that each shore has to resist will be vertical.  On actual construction sites, it's common for shores to be out of plumb up to 1/4\" in 10 ft.  This out of plumbness creates a <a href=\"http://en.wikipedia.org/wiki/Couple_(mechanics)#Forces_and_couples\">moment couple</a> due to the vertical load and resulting reaction's eccentricity.  \n",
      "\n",
      "Your Formwork for Concrete's Table 5-6 (page 5-20) takes into account the out of plumbness that contribute to a normal slab form's horizontal loading.  Let's work through an example to see how to use it."
     ]
    },
    {
     "cell_type": "heading",
     "level": 2,
     "metadata": {
      "slideshow": {
       "slide_type": "slide"
      }
     },
     "source": [
      "Slab Horizontal Loading - Table 5-6"
     ]
    },
    {
     "cell_type": "markdown",
     "metadata": {
      "slideshow": {
       "slide_type": "-"
      }
     },
     "source": [
      "<audio controls data-autoplay preload>\n",
      " <source src=\"https://github.com/damontallen/Construction-Lectures-Fall-2014/raw/master/Lecture%20Audio/Week%205/Slab%20form%20braces/Slab%20Horizontal%20Loading.mp3\"\n",
      "         type='audio/mp3'>\n",
      " <p>Your user agent does not support the HTML5 Audio element or the files are missing.</p>\n",
      "</audio>"
     ]
    },
    {
     "cell_type": "markdown",
     "metadata": {
      "slideshow": {
       "slide_type": "-"
      }
     },
     "source": [
      "<a href=\"http://i.imgur.com/aTxezXX.png\" id=\"Top Down Slab\">\n",
      "    <img title=\"Top Down Slab (Bracing in the 60 ft direction)\" alt = \"Top Down Slab\" src=\"http://i.imgur.com/EL2FYDQ.png\" onmouseover=\"this.src='http://i.imgur.com/aTxezXX.png'\" onmouseout=\"this.src='http://i.imgur.com/EL2FYDQ.png'\" style=\"max-width:300px; max-height:300px; border:1px solid blue; float:right; margin-left:10px;\"/>\n",
      "</a>\n",
      "\n",
      "First we'll look at the bracing to support the loads in the 60' direction.  We don't have control over which way the load will go, so we'll have to brace for motion in both directions.  \n",
      "\n",
      "For this 8\" thick slab, we are going to have the braces spaced at 4 ft on center.  This makes the tributary area a slice 4 ft wide (in the 90 foot direction) by 60 feet in the direction of the brace. \n",
      "\n",
      "If you move your mouse over the slab drawing you'll see the 4 ft wide strip that I'm talking about.  Alternatively, you can right-click on the slab drawing and open the image up in a new tab.\n",
      "\n",
      "In Table 5-6, to determine the horizontal load that the brace will have to resist, read down the first column until you reach 8\" thick slabs, and then read over until you reach the column for slabs that are 60 ft wide.  The horizontal force is 138 lbs/ft.  For a tributary width of 4 ft, this means that the horizontal load on each brace is 552 lbs.\n",
      "\n",
      "$\\text{For braces at } \\textbf{8 ft}\\text{ on center:}$\n",
      "\n",
      "$P_{hor} = 8 ft \\times 138 plf = 1,104 lbs$ \n",
      "\n",
      "When you read the table, you might also notice that there is a column for the \"Dead load\".  For a 8 inch thick slab it indicates that the $DL= 115 psf$.  However, if you check, you'll find that $8\" \\times \\frac{1 ft}{12 in} \\times 150 pcf = 100 psf$.  This discrepancy is because, ACI is allowing for an additional 15 psf dead load for the formwork.  (This is written in the table's notes.)  \n",
      "\n",
      "You can use this dead load, in combination with the 50 psf live load for personnel (or 75 psf if motorized buggies are used), to get the design load for the formwork.  \n",
      "\n",
      "$DL +LL = 115 psf +50 psf  =165 psf \\text{ design load.}$"
     ]
    },
    {
     "cell_type": "heading",
     "level": 2,
     "metadata": {
      "slideshow": {
       "slide_type": "slide"
      }
     },
     "source": [
      "Brace Loads in the $90 ft$ Direction"
     ]
    },
    {
     "cell_type": "markdown",
     "metadata": {
      "slideshow": {
       "slide_type": "-"
      }
     },
     "source": [
      "<audio controls data-autoplay preload>\n",
      " <source src=\"https://github.com/damontallen/Construction-Lectures-Fall-2014/raw/master/Lecture%20Audio/Week%205/Slab%20form%20braces/Brace%20Loads%20in%20the%2090ft%20Direction.mp3\"\n",
      "         type='audio/mp3'>\n",
      " <p>Your user agent does not support the HTML5 Audio element or the files are missing.</p>\n",
      "</audio>"
     ]
    },
    {
     "cell_type": "markdown",
     "metadata": {
      "slideshow": {
       "slide_type": "-"
      }
     },
     "source": [
      "<a href = \"http://i.imgur.com/wwaT70i.png\"><img src=\"http://i.imgur.com/wwaT70i.png\" alt = \"Top Down Slab\" Title = \"Top Down Slab (Bracing in the 90 ft direction)\"style=\"max-width:300px; max-height:300px; border:1px solid blue; float:right; margin-left:10px;\"/></a>\n",
      "\n",
      "We also need to design braces for the 90 ft direction.  When we look at Table 5-6, on the 8\" thick row, we don't see a column for 90 ft wide slabs.  We can find the value for 90 ft, by doing a little interpolation.\n",
      "\n",
      "$\\text{For an 8 inch thick slab, at width }= 80 ft$\n",
      "\n",
      "$w_{80} = 184 plf$\n",
      "\n",
      "$\\text{For an 8 inch thick slab, at width }= 100 ft$\n",
      "\n",
      "$w_{100} = 230 plf$\n",
      "\n",
      "so, \n",
      "\n",
      "$\\text{For an 8 inch thick slab, at width }= 90 ft$\n",
      "\n",
      "$$w_{90} = \\frac{w_{100}-w_{80}}{100 ft-80 ft}(90 ft - 80 ft) + w_{80}$$\n",
      "\n",
      "$$w_{90} = \\frac{230 plf-184 plf}{100 ft-80 ft}(90 ft - 80 ft) + 184 plf$$\n",
      "\n",
      "$$w_{90} = 207 plf$$\n",
      "\n",
      "and with braces at 4 ft  on center,\n",
      "\n",
      "$P_{hor} = 207 plf \\times 4 ft = 828 lbs$\n",
      "\n",
      "**Keep in mind:** Because we are only designing in tension, we'll need to provide two sets of braces, one for each direction of motion.  This 828 lbs, could be either to the left, <u>*or*</u> to the right.\n",
      "\n",
      "Additionally, in table 5-6 you'll notice that there are no values less than 100 psf.  This is the lower limit allowed by ACI.  You should also note that you are not allowed to interpolate with values of 100 psf.  If you find that one of your values is 100 psf you'll need to use an analytical approach."
     ]
    },
    {
     "cell_type": "heading",
     "level": 2,
     "metadata": {
      "slideshow": {
       "slide_type": "slide"
      }
     },
     "source": [
      "Analytical Approach"
     ]
    },
    {
     "cell_type": "markdown",
     "metadata": {
      "slideshow": {
       "slide_type": "-"
      }
     },
     "source": [
      "<audio controls data-autoplay preload>\n",
      " <source src=\"https://github.com/damontallen/Construction-Lectures-Fall-2014/raw/master/Lecture%20Audio/Week%205/Slab%20form%20braces/Analytical%20Approach.mp3\"\n",
      "         type='audio/mp3'>\n",
      " <p>Your user agent does not support the HTML5 Audio element or the files are missing.</p>\n",
      "</audio>"
     ]
    },
    {
     "cell_type": "markdown",
     "metadata": {
      "slideshow": {
       "slide_type": "-"
      }
     },
     "source": [
      "If you want to find a value that isn't in the table, or you want to automate the process of calculating the horizontal slab form load, then it helps to know how ACI came up with Table 5-6.  \n",
      "\n",
      "Table 5-6 is simply based on the premise that the shores are only going to be about 1/4\" in 10 ft out of plumb.  This means that the horizontal load, will only be about 2% of the vertical dead load, over the tributary width.\n",
      "\n",
      "The vertical dead load is found with the following equations,\n",
      "\n",
      "$DL = DL_{concrete} + DL_{formwork} \\text{ (units of psf)}$\n",
      "\n",
      "Where:\n",
      "\n",
      "* $DL_{concrete} = \\text{Thickness of Concrete (ft)} \\times \\text{Unit weight of Concrete (normally 150 pcf)}$\n",
      "* $DL_{formwork} = 15 psf \\text{ (ACI's estimate)}$\n",
      "\n",
      "$w_{hor} = DL \\times W_{trib} \\times 2\\%$\n",
      "\n",
      "for our 90ft wide by 8\" thick slab we get,\n",
      "\n",
      "$DL = DL_{concrete} + DL_{formwork} $\n",
      "\n",
      "$DL = 8\" \\times \\frac{1 ft}{12 in} \\times 150 pcf + 15 psf $\n",
      "\n",
      "$DL = 115 psf$\n",
      "\n",
      "and since,\n",
      "\n",
      "$w_{hor} = DL \\times W_{trib} \\times 2\\%$\n",
      "\n",
      "$w_{hor} = 115 psf \\times 90 ft \\times 2\\%$\n",
      "\n",
      "$w_{hor} = 207 plf$\n",
      "\n"
     ]
    },
    {
     "cell_type": "heading",
     "level": 2,
     "metadata": {
      "slideshow": {
       "slide_type": "slide"
      }
     },
     "source": [
      "Analytical Approach Continued"
     ]
    },
    {
     "cell_type": "markdown",
     "metadata": {
      "slideshow": {
       "slide_type": "-"
      }
     },
     "source": [
      "<audio controls data-autoplay preload>\n",
      " <source src=\"https://github.com/damontallen/Construction-Lectures-Fall-2014/raw/master/Lecture%20Audio/Week%205/Slab%20form%20braces/Analytical%20Approach%20Continued.mp3\"\n",
      "         type='audio/mp3'>\n",
      " <p>Your user agent does not support the HTML5 Audio element or the files are missing.</p>\n",
      "</audio>"
     ]
    },
    {
     "cell_type": "markdown",
     "metadata": {
      "slideshow": {
       "slide_type": "-"
      }
     },
     "source": [
      "As before, for braces spaced at 4 ft on center, the horizontal load is,\n",
      "\n",
      "$P_{hor} = w_{hor} \\times s_{brace}$\n",
      "\n",
      "$P_{hor} = 207 plf \\times 4 ft$\n",
      "\n",
      "$P_{hor} = 828 lbs$\n",
      "\n",
      "Remember that this is the **horizontal** load and we need to adjust it for the angle of the brace.\n",
      "\n",
      "**For Example:**\n",
      "\n",
      "<a href = \"http://i.imgur.com/EWHj3eh.png\"><img src=\"http://i.imgur.com/EWHj3eh.png\" alt = \"Braced Slab\" Title = \"Braced Slab\"style=\"max-width:300px; max-height:300px; border:1px solid blue; float:left; margin-right:3px;\"/></a>\n",
      "\n",
      "$$T_{br} = \\frac{P_{hor}}{\\cos(\\theta)}$$\n",
      "\n",
      "$$T_{br} = \\frac{828 lbs}{\\cos(45^{\\circ})}$$\n",
      "\n",
      "$$T_{br} = 1,171 lbs$$\n",
      "\n",
      "*(Click the blue down arrow for an alternative way to calculate $T_{br}$.)*"
     ]
    },
    {
     "cell_type": "markdown",
     "metadata": {
      "slideshow": {
       "slide_type": "subslide"
      }
     },
     "source": [
      "<audio controls data-autoplay preload>\n",
      " <source src=\"https://github.com/damontallen/Construction-Lectures-Fall-2014/raw/master/Lecture%20Audio/Week%205/Slab%20form%20braces/%20Alternative%20way%20to%20calculate%20Tbr.mp3\"\n",
      "         type='audio/mp3'>\n",
      " <p>Your user agent does not support the HTML5 Audio element or the files are missing.</p>\n",
      "</audio>"
     ]
    },
    {
     "cell_type": "markdown",
     "metadata": {
      "slideshow": {
       "slide_type": "-"
      }
     },
     "source": [
      "Or alternatively,\n",
      "\n",
      "$$T_{br} = P_{hor} \\times \\frac{L_{br}}{hor}$$\n",
      "\n",
      "Where:\n",
      "\n",
      "$hor$ - is the horizontal distance that the brace goes from left to right $(8ft)$\n",
      "\n",
      "$L_{br} = \\sqrt{(8 ft)^2+(8 ft)^2} = 11.314 ft$\n",
      "\n",
      "$$T_{br} = 828 lbs \\times \\frac{11.314 ft}{8 ft}$$\n",
      "\n",
      "$$T_{br} = 1,171 lbs$$\n",
      "\n",
      "*(Click on the left blue arrow to continue designing the brace.)*"
     ]
    },
    {
     "cell_type": "heading",
     "level": 2,
     "metadata": {
      "slideshow": {
       "slide_type": "slide"
      }
     },
     "source": [
      "Design the Brace"
     ]
    },
    {
     "cell_type": "markdown",
     "metadata": {
      "slideshow": {
       "slide_type": "-"
      }
     },
     "source": [
      "<audio controls data-autoplay preload>\n",
      " <source src=\"https://github.com/damontallen/Construction-Lectures-Fall-2014/raw/master/Lecture%20Audio/Week%205/Slab%20form%20braces/Design%20the%20Brace.mp3\"\n",
      "         type='audio/mp3'>\n",
      " <p>Your user agent does not support the HTML5 Audio element or the files are missing.</p>\n",
      "</audio>"
     ]
    },
    {
     "cell_type": "markdown",
     "metadata": {
      "slideshow": {
       "slide_type": "-"
      }
     },
     "source": [
      "At this point we might as well finish the brace design.  Let's use a No.2 Non Dense, Southern Pine 2x4 for the brace, and fasten it with 16d duplex double headed nails.  If we have the braces nailed at a 45$^o$ angle then their length needs to be,\n",
      "\n",
      "$$L = \\sqrt{(8 ft)^2 + (8 ft)^2 } = 11.314 ft$$\n",
      "\n",
      "$$L = 11.314 ft \\approx 11' - 4\" = 136 in$$"
     ]
    },
    {
     "cell_type": "code",
     "collapsed": false,
     "input": [
      "from numpy import sqrt, floor, ceil\n",
      "L = 8*sqrt(2)\n",
      "inches = (L-11)*12\n",
      "print(\"L = %.3f ft\"%L)\n",
      "print(\"%g ft %.2f in\"%(floor(L),inches))\n",
      "print(\"L = %g inches\"%ceil(L*12))"
     ],
     "language": "python",
     "metadata": {
      "slideshow": {
       "slide_type": "skip"
      }
     },
     "outputs": [
      {
       "output_type": "stream",
       "stream": "stdout",
       "text": [
        "L = 11.314 ft\n",
        "11 ft 3.76 in\n",
        "L = 136 inches\n"
       ]
      }
     ],
     "prompt_number": 1
    },
    {
     "cell_type": "code",
     "collapsed": false,
     "input": [
      "%run Beams/Timber_beam_v_02.py\n",
      "brace = Timber_Beam()"
     ],
     "language": "python",
     "metadata": {
      "slideshow": {
       "slide_type": "skip"
      }
     },
     "outputs": [
      {
       "output_type": "stream",
       "stream": "stdout",
       "text": [
        "In order to display plots inline in the IPython notebook you must include the following magic command:\n",
        "%matplotlib inline\n",
        "If you need to display plot you will need to used the following commmand"
       ]
      },
      {
       "output_type": "stream",
       "stream": "stdout",
       "text": [
        "\n",
        "%matplotlib inline\n",
        "\n",
        "Note: The atribute 'pick_list' is now available_grades (added Jan, 6, 2014)\n"
       ]
      }
     ],
     "prompt_number": 2
    },
    {
     "cell_type": "code",
     "collapsed": false,
     "input": [
      "brace.list_wood()"
     ],
     "language": "python",
     "metadata": {
      "slideshow": {
       "slide_type": "skip"
      }
     },
     "outputs": [
      {
       "output_type": "stream",
       "stream": "stdout",
       "text": [
        "'ALASKA CEDAR'               'ALASKA HEMLOCK'             'ALASKA SPRUCE'             \n",
        "'ALASKA YELLOW CEDAR'        'ASPEN'                      'BALDCYPRESS'               \n",
        "'BEECH-BIRCH-HICKORY'        'COTTONWOOD'                 'DOUGLAS FIR-LARCH'         \n",
        "'DOUGLAS FIR-LARCH (NORTH)'  'DOUGLAS FIR-SOUTH'          'EASTERN HEMLOCK-BALSAM FIR'\n",
        "'EASTERN HEMLOCK-TAMARACK'   'EASTERN SOFTWOODS'          'EASTERN WHITE PINE'        \n",
        "'HEM-FIR'                    'HEM-FIR (NORTH)'            'MIXED MAPLE'               \n",
        "'MIXED OAK'                  'NORTHERN RED OAK'           'NORTHERN SPECIES'          \n",
        "'NORTHERN WHITE CEDAR'       'RED MAPLE'                  'RED OAK'                   \n",
        "'REDWOOD'                    'SOUTHERN PINE'              'SPRUCE-PINE-FIR'           \n",
        "'SPRUCE-PINE-FIR (SOUTH)'    'WESTERN CEDARS'             'WESTERN WOODS'             \n",
        "'WHITE OAK'                  'YELLOW POPLAR'              "
       ]
      }
     ],
     "prompt_number": 3
    },
    {
     "cell_type": "code",
     "collapsed": false,
     "input": [
      "brace.species = 'SOUTHERN PINE'"
     ],
     "language": "python",
     "metadata": {
      "slideshow": {
       "slide_type": "skip"
      }
     },
     "outputs": [],
     "prompt_number": 4
    },
    {
     "cell_type": "code",
     "collapsed": false,
     "input": [
      "brace.available_grades"
     ],
     "language": "python",
     "metadata": {
      "slideshow": {
       "slide_type": "skip"
      }
     },
     "outputs": [
      {
       "output_type": "stream",
       "stream": "stdout",
       "text": [
        "For 2\u201d-4\u201d wide material\n",
        "['Dense Select Structural', 'Select Structural', 'Non-Dense Select Structural', 'No. 1 Dense', 'No. 1', 'No. 1 Non-Dense', 'No. 2 Dense', 'No. 2', 'No. 2 Non-Dense', 'No. 3 and Stud']\n"
       ]
      }
     ],
     "prompt_number": 5
    },
    {
     "cell_type": "code",
     "collapsed": false,
     "input": [
      "brace.grade = 'No. 2 Non-Dense'"
     ],
     "language": "python",
     "metadata": {
      "slideshow": {
       "slide_type": "skip"
      }
     },
     "outputs": [],
     "prompt_number": 6
    },
    {
     "cell_type": "code",
     "collapsed": false,
     "input": [
      "brace.b = 1.5 #in\n",
      "brace.d = 3.5 #in\n",
      "brace.C_D = 1.25\n",
      "brace.T = 1171 #lbs\n",
      "\n",
      "from numpy import sqrt, ceil, floor\n",
      "brace.span = ceil(sqrt(2)*8*12)/12"
     ],
     "language": "python",
     "metadata": {
      "slideshow": {
       "slide_type": "skip"
      }
     },
     "outputs": [],
     "prompt_number": 7
    },
    {
     "cell_type": "markdown",
     "metadata": {
      "slideshow": {
       "slide_type": "-"
      }
     },
     "source": [
      "The final brace geometry based on the length and information from Table 1B in the Timber NDS is,"
     ]
    },
    {
     "cell_type": "code",
     "collapsed": false,
     "input": [
      "brace.geometry_latex"
     ],
     "language": "python",
     "metadata": {
      "slideshow": {
       "slide_type": "-"
      }
     },
     "outputs": [
      {
       "latex": [
        "$$b = 1.50\" \\text{, }d = 3.50\" \\text{, }A = 5.25 in^2 \\text{, }S = 3.06 in^3 \\text{, }I = 5.36 in^4 \\text{, }L = 11.33'  = 136.00\"$$"
       ],
       "metadata": {},
       "output_type": "pyout",
       "prompt_number": 8,
       "text": [
        "<IPython.core.display.Latex at 0x7fd0a9edb940>"
       ]
      }
     ],
     "prompt_number": 8
    },
    {
     "cell_type": "heading",
     "level": 2,
     "metadata": {
      "slideshow": {
       "slide_type": "slide"
      }
     },
     "source": [
      "Allowable Tension Stress"
     ]
    },
    {
     "cell_type": "markdown",
     "metadata": {
      "slideshow": {
       "slide_type": "-"
      }
     },
     "source": [
      "<audio controls data-autoplay preload>\n",
      " <source src=\"https://github.com/damontallen/Construction-Lectures-Fall-2014/raw/master/Lecture%20Audio/Week%205/Slab%20form%20braces/Allowable%20Tension%20Stress.mp3\"\n",
      "         type='audio/mp3'>\n",
      " <p>Your user agent does not support the HTML5 Audio element or the files are missing.</p>\n",
      "</audio>"
     ]
    },
    {
     "cell_type": "markdown",
     "metadata": {
      "slideshow": {
       "slide_type": "-"
      }
     },
     "source": [
      "And based on the unmodified allowable tension stress from Table 4B (Southern Pine), and the adjustment factors found in Table 4.3.1, the allowable tension stress is,"
     ]
    },
    {
     "cell_type": "code",
     "collapsed": false,
     "input": [
      "brace.F_t_latex"
     ],
     "language": "python",
     "metadata": {
      "slideshow": {
       "slide_type": "-"
      }
     },
     "outputs": [
      {
       "latex": [
        "$$F_t' = F_t \\times C_D \\times C_M \\times C_t \\times C_F \\times C_i$$ \n",
        "$${}$$\n",
        " $$F_t' = 775 psi \\times 1.25 \\times 1 \\times 1 \\times 1 \\times 1$$ \n",
        "$${}$$\n",
        " $$F_t' = 968.75 psi$$"
       ],
       "metadata": {},
       "output_type": "pyout",
       "prompt_number": 9,
       "text": [
        "<IPython.core.display.Latex at 0x7fd0a9edb908>"
       ]
      }
     ],
     "prompt_number": 9
    },
    {
     "cell_type": "heading",
     "level": 2,
     "metadata": {
      "slideshow": {
       "slide_type": "slide"
      }
     },
     "source": [
      "Actual Stress"
     ]
    },
    {
     "cell_type": "markdown",
     "metadata": {
      "slideshow": {
       "slide_type": "-"
      }
     },
     "source": [
      "<audio controls data-autoplay preload>\n",
      " <source src=\"https://github.com/damontallen/Construction-Lectures-Fall-2014/raw/master/Lecture%20Audio/Week%205/Slab%20form%20braces/Actual%20Stress.mp3\"\n",
      "         type='audio/mp3'>\n",
      " <p>Your user agent does not support the HTML5 Audio element or the files are missing.</p>\n",
      "</audio>"
     ]
    },
    {
     "cell_type": "markdown",
     "metadata": {
      "slideshow": {
       "slide_type": "-"
      }
     },
     "source": [
      "The actual tension stress is just the tension force divided by the cross sectional area of the brace."
     ]
    },
    {
     "cell_type": "code",
     "collapsed": false,
     "input": [
      "brace.f_t_latex"
     ],
     "language": "python",
     "metadata": {
      "slideshow": {
       "slide_type": "-"
      }
     },
     "outputs": [
      {
       "latex": [
        "$$f_t = \\frac{T}{A}$$  \n",
        "${}$\n",
        " $$f_t = \\frac{1171.00 lb}{5.25 in^2}$$ \n",
        "$${}$$\n",
        " $f_t = 223.05 psi$"
       ],
       "metadata": {},
       "output_type": "pyout",
       "prompt_number": 10,
       "text": [
        "<IPython.core.display.Latex at 0x7fd0a9edbda0>"
       ]
      }
     ],
     "prompt_number": 10
    },
    {
     "cell_type": "heading",
     "level": 2,
     "metadata": {
      "slideshow": {
       "slide_type": "slide"
      }
     },
     "source": [
      "Design Check"
     ]
    },
    {
     "cell_type": "markdown",
     "metadata": {
      "slideshow": {
       "slide_type": "-"
      }
     },
     "source": [
      "<audio controls data-autoplay preload>\n",
      " <source src=\"https://github.com/damontallen/Construction-Lectures-Fall-2014/raw/master/Lecture%20Audio/Week%205/Slab%20form%20braces/Design%20Check.mp3\"\n",
      "         type='audio/mp3'>\n",
      " <p>Your user agent does not support the HTML5 Audio element or the files are missing.</p>\n",
      "</audio>"
     ]
    },
    {
     "cell_type": "markdown",
     "metadata": {
      "slideshow": {
       "slide_type": "-"
      }
     },
     "source": [
      "To check the adequacy of the design we compare the allowable stress vs actual tension stress."
     ]
    },
    {
     "cell_type": "code",
     "collapsed": false,
     "input": [
      "brace.tension_adequacy_check_latex"
     ],
     "language": "python",
     "metadata": {
      "slideshow": {
       "slide_type": "-"
      }
     },
     "outputs": [
      {
       "latex": [
        "$$ F_t' = 968.75 psi \\geq f_t = 223.05 psi$$ \n",
        " $$\\textbf{This member is adequate in tension}$$"
       ],
       "metadata": {},
       "output_type": "pyout",
       "prompt_number": 11,
       "text": [
        "<IPython.core.display.Latex at 0x7fd0a9edb8d0>"
       ]
      }
     ],
     "prompt_number": 11
    },
    {
     "cell_type": "markdown",
     "metadata": {
      "slideshow": {
       "slide_type": "-"
      }
     },
     "source": [
      "And the allowable tension capacity of the brace is."
     ]
    },
    {
     "cell_type": "code",
     "collapsed": false,
     "input": [
      "brace.T_allow_latex"
     ],
     "language": "python",
     "metadata": {
      "slideshow": {
       "slide_type": "-"
      }
     },
     "outputs": [
      {
       "latex": [
        "$$T_{allow} = F_t' \\times A$$ \n",
        "$${}$$\n",
        " $$T_{allow} = 968.75 psi \\times 5.25 in^2$$ \n",
        "$${}$$\n",
        " $$T_{allow} = 5086 lbs$$"
       ],
       "metadata": {},
       "output_type": "pyout",
       "prompt_number": 12,
       "text": [
        "<IPython.core.display.Latex at 0x7fd0a9edbcc0>"
       ]
      }
     ],
     "prompt_number": 12
    },
    {
     "cell_type": "heading",
     "level": 2,
     "metadata": {
      "slideshow": {
       "slide_type": "slide"
      }
     },
     "source": [
      "Required Nails"
     ]
    },
    {
     "cell_type": "markdown",
     "metadata": {
      "slideshow": {
       "slide_type": "-"
      }
     },
     "source": [
      "<audio controls data-autoplay preload>\n",
      " <source src=\"https://github.com/damontallen/Construction-Lectures-Fall-2014/raw/master/Lecture%20Audio/Week%205/Slab%20form%20braces/Required%20Nails.mp3\"\n",
      "         type='audio/mp3'>\n",
      " <p>Your user agent does not support the HTML5 Audio element or the files are missing.</p>\n",
      "</audio>"
     ]
    },
    {
     "cell_type": "markdown",
     "metadata": {
      "slideshow": {
       "slide_type": "-"
      }
     },
     "source": [
      "Of course the 2x4 is just part of the design, and we need to find out how many nails we'll need in each end of the brace.\n",
      "\n",
      "In Table 11N of the NDS code book we'll need to look up the shear strength, $(Z)$, for a 16d common nail driven through a 1 $\\frac{1}{2}$\" thick, Southern Pine, 2x4.\n",
      "\n",
      "$$Z = 154 \\frac{lbs}{nail} \\text{ (Table 11N of Timber NDS)}$$"
     ]
    },
    {
     "cell_type": "markdown",
     "metadata": {
      "slideshow": {
       "slide_type": "-"
      }
     },
     "source": [
      "To find the allowable load on each nail in shear, we find the adjustment factors in the Timber NDS Table 10.3.1.\n",
      "\n",
      "$$Z' = Z \\times C_D \\times C_M \\times C_t \\times C_g \\times C_{\\Delta} \\times C_{eg} \\times C_{di} \\times C_{tn}$$\n",
      "\n",
      "Again, elimating the adjustment factors which are not used, we are left with:\n",
      "\n",
      "$$Z' = Z \\times C_D$$\n",
      "\n",
      "Where $C_D$ is for construction loading in this case, i.e. $C_D = 1.25$.\n",
      "\n",
      "$$Z' = 154 \\frac{lbs}{nail} \\times 1.25 = 192.5 \\frac{lbs}{nail}$$\n"
     ]
    },
    {
     "cell_type": "code",
     "collapsed": false,
     "input": [
      "#Nails\n",
      "T = brace.T\n",
      "Z = 154 #lbs SP 2x4 16d common\n",
      "C_D = brace.C_D\n",
      "Z_ = Z*C_D\n",
      "nails = T/Z_\n",
      "count = int(ceil(nails))\n",
      "print(\"To carry the required %.0f lb load,\"%T)\n",
      "print(\"With a capacity of %g lbs per nail,\"%Z_)\n",
      "print(\"we need %.2f nails so use %d nails on each end.\"%(nails,count))"
     ],
     "language": "python",
     "metadata": {
      "slideshow": {
       "slide_type": "skip"
      }
     },
     "outputs": [
      {
       "output_type": "stream",
       "stream": "stdout",
       "text": [
        "To carry the required 1171 lb load,\n",
        "With a capacity of 192.5 lbs per nail,\n",
        "we need 6.08 nails so use 7 nails on each end.\n"
       ]
      }
     ],
     "prompt_number": 13
    },
    {
     "cell_type": "heading",
     "level": 2,
     "metadata": {
      "slideshow": {
       "slide_type": "slide"
      }
     },
     "source": [
      "Connection Nail Count"
     ]
    },
    {
     "cell_type": "markdown",
     "metadata": {
      "slideshow": {
       "slide_type": "-"
      }
     },
     "source": [
      "<audio controls data-autoplay preload>\n",
      " <source src=\"https://github.com/damontallen/Construction-Lectures-Fall-2014/raw/master/Lecture%20Audio/Week%205/Slab%20form%20braces/Connection%20Nail%20Count.mp3\"\n",
      "         type='audio/mp3'>\n",
      " <p>Your user agent does not support the HTML5 Audio element or the files are missing.</p>\n",
      "</audio>"
     ]
    },
    {
     "cell_type": "markdown",
     "metadata": {
      "slideshow": {
       "slide_type": "-"
      }
     },
     "source": [
      "Finally, to find out how many nails we need at each end of the brace we just:\n",
      "\n",
      "<a href = \"http://i.imgur.com/AA17WYR.png\"><img src=\"http://i.imgur.com/AA17WYR.png\" alt = \"Nailed Brace\" Title  = \"Nailed Brace\" style=\"max-width:300px; max-height:300px; border:1px solid blue; float:left; margin-right:3px;\"/></a>\n",
      "\n",
      "<a href = \"http://i.imgur.com/ckIZX9N.png\"><img src=\"http://i.imgur.com/ckIZX9N.png\" alt = \"Duplex Double Headed Nail\" Title  = \"Duplex Double Headed Nail\" style=\"max-width:300px; max-height:300px;  float:right; margin-left:10px;\"/></a>\n",
      "\n",
      "$$ {\\small \\text{The number of nails needed}}=\\frac{\\small\\text{Tension}}{\\small\\text{Nail Capacity}} = \\frac{T}{Z'}$$\n",
      "\n",
      "$\\frac{1,171 lbs}{192.5 \\frac{lbs}{nail}} = 6.08 nails$\n",
      "\n",
      "So we might use 7 nails at each end.  However this is a lot of double headed nails at the end of a 2x4.   For constructibility reasons, you might want to use two braces at each end.  This will reduce the load on each brace and in turn reduce the number of nails to 4. Don't use 3 on one brace and 4 on the other because inevitably you will end up with 3 nails in each.  Generally I like to limit the number of nails in the end of each brace to no more than 6.  Simply because it is difficult to nail more than that in the congested environment that is typically under a slab form.  This also limits the number of holes in the shores and braces, which is better for reuse.\n",
      "\n",
      "$\\text{Use 2 sets of No. 2 Non Dense Southern Pine 2x4 braces on each end of the slab with 4) 16d }$\n",
      "$\\text{duplex double headed nails in both ends of each brace.}$\n",
      "\n",
      "*Note that nails are cheap, so I'll always round up when determining how many nails are needed.*"
     ]
    },
    {
     "cell_type": "heading",
     "level": 2,
     "metadata": {
      "slideshow": {
       "slide_type": "slide"
      }
     },
     "source": [
      "References:\n"
     ]
    },
    {
     "cell_type": "markdown",
     "metadata": {},
     "source": [
      "[Class website](https://ufl.instructure.com/courses/308516) *(Use this link to if you are taking the course on e-learning.)*\n",
      "\n",
      "[Github.io version of course website](http://damontallen.github.io/Construction-Lectures/) *(Do not use this link if you are taking this course in Summer A or B.)*\n",
      "\n",
      "[IPython.org](http://ipython.org/) *(IPython is the opensource software used in the development of much of this course.)*\n",
      "\n",
      "[Complete Software List](http://nbviewer.ipython.org/github/damontallen/Construction-Lectures-Fall-2014/blob/master/Resources.ipynb)"
     ]
    },
    {
     "cell_type": "markdown",
     "metadata": {
      "slideshow": {
       "slide_type": "skip"
      }
     },
     "source": [
      "CSS stylesheet\n",
      "\n",
      "<head>\n",
      "<style>\n",
      "important {font:italic bold 16px arial;}\n",
      ".missing {color:Red}\n",
      "fragment {color:LightBlue;}\n",
      "subslide {color:DarkBlue;}\n",
      "\n",
      ".rgt {float:right;}\n",
      "\n",
      ".lt {float:left;}\n",
      "\n",
      ".cnt {text-align:center; vertical-align:text-top;}\n",
      "\n",
      ".box { border:1px solid blue; float:left; margin-right:3px;}\n",
      "\n",
      ".max {max-width:300px; max-height:300px;}\n",
      "\n",
      ".fix {max-height:200px; max-width:200px;}\n",
      "\n",
      "</style>\n",
      "</head>\n",
      "\n",
      "    /* class = \"max box\" for img tags\n",
      "    \n",
      "    <audio controls data-autoplay preload>\n",
      "     <source src=\"https://github.com/damontallen/Construction-Lectures-Fall-2014/raw/master/Intro/FILE%20NAME.mp3\"\n",
      "             type='audio/mp3'>\n",
      "     <p><strong>Your user agent does not support the HTML5 Audio element or the files are missing.</strong></p>\n",
      "    </audio><a></a>\n",
      "    \n",
      "    */\n",
      "    class = \"max box\" == style=\"max-width:300px; max-height:300px; border:1px solid blue; float:left; margin-right:3px;\"\n",
      "    important == <strong><font style=\"font:italic bold 16px arial;\"> Text here </font></strong>\n",
      "    Example <important class=\"missing\">Video Placeholder</important>\n",
      "    \n",
      "    Picture Example\n",
      "    <a href = \"http://i.imgur.com/h7H0m0b.png\"><img src=\"http://i.imgur.com/h7H0m0b.png\" alt = \"Elevated Slab with Worker\" Title  = \"Elevated Slab with Worker\" style=\"max-width:300px; max-height:300px; border:1px solid blue; float:right; margin-left:10px;\"/></a>"
     ]
    }
   ],
   "metadata": {}
  }
 ]
}