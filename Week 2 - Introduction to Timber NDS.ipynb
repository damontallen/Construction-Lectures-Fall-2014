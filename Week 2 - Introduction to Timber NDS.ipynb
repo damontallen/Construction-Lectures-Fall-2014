{
 "metadata": {
  "name": "",
  "signature": "sha256:fb7ab5770bc05b64329b37a671d59db17403ab2fcaee185d3318de02b0ad4581"
 },
 "nbformat": 3,
 "nbformat_minor": 0,
 "worksheets": [
  {
   "cells": [
    {
     "cell_type": "heading",
     "level": 1,
     "metadata": {
      "slideshow": {
       "slide_type": "slide"
      }
     },
     "source": [
      "Introduction to Timber National Design Standards (NDS)"
     ]
    },
    {
     "cell_type": "markdown",
     "metadata": {
      "slideshow": {
       "slide_type": "-"
      }
     },
     "source": [
      "<iframe width=\"420\" height=\"315\" src=\"//www.youtube.com/embed/SHf8ON_6a4Q\" frameborder=\"0\" allowfullscreen></iframe>"
     ]
    },
    {
     "cell_type": "heading",
     "level": 2,
     "metadata": {
      "slideshow": {
       "slide_type": "slide"
      }
     },
     "source": [
      "Allowable Stress Design (ASD) vs LRFD"
     ]
    },
    {
     "cell_type": "markdown",
     "metadata": {
      "slideshow": {
       "slide_type": "-"
      }
     },
     "source": [
      "<audio controls data-autoplay preload>\n",
      " <source src=\"https://github.com/damontallen/Construction-Lectures-Fall-2014/raw/master/Lecture%20Audio/Week%202/Intro%20to%20Timber%20NDS/ADS%20vs%20LRFD.mp3\"\n",
      "     type='audio/mp3'>\n",
      " <p><strong>Your user agent does not support the HTML5 Audio element or the files are missing.</strong></p>\n",
      "</audio>"
     ]
    },
    {
     "cell_type": "markdown",
     "metadata": {
      "slideshow": {
       "slide_type": "-"
      }
     },
     "source": [
      "Load Resistance Factored Design (LRFD) is a newer design method but it is not always better.  Allowable Stress Design is simple, easy to understand and easier to use.  A typical LRFD equation looks something like this:\n",
      "\n",
      "$$1.2 M_D + 1.6 M_L = \\phi M_n$$\n",
      "\n",
      "Where as an ASD equation would look something like this:\n",
      "\n",
      "$$ M_D +  M_L = C \\times M_n$$\n",
      "$$ M_{total} = C \\times M_n$$\n",
      "\n",
      "The load factors and $\\phi$ factor from LRFD are combined into a simple adjustment factor.  Additionally because there are not any load factors, all the loads can be combined into a single load.  \n",
      "\n",
      "Technically $C$ is not typically a single adjustment factor, but it can be; and when it isn't it is simply a product of a series of simple adjustment factors that are mostly just looked up in tables.\n",
      "\n",
      "Simple ... easy."
     ]
    },
    {
     "cell_type": "heading",
     "level": 2,
     "metadata": {
      "slideshow": {
       "slide_type": "slide"
      }
     },
     "source": [
      "Important Tables in Timber NDS and Supplement"
     ]
    },
    {
     "cell_type": "markdown",
     "metadata": {
      "slideshow": {
       "slide_type": "-"
      }
     },
     "source": [
      "<audio controls data-autoplay preload>\n",
      " <source src=\"https://github.com/damontallen/Construction-Lectures-Fall-2014/raw/master/Lecture%20Audio/Week%202/Intro%20to%20Timber%20NDS/Important%20Tables%20in%20NDS%20and%20Supp.mp3\"\n",
      "     type='audio/mp3'>\n",
      " <p>Your user agent does not support the HTML5 Audio element or the files are missing.</p>\n",
      "</audio>\n",
      "\n",
      "<strong style=\"color:green\">CHANGE THIS AUDIO</STRONG>\n",
      "\n",
      "* Changed 2005 to 2015 - twice\n",
      "* Check **ALL** page numbers"
     ]
    },
    {
     "cell_type": "markdown",
     "metadata": {
      "slideshow": {
       "slide_type": "-"
      }
     },
     "source": [
      "You should be aware that the Timber NDS and Supplement are contained within one book in the 2015 Timber Code.  When you get your code book you will find that around page 268 <strong style=\"color:green\">(Check this page number)</STRONG> of the NDS there is a folded tab that is the front cover of the Supplement.  The page numbers restart again in the Supplement.  (Alternatively, the [2015 Timber Supplement](http://www.awc.org/pdf/AWC_NDS-2015-Supplement_web-viewonly_1411.pdf) is available as a free pdf.)\n",
      "\n",
      "Because you will be using a few section out of the Timber NDS and Supplement so much it would be a good idea and place post-it note tabs at the following tables for quick reference.  \n",
      "\n",
      "From the NDS\n",
      "\n",
      "* Section 3.7.1 - Column Stability Factor $C_P$ - page 19\n",
      "* Table 4.3.1 - Applicability of Adjustment Factors for Sawn Lumber - page 27\n",
      "* Table 10.3.1 - Applicability of Adjustment Factors for Connections - page 58\n",
      "* Table 11N - Common Wire, Box, or Sinker Nails: Reference Lateral Design Values - page 97\n",
      "* Table L4 in Appendix A - Standard, Common, Box, and Sinker Nails - page 167\n",
      "\n",
      "From the Supplement\n",
      "\n",
      "* Table 1B - Section Properties of Standard Dressed (S4S) Sawn Lumber - page 14\n",
      "* Table 4A - Reference Design Values for Visually Graded Dimension Lumber (2\" - 4\" thick) - page 30\n",
      "* Table 4B - Reference Design Values for Visually Graded Southern Pine Dimension Lumber (2\" - 4\" thick) - page 37 (also look at 38)\n",
      "* Table 4D - Reference Design Values for Visually Graded Dimension Lumber (5\" x 5\" and Larger) - page 44"
     ]
    },
    {
     "cell_type": "heading",
     "level": 2,
     "metadata": {
      "slideshow": {
       "slide_type": "slide"
      }
     },
     "source": [
      "Tables 4A, 4B, and 4D of the Supplement"
     ]
    },
    {
     "cell_type": "markdown",
     "metadata": {
      "slideshow": {
       "slide_type": "-"
      }
     },
     "source": [
      "<audio controls data-autoplay preload>\n",
      " <source src=\"https://github.com/damontallen/Construction-Lectures-Fall-2014/raw/master/Lecture%20Audio/Week%202/Intro%20to%20Timber%20NDS/Table%204A%2C%204B%2C%20and%204D.mp3\"\n",
      "     type='audio/mp3'>\n",
      " <p>Your user agent does not support the HTML5 Audio element or the files are missing.</p>\n",
      "</audio>\n",
      "\n",
      "<strong style=\"color:green\">CHANGE THIS AUDIO</STRONG>\n",
      "\n",
      "* Changed 2005 to 2015 - once"
     ]
    },
    {
     "cell_type": "markdown",
     "metadata": {
      "slideshow": {
       "slide_type": "-"
      }
     },
     "source": [
      "Table 4B is for is for Southern Pine lumber that is 2\" to 4\" thick.  Table 4A is for all other lumber that is 2\" to 4\" thick.  Table 4D is for members that are 5\"x5\" or larger.  When you use these tables you will need to know the species, the grade, and the size of the member in question.  In Table 4D the size classification is based on the use case and is either \"Post and Timber\" or \"Beams and Stingers\".  An excerpt from Table 4A from the [Timber Supplement](http://www.awc.org/pdf/AWC_NDS-2015-Supplement_web-viewonly_1411.pdf) is seen below."
     ]
    },
    {
     "cell_type": "markdown",
     "metadata": {
      "slideshow": {
       "slide_type": "-"
      }
     },
     "source": [
      "<a></a>\n",
      "<table class=\"nar\">\n",
      "<caption><strong>Table 4A example - Reference Design Values for Visually Graded Dimension Lumber (2\" - 4\" thick)</strong></caption>\n",
      "<tr>\n",
      "  <th rowspan=\"3\" class=\"nar_cell\">Species and commercial grade</th>\n",
      "  <th rowspan=\"3\" class=\"nar_cell\">Size classification</th>\n",
      "  <th rowspan=\"1\" colspan=\"7\" >Design values in pounds per square inch (psi)</th>\n",
      "  <th rowspan=\"3\" class=\"nar_cell\">Grading Rules Agency</th>\n",
      "</tr>\n",
      "<tr>\n",
      "  <th rowspan=\"2\">Bending $F_b$</th>\n",
      "  <th rowspan=\"2\" class=\"nar_cell\">Tension parallel to grain $F_t$</th>\n",
      "  <th rowspan=\"2\" class=\"nar_cell\">Shear parallel to grin $F_v$</th>\n",
      "  <th rowspan=\"2\" class=\"nar_cell\">Compression perpendicular to grain $F_{c \\perp}$</th>\n",
      "  <th rowspan=\"2\" class=\"nar_cell\" >Compression parallel to grain $F_c$</th>  \n",
      "  <th rowspan=\"1\" colspan=\"2\">Modulus of Elasticity</th>    \n",
      "</tr>\n",
      "<tr>\n",
      "<th>$E$</th>\n",
      "<th>$E_{min}$</th>\n",
      "</tr>\n",
      "<tr><th colspan=\"2\" bgcolor=\"#000000\" ><font color=\"#FFFFFF\">ALASKA CEDAR</font></th><td colspan=\"8\"></td></tr>\n",
      "<tr><td>Select Structural</td><td rowspan=\"4\">2\" & wider</td>\n",
      "  <td>1,150</td>\n",
      "  <td><font color=\"red\">625</font></td>\n",
      "  <td>165</td>\n",
      "  <td>525</td>\n",
      "  <td>1,000</td>\n",
      "  <td>1,400,000</td>\n",
      "  <td>510,000</td><td rowspan=\"8\">WCLIB</td></tr>\n",
      "<tr><td>No.1</td>\n",
      "  <td>975</td>\n",
      "  <td>525</td>\n",
      "  <td>165</td>\n",
      "  <td>525</td>\n",
      "  <td>900</td>\n",
      "  <td>1,300,000</td>\n",
      "  <td>470,000</td>\n",
      "</tr>\n",
      "<tr><td>No.2</td>  \n",
      "  <td><font color = \"red\">800</font></td>\n",
      "  <td>425</td>\n",
      "  <td>165</td>\n",
      "  <td>525</td>\n",
      "  <td>750</td>\n",
      "  <td><font color = \"red\">1,200,000</font></td>\n",
      "  <td>440,000</td>\n",
      "</tr>\n",
      "<tr><td>No.3</td>\n",
      "  <td>450</td>\n",
      "  <td>250</td>\n",
      "  <td>165</td>\n",
      "  <td>525</td>\n",
      "  <td>425</td>\n",
      "  <td>1,100,000</td>\n",
      "  <td>400,000</td>\n",
      "</tr>\n",
      "<tr bgcolor=lightgrey><td>Stud</td><td>2\" & wider</td>  \n",
      "  <td>625</td>\n",
      "  <td>350</td>\n",
      "  <td>165</td>\n",
      "  <td>525</td>\n",
      "  <td>475</td>\n",
      "  <td>1,100,000</td>\n",
      "  <td>400,000</td>\n",
      "</tr>\n",
      "<tr bgcolor=grey><td>Construction</td><td rowspan=\"3\">2\" - 4\" & wider</td>\n",
      "  <td>900</td>\n",
      "  <td>500</td>\n",
      "  <td>165</td>\n",
      "  <td>525</td>\n",
      "  <td>950</td>\n",
      "  <td>1,200,000</td>\n",
      "  <td>440,000</td>\n",
      "</tr>\n",
      "<tr bgcolor=grey><td>Standard</td>\n",
      "  <td>500</td>\n",
      "  <td>275</td>\n",
      "  <td>165</td>\n",
      "  <td>525</td>\n",
      "  <td>775</td>\n",
      "  <td>1,100,000</td>\n",
      "  <td>400,000</td>\n",
      "</tr>\n",
      "<tr bgcolor=grey><td>Utility</td>\n",
      "  <td>250</td>\n",
      "  <td>125</td>\n",
      "  <td>165</td>\n",
      "  <td>525</td>\n",
      "  <td>500</td>\n",
      "  <td>1,000,000</td>\n",
      "  <td>370,000</td>\n",
      "</tr>\n",
      "</table>"
     ]
    },
    {
     "cell_type": "markdown",
     "metadata": {
      "slideshow": {
       "slide_type": "-"
      }
     },
     "source": [
      "[Source: 2015 Timber Supplement](http://www.awc.org/pdf/AWC_NDS-2015-Supplement_web-viewonly_1411.pdf)\n",
      "\n",
      "*(Press the blue down arrow for information about at Table 4B.)*"
     ]
    },
    {
     "cell_type": "heading",
     "level": 3,
     "metadata": {
      "slideshow": {
       "slide_type": "subslide"
      }
     },
     "source": [
      "Southern Pine"
     ]
    },
    {
     "cell_type": "markdown",
     "metadata": {
      "slideshow": {
       "slide_type": "-"
      }
     },
     "source": [
      "<audio controls data-autoplay preload>\n",
      " <source src=\"https://github.com/damontallen/Construction-Lectures-Fall-2014/raw/master/Lecture%20Audio/Week%202/Intro%20to%20Timber%20NDS/Southern%20Pine.mp3\"\n",
      "     type='audio/mp3'>\n",
      " <p>Your user agent does not support the HTML5 Audio element or the files are missing.</p>\n",
      "</audio>\n",
      "\n",
      "<strong style=\"color:green\">CHANGE THIS AUDIO</STRONG>\n",
      "\n",
      "* Changed 2005 to 2015 - once\n",
      "* Check page number"
     ]
    },
    {
     "cell_type": "markdown",
     "metadata": {
      "slideshow": {
       "slide_type": "-"
      }
     },
     "source": [
      "If you use Firefox or Chrome and installed one of the following extensions you can hover your mouse over the table to see a large view of Table 4B.\n",
      "\n",
      "* Firefox - [Thumbnail Zoom Plus](https://addons.mozilla.org/en-US/firefox/addon/thumbnail-zoom-plus/?src=search)\n",
      "* Chrome - [Imagus](https://chrome.google.com/webstore/detail/imagus/immpkjjlgappgfkkfieppnmlhakdmaab?hl=en-US)\n",
      "\n",
      "You can also right click on it and open the link in a new tab to see a large view."
     ]
    },
    {
     "cell_type": "markdown",
     "metadata": {
      "slideshow": {
       "slide_type": "-"
      }
     },
     "source": [
      "\n",
      "\n",
      "<a href=\"http://imgur.com/nFG8mWw\"><img src=\"http://i.imgur.com/nFG8mWw.png\" title=\"Table 4B\" style=\"max-width:300px; max-height:300px; border:1px solid blue; float:left; margin-right:3px;\"/></a>\n"
     ]
    },
    {
     "cell_type": "markdown",
     "metadata": {
      "slideshow": {
       "slide_type": "-"
      }
     },
     "source": [
      "\n",
      "[Source: 2015 Timber Supplement - page 38](http://www.awc.org/pdf/AWC_NDS-2015-Supplement_web-viewonly_1411.pdf)\n",
      "\n",
      "Table 4B is different than 4A in that it only covers Southern Pine and you'll see that the values are divided further based on the member size.  For instance a No.2 2x4 has a bending stress, $F_b = 1,500 psi$, while a No.2 2x6 has a $F_b = 1,250 psi$.\n",
      "\n",
      "*(Click the blue down arrow to continue learning how to use Tables 4A, 4B, and 4D.)*"
     ]
    },
    {
     "cell_type": "heading",
     "level": 3,
     "metadata": {
      "slideshow": {
       "slide_type": "subslide"
      }
     },
     "source": [
      "Adjustment Factors Listed at the Beginning of Tables"
     ]
    },
    {
     "cell_type": "markdown",
     "metadata": {
      "slideshow": {
       "slide_type": "-"
      }
     },
     "source": [
      "<audio controls data-autoplay preload>\n",
      " <source src=\"https://github.com/damontallen/Construction-Lectures-Fall-2014/raw/master/Lecture%20Audio/Week%202/Intro%20to%20Timber%20NDS/Adjustment%20Factors%20-%20from%20supplement.mp3\"\n",
      "     type='audio/mp3'>\n",
      " <p>Your user agent does not support the HTML5 Audio element or the files are missing.</p>\n",
      "</audio>\n",
      "\n",
      "<strong style=\"color:green\">CHANGE THIS AUDIO</STRONG>\n",
      "\n",
      "* Check page number\n"
     ]
    },
    {
     "cell_type": "markdown",
     "metadata": {
      "slideshow": {
       "slide_type": "-"
      }
     },
     "source": [
      "Look at the adjustment factors for Table 4A (page 30 of the [Supplement](http://www.awc.org/pdf/AWC_NDS-2015-Supplement_web-viewonly_1411.pdf))\n",
      "\n",
      "* $C_F$ - Size Factor\n",
      "  * Example - for a No.1 grade 4x6 member $C_F$ for bending $(F_b)$ is 1.3\n",
      "  * Example - for a No.3 grade 2x2 member $C_F$ for bending $(F_b)$ is 1.5\n",
      "  * Example - for a No.2 grade 8\" wide $(7 \\frac{1}{4}\" \\text{wide})$ member, like a 2x8, $C_F$ for tension $(F_t)$ is 1.2\n",
      "  * Example - for a No.2 grade 4\" wide $(3 \\frac{1}{2}\" \\text{wide})$member, like a 2x4, $C_F$ for tension $(F_c)$ is 1.15\n",
      "  * Example - for a Stud grade 4x6 wide member $C_F$ for tension $(F_t)$ is 1.0\n",
      "* $C_M$ - Wet Service Factor, for when members are subject to wet service conditions\n",
      "  * Example - when looking at deflection (using $E$) and the member is subject to wet service conditions the value for $C_M$ is 0.9\n",
      "  * Example - when looking bending of at a wet member, $C_M$ for $F_b$ is 0.85;  \n",
      "    * ** *UNLESS* ** $F_b \\times C_F \\leq 1,150 psi$ which in that case $C_M = 1.0$\n",
      "  * Also watch out for loading in compression parallel to grain when $F_c \\times C_F \\leq 750 psi$\n",
      "* $C_r$ - Simply put, if member spacing $\\leq 24\"$, and 3 or more members are connected via plywood then $C_r = 1.15$ else $C_r=1$\n",
      "* $C_{fu}$ - Flat Use Factor\n",
      "  * Example - A 2x8 loaded in bending on the 8\" wide face has a flat use factor equal to 1.15\n",
      "  * Example - A 2x6 loaded in bending on the 2\" wide face has a flat use factor equal to 1.0 \n",
      "    * Not a flat use case when loaded on the narrow edge\n",
      "    \n",
      "Not all of these adjustment factors are at the beginning of Table 4B and 4D.  For instance $C_F$ is not applied to any value in Table 4B if the member is not larger than 12\" in width.  $C_r$ is not even used in Table 4D and the values for Mixed Southern Pine in table 4D already has $C_M$ applied to them.  You need to use the appropriate adjustment values for the table you are using.\n",
      "\n",
      "*(Click on the blue right arrow to learn about where to find what Adjustment Factors you need.)*"
     ]
    },
    {
     "cell_type": "heading",
     "level": 2,
     "metadata": {
      "slideshow": {
       "slide_type": "slide"
      }
     },
     "source": [
      "Adjustment Factors in Table 4.3.1"
     ]
    },
    {
     "cell_type": "markdown",
     "metadata": {
      "slideshow": {
       "slide_type": "-"
      }
     },
     "source": [
      "<audio controls data-autoplay preload>\n",
      " <source src=\"https://github.com/damontallen/Construction-Lectures-Fall-2014/raw/master/Lecture%20Audio/Week%202/Intro%20to%20Timber%20NDS/Adjustment%20Factors%20-%20Table%204-3-1.mp3\"\n",
      "     type='audio/mp3'>\n",
      " <p>Your user agent does not support the HTML5 Audio element or the files are missing.</p>\n",
      "</audio>\n",
      "\n",
      "<strong style=\"color:green\">CHANGE THIS AUDIO</STRONG>\n",
      "\n",
      "* Changed 2005 to 2015 - once\n",
      "* Check page number"
     ]
    },
    {
     "cell_type": "markdown",
     "metadata": {
      "slideshow": {
       "slide_type": "-"
      }
     },
     "source": [
      "Go to page 27 of your 2015 Timber NDS and look at Table 4.3.1.  In where I've written \"info\" below *(scroll down)* you will see a description for the adjustment factor in that column. On the left most column you will see a symbol for the allowable stress for all the values that are found in the Supplement Tables 4A, 4B, and 4D.  \n",
      "\n",
      "For instance, the allowable bending stress is seen in the first row, $F_b'$ (read as \"F prime b\").  Based on Table 4.3.1 the value of $F_b'$ is found with this equation: \n",
      "\n",
      "$$ F_b' = F_b \\times C_D \\times C_M \\times C_t \\times C_L \\times C_F \\times C_{fu} \\times C_i \\times C_r$$\n",
      "\n",
      "\n",
      "We won't be using all of these adjustment factors all the time this semester but you should spend some time determining  what they are and where they can be found in the NDS and Supplement.  \n",
      "\n"
     ]
    },
    {
     "cell_type": "markdown",
     "metadata": {
      "slideshow": {
       "slide_type": "-"
      }
     },
     "source": [
      "<a href=\"http://imgur.com/kwRUNeh\"><img src=\"http://i.imgur.com/kwRUNeh.jpg\" title=\"Table 4.3.1\" style=\"max-width:300px; max-height:300px; border:1px solid blue; float:left; margin-right:3px;\"/></a>"
     ]
    },
    {
     "cell_type": "markdown",
     "metadata": {
      "slideshow": {
       "slide_type": "-"
      }
     },
     "source": [
      "*(Click the blue down arrow to learn more about adjustment factors.)*"
     ]
    },
    {
     "cell_type": "heading",
     "level": 3,
     "metadata": {
      "slideshow": {
       "slide_type": "subslide"
      }
     },
     "source": [
      "Load Duration Factor - $C_D$"
     ]
    },
    {
     "cell_type": "markdown",
     "metadata": {
      "slideshow": {
       "slide_type": "-"
      }
     },
     "source": [
      "<audio controls data-autoplay preload>\n",
      " <source src=\"https://github.com/damontallen/Construction-Lectures-Fall-2014/raw/master/Lecture%20Audio/Week%202/Intro%20to%20Timber%20NDS/Load%20Duration%20Factor.mp3\"\n",
      "     type='audio/mp3'>\n",
      " <p>Your user agent does not support the HTML5 Audio element or the files are missing.</p>\n",
      "</audio>"
     ]
    },
    {
     "cell_type": "markdown",
     "metadata": {
      "slideshow": {
       "slide_type": "-"
      }
     },
     "source": [
      "You should note that $C_D$ is commonly used in many equations and even though its values are found in Table 2.3.2 we will be mostly using 1.25, 1.0 and 1.6 (in the order of use frequency).  \n",
      "\n",
      "* 1.25 - is for typical construction loads that only last for 7 days or less\n",
      "* 1.0 - is for long term duration loading that is longer than 7 days or repeated loading that totals more than 7 days in duration\n",
      "* 1.6 - is wind loading\n",
      "\n",
      "You will always use the shortest duration load to determine which $C_D$ to use.  I will point out when you should use which value throughout the semester.\n",
      "\n",
      "*(Click the blue down arrow to learn about Factored Allowable Stress.)*"
     ]
    },
    {
     "cell_type": "heading",
     "level": 3,
     "metadata": {
      "slideshow": {
       "slide_type": "subslide"
      }
     },
     "source": [
      "Factored Allowable Stresses"
     ]
    },
    {
     "cell_type": "markdown",
     "metadata": {
      "slideshow": {
       "slide_type": "-"
      }
     },
     "source": [
      "<audio controls data-autoplay preload>\n",
      " <source src=\"https://github.com/damontallen/Construction-Lectures-Fall-2014/raw/master/Lecture%20Audio/Week%202/Intro%20to%20Timber%20NDS/Factored%20Allowable%20Stresses.mp3\"\n",
      "     type='audio/mp3'>\n",
      " <p>Your user agent does not support the HTML5 Audio element or the files are missing.</p>\n",
      "</audio>"
     ]
    },
    {
     "cell_type": "markdown",
     "metadata": {
      "slideshow": {
       "slide_type": "-"
      }
     },
     "source": [
      "The difference between the value $F_b'$ and $F_b$ is that $F_b'$ is the one you work with to solve bending problems.  It is very important that you always use the factored or \"prime\" version of the allowable stresses in equations.  If you have a question about an equation from the notes because you think it should be primed and it is not, then you are probably right, it should be prime.  \n",
      "\n",
      "You will be using:\n",
      "\n",
      "* $F_b'$\n",
      "* $F_t'$\n",
      "* $F_v'$\n",
      "* $F_c'$\n",
      "* $F_{c \\perp}'$\n",
      "* $E'$\n",
      "* $E_{min}'$\n",
      "\n",
      "throughout the semester.  Because of this you should spend some time figuring out what they are used for and which adjustment factors are applied to them (as well as where they can be found).  Read up on the adjustment factor names because I will periodically refer to them by name rather than symbol and the same goes for the allowable stresses.\n",
      "\n",
      "*(Click the blue right arrow to see links to the reference material used in this lecture.)*"
     ]
    },
    {
     "cell_type": "heading",
     "level": 2,
     "metadata": {},
     "source": [
      "References:"
     ]
    },
    {
     "cell_type": "markdown",
     "metadata": {
      "slideshow": {
       "slide_type": "slide"
      }
     },
     "source": [
      "[AWC 2015 Timber Supplement](http://www.awc.org/pdf/AWC_NDS-2015-Supplement_web-viewonly_1411.pdf)\n",
      "\n",
      "[AWC 2015 Timber NDS](http://www.awc.org/pdf/AWC_NDS-2015_web-viewonly_1411.pdf)\n",
      "\n",
      "[Class website](https://ufl.instructure.com/courses/314024) *(Use this link to if you are taking the course on e-learning.)*\n",
      "\n",
      "[Github.io version of course website](http://damontallen.github.io/Construction-Lectures-Fall-2014/) *(Do not use this link if you are taking this course in Summer A or B.)*\n",
      "\n",
      "[IPython.org](http://ipython.org/) *(IPython is the opensource software used in the development of much of this course.)*\n",
      "\n",
      "[Complete Software List](http://nbviewer.ipython.org/github/damontallen/Construction-Lectures-Fall-2014/blob/master/Resources.ipynb)"
     ]
    },
    {
     "cell_type": "markdown",
     "metadata": {
      "slideshow": {
       "slide_type": "skip"
      }
     },
     "source": [
      "CSS stylesheet\n",
      "\n",
      "<head>\n",
      "<style>\n",
      "important {font:italic bold 16px arial;}\n",
      ".missing {color:Red}\n",
      "fragment {color:LightBlue;}\n",
      "subslide {color:DarkBlue;}\n",
      "\n",
      ".rgt {float:right;}\n",
      "\n",
      ".lt {float:left;}\n",
      "\n",
      ".cnt {text-align:center; vertical-align:text-top;}\n",
      "\n",
      ".box { border:1px solid blue; float:left; margin-right:3px;}\n",
      "\n",
      ".max {max-width:300px; max-height:300px;}\n",
      "\n",
      ".fix {max-height:200px; max-width:200px;}\n",
      "\n",
      ".narb { width:54em; word-wrap: break-word; }\n",
      "\n",
      ".nar_cell { width:16em; word-wrap: break-word; }\n",
      "\n",
      "\n",
      "\n",
      "table \n",
      "{\n",
      "width:85%;\n",
      "\n",
      "}\n",
      "\n",
      "\n",
      "\n",
      "</style>\n",
      "</head>\n",
      "\n",
      "    /* class = \"max box\" for img tags\n",
      "    \n",
      "    <audio controls data-autoplay preload>\n",
      "     <source src=\"https://github.com/damontallen/Construction-Lectures-Fall-2014/raw/master/Intro/FILE%20NAME.mp3\"\n",
      "         type='audio/mp3'>\n",
      "     <p><strong>Your user agent does not support the HTML5 Audio element or the files are missing.</strong></p>\n",
      "    </audio><a></a>\n",
      "    \n",
      "    */\n",
      "    class = \"max box\" == style=\"max-width:300px; max-height:300px; border:1px solid blue; float:left; margin-right:3px;\""
     ]
    }
   ],
   "metadata": {}
  }
 ]
}