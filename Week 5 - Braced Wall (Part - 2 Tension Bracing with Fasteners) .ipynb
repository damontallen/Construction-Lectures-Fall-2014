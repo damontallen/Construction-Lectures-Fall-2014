{
 "metadata": {
  "name": "",
  "signature": "sha256:8beb8ff98dc537c5d6023f730c48f4b3ed7eea9ff4225658a2e5f452ef281648"
 },
 "nbformat": 3,
 "nbformat_minor": 0,
 "worksheets": [
  {
   "cells": [
    {
     "cell_type": "code",
     "collapsed": false,
     "input": [
      "%run Beams/Timber_beam_v_02.1.py"
     ],
     "language": "python",
     "metadata": {
      "slideshow": {
       "slide_type": "skip"
      }
     },
     "outputs": [
      {
       "output_type": "stream",
       "stream": "stdout",
       "text": [
        "In order to display plots inline in the IPython notebook you must include\n",
        "the following magic command:\n",
        "    %matplotlib inline\n",
        "If you need to display plot you will need to used the following commmand\n",
        "    %matplotlib inline\n",
        "Note: The atribute 'pick_list' is now available_grades (added Jan, 6, 2014)\n",
        "\n",
        "Now using 2015 Timber code by default"
       ]
      },
      {
       "output_type": "stream",
       "stream": "stdout",
       "text": [
        "\n"
       ]
      }
     ],
     "prompt_number": 1
    },
    {
     "cell_type": "heading",
     "level": 2,
     "metadata": {
      "slideshow": {
       "slide_type": "slide"
      }
     },
     "source": [
      "Tension Version"
     ]
    },
    {
     "cell_type": "markdown",
     "metadata": {
      "slideshow": {
       "slide_type": "-"
      }
     },
     "source": [
      "<iframe width=\"420\" height=\"315\" src=\"//www.youtube.com/embed/hiKsr4kot0k\" frameborder=\"0\" allowfullscreen></iframe>"
     ]
    },
    {
     "cell_type": "heading",
     "level": 2,
     "metadata": {
      "slideshow": {
       "slide_type": "slide"
      }
     },
     "source": [
      "Recap of the Problem"
     ]
    },
    {
     "cell_type": "markdown",
     "metadata": {
      "slideshow": {
       "slide_type": "-"
      }
     },
     "source": [
      "<audio controls data-autoplay preload>\n",
      " <source src=\"https://github.com/damontallen/Construction-Lectures-Fall-2014/raw/master/Lecture%20Audio/Week%205/Wall%20form%20braces%20part%202/Recap%20of%20the%20Problem.mp3\"\n",
      "         type='audio/mp3'>\n",
      " <p>Your user agent does not support the HTML5 Audio element or the files are missing.</p>\n",
      "</audio>"
     ]
    },
    {
     "cell_type": "markdown",
     "metadata": {
      "slideshow": {
       "slide_type": "-"
      }
     },
     "source": [
      "Designing the braces to act in tension allows us to use smaller, and more readily available members.  Let's rework the previous example using tension braces."
     ]
    },
    {
     "cell_type": "markdown",
     "metadata": {
      "slideshow": {
       "slide_type": "-"
      }
     },
     "source": [
      "Given: A wallform that is 10' high, expected to be exposed to a wind force of 20 psf, and is supported with tension braces at 4 feet on center.\n",
      "\n",
      "<a href=\"http://i.imgur.com/UFmHTcT.png\"><img src=\"http://i.imgur.com/UFmHTcT.png\"  style=\"max-width:300px; max-height:300px; border:1px solid blue;  float:left; margin-right:3px;\" alt = \"Braced Wall\"/></a>\n",
      "\n",
      "We need design for the same magnitude of axial load that was on the compression brace.\n",
      "\n"
     ]
    },
    {
     "cell_type": "markdown",
     "metadata": {
      "slideshow": {
       "slide_type": "-"
      }
     },
     "source": [
      "$$w_{hor} = p \\times h \\times \\left(\\frac{h/2}{h} \\right)$$\n",
      "$$w_{hor} = 20 psf \\times 10 ft \\left(\\frac{5 ft}{10 ft} \\right)$$\n",
      "$$w_{hor} = 100 plf$$\n",
      "\n",
      "$$T_{brace}=w_{hor} \\times \\frac{L_{brace}}{Hor} \\times W_{trib}$$\n",
      "\n",
      "$$L_{brace} = \\sqrt{Hor^2 + h^2} \\Rightarrow Hor = \\sqrt{L_{brace}^2 - h^2}$$\n",
      "\n",
      "$$Hor = \\sqrt{(16 ft)^2 - (10 ft)^2} = 12.5 ft$$\n",
      "$$T_{brace} = 100 plf \\times \\frac{16 ft}{12.5 ft} \\times 4 ft$$\n",
      "$$T_{brace} = 512.4 lb$$\n",
      "\n",
      "$$\\text{Or by using trigonometry: } T_{brace}=w_{hor} \\times \\cos(\\theta) \\times W_{trib}$$"
     ]
    },
    {
     "cell_type": "code",
     "collapsed": false,
     "input": [
      "from numpy import sqrt, ceil\n",
      "P_tot = 20*10 #total wind load\n",
      "w_hor = P_tot*5/10 #portion resisted by the brace\n",
      "hor = sqrt(16**2-10**2) #horizontal distance to the bottom of the brace\n",
      "T = w_hor *16/hor*4 #load on the brace\n",
      "print(\"The load is %.2f lbs and hor = %.2f ft\"%(T,hor))"
     ],
     "language": "python",
     "metadata": {
      "slideshow": {
       "slide_type": "skip"
      }
     },
     "outputs": [
      {
       "output_type": "stream",
       "stream": "stdout",
       "text": [
        "The load is 512.41 lbs and hor = 12.49 ft\n"
       ]
      }
     ],
     "prompt_number": 2
    },
    {
     "cell_type": "markdown",
     "metadata": {
      "slideshow": {
       "slide_type": "-"
      }
     },
     "source": [
      "Let's try a No.2 Douglas Fir-Larch in the smallest size readily available for the tension braces, a 2x4."
     ]
    },
    {
     "cell_type": "code",
     "collapsed": false,
     "input": [
      "brace = Timber_Beam()"
     ],
     "language": "python",
     "metadata": {
      "slideshow": {
       "slide_type": "skip"
      }
     },
     "outputs": [],
     "prompt_number": 3
    },
    {
     "cell_type": "code",
     "collapsed": false,
     "input": [
      "brace.d = 3.5 #in\n",
      "brace.b = 1.5 #in\n",
      "brace.span = 16 #ft\n",
      "brace.T = T"
     ],
     "language": "python",
     "metadata": {
      "slideshow": {
       "slide_type": "skip"
      }
     },
     "outputs": [],
     "prompt_number": 4
    },
    {
     "cell_type": "heading",
     "level": 2,
     "metadata": {
      "slideshow": {
       "slide_type": "slide"
      }
     },
     "source": [
      "Brace Geometry"
     ]
    },
    {
     "cell_type": "markdown",
     "metadata": {
      "slideshow": {
       "slide_type": "-"
      }
     },
     "source": [
      "<audio controls data-autoplay preload>\n",
      " <source src=\"https://github.com/damontallen/Construction-Lectures-Fall-2014/raw/master/Lecture%20Audio/Week%205/Wall%20form%20braces%20part%202/Brace%20Geometry.mp3\"\n",
      "         type='audio/mp3'>\n",
      " <p>Your user agent does not support the HTML5 Audio element or the files are missing.</p>\n",
      "</audio>"
     ]
    },
    {
     "cell_type": "markdown",
     "metadata": {
      "slideshow": {
       "slide_type": "-"
      }
     },
     "source": [
      "After looking in Table 1B the summary the geometry of the brace is,"
     ]
    },
    {
     "cell_type": "code",
     "collapsed": false,
     "input": [
      "brace.geometry_latex"
     ],
     "language": "python",
     "metadata": {
      "slideshow": {
       "slide_type": "-"
      }
     },
     "outputs": [
      {
       "latex": [
        "$$b = 1.50\" \\text{, }d = 3.50\" \\text{, }A = 5.25 in^2 \\text{, }S = 3.06 in^3 \\text{, }I = 5.36 in^4 \\text{, }$$ $$L = 16.00'  = 192.00\"$$"
       ],
       "metadata": {},
       "output_type": "pyout",
       "prompt_number": 5,
       "text": [
        "<IPython.core.display.Latex at 0x7f1382fd2be0>"
       ]
      }
     ],
     "prompt_number": 5
    },
    {
     "cell_type": "code",
     "collapsed": false,
     "input": [
      "brace.list_wood()"
     ],
     "language": "python",
     "metadata": {
      "slideshow": {
       "slide_type": "skip"
      }
     },
     "outputs": [
      {
       "output_type": "stream",
       "stream": "stdout",
       "text": [
        "'ALASKA CEDAR'               'ALASKA HEMLOCK'             'ALASKA SPRUCE'             \n",
        "'ALASKA YELLOW CEDAR'        'ASPEN'                      'BALDCYPRESS'               \n",
        "'BEECH-BIRCH-HICKORY'        'COAST SITKA SPRUCE'         'COTTONWOOD'                \n",
        "'DOUGLAS FIR-LARCH'          'DOUGLAS FIR-LARCH (NORTH)'  'DOUGLAS FIR-SOUTH'         \n",
        "'EASTERN HEMLOCK-BALSAM FIR' 'EASTERN HEMLOCK-TAMARACK'   'EASTERN SOFTWOODS'         \n",
        "'EASTERN WHITE PINE'         'HEM-FIR'                    'HEM-FIR (NORTH)'           \n",
        "'MIXED MAPLE'                'MIXED OAK'                  'NORTHERN RED OAK'          \n",
        "'NORTHERN SPECIES'           'NORTHERN WHITE CEDAR'       'RED MAPLE'                 \n",
        "'RED OAK'                    'REDWOOD'                    'SOUTHERN PINE'             \n",
        "'SPRUCE-PINE-FIR'            'SPRUCE-PINE-FIR (SOUTH)'    'WESTERN CEDARS'            \n",
        "'WESTERN WOODS'              'WHITE OAK'                  'YELLOW CEDAR'              \n",
        "'YELLOW POPLAR'              "
       ]
      }
     ],
     "prompt_number": 6
    },
    {
     "cell_type": "code",
     "collapsed": false,
     "input": [
      "brace.species = 'DOUGLAS FIR-LARCH' \n",
      "brace.available_grades"
     ],
     "language": "python",
     "metadata": {
      "slideshow": {
       "slide_type": "skip"
      }
     },
     "outputs": [
      {
       "output_type": "stream",
       "stream": "stdout",
       "text": [
        "['Select Structural', 'No.1 & Btr', 'No.1', 'No.2', 'No.3', 'Stud', 'Construction', 'Standard', 'Utility']\n"
       ]
      }
     ],
     "prompt_number": 7
    },
    {
     "cell_type": "code",
     "collapsed": false,
     "input": [
      "brace.grade = 'No.2'\n",
      "brace.C_D = 1.6"
     ],
     "language": "python",
     "metadata": {
      "slideshow": {
       "slide_type": "skip"
      }
     },
     "outputs": [],
     "prompt_number": 8
    },
    {
     "cell_type": "heading",
     "level": 3,
     "metadata": {
      "slideshow": {
       "slide_type": "slide"
      }
     },
     "source": [
      "Allowable Stress"
     ]
    },
    {
     "cell_type": "markdown",
     "metadata": {
      "slideshow": {
       "slide_type": "-"
      }
     },
     "source": [
      "<audio controls data-autoplay preload>\n",
      " <source src=\"https://github.com/damontallen/Construction-Lectures-Fall-2014/raw/master/Lecture%20Audio/Week%205/Wall%20form%20braces%20part%202/Allowable%20Stress.mp3\"\n",
      "         type='audio/mp3'>\n",
      " <p>Your user agent does not support the HTML5 Audio element or the files are missing.</p>\n",
      "</audio>"
     ]
    },
    {
     "cell_type": "markdown",
     "metadata": {
      "slideshow": {
       "slide_type": "-"
      }
     },
     "source": [
      "Since the this loading is due to wind pressure alone the load duration factor $C_D = 1.6$.  This is one of those few occasions in this course where $C_D \\ne 1.25$.\n",
      "\n",
      "Using the stress values and adjustment factors found in Table 4A (of the Supplement) we can calculate $F_t'$."
     ]
    },
    {
     "cell_type": "code",
     "collapsed": false,
     "input": [
      "brace.F_t_latex"
     ],
     "language": "python",
     "metadata": {
      "slideshow": {
       "slide_type": "-"
      }
     },
     "outputs": [
      {
       "latex": [
        "$$F_t' = F_t \\times C_D \\times C_M \\times C_t \\times C_F \\times C_i$$ \n",
        "$${}$$\n",
        " $$F_t' = 575 psi \\times 1.6 \\times 1 \\times 1 \\times 1.5 \\times 1$$ \n",
        "$${}$$\n",
        " $$F_t' = 1380 psi$$"
       ],
       "metadata": {},
       "output_type": "pyout",
       "prompt_number": 9,
       "text": [
        "<IPython.core.display.Latex at 0x7f1388bd6780>"
       ]
      }
     ],
     "prompt_number": 9
    },
    {
     "cell_type": "heading",
     "level": 3,
     "metadata": {
      "slideshow": {
       "slide_type": "slide"
      }
     },
     "source": [
      "Actual Stress"
     ]
    },
    {
     "cell_type": "markdown",
     "metadata": {
      "slideshow": {
       "slide_type": "-"
      }
     },
     "source": [
      "<audio controls data-autoplay preload>\n",
      " <source src=\"https://github.com/damontallen/Construction-Lectures-Fall-2014/raw/master/Lecture%20Audio/Week%205/Wall%20form%20braces%20part%202/Actual%20Stress.mp3\"\n",
      "         type='audio/mp3'>\n",
      " <p>Your user agent does not support the HTML5 Audio element or the files are missing.</p>\n",
      "</audio>"
     ]
    },
    {
     "cell_type": "markdown",
     "metadata": {
      "slideshow": {
       "slide_type": "-"
      }
     },
     "source": [
      "Using the tension load and the cross sectional area of a 2x4 we can find the actual tension stress $f_t$."
     ]
    },
    {
     "cell_type": "code",
     "collapsed": false,
     "input": [
      "brace.f_t_latex"
     ],
     "language": "python",
     "metadata": {
      "slideshow": {
       "slide_type": "-"
      }
     },
     "outputs": [
      {
       "latex": [
        "$$f_t = \\frac{T}{A}$$  \n",
        "$${}$$\n",
        " $$f_t = \\frac{512.4 lb}{5.250 in^2}$$ \n",
        "$${}$$\n",
        " $f_t = 97.60 psi$"
       ],
       "metadata": {},
       "output_type": "pyout",
       "prompt_number": 10,
       "text": [
        "<IPython.core.display.Latex at 0x7f1382fff6a0>"
       ]
      }
     ],
     "prompt_number": 10
    },
    {
     "cell_type": "markdown",
     "metadata": {
      "slideshow": {
       "slide_type": "-"
      }
     },
     "source": [
      "and comparing allowable vs actual of the brace we find that,\n",
      "\n",
      "$$F_t' = 1,380 psi > f_t = 97.6 psi \\text{ OK (by a factor of 14 times!)}$$"
     ]
    },
    {
     "cell_type": "code",
     "collapsed": false,
     "input": [
      "print(\"Factor of safety = %.2f\"%(brace.F_t_/brace.f_t))"
     ],
     "language": "python",
     "metadata": {
      "slideshow": {
       "slide_type": "skip"
      }
     },
     "outputs": [
      {
       "output_type": "stream",
       "stream": "stdout",
       "text": [
        "Factor of safety = 14.14\n"
       ]
      }
     ],
     "prompt_number": 11
    },
    {
     "cell_type": "heading",
     "level": 2,
     "metadata": {
      "slideshow": {
       "slide_type": "slide"
      }
     },
     "source": [
      "Fasteners"
     ]
    },
    {
     "cell_type": "markdown",
     "metadata": {
      "slideshow": {
       "slide_type": "-"
      }
     },
     "source": [
      "<audio controls data-autoplay preload>\n",
      " <source src=\"https://github.com/damontallen/Construction-Lectures-Fall-2014/raw/master/Lecture%20Audio/Week%205/Wall%20form%20braces%20part%202/Fasteners.mp3\"\n",
      "         type='audio/mp3'>\n",
      " <p>Your user agent does not support the HTML5 Audio element or the files are missing.</p>\n",
      "</audio>"
     ]
    },
    {
     "cell_type": "markdown",
     "metadata": {
      "slideshow": {
       "slide_type": "-"
      }
     },
     "source": [
      "In tension bracing fasteners are more important.  That is because the fasteners are directly part of the load path.  The load starts with the wall, then to the nails at the top of the brace, then to the brace, then to the nails at the bottom of the brace, and finally into a stake in the ground or a cleat on the slab.\n",
      "\n",
      "Failures can easily occur due to inadequate fasteners.\n",
      "\n",
      "If you are familiar with nails, take a second and guess at how many 12 penny nails we're going to need to use at both ends of the brace.\n"
     ]
    },
    {
     "cell_type": "heading",
     "level": 2,
     "metadata": {
      "slideshow": {
       "slide_type": "slide"
      }
     },
     "source": [
      "Required Nails"
     ]
    },
    {
     "cell_type": "markdown",
     "metadata": {
      "slideshow": {
       "slide_type": "-"
      }
     },
     "source": [
      "<audio controls data-autoplay preload>\n",
      " <source src=\"https://github.com/damontallen/Construction-Lectures-Fall-2014/raw/master/Lecture%20Audio/Week%205/Wall%20form%20braces%20part%202/Required%20Nails.mp3\"\n",
      "         type='audio/mp3'>\n",
      " <p>Your user agent does not support the HTML5 Audio element or the files are missing.</p>\n",
      "</audio>\n",
      "\n",
      "<strong style=\"color:green\">CHANGE THIS AUDIO</STRONG>\n",
      "\n",
      "* Check **ALL** page numbers"
     ]
    },
    {
     "cell_type": "markdown",
     "metadata": {
      "slideshow": {
       "slide_type": "-"
      }
     },
     "source": [
      "The strength of nails in shear is found in your Formwork for Concrete text on page 4-29 (Table 4-8) and in Table 11N (page 97) of your NDS code book.  Shear strength is denoted using a $Z$.  The size of the nail that is now typically used is a 12d nail (AKA a 12 *pennyweight* or *penny* nail).  Using a 12d sinker nail, driven through a 1 $\\frac{1}{2}$\" thick Douglas Fir Larch 2x4 we find:\n",
      "\n",
      "$$Z = 103 \\frac{lbs}{nail} \\text{ (Table 11N of Timber NDS)}$$"
     ]
    },
    {
     "cell_type": "markdown",
     "metadata": {
      "slideshow": {
       "slide_type": "-"
      }
     },
     "source": [
      "Like with other wood properties, there is an adjustment factor table like 4.3.1 for fasteners.  In the Formwork test it is Table 4-6A, and Table 10.3.1 (page 58) in the Timber NDS.\n",
      "\n",
      "To find the allowable load on each nail in shear we see in Table 10.3.1 that:\n",
      "\n",
      "$$Z' = Z \\times C_D \\times C_M \\times C_t \\times C_g \\times C_{\\Delta} \\times C_{eg} \\times C_{di} \\times C_{tn}$$\n",
      "\n",
      "The first three adjustment factors are the same as before.  $C_g$ is the group adjustment factor and it does not apply to nails. $C_{\\Delta}$ has to do with spacing and since nails are so small you are more likely to split the wood than have this effect anything.  $C_{eg}$ is for end grain fastening (which we are not doing here).  $C_{di}$ is the diaphragm factor used with roofs and floors, not braces.  $C_{tn}$ is used when you are fastening members using toenailing (nailing at an angle of 30$^o$ which we aren't doing).\n"
     ]
    },
    {
     "cell_type": "markdown",
     "metadata": {
      "slideshow": {
       "slide_type": "-"
      }
     },
     "source": [
      "We are left with:\n",
      "\n",
      "$$Z' = Z \\times C_D$$\n",
      "\n",
      "$$Z' = 103 \\frac{lbs}{nail} \\times 1.6 = 164.8 \\frac{lbs}{nail}$$\n"
     ]
    },
    {
     "cell_type": "heading",
     "level": 2,
     "metadata": {
      "slideshow": {
       "slide_type": "slide"
      }
     },
     "source": [
      "Connection Nail Count"
     ]
    },
    {
     "cell_type": "markdown",
     "metadata": {
      "slideshow": {
       "slide_type": "-"
      }
     },
     "source": [
      "<audio controls data-autoplay preload>\n",
      " <source src=\"https://github.com/damontallen/Construction-Lectures-Fall-2014/raw/master/Lecture%20Audio/Week%205/Wall%20form%20braces%20part%202/Connection%20Nail%20Count.mp3\"\n",
      "         type='audio/mp3'>\n",
      " <p>Your user agent does not support the HTML5 Audio element or the files are missing.</p>\n",
      "</audio>"
     ]
    },
    {
     "cell_type": "markdown",
     "metadata": {
      "slideshow": {
       "slide_type": "-"
      }
     },
     "source": [
      "Finally, to find out how many nails we need at each end of the brace we just:\n",
      "\n",
      "$$\\frac{\\small\\text{Tension}}{\\small\\text{Nail Capacity}} = \\frac{T}{Z'} = {\\small \\text{number of nails needed}}$$\n",
      "\n",
      "$$\\frac{512.4 lbs}{164.8 \\frac{lbs}{nail}} = 3.11 nails$$\n",
      "\n",
      "So we will use 4 nails at each end."
     ]
    },
    {
     "cell_type": "code",
     "collapsed": false,
     "input": [
      "#Nails\n",
      "Z = 103 #lbs DFL 12d\n",
      "C_D = 1.6\n",
      "Z_ = Z*C_D\n",
      "nails = T/Z_\n",
      "count = int(ceil(nails))\n",
      "print(\"With a capacity of %g lbs per nail,\"%Z_)\n",
      "print(\"we need %.2f nails so use %d nails on each end.\"%(nails,count))"
     ],
     "language": "python",
     "metadata": {
      "slideshow": {
       "slide_type": "skip"
      }
     },
     "outputs": [
      {
       "output_type": "stream",
       "stream": "stdout",
       "text": [
        "With a capacity of 164.8 lbs per nail,\n",
        "we need 3.11 nails so use 4 nails on each end.\n"
       ]
      }
     ],
     "prompt_number": 12
    },
    {
     "cell_type": "heading",
     "level": 2,
     "metadata": {
      "slideshow": {
       "slide_type": "slide"
      }
     },
     "source": [
      "Conclusion"
     ]
    },
    {
     "cell_type": "markdown",
     "metadata": {
      "slideshow": {
       "slide_type": "-"
      }
     },
     "source": [
      "<audio controls data-autoplay preload>\n",
      " <source src=\"https://github.com/damontallen/Construction-Lectures-Fall-2014/raw/master/Lecture%20Audio/Week%205/Wall%20form%20braces%20part%202/Conclusion.mp3\"\n",
      "         type='audio/mp3'>\n",
      " <p>Your user agent does not support the HTML5 Audio element or the files are missing.</p>\n",
      "</audio>"
     ]
    },
    {
     "cell_type": "markdown",
     "metadata": {
      "slideshow": {
       "slide_type": "-"
      }
     },
     "source": [
      "If we design our braces to only act in tension we can just use a 2x4. This is as apposed to the rough sawn 4x4, which would have to be special ordered and a lot more expensive.  Additionally, the 2x4 will be easier to install, which will also save money on labor costs.  For these reasons, it is more economical to try to design your braces to act in tension."
     ]
    },
    {
     "cell_type": "heading",
     "level": 2,
     "metadata": {
      "slideshow": {
       "slide_type": "slide"
      }
     },
     "source": [
      "References:"
     ]
    },
    {
     "cell_type": "markdown",
     "metadata": {},
     "source": [
      "[Class website](https://ufl.instructure.com/courses/314024) *(Use this link to if you are taking the course on e-learning.)*\n",
      "\n",
      "[Github.io version of course website](http://damontallen.github.io/Construction-Lectures-Fall-2014/) *(Do not use this link if you are taking this course in Summer A or B.)*\n",
      "\n",
      "[IPython.org](http://ipython.org/) *(IPython is the opensource software used in the development of much of this course.)*\n",
      "\n",
      "[Complete Software List](http://nbviewer.ipython.org/github/damontallen/Construction-Lectures-Fall-2014/blob/master/Resources.ipynb)"
     ]
    },
    {
     "cell_type": "heading",
     "level": 2,
     "metadata": {
      "slideshow": {
       "slide_type": "skip"
      }
     },
     "source": [
      "Wind speed check..."
     ]
    },
    {
     "cell_type": "code",
     "collapsed": false,
     "input": [
      "# Mean wind reoccurance check\n",
      "p = 20 #psf\n",
      "K_z = 0.85 #10 ft\n",
      "K_d = 0.85\n",
      "C_f = 1.75 #free standing wall (Figure 29.4-1)\n",
      "I = 1 # section 6.1 of ASCE 37-02\n",
      "G = 0.85\n",
      "#V = 100\n",
      "# q_z = 0.00256 K_z K_zt K_d V**2 I\n",
      "# F = q_z G C_f A_f\n",
      "# p = q_h G C_f \n",
      "V = (p / (G * C_f * 0.00256 * K_z * K_d * I))**(0.5)/0.75\n",
      "print(\"%.2f mph\"%V)"
     ],
     "language": "python",
     "metadata": {
      "slideshow": {
       "slide_type": "skip"
      }
     },
     "outputs": [
      {
       "output_type": "stream",
       "stream": "stdout",
       "text": [
        "113.68 mph\n"
       ]
      }
     ],
     "prompt_number": 13
    },
    {
     "cell_type": "markdown",
     "metadata": {
      "slideshow": {
       "slide_type": "skip"
      }
     },
     "source": [
      "CSS stylesheet\n",
      "\n",
      "<head>\n",
      "<style>\n",
      "important {font:italic bold 16px arial;}\n",
      ".missing {color:Red}\n",
      "fragment {color:LightBlue;}\n",
      "subslide {color:DarkBlue;}\n",
      "\n",
      ".rgt {float:right;}\n",
      "\n",
      ".lt {float:left;}\n",
      "\n",
      ".cnt {text-align:center; vertical-align:text-top;}\n",
      "\n",
      ".box { border:1px solid blue; float:left; margin-right:3px;}\n",
      "\n",
      ".max {max-width:300px; max-height:300px;}\n",
      "\n",
      ".fix {max-height:200px; max-width:200px;}\n",
      "\n",
      "</style>\n",
      "</head>\n",
      "\n",
      "    /* class = \"max box\" for img tags\n",
      "    \n",
      "    <audio controls data-autoplay preload>\n",
      "     <source src=\"https://github.com/damontallen/Construction-Lectures-Fall-2014/raw/master/Intro/FILE%20NAME.mp3\"\n",
      "             type='audio/mp3'>\n",
      "     <p><strong>Your user agent does not support the HTML5 Audio element or the files are missing.</strong></p>\n",
      "    </audio><a></a>\n",
      "    \n",
      "    */\n",
      "    class = \"max box\" == style=\"max-width:300px; max-height:300px; border:1px solid blue; float:left; margin-right:3px;\"\n",
      "    important == <strong><font style=\"font:italic bold 16px arial;\"> Text here </font></strong>"
     ]
    }
   ],
   "metadata": {}
  }
 ]
}