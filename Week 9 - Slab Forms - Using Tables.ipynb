{
 "metadata": {
  "celltoolbar": "Slideshow",
  "name": "",
  "signature": "sha256:82ffac9fd6d550bd23ad4346b39a4d733f6fa155c4f76cc753a356019a1dde2b"
 },
 "nbformat": 3,
 "nbformat_minor": 0,
 "worksheets": [
  {
   "cells": [
    {
     "cell_type": "heading",
     "level": 1,
     "metadata": {
      "slideshow": {
       "slide_type": "slide"
      }
     },
     "source": [
      "Slab Forms - Using Formwork Tables"
     ]
    },
    {
     "cell_type": "markdown",
     "metadata": {
      "slideshow": {
       "slide_type": "-"
      }
     },
     "source": [
      "<iframe width=\"420\" height=\"315\" src=\"//www.youtube.com/embed/FH30PWc6Ev8\" frameborder=\"0\" allowfullscreen></iframe>"
     ]
    },
    {
     "cell_type": "heading",
     "level": 2,
     "metadata": {
      "slideshow": {
       "slide_type": "slide"
      }
     },
     "source": [
      "Which Tables?"
     ]
    },
    {
     "cell_type": "markdown",
     "metadata": {
      "slideshow": {
       "slide_type": "-"
      }
     },
     "source": [
      "<audio controls data-autoplay preload>\n",
      " <source src=\"https://github.com/damontallen/Construction-Lectures-Fall-2014/raw/master/Lecture%20Audio/Week%209/Slab%20Form%20Design%20Using%20Tables/Which%20Tables.mp3\"\n",
      "         type='audio/mp3'>\n",
      " <p>Your user agent does not support the HTML5 Audio element or the files are missing.</p>\n",
      "</audio>"
     ]
    },
    {
     "cell_type": "markdown",
     "metadata": {},
     "source": [
      "In the Formwork text, many of the same tables we used for wall forms are the ones we use for slab forms, starting with the Plyform span limits found in Table 7-2.  Again, Table 7-2 has values for 1/2\" to 1\", wet, Class I Plyform, with both $C_D = 1.0$ and $C_D = 1.25$, in either the strong or weak orientation.  The other sheathing tables are for other support conditions.\n",
      "\n",
      "Tables 7-5, 7-6, and 7-7, are similar to the sheathing tables; they are for different support conditions, and contain values for both duration factors.  This time we will use Table 7-5 for the Joist and Stringer designs.  Keep in mind that these beam tables are arranged such that the .1 version contains values found using $C_D = 1.0$, and the .2 version contains values using $C_D= 1.25$.  Both the .1 and .2 versions are for No.2, Douglas Fir-Larch, lumber, and the versions, .3 and .4, are based on using No.1/No.2 grade, Spruce Pine Fir.\n",
      "\n",
      "There are no wales in slabs so we will not be using Tables 7-8 through 7-10.\n",
      "\n",
      "Table 7-11 contains allowable axial loads of a variety of species, sizes, and effective lengths.  The values in this table are only for a $C_D=1.0$.  This is not unreasonable since you are much more likely to reuse shores, which means their capacity would have to be calculated using a $C_D=1.0$ anyway.  As I mentioned previously there are six obvious typos in the table.   Everywhere the table should indicate a value for a 10 ft unsupported length, (between 9 ft and 11 ft) the table reads 19 ft.  You should strike that and write 10 next to it.\n",
      "\n",
      "Since the procedure for slab forms is very similar to wall forms we'll move straight to an example."
     ]
    },
    {
     "cell_type": "heading",
     "level": 1,
     "metadata": {
      "slideshow": {
       "slide_type": "slide"
      }
     },
     "source": [
      "Slab Form Example"
     ]
    },
    {
     "cell_type": "markdown",
     "metadata": {
      "slideshow": {
       "slide_type": "-"
      }
     },
     "source": [
      "<audio controls data-autoplay preload>\n",
      " <source src=\"https://github.com/damontallen/Construction-Lectures-Fall-2014/raw/master/Lecture%20Audio/Week%209/Slab%20Form%20Design%20Using%20Tables/Slab%20Form%20Example.mp3\"\n",
      "         type='audio/mp3'>\n",
      " <p>Your user agent does not support the HTML5 Audio element or the files are missing.</p>\n",
      "</audio>"
     ]
    },
    {
     "cell_type": "markdown",
     "metadata": {},
     "source": [
      "Design formwork for a concrete floor slab based on the following information:\n",
      "\n",
      "* Thickness of concrete slab = 10\u201d\n",
      "* Unbraced length for 4x6 shores = 14 ft\n",
      "* Concrete unit weight = 150 lb/ft$^3$\n",
      "* Deflection limited to L/360 but not greater than 1/16\u201d\n",
      "* All form lumber will be S4S No.2 Douglas Fir-Larch\n",
      "* Assume dry conditions for lumber and wet conditions for plywood\n",
      "* Decking for the slab will be 3/4\u201d Class I Plyfrom\n",
      "* Load duration factor of 7 days for everything except the shores.\n",
      "* Dead Load for formwork material = 5.5 psf and Live Load = 50 psf"
     ]
    },
    {
     "cell_type": "heading",
     "level": 2,
     "metadata": {
      "slideshow": {
       "slide_type": "slide"
      }
     },
     "source": [
      "Determine the Following"
     ]
    },
    {
     "cell_type": "markdown",
     "metadata": {
      "slideshow": {
       "slide_type": "-"
      }
     },
     "source": [
      "<audio controls data-autoplay preload>\n",
      " <source src=\"https://github.com/damontallen/Construction-Lectures-Fall-2014/raw/master/Lecture%20Audio/Week%209/Slab%20Form%20Design%20Using%20Tables/Determine%20the%20Following.mp3\"\n",
      "         type='audio/mp3'>\n",
      " <p>Your user agent does not support the HTML5 Audio element or the files are missing.</p>\n",
      "</audio>"
     ]
    },
    {
     "cell_type": "markdown",
     "metadata": {},
     "source": [
      "* Plyform Total Load\n",
      "* 4x4 Joist Spacing in inches\n",
      "* 4x6 Stinger Spacing in inches\n",
      "* For the 4x6 Shores find\n",
      "    * Spacing in inches\n",
      "    * Axial Load in pounds\n",
      "* Verify that 4x6 shoring will work."
     ]
    },
    {
     "cell_type": "heading",
     "level": 2,
     "metadata": {
      "slideshow": {
       "slide_type": "slide"
      }
     },
     "source": [
      "Pressure"
     ]
    },
    {
     "cell_type": "markdown",
     "metadata": {},
     "source": [
      "<audio controls data-autoplay preload>\n",
      " <source src=\"https://github.com/damontallen/Construction-Lectures-Fall-2014/raw/master/Lecture%20Audio/Week%209/Slab%20Form%20Design%20Using%20Tables/Pressure.mp3\"\n",
      "         type='audio/mp3'>\n",
      " <p>Your user agent does not support the HTML5 Audio element or the files are missing.</p>\n",
      "</audio>"
     ]
    },
    {
     "cell_type": "code",
     "collapsed": false,
     "input": [
      "%run Older_Classes/Temp_struc.py\n",
      "t_concrete = 10 #in\n",
      "DL_form_work = 5.5 #psf\n",
      "LL = 50 #psf\n",
      "\n",
      "DL_fw = DL_form_work\n",
      "LL = LL\n",
      "t = t_concrete\n",
      "SlabLoad = slab_load(t,LL = LL, DL_forms = DL_fw)\n",
      "p = SlabLoad['value']\n",
      "# p =  DL_fw+DL_con+LL\n",
      "P = p #for later use\n",
      "print(\"Uninform pressure = %.2f psf\"%p)"
     ],
     "language": "python",
     "metadata": {
      "slideshow": {
       "slide_type": "skip"
      }
     },
     "outputs": [
      {
       "output_type": "stream",
       "stream": "stdout",
       "text": [
        "Uninform pressure = 180.50 psf\n"
       ]
      }
     ],
     "prompt_number": 1
    },
    {
     "cell_type": "code",
     "collapsed": false,
     "input": [
      "SlabLoad['work']"
     ],
     "language": "python",
     "metadata": {},
     "outputs": [
      {
       "latex": [
        "$$ $$ \n",
        "${}$\n",
        " $$\\text{Concrete Dead Load } = DL_{con} = \\text{Slab Thickness} \\times \\text{Unit weight of Concrete}$$ \n",
        "${}$\n",
        " $$\\text{Unit weight of concrete} = \\gamma_{con} = 150 pcf$$ \n",
        "${}$\n",
        " $$\\text{Slab thickness } = t_{slab} = 10\"$$ \n",
        "${}$\n",
        " $$DL_{con} = t_{slab} \\times \\gamma_{con}$$ \n",
        "${}$\n",
        " $$DL_{con} = 10\" \\times 150 pcf \\times \\frac{1 ft}{12 in}$$ \n",
        "${}$\n",
        " $$DL_{con} = 125 psf$$ \n",
        "${}$\n",
        " $$\\text{Formwork Dead Load } = DL_{forms} = 5.5 psf$$ \n",
        "${}$\n",
        " $$\\text{Slab Live Load } = LL = 50 psf$$ \n",
        "${}$\n",
        " $$\\text{Total Pressure Load on the Slab Form Work} = p$$ \n",
        "${}$\n",
        " $$p = \\text{Concrete Dead Load} + \\text{Formwork Dead Load } + \\text{Slab Live Load }$$ \n",
        "${}$\n",
        " $$p = DL_{con} + DL_{forms} + LL$$ \n",
        "${}$\n",
        " $$p = 125 psf + 5.5 psf + 50 psf$$ \n",
        "${}$\n",
        " $$p = 180.5 psf$$"
       ],
       "metadata": {},
       "output_type": "pyout",
       "prompt_number": 2,
       "text": [
        "<IPython.core.display.Latex at 0x7f3decde2c88>"
       ]
      }
     ],
     "prompt_number": 2
    },
    {
     "cell_type": "markdown",
     "metadata": {},
     "source": [
      "*(Always remember that the minimum live load on slabs is 50 psf for workers, and 75 psf for workers with motorized buggies.)*"
     ]
    },
    {
     "cell_type": "heading",
     "level": 2,
     "metadata": {
      "slideshow": {
       "slide_type": "slide"
      }
     },
     "source": [
      "Plywood Analysis (Joist Spacing)"
     ]
    },
    {
     "cell_type": "markdown",
     "metadata": {},
     "source": [
      "<audio controls data-autoplay preload>\n",
      " <source src=\"https://github.com/damontallen/Construction-Lectures-Fall-2014/raw/master/Lecture%20Audio/Week%209/Slab%20Form%20Design%20Using%20Tables/Plywood%20Analysis%20(Joist%20Spacing).mp3\"\n",
      "         type='audio/mp3'>\n",
      " <p>Your user agent does not support the HTML5 Audio element or the files are missing.</p>\n",
      "</audio>"
     ]
    },
    {
     "cell_type": "markdown",
     "metadata": {},
     "source": [
      "\n",
      "\n",
      "<a href = \"http://i.imgur.com/NnwmzD3.png\"><img src=\"http://i.imgur.com/NnwmzD3.png\" alt = \"Formwork for Concrete Table 7-2\" title = \"Formwork for Concrete Table 7-2\" style=\"max-width:200px; max-height:200px; border:1px solid blue; float:right; margin-left:10px;\"/></a>\n",
      "\n",
      "Since the problem statement indicated a 7 day load duration factor for everything but shores, i.e. $C_D = 1.25$, we use the left hand side of Table 7-2.  The concrete pressure is over $175 psf$ in the left hand column, so we have to use $200 psf$.\n",
      "\n",
      "For $3/4\"$ Class I Plyform, subjected to a $200 psf$ pressure load, with $C_D = 1.25$, orientating the Plyform in the strong direction (grain perpendicular to the supports), and supported over three or more spans, the maximum support spacing is $19\"$. \n",
      "\n",
      "As a reminder, for the purposes of preparing you for the [AIC exam](http://www.professionalconstructor.org/?page=AC_Certification), use $19\"$ on center."
     ]
    },
    {
     "cell_type": "heading",
     "level": 2,
     "metadata": {
      "slideshow": {
       "slide_type": "slide"
      }
     },
     "source": [
      "Stringer Spacing (Joist Support)"
     ]
    },
    {
     "cell_type": "markdown",
     "metadata": {},
     "source": [
      "<audio controls data-autoplay preload>\n",
      " <source src=\"https://github.com/damontallen/Construction-Lectures-Fall-2014/raw/master/Lecture%20Audio/Week%209/Slab%20Form%20Design%20Using%20Tables/Stringer%20Spacing%20(Joist%20Support).mp3\"\n",
      "         type='audio/mp3'>\n",
      " <p>Your user agent does not support the HTML5 Audio element or the files are missing.</p>\n",
      "</audio>"
     ]
    },
    {
     "cell_type": "markdown",
     "metadata": {},
     "source": [
      "We need to determine the new line load to calculate the spacing of the joist supports."
     ]
    },
    {
     "cell_type": "code",
     "collapsed": false,
     "input": [
      "w_ = line_load(P,19/12)\n",
      "w=w_['value']"
     ],
     "language": "python",
     "metadata": {
      "slideshow": {
       "slide_type": "skip"
      }
     },
     "outputs": [],
     "prompt_number": 3
    },
    {
     "cell_type": "code",
     "collapsed": false,
     "input": [
      "w_['work']"
     ],
     "language": "python",
     "metadata": {},
     "outputs": [
      {
       "latex": [
        "$$\\text{Line load} = w = \\text{pressure}\\times\\text{tributary width}$$ $$w = P \\times s = 180.5 psf \\times 19.0\" \\times \\frac{1 ft}{12 in}$$$$w = 285.79 plf$$"
       ],
       "metadata": {},
       "output_type": "pyout",
       "prompt_number": 4,
       "text": [
        "<IPython.core.display.Latex at 0x7f3dee292358>"
       ]
      }
     ],
     "prompt_number": 4
    },
    {
     "cell_type": "markdown",
     "metadata": {},
     "source": [
      "<a href = \"http://i.imgur.com/BahdSNW.png\"><img src=\"http://i.imgur.com/BahdSNW.png\" alt = \"Formwork for Concrete Table 7-5.*\" title = \"Formwork for Concrete Table 7-5.*\" style=\"max-width:200px; max-height:200px; border:1px solid blue; float:right; margin-left:10px;\"/></a>\n",
      "\n",
      "Now we look up the allowable support spacings for the joists in Table 7-5, again because the joists are being supported over three or more spans.  Since, we are using Douglass Fir-Larch and $C_D=1.25$, we need to specifically use Table 7-5.2, (if we are reusing the joists again in another form, then we would look in Table 7-5.1).\n",
      "\n",
      "Reading down to $300 plf$ in the pressure column, and over to the 4x4 column, we find that the maximum support spacings for the joists is $68\"$."
     ]
    },
    {
     "cell_type": "heading",
     "level": 2,
     "metadata": {
      "slideshow": {
       "slide_type": "slide"
      }
     },
     "source": [
      "Shore Spacing (Stringer Support)"
     ]
    },
    {
     "cell_type": "markdown",
     "metadata": {},
     "source": [
      "<audio controls data-autoplay preload>\n",
      " <source src=\"https://github.com/damontallen/Construction-Lectures-Fall-2014/raw/master/Lecture%20Audio/Week%209/Slab%20Form%20Design%20Using%20Tables/Shore%20Spacing%20(Stringer%20Support).mp3\"\n",
      "         type='audio/mp3'>\n",
      " <p>Your user agent does not support the HTML5 Audio element or the files are missing.</p>\n",
      "</audio>"
     ]
    },
    {
     "cell_type": "markdown",
     "metadata": {},
     "source": [
      "We now need to determine the line load on the stringers to calculate their support spacing."
     ]
    },
    {
     "cell_type": "code",
     "collapsed": false,
     "input": [
      "w_ = line_load(P,68/12)\n",
      "w=w_['value']"
     ],
     "language": "python",
     "metadata": {
      "slideshow": {
       "slide_type": "skip"
      }
     },
     "outputs": [],
     "prompt_number": 5
    },
    {
     "cell_type": "code",
     "collapsed": false,
     "input": [
      "w_['work']"
     ],
     "language": "python",
     "metadata": {},
     "outputs": [
      {
       "latex": [
        "$$\\text{Line load} = w = \\text{pressure}\\times\\text{tributary width}$$ $$w = P \\times s = 180.5 psf \\times 68.0\" \\times \\frac{1 ft}{12 in}$$$$w = 1022.83 plf$$"
       ],
       "metadata": {},
       "output_type": "pyout",
       "prompt_number": 6,
       "text": [
        "<IPython.core.display.Latex at 0x7f3dee2922e8>"
       ]
      }
     ],
     "prompt_number": 6
    },
    {
     "cell_type": "markdown",
     "metadata": {},
     "source": [
      "<a href = \"http://i.imgur.com/BahdSNW.png\"><img src=\"http://i.imgur.com/BahdSNW.png\" alt = \"Formwork for Concrete Table 7-5.*\" title = \"Formwork for Concrete Table 7-5.*\" style=\"max-width:200px; max-height:200px; border:1px solid blue; float:right; margin-left:10px;\"/></a>\n",
      "\n",
      "Now we look up the allowable support spacings for the 4x6 stringers in Table 7-5.2.  We do this because the stringers, just like the joists, are also supported over three or more spans.\n",
      "\n",
      "Reading down to $1100 plf$ in the pressure column, then over to the 4x6 column, we find that the maximum support spacing for the stringers is $53\"$.  We might have been able to get away with using $1,000 plf$, but the slab for will also be carrying personnel, and we should always err on the side of caution when there is a high risk of injury."
     ]
    },
    {
     "cell_type": "heading",
     "level": 2,
     "metadata": {
      "slideshow": {
       "slide_type": "slide"
      }
     },
     "source": [
      "Shore Size"
     ]
    },
    {
     "cell_type": "markdown",
     "metadata": {},
     "source": [
      "<audio controls data-autoplay preload>\n",
      " <source src=\"https://github.com/damontallen/Construction-Lectures-Fall-2014/raw/master/Lecture%20Audio/Week%209/Slab%20Form%20Design%20Using%20Tables/Shore%20Size.mp3\"\n",
      "         type='audio/mp3'>\n",
      " <p>Your user agent does not support the HTML5 Audio element or the files are missing.</p>\n",
      "</audio>"
     ]
    },
    {
     "cell_type": "code",
     "collapsed": false,
     "input": [
      "P_axial = shore_load(P,68,53)"
     ],
     "language": "python",
     "metadata": {
      "slideshow": {
       "slide_type": "skip"
      }
     },
     "outputs": [],
     "prompt_number": 7
    },
    {
     "cell_type": "markdown",
     "metadata": {},
     "source": [
      "We need to determine the actual load on a shore to compare with its allowable load."
     ]
    },
    {
     "cell_type": "code",
     "collapsed": false,
     "input": [
      "P_axial['work']"
     ],
     "language": "python",
     "metadata": {},
     "outputs": [
      {
       "latex": [
        "$$\\text{Compression load } (P_{axial}) = \\text{Pressure} \\times \\text{Tributary Area}$$ $$P_{axial} = \\text{Pressure} \\times \\text{Stringer spacing} \\times \\text{Shore spacing}$$ $$P_{axial} = 180.50 psf \\times 68\" \\times 53\" \\times \\left(\\frac{1 ft}{12 in}\\right)^2$$ $$P_{axial} = 4517.51 lbs$$ "
       ],
       "metadata": {},
       "output_type": "pyout",
       "prompt_number": 8,
       "text": [
        "<IPython.core.display.Latex at 0x7f3dee292048>"
       ]
      }
     ],
     "prompt_number": 8
    },
    {
     "cell_type": "code",
     "collapsed": false,
     "input": [
      "3894/P_axial['load']*53"
     ],
     "language": "python",
     "metadata": {
      "slideshow": {
       "slide_type": "skip"
      }
     },
     "outputs": [
      {
       "metadata": {},
       "output_type": "pyout",
       "prompt_number": 12,
       "text": [
        "45.6848623105752"
       ]
      }
     ],
     "prompt_number": 12
    },
    {
     "cell_type": "markdown",
     "metadata": {},
     "source": [
      "<a href = \"http://i.imgur.com/WNOha2v.png\"><img src=\"http://i.imgur.com/WNOha2v.png\" alt = \"Formwork for Concrete Table 7-11\" title = \"Formwork for Concrete Table 7-11\" style=\"max-width:200px; max-height:200px; border:1px solid blue; float:right; margin-left:10px;\"/></a>\n",
      "\n",
      "To determine the allowable shore load, we turn to Table 7-11, and look at Douglas Fir-Larch.  We look up our shore length of 14 ft, and S4S 4x6s.  This is the column on the right, and it reads $3,894 lbs$.  This puts over by $624 lbs$.  If we had adjusted for constructibility all along then our actual load would have been reduced to a point where we would have been OK. However, as our design stands we need to reduce the shore spacing to make it work."
     ]
    },
    {
     "cell_type": "heading",
     "level": 2,
     "metadata": {
      "slideshow": {
       "slide_type": "slide"
      }
     },
     "source": [
      "Summary"
     ]
    },
    {
     "cell_type": "markdown",
     "metadata": {},
     "source": [
      "<audio controls data-autoplay preload>\n",
      " <source src=\"https://github.com/damontallen/Construction-Lectures-Fall-2014/raw/master/Lecture%20Audio/Week%209/Slab%20Form%20Design%20Using%20Tables/Summary.mp3\"\n",
      "         type='audio/mp3'>\n",
      " <p>Your user agent does not support the HTML5 Audio element or the files are missing.</p>\n",
      "</audio>"
     ]
    },
    {
     "cell_type": "markdown",
     "metadata": {},
     "source": [
      "$\\text{With }3/4\"\\text{ Class I Plyform, space the 4x4 joists every }19\"\\text{.}$\n",
      "\n",
      "$\\text{The 4x6 stringers, used to support the 4x4 joists, cannot be spaced more than }68\"\\text{ on center.}$\n",
      "\n",
      "$\\text{The 4x6 shores need to be spaced less than }53\"\\text{ on center. (Actually closer to }45\"\\text{on center.)}$\n",
      "\n",
      "Again, the reason we are covering this, is that this material will show up on the [AIC exam](http://www.professionalconstructor.org/?page=AC_Certification), and you might end up going to work for someone that believes this is the fastest way to work.  Either way, you need to be able to use these tables."
     ]
    },
    {
     "cell_type": "heading",
     "level": 2,
     "metadata": {
      "slideshow": {
       "slide_type": "slide"
      }
     },
     "source": [
      "References:"
     ]
    },
    {
     "cell_type": "markdown",
     "metadata": {},
     "source": [
      "[Class website](https://ufl.instructure.com/courses/) *(Use this link to if you are taking the course on e-learning.)*\n",
      "\n",
      "[Github.io version of course website](http://damontallen.github.io/Construction-Lectures-Fall-2014/) *(Do not use this link if you are taking this course in Summer A or B.)*\n",
      "\n",
      "[IPython.org](http://ipython.org/) *(IPython is the opensource software used in the development of much of this course.)*\n",
      "\n",
      "[Complete Software List](http://nbviewer.ipython.org/github/damontallen/Construction-Lectures-Fall-2014/blob/master/Resources.ipynb)"
     ]
    }
   ],
   "metadata": {}
  }
 ]
}