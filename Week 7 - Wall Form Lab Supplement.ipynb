{
 "cells": [
  {
   "cell_type": "markdown",
   "metadata": {},
   "source": [
    "# Wall Form Lab Supplement"
   ]
  },
  {
   "cell_type": "markdown",
   "metadata": {},
   "source": [
    "This supplement serves as a summary and addendum to what was discussed during the wall form lab.  Since there is a little more to the lab than just building the wall form, this supplement attempts to covers all the bits and activities that go along with forming a wall.   It is mainly intended for those of you who could not hear, or were not around during the discussion."
   ]
  },
  {
   "cell_type": "markdown",
   "metadata": {},
   "source": [
    "## Form Release Oil"
   ]
  },
  {
   "cell_type": "markdown",
   "metadata": {},
   "source": [
    "<p></p>\n",
    "\n",
    "<a href=\"http://www.lloydslaboratories.com/Concrete-Form-Release-Mineral-Oil-Based-20-L-pail-5.25-gal.html\">\n",
    "<img width=25% align=\"right\" src=\"http://www.lloydslaboratories.com/images/P/86020.jpg\" alt = \"Form Oil\" title = \"Form Oil\"style=\"max-width:300px; max-height:300px; border:1px solid blue; margin-left:3px;\"/>\n",
    "</a>\n",
    "\n",
    "<a href=\"http://www.smionline.com/form-oil/2017360\">\n",
    "<img width=25% align=\"right\" src=\"./Images/Form%20Release%20Applied.jpg\" alt = \"Form Oil Applied\" title = \"Form Oil Applied\"style=\"max-width:300px; max-height:300px; border:1px solid blue; margin-left:3px;\"/>\n",
    "</a>\n",
    "\n",
    "First of all, from what you learned in your concrete class you should remember that concrete cures by growing microscopic crystals.  These crystals interlock forming a solid lattice in the shape of the form.  However, the form's surface is typically not really that smooth.  This means that during the formation of these crystals they will grow into the nooks and crannies of the plywood, or whatever material is used.  If the form is intended to remain in place permanently then this is a good thing, but if you are reusing forms then it is a problem.  \n",
    "\n",
    "\n",
    "\n",
    "<a href=\"http://www.rgbstock.com/bigphoto/mifswLk/Construction+Waste\">\n",
    "<img width=25% align=\"left\" src=\"http://m.rgbimg.com/cache1nHmIZ/users/s/su/sundstrom/600/mifswLk.jpg\" alt = \"Wood Splinters\" title = \"Wood Splinters\"style=\"max-width:300px; max-height:300px; border:1px solid blue; margin-right:3px;\"/>\n",
    "</a>\n",
    "\n",
    "Form release oil provide a layer of liquid that the crystals can grow into without getting caught on the form's surface.  I have seen epoxy grout formed up with 2x4s that were not treated with form oil.  At the time there wasn't any form oil in the site and the foreman was in a rush. He said he thought, \"It's only a 2x4, what's the worst that could happen?\"\n",
    "\n",
    "\n",
    "It took two workers a full day to strip all the pieces of wood off the base of the column.\n",
    "\n",
    "I have to admit that epoxy grout is a little stickier than concrete, but the contact surface of concrete forms are generally much greater than a single 2x4.\n"
   ]
  },
  {
   "cell_type": "markdown",
   "metadata": {},
   "source": [
    "## Bonding Agent"
   ]
  },
  {
   "cell_type": "markdown",
   "metadata": {},
   "source": [
    "<p></p>\n",
    "\n",
    "<a href=\"http://carnationconstruction.com/Misc/LatexBondingAgent.html\">\n",
    "<img width=25% align=\"left\" src=\"http://carnationconstruction.com/images/LatexBondingAgentQuikrete2.jpg\" alt = \"Quikrete Bonding Adhesive\" title = \"Quikrete Bonding Adhesive\"style=\"max-width:150px; max-height:200px; border:1px solid blue; margin-right:3px;\"/>\n",
    "</a>\n",
    "\n",
    "<a href=\"http://bianco.hyper.groundhog.com.au/building-supplies/hardware-supplies/products/specialised-concrete-products.jsp\">\n",
    "<img width=25% align=\"right\" src=\"http://bianco.hyper.groundhog.com.au/custom/files/media/pvabondingagentcemcrete.jpg\" alt = \"Ramset Concrete Admixture\" title = \"Ramset Concrete Admixture\"style=\"max-width:150px; max-height:200px; border:1px solid blue; margin-left:3px;\"/>\n",
    "</a>\n",
    "\n",
    "When a wall is poured it typically does not just rest on the ground.  Walls are generally poured on top of smoothly finished slabs or spread footing.  The finishes of these horizontal surfaces are often too smooth to allow freshly poured concrete to form a good bond.  Without a good bond you will not have a water tight joint which can lead to all sorts of problems.  The way to prevent this problem is with the use of a bonding agent.  \n",
    "\n",
    "The bonding agent acts as a glue between the old and new concrete.  It is not only important to have it applied between walls and slabs, but it is also very important to use when walls are poured in sections to bond the next section to the previous one."
   ]
  },
  {
   "cell_type": "markdown",
   "metadata": {},
   "source": [
    "## Keyway"
   ]
  },
  {
   "cell_type": "markdown",
   "metadata": {},
   "source": [
    "<p></p>\n",
    "\n",
    "<a href=\"http://www.jdrussellco.com/#!/products/5\">\n",
    "<img width=25% align=\"right\" src=\"./Images/keyway.jpg\" alt = \"Keyways\" title = \"Keyways\"style=\"max-width:300px; max-height:300px; border:1px solid blue; margin-left:3px;\"/>\n",
    "</a>\n",
    "\n",
    "<a href=\"http://www.engineeringcivil.com/in-concrete-pavement-keyway-joint-are-sometimes-adopted-in-longitudinal-joint-why.html\">\n",
    "<img width=25% align=\"right\" src=\"http://www.engineeringcivil.com/wp-content/uploads/2011/06/non-keyway-joint.JPG\" alt = \"Keyways\" title = \"Keyways\"style=\"max-width:300px; max-height:300px; border:1px solid blue; margin-left:3px;\"/>\n",
    "</a>\n",
    "\n",
    "Bonding agents are important but are commonly not enough when it comes to preventing shear slip.  This is where keyways come in.  The ones shown to the right are for where two slabs meet up, or two wall sections join, but you will typically need one where a wall meets the floor as well.  These keyways provide a mechanical interlocking method for connecting two separate pours.\n",
    "\n",
    "<a href=\"http://mckinley.pasadenausd.org/modules/cms/pages.phtml?pageid=291612\">\n",
    "<img width=25% align=\"left\" src=\"http://mckinley.pasadenausd.org/modules/groups/homepagefiles/cms/917188/Image/new%20photos/Construction%20Images/PICT6415.JPG\" alt = \"Wooden Keyways\" title = \"Wooden Keyways\"style=\"max-width:300px; max-height:300px; border:1px solid blue; margin-right:3px;\"/>\n",
    "</a>\n",
    "\n",
    "These keyways can be made from plastic, metal, or even manufactured on the job out of 2x4s.  The important thing to remember about job built keyways is that the sides need to be beveled to allow for ease of removal.\n"
   ]
  },
  {
   "cell_type": "markdown",
   "metadata": {},
   "source": [
    "## Rebar"
   ]
  },
  {
   "cell_type": "markdown",
   "metadata": {},
   "source": [
    "<p></p>\n",
    "\n",
    "<a href=\"http://ths.gardenweb.com/forums/load/build/msg0820494924208.html?9\">\n",
    "<img width=25% align=\"left\" src=\"http://i21.geccdn.net/site/images/n-picgroup/101551.jpg\" alt = \"Rebar Chair\" title = \"Rebar Chair\"style=\"max-width:300px; max-height:300px; border:1px solid blue; margin-right:3px;\"/> \n",
    "</a>\n",
    "\n",
    "\n",
    "<a href=\"http://www.preciseforms.com/insulated_easiwall.html\">\n",
    "<img width=25% align=\"right\" src=\"http://www.preciseforms.com/img/insulated_easiwall_boxleft_large.jpg\" alt = \"Standoffs\" title = \"Standoffs\"style=\"max-width:300px; max-height:300px; border:1px solid blue; margin-left:3px;\"/>\n",
    "</a>\n",
    "\n",
    "In an actual wall you must have reinforcing steel (rebar) to provide tension strength for bending and shear, as well as crack control.  The rebar cage will make form and tie placement more difficult and time consuming, but without it the wall will have a catastrophic brittle failure mode.  Additionally, you will have to have \"chairs\" or standoffs in place to maintain correct steel positioning during the pour, and these will have to be attached to the rebar prior to erecting the forms.\n",
    "\n",
    "The existence of the rebar will have an effect on the choices you make about how wall forms are laid out too."
   ]
  },
  {
   "cell_type": "markdown",
   "metadata": {},
   "source": [
    "## Layout"
   ]
  },
  {
   "cell_type": "markdown",
   "metadata": {},
   "source": [
    "In this course we have been focusing on job built forms (because they are more difficult) but you may be using prebuilt forms.  If this is the case the manufacturer will provide some instructions to help with installation. However, if you do not have any instructions there are a couple of approaches you may want to use to help with the form installation layout.  \n",
    "\n",
    "\n",
    "<a href=\"http://www.dreamstime.com/royalty-free-stock-images-chalk-line-image10373239\">\n",
    "<img width=25% align=\"right\" src=\"http://thumbs.dreamstime.com/x/chalk-line-10373239.jpg\" alt = \"Red Chalkline\" title = \"Red Chalkline\"style=\"max-width:300px; max-height:300px; border:1px solid blue; margin-left:3px;\"/>\n",
    "</a>\n",
    "\n",
    "Firstly, you can strike a chalkline offset from the face of the wall by the thickness of the wall form.  This will provide a line that your workers can see when positioning the form, even after the form is in place.  \n",
    "\n",
    "In all cases on concrete, unless it is a finished surface, use red chalk to mark your lines.  Do not use red chalk anywhere else, not on drywall, not on carpet, not anywhere but concrete.  Red chalk has a dye in it that makes it water proof.  This same dye will bleed through paint, and is almost impossible to get rid of.  This makes it perfect for concrete work where it is subject to be walked on or rained on.\n",
    "\n",
    "Secondly, if you have some stainless steel studs available you *can* drill them into the slab and use them as a stop to butt the prebuilt wall form up against.  There can be some difficulties with this technique.  \n",
    "\n",
    "1. While drilling the hole for the stud your workers might hit a hard piece of aggregate that causes the hole to be misaligned.\n",
    "2. Stainless steel is a little pricey and it takes time to drill the holes to place all the studs.\n",
    "3. If your workers use plain steel instead of stainless you will have spalling wherever these studs were placed.\n",
    "\n",
    "<a href=\"http://www.ebay.com/bhp/stainless-steel-angle-bracket\">\n",
    "<img width=25% align=\"left\" src=\"http://thumbs4.ebaystatic.com/d/l225/m/mKdok-Dml0siY0-EhwOIwMA.jpg\" alt = \"Stainless Steel Bracket\" title = \"Stainless Steel Bracket\"style=\"max-width:200px; max-height:200px; border:1px solid blue; margin-right:3px;\"/> \n",
    "</a>\n",
    "\n",
    "The upside of this technique is that once the studs are in place the placement of the forms can go more rapidly.  I am of the opinion that it may be faster and more accurate to use stainless steel clips nailed into place with a powdered actuated nail gun.  This would be a faster installation due to not having to drill and more accurate due to the reduced impact of hard aggregate on the placement of the clip.  Additionally, the workers would be much less likely to install plain steel since the clips would most likely be unique on the job site.\n",
    "\n",
    "Thirdly, for a job built wall form it is common that the bottom plate of one side is not attached to the wall form prior to its placement.  Instead the bottom plate is fastened in place and then the rest of the wall form is attached to the bottom plate once it has been placed.  The advantage is that it is easy to align a single 2x4 and with multiple attachment points it is unlikely that a single piece of aggregate will cause a substantial shift in placement.  \n",
    "\n",
    "<a href=\"http://www.finehomebuilding.com/how-to/tips/site-built-tool-for-tight-access-nailing.aspx\">\n",
    "<img width=25% align=\"right\" src=\"http://www.finehomebuilding.com/CMS/uploadedimages/Images/Homebuilding/Tips/fhb189tp06-01_lg.jpg\" alt = \"Job Built Peashooter\" title = \"Job Built Peashooter\"style=\"max-width:300px; max-height:300px; border:1px solid blue; margin-left:3px;\"/>\n",
    "</a>\n",
    "\n",
    "The difficult part is fastening the plywood of the form to the bottom plate through the rebar cage.  This only requires a simple tool that can be made on the job, a peashooter.  A job built peashooter consists of a metal pipe with a diameter no bigger than 1/2\" and a metal rod that is small enough to pass though the pipe (all thread can do).  Cut the pipe such that it is long enough to, while touching the surface of the wall form, extend beyond the rebar cage a little more than the width of a hand, about 6\".  Next cut the rod to be about 6\" longer than that.  Place a stop on the rod such that it sticks out on one end of the pipe and is flush with the other end.  Nails can be place in the pipe and then driven into place by hitting the rod.\n",
    "\n",
    "Once the ties have been inserted in to the wall form the other side can be fastened to the ties, and then that side's bottom plate is fastened to the slab.  The ties provide alignment positioning of the other side in all cases."
   ]
  },
  {
   "cell_type": "markdown",
   "metadata": {},
   "source": [
    "## Chamfer Strip"
   ]
  },
  {
   "cell_type": "markdown",
   "metadata": {},
   "source": [
    "<a href=\"http://www.teamcbs.com/catalog/catalog_page_154.html\">\n",
    "<img width=25% align=\"right\" src=\"http://www.teamcbs.com/catalog/images/waterstops_chamfer_strips3.gif\" alt = \"Chamfer Strip\" title = \"Chamfer Strip\"style=\"max-width:200px; max-height:200px; border:1px solid blue; margin-left:3px;\"/> \n",
    "</a>\n",
    "\n",
    "<a href=\"http://www.bcsiteservice.com/product/45-degree-chamfer-anti-skateboard-guards-kit/\">\n",
    "<img width=25% align=\"left\" src=\"http://www.bcsiteservice.com/wp-content/uploads/2012/01/45-Degree-Chamfer-Skate-Guards.jpg\" alt = \"Chamfered Concrete\" title = \"Chamfered Concrete\"style=\"max-width:200px; max-height:200px; border:1px solid blue; margin-right:3px;\"/> \n",
    "</a>\n",
    "\n",
    "The exposed corners of a concrete wall are very susceptible to damage.  In order to mitigate the damage of a corner impact, concrete wall corners are often beveled.  This is done with the use of chamfer strips.\n",
    "\n",
    "Chamfer strip can be made from wood or plastic, but it is generally not made on the job due to its single use aspect.  Chamfer strip is small and thus it generally is destroyed during the form removal process."
   ]
  },
  {
   "cell_type": "markdown",
   "metadata": {},
   "source": [
    "## Corner Lacing"
   ]
  },
  {
   "cell_type": "markdown",
   "metadata": {},
   "source": [
    "<a href=\"http://www.chambers-house-build-it.com/CONCRETE-FORMS.html\">\n",
    "<img width=25% align=\"right\" src=\"http://www.chambers-house-build-it.com/image-files/concretedblewaler8.jpg\" alt = \"Locked Corners\" title = \"Locked Corners\"style=\"max-width:200px; max-height:200px; border:1px solid blue; margin-left:3px;\"/> \n",
    "</a>\n",
    "\n",
    "When you reach the corner or end of a wall form, the wales should extend beyond the form 6-12\" to allow them to be locked into place.  This process helps prevents the corners of the wall form from spreading.  A great deal of pressure is at these corners and unless you add enough fasteners (in the right direction) the wall form will experience a blowout."
   ]
  },
  {
   "cell_type": "markdown",
   "metadata": {},
   "source": [
    "## Plumbing the Wall"
   ]
  },
  {
   "cell_type": "markdown",
   "metadata": {},
   "source": [
    "<p></p>\n",
    "\n",
    "<a href=\"http://imgur.com/qriJtVC\">\n",
    "<img width=50% align=\"right\" src=\"http://i.imgur.com/qriJtVC.png\" alt = \"Plumbing a Wallform\" title = \"Plumbing a Wallform with a Plumb-bob\"style=\"max-width:350px; max-height:350px; border:1px solid blue; margin-left:3px;\"/> \n",
    "</a>\n",
    "\n",
    "Once the bottom of the wall form is in place it is important that the top be aligned correctly.  There are several ways to do this, but the cheapest and oldest is to use a plumb-bob.  By attaching a scrap piece of wood to the top of the wall form such that the end is a known distance from the outside face of the plywood.  This allows one worker to measure the distance from the outside face of the plywood to the plumb line or the tip of the plumb-bob, while a second worker shifts the top of the wall into alignment.  Once the wall is aligned then the brace is nailed into place and the process is repeated at the far end of the wall.  With both ends plumbed an offset string-line can be stretched between the ends.  At this point the remaining braces are attached one-by-one after aligning the rest of the wall form with the aid of the string.\n",
    "\n",
    "A similar process can be done with a laser alignment system, though I have not seen one that can be used much faster than a plumb-bob.\n",
    "\n",
    "For short walls, approximately 4-6 ft, a long level can be used in the place of a plumb-bob, but this technique has a greater potential of error."
   ]
  },
  {
   "cell_type": "markdown",
   "metadata": {},
   "source": [
    "## References:"
   ]
  },
  {
   "cell_type": "markdown",
   "metadata": {},
   "source": [
    "The images in this supplement are used for educational purposes and are all linked to their original source to allow for clicking through to find the content creator.  Education is a fair use of copyrighted material.  The sources include royalty free images, images from commercial suppliers, other educational sites, and original creations.  If you are the owner of the copyrighted material and wish  to have it removed contact me at [damontallen@gmail.com](mailto:damontallen@gmail.com), and I will replace the image.  Alternatively if you wish to give me express permission to use your material I will add your contact information to the list below.\n",
    "\n",
    "Special thanks for the express permissions from the following :\n",
    "\n",
    "* [Structural Materials, Inc. Of Fargo, ND](http://www.smionline.com/form-oil/2017360) for the use of their photo of form oil being applied\n",
    "* [The J. D. Russell Company](http://www.jdrussellco.com/#!/products/5) for the use of their keyway drawing\n",
    "\n",
    "[Class website](https://ufl.instructure.com/courses/) *(Use this link to if you are taking the course on e-learning.)*\n",
    "\n",
    "[Github.io version of course website](http://damontallen.github.io/Construction-Lectures-Fall-2014/) *(Do not use this link if you are taking this course in Summer A or B.)*\n",
    "\n",
    "[IPython.org](http://ipython.org/) *(IPython is the opensource software used in the development of much of this course.)*\n",
    "\n",
    "[Complete Software List](http://nbviewer.ipython.org/github/damontallen/Construction-Lectures-Fall-2014/blob/master/Resources.ipynb)"
   ]
  }
 ],
 "metadata": {
  "kernelspec": {
   "display_name": "Python 3",
   "language": "python",
   "name": "python3"
  },
  "language_info": {
   "codemirror_mode": {
    "name": "ipython",
    "version": 3
   },
   "file_extension": ".py",
   "mimetype": "text/x-python",
   "name": "python",
   "nbconvert_exporter": "python",
   "pygments_lexer": "ipython3",
   "version": "3.4.0"
  }
 },
 "nbformat": 4,
 "nbformat_minor": 0
}
