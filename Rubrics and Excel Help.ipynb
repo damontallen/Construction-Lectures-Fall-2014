{
 "metadata": {
  "name": "",
  "signature": "sha256:ece0425e283ac1381bce92c19bf727642ddcbf0df001036dd572033c6c87832c"
 },
 "nbformat": 3,
 "nbformat_minor": 0,
 "worksheets": [
  {
   "cells": [
    {
     "cell_type": "heading",
     "level": 1,
     "metadata": {},
     "source": [
      "Rubrics and Excel Help"
     ]
    },
    {
     "cell_type": "heading",
     "level": 2,
     "metadata": {},
     "source": [
      "Assignment Rubrics:"
     ]
    },
    {
     "cell_type": "markdown",
     "metadata": {},
     "source": [
      "* [Hand Solution Rubric.pdf](https://drive.google.com/file/d/0B4xhmoMLMWNVUDgwSDNqa3U4eE0/edit?usp=sharing) (Also *individual assignment rubric* and *tables assignment rubric*)\n",
      "* [Hand Verification Rubric.pdf](https://drive.google.com/file/d/0B4xhmoMLMWNVcmdPX19Jbkt6Snc/edit?usp=sharing)\n",
      "* [Spreadsheet Solution Rubric.pdf](https://drive.google.com/file/d/0B4xhmoMLMWNVTFZjbXNWblItX28/edit?usp=sharing)\n",
      "* [Spreadsheet Documentation Rubric.pdf](https://drive.google.com/file/d/0B4xhmoMLMWNVOWpDZ3pBWm5pdlE/edit?usp=sharing)\n",
      "* [Excel Special Functions Rubric.pdf](https://drive.google.com/file/d/0B4xhmoMLMWNVX0NNZFIzd0JvQ0U/edit?usp=sharing)\n",
      "\n",
      "* [(old) Webquest Rubric.pdf](https://drive.google.com/file/d/0B4xhmoMLMWNVVnFpcnd3ajJ4MWM/edit?usp=sharing)\n",
      "\n",
      "[Team Division of Labor for Spreadsheet Assignments.pdf](https://drive.google.com/file/d/0B4xhmoMLMWNVVkVEMjQ2ZE5ud0U/edit?usp=sharing)"
     ]
    },
    {
     "cell_type": "heading",
     "level": 3,
     "metadata": {},
     "source": [
      "Homework Examples:"
     ]
    },
    {
     "cell_type": "markdown",
     "metadata": {},
     "source": [
      "* [Timber Beam Spreadsheet Example.pdf](https://drive.google.com/file/d/0B4xhmoMLMWNVS2w1alpuOUJhSWs/edit?usp=sharing)\n",
      "* [Beam Problem Hand Solution Example.pdf](https://drive.google.com/file/d/0B4xhmoMLMWNVYW1oNnQ0UHdPU28/edit?usp=sharing)"
     ]
    },
    {
     "cell_type": "heading",
     "level": 2,
     "metadata": {},
     "source": [
      "Excel Help"
     ]
    },
    {
     "cell_type": "markdown",
     "metadata": {},
     "source": [
      "Students must login [here](https://shib.lynda.com/Shibboleth.sso/InCommon?providerId=https://login.ufl.edu/idp/shibboleth&target=https://shib.lynda.com/InCommon) prior to clicking on the links below."
     ]
    },
    {
     "cell_type": "markdown",
     "metadata": {},
     "source": [
      "<table align=\"left\" border=\"1\" cellpadding=\"1\" cellspacing=\"1\" style=\"width: 800px;\">\n",
      "\t<thead>\n",
      "\t\t<tr>\n",
      "\t\t\t<th scope=\"col\">\n",
      "                <h3>\n",
      "                <em>Reference Material</em></h3>\n",
      "            </th>\n",
      "\t\t\t<th scope=\"col\">\n",
      "\t\t\t\t<h4>\n",
      "\t\t\t\t\tBasic Excel</h4>\n",
      "\t\t\t</th>\n",
      "\t\t\t<th scope=\"col\">\n",
      "\t\t\t\t<h4>\n",
      "\t\t\t\t\tAdvanced Excel</h4>\n",
      "\t\t\t</th>\n",
      "\t\t</tr>\n",
      "\t</thead>\n",
      "\t<tbody>\n",
      "\t\t<tr>\n",
      "\t\t\t<td>\n",
      "\t\t\t\t<h4>\n",
      "\t\t\t\t\tFunctionality</h4>\n",
      "\t\t\t</td>\n",
      "\t\t\t<td>\n",
      "\t\t\t\t<p>\n",
      "\t\t\t\t\t<a href=\"http://www.lynda.com/Excel-tutorials/Creating-simple-formulas-Totals-averages/116478/125026-4.html\" target=\"_blank\">Creating Simple Formulas in Excel</a></p>\n",
      "\t\t\t\t<p>\n",
      "\t\t\t\t\t<a href=\"http://www.lynda.com/Excel-tutorials/Understanding-hierarchy-operations-Excel-formulas/126129/135738-4.html\" target=\"_blank\">Hierarchy of Operations</a></p>\n",
      "\t\t\t\t<p>\n",
      "\t\t\t\t\t<a href=\"http://www.lynda.com/Excel-tutorials/Using-absolute-relative-references-formulas/126129/135742-4.html\" target=\"_blank\">Absolute and Relative Reference</a></p>\n",
      "\t\t\t\t<p>\n",
      "\t\t\t\t\t<a href=\"http://www.lynda.com/Excel-tutorials/Using-mixed-references-formulas/126129/135743-4.html\" target=\"_blank\">Mixed References</a></p>\n",
      "\t\t\t</td>\n",
      "\t\t\t<td>\n",
      "\t\t\t\t<p>\n",
      "\t\t\t\t\t<a href=\"http://www.lynda.com/Excel-tutorials/Creating-selecting-named-ranges-quickly/115432/123826-4.html\" target=\"_blank\">Naming Cells</a></p>\n",
      "\t\t\t\t<p>\n",
      "\t\t\t\t\t<a href=\"http://www.lynda.com/Excel-tutorials/Using-other-common-functions/116478/125032-4.html\" target=\"_blank\">Useful Functions</a></p>\n",
      "\t\t\t\t<p>\n",
      "\t\t\t\t\t<a href=\"http://www.lynda.com/Excel-tutorials/Analyzing-formula-errors/115432/123830-4.html\" target=\"_blank\">Analyzing a Formula for Errors</a></p>\n",
      "\t\t\t</td>\n",
      "\t\t</tr>\n",
      "\t\t<tr>\n",
      "\t\t\t<td>\n",
      "\t\t\t\t<h4>\n",
      "\t\t\t\t\tFormatting</h4>\n",
      "\t\t\t</td>\n",
      "\t\t\t<td>\n",
      "\t\t\t\t<p>\n",
      "\t\t\t\t\t<a href=\"http://www.lynda.com/Excel-tutorials/Using-styles-themes-consistent-formatting/144858/157963-4.html\" target=\"_blank\">Styles and&nbsp;Themes</a></p>\n",
      "\t\t\t\t<p>\n",
      "\t\t\t\t\t<a href=\"http://www.lynda.com/Excel-tutorials/Using-fill-color-patterns-cell-backgrounds/144858/157943-4.html\" target=\"_blank\">Cell Background Color</a></p>\n",
      "\t\t\t\t<p>\n",
      "\t\t\t\t\t<a href=\"http://www.lynda.com/Excel-tutorials/Applying-border-styles-adjusting-gridlines/144858/157942-4.html\" target=\"_blank\">Cell Borders</a></p>\n",
      "\t\t\t</td>\n",
      "\t\t\t<td>\n",
      "\t\t\t\t<p>\n",
      "\t\t\t\t\t<a href=\"http://www.lynda.com/Excel-tutorials/Creating-value-based-formatting-using-logical-operators/144858/157957-4.html\" target=\"_blank\">Conditional Formatting</a></p>\n",
      "\t\t\t\t<p>\n",
      "\t\t\t\t\t<a href=\"http://www.lynda.com/Excel-tutorials/Creating-formats-based-formulas/144858/157959-4.html\" target=\"_blank\">Conditional Formatting with Formulas</a></p>\n",
      "\t\t\t</td>\n",
      "\t\t</tr>\n",
      "\t\t<tr>\n",
      "\t\t\t<td>\n",
      "\t\t\t\t<h4>\n",
      "\t\t\t\t\tDocumentation</h4>\n",
      "\t\t\t</td>\n",
      "\t\t\t<td>\n",
      "\t\t\t\t<p>\n",
      "\t\t\t\t\t<a href=\"http://www.lynda.com/Excel-tutorials/Inserting-shapes-arrows-other-visual-features/116478/125042-4.html\" target=\"_blank\">Drawing Diagrams with Shapes</a></p>\n",
      "\t\t\t\t<p>\n",
      "\t\t\t\t\t<a href=\"http://www.lynda.com/Excel-tutorials/Adding-comments/116478/125023-4.html\" target=\"_blank\">Adding Comments</a></p>\n",
      "\t\t\t</td>\n",
      "\t\t\t<td>\n",
      "\t\t\t\t<a href=\"http://www.lynda.com/Excel-tutorials/Formatting-math-equations-improved-equation-tools/61218/66467-4.html\" target=\"_blank\">Symbolic Equations in Excel</a></td>\n",
      "\t\t</tr>\n",
      "\t\t<tr>\n",
      "\t\t\t<td>\n",
      "\t\t\t\t<h4>\n",
      "\t\t\t\t\tWorking as a Group</h4>\n",
      "\t\t\t</td>\n",
      "\t\t\t<td>\n",
      "\t\t\t\t&nbsp;</td>\n",
      "\t\t\t<td>\n",
      "\t\t\t\t<a href=\"http://www.lynda.com/Excel-tutorials/Sharing-workbooks/116478/125077-4.html\"  target=\"_blank\">Collaborating in Excel</a></td>\n",
      "\t\t</tr>\n",
      "\t</tbody>\n",
      "</table>"
     ]
    },
    {
     "cell_type": "heading",
     "level": 2,
     "metadata": {},
     "source": [
      "Resources and References"
     ]
    },
    {
     "cell_type": "markdown",
     "metadata": {},
     "source": [
      "[Allowable Support Spacings for Plywood and Sawn Lumber](https://www.dropbox.com/s/pyzxpv0aipadbri/Allowable%20Spacings.pdf)\n",
      "\n",
      "[UF Class website](https://ufl.instructure.com/courses/308516) \n",
      "\n",
      "[Github.io version of course website](http://damontallen.github.io/Construction-Lectures/) *(Do not use this link if you are taking this course in Summer A or B.)*\n",
      "\n",
      "\n",
      "[IPython.org](http://ipython.org/) *(IPython is the opensource software used in the development of much of this course.)*\n",
      "\n",
      "[Complete Software List](http://nbviewer.ipython.org/github/damontallen/Construction-Lectures/blob/master/Resources.ipynb)"
     ]
    }
   ],
   "metadata": {}
  }
 ]
}