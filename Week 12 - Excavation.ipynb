{
 "metadata": {
  "celltoolbar": "Slideshow",
  "name": "",
  "signature": "sha256:c0935ca19002957bb1ce6f1512f2dadbdc30d345413d2b1f26b2f7795866ba84"
 },
 "nbformat": 3,
 "nbformat_minor": 0,
 "worksheets": [
  {
   "cells": [
    {
     "cell_type": "heading",
     "level": 1,
     "metadata": {
      "slideshow": {
       "slide_type": "slide"
      }
     },
     "source": [
      "Excavation Shoring"
     ]
    },
    {
     "cell_type": "markdown",
     "metadata": {
      "slideshow": {
       "slide_type": "-"
      }
     },
     "source": [
      "<iframe width=\"420\" height=\"315\" src=\"//www.youtube.com/embed/aw6dOpZ6LbI\" frameborder=\"0\" allowfullscreen></iframe>\n",
      "\n"
     ]
    },
    {
     "cell_type": "heading",
     "level": 2,
     "metadata": {
      "slideshow": {
       "slide_type": "slide"
      }
     },
     "source": [
      "OSHA Timber Shoring Tables"
     ]
    },
    {
     "cell_type": "markdown",
     "metadata": {
      "slideshow": {
       "slide_type": "-"
      }
     },
     "source": [
      "<audio controls data-autoplay preload>\n",
      " <source src=\"https://github.com/damontallen/Construction-Lectures/raw/master/Lecture%20Audio/Week%2012/Excavations/OSHA%20Timber%20Shoring%20Tables.mp3\"\n",
      "         type='audio/mp3'>\n",
      " <p>Your user agent does not support the HTML5 Audio element or the files are missing.</p>\n",
      "</audio>"
     ]
    },
    {
     "cell_type": "markdown",
     "metadata": {
      "slideshow": {
       "slide_type": "-"
      }
     },
     "source": [
      "<a href = \"http://www.vellano.com/AJ-Vel/images/BAB_3sided01.jpg\"><img src=\"http://www.vellano.com/AJ-Vel/images/BAB_3sided01.jpg\" alt = \"Trench Box\" title = \"Trench Box\" style=\"max-width:300px; max-height:300px; border:1px solid blue; float:right; margin-left:10px;\"/></a>\n",
      "\n",
      "\n",
      "Typically trench excavation is supported by trench boxes (aka trench shields) now days.  This is for conveyance and usability.  However, OSHA's specification on Excavations in [1926 Subpart P - Excavations](https://www.osha.gov/pls/oshaweb/owadisp.show_document?p_table=STANDARDS&p_id=10930) include a section on [Timber Shoring in subpart P appendix C](https://www.osha.gov/pls/oshaweb/owadisp.show_document?p_table=STANDARDS&p_id=10933), along with the tables to design them.  OSHA's version of the tables are pretty rough, so I've cleaned them up, and more readable versions can be downloaded from [here](https://www.dropbox.com/sh/gi5x1oyv1ojm4ld/wCkXqLpo4x/Timber%20Tables%20with%20notes.pdf).  The reason to get familiar with these tables, is that they are really the most difficult excavation shoring tables out there.  That being said, if you can use one of these tables, then the much simpler tables for trench boxes will be a piece of cake to use.\n",
      "\n",
      "Now, designing shoring systems is only one aspect of trench safety, but that is something that you should have already covered in your safety class so I am not going to cover it here.  If you have not had a safety class on trenches, then you can either simply read the [OSHA specifications](https://www.osha.gov/pls/oshaweb/owadisp.show_document?p_table=STANDARDS&p_id=10930), or take one of the many classes on trench safety offered privately by manufactures and rental companies.  Depending on your situation, you might even get to take one for free.\n",
      "\n",
      "I am going to be covering some information pertaining to soils, and allowable slopes, but the focus of this presentation is going to be on getting familiar with the Timber Shoring tables."
     ]
    },
    {
     "cell_type": "heading",
     "level": 2,
     "metadata": {
      "slideshow": {
       "slide_type": "slide"
      }
     },
     "source": [
      "Soil Type A"
     ]
    },
    {
     "cell_type": "markdown",
     "metadata": {
      "slideshow": {
       "slide_type": "-"
      }
     },
     "source": [
      "<audio controls data-autoplay preload>\n",
      " <source src=\"https://github.com/damontallen/Construction-Lectures/raw/master/Lecture%20Audio/Week%2012/Excavations/Soil%20Type%20A.mp3\"\n",
      "         type='audio/mp3'>\n",
      " <p>Your user agent does not support the HTML5 Audio element or the files are missing.</p>\n",
      "</audio>"
     ]
    },
    {
     "cell_type": "markdown",
     "metadata": {
      "slideshow": {
       "slide_type": "-"
      }
     },
     "source": [
      "<a href = \"http://1.bp.blogspot.com/_DzWFKhu_mdM/TUtDiLFLqBI/AAAAAAAAHbU/vTM_NF-Ka0o/s400/AZGS%2B-%2BADWR%2Bcochise%2Bco%2Bfissure%2B2-2-11.jpg\"><img src=\"http://1.bp.blogspot.com/_DzWFKhu_mdM/TUtDiLFLqBI/AAAAAAAAHbU/vTM_NF-Ka0o/s400/AZGS%2B-%2BADWR%2Bcochise%2Bco%2Bfissure%2B2-2-11.jpg\" alt = \"Soil Fissures\" title = \"Soil Fissures\" style=\"max-width:300px; max-height:300px; border:1px solid blue; float:right; margin-left:10px;\"/></a>\n",
      "\n",
      "\n",
      "\"Type A\" means cohesive soils with an unconfined, compressive strength of 1.5 tons per square foot (tsf) (144 kPa), or greater. Examples of cohesive soils are: clay, silty clay, sandy clay, clay loam, and, in some cases, silty clay loam and sandy clay loam. Cemented soils such as caliche, and hardpan are also considered Type A. However, no soil is Type A if:\n",
      "\n",
      "1. The soil is fissured; or\n",
      "2. The soil is subject to vibration from heavy traffic, pile driving, or similar effects; or\n",
      "3. The soil has been previously disturbed; or\n",
      "4. The soil is part of a sloped, layered system where the layers dip into the excavation on a slope of four horizontal to one vertical (4H:1V) or greater; or\n",
      "5. The material is subject to other factors that would require it to be classified as a less stable material.\n",
      "\n",
      "*([Fissured Soil Image Source](http://arizonageology.blogspot.com/2011/02/new-earth-fissures-in-cochise-county.html))*\n",
      "\n",
      "I need to point out that Soil type A is very rare, and it is unlikely that you will every come across it in your career.  You should also know that, if you have two separate layers of soil of different soil types, its safest to design for the lowest strength soil layer. \n",
      "\n",
      "<a href = \"https://www.osha.gov/OshStd_gif/26pfb11a.gif\"><img src=\"https://www.osha.gov/OshStd_gif/26pfb11a.gif\" alt = \"OSHA: Simple Slope\" title = \"OSHA: Simple Slope\" style=\"max-width:300px; max-height:300px; border:1px solid blue; float:left; margin-right:10px;\"/></a>\n",
      "\n",
      "<a href = \"https://www.osha.gov/OshStd_gif/26pfb11d.gif\"><img src=\"https://www.osha.gov/OshStd_gif/26pfb11d.gif\" alt = \"OSHA: Multiple Bench\" title = \"OSHA: Multiple Bench\" style=\"max-width:300px; max-height:300px; border:1px solid blue; float:right; margin-left:10px;\"/></a>\n",
      "\n",
      "That being said, if you do come across Soil type A, then you might want to use sloped sides rather than shoring.  The minimum slope that OSHA allows for Type A Soil is 3/4 to 1.  So, in the image of the 20 ft deep trench, to the left, the side would have to be 15 ft further back than at the bottom of the trench.  Some additional guidelines are available for sloping in layered soils of different types in section [1926 Subpart P App B - Sloping and Benching](https://www.osha.gov/pls/oshaweb/owadisp.show_document?p_table=STANDARDS&p_id=10932).\n",
      "\n",
      "Speaking of which, you can also use benching, but you still need to maintain that slope with the exception of the bottom 4 ft.  This 4 ft limit comes from the specification [1926.651(c)(2)](https://www.osha.gov/pls/oshaweb/owadisp.show_document?p_table=STANDARDS&p_id=10775) about requirements of egress.  Interestingly enough, you can have a 5 ft deep trench if an examination, by a competent person, shows no indication of a potential cave-in.\n",
      "\n",
      "One last general note, there are requirements that state the soil spoils should be kept at least 2 ft away from the edges of an excavation in order to prevent trench collapse.  You should be aware, that this excavated soil is of Type C, and must be sloped accordingly if personnel will be anywhere near it. \n",
      "\n",
      "*(Continued on the next slide.)*"
     ]
    },
    {
     "cell_type": "heading",
     "level": 2,
     "metadata": {
      "slideshow": {
       "slide_type": "slide"
      }
     },
     "source": [
      "Soil Type A (Continued)"
     ]
    },
    {
     "cell_type": "markdown",
     "metadata": {},
     "source": [
      "<audio controls data-autoplay preload>\n",
      " <source src=\"https://github.com/damontallen/Construction-Lectures/raw/master/Lecture%20Audio/Week%2012/Excavations/Soil%20Type%20A%20(Continued).mp3\"\n",
      "         type='audio/mp3'>\n",
      " <p>Your user agent does not support the HTML5 Audio element or the files are missing.</p>\n",
      "</audio>"
     ]
    },
    {
     "cell_type": "markdown",
     "metadata": {},
     "source": [
      "\n",
      "\n",
      "<a href = \"https://www.osha.gov/OshStd_gif/26pfb11g.gif\"><img src=\"https://www.osha.gov/OshStd_gif/26pfb11g.gif\" alt = \"OSHA: Shielded Support\" title = \"OSHA: Shielded Support\" style=\"max-width:300px; max-height:300px; border:1px solid blue; float:right; margin-left:10px;\"/></a>\n",
      "\n",
      "The trench requirements for shoring, or shield support, are that the sides of the shield must be at least 18\" above the adjacent soil to prevent overtopping from small slides.  Additionally, any soil above the shield must be sloped (or benched) in accorance with its soil type."
     ]
    },
    {
     "cell_type": "heading",
     "level": 2,
     "metadata": {
      "slideshow": {
       "slide_type": "slide"
      }
     },
     "source": [
      "Soil Type B"
     ]
    },
    {
     "cell_type": "markdown",
     "metadata": {},
     "source": [
      "<audio controls data-autoplay preload>\n",
      " <source src=\"https://github.com/damontallen/Construction-Lectures/raw/master/Lecture%20Audio/Week%2012/Excavations/Soil%20Type%20B.mp3\"\n",
      "         type='audio/mp3'>\n",
      " <p>Your user agent does not support the HTML5 Audio element or the files are missing.</p>\n",
      "</audio>"
     ]
    },
    {
     "cell_type": "markdown",
     "metadata": {},
     "source": [
      "<a href = \"https://www.osha.gov/OshStd_gif/26pfb12a.gif\"><img src=\"https://www.osha.gov/OshStd_gif/26pfb12a.gif\" alt = \"OSHA: Soil Type B Simple Slope\" title = \"OSHA: Soil Type B Simple Slope\" style=\"max-width:300px; max-height:300px; border:1px solid blue; float:right; margin-left:10px;\"/></a>\n",
      "\n",
      "\"Type B\" means:\n",
      "\n",
      "1. Cohesive soil with an unconfined compressive strength greater than 0.5 tsf (48 kPa) but less than 1.5 tsf (144 kPa); or\n",
      "2. Granular cohesionless soils including: angular gravel (similar to crushed rock), silt, silt loam, sandy loam, and, in some cases, silty clay loam and sandy clay loam.\n",
      "3. Previously disturbed soils except those which would otherwise be classified as Type C soil.\n",
      "4. Soil that meets the unconfined compressive strength, or cementation requirements of Type A soil, but is subject to vibration or fissured; or\n",
      "5. Dry rock that is not stable; or\n",
      "6. Material that is part of a sloped, layered, system, where the layers dip into the excavation on a slope less steep than four horizontal to one vertical (4H:1V), but only if the material would otherwise be classified as Type B.\n",
      "\n",
      "<a href = \"https://www.osha.gov/OshStd_gif/26pfb12d.gif\"><img src=\"https://www.osha.gov/OshStd_gif/26pfb12d.gif\" alt = \"OSHA: Soil Type B Shield Supported\" title = \"OSHA: Soil Type B Shield Supported\"style=\"max-width:300px; max-height:300px; border:1px solid blue; float:left; margin-right:3px;\"/></a>\n",
      "\n",
      "<a href = \"https://www.osha.gov/OshStd_gif/26pfb12c.gif\"><img src=\"https://www.osha.gov/OshStd_gif/26pfb12c.gif\" alt = \"OSHA: Benched Soil Type B\" title = \"OSHA: Benched Soil Type B\" style=\"max-width:300px; max-height:300px; border:1px solid blue; float:right; margin-left:10px;\"/></a>\n",
      "\n",
      "Notice that the compressive strength is less than it is for Type A soil and the sloping requirements are 1 to 1."
     ]
    },
    {
     "cell_type": "heading",
     "level": 2,
     "metadata": {
      "slideshow": {
       "slide_type": "slide"
      }
     },
     "source": [
      "Soil Type C"
     ]
    },
    {
     "cell_type": "markdown",
     "metadata": {},
     "source": [
      "<audio controls data-autoplay preload>\n",
      " <source src=\"https://github.com/damontallen/Construction-Lectures/raw/master/Lecture%20Audio/Week%2012/Excavations/Soil%20Type%20C.mp3\"\n",
      "         type='audio/mp3'>\n",
      " <p>Your user agent does not support the HTML5 Audio element or the files are missing.</p>\n",
      "</audio>"
     ]
    },
    {
     "cell_type": "markdown",
     "metadata": {},
     "source": [
      "<a href = \"https://www.osha.gov/OshStd_gif/26pfb13a.gif\"><img src=\"https://www.osha.gov/OshStd_gif/26pfb13a.gif\" alt = \"OSHA: Soil Type C Simple Slope (1.5 to 1)\" title = \"OSHA: Soil Type C Simple Slope (1.5 to 1)\" style=\"max-width:300px; max-height:300px; border:1px solid blue; float:right; margin-left:10px;\"/></a>\n",
      "\n",
      "\"Type C\" means:\n",
      "\n",
      "1. Cohesive soil with an unconfined compressive strength of 0.5 tsf (48 kPa) or less; or\n",
      "2. Granular soils including gravel, sand, and loamy sand; or\n",
      "3. Submerged soil or soil from which water is freely seeping; or\n",
      "4. Submerged rock that is not stable, or\n",
      "5. Material in a sloped, layered system where the layers dip into the excavation on a slope of four horizontal to one vertical (4H:1V) or steeper.\n",
      "\n",
      "<a href = \"https://www.osha.gov/OshStd_gif/26pfb13b.gif\"><img src=\"https://www.osha.gov/OshStd_gif/26pfb13b.gif\" alt = \"OSHA: Soil Type C Shield Supported\" title = \"OSHA: Soil Type C Shield Supported\"style=\"max-width:300px; max-height:300px; border:1px solid blue; float:left; margin-right:3px;\"/></a>\n",
      "\n",
      "Type C soil is generally what you will find in the state of Florida and all cities.  It should also be noted that no benching is allowed in Soil Type C.  The slope is a little hard to read, so to be clear the slope requirements are a maximum of $1 \\frac{1}{2}$ to $1$.  Based on the simple slope drawing, if you have a trench 20 ft deep, in Type C soil, and the bottom is 5 ft wide, then the width of the trench at the top will be at least 65 ft.  Think about how big your site would have to be to store the spoils."
     ]
    },
    {
     "cell_type": "heading",
     "level": 2,
     "metadata": {
      "slideshow": {
       "slide_type": "slide"
      }
     },
     "source": [
      "Thumb Penetration Test"
     ]
    },
    {
     "cell_type": "markdown",
     "metadata": {},
     "source": [
      "<audio controls data-autoplay preload>\n",
      " <source src=\"https://github.com/damontallen/Construction-Lectures/raw/master/Lecture%20Audio/Week%2012/Excavations/Thumb%20Penetration%20Test.mp3\"\n",
      "         type='audio/mp3'>\n",
      " <p>Your user agent does not support the HTML5 Audio element or the files are missing.</p>\n",
      "</audio>"
     ]
    },
    {
     "cell_type": "markdown",
     "metadata": {},
     "source": [
      "<a href = \"http://www.excavationsafetynews.com/wp-content/uploads/2011/06/Soil-Testing072706077_JPD.jpg\"><img src=\"http://www.excavationsafetynews.com/wp-content/uploads/2011/06/Soil-Testing072706077_JPD.jpg\" alt = \"Simulated Thumb Penetration Test\" title = \"Simulated Thumb Penetration Test\" style=\"max-width:300px; max-height:300px;  float:right; margin-left:10px;\"/></a>\n",
      "\n",
      "OSHA's thumb penetration test can be used to estimate the unconfined compressive strength of cohesive soils. (This test is based on the thumb penetration test described in the American Society for Testing and Materials (ASTM) Standard designation D2488 - \"Standard Recommended Practice for Description of Soils (Visual - Manual Procedure).\") \n",
      "\n",
      "Type A soils with an unconfined compressive strength of 1.5 tsf can be readily indented by the thumb; however, they can only be penetrated by the thumb with very great effort. \n",
      "\n",
      "Type C soils with an unconfined compressive strength of 0.5 tsf can be easily penetrated several inches by the thumb, and can be molded with light finger pressure. \n",
      "\n",
      "Since Type B soils have a compressive strength less than Type A but more than Type C, if your thumb can penitrate the sample with moderate effort, then the soil is Type B.\n",
      "\n",
      "This test should be conducted on an undisturbed soil sample, such as a large clump of spoil, as soon as practicable after excavation to minimize the effects of exposure to drying influences. If the excavation is later exposed to wetting influences (rain, flooding), the classification of the soil must be changed accordingly.\n",
      "\n",
      "*([Simulated Thumb Penetration Test Image Source](http://www.excavationsafetynews.com/2011/06/soils-classification-part-2testing-and-re-testing-is-a-key-to-safety/))*"
     ]
    },
    {
     "cell_type": "code",
     "collapsed": false,
     "input": [
      "%run OSHA_Tables/Base_Table.py\n",
      "Oak_Soil_A = load_table(\"Oak_C-1_1.csv\")\n",
      "Oak_Soil_B = load_table(\"Oak_C-1_2.csv\")\n",
      "Oak_Soil_C = load_table(\"Oak_C-1_3.csv\")\n",
      "DF_Soil_A = load_table(\"DF_C-2_1.csv\")\n",
      "DF_Soil_B = load_table(\"DF_C-2_2.csv\")\n",
      "DF_Soil_C = load_table(\"DF_C-2_3.csv\")"
     ],
     "language": "python",
     "metadata": {
      "slideshow": {
       "slide_type": "skip"
      }
     },
     "outputs": [],
     "prompt_number": 1
    },
    {
     "cell_type": "heading",
     "level": 2,
     "metadata": {
      "slideshow": {
       "slide_type": "slide"
      }
     },
     "source": [
      "Timber Shoring Parts"
     ]
    },
    {
     "cell_type": "markdown",
     "metadata": {},
     "source": [
      "<audio controls data-autoplay preload>\n",
      " <source src=\"https://github.com/damontallen/Construction-Lectures/raw/master/Lecture%20Audio/Week%2012/Excavations/Timber%20Shoring%20Parts.mp3\"\n",
      "         type='audio/mp3'>\n",
      " <p>Your user agent does not support the HTML5 Audio element or the files are missing.</p>\n",
      "</audio>"
     ]
    },
    {
     "cell_type": "markdown",
     "metadata": {},
     "source": [
      "<a href = \"http://i.imgur.com/mtG0bML.png\"><img src=\"http://i.imgur.com/mtG0bML.png\" alt = \"Timber Excavation Shoring\" title = \"Timber Excavation Shoring\" style=\"max-width:350px; max-height:350px; border:1px solid blue; float:right; margin-left:10px;\"/></a>\n",
      "\n",
      "When we look at the shoring tables we need to be clear about just what each part is.  The image to the right is of a cutaway of a trench, showing the uprights, and wales of one side, as well as the shoring cross braces.\n",
      "\n",
      "In this image, the uprights extend 18\" above the top of the trench; so this shoring could be setting in a trench below grade, with sloped sides above, or just the spoils pile could be nearby. \n",
      "\n",
      "Though the image is not showing any additional supports for the cross braces or wales, these supports would have to be present unless the assembly was bolted together."
     ]
    },
    {
     "cell_type": "heading",
     "level": 2,
     "metadata": {
      "slideshow": {
       "slide_type": "slide"
      }
     },
     "source": [
      "Timber Tables"
     ]
    },
    {
     "cell_type": "markdown",
     "metadata": {},
     "source": [
      "<audio controls data-autoplay preload>\n",
      " <source src=\"https://github.com/damontallen/Construction-Lectures/raw/master/Lecture%20Audio/Week%2012/Excavations/Timber%20Tables.mp3\"\n",
      "         type='audio/mp3'>\n",
      " <p>Your user agent does not support the HTML5 Audio element or the files are missing.</p>\n",
      "</audio>"
     ]
    },
    {
     "cell_type": "markdown",
     "metadata": {},
     "source": [
      "Let's take a look at one of the OSHA Timber Shoring Tables."
     ]
    },
    {
     "cell_type": "code",
     "collapsed": false,
     "input": [
      "shoring_table(DF_Soil_A)"
     ],
     "language": "python",
     "metadata": {},
     "outputs": [
      {
       "html": [
        "\n",
        "<code>TIMBER TRENCH SHORING -- MINIMUM TIMBER REQUIREMENTS *</code></br>\n",
        "<strong>SOIL TYPE A:</strong><code> P(a) = 25 X H + 72 psf (2 ft Surcharge)</code>\n",
        "<table>\n",
        "<thead>\n",
        "    <tr>\n",
        "        <th rowspan = 5 style=\"text-align: center\">Depth of Trench  (Feet)</th>\n",
        "        <th colspan = 14 style=\"text-align: center\">Size (actual,  not nominal) and Spacing of Members **</th>\n",
        "    </tr>\n",
        "    <tr>\n",
        "        <th colspan = 7 style=\"text-align: center\">Cross Braces</th>\n",
        "        <th colspan = 2 style=\"text-align: center\">Wales</th>\n",
        "        <th colspan = 5 style=\"text-align: center\">Uprights</th>\n",
        "    </tr>\n",
        "    <tr>\n",
        "        <th rowspan = 3 style=\"text-align: center\">Horizontal Spacing (Feet)</th>\n",
        "        <th rowspan = 3 style=\"text-align: center\">Vertical Spacing (Feet)</th>\n",
        "        <th colspan = 5 style=\"text-align: center\">Width of Trench (Feet)</th>\n",
        "        <th rowspan = 3 style=\"text-align: center\">Vertical Spacing (Feet)</th>\n",
        "        <th rowspan = 3 style=\"text-align: center\">Size  (Inches)</th>\n",
        "        <th colspan = 5 style=\"text-align: center\">Maximum Allowable Horizontal Spacing (Feet)</th>\n",
        "    </tr>\n",
        "    <tr>\n",
        "        <th style=\"text-align: center\">UP TO 4</th>\n",
        "        <th style=\"text-align: center\">UP TO 6</th>\n",
        "        <th style=\"text-align: center\">UP TO 9</th>\n",
        "        <th style=\"text-align: center\">UP TO 12</th>\n",
        "        <th style=\"text-align: center\">UP TO 15</th>\n",
        "        <th style=\"text-align: center\">CLOSE</th>\n",
        "        <th style=\"text-align: center\">4</th>\n",
        "        <th style=\"text-align: center\">5</th>\n",
        "        <th style=\"text-align: center\">6</th>\n",
        "        <th style=\"text-align: center\">8</th>\n",
        "    </tr>\n",
        "</thead>\n",
        "<tbody>\n",
        "    <tr>\n",
        "        <th rowspan = 4>5 TO 10</th>\n",
        "        <th>UP TO 6</th>\n",
        "        <th style=\"text-align: center\">4</th>\n",
        "        <td style=\"text-align: center\"><i>4X4</i></td>\n",
        "        <td style=\"text-align: center\"><i>4X4</i></td>\n",
        "        <td style=\"text-align: center\"><i>4X4</i></td>\n",
        "        <td style=\"text-align: center\"><i>4X4</i></td>\n",
        "        <td style=\"text-align: center\"><i>4X6</i></td>\n",
        "        <th style=\"text-align: center\">\u2013</th>\n",
        "        <td><i>Not Req'd</i></td>\n",
        "        <td style=\"text-align: center\"><i></i></td>\n",
        "        <td style=\"text-align: center\"><i></i></td>\n",
        "        <td style=\"text-align: center\"><i></i></td>\n",
        "        <td style=\"text-align: center\"><i>4X6</i></td>\n",
        "        <td style=\"text-align: center\"><i></i></td>\n",
        "    </tr>\n",
        "    <tr>\n",
        "        <th>UP TO 8</th>\n",
        "        <th style=\"text-align: center\">4</th>\n",
        "        <td style=\"text-align: center\"><i>4X4</i></td>\n",
        "        <td style=\"text-align: center\"><i>4X4</i></td>\n",
        "        <td style=\"text-align: center\"><i>4X4</i></td>\n",
        "        <td style=\"text-align: center\"><i>4X6</i></td>\n",
        "        <td style=\"text-align: center\"><i>4X6</i></td>\n",
        "        <th style=\"text-align: center\">\u2013</th>\n",
        "        <td><i>Not Req'd</i></td>\n",
        "        <td style=\"text-align: center\"><i></i></td>\n",
        "        <td style=\"text-align: center\"><i></i></td>\n",
        "        <td style=\"text-align: center\"><i></i></td>\n",
        "        <td style=\"text-align: center\"><i></i></td>\n",
        "        <td style=\"text-align: center\"><i></i></td>\n",
        "    </tr>\n",
        "    <tr>\n",
        "        <th>UP TO 10</th>\n",
        "        <th style=\"text-align: center\">4</th>\n",
        "        <td style=\"text-align: center\"><i>4X6</i></td>\n",
        "        <td style=\"text-align: center\"><i>4X6</i></td>\n",
        "        <td style=\"text-align: center\"><i>4X6</i></td>\n",
        "        <td style=\"text-align: center\"><i>6X6</i></td>\n",
        "        <td style=\"text-align: center\"><i>6X6</i></td>\n",
        "        <th style=\"text-align: center\">4</th>\n",
        "        <td><i>8X8</i></td>\n",
        "        <td style=\"text-align: center\"><i></i></td>\n",
        "        <td style=\"text-align: center\"><i></i></td>\n",
        "        <td style=\"text-align: center\"><i>4X6</i></td>\n",
        "        <td style=\"text-align: center\"><i></i></td>\n",
        "        <td style=\"text-align: center\"><i></i></td>\n",
        "    </tr>\n",
        "    <tr>\n",
        "        <th>UP TO 12</th>\n",
        "        <th style=\"text-align: center\">4</th>\n",
        "        <td style=\"text-align: center\"><i>4X6</i></td>\n",
        "        <td style=\"text-align: center\"><i>4X6</i></td>\n",
        "        <td style=\"text-align: center\"><i>4X6</i></td>\n",
        "        <td style=\"text-align: center\"><i>6X6</i></td>\n",
        "        <td style=\"text-align: center\"><i>6X6</i></td>\n",
        "        <th style=\"text-align: center\">4</th>\n",
        "        <td><i>8X8</i></td>\n",
        "        <td style=\"text-align: center\"><i></i></td>\n",
        "        <td style=\"text-align: center\"><i></i></td>\n",
        "        <td style=\"text-align: center\"><i></i></td>\n",
        "        <td style=\"text-align: center\"><i>4X6</i></td>\n",
        "        <td style=\"text-align: center\"><i></i></td>\n",
        "    </tr>\n",
        "    \n",
        "    <tr>\n",
        "        <th rowspan = 4>10 TO 15</th>\n",
        "        <th>UP TO 6</th>\n",
        "        <th style=\"text-align: center\">4</th>\n",
        "        <td style=\"text-align: center\"><i>4X4</i></td>\n",
        "        <td style=\"text-align: center\"><i>4X4</i></td>\n",
        "        <td style=\"text-align: center\"><i>4X4</i></td>\n",
        "        <td style=\"text-align: center\"><i>6X6</i></td>\n",
        "        <td style=\"text-align: center\"><i>6X6</i></td>\n",
        "        <th style=\"text-align: center\">\u2013</th>\n",
        "        <td><i>Not Req'd</i></td>\n",
        "        <td style=\"text-align: center\"><i></i></td>\n",
        "        <td style=\"text-align: center\"><i></i></td>\n",
        "        <td style=\"text-align: center\"><i></i></td>\n",
        "        <td style=\"text-align: center\"><i>4X10</i></td>\n",
        "        <td style=\"text-align: center\"><i></i></td>\n",
        "    </tr>\n",
        "    <tr>\n",
        "        <th>UP TO 8</th>\n",
        "        <th style=\"text-align: center\">4</th>\n",
        "        <td style=\"text-align: center\"><i>4X6</i></td>\n",
        "        <td style=\"text-align: center\"><i>4X6</i></td>\n",
        "        <td style=\"text-align: center\"><i>4X6</i></td>\n",
        "        <td style=\"text-align: center\"><i>6X6</i></td>\n",
        "        <td style=\"text-align: center\"><i>6X6</i></td>\n",
        "        <th style=\"text-align: center\">4</th>\n",
        "        <td><i>6X8</i></td>\n",
        "        <td style=\"text-align: center\"><i></i></td>\n",
        "        <td style=\"text-align: center\"><i>4X6</i></td>\n",
        "        <td style=\"text-align: center\"><i></i></td>\n",
        "        <td style=\"text-align: center\"><i></i></td>\n",
        "        <td style=\"text-align: center\"><i></i></td>\n",
        "    </tr>\n",
        "    <tr>\n",
        "        <th>UP TO 10</th>\n",
        "        <th style=\"text-align: center\">4</th>\n",
        "        <td style=\"text-align: center\"><i>6X6</i></td>\n",
        "        <td style=\"text-align: center\"><i>6X6</i></td>\n",
        "        <td style=\"text-align: center\"><i>6X6</i></td>\n",
        "        <td style=\"text-align: center\"><i>6X6</i></td>\n",
        "        <td style=\"text-align: center\"><i>6X6</i></td>\n",
        "        <th style=\"text-align: center\">4</th>\n",
        "        <td><i>8X8</i></td>\n",
        "        <td style=\"text-align: center\"><i></i></td>\n",
        "        <td style=\"text-align: center\"><i></i></td>\n",
        "        <td style=\"text-align: center\"><i>4X8</i></td>\n",
        "        <td style=\"text-align: center\"><i></i></td>\n",
        "        <td style=\"text-align: center\"><i></i></td>\n",
        "    </tr>\n",
        "    <tr>\n",
        "        <th>UP TO 12</th>\n",
        "        <th style=\"text-align: center\">4</th>\n",
        "        <td style=\"text-align: center\"><i>6X6</i></td>\n",
        "        <td style=\"text-align: center\"><i>6X6</i></td>\n",
        "        <td style=\"text-align: center\"><i>6X6</i></td>\n",
        "        <td style=\"text-align: center\"><i>6X6</i></td>\n",
        "        <td style=\"text-align: center\"><i>6X6</i></td>\n",
        "        <th style=\"text-align: center\">4</th>\n",
        "        <td><i>8X10</i></td>\n",
        "        <td style=\"text-align: center\"><i></i></td>\n",
        "        <td style=\"text-align: center\"><i>4X6</i></td>\n",
        "        <td style=\"text-align: center\"><i></i></td>\n",
        "        <td style=\"text-align: center\"><i>4X10</i></td>\n",
        "        <td style=\"text-align: center\"><i></i></td>\n",
        "    </tr>\n",
        "    \n",
        "    <tr>\n",
        "        <th rowspan = 4>15 TO 20</th>\n",
        "        <th>UP TO 6</th>\n",
        "        <th style=\"text-align: center\">4</th>\n",
        "        <td style=\"text-align: center\"><i>6X6</i></td>\n",
        "        <td style=\"text-align: center\"><i>6X6</i></td>\n",
        "        <td style=\"text-align: center\"><i>6X6</i></td>\n",
        "        <td style=\"text-align: center\"><i>6X6</i></td>\n",
        "        <td style=\"text-align: center\"><i>6X6</i></td>\n",
        "        <th style=\"text-align: center\">4</th>\n",
        "        <td><i>6X8</i></td>\n",
        "        <td style=\"text-align: center\"><i>3X6</i></td>\n",
        "        <td style=\"text-align: center\"><i></i></td>\n",
        "        <td style=\"text-align: center\"><i></i></td>\n",
        "        <td style=\"text-align: center\"><i></i></td>\n",
        "        <td style=\"text-align: center\"><i></i></td>\n",
        "    </tr>\n",
        "    <tr>\n",
        "        <th>UP TO 8</th>\n",
        "        <th style=\"text-align: center\">4</th>\n",
        "        <td style=\"text-align: center\"><i>6X6</i></td>\n",
        "        <td style=\"text-align: center\"><i>6X6</i></td>\n",
        "        <td style=\"text-align: center\"><i>6X6</i></td>\n",
        "        <td style=\"text-align: center\"><i>6X6</i></td>\n",
        "        <td style=\"text-align: center\"><i>6X6</i></td>\n",
        "        <th style=\"text-align: center\">4</th>\n",
        "        <td><i>8X8</i></td>\n",
        "        <td style=\"text-align: center\"><i>3X6</i></td>\n",
        "        <td style=\"text-align: center\"><i>4X12</i></td>\n",
        "        <td style=\"text-align: center\"><i></i></td>\n",
        "        <td style=\"text-align: center\"><i></i></td>\n",
        "        <td style=\"text-align: center\"><i></i></td>\n",
        "    </tr>\n",
        "    <tr>\n",
        "        <th>UP TO 10</th>\n",
        "        <th style=\"text-align: center\">4</th>\n",
        "        <td style=\"text-align: center\"><i>6X6</i></td>\n",
        "        <td style=\"text-align: center\"><i>6X6</i></td>\n",
        "        <td style=\"text-align: center\"><i>6X6</i></td>\n",
        "        <td style=\"text-align: center\"><i>6X6</i></td>\n",
        "        <td style=\"text-align: center\"><i>6X8</i></td>\n",
        "        <th style=\"text-align: center\">4</th>\n",
        "        <td><i>8X10</i></td>\n",
        "        <td style=\"text-align: center\"><i>3X6</i></td>\n",
        "        <td style=\"text-align: center\"><i></i></td>\n",
        "        <td style=\"text-align: center\"><i></i></td>\n",
        "        <td style=\"text-align: center\"><i></i></td>\n",
        "        <td style=\"text-align: center\"><i></i></td>\n",
        "    </tr>\n",
        "    <tr>\n",
        "        <th>UP TO 12</th>\n",
        "        <th style=\"text-align: center\">4</th>\n",
        "        <td style=\"text-align: center\"><i>6X6</i></td>\n",
        "        <td style=\"text-align: center\"><i>6X6</i></td>\n",
        "        <td style=\"text-align: center\"><i>6X6</i></td>\n",
        "        <td style=\"text-align: center\"><i>6X8</i></td>\n",
        "        <td style=\"text-align: center\"><i>6X8</i></td>\n",
        "        <th style=\"text-align: center\">4</th>\n",
        "        <td><i>8X12</i></td>\n",
        "        <td style=\"text-align: center\"><i>3X6</i></td>\n",
        "        <td style=\"text-align: center\"><i>4X12</i></td>\n",
        "        <td style=\"text-align: center\"><i></i></td>\n",
        "        <td style=\"text-align: center\"><i></i></td>\n",
        "        <td style=\"text-align: center\"><i></i></td>\n",
        "    </tr>\n",
        "</tbody>\n",
        "<tfoot>\n",
        "    <tr>\n",
        "        <th style=\"text-align: center\">OVER 20</th>\n",
        "        <td colspan = 14>SEE NOTE 1</td>\n",
        "    </tr>\n",
        "</tfoot>\n",
        "</table>\n",
        "<i>C-2.1 (Soil Type A  \u2013<strong> Douglas Fir Members</strong>) </i>\n",
        "</br>* Douglas fir or equivalent with a bending strength not less than 1500 psi.\n",
        "</br>** Manufactured members of equivalent strength may be substituted for wood."
       ],
       "metadata": {},
       "output_type": "pyout",
       "prompt_number": 2,
       "text": [
        "<IPython.core.display.HTML at 0x7f8530a0da20>"
       ]
      }
     ],
     "prompt_number": 2
    },
    {
     "cell_type": "markdown",
     "metadata": {},
     "source": [
      "Firstly, this table is formatted slightly different to the ones in my [pdf here](https://www.dropbox.com/sh/gi5x1oyv1ojm4ld/wCkXqLpo4x/Timber%20Tables%20with%20notes.pdf), but it contains the same information, and we use it the same way.  First we read down to our tench depth, i.e. 13 ft would fall in the \"10 TO 15\" range.  Next we pick our Horizontal spacing of our cross braces.  Let's have our cross braces spaced at 8 ft on center.  Let's also say that our trench is 6 ft wide.  \n",
      "\n",
      "With this final bit of information we can determine the member sizes, and remaining spacings.  Our cross braces need to be 4x6s and spaced vertically every 4 ft.  Our wales need to be 6x8s also spaced 4 ft vertically.  Lastly, our uprights need to be 4x6s, but since this is Type A soil we only need to have one ever 4 ft horizontally.\n",
      "\n",
      "Since we have covered timber beams and columns you might be strick by the sizes of the members.  The reason for this is when soil fails, and the trench tries to collapse, that soil will act like a liquid that weights 120 pounds per cubic foot.  You can think of soil like concrete except that it sets up instantly when it stops moving.  In a shallow 5 ft trench, the soil pressure could be as much as 600 psf.  That would be like a car parked on your chest, almost certain death."
     ]
    },
    {
     "cell_type": "heading",
     "level": 2,
     "metadata": {
      "slideshow": {
       "slide_type": "slide"
      }
     },
     "source": [
      "Example 1"
     ]
    },
    {
     "cell_type": "markdown",
     "metadata": {},
     "source": [
      "<audio controls data-autoplay preload>\n",
      " <source src=\"https://github.com/damontallen/Construction-Lectures/raw/master/Lecture%20Audio/Week%2012/Excavations/Example%201.mp3\"\n",
      "         type='audio/mp3'>\n",
      " <p>Your user agent does not support the HTML5 Audio element or the files are missing.</p>\n",
      "</audio>"
     ]
    },
    {
     "cell_type": "markdown",
     "metadata": {},
     "source": [
      "It is probably easier for you to learn how to use these tables by checking to see if a particular design is correct.  Look at the following design and try to determine if it is adequate.  If there is something wrong, make a note of it.  Once you have decided, click on the slide below to see if you were right.\n",
      "\n",
      "Using Oak shoring, in a 16 ft deep, and 9 ft wide trench, through Type B soil:\n",
      "\n",
      "* 6x8 Cross Braces spaced 5 ft vertically and 6 ft horizontally\n",
      "* 8x10 Wales spaced 5 ft vertically\n",
      "* 3x6 Uprights spaced as close as they can be."
     ]
    },
    {
     "cell_type": "code",
     "collapsed": false,
     "input": [
      "shoring_table(Oak_Soil_B)"
     ],
     "language": "python",
     "metadata": {},
     "outputs": [
      {
       "html": [
        "\n",
        "<code>TIMBER TRENCH SHORING -- MINIMUM TIMBER REQUIREMENTS *</code></br>\n",
        "<strong>SOIL TYPE B:</strong><code> P(a) = 45 X H + 72 psf (2 ft Surcharge)</code>\n",
        "<table>\n",
        "<thead>\n",
        "    <tr>\n",
        "        <th rowspan = 5 style=\"text-align: center\">Depth of Trench  (Feet)</th>\n",
        "        <th colspan = 14 style=\"text-align: center\">Size (actual,  not nominal) and Spacing of Members **</th>\n",
        "    </tr>\n",
        "    <tr>\n",
        "        <th colspan = 7 style=\"text-align: center\">Cross Braces</th>\n",
        "        <th colspan = 2 style=\"text-align: center\">Wales</th>\n",
        "        <th colspan = 5 style=\"text-align: center\">Uprights</th>\n",
        "    </tr>\n",
        "    <tr>\n",
        "        <th rowspan = 3 style=\"text-align: center\">Horizontal Spacing (Feet)</th>\n",
        "        <th rowspan = 3 style=\"text-align: center\">Vertical Spacing (Feet)</th>\n",
        "        <th colspan = 5 style=\"text-align: center\">Width of Trench (Feet)</th>\n",
        "        <th rowspan = 3 style=\"text-align: center\">Vertical Spacing (Feet)</th>\n",
        "        <th rowspan = 3 style=\"text-align: center\">Size  (Inches)</th>\n",
        "        <th colspan = 5 style=\"text-align: center\">Maximum Allowable Horizontal Spacing (Feet)</th>\n",
        "    </tr>\n",
        "    <tr>\n",
        "        <th style=\"text-align: center\">UP TO 4</th>\n",
        "        <th style=\"text-align: center\">UP TO 6</th>\n",
        "        <th style=\"text-align: center\">UP TO 9</th>\n",
        "        <th style=\"text-align: center\">UP TO 12</th>\n",
        "        <th style=\"text-align: center\">UP TO 15</th>\n",
        "        <th style=\"text-align: center\">CLOSE</th>\n",
        "        <th style=\"text-align: center\">4</th>\n",
        "        <th style=\"text-align: center\">5</th>\n",
        "        <th style=\"text-align: center\">6</th>\n",
        "        <th style=\"text-align: center\">8</th>\n",
        "    </tr>\n",
        "</thead>\n",
        "<tbody>\n",
        "    <tr>\n",
        "        <th rowspan = 4>5 TO 10</th>\n",
        "        <th>UP TO 6</th>\n",
        "        <th style=\"text-align: center\">5</th>\n",
        "        <td style=\"text-align: center\"><i>4X6</i></td>\n",
        "        <td style=\"text-align: center\"><i>4X6</i></td>\n",
        "        <td style=\"text-align: center\"><i>6X6</i></td>\n",
        "        <td style=\"text-align: center\"><i>6X6</i></td>\n",
        "        <td style=\"text-align: center\"><i>6X6</i></td>\n",
        "        <th style=\"text-align: center\">5</th>\n",
        "        <td><i>6X8</i></td>\n",
        "        <td style=\"text-align: center\"><i></i></td>\n",
        "        <td style=\"text-align: center\"><i></i></td>\n",
        "        <td style=\"text-align: center\"><i>2X6</i></td>\n",
        "        <td style=\"text-align: center\"><i></i></td>\n",
        "        <td style=\"text-align: center\"><i></i></td>\n",
        "    </tr>\n",
        "    <tr>\n",
        "        <th>UP TO 8</th>\n",
        "        <th style=\"text-align: center\">5</th>\n",
        "        <td style=\"text-align: center\"><i>6X6</i></td>\n",
        "        <td style=\"text-align: center\"><i>6X6</i></td>\n",
        "        <td style=\"text-align: center\"><i>6X6</i></td>\n",
        "        <td style=\"text-align: center\"><i>6X8</i></td>\n",
        "        <td style=\"text-align: center\"><i>6X8</i></td>\n",
        "        <th style=\"text-align: center\">5</th>\n",
        "        <td><i>8X10</i></td>\n",
        "        <td style=\"text-align: center\"><i></i></td>\n",
        "        <td style=\"text-align: center\"><i></i></td>\n",
        "        <td style=\"text-align: center\"><i>2X6</i></td>\n",
        "        <td style=\"text-align: center\"><i></i></td>\n",
        "        <td style=\"text-align: center\"><i></i></td>\n",
        "    </tr>\n",
        "    <tr>\n",
        "        <th>UP TO 10</th>\n",
        "        <th style=\"text-align: center\">5</th>\n",
        "        <td style=\"text-align: center\"><i>6X6</i></td>\n",
        "        <td style=\"text-align: center\"><i>6X6</i></td>\n",
        "        <td style=\"text-align: center\"><i>6X6</i></td>\n",
        "        <td style=\"text-align: center\"><i>6X8</i></td>\n",
        "        <td style=\"text-align: center\"><i>6X8</i></td>\n",
        "        <th style=\"text-align: center\">5</th>\n",
        "        <td><i>10X10</i></td>\n",
        "        <td style=\"text-align: center\"><i></i></td>\n",
        "        <td style=\"text-align: center\"><i></i></td>\n",
        "        <td style=\"text-align: center\"><i>2X6</i></td>\n",
        "        <td style=\"text-align: center\"><i></i></td>\n",
        "        <td style=\"text-align: center\"><i></i></td>\n",
        "    </tr>\n",
        "    <tr>\n",
        "        <th>See Note 1</th>\n",
        "        <th style=\"text-align: center\"></th>\n",
        "        <td style=\"text-align: center\"><i></i></td>\n",
        "        <td style=\"text-align: center\"><i></i></td>\n",
        "        <td style=\"text-align: center\"><i></i></td>\n",
        "        <td style=\"text-align: center\"><i></i></td>\n",
        "        <td style=\"text-align: center\"><i></i></td>\n",
        "        <th style=\"text-align: center\"></th>\n",
        "        <td><i></i></td>\n",
        "        <td style=\"text-align: center\"><i></i></td>\n",
        "        <td style=\"text-align: center\"><i></i></td>\n",
        "        <td style=\"text-align: center\"><i></i></td>\n",
        "        <td style=\"text-align: center\"><i></i></td>\n",
        "        <td style=\"text-align: center\"><i></i></td>\n",
        "    </tr>\n",
        "    \n",
        "    <tr>\n",
        "        <th rowspan = 4>10 TO 15</th>\n",
        "        <th>UP TO 6</th>\n",
        "        <th style=\"text-align: center\">5</th>\n",
        "        <td style=\"text-align: center\"><i>6X6</i></td>\n",
        "        <td style=\"text-align: center\"><i>6X6</i></td>\n",
        "        <td style=\"text-align: center\"><i>6X6</i></td>\n",
        "        <td style=\"text-align: center\"><i>6X8</i></td>\n",
        "        <td style=\"text-align: center\"><i>6X8</i></td>\n",
        "        <th style=\"text-align: center\">5</th>\n",
        "        <td><i>8X8</i></td>\n",
        "        <td style=\"text-align: center\"><i></i></td>\n",
        "        <td style=\"text-align: center\"><i>2X6</i></td>\n",
        "        <td style=\"text-align: center\"><i></i></td>\n",
        "        <td style=\"text-align: center\"><i></i></td>\n",
        "        <td style=\"text-align: center\"><i></i></td>\n",
        "    </tr>\n",
        "    <tr>\n",
        "        <th>UP TO 8</th>\n",
        "        <th style=\"text-align: center\">5</th>\n",
        "        <td style=\"text-align: center\"><i>6X6</i></td>\n",
        "        <td style=\"text-align: center\"><i>6X6</i></td>\n",
        "        <td style=\"text-align: center\"><i>6X6</i></td>\n",
        "        <td style=\"text-align: center\"><i>8X8</i></td>\n",
        "        <td style=\"text-align: center\"><i>8X8</i></td>\n",
        "        <th style=\"text-align: center\">5</th>\n",
        "        <td><i>10X10</i></td>\n",
        "        <td style=\"text-align: center\"><i></i></td>\n",
        "        <td style=\"text-align: center\"><i>2X6</i></td>\n",
        "        <td style=\"text-align: center\"><i></i></td>\n",
        "        <td style=\"text-align: center\"><i></i></td>\n",
        "        <td style=\"text-align: center\"><i></i></td>\n",
        "    </tr>\n",
        "    <tr>\n",
        "        <th>UP TO 10</th>\n",
        "        <th style=\"text-align: center\">5</th>\n",
        "        <td style=\"text-align: center\"><i>8X8</i></td>\n",
        "        <td style=\"text-align: center\"><i>8X8</i></td>\n",
        "        <td style=\"text-align: center\"><i>8X8</i></td>\n",
        "        <td style=\"text-align: center\"><i>8X8</i></td>\n",
        "        <td style=\"text-align: center\"><i>8X10</i></td>\n",
        "        <th style=\"text-align: center\">5</th>\n",
        "        <td><i>10X12</i></td>\n",
        "        <td style=\"text-align: center\"><i></i></td>\n",
        "        <td style=\"text-align: center\"><i>2X6</i></td>\n",
        "        <td style=\"text-align: center\"><i></i></td>\n",
        "        <td style=\"text-align: center\"><i></i></td>\n",
        "        <td style=\"text-align: center\"><i></i></td>\n",
        "    </tr>\n",
        "    <tr>\n",
        "        <th>See Note 1</th>\n",
        "        <th style=\"text-align: center\"></th>\n",
        "        <td style=\"text-align: center\"><i></i></td>\n",
        "        <td style=\"text-align: center\"><i></i></td>\n",
        "        <td style=\"text-align: center\"><i></i></td>\n",
        "        <td style=\"text-align: center\"><i></i></td>\n",
        "        <td style=\"text-align: center\"><i></i></td>\n",
        "        <th style=\"text-align: center\"></th>\n",
        "        <td><i></i></td>\n",
        "        <td style=\"text-align: center\"><i></i></td>\n",
        "        <td style=\"text-align: center\"><i></i></td>\n",
        "        <td style=\"text-align: center\"><i></i></td>\n",
        "        <td style=\"text-align: center\"><i></i></td>\n",
        "        <td style=\"text-align: center\"><i></i></td>\n",
        "    </tr>\n",
        "    \n",
        "    <tr>\n",
        "        <th rowspan = 4>15 TO 20</th>\n",
        "        <th>UP TO 6</th>\n",
        "        <th style=\"text-align: center\">5</th>\n",
        "        <td style=\"text-align: center\"><i>6X8</i></td>\n",
        "        <td style=\"text-align: center\"><i>6X8</i></td>\n",
        "        <td style=\"text-align: center\"><i>6X8</i></td>\n",
        "        <td style=\"text-align: center\"><i>8X8</i></td>\n",
        "        <td style=\"text-align: center\"><i>8X8</i></td>\n",
        "        <th style=\"text-align: center\">5</th>\n",
        "        <td><i>8X10</i></td>\n",
        "        <td style=\"text-align: center\"><i>3X6</i></td>\n",
        "        <td style=\"text-align: center\"><i></i></td>\n",
        "        <td style=\"text-align: center\"><i></i></td>\n",
        "        <td style=\"text-align: center\"><i></i></td>\n",
        "        <td style=\"text-align: center\"><i></i></td>\n",
        "    </tr>\n",
        "    <tr>\n",
        "        <th>UP TO 8</th>\n",
        "        <th style=\"text-align: center\">5</th>\n",
        "        <td style=\"text-align: center\"><i>8X8</i></td>\n",
        "        <td style=\"text-align: center\"><i>8X8</i></td>\n",
        "        <td style=\"text-align: center\"><i>8X8</i></td>\n",
        "        <td style=\"text-align: center\"><i>8X8</i></td>\n",
        "        <td style=\"text-align: center\"><i>8X10</i></td>\n",
        "        <th style=\"text-align: center\">5</th>\n",
        "        <td><i>10X12</i></td>\n",
        "        <td style=\"text-align: center\"><i>3X6</i></td>\n",
        "        <td style=\"text-align: center\"><i></i></td>\n",
        "        <td style=\"text-align: center\"><i></i></td>\n",
        "        <td style=\"text-align: center\"><i></i></td>\n",
        "        <td style=\"text-align: center\"><i></i></td>\n",
        "    </tr>\n",
        "    <tr>\n",
        "        <th>UP TO 10</th>\n",
        "        <th style=\"text-align: center\">5</th>\n",
        "        <td style=\"text-align: center\"><i>8X8</i></td>\n",
        "        <td style=\"text-align: center\"><i>8X8</i></td>\n",
        "        <td style=\"text-align: center\"><i>8X10</i></td>\n",
        "        <td style=\"text-align: center\"><i>8X10</i></td>\n",
        "        <td style=\"text-align: center\"><i>10X10</i></td>\n",
        "        <th style=\"text-align: center\">5</th>\n",
        "        <td><i>12X12</i></td>\n",
        "        <td style=\"text-align: center\"><i>3X6</i></td>\n",
        "        <td style=\"text-align: center\"><i></i></td>\n",
        "        <td style=\"text-align: center\"><i></i></td>\n",
        "        <td style=\"text-align: center\"><i></i></td>\n",
        "        <td style=\"text-align: center\"><i></i></td>\n",
        "    </tr>\n",
        "    <tr>\n",
        "        <th>See Note 1</th>\n",
        "        <th style=\"text-align: center\"></th>\n",
        "        <td style=\"text-align: center\"><i></i></td>\n",
        "        <td style=\"text-align: center\"><i></i></td>\n",
        "        <td style=\"text-align: center\"><i></i></td>\n",
        "        <td style=\"text-align: center\"><i></i></td>\n",
        "        <td style=\"text-align: center\"><i></i></td>\n",
        "        <th style=\"text-align: center\"></th>\n",
        "        <td><i></i></td>\n",
        "        <td style=\"text-align: center\"><i></i></td>\n",
        "        <td style=\"text-align: center\"><i></i></td>\n",
        "        <td style=\"text-align: center\"><i></i></td>\n",
        "        <td style=\"text-align: center\"><i></i></td>\n",
        "        <td style=\"text-align: center\"><i></i></td>\n",
        "    </tr>\n",
        "</tbody>\n",
        "<tfoot>\n",
        "    <tr>\n",
        "        <th style=\"text-align: center\">OVER 20</th>\n",
        "        <td colspan = 14>SEE NOTE 1</td>\n",
        "    </tr>\n",
        "</tfoot>\n",
        "</table>\n",
        "<i>C-1.2 (Soil Type B  \u2013<strong> Mixed Oak Members</strong>) </i>\n",
        "</br>* Mixed oak or equivalent with a bending strength not less than 850 psi.\n",
        "</br>** Manufactured members of equivalent strength may be substituted for wood."
       ],
       "metadata": {},
       "output_type": "pyout",
       "prompt_number": 3,
       "text": [
        "<IPython.core.display.HTML at 0x7f85378cdf98>"
       ]
      }
     ],
     "prompt_number": 3
    },
    {
     "cell_type": "heading",
     "level": 2,
     "metadata": {
      "slideshow": {
       "slide_type": "subslide"
      }
     },
     "source": [
      "Example 1 Solution"
     ]
    },
    {
     "cell_type": "markdown",
     "metadata": {},
     "source": [
      "<audio controls data-autoplay preload>\n",
      " <source src=\"https://github.com/damontallen/Construction-Lectures/raw/master/Lecture%20Audio/Week%2012/Excavations/This%20design%20is%20correct.mp3\"\n",
      "         type='audio/mp3'>\n",
      " <p>Your user agent does not support the HTML5 Audio element or the files are missing.</p>\n",
      "</audio>"
     ]
    },
    {
     "cell_type": "markdown",
     "metadata": {},
     "source": [
      "This design is correct."
     ]
    },
    {
     "cell_type": "heading",
     "level": 2,
     "metadata": {
      "slideshow": {
       "slide_type": "slide"
      }
     },
     "source": [
      "Example 2"
     ]
    },
    {
     "cell_type": "markdown",
     "metadata": {},
     "source": [
      "<audio controls data-autoplay preload>\n",
      " <source src=\"https://github.com/damontallen/Construction-Lectures/raw/master/Lecture%20Audio/Week%2012/Excavations/Example%202.mp3\"\n",
      "         type='audio/mp3'>\n",
      " <p>Your user agent does not support the HTML5 Audio element or the files are missing.</p>\n",
      "</audio>"
     ]
    },
    {
     "cell_type": "markdown",
     "metadata": {},
     "source": [
      "Look at the following design and try to determine if it is adequate.  If there is something wrong, make a note of it.  Once you have decided, click on the slide below to see if you were right.\n",
      "\n",
      "Using Douglas Fir shoring, in an 11 ft deep, and 7 ft wide trench, through Type C soil:\n",
      "\n",
      "* 6x8 Cross Braces spaced 5 ft vertically and 7 ft horizontally\n",
      "* 10x10 Wales spaced 5 ft vertically\n",
      "* 4x6 Uprights spaced as close as they can be."
     ]
    },
    {
     "cell_type": "code",
     "collapsed": false,
     "input": [
      "shoring_table(DF_Soil_C)"
     ],
     "language": "python",
     "metadata": {},
     "outputs": [
      {
       "html": [
        "\n",
        "<code>TIMBER TRENCH SHORING -- MINIMUM TIMBER REQUIREMENTS *</code></br>\n",
        "<strong>SOIL TYPE C:</strong><code> P(a) = 80 X H + 72 psf (2 ft Surcharge)</code>\n",
        "<table>\n",
        "<thead>\n",
        "    <tr>\n",
        "        <th rowspan = 5 style=\"text-align: center\">Depth of Trench  (Feet)</th>\n",
        "        <th colspan = 14 style=\"text-align: center\">Size (actual,  not nominal) and Spacing of Members **</th>\n",
        "    </tr>\n",
        "    <tr>\n",
        "        <th colspan = 7 style=\"text-align: center\">Cross Braces</th>\n",
        "        <th colspan = 2 style=\"text-align: center\">Wales</th>\n",
        "        <th colspan = 5 style=\"text-align: center\">Uprights</th>\n",
        "    </tr>\n",
        "    <tr>\n",
        "        <th rowspan = 3 style=\"text-align: center\">Horizontal Spacing (Feet)</th>\n",
        "        <th rowspan = 3 style=\"text-align: center\">Vertical Spacing (Feet)</th>\n",
        "        <th colspan = 5 style=\"text-align: center\">Width of Trench (Feet)</th>\n",
        "        <th rowspan = 3 style=\"text-align: center\">Vertical Spacing (Feet)</th>\n",
        "        <th rowspan = 3 style=\"text-align: center\">Size  (Inches)</th>\n",
        "        <th colspan = 5 style=\"text-align: center\">Maximum Allowable Horizontal Spacing (Feet)</th>\n",
        "    </tr>\n",
        "    <tr>\n",
        "        <th style=\"text-align: center\">UP TO 4</th>\n",
        "        <th style=\"text-align: center\">UP TO 6</th>\n",
        "        <th style=\"text-align: center\">UP TO 9</th>\n",
        "        <th style=\"text-align: center\">UP TO 12</th>\n",
        "        <th style=\"text-align: center\">UP TO 15</th>\n",
        "        <th style=\"text-align: center\">CLOSE</th>\n",
        "        <th style=\"text-align: center\">4</th>\n",
        "        <th style=\"text-align: center\">5</th>\n",
        "        <th style=\"text-align: center\">6</th>\n",
        "        <th style=\"text-align: center\">8</th>\n",
        "    </tr>\n",
        "</thead>\n",
        "<tbody>\n",
        "    <tr>\n",
        "        <th rowspan = 4>5 TO 10</th>\n",
        "        <th>UP TO 6</th>\n",
        "        <th style=\"text-align: center\">5</th>\n",
        "        <td style=\"text-align: center\"><i>6X6</i></td>\n",
        "        <td style=\"text-align: center\"><i>6X6</i></td>\n",
        "        <td style=\"text-align: center\"><i>6X6</i></td>\n",
        "        <td style=\"text-align: center\"><i>6X6</i></td>\n",
        "        <td style=\"text-align: center\"><i>8X8</i></td>\n",
        "        <th style=\"text-align: center\">5</th>\n",
        "        <td><i>8X8</i></td>\n",
        "        <td style=\"text-align: center\"><i>3X6</i></td>\n",
        "        <td style=\"text-align: center\"><i></i></td>\n",
        "        <td style=\"text-align: center\"><i></i></td>\n",
        "        <td style=\"text-align: center\"><i></i></td>\n",
        "        <td style=\"text-align: center\"><i></i></td>\n",
        "    </tr>\n",
        "    <tr>\n",
        "        <th>UP TO 8</th>\n",
        "        <th style=\"text-align: center\">5</th>\n",
        "        <td style=\"text-align: center\"><i>6X6</i></td>\n",
        "        <td style=\"text-align: center\"><i>6X6</i></td>\n",
        "        <td style=\"text-align: center\"><i>6X6</i></td>\n",
        "        <td style=\"text-align: center\"><i>8X8</i></td>\n",
        "        <td style=\"text-align: center\"><i>8X8</i></td>\n",
        "        <th style=\"text-align: center\">5</th>\n",
        "        <td><i>10X10</i></td>\n",
        "        <td style=\"text-align: center\"><i>3X6</i></td>\n",
        "        <td style=\"text-align: center\"><i></i></td>\n",
        "        <td style=\"text-align: center\"><i></i></td>\n",
        "        <td style=\"text-align: center\"><i></i></td>\n",
        "        <td style=\"text-align: center\"><i></i></td>\n",
        "    </tr>\n",
        "    <tr>\n",
        "        <th>UP TO 10</th>\n",
        "        <th style=\"text-align: center\">5</th>\n",
        "        <td style=\"text-align: center\"><i>6X6</i></td>\n",
        "        <td style=\"text-align: center\"><i>6X6</i></td>\n",
        "        <td style=\"text-align: center\"><i>8X8</i></td>\n",
        "        <td style=\"text-align: center\"><i>8X8</i></td>\n",
        "        <td style=\"text-align: center\"><i>8X8</i></td>\n",
        "        <th style=\"text-align: center\">5</th>\n",
        "        <td><i>10X12</i></td>\n",
        "        <td style=\"text-align: center\"><i>3X6</i></td>\n",
        "        <td style=\"text-align: center\"><i></i></td>\n",
        "        <td style=\"text-align: center\"><i></i></td>\n",
        "        <td style=\"text-align: center\"><i></i></td>\n",
        "        <td style=\"text-align: center\"><i></i></td>\n",
        "    </tr>\n",
        "    <tr>\n",
        "        <th>See Note 1</th>\n",
        "        <th style=\"text-align: center\"></th>\n",
        "        <td style=\"text-align: center\"><i></i></td>\n",
        "        <td style=\"text-align: center\"><i></i></td>\n",
        "        <td style=\"text-align: center\"><i></i></td>\n",
        "        <td style=\"text-align: center\"><i></i></td>\n",
        "        <td style=\"text-align: center\"><i></i></td>\n",
        "        <th style=\"text-align: center\"></th>\n",
        "        <td><i></i></td>\n",
        "        <td style=\"text-align: center\"><i></i></td>\n",
        "        <td style=\"text-align: center\"><i></i></td>\n",
        "        <td style=\"text-align: center\"><i></i></td>\n",
        "        <td style=\"text-align: center\"><i></i></td>\n",
        "        <td style=\"text-align: center\"><i></i></td>\n",
        "    </tr>\n",
        "    \n",
        "    <tr>\n",
        "        <th rowspan = 4>10 TO 15</th>\n",
        "        <th>UP TO 6</th>\n",
        "        <th style=\"text-align: center\">5</th>\n",
        "        <td style=\"text-align: center\"><i>6X8</i></td>\n",
        "        <td style=\"text-align: center\"><i>6X8</i></td>\n",
        "        <td style=\"text-align: center\"><i>6X8</i></td>\n",
        "        <td style=\"text-align: center\"><i>8X8</i></td>\n",
        "        <td style=\"text-align: center\"><i>8X8</i></td>\n",
        "        <th style=\"text-align: center\">5</th>\n",
        "        <td><i>10X10</i></td>\n",
        "        <td style=\"text-align: center\"><i>4X6</i></td>\n",
        "        <td style=\"text-align: center\"><i></i></td>\n",
        "        <td style=\"text-align: center\"><i></i></td>\n",
        "        <td style=\"text-align: center\"><i></i></td>\n",
        "        <td style=\"text-align: center\"><i></i></td>\n",
        "    </tr>\n",
        "    <tr>\n",
        "        <th>UP TO 8</th>\n",
        "        <th style=\"text-align: center\">5</th>\n",
        "        <td style=\"text-align: center\"><i>8X8</i></td>\n",
        "        <td style=\"text-align: center\"><i>8X8</i></td>\n",
        "        <td style=\"text-align: center\"><i>8X8</i></td>\n",
        "        <td style=\"text-align: center\"><i>8X8</i></td>\n",
        "        <td style=\"text-align: center\"><i>8X8</i></td>\n",
        "        <th style=\"text-align: center\">5</th>\n",
        "        <td><i>12X12</i></td>\n",
        "        <td style=\"text-align: center\"><i>4X6</i></td>\n",
        "        <td style=\"text-align: center\"><i></i></td>\n",
        "        <td style=\"text-align: center\"><i></i></td>\n",
        "        <td style=\"text-align: center\"><i></i></td>\n",
        "        <td style=\"text-align: center\"><i></i></td>\n",
        "    </tr>\n",
        "    <tr>\n",
        "        <th>See Note 1</th>\n",
        "        <th style=\"text-align: center\"></th>\n",
        "        <td style=\"text-align: center\"><i></i></td>\n",
        "        <td style=\"text-align: center\"><i></i></td>\n",
        "        <td style=\"text-align: center\"><i></i></td>\n",
        "        <td style=\"text-align: center\"><i></i></td>\n",
        "        <td style=\"text-align: center\"><i></i></td>\n",
        "        <th style=\"text-align: center\"></th>\n",
        "        <td><i></i></td>\n",
        "        <td style=\"text-align: center\"><i></i></td>\n",
        "        <td style=\"text-align: center\"><i></i></td>\n",
        "        <td style=\"text-align: center\"><i></i></td>\n",
        "        <td style=\"text-align: center\"><i></i></td>\n",
        "        <td style=\"text-align: center\"><i></i></td>\n",
        "    </tr>\n",
        "    <tr>\n",
        "        <th>See Note 1</th>\n",
        "        <th style=\"text-align: center\"></th>\n",
        "        <td style=\"text-align: center\"><i></i></td>\n",
        "        <td style=\"text-align: center\"><i></i></td>\n",
        "        <td style=\"text-align: center\"><i></i></td>\n",
        "        <td style=\"text-align: center\"><i></i></td>\n",
        "        <td style=\"text-align: center\"><i></i></td>\n",
        "        <th style=\"text-align: center\"></th>\n",
        "        <td><i></i></td>\n",
        "        <td style=\"text-align: center\"><i></i></td>\n",
        "        <td style=\"text-align: center\"><i></i></td>\n",
        "        <td style=\"text-align: center\"><i></i></td>\n",
        "        <td style=\"text-align: center\"><i></i></td>\n",
        "        <td style=\"text-align: center\"><i></i></td>\n",
        "    </tr>\n",
        "    \n",
        "    <tr>\n",
        "        <th rowspan = 4>15 TO 20</th>\n",
        "        <th>UP TO 6</th>\n",
        "        <th style=\"text-align: center\">5</th>\n",
        "        <td style=\"text-align: center\"><i>8X8</i></td>\n",
        "        <td style=\"text-align: center\"><i>8X8</i></td>\n",
        "        <td style=\"text-align: center\"><i>8X8</i></td>\n",
        "        <td style=\"text-align: center\"><i>8X10</i></td>\n",
        "        <td style=\"text-align: center\"><i>8X10</i></td>\n",
        "        <th style=\"text-align: center\">5</th>\n",
        "        <td><i>10X12</i></td>\n",
        "        <td style=\"text-align: center\"><i>4X6</i></td>\n",
        "        <td style=\"text-align: center\"><i></i></td>\n",
        "        <td style=\"text-align: center\"><i></i></td>\n",
        "        <td style=\"text-align: center\"><i></i></td>\n",
        "        <td style=\"text-align: center\"><i></i></td>\n",
        "    </tr>\n",
        "    <tr>\n",
        "        <th>See Note 1</th>\n",
        "        <th style=\"text-align: center\"></th>\n",
        "        <td style=\"text-align: center\"><i></i></td>\n",
        "        <td style=\"text-align: center\"><i></i></td>\n",
        "        <td style=\"text-align: center\"><i></i></td>\n",
        "        <td style=\"text-align: center\"><i></i></td>\n",
        "        <td style=\"text-align: center\"><i></i></td>\n",
        "        <th style=\"text-align: center\"></th>\n",
        "        <td><i></i></td>\n",
        "        <td style=\"text-align: center\"><i></i></td>\n",
        "        <td style=\"text-align: center\"><i></i></td>\n",
        "        <td style=\"text-align: center\"><i></i></td>\n",
        "        <td style=\"text-align: center\"><i></i></td>\n",
        "        <td style=\"text-align: center\"><i></i></td>\n",
        "    </tr>\n",
        "    <tr>\n",
        "        <th>See Note 1</th>\n",
        "        <th style=\"text-align: center\"></th>\n",
        "        <td style=\"text-align: center\"><i></i></td>\n",
        "        <td style=\"text-align: center\"><i></i></td>\n",
        "        <td style=\"text-align: center\"><i></i></td>\n",
        "        <td style=\"text-align: center\"><i></i></td>\n",
        "        <td style=\"text-align: center\"><i></i></td>\n",
        "        <th style=\"text-align: center\"></th>\n",
        "        <td><i></i></td>\n",
        "        <td style=\"text-align: center\"><i></i></td>\n",
        "        <td style=\"text-align: center\"><i></i></td>\n",
        "        <td style=\"text-align: center\"><i></i></td>\n",
        "        <td style=\"text-align: center\"><i></i></td>\n",
        "        <td style=\"text-align: center\"><i></i></td>\n",
        "    </tr>\n",
        "    <tr>\n",
        "        <th>See Note 1</th>\n",
        "        <th style=\"text-align: center\"></th>\n",
        "        <td style=\"text-align: center\"><i></i></td>\n",
        "        <td style=\"text-align: center\"><i></i></td>\n",
        "        <td style=\"text-align: center\"><i></i></td>\n",
        "        <td style=\"text-align: center\"><i></i></td>\n",
        "        <td style=\"text-align: center\"><i></i></td>\n",
        "        <th style=\"text-align: center\"></th>\n",
        "        <td><i></i></td>\n",
        "        <td style=\"text-align: center\"><i></i></td>\n",
        "        <td style=\"text-align: center\"><i></i></td>\n",
        "        <td style=\"text-align: center\"><i></i></td>\n",
        "        <td style=\"text-align: center\"><i></i></td>\n",
        "        <td style=\"text-align: center\"><i></i></td>\n",
        "    </tr>\n",
        "</tbody>\n",
        "<tfoot>\n",
        "    <tr>\n",
        "        <th style=\"text-align: center\">OVER 20</th>\n",
        "        <td colspan = 14>SEE NOTE 1</td>\n",
        "    </tr>\n",
        "</tfoot>\n",
        "</table>\n",
        "<i>C-2.3 (Soil Type C  \u2013<strong> Douglas Fir Members</strong>) </i>\n",
        "</br>* Douglas fir or equivalent with a bending strength not less than 1500 psi.\n",
        "</br>** Manufactured members of equivalent strength may be substituted for wood."
       ],
       "metadata": {},
       "output_type": "pyout",
       "prompt_number": 4,
       "text": [
        "<IPython.core.display.HTML at 0x7f8530a0db38>"
       ]
      }
     ],
     "prompt_number": 4
    },
    {
     "cell_type": "heading",
     "level": 2,
     "metadata": {
      "slideshow": {
       "slide_type": "subslide"
      }
     },
     "source": [
      "Example 2 Solution"
     ]
    },
    {
     "cell_type": "markdown",
     "metadata": {},
     "source": [
      "<audio controls data-autoplay preload>\n",
      " <source src=\"https://github.com/damontallen/Construction-Lectures/raw/master/Lecture%20Audio/Week%2012/Excavations/Example%202%20Solution.mp3\"\n",
      "         type='audio/mp3'>\n",
      " <p>Your user agent does not support the HTML5 Audio element or the files are missing.</p>\n",
      "</audio>"
     ]
    },
    {
     "cell_type": "markdown",
     "metadata": {},
     "source": [
      "This design is not adequate.  The problem is that the 6x8 cross braces cannot be spaced any farther apart than 6 ft."
     ]
    },
    {
     "cell_type": "heading",
     "level": 2,
     "metadata": {
      "slideshow": {
       "slide_type": "slide"
      }
     },
     "source": [
      "Example 3"
     ]
    },
    {
     "cell_type": "markdown",
     "metadata": {},
     "source": [
      "<audio controls data-autoplay preload>\n",
      " <source src=\"https://github.com/damontallen/Construction-Lectures/raw/master/Lecture%20Audio/Week%2012/Excavations/Example%203.mp3\"\n",
      "         type='audio/mp3'>\n",
      " <p>Your user agent does not support the HTML5 Audio element or the files are missing.</p>\n",
      "</audio>"
     ]
    },
    {
     "cell_type": "markdown",
     "metadata": {},
     "source": [
      "Look at the following design and try to determine if it is adequate.  If there is something wrong, make a note of it.  Once you have decided, click on the slide below to see if you were right.\n",
      "\n",
      "Using Oak shoring, in a 7 ft deep, and 9 ft wide, trench, through Type C soil:\n",
      "\n",
      "* 8x8 Cross Braces spaced 6 ft vertically and 8 ft horizontally\n",
      "* 10x12 Wales spaced 6 ft vertically\n",
      "* 2x6 Uprights spaced as close as they can be."
     ]
    },
    {
     "cell_type": "code",
     "collapsed": false,
     "input": [
      "shoring_table(Oak_Soil_C)"
     ],
     "language": "python",
     "metadata": {},
     "outputs": [
      {
       "html": [
        "\n",
        "<code>TIMBER TRENCH SHORING -- MINIMUM TIMBER REQUIREMENTS *</code></br>\n",
        "<strong>SOIL TYPE C:</strong><code> P(a) = 80 X H + 72 psf (2 ft Surcharge)</code>\n",
        "<table>\n",
        "<thead>\n",
        "    <tr>\n",
        "        <th rowspan = 5 style=\"text-align: center\">Depth of Trench  (Feet)</th>\n",
        "        <th colspan = 14 style=\"text-align: center\">Size (actual,  not nominal) and Spacing of Members **</th>\n",
        "    </tr>\n",
        "    <tr>\n",
        "        <th colspan = 7 style=\"text-align: center\">Cross Braces</th>\n",
        "        <th colspan = 2 style=\"text-align: center\">Wales</th>\n",
        "        <th colspan = 5 style=\"text-align: center\">Uprights</th>\n",
        "    </tr>\n",
        "    <tr>\n",
        "        <th rowspan = 3 style=\"text-align: center\">Horizontal Spacing (Feet)</th>\n",
        "        <th rowspan = 3 style=\"text-align: center\">Vertical Spacing (Feet)</th>\n",
        "        <th colspan = 5 style=\"text-align: center\">Width of Trench (Feet)</th>\n",
        "        <th rowspan = 3 style=\"text-align: center\">Vertical Spacing (Feet)</th>\n",
        "        <th rowspan = 3 style=\"text-align: center\">Size  (Inches)</th>\n",
        "        <th colspan = 5 style=\"text-align: center\">Maximum Allowable Horizontal Spacing (Feet)</th>\n",
        "    </tr>\n",
        "    <tr>\n",
        "        <th style=\"text-align: center\">UP TO 4</th>\n",
        "        <th style=\"text-align: center\">UP TO 6</th>\n",
        "        <th style=\"text-align: center\">UP TO 9</th>\n",
        "        <th style=\"text-align: center\">UP TO 12</th>\n",
        "        <th style=\"text-align: center\">UP TO 15</th>\n",
        "        <th style=\"text-align: center\">CLOSE</th>\n",
        "        <th style=\"text-align: center\">4</th>\n",
        "        <th style=\"text-align: center\">5</th>\n",
        "        <th style=\"text-align: center\">6</th>\n",
        "        <th style=\"text-align: center\">8</th>\n",
        "    </tr>\n",
        "</thead>\n",
        "<tbody>\n",
        "    <tr>\n",
        "        <th rowspan = 4>5 TO 10</th>\n",
        "        <th>UP TO 6</th>\n",
        "        <th style=\"text-align: center\">5</th>\n",
        "        <td style=\"text-align: center\"><i>6X8</i></td>\n",
        "        <td style=\"text-align: center\"><i>6X8</i></td>\n",
        "        <td style=\"text-align: center\"><i>6X8</i></td>\n",
        "        <td style=\"text-align: center\"><i>8X8</i></td>\n",
        "        <td style=\"text-align: center\"><i>8X8</i></td>\n",
        "        <th style=\"text-align: center\">5</th>\n",
        "        <td><i>8X10</i></td>\n",
        "        <td style=\"text-align: center\"><i>2X6</i></td>\n",
        "        <td style=\"text-align: center\"><i></i></td>\n",
        "        <td style=\"text-align: center\"><i></i></td>\n",
        "        <td style=\"text-align: center\"><i></i></td>\n",
        "        <td style=\"text-align: center\"><i></i></td>\n",
        "    </tr>\n",
        "    <tr>\n",
        "        <th>UP TO 8</th>\n",
        "        <th style=\"text-align: center\">5</th>\n",
        "        <td style=\"text-align: center\"><i>8X8</i></td>\n",
        "        <td style=\"text-align: center\"><i>8X8</i></td>\n",
        "        <td style=\"text-align: center\"><i>8X8</i></td>\n",
        "        <td style=\"text-align: center\"><i>8X8</i></td>\n",
        "        <td style=\"text-align: center\"><i>8X10</i></td>\n",
        "        <th style=\"text-align: center\">5</th>\n",
        "        <td><i>10X12</i></td>\n",
        "        <td style=\"text-align: center\"><i>2X6</i></td>\n",
        "        <td style=\"text-align: center\"><i></i></td>\n",
        "        <td style=\"text-align: center\"><i></i></td>\n",
        "        <td style=\"text-align: center\"><i></i></td>\n",
        "        <td style=\"text-align: center\"><i></i></td>\n",
        "    </tr>\n",
        "    <tr>\n",
        "        <th>UP TO 10</th>\n",
        "        <th style=\"text-align: center\">5</th>\n",
        "        <td style=\"text-align: center\"><i>8X10</i></td>\n",
        "        <td style=\"text-align: center\"><i>8X10</i></td>\n",
        "        <td style=\"text-align: center\"><i>8X10</i></td>\n",
        "        <td style=\"text-align: center\"><i>8X10</i></td>\n",
        "        <td style=\"text-align: center\"><i>10X10</i></td>\n",
        "        <th style=\"text-align: center\">5</th>\n",
        "        <td><i>12X12</i></td>\n",
        "        <td style=\"text-align: center\"><i>2X6</i></td>\n",
        "        <td style=\"text-align: center\"><i></i></td>\n",
        "        <td style=\"text-align: center\"><i></i></td>\n",
        "        <td style=\"text-align: center\"><i></i></td>\n",
        "        <td style=\"text-align: center\"><i></i></td>\n",
        "    </tr>\n",
        "    <tr>\n",
        "        <th>See Note 1</th>\n",
        "        <th style=\"text-align: center\"></th>\n",
        "        <td style=\"text-align: center\"><i></i></td>\n",
        "        <td style=\"text-align: center\"><i></i></td>\n",
        "        <td style=\"text-align: center\"><i></i></td>\n",
        "        <td style=\"text-align: center\"><i></i></td>\n",
        "        <td style=\"text-align: center\"><i></i></td>\n",
        "        <th style=\"text-align: center\"></th>\n",
        "        <td><i></i></td>\n",
        "        <td style=\"text-align: center\"><i></i></td>\n",
        "        <td style=\"text-align: center\"><i></i></td>\n",
        "        <td style=\"text-align: center\"><i></i></td>\n",
        "        <td style=\"text-align: center\"><i></i></td>\n",
        "        <td style=\"text-align: center\"><i></i></td>\n",
        "    </tr>\n",
        "    \n",
        "    <tr>\n",
        "        <th rowspan = 4>10 TO 15</th>\n",
        "        <th>UP TO 6</th>\n",
        "        <th style=\"text-align: center\">5</th>\n",
        "        <td style=\"text-align: center\"><i>8X8</i></td>\n",
        "        <td style=\"text-align: center\"><i>8X8</i></td>\n",
        "        <td style=\"text-align: center\"><i>8X8</i></td>\n",
        "        <td style=\"text-align: center\"><i>8X8</i></td>\n",
        "        <td style=\"text-align: center\"><i>8X10</i></td>\n",
        "        <th style=\"text-align: center\">5</th>\n",
        "        <td><i>10X12</i></td>\n",
        "        <td style=\"text-align: center\"><i>2X6</i></td>\n",
        "        <td style=\"text-align: center\"><i></i></td>\n",
        "        <td style=\"text-align: center\"><i></i></td>\n",
        "        <td style=\"text-align: center\"><i></i></td>\n",
        "        <td style=\"text-align: center\"><i></i></td>\n",
        "    </tr>\n",
        "    <tr>\n",
        "        <th>UP TO 8</th>\n",
        "        <th style=\"text-align: center\">5</th>\n",
        "        <td style=\"text-align: center\"><i>8X10</i></td>\n",
        "        <td style=\"text-align: center\"><i>8X10</i></td>\n",
        "        <td style=\"text-align: center\"><i>8X10</i></td>\n",
        "        <td style=\"text-align: center\"><i>8X10</i></td>\n",
        "        <td style=\"text-align: center\"><i>10X10</i></td>\n",
        "        <th style=\"text-align: center\">5</th>\n",
        "        <td><i>12X12</i></td>\n",
        "        <td style=\"text-align: center\"><i>2X6</i></td>\n",
        "        <td style=\"text-align: center\"><i></i></td>\n",
        "        <td style=\"text-align: center\"><i></i></td>\n",
        "        <td style=\"text-align: center\"><i></i></td>\n",
        "        <td style=\"text-align: center\"><i></i></td>\n",
        "    </tr>\n",
        "    <tr>\n",
        "        <th>See Note 1</th>\n",
        "        <th style=\"text-align: center\"></th>\n",
        "        <td style=\"text-align: center\"><i></i></td>\n",
        "        <td style=\"text-align: center\"><i></i></td>\n",
        "        <td style=\"text-align: center\"><i></i></td>\n",
        "        <td style=\"text-align: center\"><i></i></td>\n",
        "        <td style=\"text-align: center\"><i></i></td>\n",
        "        <th style=\"text-align: center\"></th>\n",
        "        <td><i></i></td>\n",
        "        <td style=\"text-align: center\"><i></i></td>\n",
        "        <td style=\"text-align: center\"><i></i></td>\n",
        "        <td style=\"text-align: center\"><i></i></td>\n",
        "        <td style=\"text-align: center\"><i></i></td>\n",
        "        <td style=\"text-align: center\"><i></i></td>\n",
        "    </tr>\n",
        "    <tr>\n",
        "        <th>See Note 1</th>\n",
        "        <th style=\"text-align: center\"></th>\n",
        "        <td style=\"text-align: center\"><i></i></td>\n",
        "        <td style=\"text-align: center\"><i></i></td>\n",
        "        <td style=\"text-align: center\"><i></i></td>\n",
        "        <td style=\"text-align: center\"><i></i></td>\n",
        "        <td style=\"text-align: center\"><i></i></td>\n",
        "        <th style=\"text-align: center\"></th>\n",
        "        <td><i></i></td>\n",
        "        <td style=\"text-align: center\"><i></i></td>\n",
        "        <td style=\"text-align: center\"><i></i></td>\n",
        "        <td style=\"text-align: center\"><i></i></td>\n",
        "        <td style=\"text-align: center\"><i></i></td>\n",
        "        <td style=\"text-align: center\"><i></i></td>\n",
        "    </tr>\n",
        "    \n",
        "    <tr>\n",
        "        <th rowspan = 4>15 TO 20</th>\n",
        "        <th>UP TO 6</th>\n",
        "        <th style=\"text-align: center\">5</th>\n",
        "        <td style=\"text-align: center\"><i>8X10</i></td>\n",
        "        <td style=\"text-align: center\"><i>8X10</i></td>\n",
        "        <td style=\"text-align: center\"><i>8X10</i></td>\n",
        "        <td style=\"text-align: center\"><i>8X10</i></td>\n",
        "        <td style=\"text-align: center\"><i>10X10</i></td>\n",
        "        <th style=\"text-align: center\">5</th>\n",
        "        <td><i>12X12</i></td>\n",
        "        <td style=\"text-align: center\"><i>3X6</i></td>\n",
        "        <td style=\"text-align: center\"><i></i></td>\n",
        "        <td style=\"text-align: center\"><i></i></td>\n",
        "        <td style=\"text-align: center\"><i></i></td>\n",
        "        <td style=\"text-align: center\"><i></i></td>\n",
        "    </tr>\n",
        "    <tr>\n",
        "        <th>See Note 1</th>\n",
        "        <th style=\"text-align: center\"></th>\n",
        "        <td style=\"text-align: center\"><i></i></td>\n",
        "        <td style=\"text-align: center\"><i></i></td>\n",
        "        <td style=\"text-align: center\"><i></i></td>\n",
        "        <td style=\"text-align: center\"><i></i></td>\n",
        "        <td style=\"text-align: center\"><i></i></td>\n",
        "        <th style=\"text-align: center\"></th>\n",
        "        <td><i></i></td>\n",
        "        <td style=\"text-align: center\"><i></i></td>\n",
        "        <td style=\"text-align: center\"><i></i></td>\n",
        "        <td style=\"text-align: center\"><i></i></td>\n",
        "        <td style=\"text-align: center\"><i></i></td>\n",
        "        <td style=\"text-align: center\"><i></i></td>\n",
        "    </tr>\n",
        "    <tr>\n",
        "        <th>See Note 1</th>\n",
        "        <th style=\"text-align: center\"></th>\n",
        "        <td style=\"text-align: center\"><i></i></td>\n",
        "        <td style=\"text-align: center\"><i></i></td>\n",
        "        <td style=\"text-align: center\"><i></i></td>\n",
        "        <td style=\"text-align: center\"><i></i></td>\n",
        "        <td style=\"text-align: center\"><i></i></td>\n",
        "        <th style=\"text-align: center\"></th>\n",
        "        <td><i></i></td>\n",
        "        <td style=\"text-align: center\"><i></i></td>\n",
        "        <td style=\"text-align: center\"><i></i></td>\n",
        "        <td style=\"text-align: center\"><i></i></td>\n",
        "        <td style=\"text-align: center\"><i></i></td>\n",
        "        <td style=\"text-align: center\"><i></i></td>\n",
        "    </tr>\n",
        "    <tr>\n",
        "        <th>See Note 1</th>\n",
        "        <th style=\"text-align: center\"></th>\n",
        "        <td style=\"text-align: center\"><i></i></td>\n",
        "        <td style=\"text-align: center\"><i></i></td>\n",
        "        <td style=\"text-align: center\"><i></i></td>\n",
        "        <td style=\"text-align: center\"><i></i></td>\n",
        "        <td style=\"text-align: center\"><i></i></td>\n",
        "        <th style=\"text-align: center\"></th>\n",
        "        <td><i></i></td>\n",
        "        <td style=\"text-align: center\"><i></i></td>\n",
        "        <td style=\"text-align: center\"><i></i></td>\n",
        "        <td style=\"text-align: center\"><i></i></td>\n",
        "        <td style=\"text-align: center\"><i></i></td>\n",
        "        <td style=\"text-align: center\"><i></i></td>\n",
        "    </tr>\n",
        "</tbody>\n",
        "<tfoot>\n",
        "    <tr>\n",
        "        <th style=\"text-align: center\">OVER 20</th>\n",
        "        <td colspan = 14>SEE NOTE 1</td>\n",
        "    </tr>\n",
        "</tfoot>\n",
        "</table>\n",
        "<i>C-1.3 (Soil Type C  \u2013<strong> Mixed Oak Members</strong>) </i>\n",
        "</br>* Mixed oak or equivalent with a bending strength not less than 850 psi.\n",
        "</br>** Manufactured members of equivalent strength may be substituted for wood."
       ],
       "metadata": {},
       "output_type": "pyout",
       "prompt_number": 5,
       "text": [
        "<IPython.core.display.HTML at 0x7f85309fab38>"
       ]
      }
     ],
     "prompt_number": 5
    },
    {
     "cell_type": "heading",
     "level": 2,
     "metadata": {
      "slideshow": {
       "slide_type": "subslide"
      }
     },
     "source": [
      "Example 3 Solution"
     ]
    },
    {
     "cell_type": "markdown",
     "metadata": {},
     "source": [
      "<audio controls data-autoplay preload>\n",
      " <source src=\"https://github.com/damontallen/Construction-Lectures/raw/master/Lecture%20Audio/Week%2012/Excavations/Example%203%20Solution.mp3\"\n",
      "         type='audio/mp3'>\n",
      " <p>Your user agent does not support the HTML5 Audio element or the files are missing.</p>\n",
      "</audio>"
     ]
    },
    {
     "cell_type": "markdown",
     "metadata": {},
     "source": [
      "This design is not adequate. The problem is that the cross braces and wales cannot be spaced more than 5 ft vertically."
     ]
    },
    {
     "cell_type": "heading",
     "level": 2,
     "metadata": {
      "slideshow": {
       "slide_type": "slide"
      }
     },
     "source": [
      "Wrap-up"
     ]
    },
    {
     "cell_type": "markdown",
     "metadata": {},
     "source": [
      "<audio controls data-autoplay preload>\n",
      " <source src=\"https://github.com/damontallen/Construction-Lectures/raw/master/Lecture%20Audio/Week%2012/Excavations/Wrap-up.mp3\"\n",
      "         type='audio/mp3'>\n",
      " <p>Your user agent does not support the HTML5 Audio element or the files are missing.</p>\n",
      "</audio>"
     ]
    },
    {
     "cell_type": "markdown",
     "metadata": {},
     "source": [
      "I did not discuss the the notes that go along with these tables, but there are in the pdf so you can read them at your leisure.  And again, you are probably not going to be using timber shoring, but you may see it on the AIC exam.  Even though timber shoring is unusual, if you understand what we have covered, then you will be able to use the more common trench boxes very easily.  \n",
      "\n",
      "Finally, I hope you now have a better feel for how important it is to provide shoring."
     ]
    },
    {
     "cell_type": "heading",
     "level": 2,
     "metadata": {
      "slideshow": {
       "slide_type": "slide"
      }
     },
     "source": [
      "References:\n"
     ]
    },
    {
     "cell_type": "markdown",
     "metadata": {
      "slideshow": {
       "slide_type": "-"
      }
     },
     "source": [
      "[Class website](https://elearning2.courses.ufl.edu/portal/site/UFL-BCN4423C-40908-52014) *(Use this link to if you are taking the course on e-learning.)*\n",
      "\n",
      "[Github.io version of course website](http://damontallen.github.io/Construction-Lectures/) *(Do not use this link if you are taking this course in Summer A or B.)*\n",
      "\n",
      "[IPython.org](http://ipython.org/) *(IPython is the opensource software used in the development of much of this course.)*\n",
      "\n",
      "[Complete Software List](http://nbviewer.ipython.org/github/damontallen/Construction-Lectures/blob/master/Resources.ipynb)"
     ]
    },
    {
     "cell_type": "markdown",
     "metadata": {
      "slideshow": {
       "slide_type": "skip"
      }
     },
     "source": [
      "CSS stylesheet\n",
      "\n",
      "<head>\n",
      "<style>\n",
      "important {font:italic bold 16px arial;}\n",
      ".missing {color:Red}\n",
      "fragment {color:LightBlue;}\n",
      "subslide {color:DarkBlue;}\n",
      "\n",
      ".rgt {float:right;}\n",
      "\n",
      ".lt {float:left;}\n",
      "\n",
      ".cnt {text-align:center; vertical-align:text-top;}\n",
      "\n",
      ".box { border:1px solid blue; float:left; margin-right:3px;}\n",
      "\n",
      ".max {max-width:300px; max-height:300px;}\n",
      "\n",
      ".fix {max-height:200px; max-width:200px;}\n",
      "\n",
      "</style>\n",
      "</head>\n",
      "\n",
      "    ###Useful Tip:\n",
      "\n",
      "    If you use Firefox or Chrome then installing one of the following extensions will make viewing images in lectures easier.\n",
      "    \n",
      "    * Firefox - [Thumbnail Zoom Plus](https://addons.mozilla.org/en-US/firefox/addon/thumbnail-zoom-plus/?src=search)\n",
      "    * Chrome - [Hover Free](https://chrome.google.com/webstore/detail/hover-free/hcmnnggnaofmhflgomfjfbndngdoogkj) (Not to be confused with Hover Zoom.)\n",
      "\n",
      "    /* class = \"max box\" for img tags\n",
      "    \n",
      "    \n",
      "    Audio Player:\n",
      "    <audio controls data-autoplay preload>\n",
      "     <source src=\"https://github.com/damontallen/Construction-Lectures/raw/master/Intro/FILE%20NAME.mp3\"\n",
      "             type='audio/mp3'>\n",
      "     <p>Your user agent does not support the HTML5 Audio element or the files are missing.</p>\n",
      "    </audio>\n",
      "    \n",
      "    */\n",
      "    class = \"max box\" == style=\"max-width:300px; max-height:300px; border:1px solid blue; float:left; margin-right:3px;\"\n",
      "    important == <strong><font style=\"font:italic bold 16px arial;\"> Text here </font></strong>\n",
      "    Example <important class=\"missing\">Video Placeholder</important>\n",
      "    \n",
      "    Picture Examples: \n",
      "    (Right side)\n",
      "    <a href = \"http://i.imgur.com/h7H0m0b.png\"><img src=\"http://i.imgur.com/h7H0m0b.png\" alt = \"Elevated Slab with Worker\" title = \"Elevated Slab with Worker\" style=\"max-width:300px; max-height:300px; border:1px solid blue; float:right; margin-left:10px;\"/></a>\n",
      "    \n",
      "    (Left side)\n",
      "    <a href = \"http://i.imgur.com/EWHj3eh.png\"><img src=\"http://i.imgur.com/EWHj3eh.png\" alt = \"Braced Slab\" title = \"Braced Slab\"style=\"max-width:300px; max-height:300px; border:1px solid blue; float:left; margin-right:3px;\"/></a>\n",
      "    \n",
      "    (hover over image)\n",
      "    <a href=\"http://i.imgur.com/aTxezXX.png\" id=\"Top Down Slab\">\n",
      "        <img title=\"Top Down Slab (Bracing in the 60 ft direction)\" alt = \"Top Down Slab\"\n",
      "            src=\"http://i.imgur.com/EL2FYDQ.png\" \n",
      "            onmouseover=\"this.src='http://i.imgur.com/aTxezXX.png'\".\n",
      "            onmouseout=\"this.src='http://i.imgur.com/EL2FYDQ.png'\" \n",
      "            style=\"max-width:300px; max-height:300px; border:1px solid blue; \n",
      "                    float:right; margin-left:10px;\"/>\n",
      "    </a>\n",
      "    \n",
      "    Video:\n",
      "    <iframe width=\"420\" height=\"315\" src=\"http://www.youtube.com/embed/g43sFmgHOCk\" frameborder=\"0\" allowfullscreen style=\" float:left; margin-right:20px;\"></iframe>"
     ]
    },
    {
     "cell_type": "markdown",
     "metadata": {
      "slideshow": {
       "slide_type": "skip"
      }
     },
     "source": [
      "(hover over image)\n",
      "    <a href=\"http://i.imgur.com/aTxezXX.png\" id=\"Top Down Slab\">\n",
      "        <img title=\"Top Down Slab (Bracing in the 60 ft direction)\" alt = \"Top Down Slab\"\n",
      "            src=\"http://i.imgur.com/EL2FYDQ.png\" \n",
      "            onmouseover=\"this.src='http://i.imgur.com/aTxezXX.png'\".\n",
      "            onmouseout=\"this.src='http://i.imgur.com/EL2FYDQ.png'\" \n",
      "            style=\"max-width:300px; max-height:300px; border:1px solid blue; \n",
      "                    float:right; margin-left:10px;\"/>\n",
      "    </a>"
     ]
    }
   ],
   "metadata": {}
  }
 ]
}