{
 "metadata": {
  "celltoolbar": "Slideshow",
  "name": "",
  "signature": "sha256:3481c525453fe61e37f2db5eb3180010abc6a9f913d820c3dc9c1bc5b379be8a"
 },
 "nbformat": 3,
 "nbformat_minor": 0,
 "worksheets": [
  {
   "cells": [
    {
     "cell_type": "heading",
     "level": 1,
     "metadata": {
      "slideshow": {
       "slide_type": "slide"
      }
     },
     "source": [
      "Homework Assignments"
     ]
    },
    {
     "cell_type": "markdown",
     "metadata": {},
     "source": [
      "<iframe width=\"420\" height=\"315\" src=\"//www.youtube.com/embed/_NEwXwFM6eE\" frameborder=\"0\" allowfullscreen></iframe>"
     ]
    },
    {
     "cell_type": "heading",
     "level": 2,
     "metadata": {
      "slideshow": {
       "slide_type": "slide"
      }
     },
     "source": [
      "Slide Show Table of Contents"
     ]
    },
    {
     "cell_type": "markdown",
     "metadata": {},
     "source": [
      "<audio controls data-autoplay preload>\n",
      " <source src=\"https://github.com/damontallen/Construction-Lectures-Fall-2014/raw/master/Lecture%20Audio/Week%201/Homework%20Assignments/Slide%20Show%20Table%20of%20Contents.mp3\"\n",
      "     type='audio/mp3'>\n",
      " <p>Your user agent does not support the HTML5 Audio element or the files are missing.</p>\n",
      "</audio>"
     ]
    },
    {
     "cell_type": "markdown",
     "metadata": {
      "slideshow": {
       "slide_type": "-"
      }
     },
     "source": [
      "\n",
      "* [Homework Assignments](#)\n",
      "\t* [Team Assignments](#/2)\n",
      "        * [How Team Assignments Work](#/2/1)\n",
      "            * [Position Rotation:](#/2/1)\n",
      "            * [Teamwork](#/2/2)\n",
      "            * [Scoring of Team Assignments](#/2/3)\n",
      "\t\t* [Hand Solution](#/2/4)\n",
      "\t\t* [Hand Verification](#/2/5)\n",
      "\t\t* [Spreadsheet Solution](#/2/6)\n",
      "\t\t* [Spreadsheet Documentation](#/2/7)\n",
      "\t* [Individual Assignments](#/3)\n",
      "\t* [References](#/4)\n"
     ]
    },
    {
     "cell_type": "markdown",
     "metadata": {},
     "source": []
    },
    {
     "cell_type": "heading",
     "level": 2,
     "metadata": {
      "slideshow": {
       "slide_type": "slide"
      }
     },
     "source": [
      "Team Assignments"
     ]
    },
    {
     "cell_type": "markdown",
     "metadata": {
      "slideshow": {
       "slide_type": "-"
      }
     },
     "source": [
      "<audio controls data-autoplay preload>\n",
      " <source src=\"https://github.com/damontallen/Construction-Lectures-Fall-2014/raw/master/Lecture%20Audio/Week%201/Homework%20Assignments/Team%20Assignments.mp3\"\n",
      "     type='audio/mp3'>\n",
      " <p>Your user agent does not support the HTML5 Audio element or the files are missing.</p>\n",
      "</audio>"
     ]
    },
    {
     "cell_type": "markdown",
     "metadata": {
      "slideshow": {
       "slide_type": "-"
      }
     },
     "source": [
      "Each team assignment will consist of four parts.\n",
      "\n",
      "* Hand solution\n",
      "* Hand verification\n",
      "* Spreadsheet solution\n",
      "* Spreadsheet documentation\n",
      "\n",
      "Initially I will assign the student who will do the Hand Solution and the Spreadsheet Solution but I an requiring that you exchange roles for every new assignment.\n",
      "\n",
      "However, this will only be each members initial role.  For each assignment, your positions in the team will rotate based on what you did last.  By the end of the semester you will have been responsible for at least two, hand solutions, hand verifications, spreadsheet solutions, and you will have documented a couple of spreadsheets.\n",
      "\n",
      "To be clear on this, for each team assignment you will probably be responsible for more than on portion of the assignment.  This means that when your team starts the next team assignment the portions that you are responsible for will be completely different.  I explain how you will determine what your new roles will be in the slide below.\n",
      "\n",
      "*(Click the down blue arrow for more information about team assignments.)*"
     ]
    },
    {
     "cell_type": "heading",
     "level": 3,
     "metadata": {
      "slideshow": {
       "slide_type": "subslide"
      }
     },
     "source": [
      "How Team Assignments Work"
     ]
    },
    {
     "cell_type": "heading",
     "level": 4,
     "metadata": {
      "slideshow": {
       "slide_type": "-"
      }
     },
     "source": [
      "Position Rotation:"
     ]
    },
    {
     "cell_type": "markdown",
     "metadata": {
      "slideshow": {
       "slide_type": "-"
      }
     },
     "source": [
      "<audio controls data-autoplay preload>\n",
      " <source src=\"https://github.com/damontallen/Construction-Lectures-Fall-2014/raw/master/Lecture%20Audio/Week%201/Homework%20Assignments/Position%20Rotation.mp3\"\n",
      "     type='audio/mp3'>\n",
      " <p>Your user agent does not support the HTML5 Audio element or the files are missing.</p>\n",
      "</audio>"
     ]
    },
    {
     "cell_type": "markdown",
     "metadata": {
      "slideshow": {
       "slide_type": "-"
      }
     },
     "source": [
      "<a href=\"http://i.imgur.com/XgcjqD0\"><img src=\"http://i.imgur.com/XgcjqD0.png\" title=\"Position Rotation\" width=50% height=50%/></a>\n",
      " \n",
      "Hand Solution -> Hand Verification -> Spreadsheet Solution -> Spreadsheet Documentation -> Hand Solution ...\n",
      " \n",
      "*(Click the down blue arrow for more information about team assignments.)*"
     ]
    },
    {
     "cell_type": "heading",
     "level": 4,
     "metadata": {
      "slideshow": {
       "slide_type": "subslide"
      }
     },
     "source": [
      "Teamwork"
     ]
    },
    {
     "cell_type": "markdown",
     "metadata": {
      "slideshow": {
       "slide_type": "-"
      }
     },
     "source": [
      "<audio controls data-autoplay preload>\n",
      " <source src=\"https://github.com/damontallen/Construction-Lectures-Fall-2014/raw/master/Lecture%20Audio/Week%201/Homework%20Assignments/Teamwork.mp3\"\n",
      "     type='audio/mp3'>\n",
      " <p>Your user agent does not support the HTML5 Audio element or the files are missing.</p>\n",
      "</audio>"
     ]
    },
    {
     "cell_type": "markdown",
     "metadata": {
      "slideshow": {
       "slide_type": "-"
      }
     },
     "source": [
      "I am expecting both of you to help each other to understand how to do the assignment.  This will require you to act as a tutor if you are more knowledgeable about how to use Excel.  However, I also expect you to not do each others work.  \n",
      "\n",
      "To that end I expect those of you who do not know Excel well to go through ALL of the Lynda.com lessons I have linked to on the Excel help page.  Be aware that there is a strong possibility that questions about Excel will show up on an exam.\n",
      "\n",
      "*(Click the down blue arrow for information about team assignment grading.)*"
     ]
    },
    {
     "cell_type": "heading",
     "level": 4,
     "metadata": {
      "slideshow": {
       "slide_type": "subslide"
      }
     },
     "source": [
      "Scoring of Team Assignments"
     ]
    },
    {
     "cell_type": "markdown",
     "metadata": {
      "slideshow": {
       "slide_type": "-"
      }
     },
     "source": [
      "<audio controls data-autoplay preload>\n",
      " <source src=\"https://github.com/damontallen/Construction-Lectures-Fall-2014/raw/master/Lecture%20Audio/Week%201/Homework%20Assignments/Scoring%20of%20Team%20Assignments.mp3\"\n",
      "     type='audio/mp3'>\n",
      " <p>Your user agent does not support the HTML5 Audio element or the files are missing.</p>\n",
      "</audio>"
     ]
    },
    {
     "cell_type": "markdown",
     "metadata": {
      "slideshow": {
       "slide_type": "-"
      }
     },
     "source": [
      "The credit for team assignments is broken into two parts; a portion that reflects how your team functions as a whole, and a portion that reflects your individual ability.  This means if one team member is weak then it will show up in every member's grade.\n",
      "\n",
      "<table>\n",
      "<tr><th>Position</th><th>Points</th></tr>\n",
      "<tr><td>Hand solution:</td><td>10</td></tr>\n",
      "<tr><td>Hand verification:</td><td>10</td></tr>\n",
      "<tr><td>Spreadsheet solution:</td><td>10</td></tr>\n",
      "<tr><td>Spreadsheet documentation:</td><td>10</td></tr>\n",
      "<tr><th>Total</th><th>40</th></tr>\n",
      "</table>\n",
      "\n",
      "$\\text{Individual point share} =  \\frac{1}{2}\\text{Team Average} + \\frac{1}{2}\\text{Position Points}$\n",
      "\n",
      "For some examples:\n",
      "\n",
      "* If each portion earns 10 points, then each team member gets 40 points.\n",
      "* If the team does not work well together, and one person scores a 20 on their own, but the other member fails to submit anything, the grades will be: \n",
      "    * Score for the student who submitted - 30 (or 75%) \n",
      "    * Score for student who did not submitted - 10 (or 25%)\n",
      "\n",
      "The goal of scoring this way is to encourage teammates to help each other do well in this course.  I do mean help; I don't mean do someone else's work for them.\n",
      "\n",
      "*(Click the down blue arrow for information about team assignments Hand Solutions.)*"
     ]
    },
    {
     "cell_type": "heading",
     "level": 3,
     "metadata": {
      "slideshow": {
       "slide_type": "subslide"
      }
     },
     "source": [
      "Hand Solution"
     ]
    },
    {
     "cell_type": "markdown",
     "metadata": {
      "slideshow": {
       "slide_type": "-"
      }
     },
     "source": [
      "<audio controls data-autoplay preload>\n",
      " <source src=\"https://github.com/damontallen/Construction-Lectures-Fall-2014/raw/master/Lecture%20Audio/Week%201/Homework%20Assignments/Hand%20Solution.mp3\"\n",
      "     type='audio/mp3'>\n",
      " <p>Your user agent does not support the HTML5 Audio element or the files are missing.</p>\n",
      "</audio>\n"
     ]
    },
    {
     "cell_type": "markdown",
     "metadata": {
      "slideshow": {
       "slide_type": "-"
      }
     },
     "source": [
      "* You will generate a hand written solution to the problem.\n",
      "* This solution should be in a similar format as I has covered in lecture and in the examples.\n",
      "* Please write it neatly and document where you recorded values from the NDS, the Supplement, Plywood Design Specifications, and or the Formwork manual.\n",
      "* To receive full credit you will need to follow the [Hand Solution Rubric](https://drive.google.com/file/d/0B4xhmoMLMWNVUDgwSDNqa3U4eE0/edit?usp=sharing).\n",
      "* Your parts include:\n",
      "    * Write original problem statement\n",
      "    * Label all sections of the problem\n",
      "    * Cite all reference material (including table, section and equation numbers)\n",
      "    * Include units in values recorded from tables\n",
      "    * Carry units through all equations (unless otherwise instructed)\n",
      "    * Show all work for your calculations\n",
      "    * Provide a summary section at the end of the solution.\n",
      "  \n",
      "*(Click the down blue arrow for information about team assignments Hand Verifications.)*"
     ]
    },
    {
     "cell_type": "heading",
     "level": 3,
     "metadata": {
      "slideshow": {
       "slide_type": "subslide"
      }
     },
     "source": [
      "Hand Verification"
     ]
    },
    {
     "cell_type": "markdown",
     "metadata": {
      "slideshow": {
       "slide_type": "-"
      }
     },
     "source": [
      "<audio controls data-autoplay preload>\n",
      " <source src=\"https://github.com/damontallen/Construction-Lectures-Fall-2014/raw/master/Lecture%20Audio/Week%201/Homework%20Assignments/Hand%20Verification.mp3\"\n",
      "     type='audio/mp3'>\n",
      " <p>Your user agent does not support the HTML5 Audio element or the files are missing.</p>\n",
      "</audio>\n"
     ]
    },
    {
     "cell_type": "markdown",
     "metadata": {
      "slideshow": {
       "slide_type": "-"
      }
     },
     "source": [
      "* You will need to follow the work on the hand solution and recalculate all the equations written to verify that no errors were made.\n",
      "* You need to show your work.\n",
      "* You also need to look up all the values that were written down to verify that there were not any transcription errors.\n",
      "* You do not need to document where the values in your equations come from unless you have discovered an error in the original solution.\n",
      "* To receive full credit you will need to follow the [Hand Verification Rubric](https://drive.google.com/file/d/0B4xhmoMLMWNVcmdPX19Jbkt6Snc/edit?usp=sharing).\n",
      "* Your parts include:\n",
      "    * Verify citations\n",
      "    * Document any corrections\n",
      "    * Verify values that come from tables and that those are the correct tables\n",
      "    * Line through any errors and record correct values with documentation\n",
      "    * Ensure that the student responsible for the hand solution gives you a complete solution using correct values.\n",
      "    * Show a re-work of all equations\n",
      "    * Initial all checks and verifications\n",
      "\n",
      "*(Click the down blue arrow for information about team assignments Spreadsheet Solutions.)*"
     ]
    },
    {
     "cell_type": "heading",
     "level": 3,
     "metadata": {
      "slideshow": {
       "slide_type": "subslide"
      }
     },
     "source": [
      "Spreadsheet Solution"
     ]
    },
    {
     "cell_type": "markdown",
     "metadata": {
      "slideshow": {
       "slide_type": "-"
      }
     },
     "source": [
      "<audio controls data-autoplay preload>\n",
      " <source src=\"https://github.com/damontallen/Construction-Lectures-Fall-2014/raw/master/Lecture%20Audio/Week%201/Homework%20Assignments/Spreadsheet%20Solution.mp3\"\n",
      "     type='audio/mp3'>\n",
      " <p>Your user agent does not support the HTML5 Audio element or the files are missing.</p>\n",
      "</audio>"
     ]
    },
    {
     "cell_type": "markdown",
     "metadata": {
      "slideshow": {
       "slide_type": "-"
      }
     },
     "source": [
      "* You will take a copy of the original hand solution to work off of and generate a spreadsheet solution.\n",
      "* This solution should be in a similar format as I has covered in lecture or in the example(s) provided.\n",
      "* You need to follow the [Spreadsheet Solution Rubric](https://drive.google.com/file/d/0B4xhmoMLMWNVTFZjbXNWblItX28/edit?usp=sharing) in order to receive full credit.\n",
      "* Your parts include:\n",
      "    * The problem statement\n",
      "    * Entering the initial data for calculating the solution\n",
      "    * Create tables (when needed) and use vlookup to utilize these tables.\n",
      "    * Enter the formulas for all calculations (not just the resulting numeric value)\n",
      "    * Use functions like \"min\", \"max\", and \"if\" to automate design validation.\n",
      "    * (Extra Credit) Name the cells and use them in the equations\n",
      "  \n",
      "[Excel Help](http://nbviewer.ipython.org/github/damontallen/Construction-Lectures-Fall-2014/blob/master/Rubrics%20and%20Excel%20Help.ipynb#Excel-Help)\n",
      "\n",
      "*(A word of caution, if you are using names cells, you cannot copy the contents of one spreadsheet and paste them into a separate spreadsheet.  The names are specific to the original spreadsheet and will not copy.  This will result in formulas not working in the copy.  If you need to make a second copy to work in you can use the \u201cSave As\u201d option, in the File menu, and create a spreadsheet with a different name.)*\n",
      "\n",
      "*(Click the down blue arrow for information about team assignments Spreadsheet Documentation.)*"
     ]
    },
    {
     "cell_type": "heading",
     "level": 3,
     "metadata": {
      "slideshow": {
       "slide_type": "subslide"
      }
     },
     "source": [
      "Spreadsheet Documentation"
     ]
    },
    {
     "cell_type": "markdown",
     "metadata": {
      "slideshow": {
       "slide_type": "-"
      }
     },
     "source": [
      "<audio controls data-autoplay preload>\n",
      " <source src=\"https://github.com/damontallen/Construction-Lectures-Fall-2014/raw/master/Lecture%20Audio/Week%201/Homework%20Assignments/Spreadsheet%20Documentation.mp3\"\n",
      "     type='audio/mp3'>\n",
      " <p>Your user agent does not support the HTML5 Audio element or the files are missing.</p>\n",
      "</audio>"
     ]
    },
    {
     "cell_type": "markdown",
     "metadata": {
      "slideshow": {
       "slide_type": "-"
      }
     },
     "source": [
      "* First verify the accuracy of the spreadsheet based on the hand verification solution.\n",
      "* You now need to take the spreadsheet and make it more readable based on the [Spreadsheet Documentation Rubric](https://drive.google.com/file/d/0B4xhmoMLMWNVOWpDZ3pBWm5pdlE/edit?usp=sharing).\n",
      "* Your parts include:\n",
      "    * Add comments to the cells, containing manually entered values, that indicate the source\n",
      "    * Add or correct any needed subscript or superscripts on variable names\n",
      "    * Use conditional formating to provide a visual  validation of the calculation results.\n",
      "    * Provide a design summary that has all the solutions in one place\n",
      "    * Provide a graphical depiction of the problem\n",
      "    * Provide equations displayed symbolically to clarify the formulas\n",
      "\n",
      "[Excel Help](http://nbviewer.ipython.org/github/damontallen/Construction-Lectures-Fall-2014/blob/master/Rubrics%20and%20Excel%20Help.ipynb#Excel-Help)\n",
      "\n",
      "*(A word of caution, if you are using names cells, you cannot copy the contents of one spreadsheet and paste them into a separate spreadsheet.  The names are specific to the original spreadsheet and will not copy.  This will result in formulas not working in the copy.  If you need to make a second copy to work in you can use the \u201cSave As\u201d option, in the File menu, and create a spreadsheet with a different name.)*\n",
      "\n",
      "*(Click the right blue arrow for information about Individual Assignments.)*"
     ]
    },
    {
     "cell_type": "heading",
     "level": 2,
     "metadata": {
      "slideshow": {
       "slide_type": "slide"
      }
     },
     "source": [
      "Individual Assignments"
     ]
    },
    {
     "cell_type": "markdown",
     "metadata": {
      "slideshow": {
       "slide_type": "-"
      }
     },
     "source": [
      "<audio controls data-autoplay preload>\n",
      " <source src=\"https://github.com/damontallen/Construction-Lectures-Fall-2014/raw/master/Lecture%20Audio/Week%201/Homework%20Assignments/Individual%20Assignments.mp3\"\n",
      "     type='audio/mp3'>\n",
      " <p>Your user agent does not support the HTML5 Audio element or the files are missing.</p>\n",
      "</audio>"
     ]
    },
    {
     "cell_type": "markdown",
     "metadata": {
      "slideshow": {
       "slide_type": "-"
      }
     },
     "source": [
      "Individual Assignments are your opportunity to shine outside of your team.  In this case you will be working on your own.  Additionally, these assignments will often be used to prepare the undergraduate class members for the [AIC exam](http://www.professionalconstructor.org/exam-info).\n",
      "\n",
      "The individual assignment solutions are to be done as if you were working on a Hand Solution for your team Team Assignments ([Hand Solution Rubric](https://drive.google.com/file/d/0B4xhmoMLMWNVUDgwSDNqa3U4eE0/edit?usp=sharing)).  \n",
      "\n",
      "* You will generate a hand written solution to the problem.\n",
      "* This solution should be in a similar format as I has covered in lecture and in the examples.\n",
      "* Please write it neatly and document where you recorded values from the NDS, the Supplement, Plywood Design Specifications, and or the Formwork manual.\n",
      "* To receive full credit you will need to follow the [Hand Solution Rubric](https://drive.google.com/file/d/0B4xhmoMLMWNVUDgwSDNqa3U4eE0/edit?usp=sharing).\n",
      "* Your parts include:\n",
      "    * Write original problem statement\n",
      "    * Label all sections of the problem\n",
      "    * Cite all reference material (including table, section and equation numbers)\n",
      "    * Include units in values recorded from tables\n",
      "    * Carry units through all equations (unless otherwise instructed)\n",
      "    * Show all work for your calculations\n",
      "    * Provide a summary section at the end of the solution."
     ]
    },
    {
     "cell_type": "heading",
     "level": 2,
     "metadata": {
      "slideshow": {
       "slide_type": "slide"
      }
     },
     "source": [
      "References"
     ]
    },
    {
     "cell_type": "markdown",
     "metadata": {
      "slideshow": {
       "slide_type": "-"
      }
     },
     "source": [
      "[Class website](https://ufl.instructure.com/courses/314024) *(Use this link to if you are taking the course on e-learning.)*\n",
      "\n",
      "[Github.io version of course website](http://damontallen.github.io/Construction-Lectures-Fall-2014/) *(Do not use this link is you are taking this course in Summer A or B.)*"
     ]
    },
    {
     "cell_type": "markdown",
     "metadata": {
      "slideshow": {
       "slide_type": "skip"
      }
     },
     "source": [
      "CSS stylesheet\n",
      "\n",
      "<head>\n",
      "<style>\n",
      "important {font:italic bold 16px arial;}\n",
      ".missing {color:Red}\n",
      "fragment {color:LightBlue;}\n",
      "subslide {color:DarkBlue;}\n",
      "\n",
      ".rgt {float:right;}\n",
      "\n",
      ".lt {float:left;}\n",
      "\n",
      ".cnt {text-align:center; vertical-align:text-top;}\n",
      "\n",
      ".box { border:1px solid blue; float:left; margin-right:3px;}\n",
      "\n",
      ".max {max-width:300px; max-height:300px;}\n",
      "\n",
      ".fix {max-height:200px; max-width:200px;}\n",
      "\n",
      "</style>\n",
      "</head>\n",
      "\n",
      "    <audio controls data-autoplay preload>\n",
      "     <source src=\"https://github.com/damontallen/Construction-Lectures-Fall-2014/raw/master/Intro/FILE%20NAME.mp3\"\n",
      "         type='audio/mp3'>\n",
      "     <p>Your user agent does not support the HTML5 Audio element or the files are missing.</p>\n",
      "    </audio><a></a>"
     ]
    },
    {
     "cell_type": "code",
     "collapsed": false,
     "input": [
      "%%javascript\n",
      "IPython.load_extensions(\"calico-spell-check\", \"calico-document-tools\", \"calico-cell-tools\");"
     ],
     "language": "python",
     "metadata": {
      "slideshow": {
       "slide_type": "skip"
      }
     },
     "outputs": [
      {
       "javascript": [
        "IPython.load_extensions(\"calico-spell-check\", \"calico-document-tools\", \"calico-cell-tools\");"
       ],
       "metadata": {},
       "output_type": "display_data",
       "text": [
        "<IPython.core.display.Javascript at 0x7ff061948208>"
       ]
      }
     ],
     "prompt_number": 1
    }
   ],
   "metadata": {}
  }
 ]
}