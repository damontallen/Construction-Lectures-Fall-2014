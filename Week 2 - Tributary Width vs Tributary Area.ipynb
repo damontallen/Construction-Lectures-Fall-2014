{
 "metadata": {
  "name": "",
  "signature": "sha256:3c6e317e9e582c7594eafa44a76e2ea7ac113dbb67703d6acfb345e5dc05c33a"
 },
 "nbformat": 3,
 "nbformat_minor": 0,
 "worksheets": [
  {
   "cells": [
    {
     "cell_type": "heading",
     "level": 1,
     "metadata": {
      "slideshow": {
       "slide_type": "slide"
      }
     },
     "source": [
      "Tributary Width vs Tributary Area"
     ]
    },
    {
     "cell_type": "markdown",
     "metadata": {
      "slideshow": {
       "slide_type": "-"
      }
     },
     "source": [
      "<iframe width=\"420\" height=\"315\" src=\"//www.youtube.com/embed/kpJGulsK4Cg\" frameborder=\"0\" allowfullscreen></iframe>"
     ]
    },
    {
     "cell_type": "heading",
     "level": 2,
     "metadata": {
      "slideshow": {
       "slide_type": "slide"
      }
     },
     "source": [
      "Tributary Area"
     ]
    },
    {
     "cell_type": "markdown",
     "metadata": {
      "slideshow": {
       "slide_type": "-"
      }
     },
     "source": [
      "<audio controls data-autoplay preload>\n",
      " <source src=\"https://github.com/damontallen/Construction-Lectures/raw/master/Lecture%20Audio/Week%202/Trib%20Area%20vs%20Width/Tributary%20Area.mp3\"\n",
      "         type='audio/mp3'>\n",
      " <p>Your user agent does not support the HTML5 Audio element or files are missing.</p>\n",
      "</audio>"
     ]
    },
    {
     "cell_type": "markdown",
     "metadata": {
      "slideshow": {
       "slide_type": "-"
      }
     },
     "source": [
      "In many cases a uniform spacing of members is used throughout the framing plan.  This example is designed to illustrate the *concept* of tributary area rather than typical framing layouts."
     ]
    },
    {
     "cell_type": "markdown",
     "metadata": {
      "slideshow": {
       "slide_type": "-"
      }
     },
     "source": [
      "<a href=\"http://imgur.com/ungiNf8\"><img src=\"http://i.imgur.com/ungiNf8.png\" title=\"Tributary Area\" style=\"max-width:300px; max-height:300px; border:1px solid blue; float:left; margin-right:3px;\"/></a>"
     ]
    },
    {
     "cell_type": "markdown",
     "metadata": {
      "slideshow": {
       "slide_type": "-"
      }
     },
     "source": [
      "$\\text{Trib. A} = \\text{trib. width} \\times \\text{span}$\n",
      "\n",
      "* Joist J1 - $\\text{Trib. A} = 2 ft \\times 12 ft = 24 ft^2$\n",
      "* Joist J2 - $\\text{Trib. A} = 2 ft \\times 14 ft = 28 ft^2$\n",
      "* Girder G1 - $\\text{Trib. A} = \\left(\\frac{12 ft}{2} + \\frac{14 ft}{2}\\right) \\times 20 ft= 260 ft^2$\n",
      "* Girder G2 - $\\text{Trib. A} = \\left(\\frac{12 ft}{2} + \\frac{14 ft}{2}\\right) \\times 24 ft = 312 ft^2$\n",
      "* Column C1 - $\\text{Trib. A} = \\left(\\frac{12 ft}{2} + \\frac{14 ft}{2}\\right) \\times \\left(\\frac{20 ft}{2} + \\frac{24 ft}{2}\\right)  = 286 ft^2$\n",
      "* Exterior column C2 - $\\text{Trib. A} = \\left(\\frac{12 ft}{2}\\right) \\times \\left(\\frac{20 ft}{2} + \\frac{24 ft}{2}\\right) = 132 ft^2$\n",
      "* Corner column C3 - $\\text{Trib. A} = \\left(\\frac{14 ft}{2}\\right) \\times \\left(\\frac{20 ft}{2}\\right) = 70 ft^2$"
     ]
    },
    {
     "cell_type": "heading",
     "level": 2,
     "metadata": {
      "slideshow": {
       "slide_type": "slide"
      }
     },
     "source": [
      "Tributary Width"
     ]
    },
    {
     "cell_type": "markdown",
     "metadata": {
      "slideshow": {
       "slide_type": "-"
      }
     },
     "source": [
      "<audio controls data-autoplay preload>\n",
      " <source src=\"https://github.com/damontallen/Construction-Lectures/raw/master/Lecture%20Audio/Week%202/Trib%20Area%20vs%20Width/Tributary%20Width.mp3\"\n",
      "         type='audio/mp3'>\n",
      " <p>Your user agent does not support the HTML5 Audio element or files are missing.</p>\n",
      "</audio>"
     ]
    },
    {
     "cell_type": "markdown",
     "metadata": {
      "slideshow": {
       "slide_type": "-"
      }
     },
     "source": [
      "<a href=\"http://imgur.com/c8Sv3kI\"><img src=\"http://i.imgur.com/c8Sv3kI.png\" title=\"Tributary Width\" style=\"max-width:300px; max-height:300px; border:1px solid blue; float:left; margin-right:3px;\"/></a>"
     ]
    },
    {
     "cell_type": "markdown",
     "metadata": {
      "slideshow": {
       "slide_type": "-"
      }
     },
     "source": [
      "If the members are equally spaced, because tributary width is is half the distance to the next member on one side and half the distance on the other side, the tributary with is equal to the member spacing."
     ]
    },
    {
     "cell_type": "heading",
     "level": 2,
     "metadata": {
      "slideshow": {
       "slide_type": "slide"
      }
     },
     "source": [
      "References:\n"
     ]
    },
    {
     "cell_type": "markdown",
     "metadata": {
      "slideshow": {
       "slide_type": "-"
      }
     },
     "source": [
      "[Class website](https://elearning2.courses.ufl.edu/portal/site/UFL-BCN4423C-40908-52014) *(Use this link to if you are taking the course on e-learning.)*\n",
      "\n",
      "[Github.io version of course website](http://damontallen.github.io/Construction-Lectures/) *(Do not use this link if you are taking this course in Summer A or B.)*\n",
      "\n",
      "[IPython.org](http://ipython.org/) *(IPython is the opensource software used in the development of much of this course.)*\n",
      "\n",
      "[Complete Software List](http://nbviewer.ipython.org/github/damontallen/Construction-Lectures/blob/master/Resources.ipynb)"
     ]
    },
    {
     "cell_type": "markdown",
     "metadata": {
      "slideshow": {
       "slide_type": "skip"
      }
     },
     "source": [
      "CSS stylesheet\n",
      "\n",
      "<head>\n",
      "<style>\n",
      "important {font:italic bold 16px arial;}\n",
      ".missing {color:Red}\n",
      "fragment {color:LightBlue;}\n",
      "subslide {color:DarkBlue;}\n",
      "\n",
      ".rgt {float:right;}\n",
      "\n",
      ".lt {float:left;}\n",
      "\n",
      ".cnt {text-align:center; vertical-align:text-top;}\n",
      "\n",
      ".box { border:1px solid blue; float:left; margin-right:3px;}\n",
      "\n",
      ".max {max-width:300px; max-height:300px;}\n",
      "\n",
      ".fix {max-height:200px; max-width:200px;}\n",
      "\n",
      "</style>\n",
      "</head>\n",
      "\n",
      "    /* class = \"max box\" for img tags\n",
      "    \n",
      "    <audio controls data-autoplay>\n",
      "     <source src=\"https://github.com/damontallen/Construction-Lectures/raw/master/Intro/FILE%20NAME.mp3\"\n",
      "             type='audio/mp3'>\n",
      "     <p>Your user agent does not support the HTML5 Audio element.</p>\n",
      "    </audio><a></a>\n",
      "    \n",
      "    */\n",
      "    max box == style=\"max-width:300px; max-height:300px; border:1px solid blue; float:left; margin-right:3px;\""
     ]
    }
   ],
   "metadata": {}
  }
 ]
}