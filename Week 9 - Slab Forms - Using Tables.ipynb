{
 "cells": [
  {
   "cell_type": "markdown",
   "metadata": {
    "slideshow": {
     "slide_type": "slide"
    }
   },
   "source": [
    "# Slab Forms - Using Formwork Tables"
   ]
  },
  {
   "cell_type": "markdown",
   "metadata": {
    "slideshow": {
     "slide_type": "-"
    }
   },
   "source": [
    "<iframe width=\"420\" height=\"315\" src=\"//www.youtube.com/embed/FH30PWc6Ev8\" frameborder=\"0\" allowfullscreen></iframe>"
   ]
  },
  {
   "cell_type": "markdown",
   "metadata": {
    "slideshow": {
     "slide_type": "slide"
    }
   },
   "source": [
    "## Which Tables?"
   ]
  },
  {
   "cell_type": "markdown",
   "metadata": {
    "slideshow": {
     "slide_type": "-"
    }
   },
   "source": [
    "<audio controls data-autoplay preload>\n",
    " <source src=\"https://github.com/damontallen/Construction-Lectures-Fall-2014/raw/master/Lecture%20Audio/Week%209/Slab%20Form%20Design%20Using%20Tables/Which%20Tables.mp3\"\n",
    "         type='audio/mp3'>\n",
    " <p>Your user agent does not support the HTML5 Audio element or the files are missing.</p>\n",
    "</audio>"
   ]
  },
  {
   "cell_type": "markdown",
   "metadata": {},
   "source": [
    "In the Formwork text, many of the same tables we used for wall forms are the ones we use for slab forms, starting with the Plyform span limits found in Table 9.3.  Again, Table 9.3 has values for 1/2\" to 1\", wet, Class I Plyform, with both $C_D = 1.0$ and $C_D = 1.25$, in either the strong or weak orientation.  The other sheathing tables are for other support conditions.\n",
    "\n",
    "Tables 9.6.1 through 9.8.4, covering beams, and are similar to the sheathing tables in that they are for different support conditions, and contain values for both duration factors.  This time we will be using tables starting with 9.6 for our Joist and Stringer designs.  Keep in mind that these beam tables contain values found using $C_D = 1.0$, and $C_D= 1.25$ so it is important to verify the table's load duration factor. \n",
    "\n",
    "There are no wales in slabs so we will not be using Tables 9.9.1 through 9.11.2.\n",
    "\n",
    "Tables 9.12.1 and 2 contain allowable axial loads of a variety of species, sizes, and effective lengths.  The values in this table are only for a $C_D=1.0$.  This is not unreasonable since you are much more likely to be reusing shores, which means their capacity would have to be calculated using a $C_D=1.0$ anyway.  \n",
    "\n",
    "Since the procedure for slab forms is very similar to wall forms we'll move straight to an example."
   ]
  },
  {
   "cell_type": "markdown",
   "metadata": {
    "slideshow": {
     "slide_type": "slide"
    }
   },
   "source": [
    "# Slab Form Example"
   ]
  },
  {
   "cell_type": "markdown",
   "metadata": {
    "slideshow": {
     "slide_type": "-"
    }
   },
   "source": [
    "<audio controls data-autoplay preload>\n",
    " <source src=\"https://github.com/damontallen/Construction-Lectures-Fall-2014/raw/master/Lecture%20Audio/Week%209/Slab%20Form%20Design%20Using%20Tables/Slab%20Form%20Example.mp3\"\n",
    "         type='audio/mp3'>\n",
    " <p>Your user agent does not support the HTML5 Audio element or the files are missing.</p>\n",
    "</audio>"
   ]
  },
  {
   "cell_type": "markdown",
   "metadata": {},
   "source": [
    "Design formwork for a concrete floor slab based on the following information:\n",
    "\n",
    "* Thickness of concrete slab = 9”\n",
    "* Unbraced length for 4x6 shores = 14 ft\n",
    "* Concrete unit weight = 150 lb/ft$^3$\n",
    "* Deflection limited to L/360 but not greater than 1/16”\n",
    "* All form lumber will be S4S No.2 Douglas Fir-Larch\n",
    "* Assume dry conditions for lumber and wet conditions for plywood\n",
    "* Decking for the slab will be 3/4” Class I Plyfrom\n",
    "* Load duration factor of 7 days for everything except the shores.\n",
    "* Dead Load for formwork material = 5.5 psf and Live Load = 50 psf"
   ]
  },
  {
   "cell_type": "markdown",
   "metadata": {
    "slideshow": {
     "slide_type": "slide"
    }
   },
   "source": [
    "## Determine the Following"
   ]
  },
  {
   "cell_type": "markdown",
   "metadata": {
    "slideshow": {
     "slide_type": "-"
    }
   },
   "source": [
    "<audio controls data-autoplay preload>\n",
    " <source src=\"https://github.com/damontallen/Construction-Lectures-Fall-2014/raw/master/Lecture%20Audio/Week%209/Slab%20Form%20Design%20Using%20Tables/Determine%20the%20Following.mp3\"\n",
    "         type='audio/mp3'>\n",
    " <p>Your user agent does not support the HTML5 Audio element or the files are missing.</p>\n",
    "</audio>"
   ]
  },
  {
   "cell_type": "markdown",
   "metadata": {},
   "source": [
    "* Plyform Total Load\n",
    "* 4x4 Joist Spacing in inches\n",
    "* 4x6 Stinger Spacing in inches\n",
    "* For the 4x6 Shores find\n",
    "    * Spacing in inches\n",
    "    * Axial Load in pounds\n",
    "* Verify that 4x6 shoring will work."
   ]
  },
  {
   "cell_type": "markdown",
   "metadata": {
    "slideshow": {
     "slide_type": "slide"
    }
   },
   "source": [
    "## Pressure"
   ]
  },
  {
   "cell_type": "markdown",
   "metadata": {},
   "source": [
    "<audio controls data-autoplay preload>\n",
    " <source src=\"https://github.com/damontallen/Construction-Lectures-Fall-2014/raw/master/Lecture%20Audio/Week%209/Slab%20Form%20Design%20Using%20Tables/Pressure.mp3\"\n",
    "         type='audio/mp3'>\n",
    " <p>Your user agent does not support the HTML5 Audio element or the files are missing.</p>\n",
    "</audio>"
   ]
  },
  {
   "cell_type": "code",
   "execution_count": 1,
   "metadata": {
    "collapsed": false,
    "slideshow": {
     "slide_type": "skip"
    }
   },
   "outputs": [
    {
     "name": "stdout",
     "output_type": "stream",
     "text": [
      "Uninform pressure = 168.00 psf\n"
     ]
    }
   ],
   "source": [
    "%run Older_Classes/Temp_struc_v_3_beta.py\n",
    "t_concrete = 9 #in\n",
    "DL_form_work = 5.5 #psf\n",
    "LL = 50 #psf\n",
    "\n",
    "DL_fw = DL_form_work\n",
    "LL = LL\n",
    "t = t_concrete\n",
    "SlabLoad = slab_load(t,LL = LL, DL_forms = DL_fw)\n",
    "P = SlabLoad\n",
    "print(\"Uninform pressure = %.2f psf\"%P.value)"
   ]
  },
  {
   "cell_type": "code",
   "execution_count": 2,
   "metadata": {
    "collapsed": false
   },
   "outputs": [
    {
     "data": {
      "text/latex": [
       "$$\\text{Concrete Dead Load } = DL_{con} = \\text{Slab Thickness} \\times \\text{Unit weight of Concrete}$$ \n",
       "${}$\n",
       " $$\\text{Unit weight of concrete} = \\gamma_{con} = 150 pcf$$ \n",
       "${}$\n",
       " $$\\text{Slab thickness } = t_{slab} = 9\"$$ \n",
       "${}$\n",
       " $$DL_{con} = t_{slab} \\times \\gamma_{con}$$ \n",
       "${}$\n",
       " $$DL_{con} = 9\" \\times 150 pcf \\times \\frac{1 ft}{12 in}$$ \n",
       "${}$\n",
       " $$DL_{con} = 112.5 psf$$ \n",
       "${}$\n",
       " $$\\text{Formwork Dead Load } = DL_{forms} = 5.5 psf$$ \n",
       "${}$\n",
       " $$\\text{Slab Live Load } = LL = 50 psf$$ \n",
       "${}$\n",
       " $$\\text{Total Pressure Load on the Slab Form Work} = p$$ \n",
       "${}$\n",
       " $$p = \\text{Concrete Dead Load} + \\text{Formwork Dead Load } + \\text{Slab Live Load }$$ \n",
       "${}$\n",
       " $$p = DL_{con} + DL_{forms} + LL$$ \n",
       "${}$\n",
       " $$p = 112.5 psf + 5.5 psf + 50 psf$$ \n",
       "${}$\n",
       " $$p = 168 psf$$"
      ],
      "text/plain": [
       "<IPython.core.display.Latex object>"
      ]
     },
     "execution_count": 2,
     "metadata": {},
     "output_type": "execute_result"
    }
   ],
   "source": [
    "SlabLoad.work"
   ]
  },
  {
   "cell_type": "markdown",
   "metadata": {},
   "source": [
    "*(Always remember that the minimum live load on slabs is 50 psf for workers, and 75 psf for workers with motorized buggies.)*"
   ]
  },
  {
   "cell_type": "markdown",
   "metadata": {
    "slideshow": {
     "slide_type": "slide"
    }
   },
   "source": [
    "## Plywood Analysis (Joist Spacing)"
   ]
  },
  {
   "cell_type": "markdown",
   "metadata": {},
   "source": [
    "<audio controls data-autoplay preload>\n",
    " <source src=\"https://github.com/damontallen/Construction-Lectures-Fall-2014/raw/master/Lecture%20Audio/Week%209/Slab%20Form%20Design%20Using%20Tables/Plywood%20Analysis%20(Joist%20Spacing).mp3\"\n",
    "         type='audio/mp3'>\n",
    " <p>Your user agent does not support the HTML5 Audio element or the files are missing.</p>\n",
    "</audio>"
   ]
  },
  {
   "cell_type": "code",
   "execution_count": 3,
   "metadata": {
    "collapsed": false,
    "slideshow": {
     "slide_type": "skip"
    }
   },
   "outputs": [
    {
     "data": {
      "text/html": [
       "<div>\n",
       "<table border=\"1\" class=\"dataframe\">\n",
       "  <thead>\n",
       "    <tr style=\"text-align: right;\">\n",
       "      <th></th>\n",
       "      <th>1/2_in_strong</th>\n",
       "      <th>5/8_in_strong</th>\n",
       "      <th>3/4_in_strong</th>\n",
       "      <th>1_in_strong</th>\n",
       "      <th>1/2_in_weak</th>\n",
       "      <th>5/8_in_weak</th>\n",
       "      <th>3/4_in_weak</th>\n",
       "      <th>1_in_weak</th>\n",
       "    </tr>\n",
       "    <tr>\n",
       "      <th>P</th>\n",
       "      <th></th>\n",
       "      <th></th>\n",
       "      <th></th>\n",
       "      <th></th>\n",
       "      <th></th>\n",
       "      <th></th>\n",
       "      <th></th>\n",
       "      <th></th>\n",
       "    </tr>\n",
       "  </thead>\n",
       "  <tbody>\n",
       "    <tr>\n",
       "      <th>150</th>\n",
       "      <td>17</td>\n",
       "      <td>19</td>\n",
       "      <td>22</td>\n",
       "      <td>26</td>\n",
       "      <td>12</td>\n",
       "      <td>14</td>\n",
       "      <td>18</td>\n",
       "      <td>23</td>\n",
       "    </tr>\n",
       "    <tr>\n",
       "      <th>175</th>\n",
       "      <td>16</td>\n",
       "      <td>19</td>\n",
       "      <td>21</td>\n",
       "      <td>25</td>\n",
       "      <td>11</td>\n",
       "      <td>13</td>\n",
       "      <td>17</td>\n",
       "      <td>22</td>\n",
       "    </tr>\n",
       "    <tr>\n",
       "      <th>200</th>\n",
       "      <td>16</td>\n",
       "      <td>18</td>\n",
       "      <td>20</td>\n",
       "      <td>24</td>\n",
       "      <td>11</td>\n",
       "      <td>13</td>\n",
       "      <td>17</td>\n",
       "      <td>22</td>\n",
       "    </tr>\n",
       "  </tbody>\n",
       "</table>\n",
       "</div>"
      ],
      "text/plain": [
       "     1/2_in_strong  5/8_in_strong  3/4_in_strong  1_in_strong  1/2_in_weak  \\\n",
       "P                                                                            \n",
       "150             17             19             22           26           12   \n",
       "175             16             19             21           25           11   \n",
       "200             16             18             20           24           11   \n",
       "\n",
       "     5/8_in_weak  3/4_in_weak  1_in_weak  \n",
       "P                                         \n",
       "150           14           18         23  \n",
       "175           13           17         22  \n",
       "200           13           17         22  "
      ]
     },
     "execution_count": 3,
     "metadata": {},
     "output_type": "execute_result"
    }
   ],
   "source": [
    "import pandas as pd\n",
    "plyform = pd.read_csv(\"./Wood/Plyform_1.25_strong_spans.csv\",index_col=0)\n",
    "plyform.loc[150:200]"
   ]
  },
  {
   "cell_type": "code",
   "execution_count": 4,
   "metadata": {
    "collapsed": false,
    "slideshow": {
     "slide_type": "skip"
    }
   },
   "outputs": [
    {
     "name": "stdout",
     "output_type": "stream",
     "text": [
      "Read down to 175 psf and over to the 3/4 in column and find s = 21\n"
     ]
    }
   ],
   "source": [
    "table_P = min(plyform['3/4_in_strong'][plyform.index>=P.value].index)\n",
    "joist_spacing = int(plyform['3/4_in_strong'][plyform.index==table_P ])\n",
    "print(\"Read down to {} psf and over to the 3/4 in column and find s = {}\".format(table_P,joist_spacing))"
   ]
  },
  {
   "cell_type": "markdown",
   "metadata": {},
   "source": [
    "\n",
    "\n",
    "<a href = \"http://i.imgur.com/3wlGQhb.jpg\">\n",
    "<img src=\"http://i.imgur.com/3wlGQhb.jpg\" alt = \"Formwork for Concrete Table 9.2\" title = \"Formwork for Concrete Table 9.2\" style=\"max-width:200px; max-height:200px; border:1px solid blue; float:right; margin-left:10px;\"/>\n",
    "</a>\n",
    "\n",
    "Since the problem statement indicated a 7 day load duration factor for everything but shores, i.e. $C_D = 1.25$, we use the left hand side of Table 9.2.  The concrete pressure is over $150 psf$ in the left hand column, so we have to use $175 psf$.\n",
    "\n",
    "For $3/4\"$ Class I Plyform, subjected to a $175 psf$ pressure load, with $C_D = 1.25$, orientating the Plyform in the strong direction (grain perpendicular to the supports), and supported over three or more spans, the maximum support spacing is $21\\text{\"}$. \n",
    "\n",
    "As a reminder, for the purposes of preparing you for the [AIC exam](http://www.professionalconstructor.org/?page=AC_Certification), use $21\\text{\"}$ on center."
   ]
  },
  {
   "cell_type": "markdown",
   "metadata": {
    "slideshow": {
     "slide_type": "slide"
    }
   },
   "source": [
    "## Stringer Spacing (Joist Support)"
   ]
  },
  {
   "cell_type": "markdown",
   "metadata": {},
   "source": [
    "<audio controls data-autoplay preload>\n",
    " <source src=\"https://github.com/damontallen/Construction-Lectures-Fall-2014/raw/master/Lecture%20Audio/Week%209/Slab%20Form%20Design%20Using%20Tables/Stringer%20Spacing%20(Joist%20Support).mp3\"\n",
    "         type='audio/mp3'>\n",
    " <p>Your user agent does not support the HTML5 Audio element or the files are missing.</p>\n",
    "</audio>"
   ]
  },
  {
   "cell_type": "markdown",
   "metadata": {},
   "source": [
    "We need to determine the new line load to calculate the spacing of the joist supports."
   ]
  },
  {
   "cell_type": "code",
   "execution_count": 5,
   "metadata": {
    "collapsed": false,
    "slideshow": {
     "slide_type": "skip"
    }
   },
   "outputs": [],
   "source": [
    "w = line_load(P.value,joist_spacing/12)\n",
    "# w=w_['value']"
   ]
  },
  {
   "cell_type": "code",
   "execution_count": 6,
   "metadata": {
    "collapsed": false
   },
   "outputs": [
    {
     "data": {
      "text/latex": [
       "$$\\text{Line load} = w = \\text{pressure}\\times\\text{tributary width}$$ $$w = P \\times s = 168 psf \\times 21\" \\times \\frac{1 ft}{12 in}$$$$w = 294.0 plf$$"
      ],
      "text/plain": [
       "<IPython.core.display.Latex object>"
      ]
     },
     "execution_count": 6,
     "metadata": {},
     "output_type": "execute_result"
    }
   ],
   "source": [
    "w.work"
   ]
  },
  {
   "cell_type": "code",
   "execution_count": 7,
   "metadata": {
    "collapsed": false,
    "slideshow": {
     "slide_type": "skip"
    }
   },
   "outputs": [
    {
     "name": "stdout",
     "output_type": "stream",
     "text": [
      "Read down to 300 plf and over to the 4x4 in column and find s = 69 in.\n"
     ]
    }
   ],
   "source": [
    "stringer_df = pd.read_csv(\"./Wood/Table_9.6.2.csv\", index_col = 0)\n",
    "table_w = min(stringer_df[r'$\\text{4x4 DFL}$'][stringer_df.index>=w.value].index)\n",
    "stringer_spacing = int(stringer_df[r'$\\text{4x4 DFL}$'][stringer_df.index==table_w ])\n",
    "print(\"Read down to {} plf and over to the 4x4 in column and find s = {} in.\".format(table_w,stringer_spacing))"
   ]
  },
  {
   "cell_type": "markdown",
   "metadata": {},
   "source": [
    "<a href = \"http://i.imgur.com/kS0E7bJ.jpg\">\n",
    "<img src=\"http://i.imgur.com/kS0E7bJ.jpg\" alt = \"Formwork for Concrete Table 9.6.2.*\" title = \"Formwork for Concrete Table 9.6.2.*\" style=\"max-width:200px; max-height:200px; border:1px solid blue; float:right; margin-left:10px;\"/>\n",
    "</a>\n",
    "\n",
    "Now we look up the allowable support spacings for the joists in Table 9.6, again because the joists are being supported over three or more spans.  Since, we are using Douglass Fir-Larch and $C_D=1.25$, we need to specifically use Table 9.6.2, (if we are reusing the joists again in another form, then we would look in Table 9.6.1).\n",
    "\n",
    "Reading down to $300 plf$ in the pressure column, and over to the 4x4 column, we find that the maximum support spacings for the joists is $69\\text{\"}$."
   ]
  },
  {
   "cell_type": "markdown",
   "metadata": {
    "slideshow": {
     "slide_type": "slide"
    }
   },
   "source": [
    "## Shore Spacing (Stringer Support)"
   ]
  },
  {
   "cell_type": "markdown",
   "metadata": {},
   "source": [
    "<audio controls data-autoplay preload>\n",
    " <source src=\"https://github.com/damontallen/Construction-Lectures-Fall-2014/raw/master/Lecture%20Audio/Week%209/Slab%20Form%20Design%20Using%20Tables/Shore%20Spacing%20(Stringer%20Support).mp3\"\n",
    "         type='audio/mp3'>\n",
    " <p>Your user agent does not support the HTML5 Audio element or the files are missing.</p>\n",
    "</audio>"
   ]
  },
  {
   "cell_type": "markdown",
   "metadata": {},
   "source": [
    "We now need to determine the line load on the stringers to calculate their support spacing."
   ]
  },
  {
   "cell_type": "code",
   "execution_count": 8,
   "metadata": {
    "collapsed": false,
    "slideshow": {
     "slide_type": "skip"
    }
   },
   "outputs": [],
   "source": [
    "w = line_load(P.value,stringer_spacing/12)\n",
    "# w=w_['value']"
   ]
  },
  {
   "cell_type": "code",
   "execution_count": 9,
   "metadata": {
    "collapsed": false
   },
   "outputs": [
    {
     "data": {
      "text/latex": [
       "$$\\text{Line load} = w = \\text{pressure}\\times\\text{tributary width}$$ $$w = P \\times s = 168 psf \\times 69\" \\times \\frac{1 ft}{12 in}$$$$w = 966.0 plf$$"
      ],
      "text/plain": [
       "<IPython.core.display.Latex object>"
      ]
     },
     "execution_count": 9,
     "metadata": {},
     "output_type": "execute_result"
    }
   ],
   "source": [
    "w.work"
   ]
  },
  {
   "cell_type": "code",
   "execution_count": 10,
   "metadata": {
    "collapsed": false,
    "slideshow": {
     "slide_type": "skip"
    }
   },
   "outputs": [
    {
     "name": "stdout",
     "output_type": "stream",
     "text": [
      "Read down to 1000 plf and over to the 4x6 in column and find s = 56 in.\n"
     ]
    }
   ],
   "source": [
    "# joist_df = pd.read_csv(\"./Wood/Table_9.6.2.csv\", index_col = 0)\n",
    "table_w = min(stringer_df[r'$\\text{4x6 DFL}$'][stringer_df.index>=w.value].index)\n",
    "shore_spacing = int(stringer_df[r'$\\text{4x6 DFL}$'][stringer_df.index==table_w ])\n",
    "print(\"Read down to {} plf and over to the 4x6 in column and find s = {} in.\".format(table_w,shore_spacing))"
   ]
  },
  {
   "cell_type": "markdown",
   "metadata": {},
   "source": [
    "<a href = \"http://i.imgur.com/kS0E7bJ.jpg\">\n",
    "<img src=\"http://i.imgur.com/kS0E7bJ.jpg\" alt = \"Formwork for Concrete Table 9.6.2.*\" title = \"Formwork for Concrete Table 9.6.2.*\" style=\"max-width:200px; max-height:200px; border:1px solid blue; float:right; margin-left:10px;\"/>\n",
    "</a>\n",
    "\n",
    "Now we look up the allowable support spacings for the 4x6 stringers in Table 9.6.2.  We do this because the stringers, just like the joists, are also supported over three or more spans.\n",
    "\n",
    "Reading down to $1,000 plf$ in the pressure column, then over to the 4x6 column, we find that the maximum support spacing for the stringers is $56\\text{\"}$.  If it had been less than $940 plf$ We might have been able to get away with using $900 plf$, but the slab for will also be carrying personnel, and we should always err on the side of caution when there is a high risk of injury."
   ]
  },
  {
   "cell_type": "markdown",
   "metadata": {
    "slideshow": {
     "slide_type": "slide"
    }
   },
   "source": [
    "## Shore Size"
   ]
  },
  {
   "cell_type": "markdown",
   "metadata": {},
   "source": [
    "<audio controls data-autoplay preload>\n",
    " <source src=\"https://github.com/damontallen/Construction-Lectures-Fall-2014/raw/master/Lecture%20Audio/Week%209/Slab%20Form%20Design%20Using%20Tables/Shore%20Size.mp3\"\n",
    "         type='audio/mp3'>\n",
    " <p>Your user agent does not support the HTML5 Audio element or the files are missing.</p>\n",
    "</audio>"
   ]
  },
  {
   "cell_type": "code",
   "execution_count": 11,
   "metadata": {
    "collapsed": false,
    "slideshow": {
     "slide_type": "skip"
    }
   },
   "outputs": [
    {
     "name": "stdout",
     "output_type": "stream",
     "text": [
      "Stringer s = 69\", Shore s = 56\"\n"
     ]
    }
   ],
   "source": [
    "P_axial = shore_load(P.value,stringer_spacing,shore_spacing)\n",
    "print('Stringer s = {}\", Shore s = {}\"'.format(stringer_spacing,shore_spacing))"
   ]
  },
  {
   "cell_type": "markdown",
   "metadata": {},
   "source": [
    "We need to determine the actual load on a shore to compare with its allowable load."
   ]
  },
  {
   "cell_type": "code",
   "execution_count": 12,
   "metadata": {
    "collapsed": false
   },
   "outputs": [
    {
     "data": {
      "text/latex": [
       "$$\\text{Compression load } (P_{axial}) = \\text{Pressure} \\times \\text{Tributary Area}$$ $$P_{axial} = \\text{Pressure} \\times \\text{Stringer spacing} \\times \\text{Shore spacing}$$ $$P_{axial} = 168 psf \\times 69\" \\times 56\" \\times \\left(\\frac{1 ft}{12 in}\\right)^2$$ $$P_{axial} = 4,508 lbs$$ "
      ],
      "text/plain": [
       "<IPython.core.display.Latex object>"
      ]
     },
     "execution_count": 12,
     "metadata": {},
     "output_type": "execute_result"
    }
   ],
   "source": [
    "P_axial.work"
   ]
  },
  {
   "cell_type": "code",
   "execution_count": 13,
   "metadata": {
    "collapsed": false,
    "slideshow": {
     "slide_type": "skip"
    }
   },
   "outputs": [
    {
     "name": "stdout",
     "output_type": "stream",
     "text": [
      "4x6 S4S P_allow = 3860.0 lbs\n"
     ]
    },
    {
     "data": {
      "text/html": [
       "<div>\n",
       "<table border=\"1\" class=\"dataframe\">\n",
       "  <thead>\n",
       "    <tr style=\"text-align: right;\">\n",
       "      <th></th>\n",
       "      <th>$\\text{2x4 Rough}$</th>\n",
       "      <th>$\\text{2x4 S4S}$</th>\n",
       "      <th>$\\text{3x4 Rough}$</th>\n",
       "      <th>$\\text{3x4 S4S}$</th>\n",
       "      <th>$\\text{4x4 Rough}$</th>\n",
       "      <th>$\\text{4x4 S4S}$</th>\n",
       "      <th>$\\text{4x6 Rough}$</th>\n",
       "      <th>$\\text{4x6 S4S}$</th>\n",
       "    </tr>\n",
       "    <tr>\n",
       "      <th>$L_{effective}$</th>\n",
       "      <th></th>\n",
       "      <th></th>\n",
       "      <th></th>\n",
       "      <th></th>\n",
       "      <th></th>\n",
       "      <th></th>\n",
       "      <th></th>\n",
       "      <th></th>\n",
       "    </tr>\n",
       "  </thead>\n",
       "  <tbody>\n",
       "    <tr>\n",
       "      <th>13</th>\n",
       "      <td>NaN</td>\n",
       "      <td>NaN</td>\n",
       "      <td>NaN</td>\n",
       "      <td>NaN</td>\n",
       "      <td>3260</td>\n",
       "      <td>2840</td>\n",
       "      <td>5050</td>\n",
       "      <td>4460</td>\n",
       "    </tr>\n",
       "    <tr>\n",
       "      <th>14</th>\n",
       "      <td>NaN</td>\n",
       "      <td>NaN</td>\n",
       "      <td>NaN</td>\n",
       "      <td>NaN</td>\n",
       "      <td>2830</td>\n",
       "      <td>2460</td>\n",
       "      <td>4380</td>\n",
       "      <td>3860</td>\n",
       "    </tr>\n",
       "    <tr>\n",
       "      <th>15</th>\n",
       "      <td>NaN</td>\n",
       "      <td>NaN</td>\n",
       "      <td>NaN</td>\n",
       "      <td>NaN</td>\n",
       "      <td>2470</td>\n",
       "      <td>NaN</td>\n",
       "      <td>3830</td>\n",
       "      <td>NaN</td>\n",
       "    </tr>\n",
       "  </tbody>\n",
       "</table>\n",
       "</div>"
      ],
      "text/plain": [
       "                 $\\text{2x4 Rough}$  $\\text{2x4 S4S}$  $\\text{3x4 Rough}$  \\\n",
       "$L_{effective}$                                                             \n",
       "13                              NaN               NaN                 NaN   \n",
       "14                              NaN               NaN                 NaN   \n",
       "15                              NaN               NaN                 NaN   \n",
       "\n",
       "                 $\\text{3x4 S4S}$  $\\text{4x4 Rough}$  $\\text{4x4 S4S}$  \\\n",
       "$L_{effective}$                                                           \n",
       "13                            NaN                3260              2840   \n",
       "14                            NaN                2830              2460   \n",
       "15                            NaN                2470               NaN   \n",
       "\n",
       "                 $\\text{4x6 Rough}$  $\\text{4x6 S4S}$  \n",
       "$L_{effective}$                                        \n",
       "13                             5050              4460  \n",
       "14                             4380              3860  \n",
       "15                             3830               NaN  "
      ]
     },
     "execution_count": 13,
     "metadata": {},
     "output_type": "execute_result"
    }
   ],
   "source": [
    "shore_df = pd.read_csv(\"./Wood/Table_9.12.1_DFL.csv\", index_col = 0)\n",
    "shore_cap = shore_df[r'$\\text{4x6 S4S}$'][14]\n",
    "print(\"4x6 S4S P_allow = {} lbs\".format(shore_cap))\n",
    "shore_df.loc[13:15]"
   ]
  },
  {
   "cell_type": "code",
   "execution_count": 14,
   "metadata": {
    "collapsed": false,
    "slideshow": {
     "slide_type": "skip"
    }
   },
   "outputs": [
    {
     "name": "stdout",
     "output_type": "stream",
     "text": [
      "4508.0\n",
      "648.0\n"
     ]
    },
    {
     "data": {
      "text/plain": [
       "47.950310559006212"
      ]
     },
     "execution_count": 14,
     "metadata": {},
     "output_type": "execute_result"
    }
   ],
   "source": [
    "print(P_axial.value)\n",
    "print(P_axial.value-shore_cap)\n",
    "shore_cap/P_axial.value*shore_spacing"
   ]
  },
  {
   "cell_type": "markdown",
   "metadata": {},
   "source": [
    "<a href = \"http://i.imgur.com/e2Zfaxa.jpg\">\n",
    "<img src=\"http://i.imgur.com/e2Zfaxa.jpg\" alt = \"Formwork for Concrete Table 9.12.1\" title = \"Formwork for Concrete Table 9.12.1\" style=\"max-width:200px; max-height:200px; border:1px solid blue; float:right; margin-left:10px;\"/>\n",
    "</a>\n",
    "\n",
    "To determine the allowable shore load, we turn to Table 9.12.1, and look at Douglas Fir-Larch.  We look up our shore length of 14 ft, and S4S 4x6s.  This is the column on the right, and it reads $3,860 lbs$.  This puts over by $650 lbs$.  If we had adjusted for constructibility all along then our actual load would have been reduced to a point where we would have been OK. However, as our design stands we need to reduce the shore spacing to make it work.\n",
    "\n",
    "$$\\frac{s_{allow}}{P_{allow}} = \\frac{s_{shore}}{P_{actual}}$$\n",
    "\n",
    "$$s_{allow} = \\frac{s_{shore}}{P_{actual}}\\times P_{allow}$$\n",
    "\n",
    "$$s_{allow} = \\frac{56\"}{4,508 lbs}\\times 3,860 lbs$$\n",
    "\n",
    "$$s_{allow} = 47 \\frac{15}{16}\"$$"
   ]
  },
  {
   "cell_type": "markdown",
   "metadata": {
    "slideshow": {
     "slide_type": "slide"
    }
   },
   "source": [
    "## Summary"
   ]
  },
  {
   "cell_type": "markdown",
   "metadata": {},
   "source": [
    "<audio controls data-autoplay preload>\n",
    " <source src=\"https://github.com/damontallen/Construction-Lectures-Fall-2014/raw/master/Lecture%20Audio/Week%209/Slab%20Form%20Design%20Using%20Tables/Summary.mp3\"\n",
    "         type='audio/mp3'>\n",
    " <p>Your user agent does not support the HTML5 Audio element or the files are missing.</p>\n",
    "</audio>"
   ]
  },
  {
   "cell_type": "code",
   "execution_count": 15,
   "metadata": {
    "collapsed": false,
    "slideshow": {
     "slide_type": "skip"
    }
   },
   "outputs": [
    {
     "name": "stdout",
     "output_type": "stream",
     "text": [
      "21 69 56\n"
     ]
    }
   ],
   "source": [
    "print(joist_spacing,stringer_spacing,shore_spacing)"
   ]
  },
  {
   "cell_type": "markdown",
   "metadata": {},
   "source": [
    "With $3/4\\text{\"}$ Class I Plyform, space the 4x4 joists every $21\\text{\"}$.\n",
    "\n",
    "The 4x6 stringers, used to support the 4x4 joists, cannot be spaced more than $69\\text{\"}$ on center.\n",
    "\n",
    "The 4x6 shores need to be spaced less than $56\\text{\"}$ on center. (Actually around to $48\\text{\"}$ on center.)\n",
    "\n",
    "Again, the reason we are covering this, is that this material will show up on the [AIC exam](http://www.professionalconstructor.org/?page=AC_Certification), and you might end up going to work for someone that believes this is the fastest way to work.  Either way, you need to be able to use these tables."
   ]
  },
  {
   "cell_type": "markdown",
   "metadata": {
    "slideshow": {
     "slide_type": "slide"
    }
   },
   "source": [
    "## References:"
   ]
  },
  {
   "cell_type": "markdown",
   "metadata": {},
   "source": [
    "[Class website](https://ufl.instructure.com/courses/) *(Use this link to if you are taking the course on e-learning.)*\n",
    "\n",
    "[Github.io version of course website](http://damontallen.github.io/Construction-Lectures-Fall-2014/) *(Do not use this link if you are taking this course in Summer A or B.)*\n",
    "\n",
    "[IPython.org](http://ipython.org/) *(IPython is the opensource software used in the development of much of this course.)*\n",
    "\n",
    "[Complete Software List](http:\nbviewer.ipython.org/github/damontallen/Construction-Lectures-Fall-2014/blob/master/Resources.ipynb)"
   ]
  }
 ],
 "metadata": {
  "celltoolbar": "Slideshow",
  "kernelspec": {
   "display_name": "Python 3",
   "language": "python",
   "name": "python3"
  },
  "language_info": {
   "codemirror_mode": {
    "name": "ipython",
    "version": 3
   },
   "file_extension": ".py",
   "mimetype": "text/x-python",
   "name": "python",
   "nbconvert_exporter": "python",
   "pygments_lexer": "ipython3",
   "version": "3.4.3+"
  }
 },
 "nbformat": 4,
 "nbformat_minor": 0
}
