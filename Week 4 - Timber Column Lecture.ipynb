{
 "metadata": {
  "name": ""
 },
 "nbformat": 3,
 "nbformat_minor": 0,
 "worksheets": [
  {
   "cells": [
    {
     "cell_type": "heading",
     "level": 1,
     "metadata": {
      "slideshow": {
       "slide_type": "slide"
      }
     },
     "source": [
      "Timber Columns"
     ]
    },
    {
     "cell_type": "markdown",
     "metadata": {
      "slideshow": {
       "slide_type": "-"
      }
     },
     "source": [
      "<iframe width=\"420\" height=\"315\" src=\"//www.youtube.com/embed/m28hzlE8b_U\" frameborder=\"0\" allowfullscreen></iframe>"
     ]
    },
    {
     "cell_type": "heading",
     "level": 2,
     "metadata": {
      "slideshow": {
       "slide_type": "slide"
      }
     },
     "source": [
      "Timber Column Analysis"
     ]
    },
    {
     "cell_type": "markdown",
     "metadata": {
      "slideshow": {
       "slide_type": "-"
      }
     },
     "source": [
      "<audio controls data-autoplay preload>\n",
      " <source src=\"https://github.com/damontallen/Construction-Lectures-Fall-2014/raw/master/Lecture%20Audio/Week%204/Timber%20Column/Timber%20Column%20Analysis%20Summary.mp3\"\n",
      "         type='audio/mp3'>\n",
      " <p>Your user agent does not support the HTML5 Audio element or the files are missing.</p>\n",
      "</audio>"
     ]
    },
    {
     "cell_type": "markdown",
     "metadata": {
      "slideshow": {
       "slide_type": "-"
      }
     },
     "source": [
      "The process of analyzing a timber column goes like this.\n",
      "\n",
      "1. Determine the section properties, in Table 1B of the Supplement, based on the cross sectional size of the column.\n",
      "2. Find out the material properties of the column based on the species, grade, and size of the column by looking in either Table 4A, 4B or 4D.\n",
      "3. You record the adjustment factors for $F_c$ except for $C_P$.\n",
      "4. Use section 3.7.1.2 and Figure 3F to determine the effective lengths $(L_e)$ in both directions.\n",
      "4. Use section 3.7.1.3 of the Timber NDS and calculate the slenderness ratio $(SR = L_e/d)$, for both directions, to determine which on controls.\n",
      "5. Verify that the value of the largest (i.e. controlling) slenderness ratio $(SR)$ is <u>less than 50</u> (section 3.7.1.4). \n",
      "5. Calculate $F_c^* $ and $F_{cE}$, in section 3.7.1.5 of the Timber NDS.\n",
      "6. Look up the appropriate value for $c$, also in section 3.7.1.5 of the Timber NDS.\n",
      "7. Calculate $\\frac{1+(F_{cE}/F_c^* )}{2 c}$.\n",
      "8. Calculate $\\frac{F_{cE}/F_c^* }{ c}$.\n",
      "9. Calculate $C_P$, in section 3.7.1.5 of the Timber NDS.\n",
      "10. Multiply $C_P$ by $F_c^* $ to find $F_c'$, the allowable compressive stress parallel to grain.\n",
      "11. Calculate the actual compressive stress parallel to grain of the column.\n",
      "5. Make comparisons between the actual and allowable values.\n",
      "6. Write a summary of your results and conclude if the column is adequate.\n",
      "\n",
      "\n",
      "In hand solution we will stop and pick a different section if the slenderness ratio $(SR)$ is over 50 rather than doing additional work.  You should be aware that in this course I will want you to solve all the values regardless if you find a failure mode early on.\n",
      "\n",
      "Just so you know, in section 3.7.1.4 you will see that the slenderness ratio is allowed to be up to 75 during construction.  This means prior to putting any axial load on it.  By the time the column is loaded the slenderness ratio must be <u>no more than 50</u>.\n",
      "\n",
      "Let's work through an example to see the whole process."
     ]
    },
    {
     "cell_type": "heading",
     "level": 2,
     "metadata": {
      "slideshow": {
       "slide_type": "slide"
      }
     },
     "source": [
      "Problem statement"
     ]
    },
    {
     "cell_type": "markdown",
     "metadata": {
      "slideshow": {
       "slide_type": "-"
      }
     },
     "source": [
      "<audio controls data-autoplay preload>\n",
      " <source src=\"https://github.com/damontallen/Construction-Lectures-Fall-2014/raw/master/Lecture%20Audio/Week%204/Timber%20Column/Problem%20Statement.mp3\"\n",
      "         type='audio/mp3'>\n",
      " <p>Your user agent does not support the HTML5 Audio element or the files are missing.</p>\n",
      "</audio>"
     ]
    },
    {
     "cell_type": "markdown",
     "metadata": {
      "slideshow": {
       "slide_type": "-"
      }
     },
     "source": [
      "A No. 2, Southern Pine, 4x4 is being used as a column.  The column supports  \n",
      "formwork and is subject to normal  temperature and moisture conditions.  Bracing  \n",
      "conditions are the same for buckling about the $x$ and $y$ axes.\n",
      "\n",
      "<a href=\"http://imgur.com/Y3NzESM\"><img src=\"http://i.imgur.com/Y3NzESM.png?1\" title=\"Timber Column\" style=\"max-width:300px; max-height:300px;  float:left; border:1px solid blue; margin-right:3px;\"/></a>\n",
      "\n",
      "The axial load on the column is 3.2 kips and the length of the column is 12 ft."
     ]
    },
    {
     "cell_type": "heading",
     "level": 3,
     "metadata": {
      "slideshow": {
       "slide_type": "skip"
      }
     },
     "source": [
      "Load Timber_Beam class"
     ]
    },
    {
     "cell_type": "code",
     "collapsed": false,
     "input": [
      "%run Beams/Timber_beam_v_02.py\n",
      "column = Timber_Beam()"
     ],
     "language": "python",
     "metadata": {
      "slideshow": {
       "slide_type": "skip"
      }
     },
     "outputs": [
      {
       "output_type": "stream",
       "stream": "stdout",
       "text": [
        "In order to display plots inline in the IPython notebook you must include the following magic command:\n",
        "%matplotlib inline\n",
        "If you need to display plot you will need to used the following commmand"
       ]
      },
      {
       "output_type": "stream",
       "stream": "stdout",
       "text": [
        "\n",
        "%matplotlib inline\n",
        "\n",
        "Note: The atribute 'pick_list' is now available_grades (added Jan, 6, 2014)\n"
       ]
      }
     ],
     "prompt_number": 1
    },
    {
     "cell_type": "heading",
     "level": 3,
     "metadata": {
      "slideshow": {
       "slide_type": "skip"
      }
     },
     "source": [
      "Set the Basic Attributes of the Column:"
     ]
    },
    {
     "cell_type": "code",
     "collapsed": false,
     "input": [
      "column.C_D = 1.25 #duration factor\n",
      "column.b = 3.5 #in \n",
      "column.d = 3.5 #in\n",
      "column.span = 12 #ft\n",
      "column.C_P_l_e.le_x = column.span*12 #in\n",
      "column.C_P_l_e.le_y = column.span*12 #in\n",
      "column.C_P_l_e.c = 0.8 #for sawn lumber\n",
      "column.P = 3200 #lbs (axial load)"
     ],
     "language": "python",
     "metadata": {
      "slideshow": {
       "slide_type": "skip"
      }
     },
     "outputs": [],
     "prompt_number": 2
    },
    {
     "cell_type": "heading",
     "level": 2,
     "metadata": {
      "slideshow": {
       "slide_type": "slide"
      }
     },
     "source": [
      "Column Properties"
     ]
    },
    {
     "cell_type": "markdown",
     "metadata": {
      "slideshow": {
       "slide_type": "-"
      }
     },
     "source": [
      "<audio controls data-autoplay preload>\n",
      " <source src=\"https://github.com/damontallen/Construction-Lectures-Fall-2014/raw/master/Lecture%20Audio/Week%204/Timber%20Column/Column%20Properties.mp3\"\n",
      "         type='audio/mp3'>\n",
      " <p>Your user agent does not support the HTML5 Audio element or the files are missing.</p>\n",
      "</audio>"
     ]
    },
    {
     "cell_type": "markdown",
     "metadata": {
      "slideshow": {
       "slide_type": "-"
      }
     },
     "source": [
      "Values from problem statement:\n",
      "\n",
      "* $\\text{Length }=L = 12 ft = 144\"$\n",
      "* $\\text{Grade }=\\text{ No.2}$\n",
      "* $\\text{Size }=\\text{ 4x4}$\n",
      "* $\\text{Axial Load }=P= 3200 lbs$\n",
      "\n",
      "Values from Table 1B:\n",
      "\n",
      "* $\\text{Thickness }= b = 3 \\frac{1}{2}\"$\n",
      "* $\\text{Width }= d = 3 \\frac{1}{2}\"$\n",
      "* $\\text{Cross Sectional Area }=A = 12.25 in^2$"
     ]
    },
    {
     "cell_type": "heading",
     "level": 3,
     "metadata": {
      "slideshow": {
       "slide_type": "skip"
      }
     },
     "source": [
      "Column Geometric Properties:"
     ]
    },
    {
     "cell_type": "code",
     "collapsed": false,
     "input": [
      "column.geometry_latex"
     ],
     "language": "python",
     "metadata": {
      "slideshow": {
       "slide_type": "skip"
      }
     },
     "outputs": [
      {
       "latex": [
        "$$b = 3.50\" \\text{, }d = 3.50\" \\text{, }A = 12.25 in^2 \\text{, }S = 7.15 in^3 \\text{, }I = 12.51 in^4 \\text{, }L = 12.00'  = 144.00\"$$"
       ],
       "metadata": {},
       "output_type": "pyout",
       "prompt_number": 3,
       "text": [
        "<IPython.core.display.Latex at 0x7f12103e2490>"
       ]
      }
     ],
     "prompt_number": 3
    },
    {
     "cell_type": "heading",
     "level": 3,
     "metadata": {
      "slideshow": {
       "slide_type": "skip"
      }
     },
     "source": [
      "Pick the Species and Grade:"
     ]
    },
    {
     "cell_type": "code",
     "collapsed": false,
     "input": [
      "column.list_wood()"
     ],
     "language": "python",
     "metadata": {
      "slideshow": {
       "slide_type": "skip"
      }
     },
     "outputs": [
      {
       "output_type": "stream",
       "stream": "stdout",
       "text": [
        "'ALASKA CEDAR'               'ALASKA HEMLOCK'             'ALASKA SPRUCE'             \n",
        "'ALASKA YELLOW CEDAR'        'ASPEN'                      'BALDCYPRESS'               \n",
        "'BEECH-BIRCH-HICKORY'        'COTTONWOOD'                 'DOUGLAS FIR-LARCH'         \n",
        "'DOUGLAS FIR-LARCH (NORTH)'  'DOUGLAS FIR-SOUTH'          'EASTERN HEMLOCK-BALSAM FIR'\n",
        "'EASTERN HEMLOCK-TAMARACK'   'EASTERN SOFTWOODS'          'EASTERN WHITE PINE'        \n",
        "'HEM-FIR'                    'HEM-FIR (NORTH)'            'MIXED MAPLE'               \n",
        "'MIXED OAK'                  'NORTHERN RED OAK'           'NORTHERN SPECIES'          \n",
        "'NORTHERN WHITE CEDAR'       'RED MAPLE'                  'RED OAK'                   \n",
        "'REDWOOD'                    'SOUTHERN PINE'              'SPRUCE-PINE-FIR'           \n",
        "'SPRUCE-PINE-FIR (SOUTH)'    'WESTERN CEDARS'             'WESTERN WOODS'             \n",
        "'WHITE OAK'                  'YELLOW POPLAR'              "
       ]
      }
     ],
     "prompt_number": 4
    },
    {
     "cell_type": "code",
     "collapsed": false,
     "input": [
      "column.species = 'SOUTHERN PINE'"
     ],
     "language": "python",
     "metadata": {
      "slideshow": {
       "slide_type": "skip"
      }
     },
     "outputs": [],
     "prompt_number": 5
    },
    {
     "cell_type": "code",
     "collapsed": false,
     "input": [
      "column.available_grades"
     ],
     "language": "python",
     "metadata": {
      "slideshow": {
       "slide_type": "skip"
      }
     },
     "outputs": [
      {
       "output_type": "stream",
       "stream": "stdout",
       "text": [
        "For 2\u201d-4\u201d wide material\n",
        "['Dense Select Structural', 'Select Structural', 'Non-Dense Select Structural', 'No. 1 Dense', 'No. 1', 'No. 1 Non-Dense', 'No. 2 Dense', 'No. 2', 'No. 2 Non-Dense', 'No. 3 and Stud']\n"
       ]
      }
     ],
     "prompt_number": 6
    },
    {
     "cell_type": "code",
     "collapsed": false,
     "input": [
      "column.grade='No. 2'"
     ],
     "language": "python",
     "metadata": {
      "slideshow": {
       "slide_type": "skip"
      }
     },
     "outputs": [],
     "prompt_number": 7
    },
    {
     "cell_type": "heading",
     "level": 2,
     "metadata": {
      "slideshow": {
       "slide_type": "slide"
      }
     },
     "source": [
      "Unmodified Stresses from Tables 4A, 4B, or 4D"
     ]
    },
    {
     "cell_type": "markdown",
     "metadata": {
      "slideshow": {
       "slide_type": "-"
      }
     },
     "source": [
      "<audio controls data-autoplay preload>\n",
      " <source src=\"https://github.com/damontallen/Construction-Lectures-Fall-2014/raw/master/Lecture%20Audio/Week%204/Timber%20Column/Unmodified%20Stresses.mp3\"\n",
      "         type='audio/mp3'>\n",
      " <p>Your user agent does not support the HTML5 Audio element or the files are missing.</p>\n",
      "</audio>"
     ]
    },
    {
     "cell_type": "markdown",
     "metadata": {
      "slideshow": {
       "slide_type": "-"
      }
     },
     "source": [
      "Given that the species of the column is Southern Pine, the grade is No.2 and its size is 4x4, what Table should we look up the Unmodified Allowable Stresses in?\n",
      "\n",
      "* Table 4A (page 31) Reference Design Values for Visually Graded Dimension Lumber (2\" - 4\" thick)\n",
      "* Table 4B (page 38) Reference Design Values for Visually Graded Southern Pine Dimension Lumber (2\" - 4\" thick)\n",
      "* Table 4D (page 45) Reference Design Values for Visually Graded Timbers (5\" x 5\" and larger)\n",
      "\n",
      "*(Click on the light blue down arrow to find out what table we need to use.)*"
     ]
    },
    {
     "cell_type": "markdown",
     "metadata": {
      "slideshow": {
       "slide_type": "fragment"
      }
     },
     "source": [
      "Well the beam is $4\"$ thick, so we don't use Table 4D; it is for members that are $5\" \\times 5\"$ or larger.  \n",
      "\n",
      "The species is Southern Pine, so than means we use Table 4B of the [Supplement](http://www.awc.org/pdf/2005-NDS-Supplement.pdf). "
     ]
    },
    {
     "cell_type": "heading",
     "level": 2,
     "metadata": {
      "slideshow": {
       "slide_type": "slide"
      }
     },
     "source": [
      "Table 4B Values (Southern Pine)"
     ]
    },
    {
     "cell_type": "markdown",
     "metadata": {
      "slideshow": {
       "slide_type": "-"
      }
     },
     "source": [
      "<audio controls data-autoplay preload>\n",
      " <source src=\"https://github.com/damontallen/Construction-Lectures-Fall-2014/raw/master/Lecture%20Audio/Week%204/Timber%20Column/Table%204B%20Values.mp3\"\n",
      "         type='audio/mp3'>\n",
      " <p>Your user agent does not support the HTML5 Audio element or the files are missing.</p>\n",
      "</audio>"
     ]
    },
    {
     "cell_type": "markdown",
     "metadata": {
      "slideshow": {
       "slide_type": "-"
      }
     },
     "source": [
      "On page 38 of the Supplement, under the 2\" - 4\" Size classifiaction, we find that,"
     ]
    },
    {
     "cell_type": "code",
     "collapsed": false,
     "input": [
      "column.unmodified_stresses_latex"
     ],
     "language": "python",
     "metadata": {
      "slideshow": {
       "slide_type": "-"
      }
     },
     "outputs": [
      {
       "latex": [
        "$$\\text{The unmodified stresses for a No. 2 grade, southern pine, member are:}$$ \n",
        "$${}$$\n",
        " $$F_b = 1500 psi\\text{ - for bending}$$\n",
        "$$F_t = 825 psi\\text{ - for axial tension}$$\n",
        "$$F_v = 175 psi\\text{ - for shear}$$\n",
        "$$F_{c \\perp} = 565 psi\\text{ - for crushing (compresion perpendicular to grain)}$$\n",
        "$$F_c = 1650 psi\\text{ - for axial compression (compresion parallel to grain)}$$\n",
        "$$E = 1.6e+06 psi\\text{ - the unadjusted Young's modulus}$$\n",
        "$$E_{min} = 580000 psi\\text{ - the unadjusted Young's modulus used in column loading analysis}$$"
       ],
       "metadata": {},
       "output_type": "pyout",
       "prompt_number": 8,
       "text": [
        "<IPython.core.display.Latex at 0x7f11edbde8d0>"
       ]
      }
     ],
     "prompt_number": 8
    },
    {
     "cell_type": "heading",
     "level": 2,
     "metadata": {
      "slideshow": {
       "slide_type": "slide"
      }
     },
     "source": [
      "Allowable Stress Adjustment Factors"
     ]
    },
    {
     "cell_type": "markdown",
     "metadata": {
      "slideshow": {
       "slide_type": "-"
      }
     },
     "source": [
      "<audio controls data-autoplay preload>\n",
      " <source src=\"https://github.com/damontallen/Construction-Lectures-Fall-2014/raw/master/Lecture%20Audio/Week%204/Timber%20Column/Allowable%20Stress%20Adjustment%20Factors.mp3\"\n",
      "         type='audio/mp3'>\n",
      " <p>Your user agent does not support the HTML5 Audio element or the files are missing.</p>\n",
      "</audio>"
     ]
    },
    {
     "cell_type": "markdown",
     "metadata": {
      "slideshow": {
       "slide_type": "-"
      }
     },
     "source": [
      "On page 37 of the Supplement there is information about $C_F$, $C_r$, $C_{fu}$, and $C_M$. \n",
      "\n",
      "* $C_F = 1$ because \"Appropriate size adjustment factors have already been incorporated in the tabulated design values for most thicknesses of Southern Pine and Mixed Southern Pine dimension lumber.\" \n",
      "    * (With the exception of $C_F= 1.1$ for bending members of 4\" thick and 8\" or larger, but we are not looking at bending and the column is a 4x4.)\n",
      "* $C_r$ is for bending only. \n",
      "* $C_{fu}$ is for bending only. \n",
      "* $C_M = 1$ because the problem statement said \"normal temperature and moisture conditions\".\n",
      "\n",
      "If there had been wet service conditions then we would need to find the values for $C_M$ for $F_c$ and $E_{min}$.  We would have to further check that $F_c$ was greater than 750 psi to use the $C_M$ value for $F_c$."
     ]
    },
    {
     "cell_type": "heading",
     "level": 3,
     "metadata": {
      "slideshow": {
       "slide_type": "skip"
      }
     },
     "source": [
      "Axial Capacity Factor $C_P$:"
     ]
    },
    {
     "cell_type": "heading",
     "level": 2,
     "metadata": {
      "slideshow": {
       "slide_type": "slide"
      }
     },
     "source": [
      "Effective Length"
     ]
    },
    {
     "cell_type": "markdown",
     "metadata": {
      "slideshow": {
       "slide_type": "-"
      }
     },
     "source": [
      "<audio controls data-autoplay preload>\n",
      " <source src=\"https://github.com/damontallen/Construction-Lectures-Fall-2014/raw/master/Lecture%20Audio/Week%204/Timber%20Column/Effective%20Length.mp3\"\n",
      "         type='audio/mp3'>\n",
      " <p>Your user agent does not support the HTML5 Audio element or the files are missing.</p>\n",
      "</audio>"
     ]
    },
    {
     "cell_type": "markdown",
     "metadata": {
      "slideshow": {
       "slide_type": "-"
      }
     },
     "source": [
      "Section 3.7.1.2 in the Timber NDS covers effective length.  In it you will see that \n",
      "\n",
      "$L_e = K_e \\times L$\n",
      "\n",
      "<a href=\"http://imgur.com/nre4UXZ\"><img src=\"http://i.imgur.com/nre4UXZ.png\" title=\"Braced Column\" alt=\"Braced Column\" style=\"max-width:400px; max-height:400px; border:1px solid blue; float:left; margin-right:3px;\"/></a>\n",
      "\n",
      "*(If you have [Thumbnail Zoom Plus](https://addons.mozilla.org/en-US/firefox/addon/thumbnail-zoom-plus/?src=search) or [Imagus](https://chrome.google.com/webstore/detail/imagus/immpkjjlgappgfkkfieppnmlhakdmaab?hl=en-US) installed you can hover over the column image to get a better view of it.)*\n",
      "\n",
      "\n",
      "This is the same $K$ as the one that was discussed in the optional lecture on buckling and [here](https://upload.wikimedia.org/wikipedia/commons/a/a2/ColumnEffectiveLength.png).  In timber all connections are considered pinned.  This is due to the flexibility of both the material and connections.  So $K_e$ is always equal to $1$.\n",
      "\n",
      "I am not saying that $L_e=L$ all the time because we need to account for bracing.\n",
      "\n",
      "In the column shown to the left (similar to Figure 3F in the 2005 Timber NDS) you will see that the effective length values of the column are measured from midpoint of brace to midpoint of brace.  In this case if there were no top and bottom braces it would be measured from end to end for $L_x$ and from end to midpoint of the brace for $L_y$.  \n",
      "\n",
      "Only if no braces are present then $L_e = L$ for both $L_x$ and $L_y$.\n",
      "\n",
      "Also you should note that the variable for effective length in section 3.7.1.2 is $l_e$ not $L_e$. I'm using $L$ to avoid confusion in hand written assingments where $l$ may look too much like the number $1$.  That being said if I inadvertantly show lower a lower case $l$ instead of an $L$ you will know why and what it means."
     ]
    },
    {
     "cell_type": "heading",
     "level": 2,
     "metadata": {
      "slideshow": {
       "slide_type": "slide"
      }
     },
     "source": [
      "Slenderness Ratio"
     ]
    },
    {
     "cell_type": "markdown",
     "metadata": {
      "slideshow": {
       "slide_type": "-"
      }
     },
     "source": [
      "<audio controls data-autoplay preload>\n",
      " <source src=\"https://github.com/damontallen/Construction-Lectures-Fall-2014/raw/master/Lecture%20Audio/Week%204/Timber%20Column/Slenderness%20Ratio.mp3\"\n",
      "         type='audio/mp3'>\n",
      " <p>Your user agent does not support the HTML5 Audio element or the files are missing.</p>\n",
      "</audio>"
     ]
    },
    {
     "cell_type": "markdown",
     "metadata": {
      "slideshow": {
       "slide_type": "-"
      }
     },
     "source": [
      "The slenderness ratio is a measure the buckling resistance of a column in one direction.  You calculate it by dividing the effective length (distance between supports, if the column was bending in one direction) by the thickness (or width) of the column in that same direction.  \n",
      "\n",
      "In other words, \n",
      "\n",
      "* $SR_x = \\frac{L_{e, x}}{d}$\n",
      "* $SR_y = \\frac{L_{e, y}}{b}$\n",
      "\n"
     ]
    },
    {
     "cell_type": "markdown",
     "metadata": {
      "slideshow": {
       "slide_type": "-"
      }
     },
     "source": [
      "In Section 3.7.1.2 of the Timber NDS - Column Stability Factor $C_P$\n",
      "\n",
      "$$\\frac{L_{e,x}}{d} = 41.143$$ \n",
      "\n",
      "$$\\frac{L_{e,y}}{b} = 41.143\\text{ }\\Leftarrow \\text{ Controls}$$ \n",
      "\n",
      "$$SR = 41.143$$ \n",
      "\n",
      "(Note that if these were different values, then largest would control, and would be the slenderness ratio.)"
     ]
    },
    {
     "cell_type": "heading",
     "level": 2,
     "metadata": {
      "slideshow": {
       "slide_type": "slide"
      }
     },
     "source": [
      "Finding $F_c^* $"
     ]
    },
    {
     "cell_type": "markdown",
     "metadata": {
      "slideshow": {
       "slide_type": "-"
      }
     },
     "source": [
      "<audio controls data-autoplay preload>\n",
      " <source src=\"https://github.com/damontallen/Construction-Lectures-Fall-2014/raw/master/Lecture%20Audio/Week%204/Timber%20Column/Finding%20F_c_star.mp3\"\n",
      "         type='audio/mp3'>\n",
      " <p>Your user agent does not support the HTML5 Audio element or the files are missing.</p>\n",
      "</audio>"
     ]
    },
    {
     "cell_type": "markdown",
     "metadata": {
      "slideshow": {
       "slide_type": "-"
      }
     },
     "source": [
      "$F_c^* $ is found just like $F_c'$ except you don't include the Column Stability Factor $(C_P)$ in the cacluation.  It is used to take into account that the column could crush rather than buckle.  The adjustment values we need to find $F_c'$ are listed in Table 4.3.1 of the Timber NDS.  Because the problem statement did not indicate otherwise $C_D = 1.25$ and because there are \"normal temperature and moisture conditions\", $C_t=1$ and $C_M = 1$.  Since the column is Southern Pine, $C_F= 1$.  Finally, the column is not incised so $C_i=1$.\n",
      "\n",
      "$$F_c^* = F_c \\times C_D \\times C_M \\times C_t \\times C_F \\times C_i $$ \n",
      "\n",
      "$$F_c^* = 1650 psi \\times 1.25 \\times 1 \\times 1 \\times 1 \\times 1$$ \n",
      "\n",
      "$$F_c^* = 2062.50 psi$$ "
     ]
    },
    {
     "cell_type": "heading",
     "level": 2,
     "metadata": {
      "slideshow": {
       "slide_type": "slide"
      }
     },
     "source": [
      "Finding $E_{min}'$"
     ]
    },
    {
     "cell_type": "markdown",
     "metadata": {
      "slideshow": {
       "slide_type": "-"
      }
     },
     "source": [
      "<audio controls data-autoplay preload>\n",
      " <source src=\"https://github.com/damontallen/Construction-Lectures-Fall-2014/raw/master/Lecture%20Audio/Week%204/Timber%20Column/Finding%20E_min_prime.mp3\"\n",
      "         type='audio/mp3'>\n",
      " <p>Your user agent does not support the HTML5 Audio element or the files are missing.</p>\n",
      "</audio>"
     ]
    },
    {
     "cell_type": "markdown",
     "metadata": {
      "slideshow": {
       "slide_type": "-"
      }
     },
     "source": [
      "We also  need to know the allowable value for $E_{min}'$ becuase it is used in the elastic buckling stress equation, $(F_{cE})$.\n",
      "\n",
      "From Table 4.3.1 we see that we need to know $C_M$, $C_t$, $C_i$, and $C_T$.\n",
      "\n",
      "* $C_M = 1$ as we just stated.\n",
      "* $C_t = 1$ as we just stated.\n",
      "* $C_i= 1$ as we just stated.\n",
      "* $C_T =1$ because this only applies to truss members that are 2\" x 4\" or smaller, (section 4.4.2 of the Timber NDS)."
     ]
    },
    {
     "cell_type": "code",
     "collapsed": false,
     "input": [
      "column.E_min_latex"
     ],
     "language": "python",
     "metadata": {
      "slideshow": {
       "slide_type": "-"
      }
     },
     "outputs": [
      {
       "latex": [
        "$$E_{min}' = E_{min} \\times C_M \\times C_t \\times C_i \\times C_T$$ \n",
        "$${}$$\n",
        " $$E_{min}' = 580000 psi \\times 1 \\times 1 \\times 1 \\times 1$$ \n",
        "$${}$$\n",
        " $$E_{min}' = 580000 psi$$"
       ],
       "metadata": {},
       "output_type": "pyout",
       "prompt_number": 9,
       "text": [
        "<IPython.core.display.Latex at 0x7f11edbdea10>"
       ]
      }
     ],
     "prompt_number": 9
    },
    {
     "cell_type": "heading",
     "level": 2,
     "metadata": {
      "slideshow": {
       "slide_type": "slide"
      }
     },
     "source": [
      "Finding $F_{cE}$"
     ]
    },
    {
     "cell_type": "markdown",
     "metadata": {
      "slideshow": {
       "slide_type": "-"
      }
     },
     "source": [
      "<audio controls data-autoplay preload>\n",
      " <source src=\"https://github.com/damontallen/Construction-Lectures-Fall-2014/raw/master/Lecture%20Audio/Week%204/Timber%20Column/Finding%20F_cE.mp3\"\n",
      "         type='audio/mp3'>\n",
      " <p>Your user agent does not support the HTML5 Audio element or the files are missing.</p>\n",
      "</audio>"
     ]
    },
    {
     "cell_type": "markdown",
     "metadata": {
      "slideshow": {
       "slide_type": "-"
      }
     },
     "source": [
      "$F_{cE}$ is the Elastic buckling capacity of the column (with a factor of safety of 2.75 applied).  It is defined in section 3.7.1.5 of the Timber NDS.\n",
      "\n",
      "$$F_{cE} = \\frac{0.822 \\times E_{min}'}{(SR)^2} $$\n",
      "\n",
      "$$F_{cE} = \\frac{0.822 \\times 580,000 psi}{(41.143)^2}$$\n",
      "\n",
      "$$F_{cE} = 281.65 psi$$ "
     ]
    },
    {
     "cell_type": "heading",
     "level": 2,
     "metadata": {
      "slideshow": {
       "slide_type": "slide"
      }
     },
     "source": [
      "What is $c$ and Finding $C_P$"
     ]
    },
    {
     "cell_type": "markdown",
     "metadata": {
      "slideshow": {
       "slide_type": "-"
      }
     },
     "source": [
      "<audio controls data-autoplay preload>\n",
      " <source src=\"https://github.com/damontallen/Construction-Lectures-Fall-2014/raw/master/Lecture%20Audio/Week%204/Timber%20Column/What%20is%20c%20and%20Finding%20C_P.mp3\"\n",
      "         type='audio/mp3'>\n",
      " <p>Your user agent does not support the HTML5 Audio element or the files are missing.</p>\n",
      "</audio>"
     ]
    },
    {
     "cell_type": "markdown",
     "metadata": {
      "slideshow": {
       "slide_type": "-"
      }
     },
     "source": [
      "The value for $c$ is listed in section 3.7.1.5 of the Timber NDS and it depends on the shape and type of the material the column is made out of.  For a sawn lumber column, like a 4x4, $c=0.8$.  I'll leave it to you to read about the other possible values.\n",
      "\n",
      "$$C_P = \\frac{1+F_{cE}/F_c^*}{2 \\times c} -\\sqrt{\\left(\\frac{1+F_{cE}/F_c^*}{2 \\times c}\\right)^2-\\frac{F_{cE}/F_c^*}{c}}$$ \n",
      "\n",
      "Let's find the components of $C_P$ seperately.\n",
      "\n",
      "$$\\frac{F_{cE}}{F_c^*} = 0.137$$ \n",
      "\n",
      "$$\\frac{1+F_{cE}/F_c^*}{2 \\times c}=\\frac{1+0.137}{2 \\times 0.8}=0.710$$ \n",
      "\n",
      "$$\\frac{F_{cE}/F_c^*}{c}=\\frac{0.137}{0.8}=0.171$$ \n",
      "\n",
      "so \n",
      "\n",
      "$$C_P = 0.710 -\\sqrt{0.710^2-0.171} =0.1325$$ \n"
     ]
    },
    {
     "cell_type": "code",
     "collapsed": false,
     "input": [
      "print(column.C_P_reveal['text'])"
     ],
     "language": "python",
     "metadata": {
      "slideshow": {
       "slide_type": "skip"
      }
     },
     "outputs": [
      {
       "output_type": "stream",
       "stream": "stdout",
       "text": [
        "$$\\frac{l_{e,x}}{d} = 41.143$$ \n",
        "${}$\n",
        " $$\\frac{l_{e,y}}{b} = 41.143\\text{ }\\Leftarrow \\text{ Controls}$$ \n",
        "${}$\n",
        " $$SR = 41.143$$ \n",
        "${}$\n",
        " $$F_c^* = F_c \\times C_D \\times C_M \\times C_t \\times C_F \\times C_i $$ \n",
        "$${}$$\n",
        " $$F_c^* = 1650 psi \\times 1.25 \\times 1 \\times 1 \\times 1 \\times 1$$ \n",
        "$${}$$\n",
        " $$F_c^* = 2062.50 psi$$ \n",
        "${}$\n",
        " $$F_{cE} = \\frac{0.822 \\times E_{min}'}{(SR)^2} = 281.65 psi$$ \n",
        "${}$\n",
        " $$\\frac{F_{cE}}{F_c^*} = 0.137$$ \n",
        "${}$\n",
        " $$\\frac{1+F_{cE}/F_c^*}{2 \\times c}=0.710$$ \n",
        "${}$\n",
        " $$c = 0.8$$ \n",
        "${}$\n",
        " $$\\frac{F_{cE}/F_c^*}{c}=0.171$$ \n",
        "${}$\n",
        " $$C_P = \\frac{1+F_{cE}/F_c^*}{2 \\times c} -\\sqrt{\\left(\\frac{1+F_{cE}/F_c^*}{2 \\times c}\\right)^2-\\frac{F_{cE}/F_c^*}{c}} =0.1325$$ \n",
        "${}$\n",
        " \n"
       ]
      }
     ],
     "prompt_number": 11
    },
    {
     "cell_type": "code",
     "collapsed": false,
     "input": [
      "column.C_P_reveal['work']"
     ],
     "language": "python",
     "metadata": {
      "slideshow": {
       "slide_type": "skip"
      }
     },
     "outputs": [
      {
       "latex": [
        "$$\\frac{l_{e,x}}{d} = 41.143$$ \n",
        "${}$\n",
        " $$\\frac{l_{e,y}}{b} = 41.143\\text{ }\\Leftarrow \\text{ Controls}$$ \n",
        "${}$\n",
        " $$SR = 41.143$$ \n",
        "${}$\n",
        " $$F_c^* = F_c \\times C_D \\times C_M \\times C_t \\times C_F \\times C_i $$ \n",
        "$${}$$\n",
        " $$F_c^* = 1650 psi \\times 1.25 \\times 1 \\times 1 \\times 1 \\times 1$$ \n",
        "$${}$$\n",
        " $$F_c^* = 2062.50 psi$$ \n",
        "${}$\n",
        " $$F_{cE} = \\frac{0.822 \\times E_{min}'}{(SR)^2} = 281.65 psi$$ \n",
        "${}$\n",
        " $$\\frac{F_{cE}}{F_c^*} = 0.137$$ \n",
        "${}$\n",
        " $$\\frac{1+F_{cE}/F_c^*}{2 \\times c}=0.710$$ \n",
        "${}$\n",
        " $$c = 0.8$$ \n",
        "${}$\n",
        " $$\\frac{F_{cE}/F_c^*}{c}=0.171$$ \n",
        "${}$\n",
        " $$C_P = \\frac{1+F_{cE}/F_c^*}{2 \\times c} -\\sqrt{\\left(\\frac{1+F_{cE}/F_c^*}{2 \\times c}\\right)^2-\\frac{F_{cE}/F_c^*}{c}} =0.1325$$ \n",
        "${}$\n",
        " "
       ],
       "metadata": {},
       "output_type": "pyout",
       "prompt_number": 10,
       "text": [
        "<IPython.core.display.Latex at 0x7f80680a1190>"
       ]
      }
     ],
     "prompt_number": 10
    },
    {
     "cell_type": "heading",
     "level": 2,
     "metadata": {
      "slideshow": {
       "slide_type": "slide"
      }
     },
     "source": [
      "Allowable Compresive Stress Parallel to Grain $(F_c)$"
     ]
    },
    {
     "cell_type": "markdown",
     "metadata": {
      "slideshow": {
       "slide_type": "-"
      }
     },
     "source": [
      "<audio controls data-autoplay preload>\n",
      " <source src=\"https://github.com/damontallen/Construction-Lectures-Fall-2014/raw/master/Lecture%20Audio/Week%204/Timber%20Column/Allowable%20Compressive%20Stress%20Parallel%20to%20Grain.mp3\"\n",
      "         type='audio/mp3'>\n",
      " <p>Your user agent does not support the HTML5 Audio element or the files are missing.</p>\n",
      "</audio>"
     ]
    },
    {
     "cell_type": "markdown",
     "metadata": {
      "slideshow": {
       "slide_type": "-"
      }
     },
     "source": [
      "Because $F_c^* $ is the same as $F_c'$ without $C_P$ being applied we can just find $F_c'$ like this,\n",
      "\n",
      "$F_c' = F_c^* \\times C_P$\n",
      "\n",
      "$F_c' = 2062.50 psi \\times 0.1325$\n",
      "\n",
      "$F_c' = 273.30 psi$\n",
      "\n",
      "or we can find it explicitly."
     ]
    },
    {
     "cell_type": "code",
     "collapsed": false,
     "input": [
      "column.F_c_latex"
     ],
     "language": "python",
     "metadata": {
      "slideshow": {
       "slide_type": "-"
      }
     },
     "outputs": [
      {
       "latex": [
        "$$F_c' = F_c \\times C_D \\times C_M \\times C_t \\times C_F \\times C_i \\times C_P$$ \n",
        "$${}$$\n",
        " $$F_c' = 1650 psi \\times 1.25 \\times 1 \\times 1 \\times 1 \\times 1 \\times 0.13$$ \n",
        "$${}$$\n",
        " $$F_c' = 273.30 psi$$"
       ],
       "metadata": {},
       "output_type": "pyout",
       "prompt_number": 11,
       "text": [
        "<IPython.core.display.Latex at 0x7f80680a1290>"
       ]
      }
     ],
     "prompt_number": 11
    },
    {
     "cell_type": "heading",
     "level": 2,
     "metadata": {
      "slideshow": {
       "slide_type": "slide"
      }
     },
     "source": [
      "Actual Stress"
     ]
    },
    {
     "cell_type": "markdown",
     "metadata": {
      "slideshow": {
       "slide_type": "-"
      }
     },
     "source": [
      "<audio controls data-autoplay preload>\n",
      " <source src=\"https://github.com/damontallen/Construction-Lectures-Fall-2014/raw/master/Lecture%20Audio/Week%204/Timber%20Column/Actual%20Stress.mp3\"\n",
      "         type='audio/mp3'>\n",
      " <p>Your user agent does not support the HTML5 Audio element or the files are missing.</p>\n",
      "</audio>"
     ]
    },
    {
     "cell_type": "markdown",
     "metadata": {
      "slideshow": {
       "slide_type": "-"
      }
     },
     "source": [
      "To find the actual compressive stress we divide the axial load by the column cross sectional area."
     ]
    },
    {
     "cell_type": "code",
     "collapsed": false,
     "input": [
      "column.f_c_latex"
     ],
     "language": "python",
     "metadata": {
      "slideshow": {
       "slide_type": "-"
      }
     },
     "outputs": [
      {
       "latex": [
        "$$f_c = \\frac{P}{A}$$  \n",
        "${}$\n",
        " $$f_c = \\frac{3200.00 lb}{12.25 in^2}$$ \n",
        "$${}$$\n",
        " $f_c = 261.22 psi$"
       ],
       "metadata": {},
       "output_type": "pyout",
       "prompt_number": 12,
       "text": [
        "<IPython.core.display.Latex at 0x7f8082ad8090>"
       ]
      }
     ],
     "prompt_number": 12
    },
    {
     "cell_type": "heading",
     "level": 2,
     "metadata": {
      "slideshow": {
       "slide_type": "slide"
      }
     },
     "source": [
      "Summary"
     ]
    },
    {
     "cell_type": "markdown",
     "metadata": {
      "slideshow": {
       "slide_type": "-"
      }
     },
     "source": [
      "<audio controls data-autoplay preload>\n",
      " <source src=\"https://github.com/damontallen/Construction-Lectures-Fall-2014/raw/master/Lecture%20Audio/Week%204/Timber%20Column/Summary.mp3\"\n",
      "         type='audio/mp3'>\n",
      " <p>Your user agent does not support the HTML5 Audio element or the files are missing.</p>\n",
      "</audio>"
     ]
    },
    {
     "cell_type": "markdown",
     "metadata": {
      "slideshow": {
       "slide_type": "-"
      }
     },
     "source": [
      "After an analysis of the  No. 2 Southern Pine 4x4, under normal temperature and moisture conditions, and with only end point support, we find that the allowable compressive stress parallel to grain compared with the actual compressive stress is,"
     ]
    },
    {
     "cell_type": "code",
     "collapsed": false,
     "input": [
      "column.column_adequacy_check_latex"
     ],
     "language": "python",
     "metadata": {
      "slideshow": {
       "slide_type": "-"
      }
     },
     "outputs": [
      {
       "latex": [
        "$$ F_c' = 273.30 psi \\geq f_c = 261.22 psi$$ \n",
        " $$\\textbf{This column is adequate}$$"
       ],
       "metadata": {},
       "output_type": "pyout",
       "prompt_number": 14,
       "text": [
        "<IPython.core.display.Latex at 0x7f80680a14d0>"
       ]
      }
     ],
     "prompt_number": 14
    },
    {
     "cell_type": "markdown",
     "metadata": {},
     "source": [
      "*(Click on the blue right arrow to see the column capacity.)*"
     ]
    },
    {
     "cell_type": "heading",
     "level": 3,
     "metadata": {
      "slideshow": {
       "slide_type": "slide"
      }
     },
     "source": [
      "Column Capacity"
     ]
    },
    {
     "cell_type": "markdown",
     "metadata": {
      "slideshow": {
       "slide_type": "-"
      }
     },
     "source": [
      "<audio controls data-autoplay preload>\n",
      " <source src=\"https://github.com/damontallen/Construction-Lectures-Fall-2014/raw/master/Lecture%20Audio/Week%204/Timber%20Column/Column%20Capacity.mp3\"\n",
      "         type='audio/mp3'>\n",
      " <p>Your user agent does not support the HTML5 Audio element or the files are missing.</p>\n",
      "</audio>"
     ]
    },
    {
     "cell_type": "markdown",
     "metadata": {
      "slideshow": {
       "slide_type": "-"
      }
     },
     "source": [
      "That actual capacity of the column is found by multiplying the column's cross sectional area by its allowable compressive stress."
     ]
    },
    {
     "cell_type": "code",
     "collapsed": false,
     "input": [
      "column.column_capacity_latex"
     ],
     "language": "python",
     "metadata": {
      "slideshow": {
       "slide_type": "-"
      }
     },
     "outputs": [
      {
       "latex": [
        "$$P_{allowed} = F_c' \\times A$$ \n",
        "$${}$$\n",
        " $$P_{allowed} = 273.30 psi \\times 12.25 in^2$$ \n",
        "$${}$$\n",
        " $$P_{allowed} = 3347.94 lbs$$"
       ],
       "metadata": {},
       "output_type": "pyout",
       "prompt_number": 13,
       "text": [
        "<IPython.core.display.Latex at 0x7f80680a1450>"
       ]
      }
     ],
     "prompt_number": 13
    },
    {
     "cell_type": "heading",
     "level": 2,
     "metadata": {
      "slideshow": {
       "slide_type": "slide"
      }
     },
     "source": [
      "References:"
     ]
    },
    {
     "cell_type": "markdown",
     "metadata": {
      "slideshow": {
       "slide_type": "-"
      }
     },
     "source": [
      "[Class website](https://ufl.instructure.com/courses/308516) *(Use this link to if you are taking the course on e-learning.)*\n",
      "\n",
      "[Github.io version of course website](http://damontallen.github.io/Construction-Lectures/) *(Do not use this link if you are taking this course in Summer A or B.)*\n",
      "\n",
      "[IPython.org](http://ipython.org/) *(IPython is the opensource software used in the development of much of this course.)*\n",
      "\n",
      "[Complete Software List](http://nbviewer.ipython.org/github/damontallen/Construction-Lectures-Fall-2014/blob/master/Resources.ipynb)"
     ]
    },
    {
     "cell_type": "markdown",
     "metadata": {
      "slideshow": {
       "slide_type": "skip"
      }
     },
     "source": [
      "CSS stylesheet\n",
      "\n",
      "<head>\n",
      "<style>\n",
      "important {font:italic bold 16px arial;}\n",
      ".missing {color:Red}\n",
      "fragment {color:LightBlue;}\n",
      "subslide {color:DarkBlue;}\n",
      "\n",
      ".rgt {float:right;}\n",
      "\n",
      ".lt {float:left;}\n",
      "\n",
      ".cnt {text-align:center; vertical-align:text-top;}\n",
      "\n",
      ".box { border:1px solid blue; float:left; margin-right:3px;}\n",
      "\n",
      ".max {max-width:300px; max-height:300px;}\n",
      "\n",
      ".fix {max-height:200px; max-width:200px;}\n",
      "\n",
      "</style>\n",
      "</head>\n",
      "\n",
      "    /* class = \"max box\" for img tags\n",
      "    \n",
      "    <audio controls data-autoplay preload>\n",
      "     <source src=\"https://github.com/damontallen/Construction-Lectures-Fall-2014/raw/master/Intro/FILE%20NAME.mp3\"\n",
      "             type='audio/mp3'>\n",
      "     <p><strong>Your user agent does not support the HTML5 Audio element or the files are missing.</strong></p>\n",
      "    </audio><a></a>\n",
      "    \n",
      "    */\n",
      "    class = \"max box\" == style=\"max-width:300px; max-height:300px; border:1px solid blue; float:left; margin-right:3px;\"\n",
      "    important == <strong><font style=\"font:italic bold 16px arial;\"> Text here </font></strong>"
     ]
    }
   ],
   "metadata": {}
  }
 ]
}