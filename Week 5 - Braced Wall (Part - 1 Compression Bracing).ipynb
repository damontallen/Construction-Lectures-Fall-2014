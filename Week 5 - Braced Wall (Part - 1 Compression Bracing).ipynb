{
 "metadata": {
  "name": "",
  "signature": "sha256:d1dd299444ce90f8ced25ef1fd857a399ed888739321cbc7da0b2b4c686fe855"
 },
 "nbformat": 3,
 "nbformat_minor": 0,
 "worksheets": [
  {
   "cells": [
    {
     "cell_type": "heading",
     "level": 1,
     "metadata": {
      "slideshow": {
       "slide_type": "slide"
      }
     },
     "source": [
      "Introduction to Bracing"
     ]
    },
    {
     "cell_type": "markdown",
     "metadata": {
      "slideshow": {
       "slide_type": "-"
      }
     },
     "source": [
      "<iframe width=\"420\" height=\"315\" src=\"//www.youtube.com/embed/lbKsAVzNhWw\" frameborder=\"0\" allowfullscreen></iframe>"
     ]
    },
    {
     "cell_type": "markdown",
     "metadata": {
      "slideshow": {
       "slide_type": "-"
      }
     },
     "source": [
      "In order to provide stability by resisting lateral loads we need to provide braces.  Braces are used in wall, column, and slab forms.  They are also needed in custom wooden scaffolding.  \n"
     ]
    },
    {
     "cell_type": "markdown",
     "metadata": {
      "slideshow": {
       "slide_type": "-"
      }
     },
     "source": [
      "*What types of loads do you expect bracing to be designed for?* "
     ]
    },
    {
     "cell_type": "heading",
     "level": 2,
     "metadata": {
      "slideshow": {
       "slide_type": "slide"
      }
     },
     "source": [
      "Wallform Brace"
     ]
    },
    {
     "cell_type": "markdown",
     "metadata": {
      "slideshow": {
       "slide_type": "-"
      }
     },
     "source": [
      "<audio controls data-autoplay preload>\n",
      " <source src=\"https://github.com/damontallen/Construction-Lectures-Fall-2014/raw/master/Lecture%20Audio/Week%205/Wall%20form%20braces%20part%201/Wallform%20brace.mp3\"\n",
      "         type='audio/mp3'>\n",
      " <p>Your user agent does not support the HTML5 Audio element or the files are missing.</p>\n",
      "</audio>"
     ]
    },
    {
     "cell_type": "markdown",
     "metadata": {
      "slideshow": {
       "slide_type": "-"
      }
     },
     "source": [
      "If you design a brace in compression you will need to account for buckling; which means that you will have the reduction factor $C_P$ applied to the strength of the brace, i.e. a larger brace would be needed.  For this reason we always design braces to be in tension, (we use $F_t$).  \n",
      "\n",
      "However, for argument's sake let's design a brace in compression.  You also manage to get some 16 ft long rough sawn lumber for your bracing."
     ]
    },
    {
     "cell_type": "markdown",
     "metadata": {
      "slideshow": {
       "slide_type": "-"
      }
     },
     "source": [
      "<a href=\"http://i.imgur.com/hHp7aEX.png\">\n",
      "<img src=\"http://i.imgur.com/hHp7aEX.png\"  style=\"max-width:300px; max-height:300px; border:1px solid blue; float:left; margin-right:3px;\" alt = \"Braced Wall\"/>\n",
      "</a>\n",
      "\n",
      "For now we will ignore the tension brace."
     ]
    },
    {
     "cell_type": "markdown",
     "metadata": {
      "slideshow": {
       "slide_type": "-"
      }
     },
     "source": [
      "The wallform is 10' high and is expected to be exposed to a wind force of 20 psf (about a 110 mph wind gust event that would occur once every 25 years).  We want the braces to be made from No.2 Douglas Fir-Larch (DFL) and placed at 4 feet on center."
     ]
    },
    {
     "cell_type": "code",
     "collapsed": false,
     "input": [
      "from numpy import sqrt, ceil\n",
      "P_tot = 20*10 #total wind load\n",
      "w_hor = P_tot*5/10 #portion resisted by the brace\n",
      "hor = sqrt(16**2-10**2) #horizontal distance to the bottom of the brace\n",
      "T = w_hor *16/hor*4 #load on the brace\n",
      "print(\"The load is %.2f lbs and hor = %.2f ft\"%(T,hor))"
     ],
     "language": "python",
     "metadata": {
      "slideshow": {
       "slide_type": "skip"
      }
     },
     "outputs": [
      {
       "output_type": "stream",
       "stream": "stdout",
       "text": [
        "The load is 512.41 lbs and hor = 12.49 ft\n"
       ]
      }
     ],
     "prompt_number": 1
    },
    {
     "cell_type": "heading",
     "level": 2,
     "metadata": {
      "slideshow": {
       "slide_type": "slide"
      }
     },
     "source": [
      "Compression Brace Load"
     ]
    },
    {
     "cell_type": "markdown",
     "metadata": {
      "slideshow": {
       "slide_type": "-"
      }
     },
     "source": [
      "<audio controls data-autoplay preload>\n",
      " <source src=\"https://github.com/damontallen/Construction-Lectures-Fall-2014/raw/master/Lecture%20Audio/Week%205/Wall%20form%20braces%20part%201/Compression%20Brace%20Load.mp3\"\n",
      "         type='audio/mp3'>\n",
      " <p>Your user agent does not support the HTML5 Audio element or the files are missing.</p>\n",
      "</audio>"
     ]
    },
    {
     "cell_type": "markdown",
     "metadata": {
      "slideshow": {
       "slide_type": "-"
      }
     },
     "source": [
      "<a href=\"http://i.imgur.com/uQPMmcw.png\">\n",
      "<img src=\"http://i.imgur.com/uQPMmcw.png\"  style=\"max-width:300px; max-height:300px; border:1px solid blue; float:left; margin-right:3px;\" alt = \"Brace Compression Load\"/>\n",
      "</a>\n",
      "\n",
      "\n",
      "The line load at the top of the wall $(w_{hor})$ is...\n",
      "\n"
     ]
    },
    {
     "cell_type": "markdown",
     "metadata": {
      "slideshow": {
       "slide_type": "-"
      }
     },
     "source": [
      "$$w_{hor} = p \\times h \\times \\left(\\frac{h/2}{h} \\right)$$\n",
      "$$w_{hor} = 20 psf \\times 10 ft \\left(\\frac{5 ft}{10 ft} \\right)$$\n",
      "$$w_{hor} = 100 plf$$\n",
      "\n",
      "To convert $w_{hor}$ to $P_{brace}$ we need to to remember a little vector math and that boils down to...\n",
      "\n",
      "$$w_{hor}\\times W_{trib} = P_{brace} \\times \\frac{Hor}{L_{brace}}$$\n",
      "$$P_{brace}=w_{hor} \\times \\frac{L_{brace}}{Hor} \\times W_{trib} $$\n",
      "\n",
      "$$Hor = \\sqrt{L_{brace}^2 - h^2}$$\n",
      "$$Hor = \\sqrt{(16 ft)^2 - (10 ft)^2}$$\n",
      "$$Hor = 12.5 ft$$\n",
      "$$P_{brace} = 100 plf \\times \\frac{16 ft}{12.5 ft} \\times 4 ft$$\n",
      "$$P_{brace} = 512.4 lb$$"
     ]
    },
    {
     "cell_type": "heading",
     "level": 2,
     "metadata": {
      "slideshow": {
       "slide_type": "skip"
      }
     },
     "source": [
      "Compression Version"
     ]
    },
    {
     "cell_type": "code",
     "collapsed": false,
     "input": [
      "%run Beams/Timber_beam_v_02.1.py"
     ],
     "language": "python",
     "metadata": {
      "slideshow": {
       "slide_type": "skip"
      }
     },
     "outputs": [
      {
       "output_type": "stream",
       "stream": "stdout",
       "text": [
        "In order to display plots inline in the IPython notebook you must include\n",
        "the following magic command:\n",
        "    %matplotlib inline\n",
        "If you need to display plot you will need to used the following commmand\n",
        "    %matplotlib inline\n",
        "Note: The atribute 'pick_list' is now available_grades (added Jan, 6, 2014)\n",
        "\n",
        "Now using 2015 Timber code by default"
       ]
      },
      {
       "output_type": "stream",
       "stream": "stdout",
       "text": [
        "\n"
       ]
      }
     ],
     "prompt_number": 2
    },
    {
     "cell_type": "code",
     "collapsed": false,
     "input": [
      "brace = Timber_Beam()"
     ],
     "language": "python",
     "metadata": {
      "slideshow": {
       "slide_type": "skip"
      }
     },
     "outputs": [
      {
       "output_type": "stream",
       "stream": "stdout",
       "text": [
        "loads -- a list of load dictionaries. For example:\n",
        "    \n",
        "    loads=[{'x0':5,'x1':10,'w':10}, #uniformly distributed load over a 5ft section (5ft - 10ft)\n",
        "           {'x0':0,'x1':5,'w':20},\n",
        "           {'x0':10,'x1':15,'w':20},\n",
        "           {'x0':12.5,'p':20}, #point load \n",
        "           {'x0':0,'x1':20,'arb':'1/10*x'}, #triangluar load function\n",
        "           {'x0':10,'m':20}] # a concentrated moment\n",
        "           \n"
       ]
      }
     ],
     "prompt_number": 3
    },
    {
     "cell_type": "code",
     "collapsed": false,
     "input": [
      "brace.list_wood()"
     ],
     "language": "python",
     "metadata": {
      "slideshow": {
       "slide_type": "skip"
      }
     },
     "outputs": [
      {
       "output_type": "stream",
       "stream": "stdout",
       "text": [
        "'ALASKA CEDAR'               'ALASKA HEMLOCK'             'ALASKA SPRUCE'             \n",
        "'ALASKA YELLOW CEDAR'        'ASPEN'                      'BALDCYPRESS'               \n",
        "'BEECH-BIRCH-HICKORY'        'COAST SITKA SPRUCE'         'COTTONWOOD'                \n",
        "'DOUGLAS FIR-LARCH'          'DOUGLAS FIR-LARCH (NORTH)'  'DOUGLAS FIR-SOUTH'         \n",
        "'EASTERN HEMLOCK-BALSAM FIR' 'EASTERN HEMLOCK-TAMARACK'   'EASTERN SOFTWOODS'         \n",
        "'EASTERN WHITE PINE'         'HEM-FIR'                    'HEM-FIR (NORTH)'           \n",
        "'MIXED MAPLE'                'MIXED OAK'                  'NORTHERN RED OAK'          \n",
        "'NORTHERN SPECIES'           'NORTHERN WHITE CEDAR'       'RED MAPLE'                 \n",
        "'RED OAK'                    'REDWOOD'                    'SOUTHERN PINE'             \n",
        "'SPRUCE-PINE-FIR'            'SPRUCE-PINE-FIR (SOUTH)'    'WESTERN CEDARS'            \n",
        "'WESTERN WOODS'              'WHITE OAK'                  'YELLOW CEDAR'              \n",
        "'YELLOW POPLAR'              "
       ]
      }
     ],
     "prompt_number": 4
    },
    {
     "cell_type": "code",
     "collapsed": false,
     "input": [
      "brace.species = 'DOUGLAS FIR-LARCH'"
     ],
     "language": "python",
     "metadata": {
      "slideshow": {
       "slide_type": "skip"
      }
     },
     "outputs": [
      {
       "output_type": "stream",
       "stream": "stdout",
       "text": [
        "Setting u_c_f to 12**3 based on length in ft and d in inches, i.e ((1 ft)/(1 in))^3.\n"
       ]
      }
     ],
     "prompt_number": 5
    },
    {
     "cell_type": "code",
     "collapsed": false,
     "input": [
      "brace.available_grades"
     ],
     "language": "python",
     "metadata": {
      "slideshow": {
       "slide_type": "skip"
      }
     },
     "outputs": [
      {
       "output_type": "stream",
       "stream": "stdout",
       "text": [
        "For Douglas Fir-Larch:\n",
        "Select Structural, No.1 & Btr, No.1, No.2, No.3, Stud, Construction, Standard,\n",
        "Utility\n"
       ]
      }
     ],
     "prompt_number": 6
    },
    {
     "cell_type": "code",
     "collapsed": false,
     "input": [
      "brace.grade = 'No.2'"
     ],
     "language": "python",
     "metadata": {
      "slideshow": {
       "slide_type": "skip"
      }
     },
     "outputs": [],
     "prompt_number": 7
    },
    {
     "cell_type": "heading",
     "level": 2,
     "metadata": {
      "slideshow": {
       "slide_type": "slide"
      }
     },
     "source": [
      "Sizing the Compression Brace"
     ]
    },
    {
     "cell_type": "markdown",
     "metadata": {
      "slideshow": {
       "slide_type": "-"
      }
     },
     "source": [
      "<audio controls data-autoplay preload>\n",
      " <source src=\"https://github.com/damontallen/Construction-Lectures-Fall-2014/raw/master/Lecture%20Audio/Week%205/Wall%20form%20braces%20part%201/Sizing%20the%20Compression%20Brace.mp3\"\n",
      "         type='audio/mp3'>\n",
      " <p>Your user agent does not support the HTML5 Audio element or the files are missing.</p>\n",
      "</audio>"
     ]
    },
    {
     "cell_type": "markdown",
     "metadata": {
      "slideshow": {
       "slide_type": "-"
      }
     },
     "source": [
      "To get an estimate of the size of the brace we'll need, let's use the fact that the slenderness ratio of the brace needs to less than or equal to 50.\n",
      "\n",
      "$$S.R. = \\frac{L_e}{d_{min}}$$\n",
      "\n",
      "$$d_{min} = \\frac{L_e}{S.R.}$$\n",
      "\n",
      "$$d_{min} = \\frac{16 ft}{50} \\times \\frac{12 in}{1 ft}$$\n",
      "\n",
      "$$d_{min} = 3.84\"$$\n",
      "\n",
      "So we'll try a rough sawn 4x4 which has the actual dimensions of $3.875\" \\times 3.875\"$."
     ]
    },
    {
     "cell_type": "code",
     "collapsed": false,
     "input": [
      "brace.L = 16 #ft\n",
      "#Assuming SR = 50...\n",
      "d_min = brace.L*12/50\n",
      "print(\"The miniumum dimension of the brace is %g in.\"%d_min)"
     ],
     "language": "python",
     "metadata": {
      "slideshow": {
       "slide_type": "skip"
      }
     },
     "outputs": [
      {
       "output_type": "stream",
       "stream": "stdout",
       "text": [
        "The miniumum dimension of the brace is 3.84 in.\n"
       ]
      }
     ],
     "prompt_number": 8
    },
    {
     "cell_type": "code",
     "collapsed": false,
     "input": [
      "#Use Table 4D and assume \"Post and Timbers\"\n",
      "# brace.F_c = 700 #psi\n",
      "# brace.E_min = 470000 #psi\n",
      "# #(not needed from here down)\n",
      "# brace.E = 1.3E6 #psi\n",
      "# brace.F_b = 750 #psi\n",
      "# brace.F_t = 475 #psi\n",
      "# brace.F_v = 170 #psi\n",
      "# brace.F_c_p = 625 #psi\n",
      "# brace.C_F.F_c = 1 #from Tabel 4D"
     ],
     "language": "python",
     "metadata": {
      "slideshow": {
       "slide_type": "skip"
      }
     },
     "outputs": [],
     "prompt_number": 9
    },
    {
     "cell_type": "code",
     "collapsed": false,
     "input": [
      "brace.b = 3.875 #in Rough sawn\n",
      "brace.d = 3.875 #in Rough sawn\n",
      "brace.C_D = 1.6\n",
      "brace.P = T"
     ],
     "language": "python",
     "metadata": {
      "slideshow": {
       "slide_type": "skip"
      }
     },
     "outputs": [],
     "prompt_number": 10
    },
    {
     "cell_type": "heading",
     "level": 2,
     "metadata": {
      "slideshow": {
       "slide_type": "slide"
      }
     },
     "source": [
      "Section Properties"
     ]
    },
    {
     "cell_type": "markdown",
     "metadata": {
      "slideshow": {
       "slide_type": "-"
      }
     },
     "source": [
      "<audio controls data-autoplay preload>\n",
      " <source src=\"https://github.com/damontallen/Construction-Lectures-Fall-2014/raw/master/Lecture%20Audio/Week%205/Wall%20form%20braces%20part%201/Section%20Properties.mp3\"\n",
      "         type='audio/mp3'>\n",
      " <p>Your user agent does not support the HTML5 Audio element or the files are missing.</p>\n",
      "</audio>"
     ]
    },
    {
     "cell_type": "markdown",
     "metadata": {
      "slideshow": {
       "slide_type": "-"
      }
     },
     "source": [
      "Since we are using rough sawn lumber we will calculate the properties we would normally look up in Table 1B\n",
      "\n",
      "$d = 3.875\"$\n",
      "\n",
      "$b = 3.875\"$\n",
      "\n",
      "$A = b \\times d $\n",
      "\n",
      "$A = 3.875\" \\times 3.875\" = 15.02 in^2$"
     ]
    },
    {
     "cell_type": "heading",
     "level": 2,
     "metadata": {
      "slideshow": {
       "slide_type": "slide"
      }
     },
     "source": [
      "Column Stability Factor"
     ]
    },
    {
     "cell_type": "markdown",
     "metadata": {
      "slideshow": {
       "slide_type": "-"
      }
     },
     "source": [
      "<audio controls data-autoplay preload>\n",
      " <source src=\"https://github.com/damontallen/Construction-Lectures-Fall-2014/raw/master/Lecture%20Audio/Week%205/Wall%20form%20braces%20part%201/Column%20Stability%20Factor.mp3\"\n",
      "         type='audio/mp3'>\n",
      " <p>Your user agent does not support the HTML5 Audio element or the files are missing.</p>\n",
      "</audio>"
     ]
    },
    {
     "cell_type": "markdown",
     "metadata": {
      "slideshow": {
       "slide_type": "-"
      }
     },
     "source": [
      "Since the this loading is due to wind pressure alone the load duration factor $C_D = 1.6$.  This is one of those few occasions in this course where $C_D \\ne 1.25$.\n",
      "\n",
      "Using the stress values and adjustment factors found in Table 4A we can calculate $C_P$.\n",
      "\n",
      "*(You may have to scroll down to see the whole calculation.)*"
     ]
    },
    {
     "cell_type": "code",
     "collapsed": false,
     "input": [
      "brace.C_P.work"
     ],
     "language": "python",
     "metadata": {
      "slideshow": {
       "slide_type": "-"
      }
     },
     "outputs": [
      {
       "output_type": "stream",
       "stream": "stderr",
       "text": [
        "Timber/ColumnBuckling.py:-1: UserWarning: Note: Using default value for 'C_P_l_e.c', (c = 0.8), for a sawn lumber column.\n"
       ]
      },
      {
       "latex": [
        "$$\\frac{l_{e,x}}{d} = 49.55$$ \n",
        "$${}$$\n",
        " $$\\frac{l_{e,y}}{b} = 49.55\\text{ }\\Leftarrow \\text{ Controls} \\therefore SR = 49.55$$ \n",
        "$${}$$\n",
        " $$F_c^* = F_c \\times C_D \\times C_M \\times C_t \\times C_F \\times C_i $$ \n",
        "$${}$$\n",
        " $$F_c^* = 1350 psi \\times 1.6 \\times 1 \\times 1 \\times 1.15 \\times 1 = 2484 psi$$ \n",
        "$${}$$\n",
        " $$F_{cE} = \\frac{0.822 \\times E_{min}'}{(SR)^2} = \\frac{0.822 \\times 580000 psi}{(49.55)^2} = 194.2 psi$$ \n",
        "$${}$$\n",
        " $$\\frac{F_{cE}}{F_c^*} = 0.07818$$ \n",
        "$${}$$\n",
        " $$\\textbf{Note:}\\text{ Using default value for }\\texttt{'C_P_l_e.c'}\\text{, }(c=0.8)\\text{, for a sawn lumber column.}$$ \n",
        "$${}$$\n",
        " $$c = 0.8 \\text{ (from section 3.7.1.5 Timber NDS)}$$ \n",
        "$${}$$\n",
        " $$\\frac{1+F_{cE}/F_c^*}{2 \\times c}=\\frac{1+0.07818}{2 \\times 0.8}=0.6739$$ \n",
        "$${}$$\n",
        " $$\\frac{F_{cE}/F_c^*}{c}=\\frac{0.07818}{0.8}=0.09772$$ \n",
        "$${}$$\n",
        " $$C_P = \\frac{1+F_{cE}/F_c^*}{2 \\times c} -\\sqrt{\\left(\\frac{1+F_{cE}/F_c^*}{2 \\times c}\\right)^2-\\frac{F_{cE}/F_c^*}{c}}$$ \n",
        "$${}$$\n",
        " $$C_P = 0.6739 -\\sqrt{\\left(0.6739\\right)^2-0.09772} =0.07690$$"
       ],
       "metadata": {},
       "output_type": "pyout",
       "prompt_number": 11,
       "text": [
        "<IPython.core.display.Latex at 0x7fbef0b776d8>"
       ]
      }
     ],
     "prompt_number": 11
    },
    {
     "cell_type": "heading",
     "level": 2,
     "metadata": {
      "slideshow": {
       "slide_type": "slide"
      }
     },
     "source": [
      "Brace Capacity"
     ]
    },
    {
     "cell_type": "markdown",
     "metadata": {
      "slideshow": {
       "slide_type": "-"
      }
     },
     "source": [
      "<audio controls data-autoplay preload>\n",
      " <source src=\"https://github.com/damontallen/Construction-Lectures-Fall-2014/raw/master/Lecture%20Audio/Week%205/Wall%20form%20braces%20part%201/Brace%20Capacity.mp3\"\n",
      "         type='audio/mp3'>\n",
      " <p>Your user agent does not support the HTML5 Audio element or the files are missing.</p>\n",
      "</audio>"
     ]
    },
    {
     "cell_type": "markdown",
     "metadata": {
      "slideshow": {
       "slide_type": "-"
      }
     },
     "source": [
      "The capacity of the brace can now be found."
     ]
    },
    {
     "cell_type": "code",
     "collapsed": false,
     "input": [
      "brace.column_capacity.work"
     ],
     "language": "python",
     "metadata": {
      "slideshow": {
       "slide_type": "-"
      }
     },
     "outputs": [
      {
       "latex": [
        "$$F_c' = F_c \\times C_D \\times C_M \\times C_t \\times C_F \\times C_i \\times C_P$$ \n",
        "$${}$$\n",
        " $$F_c' = 1350 psi \\times 1.6 \\times 1 \\times 1 \\times 1.15 \\times 1 \\times 0.07690$$ \n",
        "$${}$$\n",
        " $$F_c' = 191.0 psi$$ \n",
        "$${}$$\n",
        " $$P_{allowed} = F_c' \\times A$$ \n",
        "$${}$$\n",
        " $$P_{allowed} = 191.0 psi \\times 15.02 in^2$$ \n",
        "$${}$$\n",
        " $$P_{allowed} = 2868 lbs$$"
       ],
       "metadata": {},
       "output_type": "pyout",
       "prompt_number": 12,
       "text": [
        "<IPython.core.display.Latex at 0x7fbef0b2d710>"
       ]
      }
     ],
     "prompt_number": 12
    },
    {
     "cell_type": "heading",
     "level": 2,
     "metadata": {
      "slideshow": {
       "slide_type": "slide"
      }
     },
     "source": [
      "Comparing Allowable vs Actual Stress"
     ]
    },
    {
     "cell_type": "markdown",
     "metadata": {
      "slideshow": {
       "slide_type": "-"
      }
     },
     "source": [
      "<audio controls data-autoplay preload>\n",
      " <source src=\"https://github.com/damontallen/Construction-Lectures-Fall-2014/raw/master/Lecture%20Audio/Week%205/Wall%20form%20braces%20part%201/Comparing%20Allowable%20vs%20Actual%20Stress.mp3\"\n",
      "         type='audio/mp3'>\n",
      " <p>Your user agent does not support the HTML5 Audio element or the files are missing.</p>\n",
      "</audio>"
     ]
    },
    {
     "cell_type": "markdown",
     "metadata": {
      "slideshow": {
       "slide_type": "-"
      }
     },
     "source": [
      "The actual stress is,"
     ]
    },
    {
     "cell_type": "code",
     "collapsed": false,
     "input": [
      "brace.f_c_latex"
     ],
     "language": "python",
     "metadata": {
      "slideshow": {
       "slide_type": "-"
      }
     },
     "outputs": [
      {
       "latex": [
        "$$f_c = \\frac{P}{A}$$  \n",
        "$${}$$\n",
        " $$f_c = \\frac{512.4 lb}{15.02 in^2}$$ \n",
        "$${}$$\n",
        " $$f_c = 34.13 psi$$"
       ],
       "metadata": {},
       "output_type": "pyout",
       "prompt_number": 13,
       "text": [
        "<IPython.core.display.Latex at 0x7fbef0bbce80>"
       ]
      }
     ],
     "prompt_number": 13
    },
    {
     "cell_type": "markdown",
     "metadata": {
      "slideshow": {
       "slide_type": "-"
      }
     },
     "source": [
      "and doing the comparison with the allowable stress we find,"
     ]
    },
    {
     "cell_type": "code",
     "collapsed": false,
     "input": [
      "brace.column_adequacy_check_latex"
     ],
     "language": "python",
     "metadata": {
      "slideshow": {
       "slide_type": "-"
      }
     },
     "outputs": [
      {
       "latex": [
        "$$ F_c' = 191.0 psi \\geq f_c = 34.13 psi$$ \n",
        " $$\\textbf{This column is adequate}$$"
       ],
       "metadata": {},
       "output_type": "pyout",
       "prompt_number": 14,
       "text": [
        "<IPython.core.display.Latex at 0x7fbef0b96080>"
       ]
      }
     ],
     "prompt_number": 14
    },
    {
     "cell_type": "heading",
     "level": 2,
     "metadata": {
      "slideshow": {
       "slide_type": "slide"
      }
     },
     "source": [
      "To be Continued"
     ]
    },
    {
     "cell_type": "markdown",
     "metadata": {
      "slideshow": {
       "slide_type": "-"
      }
     },
     "source": [
      "<audio controls data-autoplay preload>\n",
      " <source src=\"https://github.com/damontallen/Construction-Lectures-Fall-2014/raw/master/Lecture%20Audio/Week%205/Wall%20form%20braces%20part%201/To%20be%20Continued.mp3\"\n",
      "         type='audio/mp3'>\n",
      " <p>Your user agent does not support the HTML5 Audio element or the files are missing.</p>\n",
      "</audio>"
     ]
    },
    {
     "cell_type": "markdown",
     "metadata": {
      "slideshow": {
       "slide_type": "-"
      }
     },
     "source": [
      "The next presentation will look at the same problem except we will assume the brace it only in tension.  \n",
      "\n",
      "Go ahead and start thinking about what that might mean for the design."
     ]
    },
    {
     "cell_type": "heading",
     "level": 2,
     "metadata": {
      "slideshow": {
       "slide_type": "slide"
      }
     },
     "source": [
      "References:"
     ]
    },
    {
     "cell_type": "markdown",
     "metadata": {},
     "source": [
      "[Class website](https://ufl.instructure.com/courses/) *(Use this link to if you are taking the course on e-learning.)*\n",
      "\n",
      "[Github.io version of course website](http://damontallen.github.io/Construction-Lectures-Fall-2014/) *(Do not use this link if you are taking this course in Summer A or B.)*\n",
      "\n",
      "[IPython.org](http://ipython.org/) *(IPython is the opensource software used in the development of much of this course.)*\n",
      "\n",
      "[Complete Software List](http://nbviewer.ipython.org/github/damontallen/Construction-Lectures-Fall-2014/blob/master/Resources.ipynb)"
     ]
    },
    {
     "cell_type": "heading",
     "level": 2,
     "metadata": {
      "slideshow": {
       "slide_type": "skip"
      }
     },
     "source": [
      "Wind speed check..."
     ]
    },
    {
     "cell_type": "code",
     "collapsed": false,
     "input": [
      "# Mean wind reoccurance check\n",
      "p = 20 #psf\n",
      "K_z = 0.85 #10 ft\n",
      "K_d = 0.85\n",
      "C_f = 1.75 #free standing wall (Figure 29.4-1)\n",
      "I = 1 # section 6.1 of ASCE 37-02\n",
      "G = 0.85\n",
      "#V = 100\n",
      "# q_z = 0.00256 K_z K_zt K_d V**2 I\n",
      "# F = q_z G C_f A_f\n",
      "# p = q_h G C_f \n",
      "V = (p / (G * C_f * 0.00256 * K_z * K_d * I))**(0.5)/0.75\n",
      "print(\"%.2f mph\"%V)"
     ],
     "language": "python",
     "metadata": {
      "slideshow": {
       "slide_type": "skip"
      }
     },
     "outputs": [
      {
       "output_type": "stream",
       "stream": "stdout",
       "text": [
        "113.68 mph\n"
       ]
      }
     ],
     "prompt_number": 15
    },
    {
     "cell_type": "markdown",
     "metadata": {
      "slideshow": {
       "slide_type": "skip"
      }
     },
     "source": [
      "CSS stylesheet\n",
      "\n",
      "<head>\n",
      "<style>\n",
      "important {font:italic bold 16px arial;}\n",
      ".missing {color:Red}\n",
      "fragment {color:LightBlue;}\n",
      "subslide {color:DarkBlue;}\n",
      "\n",
      ".rgt {float:right;}\n",
      "\n",
      ".lt {float:left;}\n",
      "\n",
      ".cnt {text-align:center; vertical-align:text-top;}\n",
      "\n",
      ".box { border:1px solid blue; float:left; margin-right:3px;}\n",
      "\n",
      ".max {max-width:300px; max-height:300px;}\n",
      "\n",
      ".fix {max-height:200px; max-width:200px;}\n",
      "\n",
      "</style>\n",
      "</head>\n",
      "\n",
      "    /* class = \"max box\" for img tags\n",
      "    \n",
      "    <audio controls data-autoplay preload>\n",
      "     <source src=\"https://github.com/damontallen/Construction-Lectures-Fall-2014/raw/master/Intro/FILE%20NAME.mp3\"\n",
      "             type='audio/mp3'>\n",
      "     <p><strong>Your user agent does not support the HTML5 Audio element or the files are missing.</strong></p>\n",
      "    </audio><a></a>\n",
      "    \n",
      "    */\n",
      "    class = \"max box\" == style=\"max-width:300px; max-height:300px; border:1px solid blue; float:left; margin-right:3px;\"\n",
      "    important == <strong><font style=\"font:italic bold 16px arial;\"> Text here </font></strong>"
     ]
    }
   ],
   "metadata": {}
  }
 ]
}
