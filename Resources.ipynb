{
 "metadata": {
  "name": "",
  "signature": "sha256:8d7770df2c39ff26ac85b1c76d8de3ede40d5326ada372d80e1aa3dfd56fe424"
 },
 "nbformat": 3,
 "nbformat_minor": 0,
 "worksheets": [
  {
   "cells": [
    {
     "cell_type": "heading",
     "level": 1,
     "metadata": {},
     "source": [
      "Software Resources"
     ]
    },
    {
     "cell_type": "markdown",
     "metadata": {},
     "source": [
      "In the process of developing this course I have used the following open source programs:\n",
      "\n",
      "* [IPython](http://ipython.org/index.html) (versions 1.1, 1.20, 1.21, and 2.0)\n",
      "    * Notebook to develop all the software and documentation.\n",
      "    * NBConvert to make slides, convert to LaTeX, and create pdfs.\n",
      "* Dami\u00e1n Avila's IPython extension for [spell checking](http://www.damian.oquanta.info/posts/a-poor-man-spell-checker-for-the-ipython-notebook.html)\n",
      "* [Audacity](http://audacity.sourceforge.net/) (version 2.03)\n",
      "    * Used to record all the audio files.\n",
      "* [Mp3Gain](http://mp3gain.sourceforge.net/) (version 1.5.2-r2-2)\n",
      "    * Used for batch volume adjustment of the audio files.\n",
      "* [Openshot](http://www.openshot.org/) (version 1.4.3)\n",
      "    * Used to edit the videos.\n",
      "* [GTK UVC](http://guvcview.sourceforge.net/) (version 1.7.1-1)\n",
      "    * Used to record most of the video files.\n",
      "* [Blender](http://www.blender.org/) (version 2.66a)\n",
      "    * Used to render some of the more complicated 3D images.\n",
      "* [LibreOffice](https://www.libreoffice.org/) (version 4.2.2.1)\n",
      "    * Writer to develop the original version of my lecture notes.\n",
      "    * Calc to develop the spreadsheet homework assignments.\n",
      "    * Draw to create illustrations for the slideshows.\n",
      "* [InkScape](http://www.inkscape.org/en/) (version 0.48)\n",
      "    * Used to create some of the diagrams in the slideshows, in particular the student homework cycle.\n",
      "* [Shutter](https://apps.ubuntu.com/cat/applications/shutter/) (version 0.90)\n",
      "    * Used for quick screen captures.\n",
      "* [GIMP](http://www.gimp.org/) (version 2.9.1)\n",
      "    * Used for image conversion to eps format.  This is so they can be references in LaTeX files.\n",
      "* [Gummi](http://dev.midnightcoding.org/projects/gummi) (version 0.6.5)\n",
      "    * For editing LaTeX files and creating pdfs.\n",
      "* [Ubuntu](http://www.ubuntu.com/) (versions 13.10 and 14.04)\n",
      "    * The opensource operating system in which I was able to quickly find and install most of the software listed above.\n",
      "    * Firefox, used to view IPython Notebooks.\n",
      "    * Chrome, used to view IPython Notebooks.\n",
      "\n",
      "\n",
      "I also used the free resources available from the following web sites:\n",
      "\n",
      "* [GitHub](https://github.com/): For version control an online hosting of the slideshows, notebook files, and audio files.\n",
      "* [YouTube](https://www.youtube.com/): For hosting the video files in a variety of formats to allow for easy streaming.\n",
      "* [Imgur](https://imgur.com/): For hosting image files.\n",
      "* [NBViewer](http://nbviewer.ipython.org/): For displaying static versions of the notebooks hosted on GitHub.\n",
      "\n",
      "To the best of my knowledge, this is a complete list of all the software I used in the development of this course.  They are listed in relative importance to my work-flow, but all have been critical are one point or another.  Thanks to all the hard work of these software developers, I have been able to do my job with relative ease."
     ]
    }
   ],
   "metadata": {}
  }
 ]
}