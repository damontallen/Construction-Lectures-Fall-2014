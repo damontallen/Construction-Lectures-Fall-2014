{
 "cells": [
  {
   "cell_type": "code",
   "execution_count": 19,
   "metadata": {
    "collapsed": false
   },
   "outputs": [
    {
     "name": "stdout",
     "output_type": "stream",
     "text": [
      "caught 48 instances\n"
     ]
    }
   ],
   "source": [
    "file_name = \"Week 0 - Greetings.slides.html\"\n",
    "out_name = \"Week 0 - Summer Greetings.slides.html\"\n",
    "with open(file_name, 'r') as f:\n",
    "    slides = f.read()\n",
    "lines = slides.splitlines()\n",
    "catch = '<div class=\"fragment\" data-fragment-index=\"4\">'\n",
    "skip = [0] # instance of fragments that are to be kept\n",
    "output = []\n",
    "caught = 0\n",
    "for line in lines:\n",
    "    if catch in line.lower():\n",
    "        if caught not in skip:\n",
    "            output.append(line.replace(catch,'<div>'))\n",
    "        else:\n",
    "            output.append(line)\n",
    "        caught +=1\n",
    "    else:\n",
    "        output.append(line)\n",
    "print('caught %d instances'%(caught))\n",
    "with open(out_name, 'w') as f:\n",
    "    f.write('\\n'.join(output))"
   ]
  }
 ],
 "metadata": {
  "kernelspec": {
   "display_name": "Python 3",
   "language": "python",
   "name": "python3"
  },
  "language_info": {
   "codemirror_mode": {
    "name": "ipython",
    "version": 3
   },
   "file_extension": ".py",
   "mimetype": "text/x-python",
   "name": "python",
   "nbconvert_exporter": "python",
   "pygments_lexer": "ipython3",
   "version": "3.4.0"
  }
 },
 "nbformat": 4,
 "nbformat_minor": 0
}
