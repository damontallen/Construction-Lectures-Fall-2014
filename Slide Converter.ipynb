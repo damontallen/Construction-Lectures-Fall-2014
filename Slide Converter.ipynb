{
 "metadata": {
  "name": "",
  "signature": "sha256:a0c165391002dd0f6e7dfd3ba114c0de05515cd4f3c2dc451b6a035089aae225"
 },
 "nbformat": 3,
 "nbformat_minor": 0,
 "worksheets": [
  {
   "cells": [
    {
     "cell_type": "markdown",
     "metadata": {},
     "source": [
      "    ipython nbconvert \"Week 4 - (Optional) Euler Buckling.ipynb\" --to slides --post serve --template slides.tpl"
     ]
    },
    {
     "cell_type": "code",
     "collapsed": false,
     "input": [
      "import os\n",
      "files = os.listdir('.')"
     ],
     "language": "python",
     "metadata": {},
     "outputs": [],
     "prompt_number": 2
    },
    {
     "cell_type": "code",
     "collapsed": false,
     "input": [
      "for name in files:\n",
      "    if 'Week' in name:\n",
      "        cmd = 'ipython nbconvert \"%s\" --to slides --template slides.tpl'%name\n",
      "        os.system(cmd)"
     ],
     "language": "python",
     "metadata": {},
     "outputs": [],
     "prompt_number": 5
    },
    {
     "cell_type": "code",
     "collapsed": false,
     "input": [
      "files"
     ],
     "language": "python",
     "metadata": {},
     "outputs": [
      {
       "metadata": {},
       "output_type": "pyout",
       "prompt_number": 3,
       "text": [
        "['Week 12 - Excavation.ipynb',\n",
        " 'Week 8 - Column Forms.ipynb',\n",
        " 'Week 6 - (Optional) Span Length Derivations.ipynb',\n",
        " 'Slide Converter.ipynb',\n",
        " 'Lecture Audio',\n",
        " 'Week 2 - Introduction to Timber NDS.ipynb',\n",
        " 'Week 5 - Braced Wall (Part - 1 Compression Bracing).ipynb',\n",
        " 'Week 5 - Slab Braces.ipynb',\n",
        " 'Week 7 - Wall Forms.ipynb',\n",
        " 'Week 2 - Tributary Width vs Tributary Area.ipynb',\n",
        " '.ipynb_checkpoints',\n",
        " 'Week 1 - How to Complete Team and Individual Assignments.ipynb',\n",
        " 'Week 1 - Class Introduction.ipynb',\n",
        " 'Week 5 - Braced Wall (Part - 2 Tension Bracing with Fasteners) .ipynb',\n",
        " 'Week 7 - Wall Forms - Using Tables.ipynb',\n",
        " 'Week 6 - Importance of Formwork Safety.ipynb',\n",
        " 'Week 5 - (Optional) Bracing Stiffness Requirements.ipynb',\n",
        " 'Rubrics and Excel Help.ipynb',\n",
        " 'Week 4 - (Optional) Euler Buckling.ipynb',\n",
        " 'Week 13 - Equipment.ipynb',\n",
        " 'README.md',\n",
        " 'Week 9 - Slab Forms.ipynb',\n",
        " 'Resources.ipynb',\n",
        " 'Week 9 - Slab Forms - Using Tables.ipynb',\n",
        " 'Intro',\n",
        " 'Week 11 - Scaffolding.ipynb',\n",
        " 'Week 3 - Timber Beam Lecture.ipynb',\n",
        " 'Week 4 - Timber Column Lecture.ipynb',\n",
        " 'Week 10 - Reshoring.ipynb',\n",
        " 'Week 2 - Introduction to Wood as a Building Material.ipynb',\n",
        " '.git',\n",
        " 'Week 0 - Greetings.ipynb']"
       ]
      }
     ],
     "prompt_number": 3
    },
    {
     "cell_type": "code",
     "collapsed": false,
     "input": [
      "!ls"
     ],
     "language": "python",
     "metadata": {},
     "outputs": [
      {
       "output_type": "stream",
       "stream": "stdout",
       "text": [
        "fixed_mathjax.tpl\r\n",
        "Intro\r\n",
        "Lecture Audio\r\n",
        "README.md\r\n",
        "Resources.ipynb\r\n",
        "Rubrics and Excel Help.ipynb\r\n",
        "Slide Converter.ipynb\r\n",
        "slides.tpl\r\n",
        "Week 0 - Greetings.ipynb\r\n",
        "Week 0 - Greetings.slides.html\r\n",
        "Week 10 - Reshoring.ipynb\r\n",
        "Week 10 - Reshoring.slides.html\r\n",
        "Week 11 - Scaffolding.ipynb\r\n",
        "Week 11 - Scaffolding.slides.html\r\n",
        "Week 12 - Excavation.ipynb\r\n",
        "Week 12 - Excavation.slides.html\r\n",
        "Week 13 - Equipment.ipynb\r\n",
        "Week 13 - Equipment.slides.html\r\n",
        "Week 1 - Class Introduction.ipynb\r\n",
        "Week 1 - Class Introduction.slides.html\r\n",
        "Week 1 - How to Complete Team and Individual Assignments.ipynb\r\n",
        "Week 1 - How to Complete Team and Individual Assignments.slides.html\r\n",
        "Week 2 - Introduction to Timber NDS.ipynb\r\n",
        "Week 2 - Introduction to Timber NDS.slides.html\r\n",
        "Week 2 - Introduction to Wood as a Building Material.ipynb\r\n",
        "Week 2 - Introduction to Wood as a Building Material.slides.html\r\n",
        "Week 2 - Tributary Width vs Tributary Area.ipynb\r\n",
        "Week 2 - Tributary Width vs Tributary Area.slides.html\r\n",
        "Week 3 - Timber Beam Lecture.ipynb\r\n",
        "Week 3 - Timber Beam Lecture.slides.html\r\n",
        "Week 4 - (Optional) Euler Buckling.ipynb\r\n",
        "Week 4 - (Optional) Euler Buckling.slides.html\r\n",
        "Week 4 - Timber Column Lecture.ipynb\r\n",
        "Week 4 - Timber Column Lecture.slides.html\r\n",
        "Week 5 - Braced Wall (Part - 1 Compression Bracing).ipynb\r\n",
        "Week 5 - Braced Wall (Part - 1 Compression Bracing).slides.html\r\n",
        "Week 5 - Braced Wall (Part - 2 Tension Bracing with Fasteners) .ipynb\r\n",
        "Week 5 - Braced Wall (Part - 2 Tension Bracing with Fasteners) .slides.html\r\n",
        "Week 5 - (Optional) Bracing Stiffness Requirements.ipynb\r\n",
        "Week 5 - (Optional) Bracing Stiffness Requirements.slides.html\r\n",
        "Week 5 - Slab Braces.ipynb\r\n",
        "Week 5 - Slab Braces.slides.html\r\n",
        "Week 6 - Importance of Formwork Safety.ipynb\r\n",
        "Week 6 - Importance of Formwork Safety.slides.html\r\n",
        "Week 6 - (Optional) Span Length Derivations.ipynb\r\n",
        "Week 6 - (Optional) Span Length Derivations.slides.html\r\n",
        "Week 7 - Wall Forms.ipynb\r\n",
        "Week 7 - Wall Forms.slides.html\r\n",
        "Week 7 - Wall Forms - Using Tables.ipynb\r\n",
        "Week 7 - Wall Forms - Using Tables.slides.html\r\n",
        "Week 8 - Column Forms.ipynb\r\n",
        "Week 8 - Column Forms.slides.html\r\n",
        "Week 9 - Slab Forms.ipynb\r\n",
        "Week 9 - Slab Forms.slides.html\r\n",
        "Week 9 - Slab Forms - Using Tables.ipynb\r\n",
        "Week 9 - Slab Forms - Using Tables.slides.html\r\n"
       ]
      }
     ],
     "prompt_number": 6
    },
    {
     "cell_type": "code",
     "collapsed": false,
     "input": [
      "os.system('ls -l > list.txt')"
     ],
     "language": "python",
     "metadata": {},
     "outputs": [
      {
       "metadata": {},
       "output_type": "pyout",
       "prompt_number": 10,
       "text": [
        "0"
       ]
      }
     ],
     "prompt_number": 10
    },
    {
     "cell_type": "code",
     "collapsed": false,
     "input": [],
     "language": "python",
     "metadata": {},
     "outputs": []
    }
   ],
   "metadata": {}
  }
 ]
}