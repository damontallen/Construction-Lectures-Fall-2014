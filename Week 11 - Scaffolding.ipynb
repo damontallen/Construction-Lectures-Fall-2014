{
 "metadata": {
  "celltoolbar": "Slideshow",
  "name": "",
  "signature": "sha256:d1f61eefdc16b2d30b2b9bd9df25718cffd76d7c9a00ab1891dba14cf3d7c852"
 },
 "nbformat": 3,
 "nbformat_minor": 0,
 "worksheets": [
  {
   "cells": [
    {
     "cell_type": "heading",
     "level": 1,
     "metadata": {
      "slideshow": {
       "slide_type": "slide"
      }
     },
     "source": [
      "Scaffold Design"
     ]
    },
    {
     "cell_type": "markdown",
     "metadata": {},
     "source": [
      "<iframe width=\"420\" height=\"315\" src=\"//www.youtube.com/embed/sLTs8r-g0KM\" frameborder=\"0\" allowfullscreen></iframe>"
     ]
    },
    {
     "cell_type": "heading",
     "level": 2,
     "metadata": {
      "slideshow": {
       "slide_type": "slide"
      }
     },
     "source": [
      "What am I going to cover?"
     ]
    },
    {
     "cell_type": "markdown",
     "metadata": {},
     "source": [
      "<audio controls data-autoplay preload>\n",
      " <source src=\"https://github.com/damontallen/Construction-Lectures-Fall-2014/raw/master/Lecture%20Audio/Week%2011/Scaffold%20Design/What%20am%20I%20going%20to%20cover.mp3\"\n",
      "         type='audio/mp3'>\n",
      " <p>Your user agent does not support the HTML5 Audio element or the files are missing.</p>\n",
      "</audio>"
     ]
    },
    {
     "cell_type": "markdown",
     "metadata": {
      "slideshow": {
       "slide_type": "-"
      }
     },
     "source": [
      "You have already covered scaffold safety so you should know how to construct, and operate a safe scaffold.  Therefore, I am not going to cover that.  I am going to cover how to calculate the loads to determine the correct scaffold components when an engineer is not going to be involved."
     ]
    },
    {
     "cell_type": "heading",
     "level": 3,
     "metadata": {
      "slideshow": {
       "slide_type": "-"
      }
     },
     "source": [
      "When is an engineer NOT required?"
     ]
    },
    {
     "cell_type": "markdown",
     "metadata": {},
     "source": [
      "If ALL the following criteria are met:\n",
      "\n",
      "1. The scaffold is NOT designed to be moved with employees on it.\n",
      "2. The scaffold is NOT going to be part of a masons\u2019 multi-point adjustable suspension scaffolds. \n",
      "3. The scaffold is NOT going to carry a cantilevered load.\n",
      "4. The scaffold is NOT going to require specially designed outriggers or other components.\n",
      "5. The scaffold is under the following height restrictions:"
     ]
    },
    {
     "cell_type": "markdown",
     "metadata": {
      "slideshow": {
       "slide_type": "-"
      }
     },
     "source": [
      "<table>\n",
      "<tr><th>Scaffold Type</th><th>Maximum Height</th></tr>\n",
      "<tr>\n",
      "    <td>[Pole](http://www.lifting-platform.com/photo/pl1096324-paint_galvanizing_steel_frame_ring_lock_scaffolding_construction_system_en74b_as1576.jpg) [(1)](http://www.lifting-platform.com/sale-958044-paint-galvanizing-steel-frame-ring-lock-scaffolding-construction-system-en74b-as1576.html) </td>\n",
      "    <td>Up to 60 feet</td>\t\t\n",
      "</tr>\n",
      "<tr>\n",
      "    <td>[Tube and Coupler](http://www.vancouverkitchencabinetpainting.com/wp-content/uploads/2013/03/Ladders-and-Fall-protection_Picture14.gif) [(2)](http://www.vancouverkitchencabinetpainting.com/article/ladder-and-fall-protection-while-painting/scaffolds/) </td>\n",
      "    <td>Up to 125 feet</td>\t\t\n",
      "</tr>\n",
      "<tr>\n",
      "    <td>[Fabricated Frame](https://www.osha.gov/SLTC/etools/scaffolding/images/collage.jpg) [(3)](https://www.osha.gov/SLTC/etools/scaffolding/supported/frame/access.html)</td>\n",
      "    <td>Up to 125 feet above the base plate</td>\t\t\n",
      "</tr>\n",
      "</table>"
     ]
    },
    {
     "cell_type": "markdown",
     "metadata": {
      "slideshow": {
       "slide_type": "-"
      }
     },
     "source": [
      "Note: There are a lot of scaffolds that meet these criteria.  "
     ]
    },
    {
     "cell_type": "heading",
     "level": 2,
     "metadata": {
      "slideshow": {
       "slide_type": "slide"
      }
     },
     "source": [
      "Where to start? (Loads)"
     ]
    },
    {
     "cell_type": "markdown",
     "metadata": {},
     "source": [
      "<audio controls data-autoplay preload>\n",
      " <source src=\"https://github.com/damontallen/Construction-Lectures-Fall-2014/raw/master/Lecture%20Audio/Week%2011/Scaffold%20Design/Where%20to%20start.mp3\"\n",
      "         type='audio/mp3'>\n",
      " <p>Your user agent does not support the HTML5 Audio element or the files are missing.</p>\n",
      "</audio>"
     ]
    },
    {
     "cell_type": "markdown",
     "metadata": {
      "slideshow": {
       "slide_type": "-"
      }
     },
     "source": [
      "Note: This is select information from [ASCE 37-02](http://www.asce.org/Product.aspx?ID=2147487569&ProductID=180246341)\n",
      "\n",
      "* Very Light-Duty Loading\n",
      "    * 20 psf maximum working load\n",
      "    * For access, painting, and maintenance with hand tools\n",
      "    * AKA \u201cInspection scaffold\u201d\n",
      "* Light-Duty Loading\n",
      "    * 25 psf maximum working load\n",
      "    * For light weight construction \n",
      "        * Concrete transport and placement by hose and concrete finishing by hand tools\n",
      "* Medium-Duty Loading\n",
      "    * 50 psf maximum working load\n",
      "    * For supporting people and materials (general construction work)\n",
      "        * Concrete transport and placement by buckets, chutes, or handcarts\n",
      "        * Concrete finishing using motorized screeds\n",
      "        * Masonry construction with tile or hollow lightweight concrete units\n",
      "        * Structural steel erection or concrete reinforcing steel placement\n",
      "    * AKA \u201cBrick layer's scaffold\u201d or \u201cPlasterer's scaffold\u201d\n",
      "        * Do not put a pallet of bricks on it.\n",
      "* Heavy-Duty Loading\n",
      "    * 75 psf maximum working load\n",
      "    * For supporting people and stored material\n",
      "        * Concrete transport and placement using motorized buggies\n",
      "        * Masonry of brick or heavy-weight concrete units\n",
      "        * Material storage\n",
      "    * AKA \u201cStone mason's scaffold\u201d"
     ]
    },
    {
     "cell_type": "heading",
     "level": 2,
     "metadata": {
      "slideshow": {
       "slide_type": "slide"
      }
     },
     "source": [
      "Minimum Concentrated Personnel and Equipment Loads"
     ]
    },
    {
     "cell_type": "markdown",
     "metadata": {},
     "source": [
      "<audio controls data-autoplay preload>\n",
      " <source src=\"https://github.com/damontallen/Construction-Lectures-Fall-2014/raw/master/Lecture%20Audio/Week%2011/Scaffold%20Design/Minimum%20Concentrated%20Personnel%20and%20Equipment%20Loads.mp3\"\n",
      "         type='audio/mp3'>\n",
      " <p>Your user agent does not support the HTML5 Audio element or the files are missing.</p>\n",
      "</audio>"
     ]
    },
    {
     "cell_type": "markdown",
     "metadata": {
      "slideshow": {
       "slide_type": "-"
      }
     },
     "source": [
      "* Workers are assumed to weigh 250 lbs each (200 lb for the person and 50 lb for equipment) and the load is applied over a 12\u201d x 12\u201d area.\n",
      "* Manually powered wheeled vehicle (wheelbarrow) is assumed to weigh 500 lbs, and the load is over an area found by dividing the load by the tire pressure.\n",
      "* Powered wheeled vehicles (concrete buggy) are assumed to weigh 2000 lbs, and the load is over an area found by dividing the load by the tire pressure.\n",
      "\n",
      "Note: if the loads are larger than those shown here, then use the actually load."
     ]
    },
    {
     "cell_type": "heading",
     "level": 2,
     "metadata": {
      "slideshow": {
       "slide_type": "slide"
      }
     },
     "source": [
      "Impact Modification"
     ]
    },
    {
     "cell_type": "markdown",
     "metadata": {},
     "source": [
      "<audio controls data-autoplay preload>\n",
      " <source src=\"https://github.com/damontallen/Construction-Lectures-Fall-2014/raw/master/Lecture%20Audio/Week%2011/Scaffold%20Design/Impact%20Modification.mp3\"\n",
      "         type='audio/mp3'>\n",
      " <p>Your user agent does not support the HTML5 Audio element or the files are missing.</p>\n",
      "</audio>"
     ]
    },
    {
     "cell_type": "markdown",
     "metadata": {
      "slideshow": {
       "slide_type": "-"
      }
     },
     "source": [
      "Reactions should be be increased by 30% to allow for impact, unless other values are recommended by the manufacturer, or are required by the authority having jurisdiction."
     ]
    },
    {
     "cell_type": "heading",
     "level": 2,
     "metadata": {
      "slideshow": {
       "slide_type": "slide"
      }
     },
     "source": [
      "Using Allowable Stress Design (Direct quote from commentary of ASCE 37-02)"
     ]
    },
    {
     "cell_type": "markdown",
     "metadata": {},
     "source": [
      "<audio controls data-autoplay preload>\n",
      " <source src=\"https://github.com/damontallen/Construction-Lectures-Fall-2014/raw/master/Lecture%20Audio/Week%2011/Scaffold%20Design/Using%20Allowable%20Stress%20Design.mp3\"\n",
      "         type='audio/mp3'>\n",
      " <p>Your user agent does not support the HTML5 Audio element or the files are missing.</p>\n",
      "</audio>"
     ]
    },
    {
     "cell_type": "markdown",
     "metadata": {
      "slideshow": {
       "slide_type": "-"
      }
     },
     "source": [
      "OSHA (1977) requires that \u201cscaffolds shall be capable of supporting, without failure, their own weight, and at least four times the maximum intended load.\u201d  ANSI (1989) has a similar requirement.  Allowable stress design ordinarily provides for safety factors somewhat less than 2.  Thus, to satisfy OSHA criteria, the superimposed design loads effectively must be doubled."
     ]
    },
    {
     "cell_type": "heading",
     "level": 2,
     "metadata": {
      "slideshow": {
       "slide_type": "slide"
      }
     },
     "source": [
      "Load Combinations"
     ]
    },
    {
     "cell_type": "markdown",
     "metadata": {},
     "source": [
      "<audio controls data-autoplay preload>\n",
      " <source src=\"https://github.com/damontallen/Construction-Lectures-Fall-2014/raw/master/Lecture%20Audio/Week%2011/Scaffold%20Design/Load%20Combinations.mp3\"\n",
      "         type='audio/mp3'>\n",
      " <p>Your user agent does not support the HTML5 Audio element or the files are missing.</p>\n",
      "</audio>"
     ]
    },
    {
     "cell_type": "markdown",
     "metadata": {
      "slideshow": {
       "slide_type": "-"
      }
     },
     "source": [
      "* D+CD+CFML+CVML\n",
      "* D+CD+CFML+CVML+CP+CH+L\n",
      "* D+CD+CFML+CVML+W+CP+L\n",
      "* etc....\n",
      "\n",
      "Where:\n",
      "\n",
      "* D\t- Dead load\n",
      "* CD\t- Construction dead load\n",
      "* CFML\t- Fixed material load (i.e. formwork)\n",
      "* CVML\t- Variable material load (i.e. fresh concrete)\n",
      "* CP\t- Personnel and equipment load\n",
      "* CH\t- Horizontal construction loads (you might need an engineer)\n",
      "* L\t- Live load\n",
      "* W\t- Wind load (get an engineer if this is needs to be considered)\n",
      "* etc..."
     ]
    },
    {
     "cell_type": "heading",
     "level": 2,
     "metadata": {
      "slideshow": {
       "slide_type": "slide"
      }
     },
     "source": [
      "Putting it all Together"
     ]
    },
    {
     "cell_type": "markdown",
     "metadata": {},
     "source": [
      "<audio controls data-autoplay preload>\n",
      " <source src=\"https://github.com/damontallen/Construction-Lectures-Fall-2014/raw/master/Lecture%20Audio/Week%2011/Scaffold%20Design/Putting%20it%20all%20Together.mp3\"\n",
      "         type='audio/mp3'>\n",
      " <p>Your user agent does not support the HTML5 Audio element or the files are missing.</p>\n",
      "</audio>"
     ]
    },
    {
     "cell_type": "markdown",
     "metadata": {
      "slideshow": {
       "slide_type": "-"
      }
     },
     "source": [
      "Due to the loading requirements for scaffolding, it is always more cost effective to use scaffold planks than regular lumber.  Scaffold planks are typically Laminated Veneer Lumber (LVL), though there are timber planks available.  These timber planks are of a much high grade than you will find at a home improvement store, and are machine certified instead of visual grading.  A new scaffold plank should also be labeled as OSHA compliant.\n",
      "Scaffold suppliers should provide you with information pertaining to the ratings of their products.  Below is an example from Trus Joist &reg; (source: http://www.mccauseylumber.com/3060.pdf)."
     ]
    },
    {
     "cell_type": "markdown",
     "metadata": {
      "slideshow": {
       "slide_type": "-"
      }
     },
     "source": [
      "<a href=\"http://www.mccauseylumber.com/3060.pdf\">\n",
      "<img src=\"http://i.imgur.com/ahwjqpV.png\" alt=\"Span Table\" width = 70% height = 70% border=\"0\">\n",
      "</a>\n",
      "\n",
      "*(Continued below.)*"
     ]
    },
    {
     "cell_type": "markdown",
     "metadata": {
      "slideshow": {
       "slide_type": "slide"
      }
     },
     "source": [
      "<audio controls data-autoplay preload>\n",
      " <source src=\"https://github.com/damontallen/Construction-Lectures-Fall-2014/raw/master/Lecture%20Audio/Week%2011/Scaffold%20Design/Putting%20it%20all%20Together%20continued.mp3\"\n",
      "         type='audio/mp3'>\n",
      " <p>Your user agent does not support the HTML5 Audio element or the files are missing.</p>\n",
      "</audio>"
     ]
    },
    {
     "cell_type": "markdown",
     "metadata": {
      "slideshow": {
       "slide_type": "-"
      }
     },
     "source": [
      "<a href=\"http://www.mccauseylumber.com/3060.pdf\">\n",
      "<img src=\"http://i.imgur.com/EZf5ye6.png\" alt=\"Span Table notes\" width = 70% height = 70% border=\"0\">\n",
      "</a>\n",
      "\n",
      "Once you know what you are going to need the scaffold for (e.g. placing concrete with a hose with two people), you determine the controlling load (personnel controls in this example), then determine the maximum span you can you use  with your scaffold planks.  Alternatively, you use the load information to determine what size planks you will need for your scaffold spans."
     ]
    },
    {
     "cell_type": "heading",
     "level": 2,
     "metadata": {
      "slideshow": {
       "slide_type": "slide"
      }
     },
     "source": [
      "Plank Properties"
     ]
    },
    {
     "cell_type": "markdown",
     "metadata": {},
     "source": [
      "<audio controls data-autoplay preload>\n",
      " <source src=\"https://github.com/damontallen/Construction-Lectures-Fall-2014/raw/master/Lecture%20Audio/Week%2011/Scaffold%20Design/Plank%20Properties.mp3\"\n",
      "         type='audio/mp3'>\n",
      " <p>Your user agent does not support the HTML5 Audio element or the files are missing.</p>\n",
      "</audio>"
     ]
    },
    {
     "cell_type": "markdown",
     "metadata": {
      "slideshow": {
       "slide_type": "-"
      }
     },
     "source": [
      "Once you have the spans determined, you can determine the type of scaffold you can use.  To do that you need to know about the loads; this time including the plank weight.  \n",
      "\n",
      "The physical properties of these scaffold planks are as follows:\n",
      "\n",
      "<a href=\"http://www.mccauseylumber.com/3060.pdf\">\n",
      "<img src=\"http://i.imgur.com/aeV33jr.png\" alt=\"Plank Weights (plf)\" width = 70% height = 70% border=\"0\">\n",
      "</a>\n",
      "\n",
      "*(Optional material below.)*"
     ]
    },
    {
     "cell_type": "markdown",
     "metadata": {
      "slideshow": {
       "slide_type": "subslide"
      }
     },
     "source": [
      "It is unlikely you will need the information below, but I am providing it to you just in case you do.\n",
      "\n",
      "<a href=\"http://www.mccauseylumber.com/3060.pdf\">\n",
      "<img src=\"http://i.imgur.com/CUINDNF.png\" alt=\"Plank Properties\" width = 70% height = 70% border=\"0\">\n",
      "</a>"
     ]
    },
    {
     "cell_type": "heading",
     "level": 2,
     "metadata": {
      "slideshow": {
       "slide_type": "slide"
      }
     },
     "source": [
      "Metal Shoring / Frame Scaffold"
     ]
    },
    {
     "cell_type": "markdown",
     "metadata": {},
     "source": [
      "<audio controls data-autoplay preload>\n",
      " <source src=\"https://github.com/damontallen/Construction-Lectures-Fall-2014/raw/master/Lecture%20Audio/Week%2011/Scaffold%20Design/Metal%20Shoring%20-%20Frame%20Scaffold.mp3\"\n",
      "         type='audio/mp3'>\n",
      " <p>Your user agent does not support the HTML5 Audio element or the files are missing.</p>\n",
      "</audio>"
     ]
    },
    {
     "cell_type": "markdown",
     "metadata": {
      "slideshow": {
       "slide_type": "-"
      }
     },
     "source": [
      "If you are using metal scaffolding, it will have been designed with LRFD, and thus there will not be a need to double the loads from ASCE 37-02. \n",
      "\n",
      "For the scaffold we have been looking at (e.g. two people placing concrete with a hose) we now have to examine the load combinations to determine the maximum.  Assuming you are using 5 foot wide scaffold, which is typical, the loads you need to consider are as follows:\n",
      "\n",
      "* The light duty construction load of 25 psf is equivalent to 125 plf across the span of the scaffold\n",
      "* The two construction workers - 500 lbs\n",
      "* The weight of the planks, 4.8 plf times 5 planks wide is equivalent to 24 plf across the span of the scaffold\n",
      "* The weight of the frames themselves (assume 150 lbs per layer).\n",
      "\n",
      "If the scaffold frames are 7 ft on center (typical for this application) then the loads that should be considered are: \n",
      "\n",
      "* CD \t- Scaffold planks (@ 7ft span is 168 lbs) and frames (allow 150 lbs per layer)\n",
      "* CP \t- Personnel and equipment load (either 500 lb or 125 plf (which @ 7 ft span is 875 lbs))\n",
      "\n",
      "If we only need to go up 10 ft (300 lbs for frames) we can now calculate the load combinations.\n",
      "\n",
      "Load combinations:\n",
      "\n",
      "* $1.4D+1.4CD+1.2CFML+1.4CVML $\n",
      "    * $1.4(168 + 300) = 655.2 lbs$\n",
      "* $1.2D+1.2CD+1.2CFML+1.4CVML+1.6CP+1.6CH+0.5L$\n",
      "    * $1.2(168 + 300) + 1.6(875 \\text{ or } 500 \\text{, whichever is greater}) = 1961.6 lbs$\n",
      "* If wind or earthquake loading need to be considered, use an engineer.\n",
      "\n",
      "(see slide 7 *[or page 2 of a printout]* for variable definitions)\n",
      "\n",
      "For this example we'll be looking at frame capacities from Waco Scaffolding & Equipment &reg;\n",
      "\n",
      "(source: http://wacoscaf.com/pdf/shoring.pdf)"
     ]
    },
    {
     "cell_type": "heading",
     "level": 2,
     "metadata": {
      "slideshow": {
       "slide_type": "slide"
      }
     },
     "source": [
      "Metal Frames"
     ]
    },
    {
     "cell_type": "markdown",
     "metadata": {},
     "source": [
      "<audio controls data-autoplay preload>\n",
      " <source src=\"https://github.com/damontallen/Construction-Lectures-Fall-2014/raw/master/Lecture%20Audio/Week%2011/Scaffold%20Design/Metal%20Frames.mp3\"\n",
      "         type='audio/mp3'>\n",
      " <p>Your user agent does not support the HTML5 Audio element or the files are missing.</p>\n",
      "</audio>"
     ]
    },
    {
     "cell_type": "markdown",
     "metadata": {
      "slideshow": {
       "slide_type": "-"
      }
     },
     "source": [
      "<a href=\"http://wacoscaf.com/pdf/shoring.pdf\"><img src=\"http://i.imgur.com/c604vGS.png\" alt=\"Frame Numbers\" width = 40% height = 40% border=\"0\"></a>\n",
      "\n",
      "\n"
     ]
    },
    {
     "cell_type": "heading",
     "level": 2,
     "metadata": {
      "slideshow": {
       "slide_type": "slide"
      }
     },
     "source": [
      "Frame Capacity Table"
     ]
    },
    {
     "cell_type": "markdown",
     "metadata": {},
     "source": [
      "<audio controls data-autoplay preload>\n",
      " <source src=\"https://github.com/damontallen/Construction-Lectures-Fall-2014/raw/master/Lecture%20Audio/Week%2011/Scaffold%20Design/Frame%20Capacity%20Table.mp3\"\n",
      "         type='audio/mp3'>\n",
      " <p>Your user agent does not support the HTML5 Audio element or the files are missing.</p>\n",
      "</audio>"
     ]
    },
    {
     "cell_type": "markdown",
     "metadata": {
      "slideshow": {
       "slide_type": "-"
      }
     },
     "source": [
      "<a href=\"http://wacoscaf.com/pdf/shoring.pdf\"><img src=\"http://i.imgur.com/jz5Fz0q.png\" alt=\"Frame Capacities\" width = 50% height = 50% border=\"0\"></a>"
     ]
    },
    {
     "cell_type": "markdown",
     "metadata": {
      "slideshow": {
       "slide_type": "-"
      }
     },
     "source": [
      "OSHA requires a factor of safety of four for scaffolding so we will need to adjust our loads up to compensate for Waco's shoring vs. scaffolding lower factor of safety.\n",
      "\n",
      "$$\\frac{1961.6 lbs}{2 \\frac{1}{2}} \\times 4 = 3138.56 lbs$$\n",
      "\n",
      "We can use 5'1\u201d end frames (0155-00) two layers high, and with up to 48\u201d of screw extension if needed, i.e. setting up over stairs."
     ]
    },
    {
     "cell_type": "heading",
     "level": 2,
     "metadata": {
      "slideshow": {
       "slide_type": "slide"
      }
     },
     "source": [
      "Design Summary"
     ]
    },
    {
     "cell_type": "markdown",
     "metadata": {},
     "source": [
      "<audio controls data-autoplay preload>\n",
      " <source src=\"https://github.com/damontallen/Construction-Lectures-Fall-2014/raw/master/Lecture%20Audio/Week%2011/Scaffold%20Design/Design%20Summary.mp3\"\n",
      "         type='audio/mp3'>\n",
      " <p>Your user agent does not support the HTML5 Audio element or the files are missing.</p>\n",
      "</audio>"
     ]
    },
    {
     "cell_type": "markdown",
     "metadata": {
      "slideshow": {
       "slide_type": "-"
      }
     },
     "source": [
      "In summary: A design for a 10 ft tall scaffold needed for two workers to place concrete with a hose follows.\n",
      "\n",
      "Loads:\n",
      "\n",
      "* Personnel loading\n",
      "    * 2 construction workers (250 lb each)\n",
      "    * Light construction load (25 psf)\n",
      "* Construction dead load\n",
      "    * Scaffold planks (4.8 psf)\n",
      "    * Frames (150 lbs for each layer)\n",
      "    \n",
      "Dimensions:\n",
      "\n",
      "* Height \u2013 10 feet\n",
      "* Width \u2013 5 feet\n",
      "* Span \u2013 7 feet\n",
      "\n",
      "Design:\n",
      "\n",
      "* Scaffold planks:\n",
      "    * Two workers control - use 1 \u00bd\u201d x 11 \u00be\u201d planks for conveyance\n",
      "* Frame load combinations:\n",
      "    * $1.4D+1.4CD+1.2CFML+1.4CVML $\n",
      "        * $1.4(168 + 300) = 655.2 lbs$\n",
      "    * $1.2D+1.2CD+1.2CFML+1.4CVML+1.6CP+1.6CH+0.5L$\n",
      "        * $1.2(168 + 300) + 1.6(875 \\text{ or } 500 \\text{, whichever is greater}) = 1961.6 lbs$\n",
      "* Correct Waco's factor of safety (is 2.5 should be 4 for scaffold):\n",
      "    * $\\frac{1961.6 lbs}{2 \\frac{1}{2}} \\times 4 = 3138.56 lbs$\n",
      "* Pick frames that go up 10 ft:\n",
      "    * Use two layers of 5'1\u201d end frames (0155-00) with up to 48\u201d of screw extension.\n",
      "\n",
      "*Note: The factor of safety would not have to be corrected if the frames were being used for shoring instead of scaffolding.  The loading would include the slab, formwork, personnel, and equipment.*"
     ]
    },
    {
     "cell_type": "heading",
     "level": 2,
     "metadata": {
      "slideshow": {
       "slide_type": "slide"
      }
     },
     "source": [
      "References:"
     ]
    },
    {
     "cell_type": "markdown",
     "metadata": {
      "slideshow": {
       "slide_type": "-"
      }
     },
     "source": [
      "[Class website](https://ufl.instructure.com/courses/314024) *(Use this link to if you are taking the course on e-learning.)*\n",
      "\n",
      "[Github.io version of course website](http://damontallen.github.io/Construction-Lectures-Fall-2014/) *(Do not use this link if you are taking this course in Summer A or B.)*\n",
      "\n",
      "[IPython.org](http://ipython.org/) *(IPython is the opensource software used in the development of much of this course.)*\n",
      "\n",
      "[Complete Software List](http://nbviewer.ipython.org/github/damontallen/Construction-Lectures-Fall-2014/blob/master/Resources.ipynb)"
     ]
    },
    {
     "cell_type": "code",
     "collapsed": false,
     "input": [],
     "language": "python",
     "metadata": {
      "slideshow": {
       "slide_type": "skip"
      }
     },
     "outputs": []
    }
   ],
   "metadata": {}
  }
 ]
}