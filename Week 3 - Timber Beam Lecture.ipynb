{
 "metadata": {
  "name": "",
  "signature": "sha256:4cede352224a947488a6444849ed29f48e9a19b6bd3d674fcd4bdacb6a335ba1"
 },
 "nbformat": 3,
 "nbformat_minor": 0,
 "worksheets": [
  {
   "cells": [
    {
     "cell_type": "heading",
     "level": 1,
     "metadata": {
      "slideshow": {
       "slide_type": "slide"
      }
     },
     "source": [
      "Timber Beams"
     ]
    },
    {
     "cell_type": "markdown",
     "metadata": {
      "slideshow": {
       "slide_type": "-"
      }
     },
     "source": [
      "<iframe width=\"420\" height=\"315\" src=\"//www.youtube.com/embed/U56QJoelQVc\" frameborder=\"0\" allowfullscreen></iframe>\n",
      "\n",
      "*(Be aware this lecture may take some time to load due to embedded windows onto external resources.  Since the equations in this lecture are the last to load, they will not look correct until loading has finished.  Depending on your internet connection speed this may take up to a minute.)*"
     ]
    },
    {
     "cell_type": "heading",
     "level": 2,
     "metadata": {
      "slideshow": {
       "slide_type": "slide"
      }
     },
     "source": [
      "Timber Beam Failure Modes"
     ]
    },
    {
     "cell_type": "markdown",
     "metadata": {
      "slideshow": {
       "slide_type": "-"
      }
     },
     "source": [
      "<audio controls data-autoplay preload>\n",
      " <source src=\"https://github.com/damontallen/Construction-Lectures-Fall-2014/raw/master/Lecture%20Audio/Week%203/Timber%20Beam/Timber%20Beam%20Failure%20Modes.mp3\"\n",
      "     type='audio/mp3'>\n",
      " <p>Your user agent does not support the HTML5 Audio element or the files are missing.</p>\n",
      "</audio>"
     ]
    },
    {
     "cell_type": "markdown",
     "metadata": {
      "slideshow": {
       "slide_type": "-"
      }
     },
     "source": [
      "You can see an animation of the three failure modes of a timber beam that we will be checking this semester, shear, bending, and deflection.  ([Source page](http://timber.ce.wsu.edu/Supplements/BeamDesign/defaultpage.asp)). \n",
      "\n",
      "*Note that you may have to right click on the images and select play if the animations do not play in a loop or click on the [source page](http://timber.ce.wsu.edu/Supplements/BeamDesign/defaultpage.asp) if it doesn't load.  Scroll down to see all three beam failure modes.*\n",
      "\n",
      "<iframe src=\"http://timber.ce.wsu.edu/Supplements/BeamDesign/defaultpage.asp\"  style=\"width:610px; height:495px;\"></iframe>\n",
      "\n"
     ]
    },
    {
     "cell_type": "markdown",
     "metadata": {
      "slideshow": {
       "slide_type": "-"
      }
     },
     "source": [
      "Don't know and want to know why the shear stress failure presents as a horizontal crack, read [this](http://fp.optics.arizona.edu/optomech/references/OPTI_222/OPTI_222_W10.pdf).\n",
      "\n",
      "*(Click the blue down arrow to hear a brief description of the failure mode we won't be looking at.)*"
     ]
    },
    {
     "cell_type": "heading",
     "level": 3,
     "metadata": {
      "slideshow": {
       "slide_type": "subslide"
      }
     },
     "source": [
      "Wind Uplift"
     ]
    },
    {
     "cell_type": "markdown",
     "metadata": {
      "slideshow": {
       "slide_type": "-"
      }
     },
     "source": [
      "<audio controls data-autoplay preload>\n",
      " <source src=\"https://github.com/damontallen/Construction-Lectures-Fall-2014/raw/master/Lecture%20Audio/Week%203/Timber%20Beam/Wind%20Uplift.mp3\"\n",
      "     type='audio/mp3'>\n",
      " <p>Your user agent does not support the HTML5 Audio element or the files are missing.</p>\n",
      "</audio>"
     ]
    },
    {
     "cell_type": "markdown",
     "metadata": {
      "slideshow": {
       "slide_type": "-"
      }
     },
     "source": [
      "When a timber beam is loaded in a way such that the compression side of the beam in bending is on the opposite side from the loading, i.e. wind uplift, then we need to check beam stability.  In a steel beam this is know as lateral torsional buckling.  In timber we check this with the $C_L$ adjustment factor. \n",
      "\n",
      "Because we are always loading the beams, in this course, on the same side as the compression, we will not be using $C_L$.  If you want to learn about it I suggest reading through the beam examples in the \"Structural Wood Design Solved Example Problems\" of your wood design package."
     ]
    },
    {
     "cell_type": "heading",
     "level": 2,
     "metadata": {
      "slideshow": {
       "slide_type": "slide"
      }
     },
     "source": [
      "Timber Beam Analysis"
     ]
    },
    {
     "cell_type": "markdown",
     "metadata": {
      "slideshow": {
       "slide_type": "-"
      }
     },
     "source": [
      "<audio controls data-autoplay preload>\n",
      " <source src=\"https://github.com/damontallen/Construction-Lectures-Fall-2014/raw/master/Lecture%20Audio/Week%203/Timber%20Beam/Timber%20Beam%20Analysis.mp3\"\n",
      "     type='audio/mp3'>\n",
      " <p>Your user agent does not support the HTML5 Audio element or the files are missing.</p>\n",
      "</audio>"
     ]
    },
    {
     "cell_type": "markdown",
     "metadata": {
      "slideshow": {
       "slide_type": "-"
      }
     },
     "source": [
      "The process of analyzing a timber beam goes like this.\n",
      "\n",
      "1. Determine the section properties, in Table 1B of the Supplement, based on the cross sectional size of the beam.\n",
      "2. Find out the material properties of the beam based on the species, grade, and size of the beam by looking in either Table 4A, 4B or 4D.\n",
      "3. Apply the adjustment factors to $F_b$, $F_v$, and $E$ to find the allowable stresses.\n",
      "4. Calculate the actual stresses for bending, and shear, and find the actual deflections of the beam.\n",
      "5. Make comparisons between the actual and allowable values.\n",
      "6. Write a summary of your results and conclude if the beam is adequate.\n",
      "\n",
      "\n",
      "In hand solution we will typically go back and forth between steps 3 and 4 looking at the the allowable and actual values for bending, shear, and deflection rather than finding all of the allowable vales then all of the actual values.  In the design process we can stop as soon as we find a failure mode rather than doing additional work.  \n",
      "\n",
      "You should be aware that in this course I will want you to solve all the values regardless if you find a failure mode early on."
     ]
    },
    {
     "cell_type": "markdown",
     "metadata": {
      "slideshow": {
       "slide_type": "-"
      }
     },
     "source": [
      "Let's work through an example to see the whole process."
     ]
    },
    {
     "cell_type": "markdown",
     "metadata": {
      "slideshow": {
       "slide_type": "slide"
      }
     },
     "source": [
      "**Typical Problem Statement:**\n",
      "\n",
      "A 2x10 Douglas Fir-South Grade No.2 beam is used as a floor joist.  The joists span are 10'-6\",\n",
      "and they are spaced 16\" on center.  Wet service conditions prevail.  The deflection\n",
      "limits are L/360 for live load and L/240 for total load. *(This comes from Chapter 16 of the\n",
      "[Floida Building Code](http://www2.iccsafe.org/states/florida_codes/) (FBC).)*\n",
      "The floor is subjected to a uniform dead load of 15 psf and live load of 75 psf.\n",
      "\n",
      "\n",
      "<a href=\"http://i.imgur.com/AM7Die1.png\"><img src=\"http://i.imgur.com/AM7Die1.png\" title=\"Loaded Beam\" alt = \"Loaded Beam\" style = \"max-width:300px; max-height:300px; border:1px solid blue; float:left; margin-right:3px;\"/></a>\n"
     ]
    },
    {
     "cell_type": "markdown",
     "metadata": {
      "slideshow": {
       "slide_type": "-"
      }
     },
     "source": [
      "<audio controls data-autoplay preload>\n",
      " <source src=\"https://github.com/damontallen/Construction-Lectures-Fall-2014/raw/master/Lecture%20Audio/Week%203/Timber%20Beam/Typical%20Problem%20Statement.mp3\"\n",
      "     type='audio/mp3'>\n",
      " <p>Your user agent does not support the HTML5 Audio element or the files are missing.</p>\n",
      "</audio>"
     ]
    },
    {
     "cell_type": "markdown",
     "metadata": {
      "slideshow": {
       "slide_type": "-"
      }
     },
     "source": [
      "Values from problem statement:\n",
      "\n",
      "* $\\text{Span: }$\n",
      "    * $L = 10\\text{' }6\\text{\" }= 10.5 ft$\n",
      "\n",
      "* $\\text{Grade: No.2}$\n",
      "\n",
      "* $\\text{Size: 2x10}$\n",
      "\n",
      "* $\\text{Spacing: }$ \n",
      "    * $s = 16\\text{\" }= 1.333 ft \\text{ (on center)}$\n",
      "\n",
      "* $\\text{Live Load: }$\n",
      "    * $LL = 75 psf$\n",
      "\n",
      "* $\\text{Dead Load: }$\n",
      "    * $DL = 15 psf$\n",
      "\n",
      "* $\\text{Deflection Limits: }$  \n",
      "    * $\\frac{L}{360} \\text{ for Live Load}$\n",
      "    * $\\frac{L}{240} \\text{ for Dead Load}$\n"
     ]
    },
    {
     "cell_type": "markdown",
     "metadata": {
      "slideshow": {
       "slide_type": "-"
      }
     },
     "source": [
      "Note about this course:\n",
      "\n",
      "To be clear, for simplicity reasons, I generally will give you a deflection limit to use so you will not have to look it up.  I often will give you a deflection limit that is more conservative than you you will find in the table but in practice you should look at the construction specifications for the limits you need to use.\n",
      "\n",
      "*(Click on the blue down arrow to see the Florida Building Code Deflection Limits table and notes.)*"
     ]
    },
    {
     "cell_type": "markdown",
     "metadata": {
      "slideshow": {
       "slide_type": "subslide"
      }
     },
     "source": [
      "<a href=\"http://i.imgur.com/HDSPyHh.png\"><img src=\"http://i.imgur.com/HDSPyHh.png\" title=\"FBC: Table 1604.3 Deflection Limits\" style = \"max-width:300px; max-height:300px;  border:1px solid blue; float:left; margin-right:3px;\"/></a>\n"
     ]
    },
    {
     "cell_type": "markdown",
     "metadata": {
      "slideshow": {
       "slide_type": "-"
      }
     },
     "source": [
      "Table 1604.3 Notes:\n",
      "\n",
      "a. For structural roofing and siding made of formed metal sheets, the total load deflection shall not exceed l/60. For secondary roof structural members supporting formed metal roofing, the live load deflection shall not exceed l/150. For secondary wall members supporting formed metal siding, the design wind load deflection shall not exceed l/90. For roofs, this exception only applies when the metal sheets have no roof covering.\n",
      "\n",
      "b. Interior partitions not exceeding 6 feet in height and flexible, folding and portable partitions are not governed by the provisions of this section. The deflection criterion for interior partitions is based on the horizontal load defined in Section 1607.13.\n",
      "\n",
      "c. See Section 2403 for glass supports.\n",
      "\n",
      "d. For wood structural members having a moisture content of less than 16 percent at time of installation and used under dry conditions, the deflection resulting from L + 0.5 D is permitted to be substituted for the deflection resulting from L + D.\n",
      "\n",
      "e. The above deflections do not ensure against ponding. Roofs that do not have sufficient slope or camber to assure adequate drainage shall be investigated for ponding. See Section 1611 for rain and ponding requirements and Section 1503.4 for roof drainage requirements.\n",
      "\n",
      "f. The wind load is permitted to be taken as 0.42 times the \"component and cladding\" loads for the purpose of determining deflection limits herein.\n",
      "\n",
      "g. For steel structural members, the dead load shall be taken as zero.\n",
      "\n",
      "h. For aluminum structural members or aluminum panels used in skylights and sloped glazing framing, roofs or walls of sunroom additions or patio covers, not supporting edge of glass or aluminum sandwich panels, the total load deflection shall not exceed l/60. For continuous aluminum structural members supporting edge of glass, the total load deflection shall not exceed l/175 for each glass lite or l/60 for the entire length of the member, whichever is more stringent. For aluminum sandwich panels used in roofs or walls of sunroom additions or patio covers, the total load deflection shall not exceed l/120.\n",
      "\n",
      "i. For cantilever members, l shall be taken as twice the length of the cantilever.\n",
      "\n",
      "j. Screen surfaces shall be permitted to include a maximum of 25% solid flexible finishes."
     ]
    },
    {
     "cell_type": "heading",
     "level": 3,
     "metadata": {
      "slideshow": {
       "slide_type": "skip"
      }
     },
     "source": [
      "Load Timber_Beam Class:"
     ]
    },
    {
     "cell_type": "code",
     "collapsed": false,
     "input": [
      "%run Beams/Timber_beam_v_02.1.py\n",
      "beam = Timber_Beam()"
     ],
     "language": "python",
     "metadata": {
      "slideshow": {
       "slide_type": "skip"
      }
     },
     "outputs": [
      {
       "output_type": "stream",
       "stream": "stdout",
       "text": [
        "In order to display plots inline in the IPython notebook you must include\n",
        "the following magic command:\n",
        "    %matplotlib inline\n",
        "If you need to display plot you will need to used the following commmand\n",
        "    %matplotlib inline\n",
        "Note: The atribute 'pick_list' is now available_grades (added Jan, 6, 2014)\n",
        "\n",
        "Now using 2015 Timber code by default"
       ]
      },
      {
       "output_type": "stream",
       "stream": "stdout",
       "text": [
        "\n"
       ]
      }
     ],
     "prompt_number": 1
    },
    {
     "cell_type": "heading",
     "level": 2,
     "metadata": {
      "slideshow": {
       "slide_type": "slide"
      }
     },
     "source": [
      "Looking up Additional Beam Properties"
     ]
    },
    {
     "cell_type": "markdown",
     "metadata": {
      "slideshow": {
       "slide_type": "-"
      }
     },
     "source": [
      "<audio controls data-autoplay preload>\n",
      " <source src=\"https://github.com/damontallen/Construction-Lectures-Fall-2014/raw/master/Lecture%20Audio/Week%203/Timber%20Beam/Looking%20up%20Additional%20Beam%20Properties.mp3\"\n",
      "     type='audio/mp3'>\n",
      " <p>Your user agent does not support the HTML5 Audio element or the files are missing.</p>\n",
      "</audio>"
     ]
    },
    {
     "cell_type": "markdown",
     "metadata": {
      "slideshow": {
       "slide_type": "-"
      }
     },
     "source": [
      "Because I did not indicate otherwise in the problem statement we will assume that this is a floor subject to construction loading.  This means that my load duration factor, $C_D = 1.25$.  Note that I will indicate what load duration factor to use by saying \"wind loading\" $(C_D= 1.6)$, \"design for multiple reuses\" or \"assume long term load duration\" $(C_D = 1.0)$.\n",
      "\n",
      "From Table 1B in the [Supplement](http://www.awc.org/pdf/AWC_NDS-2015-Supplement_web-viewonly_1411.pdf) we find:\n",
      "\n",
      "* $\\text{Thickness} = b = 1 \\frac{1}{2}\" = 1.5 \\text{inches} $\n",
      "* $\\text{Width} = d = 9 \\frac{1}{4}\" = 9.25 \\text{inches} $\n",
      "* $\\text{Section Area}=A=13.88 in^2$\n",
      "\n",
      "Because the problem statement did not have any indication that the beam was in the weak orientation, or \"on the flat\", we will assume that it is in the strong orientation.  This means that the bending is occurring about the X-X axis.\n",
      "\n",
      "* $\\text{Section Modulus} = S_{xx} = 21.39 in^3 $\n",
      "* $\\text{Moment of Inertia} = I_{xx} = 98.93 in^4 $\n",
      "\n",
      "In equations I will drop the xx (or yy) subscript, for convenience, making these values $S$ and $I$.  You should also note that if you know the values for $b$ and $d$ you can easily calculate the values for $A$, $S$ and $I$  because all sawn lumber timber sections are rectangular.\n",
      "\n",
      "$$A = b \\times d$$\n",
      "\n",
      "$$S = \\frac{1}{6}\\times b \\times d^2$$\n",
      "\n",
      "$$I = \\frac{1}{12}\\times  b \\times d^3$$\n",
      "\n",
      "(Of course if the beam is on the flat the values for $b$ and $d$ switch in these equations.)"
     ]
    },
    {
     "cell_type": "heading",
     "level": 3,
     "metadata": {
      "slideshow": {
       "slide_type": "skip"
      }
     },
     "source": [
      "Set the Basic Attributes of the Beam:"
     ]
    },
    {
     "cell_type": "code",
     "collapsed": false,
     "input": [
      "beam.C_D = 1.25 #duration factor\n",
      "beam.b = 1.5 #in\n",
      "beam.d = 9.25 #in\n",
      "beam.span = 10.5 #ft\n",
      "beam.C_r_setter(spacing = 16) #in (beam spacing)\n",
      "beam.C_M.use = True #Use wet sevice factor"
     ],
     "language": "python",
     "metadata": {
      "slideshow": {
       "slide_type": "skip"
      }
     },
     "outputs": [],
     "prompt_number": 2
    },
    {
     "cell_type": "heading",
     "level": 3,
     "metadata": {
      "slideshow": {
       "slide_type": "slide"
      }
     },
     "source": [
      "Beam Geometric Properties:"
     ]
    },
    {
     "cell_type": "markdown",
     "metadata": {
      "slideshow": {
       "slide_type": "-"
      }
     },
     "source": [
      "<audio controls data-autoplay preload>\n",
      " <source src=\"https://github.com/damontallen/Construction-Lectures-Fall-2014/raw/master/Lecture%20Audio/Week%203/Timber%20Beam/Beam%20Geometric%20Properties.mp3\"\n",
      "     type='audio/mp3'>\n",
      " <p>Your user agent does not support the HTML5 Audio element or the files are missing.</p>\n",
      "</audio>"
     ]
    },
    {
     "cell_type": "markdown",
     "metadata": {
      "slideshow": {
       "slide_type": "-"
      }
     },
     "source": [
      "In summary the beam geometric values are:"
     ]
    },
    {
     "cell_type": "code",
     "collapsed": false,
     "input": [
      "beam.geometry_latex"
     ],
     "language": "python",
     "metadata": {
      "slideshow": {
       "slide_type": "-"
      }
     },
     "outputs": [
      {
       "latex": [
        "$$b = 1.50\" \\text{, }d = 9.25\" \\text{, }A = 13.88 in^2 \\text{, }S = 21.39 in^3 \\text{, }I = 98.93 in^4 \\text{, }$$ $$L = 10.50'  = 126.00\"$$"
       ],
       "metadata": {},
       "output_type": "pyout",
       "prompt_number": 3,
       "text": [
        "<IPython.core.display.Latex at 0x7fa34972e668>"
       ]
      }
     ],
     "prompt_number": 3
    },
    {
     "cell_type": "heading",
     "level": 2,
     "metadata": {
      "slideshow": {
       "slide_type": "slide"
      }
     },
     "source": [
      "Loads"
     ]
    },
    {
     "cell_type": "markdown",
     "metadata": {
      "slideshow": {
       "slide_type": "-"
      }
     },
     "source": [
      "<audio controls data-autoplay preload>\n",
      " <source src=\"https://github.com/damontallen/Construction-Lectures-Fall-2014/raw/master/Lecture%20Audio/Week%203/Timber%20Beam/Loads.mp3\"\n",
      "     type='audio/mp3'>\n",
      " <p>Your user agent does not support the HTML5 Audio element or the files are missing.</p>\n",
      "</audio>"
     ]
    },
    {
     "cell_type": "markdown",
     "metadata": {
      "slideshow": {
       "slide_type": "-"
      }
     },
     "source": [
      "We know from the problem statement that:\n",
      "\n",
      "* $\\text{Live Load }=LL=75 psf$\n",
      "* $\\text{Dead Load }=DL=15 psf$\n",
      "\n",
      "But they are not in the form we can use them in our beam equations.  Beams are analyzed using line loads not pressure.  We need to use the tributary width to convert these loads to line loads.\n",
      "\n",
      "The tributary width is half the distance from one beam to the next on both sides.  To make sense of this let's make the variable for the spacing from one beam to the next to be lower case $s$.\n",
      "\n",
      "$W_{trib} = \\frac{1}{2} \\times s + \\frac{1}{2} \\times s = s$\n",
      "\n",
      "In our case the spacing is $16\"$, so $W_{trib} = 16\"$.\n",
      "\n",
      "The variable for line loads is usually $w$, and we find $w$ by multiplying the pressure by the tributary width.\n",
      "\n",
      "*(Click the blue down arrow to see the line load calculations.)*"
     ]
    },
    {
     "cell_type": "markdown",
     "metadata": {
      "slideshow": {
       "slide_type": "subslide"
      }
     },
     "source": [
      "<audio controls data-autoplay preload>\n",
      " <source src=\"https://github.com/damontallen/Construction-Lectures-Fall-2014/raw/master/Lecture%20Audio/Week%203/Timber%20Beam/Line%20Load%20Calculations.mp3\"\n",
      "     type='audio/mp3'>\n",
      " <p>Your user agent does not support the HTML5 Audio element or the files are missing.</p>\n",
      "</audio>"
     ]
    },
    {
     "cell_type": "markdown",
     "metadata": {
      "slideshow": {
       "slide_type": "-"
      }
     },
     "source": [
      "For the Live Load:\n",
      "\n",
      "* $w_{live} = LL \\times W_{trib} $\n",
      "* $w_{live} = 75 psf \\times 16\" \\times \\frac{1 ft}{12 in} \\text{ (for the unit conversion)}$\n",
      "* $w_{live} = 100 \\frac{lb}{ft} \\text{ or } 100 plf$\n",
      "\n",
      "and for the Dead Load:\n",
      "\n",
      "* $w_{dead} = DL \\times W_{trib} $\n",
      "* $w_{dead} = 15 psf \\times 16\" \\times \\frac{1 ft}{12 in} $\n",
      "* $w_{dead} = 20 plf$\n",
      "\n",
      "The total line load $w$ is just the super position of the two (just add them): \n",
      "\n",
      "$$w = w_{dead} + w_{live}$$\n",
      "\n",
      "$$w = 20 plf + 100 plf$$\n",
      "\n",
      "$$w = 120 plf$$"
     ]
    },
    {
     "cell_type": "heading",
     "level": 3,
     "metadata": {
      "slideshow": {
       "slide_type": "skip"
      }
     },
     "source": [
      "Set Beam Loads:"
     ]
    },
    {
     "cell_type": "code",
     "collapsed": false,
     "input": [
      "D = 15 #psf - Dead Load\n",
      "L = 6/12*150 #psf - Live Load (concrete slab without workers [an addidtional 50 psf])\n",
      "w_live = L*16/12\n",
      "w_dead = D*16/12\n",
      "w = w_dead+w_live\n",
      "beam.loads=[{\"x0\":0,\"x1\":beam.span,\"w\":w}]\n",
      "beam.u_c_f = 12**3 #in^3 (for deflection calculations)\n",
      "print(\"L = %g psf\"%L)\n",
      "print(\"w_live = %g plf\"%w_live)\n",
      "print(\"w_dead = %g plf\"%w_dead)\n",
      "print(\"w = %g plf\"%w)"
     ],
     "language": "python",
     "metadata": {
      "slideshow": {
       "slide_type": "skip"
      }
     },
     "outputs": [
      {
       "output_type": "stream",
       "stream": "stdout",
       "text": [
        "L = 75 psf\n",
        "w_live = 100 plf\n",
        "w_dead = 20 plf\n",
        "w = 120 plf\n"
       ]
      }
     ],
     "prompt_number": 4
    },
    {
     "cell_type": "heading",
     "level": 3,
     "metadata": {
      "slideshow": {
       "slide_type": "skip"
      }
     },
     "source": [
      "Pick the Species and Grade:"
     ]
    },
    {
     "cell_type": "code",
     "collapsed": false,
     "input": [
      "beam.list_wood()"
     ],
     "language": "python",
     "metadata": {
      "slideshow": {
       "slide_type": "skip"
      }
     },
     "outputs": [
      {
       "output_type": "stream",
       "stream": "stdout",
       "text": [
        "'ALASKA CEDAR'               'ALASKA HEMLOCK'             'ALASKA SPRUCE'             \n",
        "'ALASKA YELLOW CEDAR'        'ASPEN'                      'BALDCYPRESS'               \n",
        "'BEECH-BIRCH-HICKORY'        'COAST SITKA SPRUCE'         'COTTONWOOD'                \n",
        "'DOUGLAS FIR-LARCH'          'DOUGLAS FIR-LARCH (NORTH)'  'DOUGLAS FIR-SOUTH'         \n",
        "'EASTERN HEMLOCK-BALSAM FIR' 'EASTERN HEMLOCK-TAMARACK'   'EASTERN SOFTWOODS'         \n",
        "'EASTERN WHITE PINE'         'HEM-FIR'                    'HEM-FIR (NORTH)'           \n",
        "'MIXED MAPLE'                'MIXED OAK'                  'NORTHERN RED OAK'          \n",
        "'NORTHERN SPECIES'           'NORTHERN WHITE CEDAR'       'RED MAPLE'                 \n",
        "'RED OAK'                    'REDWOOD'                    'SOUTHERN PINE'             \n",
        "'SPRUCE-PINE-FIR'            'SPRUCE-PINE-FIR (SOUTH)'    'WESTERN CEDARS'            \n",
        "'WESTERN WOODS'              'WHITE OAK'                  'YELLOW CEDAR'              \n",
        "'YELLOW POPLAR'              "
       ]
      }
     ],
     "prompt_number": 5
    },
    {
     "cell_type": "code",
     "collapsed": false,
     "input": [
      "beam.species = 'DOUGLAS FIR-SOUTH'"
     ],
     "language": "python",
     "metadata": {
      "slideshow": {
       "slide_type": "skip"
      }
     },
     "outputs": [],
     "prompt_number": 6
    },
    {
     "cell_type": "code",
     "collapsed": false,
     "input": [
      "beam.available_grades"
     ],
     "language": "python",
     "metadata": {
      "slideshow": {
       "slide_type": "skip"
      }
     },
     "outputs": [
      {
       "output_type": "stream",
       "stream": "stdout",
       "text": [
        "['Select Structural', 'No.1', 'No.2', 'No.3', 'Stud', 'Construction', 'Standard', 'Utility']\n"
       ]
      }
     ],
     "prompt_number": 7
    },
    {
     "cell_type": "code",
     "collapsed": false,
     "input": [
      "beam.grade='No.2'"
     ],
     "language": "python",
     "metadata": {
      "slideshow": {
       "slide_type": "skip"
      }
     },
     "outputs": [],
     "prompt_number": 8
    },
    {
     "cell_type": "heading",
     "level": 2,
     "metadata": {
      "slideshow": {
       "slide_type": "slide"
      }
     },
     "source": [
      "Unmodified Stresses from Tables 4A, 4B, or 4D"
     ]
    },
    {
     "cell_type": "markdown",
     "metadata": {
      "slideshow": {
       "slide_type": "-"
      }
     },
     "source": [
      "<audio controls data-autoplay preload>\n",
      " <source src=\"https://github.com/damontallen/Construction-Lectures-Fall-2014/raw/master/Lecture%20Audio/Week%203/Timber%20Beam/Unmodified%20Stresses%20From%20Tables.mp3\"\n",
      "     type='audio/mp3'>\n",
      " <p>Your user agent does not support the HTML5 Audio element or the files are missing.</p>\n",
      "</audio>\n",
      "\n",
      "<strong style=\"color:green\">CHANGE THIS AUDIO</STRONG>\n",
      "\n",
      "* Check **ALL** page numbers"
     ]
    },
    {
     "cell_type": "markdown",
     "metadata": {
      "slideshow": {
       "slide_type": "-"
      }
     },
     "source": [
      "We know that the species of lumber of the beam is Douglas Fir-South and the grade is No.2.  We also know that the beam is $2\"$ thick so what table do you think we should look in?\n",
      "\n",
      "* Table 4A (page 31) Reference Design Values for Visually Graded Dimension Lumber (2\" - 4\" thick)\n",
      "* Table 4B (page 38) Reference Design Values for Visually Graded Southern Pine Dimension Lumber (2\" - 4\" thick)\n",
      "* Table 4D (page 45) Reference Design Values for Visually Graded Timbers (5\" x 5\" and larger)\n",
      "\n",
      "*(Click the light blue down arrow to find out what table we need to use.)*"
     ]
    },
    {
     "cell_type": "markdown",
     "metadata": {
      "slideshow": {
       "slide_type": "fragment"
      }
     },
     "source": [
      "Well the beam is $2\"$ thick, so we don't use Table 4D; it is for members that are $5\" \\times 5\"$ or larger.  \n",
      "\n",
      "The species is not Southern Pine, so we don't use Table 4B.\n",
      "\n",
      "That means we need to look up the unmodified allowable stresses in Table 4A of the [Supplement](http://www.awc.org/pdf/AWC_NDS-2015-Supplement_web-viewonly_1411.pdf)."
     ]
    },
    {
     "cell_type": "heading",
     "level": 3,
     "metadata": {
      "slideshow": {
       "slide_type": "slide"
      }
     },
     "source": [
      "Table 4A Values"
     ]
    },
    {
     "cell_type": "markdown",
     "metadata": {
      "slideshow": {
       "slide_type": "-"
      }
     },
     "source": [
      "<audio controls data-autoplay preload>\n",
      " <source src=\"https://github.com/damontallen/Construction-Lectures-Fall-2014/raw/master/Lecture%20Audio/Week%203/Timber%20Beam/Table%204A%20Values.mp3\"\n",
      "     type='audio/mp3'>\n",
      " <p>Your user agent does not support the HTML5 Audio element or the files are missing.</p>\n",
      "</audio>\n",
      "\n",
      "<strong style=\"color:green\">CHANGE THIS AUDIO</strong>\n",
      "\n",
      "\n",
      "* <strong style=\"color:green\">Check page number</strong>"
     ]
    },
    {
     "cell_type": "markdown",
     "metadata": {
      "slideshow": {
       "slide_type": "-"
      }
     },
     "source": [
      "On page 32 of the in the Supplement we find that,"
     ]
    },
    {
     "cell_type": "code",
     "collapsed": false,
     "input": [
      "beam.unmodified_stresses_latex"
     ],
     "language": "python",
     "metadata": {
      "slideshow": {
       "slide_type": "-"
      }
     },
     "outputs": [
      {
       "latex": [
        "$$\\text{The unmodified stresses for a No.2 grade, Douglas Fir-South, member are:}$$ \n",
        "$${}$$\n",
        " $$F_b = 850 psi\\text{ - for bending}$$\n",
        "$$F_t = 525 psi\\text{ - for axial tension}$$\n",
        "$$F_v = 180 psi\\text{ - for shear}$$\n",
        "$$F_{c \\perp} = 520 psi\\text{ - for crushing (compresion perpendicular to grain)}$$\n",
        "$$F_c = 1350 psi\\text{ - for axial compression (compresion parallel to grain)}$$\n",
        "$$E = 1.2e+06 psi\\text{ - the unadjusted Young's modulus}$$\n",
        "$$E_{min} = 440000 psi\\text{ - unadjusted Young's modulus for column loading analysis}$$"
       ],
       "metadata": {},
       "output_type": "pyout",
       "prompt_number": 9,
       "text": [
        "<IPython.core.display.Latex at 0x7fa326454160>"
       ]
      }
     ],
     "prompt_number": 9
    },
    {
     "cell_type": "heading",
     "level": 2,
     "metadata": {
      "slideshow": {
       "slide_type": "slide"
      }
     },
     "source": [
      "Loading Analysis"
     ]
    },
    {
     "cell_type": "markdown",
     "metadata": {
      "slideshow": {
       "slide_type": "-"
      }
     },
     "source": [
      "<audio controls data-autoplay preload>\n",
      " <source src=\"https://github.com/damontallen/Construction-Lectures-Fall-2014/raw/master/Lecture%20Audio/Week%203/Timber%20Beam/Loading%20Analysis.mp3\"\n",
      "     type='audio/mp3'>\n",
      " <p>Your user agent does not support the HTML5 Audio element or the files are missing.</p>\n",
      "</audio>"
     ]
    },
    {
     "cell_type": "markdown",
     "metadata": {
      "slideshow": {
       "slide_type": "-"
      }
     },
     "source": [
      "For timber beams under a uniform line loading we generally check check bending first since it is the most likely failure mode.  We will then check shear and finally deflection.\n",
      "\n",
      "In this course we are generally only concerned with one load combination; that is the construction total load.  We always will use it for bending and shear and most of the time we will use it for deflection as well.  Since this is or first example it is a more complete example, e.g. we will be checking deflections for the Live Load *and* the Total Load."
     ]
    },
    {
     "cell_type": "heading",
     "level": 3,
     "metadata": {
      "slideshow": {
       "slide_type": "slide"
      }
     },
     "source": [
      "Bending Analysis:"
     ]
    },
    {
     "cell_type": "markdown",
     "metadata": {
      "slideshow": {
       "slide_type": "-"
      }
     },
     "source": [
      "<audio controls data-autoplay preload>\n",
      " <source src=\"https://github.com/damontallen/Construction-Lectures-Fall-2014/raw/master/Lecture%20Audio/Week%203/Timber%20Beam/Bending%20Analysis.mp3\"\n",
      "     type='audio/mp3'>\n",
      " <p>Your user agent does not support the HTML5 Audio element or the files are missing.</p>\n",
      "</audio>"
     ]
    },
    {
     "cell_type": "markdown",
     "metadata": {
      "slideshow": {
       "slide_type": "-"
      }
     },
     "source": [
      "The total uniform line load of our beam $w=120plf$.  For a beam with a uniform line load, the value of the bending moment can be found with the following equation.\n",
      "\n",
      "$$\\text{Moment} = \\frac{\\text{Line Load} \\times (\\text{Beam Span (or Length)})^2}{8}$$\n",
      "\n",
      "$$M = \\frac{w L^2}{8}$$\n",
      "\n",
      "$$M = \\frac{120 plf \\times (10.5 ft)^2}{8}$$\n",
      "\n",
      "so,"
     ]
    },
    {
     "cell_type": "code",
     "collapsed": false,
     "input": [
      "beam.M_latex #in foot pounds"
     ],
     "language": "python",
     "metadata": {
      "slideshow": {
       "slide_type": "-"
      }
     },
     "outputs": [
      {
       "latex": [
        "$$M = 1654 \\text{ ft-lb} = 19840 \\text{ in-lb}$$ \n",
        "$${}$$\n",
        " "
       ],
       "metadata": {},
       "output_type": "pyout",
       "prompt_number": 10,
       "text": [
        "<IPython.core.display.Latex at 0x7fa326454320>"
       ]
      }
     ],
     "prompt_number": 10
    },
    {
     "cell_type": "markdown",
     "metadata": {
      "slideshow": {
       "slide_type": "skip"
      }
     },
     "source": [
      "$$S = \\frac{1}{6}b d^2$$"
     ]
    },
    {
     "cell_type": "heading",
     "level": 4,
     "metadata": {
      "slideshow": {
       "slide_type": "slide"
      }
     },
     "source": [
      "Actual Bending Stress"
     ]
    },
    {
     "cell_type": "markdown",
     "metadata": {
      "slideshow": {
       "slide_type": "-"
      }
     },
     "source": [
      "<audio controls data-autoplay preload>\n",
      " <source src=\"https://github.com/damontallen/Construction-Lectures-Fall-2014/raw/master/Lecture%20Audio/Week%203/Timber%20Beam/Actual%20Bending%20Stress%20pt1.mp3\"\n",
      "     type='audio/mp3'>\n",
      " <p>Your user agent does not support the HTML5 Audio element or the files are missing.</p>\n",
      "</audio>"
     ]
    },
    {
     "cell_type": "markdown",
     "metadata": {
      "slideshow": {
       "slide_type": "-"
      }
     },
     "source": [
      "The actual stresses are denoted using lower case $f$ instead of the upper case $F$ for the allowable stresses.  The allowable bending stress is $F_b'$ so our actual bending stress is $f_b$.  You may recall from your previous classes that the bending moment, \n",
      "\n",
      "$\\text{Moment} = \\text{Maximum Bending Stress} \\times \\text{Section Modulus}$ \n",
      "\n",
      "or,\n",
      "\n",
      "$M = f_b \\times S$ \n",
      "\n",
      "so,\n",
      "\n",
      "$f_b = \\frac{M}{S}$\n",
      "\n",
      "where $f_b$ is the stress at the extreme fibers of the top and bottom surfaces.\n",
      "\n",
      "You may have also seen the relationship written as $\\sigma = \\frac{M \\times c}{I}$ but $S = \\frac{I}{c}$.\n",
      "\n",
      "*(Click the blue down arrow to see our beam's actual bending stress.)*"
     ]
    },
    {
     "cell_type": "markdown",
     "metadata": {
      "slideshow": {
       "slide_type": "subslide"
      }
     },
     "source": [
      "<audio controls data-autoplay preload>\n",
      " <source src=\"https://github.com/damontallen/Construction-Lectures-Fall-2014/raw/master/Lecture%20Audio/Week%203/Timber%20Beam/Actual%20Bending%20Stress%20pt2.mp3\"\n",
      "     type='audio/mp3'>\n",
      " <p>Your user agent does not support the HTML5 Audio element or the files are missing.</p>\n",
      "</audio>\n",
      "\n",
      "<strong style=\"color:green\">CHANGE THIS AUDIO</strong>\n",
      "\n",
      "* <strong style=\"color:green\">Changed 2005 to 2015 - once</strong>\n",
      "* <strong style=\"color:green\">Check page number</strong>"
     ]
    },
    {
     "cell_type": "code",
     "collapsed": false,
     "input": [
      "beam.f_b_latex"
     ],
     "language": "python",
     "metadata": {
      "slideshow": {
       "slide_type": "-"
      }
     },
     "outputs": [
      {
       "latex": [
        "$$f_b = \\frac{M}{S}$$  \n",
        "$${}$$\n",
        " $$f_b = \\frac{1654 ft\\text{-}lb}{21.39 in^3}$$ \n",
        "$${}$$\n",
        " $f_b = 927.7 psi$"
       ],
       "metadata": {},
       "output_type": "pyout",
       "prompt_number": 11,
       "text": [
        "<IPython.core.display.Latex at 0x7fa326454438>"
       ]
      }
     ],
     "prompt_number": 11
    },
    {
     "cell_type": "markdown",
     "metadata": {
      "slideshow": {
       "slide_type": "-"
      }
     },
     "source": [
      "*(Note that this is equation 3.3-1 on page 13 in the 2015 Timber NDS.)*"
     ]
    },
    {
     "cell_type": "heading",
     "level": 4,
     "metadata": {
      "slideshow": {
       "slide_type": "slide"
      }
     },
     "source": [
      "Allowable Stress"
     ]
    },
    {
     "cell_type": "markdown",
     "metadata": {
      "slideshow": {
       "slide_type": "-"
      }
     },
     "source": [
      "<audio controls data-autoplay preload>\n",
      " <source src=\"https://github.com/damontallen/Construction-Lectures-Fall-2014/raw/master/Lecture%20Audio/Week%203/Timber%20Beam/Allowable%20Stress%20pt1.mp3\"\n",
      "     type='audio/mp3'>\n",
      " <p>Your user agent does not support the HTML5 Audio element or the files are missing.</p>\n",
      "</audio>\n",
      "\n",
      "<strong style=\"color:green\">CHANGE THIS AUDIO</strong>\n",
      "\n",
      "* <strong style=\"color:green\">Check page number</strong>"
     ]
    },
    {
     "cell_type": "markdown",
     "metadata": {
      "slideshow": {
       "slide_type": "-"
      }
     },
     "source": [
      "We need to know what adjustment factors we have to apply to $F_b$ to get the allowable bending stress.  These are listed in the NDS Table 4.3.1.  For bending we have: $C_D$, $C_M$, $C_t$, $C_L$, $C_F$, $C_{fu}$, $C_i$, and $C_r$.  Lets look at each of them in turn.\n",
      "\n",
      "$C_D = 1.25$ as was discussed previously because this problem is for construction loading on a temporary structure.\n",
      "\n",
      "$C_M$ is found at the from of the tables where we found $F_b$.  In this case we used Table 4A and on page 30 we see that for a beam loaded in wet service conditions we have a $C_M =0.85$.  But there is the footnote *.  Based on the footnote we need to check to see if $F_b \\times C_F$ is less than 1,150 psi.\n",
      "\n",
      "$C_F$ is found on the same page (since this is not Southern Pine).  We look at the rows with the white background because the grade is No.2; the beam is nominally 10\" wide, and 2\" thick so $C_F = 1.1$\n",
      "\n",
      "$F_b \\times C_F = 850 psi \\times 1.1 = 935 psi$  which is less than 1,150 psi therefore $C_M = 1.0$.\n",
      "\n",
      "Whenever one of the adjustment factors does not apply, then the value you use for it is always one.  In a hand solution you can indicate that the adjustment factor does not apply by drawing a slash through it in the symbolic form of the equation, or if it is one, (look at the example hand solution to see this).\n",
      "\n",
      "$C_t$ is the adjustment factor for high temperature exposure.  You can look that up in Table 2.3.3 of the Timber NDS but in this course none of the timber members will be exposed to high temperatures, so $C_t = 1$.\n",
      "\n",
      "$C_L$ is used only when we have a wind uplift condition in a roof, so... not in this course and $C_L = 1$\n",
      "\n",
      "$C_{fu}$ is for flat use. This is on the same page as $C_M$ but our beam is loaded in the strong direction so $C_{fu}=1$.\n",
      "\n",
      "$C_r$ is the repetitive member factor.  This is also on the same page as $C_M$ and by reading the description of when it is applied we see that our beam is less than 24\" on center, and is connected by a floor to 3 or more members.  (If it is part of a floor that is of any usable size this is always true.)  Since we have met the usage criteria then $C_r = 1.15$.\n",
      "\n",
      "*(Click the blue down arrow to see the Allowable Stress calculations.)*"
     ]
    },
    {
     "cell_type": "markdown",
     "metadata": {
      "slideshow": {
       "slide_type": "subslide"
      }
     },
     "source": [
      "<audio controls data-autoplay preload>\n",
      " <source src=\"https://github.com/damontallen/Construction-Lectures-Fall-2014/raw/master/Lecture%20Audio/Week%203/Timber%20Beam/Allowable%20Stress%20pt2.mp3\"\n",
      "     type='audio/mp3'>\n",
      " <p>Your user agent does not support the HTML5 Audio element or the files are missing.</p>\n",
      "</audio>"
     ]
    },
    {
     "cell_type": "code",
     "collapsed": false,
     "input": [
      "beam.F_b_latex #(allowable)"
     ],
     "language": "python",
     "metadata": {
      "slideshow": {
       "slide_type": "-"
      }
     },
     "outputs": [
      {
       "output_type": "stream",
       "stream": "stderr",
       "text": [
        "/home/damon/Documents/CODE/Programing/Python/IPython Notebook Folders (links)/Temp Structuctures/OnLine Class Files/Construction-Lectures-Fall-2014/Beams/Timber/Moisture.py:30: UserWarning: Warning: Becuase F_b*C_F<=1150 then C_M = 1 for F_b (see note)\n",
        "  warnings.warn(er)\n"
       ]
      },
      {
       "latex": [
        "$$F_b' = F_b \\times C_D \\times C_M \\times C_t \\times C_L \\times C_F \\times C_{fu} \\times C_i \\times C_r$$ \n",
        "$${}$$\n",
        " $$F_b' = 850 psi \\times 1.25 \\times 1 \\times 1 \\times 1.000 \\times 1.1 \\times 1 \\times 1\\times 1.15$$ \n",
        "$${}$$\n",
        " $$F_b' = 1344 psi$$"
       ],
       "metadata": {},
       "output_type": "pyout",
       "prompt_number": 12,
       "text": [
        "<IPython.core.display.Latex at 0x7fa326407a90>"
       ]
      }
     ],
     "prompt_number": 12
    },
    {
     "cell_type": "markdown",
     "metadata": {
      "slideshow": {
       "slide_type": "-"
      }
     },
     "source": [
      "$F_b' = 1344 psi \\geq f_b = 928 psi \\text{ so this beam is GOOD in bending.}$\n",
      "\n",
      "*(You may notice that there is the warning message alerting us to the change in the value of $C_M$.  This is something that I display automatically to check homework solutions.)*"
     ]
    },
    {
     "cell_type": "heading",
     "level": 3,
     "metadata": {
      "slideshow": {
       "slide_type": "slide"
      }
     },
     "source": [
      "Shear Analysis:"
     ]
    },
    {
     "cell_type": "markdown",
     "metadata": {
      "slideshow": {
       "slide_type": "-"
      }
     },
     "source": [
      "<audio controls data-autoplay preload>\n",
      " <source src=\"https://github.com/damontallen/Construction-Lectures-Fall-2014/raw/master/Lecture%20Audio/Week%203/Timber%20Beam/Shear%20Analysis.mp3\"\n",
      "     type='audio/mp3'>\n",
      " <p>Your user agent does not support the HTML5 Audio element or the files are missing.</p>\n",
      "</audio>"
     ]
    },
    {
     "cell_type": "markdown",
     "metadata": {
      "slideshow": {
       "slide_type": "-"
      }
     },
     "source": [
      "For a beam under a uniformly distrubuted line load the maximum shear in the beam can be found using the following equation.\n",
      "\n",
      "$$\\text{Shear} = \\frac{\\text{Line Load} \\times \\text{Beam Span (or Length)}}{2}$$\n",
      "\n",
      "$$V = \\frac{w L}{2}$$\n",
      "\n",
      "Recall that $w=120plf$ and $L = 10.5 ft$.\n",
      "\n",
      "$$V = \\frac{120 plf \\times 10.5 ft}{2}$$\n",
      "\n",
      "so"
     ]
    },
    {
     "cell_type": "code",
     "collapsed": false,
     "input": [
      "beam.V_latex # in pounds"
     ],
     "language": "python",
     "metadata": {
      "slideshow": {
       "slide_type": "-"
      }
     },
     "outputs": [
      {
       "latex": [
        "$$V = 630.0 \\text{ lb}$$ \n",
        "${}$\n"
       ],
       "metadata": {},
       "output_type": "pyout",
       "prompt_number": 13,
       "text": [
        "<IPython.core.display.Latex at 0x7fa326454b70>"
       ]
      }
     ],
     "prompt_number": 13
    },
    {
     "cell_type": "heading",
     "level": 3,
     "metadata": {
      "slideshow": {
       "slide_type": "slide"
      }
     },
     "source": [
      "Actual Stress"
     ]
    },
    {
     "cell_type": "markdown",
     "metadata": {
      "slideshow": {
       "slide_type": "-"
      }
     },
     "source": [
      "<audio controls data-autoplay preload>\n",
      " <source src=\"https://github.com/damontallen/Construction-Lectures-Fall-2014/raw/master/Lecture%20Audio/Week%203/Timber%20Beam/Actual%20Shear%20Stress.mp3\"\n",
      "     type='audio/mp3'>\n",
      " <p>Your user agent does not support the HTML5 Audio element or the files are missing.</p>\n",
      "</audio>"
     ]
    },
    {
     "cell_type": "markdown",
     "metadata": {
      "slideshow": {
       "slide_type": "-"
      }
     },
     "source": [
      "You might remember from previous classes that the maximum shear stress is,\n",
      "\n",
      "$\\text{Shear Stress} = \\frac{3}{2} \\times \\frac{\\text{Shear}}{\\text{Cross Sectional Area}}$\n",
      "\n",
      "$\\text{Shear Stress} = \\frac{3}{2}  \\frac{V}{A}$\n",
      "\n",
      "*(If not you can look at [this](http://fp.optics.arizona.edu/optomech/references/OPTI_222/OPTI_222_W10.pdf) to review.)*\n",
      "\n",
      "Remember that in Timber we use a lower case $f$ to indicate actual stress.  That means for our beam the shear stress is,"
     ]
    },
    {
     "cell_type": "code",
     "collapsed": false,
     "input": [
      "beam.f_v_latex"
     ],
     "language": "python",
     "metadata": {
      "slideshow": {
       "slide_type": "-"
      }
     },
     "outputs": [
      {
       "latex": [
        "$$f_v = \\frac{3}{2}\\frac{V}{A}$$  \n",
        "$${}$$\n",
        " $$f_v = \\frac{3 \\times 630.0 lb}{2 \\times 13.875 in^2}$$ \n",
        "$${}$$\n",
        " $$f_v = 68.11 psi$$"
       ],
       "metadata": {},
       "output_type": "pyout",
       "prompt_number": 14,
       "text": [
        "<IPython.core.display.Latex at 0x7fa326454898>"
       ]
      }
     ],
     "prompt_number": 14
    },
    {
     "cell_type": "markdown",
     "metadata": {
      "slideshow": {
       "slide_type": "-"
      }
     },
     "source": [
      "*(Note that this is equation 3.4-2 in the Timber NDS.)*"
     ]
    },
    {
     "cell_type": "heading",
     "level": 3,
     "metadata": {
      "slideshow": {
       "slide_type": "slide"
      }
     },
     "source": [
      "Allowable Stress"
     ]
    },
    {
     "cell_type": "markdown",
     "metadata": {
      "slideshow": {
       "slide_type": "-"
      }
     },
     "source": [
      "<audio controls data-autoplay preload>\n",
      " <source src=\"https://github.com/damontallen/Construction-Lectures-Fall-2014/raw/master/Lecture%20Audio/Week%203/Timber%20Beam/Allowable%20Shear%20Stress.mp3\"\n",
      "     type='audio/mp3'>\n",
      " <p>Your user agent does not support the HTML5 Audio element or the files are missing.</p>\n",
      "</audio>\n",
      "\n",
      "<strong style=\"color:green\">CHANGE THIS AUDIO</strong>\n",
      "\n",
      "* <strong style=\"color:green\">Check page number</strong>\n",
      "* <strong style=\"color:green\">Also fix final comparison</strong>"
     ]
    },
    {
     "cell_type": "markdown",
     "metadata": {
      "slideshow": {
       "slide_type": "-"
      }
     },
     "source": [
      "Again we refer to Table 4.3.1 to determine the adjustment factors we need to apply to $F_v$ to find the allowable shear stress $F_v'$.\n",
      "\n",
      "We find that we need $C_D$, $C_M$, $C_t$, and $C_i$.\n",
      "\n",
      "$C_D = 1.25$ from before.\n",
      "\n",
      "$C_M$ is found from the adjustment values for Table 4A on page 30 of the [Supplement](http://www.awc.org/pdf/AWC_NDS-2015-Supplement_web-viewonly_1411.pdf).  Since our beam is being used in wet service conditions, $C_M = 0.97$.   \n",
      "\n",
      "$C_t = 1$ for the same reason we previously covered in bending.\n",
      "\n",
      "$C_i$, the incising factor, is found on the same page as Table 4.3.1 of the Timber NDS.  Suffice it to say that $C_i$ is only used if the beam has been incised for pressure treating.  This is not typical and none of the beams in this course will be incised in any way; so $C_i =1$ always.\n",
      "\n",
      "Our beam's allowable shear stress $(F_v')$ is,"
     ]
    },
    {
     "cell_type": "code",
     "collapsed": false,
     "input": [
      "beam.F_v_latex"
     ],
     "language": "python",
     "metadata": {},
     "outputs": [
      {
       "latex": [
        "$$F_v' = F_v \\times C_D \\times C_M \\times C_t \\times C_i$$ \n",
        "$${}$$\n",
        " $$F_v' = 180 psi \\times 1.25 \\times 0.97 \\times 1 \\times 1$$ \n",
        "$${}$$\n",
        " $$F_v' = 218.2 psi$$"
       ],
       "metadata": {},
       "output_type": "pyout",
       "prompt_number": 15,
       "text": [
        "<IPython.core.display.Latex at 0x7fa326454ac8>"
       ]
      }
     ],
     "prompt_number": 15
    },
    {
     "cell_type": "markdown",
     "metadata": {
      "slideshow": {
       "slide_type": "-"
      }
     },
     "source": [
      "$F_v' = 218.2 psi \\geq f_v = 68.11 psi \\text{ so this beam is GOOD in shear.}$\n"
     ]
    },
    {
     "cell_type": "heading",
     "level": 2,
     "metadata": {
      "slideshow": {
       "slide_type": "slide"
      }
     },
     "source": [
      "Deflection Analysis:"
     ]
    },
    {
     "cell_type": "markdown",
     "metadata": {
      "slideshow": {
       "slide_type": "-"
      }
     },
     "source": [
      "<audio controls data-autoplay preload>\n",
      " <source src=\"https://github.com/damontallen/Construction-Lectures-Fall-2014/raw/master/Lecture%20Audio/Week%203/Timber%20Beam/Deflection%20Analysis.mp3\"\n",
      "     type='audio/mp3'>\n",
      " <p>Your user agent does not support the HTML5 Audio element or the files are missing.</p>\n",
      "</audio>\n",
      "\n",
      "<strong style=\"color:green\">CHANGE THIS AUDIO</STRONG>\n",
      "\n",
      "* Check page number"
     ]
    },
    {
     "cell_type": "markdown",
     "metadata": {
      "slideshow": {
       "slide_type": "-"
      }
     },
     "source": [
      "Deflection analysis is done slightly differently from the rest of allowable stress design.  In all of the other checks we are applying the adjustment factors to the allowable stress.  When checking deflection we are modifying the actual deflection by adjusting the allowable Young's modulus (or elastic modulus). \n",
      "\n",
      "Part of the reason for this is that the allowable deflection is specified by the use case and is not an intrinsic property of a beam.\n",
      "\n",
      "Anyway, the adjustment factors for the Young's modulus listed in Table 4.3.1 of the Timber NDS are, $C_M$, $C_t$, $C_i$, and $C_T$.  \n",
      "\n",
      "You will notice that $C_D$ is not listed.  The load duration does not have an effect on the initial deflection of a beam.  The effect of long term loading to a beam's deflection is called creep and is discussed in section 3.5.2 of the NDS but we do not need to concern ourselves with this.\n",
      "\n",
      "$C_M$ is found at the beginning of Table 4A (on page 30) of the [Supplement](http://www.awc.org/pdf/AWC_NDS-2015-Supplement_web-viewonly_1411.pdf) and since our beam is being used in wet service conditions, $C_M = 0.9$ for $E$.\n",
      "\n",
      "$C_t = 1$ as was discussed previously.\n",
      "\n",
      "$C_i = 1$ as was discussed previously.\n",
      "\n",
      "*(Click on the blue down arrow to see the calculation for $E'$.)*"
     ]
    },
    {
     "cell_type": "markdown",
     "metadata": {
      "slideshow": {
       "slide_type": "subslide"
      }
     },
     "source": [
      "<audio controls data-autoplay preload>\n",
      " <source src=\"https://github.com/damontallen/Construction-Lectures-Fall-2014/raw/master/Lecture%20Audio/Week%203/Timber%20Beam/Deflection%20Analysis%20pt2.mp3\"\n",
      "     type='audio/mp3'>\n",
      " <p>Your user agent does not support the HTML5 Audio element or the files are missing.</p>\n",
      "</audio>"
     ]
    },
    {
     "cell_type": "code",
     "collapsed": false,
     "input": [
      "beam.E_latex"
     ],
     "language": "python",
     "metadata": {
      "slideshow": {
       "slide_type": "-"
      }
     },
     "outputs": [
      {
       "latex": [
        "$$E' = E \\times C_M \\times C_t \\times C_i $$ \n",
        "$${}$$\n",
        " $$E' = 1.20E+06 psi \\times 0.9 \\times 1 \\times 1$$ \n",
        "$${}$$\n",
        " $$E' = 1.08E+06 psi$$"
       ],
       "metadata": {},
       "output_type": "pyout",
       "prompt_number": 16,
       "text": [
        "<IPython.core.display.Latex at 0x7fa326454860>"
       ]
      }
     ],
     "prompt_number": 16
    },
    {
     "cell_type": "markdown",
     "metadata": {
      "slideshow": {
       "slide_type": "skip"
      }
     },
     "source": [
      "$$I = \\frac{1}{12} b d^3$$"
     ]
    },
    {
     "cell_type": "heading",
     "level": 3,
     "metadata": {
      "slideshow": {
       "slide_type": "slide"
      }
     },
     "source": [
      "Actual Deflection"
     ]
    },
    {
     "cell_type": "markdown",
     "metadata": {
      "slideshow": {
       "slide_type": "-"
      }
     },
     "source": [
      "<audio controls data-autoplay preload>\n",
      " <source src=\"https://github.com/damontallen/Construction-Lectures-Fall-2014/raw/master/Lecture%20Audio/Week%203/Timber%20Beam/Actual%20Deflection.mp3\"\n",
      "     type='audio/mp3'>\n",
      " <p>Your user agent does not support the HTML5 Audio element or the files are missing.</p>\n",
      "</audio>"
     ]
    },
    {
     "cell_type": "markdown",
     "metadata": {
      "slideshow": {
       "slide_type": "-"
      }
     },
     "source": [
      "The deflection equation for a beam subject to a uniformly distributed line load is,\n",
      "$$\\text{Deflection} = \\Delta = \\frac{5 \\times \\text{Line Load} \\times \\text{(Span Length)}^4}{384 \\times \\text{Allowable Young's Modulus} \\times \\text{Moment of Inertia}}$$\n",
      "\n",
      "or just,\n",
      "\n",
      "$$\\Delta = \\frac{5 \\times w \\times L^4}{384 \\times E' \\times I}$$\n",
      "\n",
      "The equation can also be found on page 4 of the [BEAM DESIGN FORMULAS WITH SHEAR AND MOMENT DIAGRAMS](http://www.awc.org/pdf/DA6-BeamFormulas.pdf), a free pdf download from the American Wood Council.\n",
      "\n",
      "Because the units of $E'$ is in $psi$, $I$ is in $in^4$, $w$ is in $plf$, $L$ is in $ft$ and we want $\\Delta$ to come out inches, we need to apply a unit conversion factor.\n",
      "\n",
      "Let's work one out.\n",
      "\n",
      "*(Click the blue down arrow to see the calculations for the unit conversion factor)*"
     ]
    },
    {
     "cell_type": "markdown",
     "metadata": {
      "slideshow": {
       "slide_type": "subslide"
      }
     },
     "source": [
      "<audio controls data-autoplay preload>\n",
      " <source src=\"https://github.com/damontallen/Construction-Lectures-Fall-2014/raw/master/Lecture%20Audio/Week%203/Timber%20Beam/Unit%20Conversion%20factor.mp3\"\n",
      "     type='audio/mp3'>\n",
      " <p>Your user agent does not support the HTML5 Audio element or the files are missing.</p>\n",
      "</audio>"
     ]
    },
    {
     "cell_type": "markdown",
     "metadata": {
      "slideshow": {
       "slide_type": "-"
      }
     },
     "source": [
      "The unit of deflection are going to be in inches.\n",
      "\n",
      "$$in=\\frac{5 \\times plf \\times ft^4}{384 \\times psi \\times in^4}$$\n",
      " \n",
      "The constants don't mater to the units,\n",
      "\n",
      "$$in=\\frac{plf \\times ft^4}{psi \\times in^4} = \\frac{\\frac{lb}{ft} \\times ft \\times ft^3}{\\frac{lb}{in^2} \\times in^4}$$\n",
      "\n",
      "$$in=\\frac{lb \\times ft^3}{lb \\times in^2} = \\frac{ft^3}{in^2}$$\n",
      "\n",
      "So we need to convert $ft^3$ to $in^3$.\n",
      "\n",
      "$$in=\\frac{ft \\times ft \\times ft}{in^2} \\times \\frac{12 in}{1 ft}\\times \\frac{12 in}{1 ft}\\times \\frac{12 in}{1 ft}$$\n",
      "\n",
      "or \n",
      "\n",
      "$$in=\\frac{ft \\times ft \\times ft}{in^2} \\times \\left(\\frac{12 in}{1 ft}\\right)^3$$\n"
     ]
    },
    {
     "cell_type": "heading",
     "level": 2,
     "metadata": {
      "slideshow": {
       "slide_type": "slide"
      }
     },
     "source": [
      "Live Load Deflections"
     ]
    },
    {
     "cell_type": "markdown",
     "metadata": {
      "slideshow": {
       "slide_type": "-"
      }
     },
     "source": [
      "<audio controls data-autoplay preload>\n",
      " <source src=\"https://github.com/damontallen/Construction-Lectures-Fall-2014/raw/master/Lecture%20Audio/Week%203/Timber%20Beam/Live%20Load%20Deflections.mp3\"\n",
      "     type='audio/mp3'>\n",
      " <p>Your user agent does not support the HTML5 Audio element or the files are missing.</p>\n",
      "</audio>"
     ]
    },
    {
     "cell_type": "code",
     "collapsed": false,
     "input": [
      "beam.loads=[{\"x0\":0,\"x1\":beam.span,\"w\":w_live}]"
     ],
     "language": "python",
     "metadata": {
      "slideshow": {
       "slide_type": "skip"
      }
     },
     "outputs": [],
     "prompt_number": 17
    },
    {
     "cell_type": "markdown",
     "metadata": {
      "slideshow": {
       "slide_type": "-"
      }
     },
     "source": [
      "The value for the line load $(w)$ in the deflection equation for the Live Load is $w_{live} = 100plf$."
     ]
    },
    {
     "cell_type": "code",
     "collapsed": false,
     "input": [
      "beam.deflect_simple_latex"
     ],
     "language": "python",
     "metadata": {
      "slideshow": {
       "slide_type": "-"
      }
     },
     "outputs": [
      {
       "latex": [
        "$$\\Delta =\\frac{5 w L^4}{384 E' I}$$ \n",
        "$${}$$\n",
        " $$\\text{or if the units of }w\\text{ are plf and }L\\text{ is in ft,}$$ \n",
        "$${}$$\n",
        " $$\\Delta =\\frac{5 w L^4}{384 E' I}\\times \\left(\\frac{12\"}{1'}\\right)^3$$ \n",
        "$${}$$\n",
        " $$\\Delta =\\frac{5 \\times 100 plf \\times (10.5 ft)^4}{384 \\times 1080000 psi \\times 98.93 in^4} \\times \\left(\\frac{12\"}{1'}\\right)^3$$ \n",
        "$${}$$\n",
        " $$\\Delta = 0.2560\"$$ $$ $$ $$ $$ $$\\text{Deflections due to Total Load:}$$$$w_{Total} = 100 plf$$$$\\Delta_{\\text{Total}} =\\frac{5 \\times 100 plf \\times (10.5 ft)^4}{384 \\times 1080000 psi \\times 98.93 in^4} \\times \\left(\\frac{12\"}{1'}\\right)^3$$ \n",
        "$${}$$\n",
        " $$\\Delta_{\\text{Total}} = 0.2560\"$$"
       ],
       "metadata": {},
       "output_type": "pyout",
       "prompt_number": 18,
       "text": [
        "<IPython.core.display.Latex at 0x7fa3263a7e80>"
       ]
      }
     ],
     "prompt_number": 18
    },
    {
     "cell_type": "markdown",
     "metadata": {
      "slideshow": {
       "slide_type": "-"
      }
     },
     "source": [
      "*(Click the blue down arrow to see the allowable Live Load deflections.)*"
     ]
    },
    {
     "cell_type": "heading",
     "level": 3,
     "metadata": {
      "slideshow": {
       "slide_type": "subslide"
      }
     },
     "source": [
      "Allowable Live Load Deflection"
     ]
    },
    {
     "cell_type": "markdown",
     "metadata": {
      "slideshow": {
       "slide_type": "-"
      }
     },
     "source": [
      "<audio controls data-autoplay preload>\n",
      " <source src=\"https://github.com/damontallen/Construction-Lectures-Fall-2014/raw/master/Lecture%20Audio/Week%203/Timber%20Beam/Allowable%20%20Live%20Load%20Deflections.mp3\"\n",
      "     type='audio/mp3'>\n",
      " <p>Your user agent does not support the HTML5 Audio element or the files are missing.</p>\n",
      "</audio>"
     ]
    },
    {
     "cell_type": "markdown",
     "metadata": {
      "slideshow": {
       "slide_type": "-"
      }
     },
     "source": [
      "Since the Allowable deflection for Live load only is $\\frac{L}{360}$ for a floor member,"
     ]
    },
    {
     "cell_type": "code",
     "collapsed": false,
     "input": [
      "beam.deflect_allow(1/360)"
     ],
     "language": "python",
     "metadata": {
      "slideshow": {
       "slide_type": "-"
      }
     },
     "outputs": [
      {
       "latex": [
        "$$\\Delta_{allowed} = \\frac{L}{360}$$ \n",
        "$${}$$\n",
        " $$\\Delta_{allowed} = \\frac{10.5 ft}{360}\\times\\frac{12 in}{1 ft} $$ \n",
        "$${}$$\n",
        " $$\\Delta_{allowed} = 0.3500\"$$"
       ],
       "metadata": {},
       "output_type": "pyout",
       "prompt_number": 19,
       "text": [
        "<IPython.core.display.Latex at 0x7fa3262b7e10>"
       ]
      }
     ],
     "prompt_number": 19
    },
    {
     "cell_type": "markdown",
     "metadata": {
      "slideshow": {
       "slide_type": "-"
      }
     },
     "source": [
      "$\\Delta_{allowed} = 0.35\" \\geq \\Delta_{live} = 0.256\\text{\"}$ $\\text{the beam is GOOD for Live Load Deflection.}$"
     ]
    },
    {
     "cell_type": "heading",
     "level": 2,
     "metadata": {
      "slideshow": {
       "slide_type": "slide"
      }
     },
     "source": [
      "Total Load Deflection "
     ]
    },
    {
     "cell_type": "markdown",
     "metadata": {
      "slideshow": {
       "slide_type": "-"
      }
     },
     "source": [
      "<audio controls data-autoplay preload>\n",
      " <source src=\"https://github.com/damontallen/Construction-Lectures-Fall-2014/raw/master/Lecture%20Audio/Week%203/Timber%20Beam/Total%20Load%20Deflection.mp3\"\n",
      "     type='audio/mp3'>\n",
      " <p>Your user agent does not support the HTML5 Audio element or the files are missing.</p>\n",
      "</audio>"
     ]
    },
    {
     "cell_type": "code",
     "collapsed": false,
     "input": [
      "beam.loads=[{\"x0\":0,\"x1\":beam.span,\"w\":w}]"
     ],
     "language": "python",
     "metadata": {
      "slideshow": {
       "slide_type": "skip"
      }
     },
     "outputs": [],
     "prompt_number": 20
    },
    {
     "cell_type": "markdown",
     "metadata": {
      "slideshow": {
       "slide_type": "-"
      }
     },
     "source": [
      "The value for the line load $(w)$ in the deflection equation for the Total Load is $w = 120plf$."
     ]
    },
    {
     "cell_type": "code",
     "collapsed": false,
     "input": [
      "beam.deflect_simple_latex"
     ],
     "language": "python",
     "metadata": {
      "slideshow": {
       "slide_type": "-"
      }
     },
     "outputs": [
      {
       "latex": [
        "$$\\Delta =\\frac{5 w L^4}{384 E' I}$$ \n",
        "$${}$$\n",
        " $$\\text{or if the units of }w\\text{ are plf and }L\\text{ is in ft,}$$ \n",
        "$${}$$\n",
        " $$\\Delta =\\frac{5 w L^4}{384 E' I}\\times \\left(\\frac{12\"}{1'}\\right)^3$$ \n",
        "$${}$$\n",
        " $$\\Delta =\\frac{5 \\times 120 plf \\times (10.5 ft)^4}{384 \\times 1080000 psi \\times 98.93 in^4} \\times \\left(\\frac{12\"}{1'}\\right)^3$$ \n",
        "$${}$$\n",
        " $$\\Delta = 0.3072\"$$ $$ $$ $$ $$ $$\\text{Deflections due to Total Load:}$$$$w_{Total} = 120 plf$$$$\\Delta_{\\text{Total}} =\\frac{5 \\times 120 plf \\times (10.5 ft)^4}{384 \\times 1080000 psi \\times 98.93 in^4} \\times \\left(\\frac{12\"}{1'}\\right)^3$$ \n",
        "$${}$$\n",
        " $$\\Delta_{\\text{Total}} = 0.3072\"$$"
       ],
       "metadata": {},
       "output_type": "pyout",
       "prompt_number": 21,
       "text": [
        "<IPython.core.display.Latex at 0x7fa326368a90>"
       ]
      }
     ],
     "prompt_number": 21
    },
    {
     "cell_type": "markdown",
     "metadata": {
      "slideshow": {
       "slide_type": "-"
      }
     },
     "source": [
      "*(Click the blue down arrow to see the allowable Total Load deflections.)*"
     ]
    },
    {
     "cell_type": "heading",
     "level": 3,
     "metadata": {
      "slideshow": {
       "slide_type": "subslide"
      }
     },
     "source": [
      "Allowable Total Load Deflection"
     ]
    },
    {
     "cell_type": "markdown",
     "metadata": {
      "slideshow": {
       "slide_type": "-"
      }
     },
     "source": [
      "<audio controls data-autoplay preload>\n",
      " <source src=\"https://github.com/damontallen/Construction-Lectures-Fall-2014/raw/master/Lecture%20Audio/Week%203/Timber%20Beam/Allowable%20%20Total%20Load%20Deflections.mp3\"\n",
      "     type='audio/mp3'>\n",
      " <p>Your user agent does not support the HTML5 Audio element or the files are missing.</p>\n",
      "</audio>\n",
      "\n",
      "<strong style=\"color:green\">Changed Allowed Value! Fix Audio!</strong>"
     ]
    },
    {
     "cell_type": "markdown",
     "metadata": {
      "slideshow": {
       "slide_type": "-"
      }
     },
     "source": [
      "Since the Allowable deflection for Total load is $\\frac{L}{240}$ for a floor member,"
     ]
    },
    {
     "cell_type": "code",
     "collapsed": false,
     "input": [
      "beam.deflect_allow(1/240)"
     ],
     "language": "python",
     "metadata": {
      "slideshow": {
       "slide_type": "-"
      }
     },
     "outputs": [
      {
       "latex": [
        "$$\\Delta_{allowed} = \\frac{L}{240}$$ \n",
        "$${}$$\n",
        " $$\\Delta_{allowed} = \\frac{10.5 ft}{240}\\times\\frac{12 in}{1 ft} $$ \n",
        "$${}$$\n",
        " $$\\Delta_{allowed} = 0.5250\"$$"
       ],
       "metadata": {},
       "output_type": "pyout",
       "prompt_number": 22,
       "text": [
        "<IPython.core.display.Latex at 0x7fa3262d8ac8>"
       ]
      }
     ],
     "prompt_number": 22
    },
    {
     "cell_type": "markdown",
     "metadata": {
      "slideshow": {
       "slide_type": "-"
      }
     },
     "source": [
      "$\\Delta_{allowed} = 0.525\" \\geq \\Delta_{total} = 0.307\\text{\"}$ $\\text{the beam is GOOD for Total Load Deflection.}$"
     ]
    },
    {
     "cell_type": "heading",
     "level": 2,
     "metadata": {
      "slideshow": {
       "slide_type": "slide"
      }
     },
     "source": [
      "Analysis Summary"
     ]
    },
    {
     "cell_type": "markdown",
     "metadata": {
      "slideshow": {
       "slide_type": "-"
      }
     },
     "source": [
      "<audio controls data-autoplay preload>\n",
      " <source src=\"https://github.com/damontallen/Construction-Lectures-Fall-2014/raw/master/Lecture%20Audio/Week%203/Timber%20Beam/Analysis%20Summary.mp3\"\n",
      "     type='audio/mp3'>\n",
      " <p>Your user agent does not support the HTML5 Audio element or the files are missing.</p>\n",
      "</audio>\n",
      "\n",
      "<strong style=\"color:green\">Changed Total Allowed Value! Fix Audio!</strong>"
     ]
    },
    {
     "cell_type": "markdown",
     "metadata": {
      "slideshow": {
       "slide_type": "-"
      }
     },
     "source": [
      "An analysis of a 2x10 Douglas Fir-South Grade No.2 beam, used as a floor joist with a span of 10'-6\",\n",
      "spaced 16\" on center, in wet service conditions, with a Live Load deflection limit of\n",
      "L/360 and a Total Load deflection limit of L/240, yields these results.\n",
      "\n",
      "$F_b' = 1344 psi \\geq f_b = 928 psi \\text{ so this beam is GOOD in bending.}$\n",
      "\n",
      "$F_v' = 218 psi \\geq f_v = 68 psi \\text{ so this beam is GOOD in shear.}$\n",
      "\n",
      "$\\Delta_{\\text{live allowed}} = 0.35\" \\geq \\Delta_{live} = 0.256\\text{\" }$ \n",
      "$\\text{the beam is GOOD for Live Load Deflection.}$\n",
      "\n",
      "$\\Delta_{\\text{total allowed}} = 0.525\" \\geq \\Delta_{total} = 0.307\\text{\" }$ \n",
      "$\\text{the beam is GOOD for Total Load Deflection.}$\n",
      "\n",
      "Therefore this beam is adequate for these loading conditions."
     ]
    },
    {
     "cell_type": "heading",
     "level": 2,
     "metadata": {
      "slideshow": {
       "slide_type": "slide"
      }
     },
     "source": [
      "References:"
     ]
    },
    {
     "cell_type": "markdown",
     "metadata": {
      "slideshow": {
       "slide_type": "-"
      }
     },
     "source": [
      "[Class website](https://ufl.instructure.com/courses/308516) *(Use this link to if you are taking the course on e-learning.)*\n",
      "\n",
      "[Github.io version of course website](http://damontallen.github.io/Construction-Lectures-Fall-2014/) *(Do not use this link if you are taking this course in Summer A or B.)*\n",
      "\n",
      "[IPython.org](http://ipython.org/) *(IPython is the opensource software used in the development of much of this course.)*\n",
      "\n",
      "[Complete Software List](http://nbviewer.ipython.org/github/damontallen/Construction-Lectures-Fall-2014/blob/master/Resources.ipynb)"
     ]
    },
    {
     "cell_type": "markdown",
     "metadata": {
      "slideshow": {
       "slide_type": "skip"
      }
     },
     "source": [
      "CSS stylesheet\n",
      "\n",
      "<head>\n",
      "<style>\n",
      "important {font:italic bold 16px arial;}\n",
      ".missing {color:Red}\n",
      "fragment {color:LightBlue;}\n",
      "subslide {color:DarkBlue;}\n",
      "\n",
      ".rgt {float:right;}\n",
      "\n",
      ".lt {float:left;}\n",
      "\n",
      ".cnt {text-align:center; vertical-align:text-top;}\n",
      "\n",
      ".box { border:1px solid blue; float:left; margin-right:3px;}\n",
      "\n",
      ".max {max-width:300px; max-height:300px;}\n",
      "\n",
      ".fix {max-height:200px; max-width:200px;}\n",
      "\n",
      ".narb { width:54em; word-wrap: break-word; }\n",
      "\n",
      ".nar_cell { width:16em; word-wrap: break-word; }\n",
      "\n",
      "\n",
      "\n",
      "table \n",
      "{\n",
      "width:85%;\n",
      "\n",
      "}\n",
      "\n",
      "\n",
      "\n",
      "</style>\n",
      "</head>\n",
      "\n",
      "    /* class = \"max box\" for img tags\n",
      "    \n",
      "    <audio controls data-autoplay preload>\n",
      "     <source src=\"https://github.com/damontallen/Construction-Lectures-Fall-2014/raw/master/Intro/FILE%20NAME.mp3\"\n",
      "         type='audio/mp3'>\n",
      "     <p><strong>Your user agent does not support the HTML5 Audio element or the files are missing.</strong></p>\n",
      "    </audio><a></a>\n",
      "    \n",
      "    */\n",
      "    class = \"max box\" == style=\"max-width:300px; max-height:300px; border:1px solid blue; float:left; margin-right:3px;\""
     ]
    }
   ],
   "metadata": {}
  }
 ]
}