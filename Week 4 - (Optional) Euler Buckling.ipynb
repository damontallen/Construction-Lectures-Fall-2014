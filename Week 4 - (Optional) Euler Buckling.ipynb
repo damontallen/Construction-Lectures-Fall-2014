{
 "metadata": {
  "name": "",
  "signature": "sha256:b72b94f11100054eb36f3f6425e3380102d4e56c58db949d525795ac79669196"
 },
 "nbformat": 3,
 "nbformat_minor": 0,
 "worksheets": [
  {
   "cells": [
    {
     "cell_type": "heading",
     "level": 1,
     "metadata": {
      "slideshow": {
       "slide_type": "slide"
      }
     },
     "source": [
      "Euler Buckling"
     ]
    },
    {
     "cell_type": "markdown",
     "metadata": {
      "slideshow": {
       "slide_type": "-"
      }
     },
     "source": [
      "<iframe width=\"420\" height=\"315\" src=\"//www.youtube.com/embed/LgluyEbD5tY\" frameborder=\"0\" allowfullscreen></iframe>"
     ]
    },
    {
     "cell_type": "heading",
     "level": 2,
     "metadata": {
      "slideshow": {
       "slide_type": "slide"
      }
     },
     "source": [
      "Derivation"
     ]
    },
    {
     "cell_type": "markdown",
     "metadata": {
      "slideshow": {
       "slide_type": "-"
      }
     },
     "source": [
      "<audio controls data-autoplay preload>\n",
      " <source src=\"https://github.com/damontallen/Construction-Lectures/raw/master/Lecture%20Audio/Week%204/Euler%20Buckling/Derivation.mp3\"\n",
      "     type='audio/mp3'>\n",
      " <p>Your user agent does not support the HTML5 Audio element or the files are missing.</p>\n",
      "</audio>"
     ]
    },
    {
     "cell_type": "markdown",
     "metadata": {
      "slideshow": {
       "slide_type": "-"
      }
     },
     "source": [
      "In 1759 the mathematician Leonhard Euler proved that buckling will occur in a column even when it is perfectly straight once the critical buckling load has been reached."
     ]
    },
    {
     "cell_type": "markdown",
     "metadata": {
      "slideshow": {
       "slide_type": "-"
      }
     },
     "source": [
      "<a></a>\n",
      "\n",
      "<a href=\"http://i.imgur.com/Y3NzESM.png\"><img src=\"http://i.imgur.com/Y3NzESM.png\" title=\"Loaded Column\" alt = \"Loaded Column\" style = \"max-width:300px; max-height:300px; border:1px solid blue; float:left; margin-right:50px;\"/></a>\n",
      "\n",
      "\n",
      "<a href=\"http://i.imgur.com/sC5DnAe.png\"><img src=\"http://i.imgur.com/sC5DnAe.png\" title=\"Buckled Column\" alt = \"Buckled Column\" style = \"max-width:300px; max-height:300px; border:1px solid blue; float:left; margin-right:3px;\"/></a>\n"
     ]
    },
    {
     "cell_type": "markdown",
     "metadata": {
      "slideshow": {
       "slide_type": "-"
      }
     },
     "source": [
      "*(Click the blue down arrow for structural symbol review or the right arrow to continue.)*"
     ]
    },
    {
     "cell_type": "markdown",
     "metadata": {
      "slideshow": {
       "slide_type": "subslide"
      }
     },
     "source": [
      "<audio controls data-autoplay preload>\n",
      " <source src=\"https://github.com/damontallen/Construction-Lectures/raw/master/Lecture%20Audio/Week%204/Euler%20Buckling/Symbol%20Review.mp3\"\n",
      "     type='audio/mp3'>\n",
      " <p>Your user agent does not support the HTML5 Audio element or the files are missing.</p>\n",
      "</audio>"
     ]
    },
    {
     "cell_type": "markdown",
     "metadata": {
      "slideshow": {
       "slide_type": "-"
      }
     },
     "source": [
      "For those proofreaders or students that have forgotten their idealized structural symbols, you can review the appropriate material [here (pdf)](http://www.sut.ac.th/engineering/civil/courseonline/430331/pdf/02_determinate_structures.pdf) and [here (MIT website)](http://web.mit.edu/4.441/1_lectures/1_lecture13/1_lecture13.html).  You only need to look at pinned end connection, roller connections and notice that beams and columns are just indicated as lines."
     ]
    },
    {
     "cell_type": "markdown",
     "metadata": {
      "slideshow": {
       "slide_type": "-"
      }
     },
     "source": [
      "A little more about buckling can be found [here](http://en.wikipedia.org/wiki/Structural_engineering_theory#Buckling)."
     ]
    },
    {
     "cell_type": "markdown",
     "metadata": {
      "slideshow": {
       "slide_type": "slide"
      }
     },
     "source": [
      "<audio controls data-autoplay preload>\n",
      " <source src=\"https://github.com/damontallen/Construction-Lectures/raw/master/Lecture%20Audio/Week%204/Euler%20Buckling/Column%20on%20side.mp3\"\n",
      "     type='audio/mp3'>\n",
      " <p>Your user agent does not support the HTML5 Audio element or the files are missing.</p>\n",
      "</audio>"
     ]
    },
    {
     "cell_type": "markdown",
     "metadata": {
      "slideshow": {
       "slide_type": "-"
      }
     },
     "source": [
      "I am going to go through a simplified derivation to show what the critical buckling load is. \n",
      "\n",
      "First, drawing a column vertically takes up a lot of room so let's work with it on its side.  We will neglect the effect of gravity since the beam is supposed to be a column."
     ]
    },
    {
     "cell_type": "markdown",
     "metadata": {
      "slideshow": {
       "slide_type": "-"
      }
     },
     "source": [
      "<a href=\"http://i.imgur.com/7vfcz7M.png\"><img src=\"http://i.imgur.com/7vfcz7M.png\" title=\"Loaded Column\" alt = \"Loaded Column\" style = \"max-width:300px; max-height:300px; border:1px solid blue;  margin-right:3px;\"/></a>\n",
      "\n",
      "<a href=\"http://i.imgur.com/uGIR1IT.png\"><img src=\"http://i.imgur.com/uGIR1IT.png\" title=\"Buckled Column\" alt = \"Buckled Column\" style = \"max-width:300px; max-height:300px; border:1px solid blue;  margin-right:3px;\"/></a>\n"
     ]
    },
    {
     "cell_type": "markdown",
     "metadata": {
      "slideshow": {
       "slide_type": "slide"
      }
     },
     "source": [
      "<audio controls data-autoplay preload>\n",
      " <source src=\"https://github.com/damontallen/Construction-Lectures/raw/master/Lecture%20Audio/Week%204/Euler%20Buckling/Offset%20Loads.mp3\"\n",
      "     type='audio/mp3'>\n",
      " <p>Your user agent does not support the HTML5 Audio element or the files are missing.</p>\n",
      "</audio>"
     ]
    },
    {
     "cell_type": "markdown",
     "metadata": {
      "slideshow": {
       "slide_type": "-"
      }
     },
     "source": [
      "To start with we need to cut the beam in half to look at the internal loading."
     ]
    },
    {
     "cell_type": "markdown",
     "metadata": {
      "slideshow": {
       "slide_type": "-"
      }
     },
     "source": [
      "<a href=\"http://i.imgur.com/2FG544i.png\"><img src=\"http://i.imgur.com/2FG544i.png\" title=\"Half of the Buckled Column\" alt = \"Half of the Buckled Column\" style = \"max-width:300px; max-height:300px; border:1px solid blue;  margin-right:3px;\"/></a>\n"
     ]
    },
    {
     "cell_type": "markdown",
     "metadata": {
      "slideshow": {
       "slide_type": "-"
      }
     },
     "source": [
      "Because the internal moment must resist the rotation caused by the offset axial load force pair (P critical) the moment equals,\n",
      "\n",
      "$$M = -P_{cr} y$$"
     ]
    },
    {
     "cell_type": "markdown",
     "metadata": {
      "slideshow": {
       "slide_type": "slide"
      }
     },
     "source": [
      "<audio controls data-autoplay preload>\n",
      " <source src=\"https://github.com/damontallen/Construction-Lectures/raw/master/Lecture%20Audio/Week%204/Euler%20Buckling/Euler%20Beam%20Equation.mp3\"\n",
      "     type='audio/mp3'>\n",
      " <p>Your user agent does not support the HTML5 Audio element or the files are missing.</p>\n",
      "</audio>"
     ]
    },
    {
     "cell_type": "markdown",
     "metadata": {
      "slideshow": {
       "slide_type": "-"
      }
     },
     "source": [
      "Using the [Euler beam equation](http://en.wikipedia.org/wiki/Structural_engineering_theory#The_Euler-Bernoulli_beam_equation),\n",
      "\n",
      "$$E I \\frac{d^4y}{dx^4} = w(x)$$\n",
      "\n",
      "We can show that,\n",
      "\n",
      "$$E I \\frac{d^2y}{dx^2} = M(x)$$\n",
      "\n",
      "or in our case,\n",
      "\n",
      "$$M = E I \\frac{d^2y}{dx^2}$$"
     ]
    },
    {
     "cell_type": "markdown",
     "metadata": {
      "slideshow": {
       "slide_type": "slide"
      }
     },
     "source": [
      "<audio controls data-autoplay preload>\n",
      " <source src=\"https://github.com/damontallen/Construction-Lectures/raw/master/Lecture%20Audio/Week%204/Euler%20Buckling/Second%20order%20DE.mp3\"\n",
      "     type='audio/mp3'>\n",
      " <p>Your user agent does not support the HTML5 Audio element or the files are missing.</p>\n",
      "</audio>"
     ]
    },
    {
     "cell_type": "markdown",
     "metadata": {
      "slideshow": {
       "slide_type": "-"
      }
     },
     "source": [
      "With some substitution we get,\n",
      "\n",
      "$$E I \\frac{d^2y}{dx^2} = -P_{cr} y$$\n",
      "\n",
      "or,\n",
      "\n",
      "$$E I \\frac{d^2y}{dx^2} + P_{cr} y = 0$$\n",
      "\n",
      "Dividing through by $E I$\n",
      "\n",
      "$$\\frac{d^2y}{dx^2} + \\frac{P_{cr} y}{E I} = 0$$\n",
      "\n",
      "This is an [ordinary second order differential equation](http://en.wikipedia.org/wiki/Ordinary_differential_equation#Summary_of_exact_solutions) and one form of the general solution is,\n",
      "\n",
      "$$y = A \\sin(k x) + B \\cos(k x)$$"
     ]
    },
    {
     "cell_type": "markdown",
     "metadata": {
      "slideshow": {
       "slide_type": "slide"
      }
     },
     "source": [
      "<audio controls data-autoplay preload>\n",
      " <source src=\"https://github.com/damontallen/Construction-Lectures/raw/master/Lecture%20Audio/Week%204/Euler%20Buckling/Finding%20B.mp3\"\n",
      "     type='audio/mp3'>\n",
      " <p>Your user agent does not support the HTML5 Audio element or the files are missing.</p>\n",
      "</audio>"
     ]
    },
    {
     "cell_type": "markdown",
     "metadata": {
      "slideshow": {
       "slide_type": "-"
      }
     },
     "source": [
      "By evaluating the boundary conditions of the beam we can determine the constants.\n",
      "\n",
      "$$y = A \\sin(k x) + B \\cos(k x)$$\n",
      "\n",
      "<a href=\"http://i.imgur.com/uGIR1IT.png\"><img src=\"http://i.imgur.com/uGIR1IT.png\" title=\"Buckled Column\" alt = \"Buckled Column\" style = \"max-width:300px; max-height:300px; border:1px solid blue;  margin-right:3px;\"/></a>\n",
      "\n",
      "If $x = 0$ or $x = L$ then $ y = 0$ because the beam is restrained by the pins.\n",
      "\n",
      "So at $x = 0$\n",
      "\n",
      "$$0 = A \\sin(k \\times 0) + B \\cos(k \\times 0)$$\n",
      "\n",
      "$$0 = A \\sin( 0) + B \\cos( 0) = A\\times 0 + B \\times 1$$\n",
      "\n",
      "$$0 = 0 + B$$\n",
      "\n",
      "Therefore $B=0$."
     ]
    },
    {
     "cell_type": "markdown",
     "metadata": {
      "slideshow": {
       "slide_type": "slide"
      }
     },
     "source": [
      "<audio controls data-autoplay preload>\n",
      " <source src=\"https://github.com/damontallen/Construction-Lectures/raw/master/Lecture%20Audio/Week%204/Euler%20Buckling/Finding%20k.mp3\"\n",
      "     type='audio/mp3'>\n",
      " <p>Your user agent does not support the HTML5 Audio element or the files are missing.</p>\n",
      "</audio>"
     ]
    },
    {
     "cell_type": "markdown",
     "metadata": {
      "slideshow": {
       "slide_type": "-"
      }
     },
     "source": [
      "Since $B=0$ our equation for $y$ reduces to,\n",
      "\n",
      "$$y = A \\sin(k x)$$\n",
      "\n",
      "At $x=L$\n",
      "\n",
      "$$0 = A \\sin(k \\times L)$$\n",
      "\n",
      "Now if $A=0$ then $y=0$ at every value for x and the columns would never buckle and we know that is not true.\n",
      "\n",
      "If $k\\times L=0$ then $k=0$ and $y=A\\sin(0\\times x) = 0$ for all values of $x$, which again we know is not true.\n",
      "\n",
      "If $k\\times L=n\\times\\pi$, for $n= 1, 2, 3, ...$ then $k=\\frac{n\\times \\pi}{L}$ and\n",
      "\n",
      "$$y = A\\sin\\left(\\frac{n \\pi x}{L}\\right)$$\n",
      "\n",
      "Let's check,\n",
      "\n",
      "|Location | Boundary Condition |Correct?|\n",
      "|--- | --- | ---|\n",
      "|$x=0$ | $y = A\\sin\\left(\\frac{n \\pi \\times 0}{L}\\right)=0$ | $\\checkmark$|\n",
      "|$x=L$ | $y = A\\sin\\left(\\frac{n \\pi \\times L}{L}\\right)=A\\sin(n \\pi )=0$ | $\\checkmark$|"
     ]
    },
    {
     "cell_type": "markdown",
     "metadata": {
      "slideshow": {
       "slide_type": "slide"
      }
     },
     "source": [
      "<audio controls data-autoplay preload>\n",
      " <source src=\"https://github.com/damontallen/Construction-Lectures/raw/master/Lecture%20Audio/Week%204/Euler%20Buckling/Plugging%20in%20to%20DE%20pt1.mp3\"\n",
      "     type='audio/mp3'>\n",
      " <p>Your user agent does not support the HTML5 Audio element or the files are missing.</p>\n",
      "</audio>"
     ]
    },
    {
     "cell_type": "markdown",
     "metadata": {
      "slideshow": {
       "slide_type": "-"
      }
     },
     "source": [
      "This looks like it will work.  Let's plug it into the differential equation.\n",
      "\n",
      "$$\\frac{d^2y}{dx^2} + \\frac{P_{cr} y}{E I} = 0$$\n",
      "\n",
      "If, $y = A\\sin\\left(\\frac{n \\pi x}{L}\\right)$ then, *([calculus reference](http://www.eeweb.com/tools/math-sheets/images/calculus-derivatives-limits.png))*\n",
      "\n",
      "$\\frac{dy}{dx} = A \\frac{n \\pi }{L}\\cos\\left(\\frac{n \\pi x}{L}\\right)$\n",
      "\n",
      "and\n",
      "\n",
      "$\\frac{d^2y}{dx^2} = -A \\left(\\frac{n \\pi }{L}\\right)^2\\sin\\left(\\frac{n \\pi x}{L}\\right) = -\\left(\\frac{n \\pi }{L}\\right)^2 A \\sin\\left(\\frac{n \\pi x}{L}\\right)$\n",
      "\n",
      "so:\n",
      "\n",
      "$-\\left(\\frac{n \\pi }{L}\\right)^2 A \\sin\\left(\\frac{n \\pi x}{L}\\right) + \\frac{P_{cr}}{E I}  A\\sin\\left(\\frac{n \\pi x}{L}\\right)= 0$\n",
      "\n",
      "Divide through by $ A\\sin\\left(\\frac{n \\pi x}{L}\\right)$,\n",
      "\n",
      "$- \\left(\\frac{n \\pi }{L}\\right)^2 + \\frac{P_{cr}}{E I} = 0$\n",
      "\n",
      "*(Continued on the next slide)*"
     ]
    },
    {
     "cell_type": "markdown",
     "metadata": {
      "slideshow": {
       "slide_type": "slide"
      }
     },
     "source": [
      "<audio controls data-autoplay preload>\n",
      " <source src=\"https://github.com/damontallen/Construction-Lectures/raw/master/Lecture%20Audio/Week%204/Euler%20Buckling/Critical%20Buckling%20load.mp3\"\n",
      "     type='audio/mp3'>\n",
      " <p>Your user agent does not support the HTML5 Audio element or the files are missing.</p>\n",
      "</audio>"
     ]
    },
    {
     "cell_type": "markdown",
     "metadata": {
      "slideshow": {
       "slide_type": "-"
      }
     },
     "source": [
      "$ \\frac{P_{cr}}{E I} = \\left(\\frac{n \\pi }{L}\\right)^2 $\n",
      "\n",
      "$P_{cr} =E I \\left(\\frac{n \\pi }{L}\\right)^2 $\n",
      "\n",
      "But we are looking for the lowest load that will cause buckling so use the lowest $n$, i.e. $n=1$\n",
      "\n",
      "$$P_{cr} =\\frac{ \\pi^2 E I}{L^2}$$\n",
      "\n",
      "This is the Euler critical buckling load.\n",
      "\n",
      "Note that the buckling load is independent of material strength $(F_y$ - for steel$ )$ and is only dependent on the flexural stiffness $E I$ and length $L$."
     ]
    },
    {
     "cell_type": "heading",
     "level": 2,
     "metadata": {
      "slideshow": {
       "slide_type": "slide"
      }
     },
     "source": [
      "Common Forms:"
     ]
    },
    {
     "cell_type": "markdown",
     "metadata": {
      "slideshow": {
       "slide_type": "-"
      }
     },
     "source": [
      "<audio controls data-autoplay preload>\n",
      " <source src=\"https://github.com/damontallen/Construction-Lectures/raw/master/Lecture%20Audio/Week%204/Euler%20Buckling/Common%20Forms%20pt1.mp3\"\n",
      "     type='audio/mp3'>\n",
      " <p>Your user agent does not support the HTML5 Audio element or the files are missing.</p>\n",
      "</audio>"
     ]
    },
    {
     "cell_type": "markdown",
     "metadata": {
      "slideshow": {
       "slide_type": "-"
      }
     },
     "source": [
      "This Euler critical buckling load shows up in the steel code in the form,\n",
      "\n",
      "$$F_{cr} = 0.877 F_e = 0.877 \\left(\\frac{\\pi^2 E}{\\left(\\frac{K L}{r} \\right)^2} \\right)$$\n",
      "\n",
      "\n",
      "Note that $0.877$ accounts for an initial crookedness of $\\frac{1}{1,500}$ of the length $(L)$.  For showing derivations we will assume that the column is perfectly straight, i.e. use $1$ instead of $0.877$.\n",
      "\n",
      "Also we will assume that $K=1$ for the [effective length factor](http://en.wikipedia.org/wiki/Column#Equilibrium.2C_instability.2C_and_loads) since we are using pinned end connections.\n",
      "\n",
      "$$F_{cr} =\\frac{\\pi^2 E}{\\left(\\frac{L^2}{r^2}\\right)} =\\frac{\\pi^2 r^2 E}{L^2} $$\n",
      "\n",
      "The value $r$ is the [radius of gyration](http://en.wikipedia.org/wiki/Radius_of_gyration#Applications_in_structural_engineering) which equals,\n",
      "\n",
      "$$r = \\sqrt{\\frac{I}{A}} \\Rightarrow r^2 = \\frac{I}{A}$$\n",
      "\n",
      "*(Continued next slide)*"
     ]
    },
    {
     "cell_type": "markdown",
     "metadata": {
      "slideshow": {
       "slide_type": "slide"
      }
     },
     "source": [
      "<audio controls data-autoplay preload>\n",
      " <source src=\"https://github.com/damontallen/Construction-Lectures/raw/master/Lecture%20Audio/Week%204/Euler%20Buckling/Common%20Forms%20pt2.mp3\"\n",
      "     type='audio/mp3'>\n",
      " <p>Your user agent does not support the HTML5 Audio element or the files are missing.</p>\n",
      "</audio>"
     ]
    },
    {
     "cell_type": "markdown",
     "metadata": {
      "slideshow": {
       "slide_type": "-"
      }
     },
     "source": [
      "$$F_{cr} =\\frac{\\pi^2 r^2 E}{L^2}=\\frac{\\pi^2 I E}{L^2 A} $$\n",
      "\n",
      "Since $P_{cr} =F_{cr} \\times A$,\n",
      "\n",
      "$$P_{cr} =F_{cr} \\times A=\\frac{\\pi^2 r^2 E}{L^2}=\\frac{\\pi^2 E I}{L^2 A} \\times A$$\n",
      "\n",
      "$$P_{cr} =\\frac{\\pi^2 E I}{L^2 } $$\n",
      "\n",
      "Which is the Euler critical buckling load."
     ]
    },
    {
     "cell_type": "heading",
     "level": 2,
     "metadata": {
      "slideshow": {
       "slide_type": "slide"
      }
     },
     "source": [
      "Buckling in Timber"
     ]
    },
    {
     "cell_type": "markdown",
     "metadata": {
      "slideshow": {
       "slide_type": "-"
      }
     },
     "source": [
      "<audio controls data-autoplay preload>\n",
      " <source src=\"https://github.com/damontallen/Construction-Lectures/raw/master/Lecture%20Audio/Week%204/Euler%20Buckling/Buckling%20in%20Timber%20pt1.mp3\"\n",
      "     type='audio/mp3'>\n",
      " <p>Your user agent does not support the HTML5 Audio element or the files are missing.</p>\n",
      "</audio>"
     ]
    },
    {
     "cell_type": "markdown",
     "metadata": {
      "slideshow": {
       "slide_type": "-"
      }
     },
     "source": [
      "In timber design we use rectangular sections.\n",
      "\n",
      "In a rectangular section the moment of inertia can be written as,\n",
      "\n",
      "$$I = \\frac{b d^3}{12} = \\frac{Ad^2}{12}$$\n",
      "\n",
      "Our Euler critical buckling load is,\n",
      "\n",
      "$$P_{cr} =\\frac{\\pi^2 E I}{L^2 } $$\n",
      "\n",
      "by substisuting for $I$, \n",
      "\n",
      "$P_{cr} =\\frac{\\pi^2 E A d^2}{12 L^2 } = \\frac{\\pi^2}{12}\\frac{E A d^2}{L^2 }$\n",
      "\n",
      "$P_{cr}  = 0.822 \\frac{E A d^2}{L^2 } $\n",
      "\n",
      "*(Continued next slide)*"
     ]
    },
    {
     "cell_type": "markdown",
     "metadata": {
      "slideshow": {
       "slide_type": "slide"
      }
     },
     "source": [
      "<audio controls data-autoplay preload>\n",
      " <source src=\"https://github.com/damontallen/Construction-Lectures/raw/master/Lecture%20Audio/Week%204/Euler%20Buckling/Buckling%20in%20Timber%20pt2.mp3\"\n",
      "     type='audio/mp3'>\n",
      " <p>Your user agent does not support the HTML5 Audio element or the files are missing.</p>\n",
      "</audio>"
     ]
    },
    {
     "cell_type": "markdown",
     "metadata": {
      "slideshow": {
       "slide_type": "-"
      }
     },
     "source": [
      "The factor $E_{min}$ is just $E$ with a factor of safety of $2.75$.\n",
      "\n",
      "$E_{min}=\\frac{E}{2.75}$\n",
      "\n",
      "$P_{cr}  = 0.822 \\frac{E_{min} A d^2}{L^2 } $\n",
      "\n",
      "but we use allowable stress in timber, so we divide both sides by $A$ to get the critical buckling stress.\n",
      "\n",
      "$F_{cr}  = 0.822 \\frac{E_{min} d^2}{L^2 } $\n",
      "\n",
      "In the Timber code we call it the critical <u>Elastic</u> buckling stress,\n",
      "\n",
      "$$F_{cE}  =  \\frac{0.822 E_{min}' }{\\left(\\frac{L}{d}\\right)^2 } \\text{ (see section 3.7.1 of the Timber NDS)}$$"
     ]
    },
    {
     "cell_type": "heading",
     "level": 2,
     "metadata": {
      "slideshow": {
       "slide_type": "slide"
      }
     },
     "source": [
      "References:"
     ]
    },
    {
     "cell_type": "markdown",
     "metadata": {
      "slideshow": {
       "slide_type": "-"
      }
     },
     "source": [
      "[Class website](https://elearning2.courses.ufl.edu/portal/site/UFL-BCN4423C-40908-52014) *(Use this link to if you are taking the course on e-learning.)*\n",
      "\n",
      "[Github.io version of course website](http://damontallen.github.io/Construction-Lectures/) *(Do not use this link if you are taking this course in Summer A or B.)*\n",
      "\n",
      "[IPython.org](http://ipython.org/) *(IPython is the opensource software used in the development of much of this course.)*\n",
      "\n",
      "[Complete Software List](http://nbviewer.ipython.org/github/damontallen/Construction-Lectures/blob/master/Resources.ipynb)"
     ]
    },
    {
     "cell_type": "markdown",
     "metadata": {
      "slideshow": {
       "slide_type": "skip"
      }
     },
     "source": [
      "CSS stylesheet\n",
      "\n",
      "<head>\n",
      "<style>\n",
      "important {font:italic bold 16px arial;}\n",
      ".missing {color:Red}\n",
      "fragment {color:LightBlue;}\n",
      "subslide {color:DarkBlue;}\n",
      "\n",
      ".rgt {float:right;}\n",
      "\n",
      ".lt {float:left;}\n",
      "\n",
      ".cnt {text-align:center; vertical-align:text-top;}\n",
      "\n",
      ".box { border:1px solid blue; float:left; margin-right:3px;}\n",
      "\n",
      ".max {max-width:300px; max-height:300px;}\n",
      "\n",
      ".fix {max-height:200px; max-width:200px;}\n",
      "\n",
      ".narb { width:54em; word-wrap: break-word; }\n",
      "\n",
      ".nar_cell { width:16em; word-wrap: break-word; }\n",
      "\n",
      "\n",
      "\n",
      "table \n",
      "{\n",
      "width:85%;\n",
      "\n",
      "}\n",
      "\n",
      "\n",
      "\n",
      "</style>\n",
      "</head>\n",
      "\n",
      "    /* class = \"max box\" for img tags\n",
      "    \n",
      "    <audio controls data-autoplay preload>\n",
      "     <source src=\"https://github.com/damontallen/Construction-Lectures/raw/master/Intro/FILE%20NAME.mp3\"\n",
      "         type='audio/mp3'>\n",
      "     <p><strong>Your user agent does not support the HTML5 Audio element or the files are missing.</strong></p>\n",
      "    </audio><a></a>\n",
      "    \n",
      "    */\n",
      "    class = \"max box\" == style=\"max-width:300px; max-height:300px; border:1px solid blue; float:left; margin-right:3px;\""
     ]
    }
   ],
   "metadata": {}
  }
 ]
}