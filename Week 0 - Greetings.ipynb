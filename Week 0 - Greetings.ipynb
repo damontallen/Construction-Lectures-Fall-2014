{
 "metadata": {
  "celltoolbar": "Slideshow",
  "name": "",
  "signature": "sha256:ccc81165aba3f36584306e805f4b3ee2619e017d527d70f1285c7f981dc9a369"
 },
 "nbformat": 3,
 "nbformat_minor": 0,
 "worksheets": [
  {
   "cells": [
    {
     "cell_type": "heading",
     "level": 1,
     "metadata": {
      "slideshow": {
       "slide_type": "slide"
      }
     },
     "source": [
      "BCN 4423 - Temporary Structures"
     ]
    },
    {
     "cell_type": "heading",
     "level": 1,
     "metadata": {
      "slideshow": {
       "slide_type": "-"
      }
     },
     "source": [
      "Introduction"
     ]
    },
    {
     "cell_type": "markdown",
     "metadata": {
      "slideshow": {
       "slide_type": "-"
      }
     },
     "source": [
      "<iframe width=\"560\" height=\"315\"  src=\"https://www.youtube.com/embed/733JeAwDKy8\"  frameborder=\"0\"  allowfullscreen></iframe> \n"
     ]
    },
    {
     "cell_type": "markdown",
     "metadata": {
      "slideshow": {
       "slide_type": "-"
      }
     },
     "source": [
      "*(You may have to press Ctrl and - at the same time to zoom out and view this entire slide.)*\n",
      "\n",
      "*(Press the light blue down arrow at the bottom right next)*\n",
      "\n",
      "If any part of this presentation does not work contact the [UF Computing Help Desk](http://helpdesk.ufl.edu/) and tell them you need help with a \"reveal.js presentation\".\n",
      "\n",
      "If you don't see a video above try viewing this presentation in a different browser like [Firefox](http://www.mozilla.org/en-US/firefox/new/) or [Chrome](https://www.google.com/intl/en/chrome/browser/).\n",
      "\n"
     ]
    },
    {
     "cell_type": "markdown",
     "metadata": {
      "slideshow": {
       "slide_type": "fragment"
      }
     },
     "source": [
      "*(Press the blue down arrow at the bottom right when you are done with the video.)*"
     ]
    },
    {
     "cell_type": "heading",
     "level": 2,
     "metadata": {
      "slideshow": {
       "slide_type": "subslide"
      }
     },
     "source": [
      "You made it!"
     ]
    },
    {
     "cell_type": "markdown",
     "metadata": {
      "slideshow": {
       "slide_type": "-"
      }
     },
     "source": [
      "Press the play button."
     ]
    },
    {
     "cell_type": "markdown",
     "metadata": {
      "slideshow": {
       "slide_type": "-"
      }
     },
     "source": [
      "\n",
      "\n",
      "<audio controls preload>\n",
      " <source src=\"https://github.com/damontallen/Construction-Lectures-Fall-2014/raw/master/Intro/Greeting.mp3\"\n",
      "         type='audio/mp3'>\n",
      " <p>Your user agent does not support the HTML5 Audio element.</p>\n",
      "</audio>"
     ]
    },
    {
     "cell_type": "markdown",
     "metadata": {
      "slideshow": {
       "slide_type": "-"
      }
     },
     "source": [
      "<a href = \"http://upload.wikimedia.org/wikipedia/commons/0/04/So_happy_smiling_cat.jpg\"><img src=\"http://upload.wikimedia.org/wikipedia/commons/0/04/So_happy_smiling_cat.jpg\" alt = \"Hover Image Test Picutre\"style=\"max-width:75px; max-height:75px; border:1px solid blue; float:right; margin-left:10px;\"/></a>\n",
      "\n",
      "[UF Computing Help Desk](http://helpdesk.ufl.edu/)\n",
      "\n",
      "*(Note: you made need to tell them that you are using a \"reveal.js\" presentation)*\n",
      "\n",
      "<strong><font style=\"font:italic bold 16px arial;\">Keep a look out for the <font style=\"color:LightBlue;\">LIGHT</font> and <font style = \"color:DarkBlue;\">DARK BLUE</font> down arrows.</font></strong>\n",
      "\n",
      "###Useful Tip:\n",
      "\n",
      "If you use Firefox or Chrome then installing one of the following extensions will make viewing images in lectures easier.\n",
      "\n",
      "* Firefox - [Thumbnail Zoom Plus](https://addons.mozilla.org/en-US/firefox/addon/thumbnail-zoom-plus/?src=search) *(Not all bordered images will have a zoomed version with this extension, but most will.)*\n",
      "* Chrome - [Imagus](https://chrome.google.com/webstore/detail/imagus/immpkjjlgappgfkkfieppnmlhakdmaab?hl=en-US) *(This works better than the Firefox extension.)*\n",
      "\n",
      "*(Press the blue arrow to the right at the bottom right of the screen to move on the the Course Objectives.)*"
     ]
    },
    {
     "cell_type": "heading",
     "level": 2,
     "metadata": {
      "slideshow": {
       "slide_type": "slide"
      }
     },
     "source": [
      "Course Objectives"
     ]
    },
    {
     "cell_type": "heading",
     "level": 3,
     "metadata": {
      "slideshow": {
       "slide_type": "-"
      }
     },
     "source": [
      "1. Course Introduction Objectives"
     ]
    },
    {
     "cell_type": "markdown",
     "metadata": {
      "slideshow": {
       "slide_type": "-"
      }
     },
     "source": [
      "<audio controls data-autoplay preload>\n",
      " <source src=\"https://github.com/damontallen/Construction-Lectures-Fall-2014/raw/master/Intro/Module%201%20-%20Course%20Introduction.mp3\"\n",
      "         type='audio/mp3'>\n",
      " <p>Your user agent does not support the HTML5 Audio element.</p>\n",
      "</audio>"
     ]
    },
    {
     "cell_type": "markdown",
     "metadata": {
      "slideshow": {
       "slide_type": "-"
      }
     },
     "source": [
      "* Be able to find the information contained within the course syllabus.\n",
      "* Be able to state why temporary structures are important to the construction industry.\n",
      "* Be able to use the course discussion page and make a post.\n",
      "\n",
      "*(Click on the blue down arrow for more descriptions about the course modules.)*"
     ]
    },
    {
     "cell_type": "heading",
     "level": 3,
     "metadata": {
      "slideshow": {
       "slide_type": "subslide"
      }
     },
     "source": [
      "2. Introduction to Timber Objectives"
     ]
    },
    {
     "cell_type": "markdown",
     "metadata": {
      "slideshow": {
       "slide_type": "-"
      }
     },
     "source": [
      "<audio controls data-autoplay preload>\n",
      " <source src=\"https://github.com/damontallen/Construction-Lectures-Fall-2014/raw/master/Intro/Module%202%20-%20Introduction%20to%20Timber.mp3\"\n",
      "         type='audio/mp3'>\n",
      " <p>Your user agent does not support the HTML5 Audio element.</p>\n",
      "</audio>"
     ]
    },
    {
     "cell_type": "markdown",
     "metadata": {
      "slideshow": {
       "slide_type": "-"
      }
     },
     "source": [
      "* Be able to recall aspects of wood as a material.\n",
      "* Be able to find appropriate sections in the Timber NDS code.\n",
      "* Be able to differentiate the need for tributary area and width."
     ]
    },
    {
     "cell_type": "heading",
     "level": 3,
     "metadata": {
      "slideshow": {
       "slide_type": "subslide"
      }
     },
     "source": [
      "3. Timber Beam Objectives"
     ]
    },
    {
     "cell_type": "markdown",
     "metadata": {
      "slideshow": {
       "slide_type": "-"
      }
     },
     "source": [
      "<audio controls data-autoplay preload>\n",
      " <source src=\"https://github.com/damontallen/Construction-Lectures-Fall-2014/raw/master/Intro/Module%203%20-%20Timber%20Beams.mp3\"\n",
      "         type='audio/mp3'>\n",
      " <p>Your user agent does not support the HTML5 Audio element.</p>\n",
      "</audio>\n"
     ]
    },
    {
     "cell_type": "markdown",
     "metadata": {
      "slideshow": {
       "slide_type": "-"
      }
     },
     "source": [
      "* Be able to analyze and compare allowable vs actual bending stress.\n",
      "* Be able to analyze and compare allowable vs actual shear stress.\n",
      "* Be able to analyze and compare allowable vs actual deflections"
     ]
    },
    {
     "cell_type": "heading",
     "level": 3,
     "metadata": {
      "slideshow": {
       "slide_type": "subslide"
      }
     },
     "source": [
      "4. Timber Column Objectives"
     ]
    },
    {
     "cell_type": "markdown",
     "metadata": {
      "slideshow": {
       "slide_type": "-"
      }
     },
     "source": [
      "<audio controls data-autoplay preload>\n",
      " <source src=\"https://github.com/damontallen/Construction-Lectures-Fall-2014/raw/master/Intro/Module%204%20-%20Timber%20Column.mp3\"\n",
      "         type='audio/mp3'>\n",
      " <p>Your user agent does not support the HTML5 Audio element.</p>\n",
      "</audio>\n"
     ]
    },
    {
     "cell_type": "markdown",
     "metadata": {
      "slideshow": {
       "slide_type": "-"
      }
     },
     "source": [
      "* Be able to analyze and compare allowable vs actual slenderness ratio.\n",
      "* Be able to analyze and compare allowable vs actual compressive stress parallel to grain.\n",
      "* (Optional) Be able to recognize Euler buckling."
     ]
    },
    {
     "cell_type": "heading",
     "level": 3,
     "metadata": {
      "slideshow": {
       "slide_type": "subslide"
      }
     },
     "source": [
      "5. Bracing Objectives"
     ]
    },
    {
     "cell_type": "markdown",
     "metadata": {
      "slideshow": {
       "slide_type": "-"
      }
     },
     "source": [
      "<audio controls data-autoplay preload>\n",
      " <source src=\"https://github.com/damontallen/Construction-Lectures-Fall-2014/raw/master/Intro/Module%205%20-%20Braces.mp3\"\n",
      "         type='audio/mp3'>\n",
      " <p>Your user agent does not support the HTML5 Audio element.</p>\n",
      "</audio>\n"
     ]
    },
    {
     "cell_type": "markdown",
     "metadata": {
      "slideshow": {
       "slide_type": "-"
      }
     },
     "source": [
      "* Be able to calculate the lateral load on a brace from a wall form.\n",
      "* Be able to calculate the lateral load on a brace from a slab form.\n",
      "* Be able to discuss why braces should be loaded in tension.\n",
      "* Be able to analyze and compare allowable vs actual tension stress in a brace.\n",
      "* (Optional) The student should be able to discuss why a brace\u2019s connection stiffness is important to the stability of a slab form."
     ]
    },
    {
     "cell_type": "heading",
     "level": 3,
     "metadata": {
      "slideshow": {
       "slide_type": "subslide"
      }
     },
     "source": [
      "6. Span Limit Derivations and Formwork Safety Objectives"
     ]
    },
    {
     "cell_type": "markdown",
     "metadata": {
      "slideshow": {
       "slide_type": "-"
      }
     },
     "source": [
      "<audio controls data-autoplay preload>\n",
      " <source src=\"https://github.com/damontallen/Construction-Lectures-Fall-2014/raw/master/Intro/Module%206%20-%20Safety%20and%20Span%20Equations.mp3\"\n",
      "         type='audio/mp3'>\n",
      " <p>Your user agent does not support the HTML5 Audio element.</p>\n",
      "</audio>\n"
     ]
    },
    {
     "cell_type": "markdown",
     "metadata": {
      "slideshow": {
       "slide_type": "-"
      }
     },
     "source": [
      "* Be able to recall reasons why is is important to know how to build and operate concrete formwork correctly.\n",
      "* (Optional but recommended) Be able to interpret the typical span limit calculations."
     ]
    },
    {
     "cell_type": "heading",
     "level": 3,
     "metadata": {
      "slideshow": {
       "slide_type": "subslide"
      }
     },
     "source": [
      "7. Wall Form Objectives"
     ]
    },
    {
     "cell_type": "markdown",
     "metadata": {
      "slideshow": {
       "slide_type": "-"
      }
     },
     "source": [
      "<audio controls data-autoplay preload>\n",
      " <source src=\"https://github.com/damontallen/Construction-Lectures-Fall-2014/raw/master/Intro/Module%207%20-%20Wall%20forms.mp3\"\n",
      "         type='audio/mp3'>\n",
      " <p>Your user agent does not support the HTML5 Audio element.</p>\n",
      "</audio>\n"
     ]
    },
    {
     "cell_type": "markdown",
     "metadata": {
      "slideshow": {
       "slide_type": "-"
      }
     },
     "source": [
      "* Be able to identify the components of a wall form.\n",
      "* Be able to calculate the concrete pressure for a wall form.\n",
      "* Be able to calculate the required spacing for plywood supports.\n",
      "* Be able to calculate the required spacing for stud support.\n",
      "* Be able to calculate the required spacing for wale support.\n",
      "* Be able to analyze and compare the allowable vs actual compression perpendicular to grain for studs and wales.\n",
      "* Be able to calculate the required strength for wall ties.\n",
      "* Be able to summarize the design requirements for a wall form.\n",
      "* Be able to use the design tables in the Formwork text to design a wall form.\n",
      "\n",
      "*(If you installed the recommended [Firefox addon](https://addons.mozilla.org/en-US/firefox/addon/thumbnail-zoom-plus/?src=search) or [Chrome extension](https://chrome.google.com/webstore/detail/hover-free/hcmnnggnaofmhflgomfjfbndngdoogkj), hover your mouse over the picture below.)*"
     ]
    },
    {
     "cell_type": "markdown",
     "metadata": {
      "slideshow": {
       "slide_type": "-"
      }
     },
     "source": [
      "<a href=\"http://farm6.staticflickr.com/5220/5413970858_4d9e8d63aa_o.jpg\"><img src=\"http://farm6.staticflickr.com/5220/5413970858_4d9e8d63aa_o.jpg\" alt=\"Wall Formwork\" style=\"max-width:300px; max-height:300px; border:1px solid blue; float:left; margin-right:3px;\"></a>"
     ]
    },
    {
     "cell_type": "heading",
     "level": 3,
     "metadata": {
      "slideshow": {
       "slide_type": "subslide"
      }
     },
     "source": [
      "8. Column Form Objectives"
     ]
    },
    {
     "cell_type": "markdown",
     "metadata": {
      "slideshow": {
       "slide_type": "-"
      }
     },
     "source": [
      "<audio controls data-autoplay preload>\n",
      " <source src=\"https://github.com/damontallen/Construction-Lectures-Fall-2014/raw/master/Intro/Module%208%20-%20Column%20forms.mp3\"\n",
      "         type='audio/mp3'>\n",
      " <p>Your user agent does not support the HTML5 Audio element.</p>\n",
      "</audio>"
     ]
    },
    {
     "cell_type": "markdown",
     "metadata": {
      "slideshow": {
       "slide_type": "-"
      }
     },
     "source": [
      "* Be able to calculate the concrete pressure for a concrete form.\n",
      "* Be able to analyze and compare the allowable vs actual bending stress for flat studs in column forms.\n",
      "* Be able to find the correct spacings for column form clamps\n"
     ]
    },
    {
     "cell_type": "markdown",
     "metadata": {
      "slideshow": {
       "slide_type": "-"
      }
     },
     "source": [
      "<a href=\"http://farm7.staticflickr.com/6017/5872155429_12086e489c_b.jpg\">\n",
      "<img src=\"http://farm7.staticflickr.com/6017/5872155429_12086e489c_b.jpg\" alt=\"Column Form\" style=\"max-width:300px; max-height:300px; border:1px solid blue; float:left; margin-right:3px;\"></a>"
     ]
    },
    {
     "cell_type": "heading",
     "level": 3,
     "metadata": {
      "slideshow": {
       "slide_type": "subslide"
      }
     },
     "source": [
      "9. Slab Form Objectives"
     ]
    },
    {
     "cell_type": "markdown",
     "metadata": {
      "slideshow": {
       "slide_type": "-"
      }
     },
     "source": [
      "<audio controls data-autoplay preload>\n",
      " <source src=\"https://github.com/damontallen/Construction-Lectures-Fall-2014/raw/master/Intro/Module%209%20-%20Slab%20forms.mp3\"\n",
      "         type='audio/mp3'>\n",
      " <p>Your user agent does not support the HTML5 Audio element.</p>\n",
      "</audio>\n"
     ]
    },
    {
     "cell_type": "markdown",
     "metadata": {
      "slideshow": {
       "slide_type": "-"
      }
     },
     "source": [
      "* Be able to identify the components of a slab form.\n",
      "* Be able to calculate the required spacing for plywood supports.\n",
      "* Be able to calculate the required spacing for joist support.\n",
      "* Be able to calculate the required spacing for stringer support.\n",
      "* Be able to analyze and compare the allowable vs actual compression perpendicular to grain for joist and strings as well as for shores and strings.\n",
      "* Be able to analyze and compare allowable vs actual compressive load of a timber shore.\n",
      "* Be able to use the design tables in the Formwork text to design a slab form.\n",
      "\n"
     ]
    },
    {
     "cell_type": "markdown",
     "metadata": {
      "slideshow": {
       "slide_type": "-"
      }
     },
     "source": [
      "<img src=\"http://farm3.staticflickr.com/2788/4502345383_0378219f7a.jpg\" alt=\"Slab Formwork\" style=\"max-width:300px; max-height:300px;  float:left; margin-right:3px;\">"
     ]
    },
    {
     "cell_type": "heading",
     "level": 3,
     "metadata": {
      "slideshow": {
       "slide_type": "subslide"
      }
     },
     "source": [
      "10. Re-shoring Objectives"
     ]
    },
    {
     "cell_type": "markdown",
     "metadata": {
      "slideshow": {
       "slide_type": "-"
      }
     },
     "source": [
      "<audio controls data-autoplay preload>\n",
      " <source src=\"https://github.com/damontallen/Construction-Lectures-Fall-2014/raw/master/Intro/Module%2010%20-%20Reshores.mp3\"\n",
      "         type='audio/mp3'>\n",
      " <p>Your user agent does not support the HTML5 Audio element.</p>\n",
      "</audio>\n"
     ]
    },
    {
     "cell_type": "markdown",
     "metadata": {
      "slideshow": {
       "slide_type": "-"
      }
     },
     "source": [
      "* Be able to calculate the loads on shores and the slabs they support.\n",
      "\n"
     ]
    },
    {
     "cell_type": "markdown",
     "metadata": {
      "slideshow": {
       "slide_type": "-"
      }
     },
     "source": [
      "<a href=\"http://upload.wikimedia.org/wikipedia/commons/3/3a/Slab_Formwork_Tables.JPG\">\n",
      "<img src=\"http://upload.wikimedia.org/wikipedia/commons/3/3a/Slab_Formwork_Tables.JPG\" alt=\"Slab Shoring\" style=\"max-width:300px; max-height:300px; border:1px solid blue; float:left; margin-right:3px;\"></a>"
     ]
    },
    {
     "cell_type": "heading",
     "level": 3,
     "metadata": {
      "slideshow": {
       "slide_type": "subslide"
      }
     },
     "source": [
      "11. Scaffolding Objectives"
     ]
    },
    {
     "cell_type": "markdown",
     "metadata": {
      "slideshow": {
       "slide_type": "-"
      }
     },
     "source": [
      "<audio controls data-autoplay preload>\n",
      " <source src=\"https://github.com/damontallen/Construction-Lectures-Fall-2014/raw/master/Intro/Module%2011%20-%20Scaffolding.mp3\"\n",
      "         type='audio/mp3'>\n",
      " <p>Your user agent does not support the HTML5 Audio element.</p>\n",
      "</audio>\n"
     ]
    },
    {
     "cell_type": "markdown",
     "metadata": {
      "slideshow": {
       "slide_type": "-"
      }
     },
     "source": [
      "* Be able to identify the types of common scaffolding.\n",
      "* Be able to identify who can design a scaffold.\n",
      "* Be able to recall the types and amounts of scaffold loads.\n",
      "* Be able to calculate the ASD load combinations for a scaffold platform.\n",
      "* Be able to devise a frame scaffold plan.\n",
      "\n"
     ]
    },
    {
     "cell_type": "markdown",
     "metadata": {
      "slideshow": {
       "slide_type": "-"
      }
     },
     "source": [
      "<a href=\"http://upload.wikimedia.org/wikipedia/commons/8/80/Cincinnati-scaffolding.jpg\">\n",
      "<img src=\"http://upload.wikimedia.org/wikipedia/commons/8/80/Cincinnati-scaffolding.jpg\" alt=\"Scaffolfing Image\" style=\"max-width:300px; max-height:300px; border:1px solid blue; float:left; margin-right:3px;\"></a>"
     ]
    },
    {
     "cell_type": "heading",
     "level": 3,
     "metadata": {
      "slideshow": {
       "slide_type": "subslide"
      }
     },
     "source": [
      "12. Excavation Objectives"
     ]
    },
    {
     "cell_type": "markdown",
     "metadata": {
      "slideshow": {
       "slide_type": "-"
      }
     },
     "source": [
      "<audio controls data-autoplay preload>\n",
      " <source src=\"https://github.com/damontallen/Construction-Lectures-Fall-2014/raw/master/Intro/Module%2012%20-%20Excavation.mp3\"\n",
      "         type='audio/mp3'>\n",
      " <p>Your user agent does not support the HTML5 Audio element.</p>\n",
      "</audio>\n"
     ]
    },
    {
     "cell_type": "markdown",
     "metadata": {
      "slideshow": {
       "slide_type": "-"
      }
     },
     "source": [
      "* Be able to identify characteristics of soil types A, B, and C.\n",
      "* Be able to classify soil based on the OSHA field tests.\n",
      "* Be able to identify the parts of excavation shoring components.\n",
      "* Be able to demonstrate the correct interpretation of the the OSHA Timber Trench Shoring design tables.\n"
     ]
    },
    {
     "cell_type": "markdown",
     "metadata": {
      "slideshow": {
       "slide_type": "-"
      }
     },
     "source": [
      "<a href=\"\">\n",
      "\n",
      "<img src=\"http://upload.wikimedia.org/wikipedia/commons/8/85/Sbh_s600.JPG\" alt = \"Trench Shoring\" style=\"max-width:300px; max-height:300px; border:1px solid blue; float:left; margin-right:3px;\">\n",
      "</a>"
     ]
    },
    {
     "cell_type": "heading",
     "level": 3,
     "metadata": {
      "slideshow": {
       "slide_type": "subslide"
      }
     },
     "source": [
      "13. Equipment Objectives"
     ]
    },
    {
     "cell_type": "markdown",
     "metadata": {
      "slideshow": {
       "slide_type": "-"
      }
     },
     "source": [
      "<audio controls data-autoplay preload>\n",
      " <source src=\"https://github.com/damontallen/Construction-Lectures-Fall-2014/raw/master/Intro/Module%2013%20-%20Equipment.mp3\"\n",
      "         type='audio/mp3'>\n",
      " <p>Your user agent does not support the HTML5 Audio element.</p>\n",
      "</audio>\n"
     ]
    },
    {
     "cell_type": "markdown",
     "metadata": {
      "slideshow": {
       "slide_type": "-"
      }
     },
     "source": [
      "* Be able to identify material hoisting equipment based on load requirements.\n",
      "* Be able to identify personnel hoisting equipment based on usage requirements.\n",
      "* Be able to be able to state alternative formwork systems."
     ]
    },
    {
     "cell_type": "heading",
     "level": 2,
     "metadata": {
      "slideshow": {
       "slide_type": "slide"
      }
     },
     "source": [
      "Required Texts"
     ]
    },
    {
     "cell_type": "markdown",
     "metadata": {
      "slideshow": {
       "slide_type": "-"
      }
     },
     "source": [
      "<audio controls data-autoplay>\n",
      " <source src=\"https://github.com/damontallen/Construction-Lectures-Fall-2014/raw/master/Intro/Required%20Text.mp3\"\n",
      "         type='audio/mp3'>\n",
      " <p>Your user agent does not support the HTML5 Audio element.</p>\n",
      "</audio>"
     ]
    },
    {
     "cell_type": "markdown",
     "metadata": {
      "slideshow": {
       "slide_type": "-"
      }
     },
     "source": [
      "**Required text:** [The 2005 Wood Design Package](http://www.awc.org/standards/nds.php) (I recommend that you purchase the hard copy)\n",
      "\n",
      "**Required text:** Hurd, M. K. \u201cFormwork for Concrete\u201d 7 th edition: ISBN-10: 0870311778\n",
      "\n",
      "*(Click on each image below to go to <u>one possible location</u> where you can purchase that text.)*"
     ]
    },
    {
     "cell_type": "markdown",
     "metadata": {
      "slideshow": {
       "slide_type": "-"
      }
     },
     "source": [
      "<a></a>\n",
      "\n",
      "<a href=\"http://www.awc.org/standards/nds.php\">\n",
      "<img src = \"http://www.awc.org/new_images/2005WDP_new2_AWC.jpg\" alt = \"2005 Wood Design Package\" style=\"max-width:200px; max-height:200px; border:1px solid blue; float:left; margin-right:3px;\" ></a>\n",
      "\n",
      "<a href=\"http://www.amazon.com/s?ie=UTF8&field-keywords=Hurd%2C%20M.%20K.%20%3FFormwork%20for%20Concrete%3F&index=blended&link_code=qs&sourceid=Mozilla-search&tag=wwwcanoniccom-20\">\n",
      "<img src = \"http://g-ecx.images-amazon.com/images/G/01/ciu/97/87/fef7a2c008a0ece6eb30c010.L._SY300_.jpg\" alt = '\u201cFormwork for Concrete\u201d 7 th edition' style=\"max-width:200px; max-height:200px; border:1px solid blue; float:left; margin-right:3px;\" ></a>"
     ]
    },
    {
     "cell_type": "markdown",
     "metadata": {
      "slideshow": {
       "slide_type": "-"
      }
     },
     "source": [
      "\n",
      "*(Press the Right arrow at the bottom right)*"
     ]
    },
    {
     "cell_type": "heading",
     "level": 2,
     "metadata": {
      "slideshow": {
       "slide_type": "skip"
      }
     },
     "source": [
      "Pre-Quiz"
     ]
    },
    {
     "cell_type": "markdown",
     "metadata": {
      "slideshow": {
       "slide_type": "skip"
      }
     },
     "source": [
      "<audio controls data-autoplay preload>\n",
      " <source src=\"https://github.com/damontallen/Construction-Lectures-Fall-2014/raw/master/Intro/Prequiz.mp3\"\n",
      "         type='audio/mp3'>\n",
      " <p>Your user agent does not support the HTML5 Audio element.</p>\n",
      "</audio>\n"
     ]
    },
    {
     "cell_type": "markdown",
     "metadata": {
      "slideshow": {
       "slide_type": "skip"
      }
     },
     "source": [
      "Download and fill out the prequiz.  You will need to scan it (or that a photo of it) and upload it to the class website.\n",
      "\n",
      "[Prequiz Download](https://github.com/damontallen/Construction-Lectures-Fall-2014/raw/master/Other_Documents/Pre-Quiz.pdf)\n",
      "\n",
      "[Class website](https://ufl.instructure.com/courses/308516) *(If you are taking the course, submit your prequiz here.)*"
     ]
    },
    {
     "cell_type": "heading",
     "level": 2,
     "metadata": {
      "slideshow": {
       "slide_type": "slide"
      }
     },
     "source": [
      "Resources and References"
     ]
    },
    {
     "cell_type": "markdown",
     "metadata": {},
     "source": [
      "[UF Class website](https://ufl.instructure.com/courses/308516) \n",
      "\n",
      "[Github.io version of course website](http://damontallen.github.io/Construction-Lectures/) *(Do not use this link if you are taking this course in Summer A or B.)*\n",
      "\n",
      "\n",
      "[IPython.org](http://ipython.org/) *(IPython is the opensource software used in the development of much of this course.)*\n",
      "\n",
      "[Complete Software List](http://nbviewer.ipython.org/github/damontallen/Construction-Lectures-Fall-2014/blob/master/Resources.ipynb)"
     ]
    },
    {
     "cell_type": "markdown",
     "metadata": {
      "slideshow": {
       "slide_type": "skip"
      }
     },
     "source": [
      "CSS stylesheet\n",
      "\n",
      "\n",
      "<head>\n",
      "<link rel=\"stylesheet\" type=\"text/css\" href=\"custom.css\">\n",
      "<style>\n",
      "important {font:italic bold 16px arial;}\n",
      ".missing {color:Red}\n",
      "fragment {color:LightBlue;}\n",
      "subslide {color:DarkBlue;}\n",
      "\n",
      ".rgt {float:right;}\n",
      "\n",
      ".lt {float:left;}\n",
      "\n",
      ".cnt {text-align:center; vertical-align:text-top;}\n",
      "\n",
      ".box { border:1px solid blue; float:left; margin-right:3px;}\n",
      "\n",
      ".max {max-width:300px; max-height:300px;}\n",
      "\n",
      ".fix {max-height:200px; max-width:200px;}\n",
      "\n",
      ".maxbox {max-width:300px; max-height:300px; border:1px solid blue; float:left; margin-right:3px;}\n",
      "\n",
      "</style>\n",
      "</head>\n",
      "\n",
      "    /* class = \"max box\" for img tags\n",
      "    \n",
      "    <audio controls data-autoplay preload>\n",
      "     <source src=\"https://github.com/damontallen/Construction-Lectures-Fall-2014/raw/master/Intro/FILE%20NAME.mp3\"\n",
      "             type='audio/mp3'>\n",
      "     <p>Your user agent does not support the HTML5 Audio element.</p>\n",
      "    </audio><a></a>\n",
      "    \n",
      "    */\n",
      "    max box == style=\"max-width:300px; max-height:300px; border:1px solid blue; float:left; margin-right:3px;\""
     ]
    }
   ],
   "metadata": {}
  }
 ]
}