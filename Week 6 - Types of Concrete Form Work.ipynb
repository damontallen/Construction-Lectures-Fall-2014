{
 "cells": [
  {
   "cell_type": "markdown",
   "metadata": {
    "slideshow": {
     "slide_type": "slide"
    }
   },
   "source": [
    "# Types of Concrete Form Work"
   ]
  },
  {
   "cell_type": "markdown",
   "metadata": {},
   "source": [
    "\n",
    "<iframe width=\"420\" height=\"315\" src=\"//www.youtube.com/embed/jBuPpki_qCE\" frameborder=\"0\" allowfullscreen></iframe>\n",
    "\n",
    "*(Since concrete is a liquid until it cures.)*"
   ]
  },
  {
   "cell_type": "markdown",
   "metadata": {
    "slideshow": {
     "slide_type": "slide"
    }
   },
   "source": [
    "## Traditional Timber Formwork"
   ]
  },
  {
   "cell_type": "markdown",
   "metadata": {},
   "source": [
    "<audio controls data-autoplay preload>\n",
    " <source src=\"https://github.com/damontallen/Construction-Lectures-Fall-2014/raw/master/Lecture%20Audio/Week%207/Types-of-Concrete-Formwork/Traditional-Timber-Formwork.mp3\"\n",
    "         type='audio/mp3'>\n",
    " <p>Your user agent does not support the HTML5 Audio element or the files are missing.</p>\n",
    "</audio>"
   ]
  },
  {
   "cell_type": "markdown",
   "metadata": {},
   "source": [
    "<a href=\"https://farm7.staticflickr.com/6086/6147471429_d343375520_o.jpg\"><img src=\"https://farm7.staticflickr.com/6086/6147471429_d343375520_o.jpg\"  style=\"max-width:300px; max-height:300px; border:1px solid blue; float:right; margin-left:3px;\" alt = \"Image of Timber Forms\" Title=\"North Carolina DOT Formwork for Footing\"/></a>\n",
    "\n",
    "Historically formwork has been built on site out of timber and later timber and plywood or other moisture-resistant panel material. It is simple enough to build that skilled and semi-skilled craftsmen can build it with little supervision once the design has been given to them.  However the process is labor intensive and the material has a relatively low number of times it can be reused.  The reuse is generally limited due to damage that occurs during the dismantling process and surface damage caused by adherence of concrete to the form's surfaces.  \n",
    "\n",
    "On the other hand it is still one of the most flexible types of formwork available.  This means even if other systems are used you will still see it on the job to bridge the gaps where those systems will not fit.  For that reason, and the fact that it is the most difficult form that contractors are expected to design, it is what we will be studying this semester.  The main reason for this is that other systems will be designed by an engineer off site and will arrive with tables of use cases.  All a contractor or project manager needs to do is look up what form needs to be used and have the workers follow the assembly instructions.\n",
    "\n",
    "In other words, if you can design it out of timber, using other systems will be much easier.  Additionally, on those occasions where you just need something custom you will know what needs to be designed and will be able to do it.  I will be assuming that you have covered connections to concrete already in other classes and will not be covering that."
   ]
  },
  {
   "cell_type": "markdown",
   "metadata": {
    "slideshow": {
     "slide_type": "slide"
    }
   },
   "source": [
    "## Engineered Formwork System"
   ]
  },
  {
   "cell_type": "markdown",
   "metadata": {},
   "source": [
    "<audio controls data-autoplay preload>\n",
    " <source src=\"https://github.com/damontallen/Construction-Lectures-Fall-2014/raw/master/Lecture%20Audio/Week%207/Types-of-Concrete-Formwork/Engineered-Formwork-System.mp3\"\n",
    "         type='audio/mp3'>\n",
    " <p>Your user agent does not support the HTML5 Audio element or the files are missing.</p>\n",
    "</audio>"
   ]
  },
  {
   "cell_type": "markdown",
   "metadata": {},
   "source": [
    "<a href=\"http://upload.wikimedia.org/wikipedia/commons/thumb/f/f9/%D0%94%D0%B5%D0%BC%D0%BE%D0%BD%D1%82%D0%B0%D0%B6_%D1%81%D0%B1%D0%BE%D1%80%D0%BD%D0%BE-%D1%80%D0%B0%D0%B7%D0%B1%D0%BE%D1%80%D0%BD%D0%BE%D0%B9_%D0%BA%D1%80%D1%83%D0%BF%D0%BD%D0%BE%D1%89%D0%B8%D1%82%D0%BE%D0%B2%D0%BE%D0%B9_%D0%BE%D0%BF%D0%B0%D0%BB%D1%83%D0%B1%D0%BA%D0%B8_%D0%B8%D0%B7_%D0%B0%D0%BB%D1%8E%D0%BC%D0%B8%D0%BD%D0%B8%D0%B5%D0%B2%D1%8B%D1%85_%D0%B1%D0%B0%D0%BB%D0%BE%D0%BA_MEGAFORM_Al.jpg/800px-%D0%94%D0%B5%D0%BC%D0%BE%D0%BD%D1%82%D0%B0%D0%B6_%D1%81%D0%B1%D0%BE%D1%80%D0%BD%D0%BE-%D1%80%D0%B0%D0%B7%D0%B1%D0%BE%D1%80%D0%BD%D0%BE%D0%B9_%D0%BA%D1%80%D1%83%D0%BF%D0%BD%D0%BE%D1%89%D0%B8%D1%82%D0%BE%D0%B2%D0%BE%D0%B9_%D0%BE%D0%BF%D0%B0%D0%BB%D1%83%D0%B1%D0%BA%D0%B8_%D0%B8%D0%B7_%D0%B0%D0%BB%D1%8E%D0%BC%D0%B8%D0%BD%D0%B8%D0%B5%D0%B2%D1%8B%D1%85_%D0%B1%D0%B0%D0%BB%D0%BE%D0%BA_MEGAFORM_Al.jpg\"><img src=\"http://upload.wikimedia.org/wikipedia/commons/thumb/f/f9/%D0%94%D0%B5%D0%BC%D0%BE%D0%BD%D1%82%D0%B0%D0%B6_%D1%81%D0%B1%D0%BE%D1%80%D0%BD%D0%BE-%D1%80%D0%B0%D0%B7%D0%B1%D0%BE%D1%80%D0%BD%D0%BE%D0%B9_%D0%BA%D1%80%D1%83%D0%BF%D0%BD%D0%BE%D1%89%D0%B8%D1%82%D0%BE%D0%B2%D0%BE%D0%B9_%D0%BE%D0%BF%D0%B0%D0%BB%D1%83%D0%B1%D0%BA%D0%B8_%D0%B8%D0%B7_%D0%B0%D0%BB%D1%8E%D0%BC%D0%B8%D0%BD%D0%B8%D0%B5%D0%B2%D1%8B%D1%85_%D0%B1%D0%B0%D0%BB%D0%BE%D0%BA_MEGAFORM_Al.jpg/800px-%D0%94%D0%B5%D0%BC%D0%BE%D0%BD%D1%82%D0%B0%D0%B6_%D1%81%D0%B1%D0%BE%D1%80%D0%BD%D0%BE-%D1%80%D0%B0%D0%B7%D0%B1%D0%BE%D1%80%D0%BD%D0%BE%D0%B9_%D0%BA%D1%80%D1%83%D0%BF%D0%BD%D0%BE%D1%89%D0%B8%D1%82%D0%BE%D0%B2%D0%BE%D0%B9_%D0%BE%D0%BF%D0%B0%D0%BB%D1%83%D0%B1%D0%BA%D0%B8_%D0%B8%D0%B7_%D0%B0%D0%BB%D1%8E%D0%BC%D0%B8%D0%BD%D0%B8%D0%B5%D0%B2%D1%8B%D1%85_%D0%B1%D0%B0%D0%BB%D0%BE%D0%BA_MEGAFORM_Al.jpg\"  style=\"max-width:300px; max-height:300px; border:1px solid blue; float:right; margin-left:3px;\" alt = \"Engineered Formwork System\" Title=\"Aluminum formwork System used during the construction of the Volokolamskaya metro station in Moscow\"/></a>\n",
    "\n",
    "Any formwork that is built in a modular fashion off site that arrives with connectors for rapid assembly can be considered an engineered formwork system or a ready-made form.  This term however has been given to mean a collection of flat panels built out of a metal frame covered with any suitable surface material.  This can be Plyform, steel, aluminum or any other material that is capable of containing concrete.  Some of the more modern systems can be built to provide a specific pattern or texture to the concrete's surface.\n",
    "\n",
    "\n",
    "\n",
    "<a href=\"http://upload.wikimedia.org/wikipedia/commons/thumb/3/37/Talbruecke-Bruenn-4_2005-08-04.jpg/800px-Talbruecke-Bruenn-4_2005-08-04.jpg\"><img src=\"http://upload.wikimedia.org/wikipedia/commons/thumb/3/37/Talbruecke-Bruenn-4_2005-08-04.jpg/800px-Talbruecke-Bruenn-4_2005-08-04.jpg\"  style=\"max-width:300px; max-height:300px; border:1px solid blue; float:left; margin-right:3px;\" alt = \"Engineered Formwork System\" Title=\"Modular steel frame formwork for a foundation\"/></a>\n",
    "\n",
    "The advantage of these forms is their quick assembly time and durability.  Relatively unskilled workers can be used to construct forms out of ready-made panels but there will still be a need for someone with the expertise to set up the bracing and other supports prior to pouring.  There main drawback of this type of form work is the initial cost.  Also since forms like these will be purchased from a specific manufacture they are unlikely to be compatible with other brands."
   ]
  },
  {
   "cell_type": "markdown",
   "metadata": {
    "slideshow": {
     "slide_type": "slide"
    }
   },
   "source": [
    "## Table or flying forms"
   ]
  },
  {
   "cell_type": "markdown",
   "metadata": {},
   "source": [
    "<audio controls data-autoplay preload>\n",
    " <source src=\"https://github.com/damontallen/Construction-Lectures-Fall-2014/raw/master/Lecture%20Audio/Week%207/Types-of-Concrete-Formwork/Table-or-flying-forms.mp3\"\n",
    "         type='audio/mp3'>\n",
    " <p>Your user agent does not support the HTML5 Audio element or the files are missing.</p>\n",
    "</audio>"
   ]
  },
  {
   "cell_type": "markdown",
   "metadata": {},
   "source": [
    "<a href=\"http://i.imgur.com/fEY7dns.png\"><img src=\"http://i.imgur.com/fEY7dns.png\"  style=\"max-width:300px; max-height:300px; border:1px solid blue; float:left; margin-right:3px;\" alt = \"Table Form\"/></a>\n",
    "\n",
    "Table form are used in the construction of repetitive high-rise buildings where each room has identical or nearly identical layouts.  The other necessary aspect of their use is that a crane can be employed to move the assembled form from floor to floor as the building progresses.  Their concept is that once a pour is complete the slab form for one module of the building is simply released from the concrete while the support assembly remains intact with braces and shores attached.  The form is then removed from the module as a unit by a crane and hoisted to the next level of construction.  It is then re-leveled and the wall forms are placed.  Some versions of this system have the wall forms place prior to the slab form and other version have the wall forms flown as part of the system.  These are know as tunnel forms.\n",
    "\n",
    "<a href=\"https://www.google.com/search?q=Table+or+flying+forms&channel=fs&tbas=0&tbm=isch\">(Additional images.)</a>\n",
    "\n",
    "They are useful in situations where there is a lot of repetition, and can make quality control much simpler.  Because they are designed to be moved the structures are generally stronger than necessary with regards to concrete pressures.  Additionally safety features like guard rails can be built into the the forms making for both rapid and safe construction.\n",
    "\n",
    "Other considerations include the need for the space to move the assembled forms from one place to the next and it is likely that reshoring will be needed once the forms have been stripped unless high early strength concrete is used."
   ]
  },
  {
   "cell_type": "markdown",
   "metadata": {
    "slideshow": {
     "slide_type": "slide"
    }
   },
   "source": [
    "## Climbing Formwork"
   ]
  },
  {
   "cell_type": "markdown",
   "metadata": {},
   "source": [
    "<audio controls data-autoplay preload>\n",
    " <source src=\"https://github.com/damontallen/Construction-Lectures-Fall-2014/raw/master/Lecture%20Audio/Week%207/Types-of-Concrete-Formwork/Climbing-Formwork.mp3\"\n",
    "         type='audio/mp3'>\n",
    " <p>Your user agent does not support the HTML5 Audio element or the files are missing.</p>\n",
    "</audio>"
   ]
  },
  {
   "cell_type": "markdown",
   "metadata": {},
   "source": [
    "<a href=\"http://commons.wikimedia.org/wiki/File:Cassaforma_rampante_Destil.jpg\"><img src=\"http://upload.wikimedia.org/wikipedia/commons/e/e4/Cassaforma_rampante_Destil.jpg\"  style=\"max-width:300px; max-height:300px; border:1px solid blue; float:right; margin-left:3px;\" alt = \"Climbing Form - Rampant Formwork Example\"/></a>\n",
    "\n",
    "Climbing forms can be broken down into three types, forms moved by cranes, intermittently self propelled forms, and continuously propelled forms.  These forms are used for vertical surfaces that are uniform throughout the height of the structure.  They have a high initial cost but can reduce the overall costs of the project due to the inclusion of scaffolding and weather protection as part of the form.  They may be essential if there is a need to have a pour with no breaks in a continuous vertical surface throughout the structure.\n",
    "\n",
    "These forms are primarily useful in high-rises but if the price warrants it they can be used in any prismatic structure."
   ]
  },
  {
   "cell_type": "markdown",
   "metadata": {
    "slideshow": {
     "slide_type": "slide"
    }
   },
   "source": [
    "## Permanent Insulated Formwork "
   ]
  },
  {
   "cell_type": "markdown",
   "metadata": {},
   "source": [
    "<audio controls data-autoplay preload>\n",
    " <source src=\"https://github.com/damontallen/Construction-Lectures-Fall-2014/raw/master/Lecture%20Audio/Week%207/Types-of-Concrete-Formwork/Permanent-Insulated-Formwork.mp3\"\n",
    "         type='audio/mp3'>\n",
    " <p>Your user agent does not support the HTML5 Audio element or the files are missing.</p>\n",
    "</audio>"
   ]
  },
  {
   "cell_type": "markdown",
   "metadata": {},
   "source": [
    "<a href=\"http://commons.wikimedia.org/wiki/File:Insulating_Concrete_Forms_ICF_Interior_Block.JPG\"><img src=\"http://upload.wikimedia.org/wikipedia/commons/7/79/Insulating_Concrete_Forms_ICF_Interior_Block.JPG\"  style=\"max-width:300px; max-height:300px; border:1px solid blue; float:left; margin-right:3px;\" alt = \"Insulating Concrete Forms (ICF) Interior Block\"/></a>\n",
    "\n",
    "This formwork, also know as insulating concrete forms (ICF), stays in place after the concrete has cured.  It has the advantages of ease of placement and reduction of construction time due to insulating at the same time as forming.  It also is relatively easy to run conduit for electrical cases after curing has completed with the aid of either specialized hot knives or routing equipment.  \n",
    "<a href=\"http://commons.wikimedia.org/wiki/File:Insulating_Concrete_Forms_ICF_Bracing.JPG\"><img src=\"http://upload.wikimedia.org/wikipedia/commons/4/42/Insulating_Concrete_Forms_ICF_Bracing.JPG\"  style=\"max-width:300px; max-height:300px; border:1px solid blue; float:right; margin-left:3px;\" alt = \"ICF Bracing\"/></a>\n",
    "The forms are made of rigid foam which is just as easy to cut with hand tools as with small power tools.  The insulation making up the forms serves as both a thermal and acoustic barrier for the structure. They come with plastic spacers that have built in chairs to hold reinforcing bars and these chair also have integrated fastening points at the surface of the forms which make applying finishes both quick and versatile.\n",
    "\n",
    "\n",
    "The draw back is the cost but that can be offset some by a reduction of labor."
   ]
  },
  {
   "cell_type": "markdown",
   "metadata": {
    "slideshow": {
     "slide_type": "slide"
    }
   },
   "source": [
    "## Inflatable formwork"
   ]
  },
  {
   "cell_type": "markdown",
   "metadata": {},
   "source": [
    "<audio controls data-autoplay preload>\n",
    " <source src=\"https://github.com/damontallen/Construction-Lectures-Fall-2014/raw/master/Lecture%20Audio/Week%207/Types-of-Concrete-Formwork/Inflatable-formwork.mp3\"\n",
    "         type='audio/mp3'>\n",
    " <p>Your user agent does not support the HTML5 Audio element or the files are missing.</p>\n",
    "</audio>"
   ]
  },
  {
   "cell_type": "markdown",
   "metadata": {},
   "source": [
    "<a href=\"http://www.sciencedaily.com/releases/2014/06/140611093451.htm\"><img src=\"http://images.sciencedaily.com/2014/06/140611093451_1_540x360.jpg\"  style=\"max-width:300px; max-height:300px; border:1px solid blue; float:right; margin-left:3px;\" alt = \"Inflatable Concrete Dome\"/></a>\n",
    "\n",
    "In some circumstances a flexible form is used when speed is the critical criteria.  These forms are not intended for exceptionally large structures but rather structures that are domed or arched in shape, usually small buildings or tanks.  Due to the medium, tight tolerances are impossible to maintain and additional concrete is added to ensure a sufficient structure.  Concrete is placed on the outside of the inflated form and then left to cure.  Afterwards the form is deflated allowing for its removal and reuse.  \n",
    "\n",
    "This forming technique can be used for artistic effect but the structure is limited to curved surfaces."
   ]
  },
  {
   "cell_type": "markdown",
   "metadata": {
    "slideshow": {
     "slide_type": "slide"
    }
   },
   "source": [
    "## Summary"
   ]
  },
  {
   "cell_type": "markdown",
   "metadata": {},
   "source": [
    "<audio controls data-autoplay preload>\n",
    " <source src=\"https://github.com/damontallen/Construction-Lectures-Fall-2014/raw/master/Lecture%20Audio/Week%207/Types-of-Concrete-Formwork/Summary.mp3\"\n",
    "         type='audio/mp3'>\n",
    " <p>Your user agent does not support the HTML5 Audio element or the files are missing.</p>\n",
    "</audio>"
   ]
  },
  {
   "cell_type": "markdown",
   "metadata": {},
   "source": [
    "This presentation is not meant to be an exhaustive list of all types of formwork but rather just a selection of the most common forms that are currently in use.  To be sure there are less common forms not listed here and there are potentially new methods rapidly gaining popularity I have not listed as well.  In any case this gives you a basic understanding of what is out there.  Also this brings us back to the point that I initially made about timber forms.  They are going to be the ones we cover this semester because they are more complicated to design and if you can do that then you are more than capable of using any of the other simpler systems."
   ]
  },
  {
   "cell_type": "markdown",
   "metadata": {
    "slideshow": {
     "slide_type": "slide"
    }
   },
   "source": [
    "# Refences\n",
    "\n",
    "*Listed in no particular order.*\n",
    "\n",
    "* [ACI 318-11](http://www.concrete.org/store/productdetail.aspx?ItemID=31811)\n",
    "* [Formwork for Concrete SP-4(14)](http://www.concrete.org/store/productdetail.aspx?ItemID=SP48TH)\n",
    "* [Bright Engineering Hub](http://www.brighthubengineering.com/building-construction-design/49443-the-latest-formwork-systems/)\n",
    "* [Formwork - Wikipedia](http://en.wikipedia.org/wiki/Formwork)\n",
    "* [Climing Formwork - Wikipedia](http://en.wikipedia.org/wiki/Climbing_formwork)\n",
    "* [GFlobal Construction Review](http://www.globalconstructionreview.com/news/new-inflatable-concrete-construction-3system-856/)\n",
    "\n",
    "Images:\n",
    "\n",
    "*Listed in order of apperance.*\n",
    "\n",
    "* [North Carolina DOT Formwork for Footing](https://www.flickr.com/photos/ncdot/6147471429/)\n",
    "* [Aluminum formwork System](http://commons.wikimedia.org/wiki/File:%D0%94%D0%B5%D0%BC%D0%BE%D0%BD%D1%82%D0%B0%D0%B6_%D1%81%D0%B1%D0%BE%D1%80%D0%BD%D0%BE-%D1%80%D0%B0%D0%B7%D0%B1%D0%BE%D1%80%D0%BD%D0%BE%D0%B9_%D0%BA%D1%80%D1%83%D0%BF%D0%BD%D0%BE%D1%89%D0%B8%D1%82%D0%BE%D0%B2%D0%BE%D0%B9_%D0%BE%D0%BF%D0%B0%D0%BB%D1%83%D0%B1%D0%BA%D0%B8_%D0%B8%D0%B7_%D0%B0%D0%BB%D1%8E%D0%BC%D0%B8%D0%BD%D0%B8%D0%B5%D0%B2%D1%8B%D1%85_%D0%B1%D0%B0%D0%BB%D0%BE%D0%BA_MEGAFORM_Al.jpg)\n",
    "* [Modular steel frame formwork for a foundation](http://commons.wikimedia.org/wiki/File:Talbruecke-Bruenn-4_2005-08-04.jpg)\n",
    "* [Rampant formwork example](http://commons.wikimedia.org/wiki/File:Cassaforma_rampante_Destil.jpg)\n",
    "* [Insulating Concrete Forms (ICF) Interior Block](http://commons.wikimedia.org/wiki/File:Insulating_Concrete_Forms_ICF_Interior_Block.JPG)\n",
    "* [ICF Bracing](http://commons.wikimedia.org/wiki/File:Insulating_Concrete_Forms_ICF_Bracing.JPG)\n",
    "* [Inflatable Concrete Dome](http://www.sciencedaily.com/releases/2014/06/140611093451.htm)\n",
    "\n",
    "[Class website](https://ufl.instructure.com/courses/) *(Use this link to if you are taking the course on e-learning.)*\n",
    "\n",
    "[Github.io version of course website](http://damontallen.github.io/Construction-Lectures-Fall-2014/) *(Do not use this link if you are taking this course in Summer A or B.)*\n",
    "\n",
    "[IPython.org](http://ipython.org/) *(IPython is the opensource software used in the development of much of this course.)*\n",
    "\n",
    "[Complete Software List](http://nbviewer.ipython.org/github/damontallen/Construction-Lectures-Fall-2014/blob/master/Resources.ipynb)"
   ]
  }
 ],
 "metadata": {
  "celltoolbar": "Slideshow",
  "kernelspec": {
   "display_name": "Python 3",
   "language": "python",
   "name": "python3"
  },
  "language_info": {
   "codemirror_mode": {
    "name": "ipython",
    "version": 3
   },
   "file_extension": ".py",
   "mimetype": "text/x-python",
   "name": "python",
   "nbconvert_exporter": "python",
   "pygments_lexer": "ipython3",
   "version": "3.4.0"
  }
 },
 "nbformat": 4,
 "nbformat_minor": 0
}
