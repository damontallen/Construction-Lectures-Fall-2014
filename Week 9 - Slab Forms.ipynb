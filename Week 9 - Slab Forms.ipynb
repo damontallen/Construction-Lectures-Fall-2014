{
 "metadata": {
  "celltoolbar": "Slideshow",
  "name": "",
  "signature": "sha256:f2dfc23f241f4603db2978e6facb4fb4ff42366771c434d7076d0fbd90516be4"
 },
 "nbformat": 3,
 "nbformat_minor": 0,
 "worksheets": [
  {
   "cells": [
    {
     "cell_type": "heading",
     "level": 1,
     "metadata": {
      "slideshow": {
       "slide_type": "slide"
      }
     },
     "source": [
      "Formwork for Slabs"
     ]
    },
    {
     "cell_type": "markdown",
     "metadata": {},
     "source": [
      "<iframe width=\"420\" height=\"315\" src=\"//www.youtube.com/embed/y90s_JJmpQU\" frameborder=\"0\" allowfullscreen></iframe>"
     ]
    },
    {
     "cell_type": "heading",
     "level": 1,
     "metadata": {
      "slideshow": {
       "slide_type": "slide"
      }
     },
     "source": [
      "Slab Forms"
     ]
    },
    {
     "cell_type": "markdown",
     "metadata": {},
     "source": [
      "<audio controls data-autoplay preload>\n",
      " <source src=\"https://github.com/damontallen/Construction-Lectures/raw/master/Lecture%20Audio/Week%209/Slab%20Form%20Design/Slab%20Forms.mp3\"\n",
      "         type='audio/mp3'>\n",
      " <p>Your user agent does not support the HTML5 Audio element or the files are missing.</p>\n",
      "</audio>"
     ]
    },
    {
     "cell_type": "markdown",
     "metadata": {},
     "source": [
      "<a href = \"http://i.imgur.com/dsYZ9Pt.png\"><img src=\"http://i.imgur.com/dsYZ9Pt.png\" alt = \"Slab Form Parts\" title = \"Slab Form Parts\" style=\"max-width:300px; max-height:300px; border:1px solid blue; float:right; margin-left:10px;\"/></a>\n",
      "\n",
      "A slab form, at its most basic, consists of four parts:\n",
      "\n",
      "* Plywood, that supports the slab\n",
      "* Joists, that support the plywood\n",
      "* Stringers, that support the joists\n",
      "* Shores, that support the stringers\n",
      "\n",
      "In a real slab form there are at least two other parts, the braces, and the form work for the sides of the slab.  You already know about the braces, and you can think of the [side forms](http://i.imgur.com/kCu8aMV.png) as just really short walls that are supported with nails at the bottom, and compression braces at the top.\n",
      "\n",
      "<a href = \"http://www.ellisok.net/sites/default/files/imagecache/gallery_full/gallery-pictures/Dec%2020_2.jpg\"><img src=\"http://www.ellisok.net/sites/default/files/imagecache/gallery_full/gallery-pictures/Dec%2020_2.jpg\" alt = \"Slab Form and Reshores\" title = \"Slab Form and Reshores\" style=\"max-width:300px; max-height:300px; border:1px solid blue; float:left; margin-right:25px;\"/></a>\n",
      "\n",
      "\n",
      "In the image to the right, the shores are green due to being pressure treated.  This is not necessary, but I've shown them this way because if you walk into a home center you are most likely to see 4x4s that are green due to being treated.\n",
      "\n",
      "The image to the left ([source](http://www.ellisok.net/gallery)) is of a third floor slab form, supported on [Ellis Jacks](http://www.ellisok.net/shore-clamps/ellis-4x4-shore-clamp), (note that there are addition eccentricities in the shores).  The second floor is being supported by reshores, but that is another topic.  Additionally, there are options for [shoring$^1$](http://www.sontac-scaffold.com/images/Products/prop-001.gif), and even [forms$^2$](http://www.peri.com/shared/siteimg/history/1992_01.jpg).  But, again, if you can understand how to design a slab form out of timber, then you can design one using other systems.\n",
      "\n",
      "1. [Source](http://www.sontac-scaffold.com/en/products/steel-prop.htm)\n",
      "2. [Source](http://www.peri.com/en/company/company/history.cfm)"
     ]
    },
    {
     "cell_type": "heading",
     "level": 2,
     "metadata": {
      "slideshow": {
       "slide_type": "slide"
      }
     },
     "source": [
      "Design Process"
     ]
    },
    {
     "cell_type": "markdown",
     "metadata": {},
     "source": [
      "<audio controls data-autoplay preload>\n",
      " <source src=\"https://github.com/damontallen/Construction-Lectures/raw/master/Lecture%20Audio/Week%209/Slab%20Form%20Design/Design%20Process.mp3\"\n",
      "         type='audio/mp3'>\n",
      " <p>Your user agent does not support the HTML5 Audio element or the files are missing.</p>\n",
      "</audio>"
     ]
    },
    {
     "cell_type": "markdown",
     "metadata": {},
     "source": [
      "The design procedure is similar to wall forms.\n",
      "\n",
      "1. Determine the load on the plywood.\n",
      "2. Determine the support spacing for the plywood, (joists are used for support instead of studs in this case).\n",
      "3. Determine the support spacing for the joists, (stringers are used for support instead of wales).\n",
      "4. Determine the support spacing for the stringers, (shores instead of ties).\n",
      "5. Determine the bearing strength (one additional case in slab forms).\n",
      "    1. Bearing between joists and stringers.\n",
      "    2. Bearing between stringers and shores.\n",
      "6. Determine the capacity of the shore, (we will use timber columns for our shores).\n",
      "\n",
      "Aside from the fact that there is one additional bearing check we need to make, there is one other difference.  That difference is the constructable spacings.  When we were looking are wall forms everything we looked at was based around getting the spacings to work out with the size of a sheet of plywood.  We only need to design around a sheet of plywood when we are doing the plywood support spacings in slab forms, i.e. the joist spacings.  Our joists are not limited to $48\"$ and $96\"$, instead joists will generally be a standard lumber length.  Lumber is typically sold in either $8'$, $10'$, $12'$, $14'$, or $16'$ lengths.  This variety means that we will have to decide how long we want the joists to be when we determine their support spacings.  For instance if we find that the joists should be supported every $42\"$, then instead of rounding down to $32\"$ to use an $8'$ long member ($3 \\times 32\" = 96\" = 8'$) we will just use $14'$ long joists ($4 \\times 42\" = 168\" = 14'$).  I'll cover an analytically approach of determining this later.\n",
      "\n",
      "Before we start working on an example problem, I should memtion a couple of assumptions I will be making in all slab design problems.  Firstly, all joists will be 4x4s.  This isn't required in a professional setting, but they are used commonly enough that it isn't an unreasonable assumption.  Secondly, all stingers will be 4x6s (oriented in the strong direction).  Again, it isn't really required but it is relatively common.  \n",
      "\n",
      "The reason that 4x4s and 4x6s are *so* common that I can make these assumptions, is that the use such stout members eliminates the need for labor intensive, intermediate blocking.  Such blocking *would* be needed to prevent rollover for taller and thinner members.   Let's go ahead, and work through an example problem."
     ]
    },
    {
     "cell_type": "heading",
     "level": 1,
     "metadata": {
      "slideshow": {
       "slide_type": "slide"
      }
     },
     "source": [
      "Slab Form Design Example:"
     ]
    },
    {
     "cell_type": "markdown",
     "metadata": {},
     "source": [
      "<audio controls data-autoplay preload>\n",
      " <source src=\"https://github.com/damontallen/Construction-Lectures/raw/master/Lecture%20Audio/Week%209/Slab%20Form%20Design/Determine%20the%20Following.mp3\"\n",
      "         type='audio/mp3'>\n",
      " <p>Your user agent does not support the HTML5 Audio element or the files are missing.</p>\n",
      "</audio>"
     ]
    },
    {
     "cell_type": "heading",
     "level": 3,
     "metadata": {},
     "source": [
      "Determine the Following:"
     ]
    },
    {
     "cell_type": "markdown",
     "metadata": {},
     "source": [
      "* Joist Spacing in inches\n",
      "* Stinger Spacing in inches\n",
      "* Shore Spacing in inches\n",
      "* Shore Axial Load in pounds\n",
      "* Allowable Stringer Bearing Stress in psi\n",
      "* Actual Stringer Bearing Stress in psi\n",
      "* Verify that a 4x6 shoring will work."
     ]
    },
    {
     "cell_type": "markdown",
     "metadata": {},
     "source": [
      "Design formwork for a concrete floor slab based on the following information:\n",
      "\n",
      "* Thickness of concrete slab = 10\u201d\n",
      "* Unbraced length for shores = 14 ft\n",
      "* Concrete unit weight = 150 lb/ft$^3$\n",
      "* Deflection limited to L/360 but not greater than 1/16\u201d\n",
      "* All form lumber will be S4S Select Structural Hem-Fir with no splits\n",
      "* Assume dry conditions for lumber and wet conditions for plywood\n",
      "* Decking for the slab will be 3/4\u201d Group II Plywood (S-2)\n",
      "* Load duration factor of 7 days\n",
      "* Dead Load for formwork material = 5.5 psf and Live Load = 50 psf"
     ]
    },
    {
     "cell_type": "code",
     "collapsed": false,
     "input": [
      "%run Older_Classes/Temp_struc.py\n",
      "%run Beams/Timber_beam_v_02.py\n",
      "%run Beams/Find_Beam_lib.py"
     ],
     "language": "python",
     "metadata": {
      "slideshow": {
       "slide_type": "skip"
      }
     },
     "outputs": [
      {
       "output_type": "stream",
       "stream": "stdout",
       "text": [
        "In order to display plots inline in the IPython notebook you must include the following magic command:\n",
        "%matplotlib inline\n",
        "If you need to display plot you will need to used the following commmand"
       ]
      },
      {
       "output_type": "stream",
       "stream": "stdout",
       "text": [
        "\n",
        "%matplotlib inline\n",
        "\n",
        "Note: The atribute 'pick_list' is now available_grades (added Jan, 6, 2014)\n"
       ]
      }
     ],
     "prompt_number": 1
    },
    {
     "cell_type": "code",
     "collapsed": false,
     "input": [
      "t_concrete = 10 #in\n",
      "DL_form_work = 5.5 #psf\n",
      "LL = 50 #psf\n",
      "Wet = True"
     ],
     "language": "python",
     "metadata": {
      "slideshow": {
       "slide_type": "skip"
      }
     },
     "outputs": [],
     "prompt_number": 2
    },
    {
     "cell_type": "code",
     "collapsed": false,
     "input": [
      "ply = panel()\n",
      "\n",
      "#setting the thickness sets the structural properties \n",
      "#of the plywood automatically\n",
      "ply.nom_thick='3/4' \n",
      "ply.group='Group 2'\n",
      "ply.stress_rating='S-2'\n",
      "ply.condition = \"wet\""
     ],
     "language": "python",
     "metadata": {
      "slideshow": {
       "slide_type": "skip"
      }
     },
     "outputs": [],
     "prompt_number": 3
    },
    {
     "cell_type": "code",
     "collapsed": false,
     "input": [
      "Species = \"HEM-FIR\"\n",
      "Grade = 'Select Structural'\n",
      "Shore_length = 14 #ft\n",
      "Shore_section_b = 3.5 #in\n",
      "Shore_section_d = 5.5 #in\n"
     ],
     "language": "python",
     "metadata": {
      "slideshow": {
       "slide_type": "skip"
      }
     },
     "outputs": [],
     "prompt_number": 4
    },
    {
     "cell_type": "heading",
     "level": 2,
     "metadata": {
      "slideshow": {
       "slide_type": "slide"
      }
     },
     "source": [
      "Span calculations"
     ]
    },
    {
     "cell_type": "markdown",
     "metadata": {},
     "source": [
      "<audio controls data-autoplay preload>\n",
      " <source src=\"https://github.com/damontallen/Construction-Lectures/raw/master/Lecture%20Audio/Week%209/Slab%20Form%20Design/Span%20calculations.mp3\"\n",
      "         type='audio/mp3'>\n",
      " <p>Your user agent does not support the HTML5 Audio element or the files are missing.</p>\n",
      "</audio>"
     ]
    },
    {
     "cell_type": "markdown",
     "metadata": {},
     "source": [
      "For Bending, span, $L = 10.95 \\sqrt{\\frac{F_b' S}{w}}$\n",
      "\n",
      "For Rolling shear in sheathing, span, $L = \\frac{20 \\times F_s'}{w}\\times \\frac{I b }{Q}$\n",
      "\n",
      "For Shear in dimensional lumber, span, $L = 13.33 \\times \\frac{F_v' b d}{w} + 2 d$\n",
      "\n",
      "For deflection where $\\Delta = {}^L/_{360}$,  span, $L = 1.69 \\sqrt[3]{\\frac{E' I}{w}}$\n",
      "\n",
      "For deflection where $\\Delta = {}^1/_{16}\\text{\"}$,  span, $L = 3.23 \\sqrt[4]{\\frac{E' I}{w}}$\n",
      "\n",
      "Stress = Load/Area"
     ]
    },
    {
     "cell_type": "heading",
     "level": 2,
     "metadata": {
      "slideshow": {
       "slide_type": "slide"
      }
     },
     "source": [
      "Pressure"
     ]
    },
    {
     "cell_type": "markdown",
     "metadata": {},
     "source": [
      "<audio controls data-autoplay preload>\n",
      " <source src=\"https://github.com/damontallen/Construction-Lectures/raw/master/Lecture%20Audio/Week%209/Slab%20Form%20Design/Pressure.mp3\"\n",
      "         type='audio/mp3'>\n",
      " <p>Your user agent does not support the HTML5 Audio element or the files are missing.</p>\n",
      "</audio>"
     ]
    },
    {
     "cell_type": "code",
     "collapsed": false,
     "input": [
      "DL_fw = DL_form_work\n",
      "LL = LL\n",
      "t = t_concrete\n",
      "SlabLoad = slab_load(t,LL = LL, DL_forms = DL_fw)\n",
      "p = SlabLoad['value']\n",
      "# p =  DL_fw+DL_con+LL\n",
      "print(\"Uninform pressure = %.2f psf\"%p)"
     ],
     "language": "python",
     "metadata": {
      "slideshow": {
       "slide_type": "skip"
      }
     },
     "outputs": [
      {
       "output_type": "stream",
       "stream": "stdout",
       "text": [
        "Uninform pressure = 180.50 psf\n"
       ]
      }
     ],
     "prompt_number": 5
    },
    {
     "cell_type": "markdown",
     "metadata": {},
     "source": [
      "The load on the slab formwok is made up of, the Concrete Dead Load, the Formwork Dead Load, and the worker Live Load. We need to find the Concrete Dead Load, then calculate the total pressure $(p)$ on the slab formwork."
     ]
    },
    {
     "cell_type": "code",
     "collapsed": false,
     "input": [
      "SlabLoad['work']"
     ],
     "language": "python",
     "metadata": {},
     "outputs": [
      {
       "latex": [
        "$$ $$ \n",
        "${}$\n",
        " $$\\text{Concrete Dead Load } = DL_{con} = \\text{Slab Thickness} \\times \\text{Unit weight of Concrete}$$ \n",
        "${}$\n",
        " $$\\text{Unit weight of concrete} = \\gamma_{con} = 150 pcf$$ \n",
        "${}$\n",
        " $$\\text{Slab thickness } = t_{slab} = 10\"$$ \n",
        "${}$\n",
        " $$DL_{con} = t_{slab} \\times \\gamma_{con}$$ \n",
        "${}$\n",
        " $$DL_{con} = 10\" \\times 150 pcf \\times \\frac{1 ft}{12 in}$$ \n",
        "${}$\n",
        " $$DL_{con} = 125 psf$$ \n",
        "${}$\n",
        " $$\\text{Formwork Dead Load } = DL_{forms} = 5.5 psf$$ \n",
        "${}$\n",
        " $$\\text{Slab Live Load } = LL = 50 psf$$ \n",
        "${}$\n",
        " $$\\text{Total Pressure Load on the Slab Form Work} = p$$ \n",
        "${}$\n",
        " $$p = \\text{Concrete Dead Load} + \\text{Formwork Dead Load } + \\text{Slab Live Load }$$ \n",
        "${}$\n",
        " $$p = DL_{con} + DL_{forms} + LL$$ \n",
        "${}$\n",
        " $$p = 125 psf + 5.5 psf + 50 psf$$ \n",
        "${}$\n",
        " $$p = 180.5 psf$$"
       ],
       "metadata": {},
       "output_type": "pyout",
       "prompt_number": 6,
       "text": [
        "<IPython.core.display.Latex at 0x7f901de1d4a8>"
       ]
      }
     ],
     "prompt_number": 6
    },
    {
     "cell_type": "heading",
     "level": 2,
     "metadata": {
      "slideshow": {
       "slide_type": "slide"
      }
     },
     "source": [
      "Plywood"
     ]
    },
    {
     "cell_type": "markdown",
     "metadata": {},
     "source": [
      "<audio controls data-autoplay preload>\n",
      " <source src=\"https://github.com/damontallen/Construction-Lectures/raw/master/Lecture%20Audio/Week%209/Slab%20Form%20Design/Plywood.mp3\"\n",
      "         type='audio/mp3'>\n",
      " <p>Your user agent does not support the HTML5 Audio element or the files are missing.</p>\n",
      "</audio>"
     ]
    },
    {
     "cell_type": "code",
     "collapsed": false,
     "input": [
      "print('Plywood thickness = %s\"'%ply.nom_thick)\n",
      "print('Plywood group = %s'%ply.group)\n",
      "print('Plywood stress ratting = %s'%ply.stress_rating)\n",
      "print('Plywood moisture condition = %s'%ply.condition)"
     ],
     "language": "python",
     "metadata": {
      "slideshow": {
       "slide_type": "skip"
      }
     },
     "outputs": [
      {
       "output_type": "stream",
       "stream": "stdout",
       "text": [
        "Plywood thickness = 3/4\"\n",
        "Group 2\n",
        "Plywood group = None\n",
        "Plywood stress ratting = S-2\n",
        "Plywood moisture condition = wet\n"
       ]
      }
     ],
     "prompt_number": 7
    },
    {
     "cell_type": "code",
     "collapsed": false,
     "input": [
      "# OVERRIDE\n",
      "# ply.F_b = 820 #psi/ft\n",
      "# ply.F_s = 44 #psi/ft\n",
      "# ply.E = 1300000 #psi/ft\n",
      "# ply.C_D = 1.25"
     ],
     "language": "python",
     "metadata": {
      "slideshow": {
       "slide_type": "skip"
      }
     },
     "outputs": [],
     "prompt_number": 8
    },
    {
     "cell_type": "markdown",
     "metadata": {},
     "source": [
      "Knowing that the plywood is orienated in the stong direction, and our $C_D = 1.25$, we can look up the properties of the plywood in the [Plywood Design Specification](http://www.apawood.org/pdfs/download_pdf.cfm?PDFFilename=managed/Y510.pdf)."
     ]
    },
    {
     "cell_type": "code",
     "collapsed": false,
     "input": [
      "ply.show_props"
     ],
     "language": "python",
     "metadata": {},
     "outputs": [
      {
       "latex": [
        "$$\\text{From the Plywood Properties Tables:}$$ $$t_{nom} = 3/4\"$$ $$A = 2.884 (in^2/ft)$$ $$I = 0.197 (in^4/ft)$$ $$S = 0.412 (in^3/ft)$$ $$Ib/Q = 6.762 (in^2/ft)$$ $$F_b = 820 psi$$ $$F_s = 44 psi$$ $$E = 1.300E+06 psi$$ $$C_D = 1.250$$ $$strong = True$$ "
       ],
       "metadata": {},
       "output_type": "pyout",
       "prompt_number": 9,
       "text": [
        "<IPython.core.display.Latex at 0x7f901de1d860>"
       ]
      }
     ],
     "prompt_number": 9
    },
    {
     "cell_type": "markdown",
     "metadata": {},
     "source": [
      "This means that the allowable stresses for the plywood are,"
     ]
    },
    {
     "cell_type": "code",
     "collapsed": false,
     "input": [
      "ply.show_allowable_stress"
     ],
     "language": "python",
     "metadata": {},
     "outputs": [
      {
       "latex": [
        "$$F_b' = F_b \\times C_D$$ $$F_b' = 820 psi \\times 1.25$$ $$F_b' = 1025 psi$$  \n",
        "${}$\n",
        " $$F_s' = F_s \\times C_D$$ $$F_s' = 44 psi \\times 1.25$$ $$F_s' = 55 psi$$  \n",
        "${}$\n",
        " $$E' = E$$ $$E' = 1.30E+06 psi$$ "
       ],
       "metadata": {},
       "output_type": "pyout",
       "prompt_number": 10,
       "text": [
        "<IPython.core.display.Latex at 0x7f901de1d128>"
       ]
      }
     ],
     "prompt_number": 10
    },
    {
     "cell_type": "code",
     "collapsed": false,
     "input": [
      "w = p\n",
      "print(\"w = %.2f plf\"%w)\n",
      "joist_spacing = board_test(ply,w,plywood=True, slab=True)"
     ],
     "language": "python",
     "metadata": {
      "slideshow": {
       "slide_type": "skip"
      }
     },
     "outputs": [
      {
       "output_type": "stream",
       "stream": "stdout",
       "text": [
        "w = 180.50 plf\n"
       ]
      }
     ],
     "prompt_number": 11
    },
    {
     "cell_type": "heading",
     "level": 2,
     "metadata": {
      "slideshow": {
       "slide_type": "slide"
      }
     },
     "source": [
      "Plywood Span Limits (Joist Spacing)"
     ]
    },
    {
     "cell_type": "markdown",
     "metadata": {},
     "source": [
      "<audio controls data-autoplay preload>\n",
      " <source src=\"https://github.com/damontallen/Construction-Lectures/raw/master/Lecture%20Audio/Week%209/Slab%20Form%20Design/Plywood%20Span%20Limits%20(Joist%20Spacing).mp3\"\n",
      "         type='audio/mp3'>\n",
      " <p>Your user agent does not support the HTML5 Audio element or the files are missing.</p>\n",
      "</audio>"
     ]
    },
    {
     "cell_type": "markdown",
     "metadata": {},
     "source": [
      "Now that we know the properties of the plywood we can calculate the maximum spacing of the joists due to bending, rolling shear, and both deflection limits."
     ]
    },
    {
     "cell_type": "code",
     "collapsed": false,
     "input": [
      "joist_spacing['work']"
     ],
     "language": "python",
     "metadata": {},
     "outputs": [
      {
       "latex": [
        "$$\\text{For a pressure of }180 psf \\text{ the line load equals }  180 plf $$ \n",
        "${}$\n",
        " $$L = 10.95 \\sqrt{\\frac{F_b' S}{w}} = 10.95 \\sqrt{\\frac{1025 psi  \\times 0.412 in^3 }{ 180 plf }} =16.75\" \\text{ (due to bending)}$$ \n",
        "${}$\n",
        " $$L = \\frac{20 \\times F_s'}{w}\\times \\frac{I b }{Q} =\\frac{20 \\times 55 psi }{ 180 plf }\\times  6.762 in^2  = 41.21\" \\text{ (due to rolling shear)}$$ \n",
        "${}$\n",
        " $$L = 1.69 \\sqrt[3]{\\frac{E' I}{w}} =1.69 \\sqrt[3]{\\frac{1.30E+06 psi  \\times  0.197 in^4 }{ 180 plf }} =18.99\" \\text{ (for }\\Delta = L/360 \\text{)}$$ \n",
        "${}$\n",
        " $$L = 3.23 \\sqrt[4]{\\frac{E' I}{w}} =3.23 \\sqrt[4]{\\frac{1.30E+06 psi  \\times  0.197 in^4 }{ 180 plf }} =19.82\" \\text{ (for }\\Delta = 1/16\" \\text{)}$$ \n",
        "${}$\n",
        " $$\\text{After rounding the smallest spacing to the nearest 1/16\" and determining the maximum even}$$ $$\\text{spacing lower than that, for the joists, the best spacing is 16.0\"  = 1.333 feet.}$$ \n",
        "${}$\n",
        " "
       ],
       "metadata": {},
       "output_type": "pyout",
       "prompt_number": 12,
       "text": [
        "<IPython.core.display.Latex at 0x7f901de1d9b0>"
       ]
      }
     ],
     "prompt_number": 12
    },
    {
     "cell_type": "heading",
     "level": 2,
     "metadata": {
      "slideshow": {
       "slide_type": "slide"
      }
     },
     "source": [
      "Joist Line Load"
     ]
    },
    {
     "cell_type": "markdown",
     "metadata": {},
     "source": [
      "<audio controls data-autoplay preload>\n",
      " <source src=\"https://github.com/damontallen/Construction-Lectures/raw/master/Lecture%20Audio/Week%209/Slab%20Form%20Design/Joist%20Line%20Load.mp3\"\n",
      "         type='audio/mp3'>\n",
      " <p>Your user agent does not support the HTML5 Audio element or the files are missing.</p>\n",
      "</audio>"
     ]
    },
    {
     "cell_type": "code",
     "collapsed": false,
     "input": [
      "print(\"Using {} {}\\n\".format(Grade,Species))\n",
      "joist=Timber_Beam() \n",
      "joist.species=Species\n",
      "joist.C_M.use=Wet\n",
      "joist.grade=Grade"
     ],
     "language": "python",
     "metadata": {
      "slideshow": {
       "slide_type": "skip"
      }
     },
     "outputs": [
      {
       "output_type": "stream",
       "stream": "stdout",
       "text": [
        "Using Select Structural HEM-FIR\n",
        "\n"
       ]
      }
     ],
     "prompt_number": 13
    },
    {
     "cell_type": "code",
     "collapsed": false,
     "input": [
      "joist.C_D = 1.25\n",
      "joist.C_r_setter(joist_spacing['value'])"
     ],
     "language": "python",
     "metadata": {
      "slideshow": {
       "slide_type": "skip"
      }
     },
     "outputs": [],
     "prompt_number": 14
    },
    {
     "cell_type": "code",
     "collapsed": false,
     "input": [
      "lineload = line_load(p,joist_spacing['in feet'])\n",
      "w = lineload['value']"
     ],
     "language": "python",
     "metadata": {
      "slideshow": {
       "slide_type": "skip"
      }
     },
     "outputs": [],
     "prompt_number": 15
    },
    {
     "cell_type": "markdown",
     "metadata": {},
     "source": [
      "We need to fine a new value for $w$ based on the joist spacing."
     ]
    },
    {
     "cell_type": "code",
     "collapsed": false,
     "input": [
      "lineload['work']"
     ],
     "language": "python",
     "metadata": {},
     "outputs": [
      {
       "latex": [
        "$$\\text{Line load} = w = \\text{pressure}\\times\\text{tributary width}$$ $$w = P \\times s = 180.5 psf \\times 16.0\" \\times \\frac{1 ft}{12 in}$$$$w = 240.67 plf$$"
       ],
       "metadata": {},
       "output_type": "pyout",
       "prompt_number": 16,
       "text": [
        "<IPython.core.display.Latex at 0x7f901de1d828>"
       ]
      }
     ],
     "prompt_number": 16
    },
    {
     "cell_type": "code",
     "collapsed": false,
     "input": [
      "joist.b=3.5\n",
      "joist.d=3.5\n",
      "stringer_spacing = board_test(joist,w)"
     ],
     "language": "python",
     "metadata": {
      "slideshow": {
       "slide_type": "skip"
      }
     },
     "outputs": [],
     "prompt_number": 17
    },
    {
     "cell_type": "heading",
     "level": 2,
     "metadata": {
      "slideshow": {
       "slide_type": "slide"
      }
     },
     "source": [
      "Joist Allowable Stresses"
     ]
    },
    {
     "cell_type": "markdown",
     "metadata": {},
     "source": [
      "<audio controls data-autoplay preload>\n",
      " <source src=\"https://github.com/damontallen/Construction-Lectures/raw/master/Lecture%20Audio/Week%209/Slab%20Form%20Design/Joist%20Allowable%20Stresses.mp3\"\n",
      "         type='audio/mp3'>\n",
      " <p>Your user agent does not support the HTML5 Audio element or the files are missing.</p>\n",
      "</audio>"
     ]
    },
    {
     "cell_type": "markdown",
     "metadata": {},
     "source": [
      "After looking up the value for $F_b$, $F_v$, and $E$ in Table 4A, and also noting the values of $C_F$, $C_M$, and $C_r$, we and go to Table 4.3.1 to determine our allowable stresses.  (Every adjustment factor we don't use equals 1.)"
     ]
    },
    {
     "cell_type": "code",
     "collapsed": false,
     "input": [
      "joist.F_b_latex"
     ],
     "language": "python",
     "metadata": {},
     "outputs": [
      {
       "latex": [
        "$$F_b' = F_b \\times C_D \\times C_M \\times C_t \\times C_L \\times C_F \\times C_{fu} \\times C_i \\times C_r$$ \n",
        "$${}$$\n",
        " $$F_b' = 1400 psi \\times 1.25 \\times 0.85 \\times 1 \\times 1.00 \\times 1.5 \\times 1 \\times 1\\times 1.15$$ \n",
        "$${}$$\n",
        " $$F_b' = 2565.94 psi$$"
       ],
       "metadata": {},
       "output_type": "pyout",
       "prompt_number": 18,
       "text": [
        "<IPython.core.display.Latex at 0x7f901de1d438>"
       ]
      }
     ],
     "prompt_number": 18
    },
    {
     "cell_type": "code",
     "collapsed": false,
     "input": [
      "joist.F_v_latex"
     ],
     "language": "python",
     "metadata": {},
     "outputs": [
      {
       "latex": [
        "$$F_v' = F_v \\times C_D \\times C_M \\times C_t \\times C_i$$ \n",
        "$${}$$\n",
        " $$F_v' = 150 psi \\times 1.25 \\times 0.97 \\times 1 \\times 1$$ \n",
        "$${}$$\n",
        " $$F_v' = 181.88 psi$$"
       ],
       "metadata": {},
       "output_type": "pyout",
       "prompt_number": 19,
       "text": [
        "<IPython.core.display.Latex at 0x7f901de1df60>"
       ]
      }
     ],
     "prompt_number": 19
    },
    {
     "cell_type": "code",
     "collapsed": false,
     "input": [
      "joist.E_latex"
     ],
     "language": "python",
     "metadata": {},
     "outputs": [
      {
       "latex": [
        "$$E' = E \\times C_M \\times C_t \\times C_i \\times C_T$$ \n",
        "$${}$$\n",
        " $$E' = 1.60E+06 psi \\times 0.9 \\times 1 \\times 1 \\times 1$$ \n",
        "$${}$$\n",
        " $$E' = 1.44E+06 psi$$"
       ],
       "metadata": {},
       "output_type": "pyout",
       "prompt_number": 20,
       "text": [
        "<IPython.core.display.Latex at 0x7f901de1d978>"
       ]
      }
     ],
     "prompt_number": 20
    },
    {
     "cell_type": "heading",
     "level": 2,
     "metadata": {
      "slideshow": {
       "slide_type": "slide"
      }
     },
     "source": [
      "Joist Cross Sectional Properties"
     ]
    },
    {
     "cell_type": "markdown",
     "metadata": {},
     "source": [
      "<audio controls data-autoplay preload>\n",
      " <source src=\"https://github.com/damontallen/Construction-Lectures/raw/master/Lecture%20Audio/Week%209/Slab%20Form%20Design/Joist%20Cross%20Sectional%20Properties.mp3\"\n",
      "         type='audio/mp3'>\n",
      " <p>Your user agent does not support the HTML5 Audio element or the files are missing.</p>\n",
      "</audio>"
     ]
    },
    {
     "cell_type": "markdown",
     "metadata": {},
     "source": [
      "From Table 1B of the Supplement we find that the sections properties of the joists are..."
     ]
    },
    {
     "cell_type": "code",
     "collapsed": false,
     "input": [
      "joist.geometry_latex"
     ],
     "language": "python",
     "metadata": {},
     "outputs": [
      {
       "latex": [
        "$$b = 3.50\" \\text{, }d = 3.50\" \\text{, }A = 12.25 in^2 \\text{, }S = 7.15 in^3 \\text{, }I = 12.51 in^4 $$"
       ],
       "metadata": {},
       "output_type": "pyout",
       "prompt_number": 21,
       "text": [
        "<IPython.core.display.Latex at 0x7f901de304a8>"
       ]
      }
     ],
     "prompt_number": 21
    },
    {
     "cell_type": "heading",
     "level": 2,
     "metadata": {
      "slideshow": {
       "slide_type": "slide"
      }
     },
     "source": [
      "Joist Span Limits (Stringer Spacing)"
     ]
    },
    {
     "cell_type": "markdown",
     "metadata": {},
     "source": [
      "<audio controls data-autoplay preload>\n",
      " <source src=\"https://github.com/damontallen/Construction-Lectures/raw/master/Lecture%20Audio/Week%209/Slab%20Form%20Design/Joist%20Span%20Limits%20(Stringer%20Spacing).mp3\"\n",
      "         type='audio/mp3'>\n",
      " <p>Your user agent does not support the HTML5 Audio element or the files are missing.</p>\n",
      "</audio>"
     ]
    },
    {
     "cell_type": "markdown",
     "metadata": {},
     "source": [
      "Now that we know the properties of the joist, we can calculate the maximum spacing of the stringers based on bending, rolling shear, and both deflection limits."
     ]
    },
    {
     "cell_type": "code",
     "collapsed": false,
     "input": [
      "stringer_spacing['work']"
     ],
     "language": "python",
     "metadata": {},
     "outputs": [
      {
       "latex": [
        "$$\\text{For a line load of }w =  241 plf $$ \n",
        "${}$\n",
        " $$L = 10.95 \\sqrt{\\frac{F_b' S}{w}} = 10.95 \\sqrt{\\frac{2566 psi  \\times 7.146 in^3 }{ 241 plf }} =95.58\" \\text{ (due to bending)}$$ \n",
        "${}$\n",
        " $$L = 13.33 \\times \\frac{F_v' b d}{w} + 2 d = 13.33 \\times \\frac{182 psi \\times 3.50\" \\times 3.50\" }{ 241 plf } + 2 \\times 3.50\"  = 130.40\"  \\text{ (due to shear)} $$ \n",
        "${}$\n",
        " $$L = 1.69 \\sqrt[3]{\\frac{E' I}{w}} =1.69 \\sqrt[3]{\\frac{1.44E+06 psi  \\times  12.505 in^4 }{ 241 plf }} =71.21\" \\text{ (for }\\Delta = L/360 \\text{)}$$ \n",
        "${}$\n",
        " $$L = 3.23 \\sqrt[4]{\\frac{E' I}{w}} =3.23 \\sqrt[4]{\\frac{1.44E+06 psi  \\times  12.505 in^4 }{ 241 plf }} =53.42\" \\text{ (for }\\Delta = 1/16\" \\text{)}$$ \n",
        "${}$\n",
        " $$\\text{After rounding the smallest spacing to the nearest 1/16\" and determining the maximum even}$$ $$\\text{spacing lower than that, for the supports, the best spacing is 48.0\"  = 4.000 feet.}$$ \n",
        "${}$\n",
        " "
       ],
       "metadata": {},
       "output_type": "pyout",
       "prompt_number": 22,
       "text": [
        "<IPython.core.display.Latex at 0x7f901de30518>"
       ]
      }
     ],
     "prompt_number": 22
    },
    {
     "cell_type": "heading",
     "level": 2,
     "metadata": {
      "slideshow": {
       "slide_type": "slide"
      }
     },
     "source": [
      "Stringer Constructuable Spacings"
     ]
    },
    {
     "cell_type": "markdown",
     "metadata": {},
     "source": [
      "<audio controls data-autoplay preload>\n",
      " <source src=\"https://github.com/damontallen/Construction-Lectures/raw/master/Lecture%20Audio/Week%209/Slab%20Form%20Design/Stringer%20Constructuable%20Spacings.mp3\"\n",
      "         type='audio/mp3'>\n",
      " <p>Your user agent does not support the HTML5 Audio element or the files are missing.</p>\n",
      "</audio>"
     ]
    },
    {
     "cell_type": "markdown",
     "metadata": {},
     "source": [
      "We get the $4'$ spacing for the stringers based on the following procedure.  We divide all the available lumber lengths by the smallest allowable spacing, and determine which one is closest to the next whole number divisor.  Round this number up, and divide the corresponding length by that value to determine the optimum spacing.  I.e.,\n",
      "\n",
      "* $\\frac{8'}{53.42\"} \\times \\frac{12\"}{1'} = 1.80 \\Leftarrow \\text{The value closest to the next integer controls.}$\n",
      "* $\\frac{10'}{53.42\"} \\times \\frac{12\"}{1'} = 2.25$\n",
      "* $\\frac{12'}{53.42\"} \\times \\frac{12\"}{1'} = 2.70$\n",
      "* $\\frac{14'}{53.42\"} \\times \\frac{12\"}{1'} = 3.14$\n",
      "* $\\frac{16'}{53.42\"} \\times \\frac{12\"}{1'} = 3.59$\n",
      "\n",
      "Rounding $1.80$ up to the next whole number we get $2$.  We now divide $8'$ by $2$ to determine the optimum spacing.\n",
      "\n",
      "$$\\frac{8'}{2} \\times \\frac{12\"}{1'} = 48\"$$\n",
      "\n",
      "Now that we know that our spacing is $4'$ on center we can just pick the cheapest lumber size that is divisible by $4'$, e.g. either $8'$, $12'$, or $16'$ (probably $8'$).  This means that we will want to use $8'$ material for our joists."
     ]
    },
    {
     "cell_type": "heading",
     "level": 2,
     "metadata": {
      "slideshow": {
       "slide_type": "slide"
      }
     },
     "source": [
      "Stringer Line Loads"
     ]
    },
    {
     "cell_type": "markdown",
     "metadata": {},
     "source": [
      "<audio controls data-autoplay preload>\n",
      " <source src=\"https://github.com/damontallen/Construction-Lectures/raw/master/Lecture%20Audio/Week%209/Slab%20Form%20Design/Stringer%20Line%20Loads.mp3\"\n",
      "         type='audio/mp3'>\n",
      " <p>Your user agent does not support the HTML5 Audio element or the files are missing.</p>\n",
      "</audio>"
     ]
    },
    {
     "cell_type": "code",
     "collapsed": false,
     "input": [
      "print(\"Using {} {}\\n\".format(Grade,Species))\n",
      "stringer = Timber_Beam()\n",
      "stringer.species=Species\n",
      "stringer.C_D=1.25\n",
      "stringer.C_M.use=Wet\n",
      "stringer.grade=Grade"
     ],
     "language": "python",
     "metadata": {
      "slideshow": {
       "slide_type": "skip"
      }
     },
     "outputs": [
      {
       "output_type": "stream",
       "stream": "stdout",
       "text": [
        "Using Select Structural HEM-FIR\n",
        "\n"
       ]
      }
     ],
     "prompt_number": 23
    },
    {
     "cell_type": "code",
     "collapsed": false,
     "input": [
      "lineload = line_load(p,stringer_spacing['in feet'])\n",
      "w = lineload['value']"
     ],
     "language": "python",
     "metadata": {
      "slideshow": {
       "slide_type": "skip"
      }
     },
     "outputs": [],
     "prompt_number": 24
    },
    {
     "cell_type": "markdown",
     "metadata": {},
     "source": [
      "We need to fine a new value for $w$ based on the stringer spacing."
     ]
    },
    {
     "cell_type": "code",
     "collapsed": false,
     "input": [
      "lineload['work']"
     ],
     "language": "python",
     "metadata": {},
     "outputs": [
      {
       "latex": [
        "$$\\text{Line load} = w = \\text{pressure}\\times\\text{tributary width}$$ $$w = P \\times s = 180.5 psf \\times 48.0\" \\times \\frac{1 ft}{12 in}$$$$w = 722.00 plf$$"
       ],
       "metadata": {},
       "output_type": "pyout",
       "prompt_number": 25,
       "text": [
        "<IPython.core.display.Latex at 0x7f901de30898>"
       ]
      }
     ],
     "prompt_number": 25
    },
    {
     "cell_type": "code",
     "collapsed": false,
     "input": [
      "stringer.b=3.5\n",
      "stringer.d=5.5\n",
      "shore_spacing = board_test(stringer,w)"
     ],
     "language": "python",
     "metadata": {
      "slideshow": {
       "slide_type": "skip"
      }
     },
     "outputs": [],
     "prompt_number": 26
    },
    {
     "cell_type": "heading",
     "level": 2,
     "metadata": {
      "slideshow": {
       "slide_type": "slide"
      }
     },
     "source": [
      "Stinger Allowable Stresses"
     ]
    },
    {
     "cell_type": "markdown",
     "metadata": {},
     "source": [
      "<audio controls data-autoplay preload>\n",
      " <source src=\"https://github.com/damontallen/Construction-Lectures/raw/master/Lecture%20Audio/Week%209/Slab%20Form%20Design/Stinger%20Allowable%20Stresses.mp3\"\n",
      "         type='audio/mp3'>\n",
      " <p>Your user agent does not support the HTML5 Audio element or the files are missing.</p>\n",
      "</audio>"
     ]
    },
    {
     "cell_type": "markdown",
     "metadata": {},
     "source": [
      "After looking up the value for $F_b$, $F_v$, and $E$ in Table 4A (we'd use 4B for Southern Pine), and also noting the values of $C_F$, $C_M$, and $C_r$, we go to Table 4.3.1 to determine our allowable stresses.  Every adjustment factor we don't use equals 1."
     ]
    },
    {
     "cell_type": "code",
     "collapsed": false,
     "input": [
      "stringer.F_b_latex"
     ],
     "language": "python",
     "metadata": {},
     "outputs": [
      {
       "latex": [
        "$$F_b' = F_b \\times C_D \\times C_M \\times C_t \\times C_L \\times C_F \\times C_{fu} \\times C_i \\times C_r$$ \n",
        "$${}$$\n",
        " $$F_b' = 1400 psi \\times 1.25 \\times 0.85 \\times 1 \\times 1.00 \\times 1.3 \\times 1 \\times 1\\times 1$$ \n",
        "$${}$$\n",
        " $$F_b' = 1933.75 psi$$"
       ],
       "metadata": {},
       "output_type": "pyout",
       "prompt_number": 27,
       "text": [
        "<IPython.core.display.Latex at 0x7f901de305f8>"
       ]
      }
     ],
     "prompt_number": 27
    },
    {
     "cell_type": "code",
     "collapsed": false,
     "input": [
      "stringer.F_v_latex"
     ],
     "language": "python",
     "metadata": {},
     "outputs": [
      {
       "latex": [
        "$$F_v' = F_v \\times C_D \\times C_M \\times C_t \\times C_i$$ \n",
        "$${}$$\n",
        " $$F_v' = 150 psi \\times 1.25 \\times 0.97 \\times 1 \\times 1$$ \n",
        "$${}$$\n",
        " $$F_v' = 181.88 psi$$"
       ],
       "metadata": {},
       "output_type": "pyout",
       "prompt_number": 28,
       "text": [
        "<IPython.core.display.Latex at 0x7f901de30908>"
       ]
      }
     ],
     "prompt_number": 28
    },
    {
     "cell_type": "code",
     "collapsed": false,
     "input": [
      "stringer.E_latex"
     ],
     "language": "python",
     "metadata": {},
     "outputs": [
      {
       "latex": [
        "$$E' = E \\times C_M \\times C_t \\times C_i \\times C_T$$ \n",
        "$${}$$\n",
        " $$E' = 1.60E+06 psi \\times 0.9 \\times 1 \\times 1 \\times 1$$ \n",
        "$${}$$\n",
        " $$E' = 1.44E+06 psi$$"
       ],
       "metadata": {},
       "output_type": "pyout",
       "prompt_number": 29,
       "text": [
        "<IPython.core.display.Latex at 0x7f901de30630>"
       ]
      }
     ],
     "prompt_number": 29
    },
    {
     "cell_type": "heading",
     "level": 2,
     "metadata": {
      "slideshow": {
       "slide_type": "slide"
      }
     },
     "source": [
      "Stringer Cross Sectional Properties"
     ]
    },
    {
     "cell_type": "markdown",
     "metadata": {},
     "source": [
      "<audio controls data-autoplay preload>\n",
      " <source src=\"https://github.com/damontallen/Construction-Lectures/raw/master/Lecture%20Audio/Week%209/Slab%20Form%20Design/Stringer%20Cross%20Sectional%20Properties.mp3\"\n",
      "         type='audio/mp3'>\n",
      " <p>Your user agent does not support the HTML5 Audio element or the files are missing.</p>\n",
      "</audio>"
     ]
    },
    {
     "cell_type": "markdown",
     "metadata": {},
     "source": [
      "From Table 1B of the Supplement we get the sections properties for the stringers."
     ]
    },
    {
     "cell_type": "code",
     "collapsed": false,
     "input": [
      "stringer.geometry_latex"
     ],
     "language": "python",
     "metadata": {},
     "outputs": [
      {
       "latex": [
        "$$b = 3.50\" \\text{, }d = 5.50\" \\text{, }A = 19.25 in^2 \\text{, }S = 17.65 in^3 \\text{, }I = 48.53 in^4 $$"
       ],
       "metadata": {},
       "output_type": "pyout",
       "prompt_number": 30,
       "text": [
        "<IPython.core.display.Latex at 0x7f901de30588>"
       ]
      }
     ],
     "prompt_number": 30
    },
    {
     "cell_type": "heading",
     "level": 2,
     "metadata": {
      "slideshow": {
       "slide_type": "slide"
      }
     },
     "source": [
      "Stringer Span Limits (Shore Spacing)"
     ]
    },
    {
     "cell_type": "markdown",
     "metadata": {},
     "source": [
      "<audio controls data-autoplay preload>\n",
      " <source src=\"https://github.com/damontallen/Construction-Lectures/raw/master/Lecture%20Audio/Week%209/Slab%20Form%20Design/Stringer%20Span%20Limits%20(Shore%20Spacing).mp3\"\n",
      "         type='audio/mp3'>\n",
      " <p>Your user agent does not support the HTML5 Audio element or the files are missing.</p>\n",
      "</audio>"
     ]
    },
    {
     "cell_type": "markdown",
     "metadata": {},
     "source": [
      "Now that we know the properties of the stringers, we can calculate the maximum spacing of the shores based on bending, shear, and both deflection limits."
     ]
    },
    {
     "cell_type": "code",
     "collapsed": false,
     "input": [
      "shore_spacing['work']"
     ],
     "language": "python",
     "metadata": {},
     "outputs": [
      {
       "latex": [
        "$$\\text{For a line load of }w =  722 plf $$ \n",
        "${}$\n",
        " $$L = 10.95 \\sqrt{\\frac{F_b' S}{w}} = 10.95 \\sqrt{\\frac{1934 psi  \\times 17.646 in^3 }{ 722 plf }} =75.28\" \\text{ (due to bending)}$$ \n",
        "${}$\n",
        " $$L = 13.33 \\times \\frac{F_v' b d}{w} + 2 d = 13.33 \\times \\frac{182 psi \\times 3.50\" \\times 5.50\" }{ 722 plf } + 2 \\times 5.50\"  = 75.64\"  \\text{ (due to shear)} $$ \n",
        "${}$\n",
        " $$L = 1.69 \\sqrt[3]{\\frac{E' I}{w}} =1.69 \\sqrt[3]{\\frac{1.44E+06 psi  \\times  48.526 in^4 }{ 722 plf }} =77.59\" \\text{ (for }\\Delta = L/360 \\text{)}$$ \n",
        "${}$\n",
        " $$L = 3.23 \\sqrt[4]{\\frac{E' I}{w}} =3.23 \\sqrt[4]{\\frac{1.44E+06 psi  \\times  48.526 in^4 }{ 722 plf }} =56.97\" \\text{ (for }\\Delta = 1/16\" \\text{)}$$ \n",
        "${}$\n",
        " $$\\text{After rounding the smallest spacing to the nearest 1/16\" and determining the maximum even}$$ $$\\text{spacing lower than that, for the supports, the best spacing is 56.0\"  = 4.667 feet.}$$ \n",
        "${}$\n",
        " "
       ],
       "metadata": {},
       "output_type": "pyout",
       "prompt_number": 31,
       "text": [
        "<IPython.core.display.Latex at 0x7f901de30cf8>"
       ]
      }
     ],
     "prompt_number": 31
    },
    {
     "cell_type": "heading",
     "level": 2,
     "metadata": {
      "slideshow": {
       "slide_type": "slide"
      }
     },
     "source": [
      "Shore Constructuable Spacings"
     ]
    },
    {
     "cell_type": "markdown",
     "metadata": {},
     "source": [
      "<audio controls data-autoplay preload>\n",
      " <source src=\"https://github.com/damontallen/Construction-Lectures/raw/master/Lecture%20Audio/Week%209/Slab%20Form%20Design/Shore%20Constructuable%20Spacings.mp3\"\n",
      "         type='audio/mp3'>\n",
      " <p>Your user agent does not support the HTML5 Audio element or the files are missing.</p>\n",
      "</audio>"
     ]
    },
    {
     "cell_type": "markdown",
     "metadata": {},
     "source": [
      "We get the $56\"$ spacing based on the following procedure.\n",
      "\n",
      "* $\\frac{8'}{56.97\"} \\times \\frac{12\"}{1'} = 1.69 $\n",
      "* $\\frac{10'}{56.97\"} \\times \\frac{12\"}{1'} = 2.21$\n",
      "* $\\frac{12'}{56.97\"} \\times \\frac{12\"}{1'} = 2.52$\n",
      "* $\\frac{14'}{56.97\"} \\times \\frac{12\"}{1'} = 2.95 \\Leftarrow \\text{The value closest to the next whole number controls.}$\n",
      "* $\\frac{16'}{56.97\"} \\times \\frac{12\"}{1'} = 3.37$\n",
      "\n",
      "Rounding $2.95$ up to the nearest whole number we get $3$.  We now divide $14'$ by $3$ to determine the optimum spacing.\n",
      "\n",
      "$$\\frac{14'}{3} \\times \\frac{12\"}{1'} = 56\"$$\n",
      "\n",
      "Since $14'$ is the only size that is dividable by $56\"$ we should use $14'$ stringers, (unless you can get a deal, on some other length lumber that is great enough to justify a less than optimum spacing)."
     ]
    },
    {
     "cell_type": "heading",
     "level": 2,
     "metadata": {
      "slideshow": {
       "slide_type": "slide"
      }
     },
     "source": [
      "Bearing Pressure"
     ]
    },
    {
     "cell_type": "markdown",
     "metadata": {},
     "source": [
      "<audio controls data-autoplay preload>\n",
      " <source src=\"https://github.com/damontallen/Construction-Lectures/raw/master/Lecture%20Audio/Week%209/Slab%20Form%20Design/Bearing%20Pressure.mp3\"\n",
      "         type='audio/mp3'>\n",
      " <p>Your user agent does not support the HTML5 Audio element or the files are missing.</p>\n",
      "</audio>"
     ]
    },
    {
     "cell_type": "markdown",
     "metadata": {},
     "source": [
      "\n",
      "<a href = \"http://i.imgur.com/lCGtXNz.png\"><img src=\"http://i.imgur.com/lCGtXNz.png\" alt = \"Slab Form Bearing\" title = \"Slab Form Bearing\" style=\"max-width:300px; max-height:300px; border:1px solid blue; float:right; margin-left:10px;\"/></a>\n",
      "\n",
      "We need to check the bearing pressure for both where the joist cross the stringers, and where the stingers are supported by the shores."
     ]
    },
    {
     "cell_type": "heading",
     "level": 4,
     "metadata": {},
     "source": [
      "Where the Stingers support the Joists:"
     ]
    },
    {
     "cell_type": "code",
     "collapsed": false,
     "input": [
      "s1 = joist_spacing['in feet']\n",
      "s2 = stringer_spacing['in feet']\n",
      "c1 = joist.b #contact dimension\n",
      "c2 = stringer.b #contact dimension\n",
      "bearing_loads = bearing_info(p, s1, s2, c1, c2, 'joist width', 'stringer width')\n",
      "A = bearing_loads['area']\n",
      "P = bearing_loads['load']"
     ],
     "language": "python",
     "metadata": {
      "slideshow": {
       "slide_type": "skip"
      }
     },
     "outputs": [],
     "prompt_number": 32
    },
    {
     "cell_type": "markdown",
     "metadata": {},
     "source": [
      "We have to first find the bearing load of the joists on the stringers."
     ]
    },
    {
     "cell_type": "code",
     "collapsed": false,
     "input": [
      "bearing_loads['work']"
     ],
     "language": "python",
     "metadata": {},
     "outputs": [
      {
       "latex": [
        "$$\\text{Bearing load } P = \\text{pressure} \\times \\text{Tributary Area}$$$$P = p \\times s_1 \\times s_2$$ $$P = 180.50 psf \\times 16\" \\times 48\" \\times \\left(\\frac{1 ft}{12 in}\\right)^2$$ $$P = 962.67 lbs$$ ${}$ $$\\text{Contact Area }=A_{bearing} = \\text{joist width}\\times\\text{stringer width}$$ $$A_{bearing} = 3.5\" \\times 3.5\"$$ $$A_{bearing} = 12.25 in^2$$ "
       ],
       "metadata": {},
       "output_type": "pyout",
       "prompt_number": 33,
       "text": [
        "<IPython.core.display.Latex at 0x7f901dd3cd68>"
       ]
      }
     ],
     "prompt_number": 33
    },
    {
     "cell_type": "markdown",
     "metadata": {},
     "source": [
      "We will have to look up the $F_{c \\perp}'$ adjustment factors in Table 4.3.1 and the value for $F_{c \\perp}$ and $C_M$ in the Supplement to be able to compare $f_{c \\perp}$ to $F_{c \\perp}$."
     ]
    },
    {
     "cell_type": "code",
     "collapsed": false,
     "input": [
      "bearing_check(stringer,P,A,board_name=\"stringers and joist\")"
     ],
     "language": "python",
     "metadata": {},
     "outputs": [
      {
       "latex": [
        "$$f_{c,\\perp} = \\frac{P_{bearing}}{A_{bearing}} = \\frac{ 963 lb }{ 12.25 in^2 }= 78.59 psi $$ \n",
        "${}$\n",
        " $$F_{c,\\perp}' = F_{c,\\perp} \\times C_M =  405.00 psi \\times 0.67 = 271.35 psi $$ \n",
        "${}$\n",
        " $$P_{bearing,allowed} = F_{c,\\perp}' \\times A_{bearing} =271 psi \\times  12.25 in^2 = 3324 lb $$ \n",
        "${}$\n",
        " $$\\text{Since the allowable load due to bearing is } 3324 lb \\text{ the  and the actual load is } 963 lb \\text{,}$$ $$\\text{the stringers and joists are good in bearing.}$$ \n",
        "${}$\n",
        " "
       ],
       "metadata": {},
       "output_type": "pyout",
       "prompt_number": 34,
       "text": [
        "<IPython.core.display.Latex at 0x7f901dd3c5f8>"
       ]
      }
     ],
     "prompt_number": 34
    },
    {
     "cell_type": "markdown",
     "metadata": {
      "slideshow": {
       "slide_type": "slide"
      }
     },
     "source": [
      "<audio controls data-autoplay preload>\n",
      " <source src=\"https://github.com/damontallen/Construction-Lectures/raw/master/Lecture%20Audio/Week%209/Slab%20Form%20Design/Where%20the%20Shores%20support%20the%20Stingers.mp3\"\n",
      "         type='audio/mp3'>\n",
      " <p>Your user agent does not support the HTML5 Audio element or the files are missing.</p>\n",
      "</audio>"
     ]
    },
    {
     "cell_type": "heading",
     "level": 4,
     "metadata": {},
     "source": [
      "Where the Shores support the Stingers:"
     ]
    },
    {
     "cell_type": "code",
     "collapsed": false,
     "input": [
      "s1 = shore_spacing['in feet']\n",
      "s2 = stringer_spacing['in feet']\n",
      "c1 = Shore_section_b #contact dimension\n",
      "c2 = Shore_section_d #in #contact dimension\n",
      "bearing_loads = bearing_info(p, s1, s2, c1, c2, 'shore width', \"shore depth\")\n",
      "A = bearing_loads['area']\n",
      "P = bearing_loads['load']"
     ],
     "language": "python",
     "metadata": {
      "slideshow": {
       "slide_type": "skip"
      }
     },
     "outputs": [],
     "prompt_number": 35
    },
    {
     "cell_type": "markdown",
     "metadata": {},
     "source": [
      "Now we find the bearing load of the stringers on the shores."
     ]
    },
    {
     "cell_type": "code",
     "collapsed": false,
     "input": [
      "bearing_loads['work']"
     ],
     "language": "python",
     "metadata": {},
     "outputs": [
      {
       "latex": [
        "$$\\text{Bearing load } P = \\text{pressure} \\times \\text{Tributary Area}$$$$P = p \\times s_1 \\times s_2$$ $$P = 180.50 psf \\times 56\" \\times 48\" \\times \\left(\\frac{1 ft}{12 in}\\right)^2$$ $$P = 3369.33 lbs$$ ${}$ $$\\text{Contact Area }=A_{bearing} = \\text{shore width}\\times\\text{shore depth}$$ $$A_{bearing} = 3.5\" \\times 5.5\"$$ $$A_{bearing} = 19.25 in^2$$ "
       ],
       "metadata": {},
       "output_type": "pyout",
       "prompt_number": 36,
       "text": [
        "<IPython.core.display.Latex at 0x7f901dd3ce80>"
       ]
      }
     ],
     "prompt_number": 36
    },
    {
     "cell_type": "markdown",
     "metadata": {},
     "source": [
      "The values for $F_{c \\perp}$ and $C_M$ are the same as before.  We just need to recalculate $f_{c \\perp}$ to be able to compare it to $F_{c \\perp}$."
     ]
    },
    {
     "cell_type": "code",
     "collapsed": false,
     "input": [
      "bearing_check(stringer,P,A,board_name=\"stringer\")"
     ],
     "language": "python",
     "metadata": {},
     "outputs": [
      {
       "latex": [
        "$$f_{c,\\perp} = \\frac{P_{bearing}}{A_{bearing}} = \\frac{ 3369 lb }{ 19.25 in^2 }= 175.03 psi $$ \n",
        "${}$\n",
        " $$F_{c,\\perp}' = F_{c,\\perp} \\times C_M =  405.00 psi \\times 0.67 = 271.35 psi $$ \n",
        "${}$\n",
        " $$P_{bearing,allowed} = F_{c,\\perp}' \\times A_{bearing} =271 psi \\times  19.25 in^2 = 5223 lb $$ \n",
        "${}$\n",
        " $$\\text{Since the allowable load due to bearing is } 5223 lb \\text{ the  and the actual load is } 3369 lb \\text{,}$$ $$\\text{the stringers are good in bearing.}$$ \n",
        "${}$\n",
        " "
       ],
       "metadata": {},
       "output_type": "pyout",
       "prompt_number": 37,
       "text": [
        "<IPython.core.display.Latex at 0x7f901dd3c7b8>"
       ]
      }
     ],
     "prompt_number": 37
    },
    {
     "cell_type": "heading",
     "level": 2,
     "metadata": {
      "slideshow": {
       "slide_type": "slide"
      }
     },
     "source": [
      "Shore Verification"
     ]
    },
    {
     "cell_type": "markdown",
     "metadata": {},
     "source": [
      "<audio controls data-autoplay preload>\n",
      " <source src=\"https://github.com/damontallen/Construction-Lectures/raw/master/Lecture%20Audio/Week%209/Slab%20Form%20Design/Shore%20Verification.mp3\"\n",
      "         type='audio/mp3'>\n",
      " <p>Your user agent does not support the HTML5 Audio element or the files are missing.</p>\n",
      "</audio>"
     ]
    },
    {
     "cell_type": "markdown",
     "metadata": {},
     "source": [
      "In this problem, the shores are timber columns.  As such, we have covered this material earlier this semester, and if you feel confident in solving a timber column, simply go to the next slide where we look at the actual stresses on the shore.  Otherwise, click down for a review on how to solve a timber column problem."
     ]
    },
    {
     "cell_type": "code",
     "collapsed": false,
     "input": [
      "print(\"Using {} {}\\n\".format(Grade,Species))\n",
      "shore = Timber_Beam()\n",
      "shore.P = P #from above\n",
      "shore.species=Species\n",
      "shore.C_D=1.25\n",
      "shore.C_M.use=Wet\n",
      "shore.grade=Grade"
     ],
     "language": "python",
     "metadata": {
      "slideshow": {
       "slide_type": "skip"
      }
     },
     "outputs": [
      {
       "output_type": "stream",
       "stream": "stdout",
       "text": [
        "Using Select Structural HEM-FIR\n",
        "\n"
       ]
      }
     ],
     "prompt_number": 38
    },
    {
     "cell_type": "code",
     "collapsed": false,
     "input": [
      "shore.b=Shore_section_b\n",
      "shore.d=Shore_section_d\n",
      "shore.L = Shore_length\n",
      "print('Shore section: b = %.2f\", and d = %.2f\"'%(shore.b,shore.d))\n",
      "print('Shore length (unbraced length) = %.2f\"'%(Shore_length*12))"
     ],
     "language": "python",
     "metadata": {
      "slideshow": {
       "slide_type": "skip"
      }
     },
     "outputs": [
      {
       "output_type": "stream",
       "stream": "stdout",
       "text": [
        "Shore section: b = 3.50\", and d = 5.50\"\n",
        "Shore length (unbraced length) = 168.00\"\n"
       ]
      }
     ],
     "prompt_number": 39
    },
    {
     "cell_type": "heading",
     "level": 2,
     "metadata": {
      "slideshow": {
       "slide_type": "subslide"
      }
     },
     "source": [
      "Shore Cross Sectional Properties"
     ]
    },
    {
     "cell_type": "markdown",
     "metadata": {},
     "source": [
      "<audio controls data-autoplay preload>\n",
      " <source src=\"https://github.com/damontallen/Construction-Lectures/raw/master/Lecture%20Audio/Week%209/Slab%20Form%20Design/Shore%20Cross%20Sectional%20Properties.mp3\"\n",
      "         type='audio/mp3'>\n",
      " <p>Your user agent does not support the HTML5 Audio element or the files are missing.</p>\n",
      "</audio>"
     ]
    },
    {
     "cell_type": "markdown",
     "metadata": {},
     "source": [
      "From Table 1B of the Supplement we get the sections properties of the shores."
     ]
    },
    {
     "cell_type": "code",
     "collapsed": false,
     "input": [
      "shore.geometry_latex"
     ],
     "language": "python",
     "metadata": {},
     "outputs": [
      {
       "latex": [
        "$$b = 3.50\" \\text{, }d = 5.50\" \\text{, }A = 19.25 in^2 \\text{, }S = 17.65 in^3 \\text{, }I = 48.53 in^4 \\text{, }L = 14.00'  = 168.00\"$$"
       ],
       "metadata": {},
       "output_type": "pyout",
       "prompt_number": 40,
       "text": [
        "<IPython.core.display.Latex at 0x7f901dd3c4e0>"
       ]
      }
     ],
     "prompt_number": 40
    },
    {
     "cell_type": "heading",
     "level": 2,
     "metadata": {
      "slideshow": {
       "slide_type": "subslide"
      }
     },
     "source": [
      "Shore Allowable Stresses"
     ]
    },
    {
     "cell_type": "markdown",
     "metadata": {},
     "source": [
      "<audio controls data-autoplay preload>\n",
      " <source src=\"https://github.com/damontallen/Construction-Lectures/raw/master/Lecture%20Audio/Week%209/Slab%20Form%20Design/Shore%20Allowable%20Stresses.mp3\"\n",
      "         type='audio/mp3'>\n",
      " <p>Your user agent does not support the HTML5 Audio element or the files are missing.</p>\n",
      "</audio>"
     ]
    },
    {
     "cell_type": "markdown",
     "metadata": {},
     "source": [
      "After looking us the value for $F_c$, and $E_{min}$ in Table 4A (we'd use 4B for Southern Pine) and also noting the values of $C_F$, and $C_M$, we and go to Table 4.3.1 to determine our allowable value for $E_{min}$.  Every adjustment factor we don't use equals 1."
     ]
    },
    {
     "cell_type": "code",
     "collapsed": false,
     "input": [
      "shore.E_min_latex"
     ],
     "language": "python",
     "metadata": {},
     "outputs": [
      {
       "latex": [
        "$$E_{min}' = E_{min} \\times C_M \\times C_t \\times C_i \\times C_T$$ \n",
        "$${}$$\n",
        " $$E_{min}' = 580000 psi \\times 0.9 \\times 1 \\times 1 \\times 1$$ \n",
        "$${}$$\n",
        " $$E_{min}' = 522000 psi$$"
       ],
       "metadata": {},
       "output_type": "pyout",
       "prompt_number": 41,
       "text": [
        "<IPython.core.display.Latex at 0x7f901dd3c780>"
       ]
      }
     ],
     "prompt_number": 41
    },
    {
     "cell_type": "heading",
     "level": 2,
     "metadata": {
      "slideshow": {
       "slide_type": "subslide"
      }
     },
     "source": [
      "$C_P$ - The Column Stability Factor"
     ]
    },
    {
     "cell_type": "markdown",
     "metadata": {
      "slideshow": {
       "slide_type": "-"
      }
     },
     "source": [
      "<audio controls data-autoplay preload>\n",
      " <source src=\"https://github.com/damontallen/Construction-Lectures/raw/master/Lecture%20Audio/Week%209/Slab%20Form%20Design/CP%20-%20The%20Column%20Stability%20Factor.mp3\"\n",
      "         type='audio/mp3'>\n",
      " <p>Your user agent does not support the HTML5 Audio element or the files are missing.</p>\n",
      "</audio>"
     ]
    },
    {
     "cell_type": "code",
     "collapsed": false,
     "input": [
      "shore.C_P_reveal['work']"
     ],
     "language": "python",
     "metadata": {},
     "outputs": [
      {
       "latex": [
        "$$\\frac{l_{e,x}}{d} = 30.545$$ \n",
        "${}$\n",
        " $$\\frac{l_{e,y}}{b} = 48.000\\text{ }\\Leftarrow \\text{ Controls} \\therefore SR = 48.000$$ \n",
        "${}$\n",
        " $$F_c^* = F_c \\times C_D \\times C_M \\times C_t \\times C_F \\times C_i $$ \n",
        "$${}$$\n",
        " $$F_c^* = 1500 psi \\times 1.25 \\times 0.8 \\times 1 \\times 1.1 \\times 1 = 1650.00 psi$$ \n",
        "${}$\n",
        " $$F_{cE} = \\frac{0.822 \\times E_{min}'}{(SR)^2} = \\frac{0.822 \\times 522000 psi}{(48.000)^2} = 186.23 psi$$ \n",
        "${}$\n",
        " $$\\frac{F_{cE}}{F_c^*} = 0.113$$ \n",
        "${}$\n",
        " $$c = 0.8 \\text{(from section 3.7.1.5 Timber NDS)}$$ \n",
        "${}$\n",
        " $$\\frac{1+F_{cE}/F_c^*}{2 \\times c}=\\frac{1+0.113}{2 \\times 0.8}=0.696$$ \n",
        "${}$\n",
        " $$\\frac{F_{cE}/F_c^*}{c}=\\frac{0.113}{0.8}=0.141$$ \n",
        "${}$\n",
        " $$C_P = \\frac{1+F_{cE}/F_c^*}{2 \\times c} -\\sqrt{\\left(\\frac{1+F_{cE}/F_c^*}{2 \\times c}\\right)^2-\\frac{F_{cE}/F_c^*}{c}}$$ \n",
        "${}$\n",
        " $$C_P = 0.696 -\\sqrt{\\left(0.696\\right)^2-0.141} =0.110$$ \n",
        "${}$\n",
        " "
       ],
       "metadata": {},
       "output_type": "pyout",
       "prompt_number": 42,
       "text": [
        "<IPython.core.display.Latex at 0x7f901dd3cc18>"
       ]
      }
     ],
     "prompt_number": 42
    },
    {
     "cell_type": "heading",
     "level": 3,
     "metadata": {
      "slideshow": {
       "slide_type": "subslide"
      }
     },
     "source": [
      "Allowable Compressive Stress"
     ]
    },
    {
     "cell_type": "markdown",
     "metadata": {},
     "source": [
      "<audio controls data-autoplay preload>\n",
      " <source src=\"https://github.com/damontallen/Construction-Lectures/raw/master/Lecture%20Audio/Week%209/Slab%20Form%20Design/Allowable%20Compressive%20Stress.mp3\"\n",
      "         type='audio/mp3'>\n",
      " <p>Your user agent does not support the HTML5 Audio element or the files are missing.</p>\n",
      "</audio>"
     ]
    },
    {
     "cell_type": "code",
     "collapsed": false,
     "input": [
      "shore.F_c_latex"
     ],
     "language": "python",
     "metadata": {},
     "outputs": [
      {
       "latex": [
        "$$F_c' = F_c \\times C_D \\times C_M \\times C_t \\times C_F \\times C_i \\times C_P$$ \n",
        "$${}$$\n",
        " $$F_c' = 1500 psi \\times 1.25 \\times 0.8 \\times 1 \\times 1.1 \\times 1 \\times 0.110$$ \n",
        "$${}$$\n",
        " $$F_c' = 181.74 psi$$"
       ],
       "metadata": {},
       "output_type": "pyout",
       "prompt_number": 43,
       "text": [
        "<IPython.core.display.Latex at 0x7f901dd3c940>"
       ]
      }
     ],
     "prompt_number": 43
    },
    {
     "cell_type": "heading",
     "level": 3,
     "metadata": {
      "slideshow": {
       "slide_type": "slide"
      }
     },
     "source": [
      "Actual Compressive Stress"
     ]
    },
    {
     "cell_type": "markdown",
     "metadata": {},
     "source": [
      "<audio controls data-autoplay preload>\n",
      " <source src=\"https://github.com/damontallen/Construction-Lectures/raw/master/Lecture%20Audio/Week%209/Slab%20Form%20Design/Actual%20Compressive%20Stress.mp3\"\n",
      "         type='audio/mp3'>\n",
      " <p>Your user agent does not support the HTML5 Audio element or the files are missing.</p>\n",
      "</audio>"
     ]
    },
    {
     "cell_type": "markdown",
     "metadata": {},
     "source": [
      "We already found the axial load on the shores.  The load is the same as the load found for the bearing stress calculation between the stringers and the shores.  The bearing stress is also the same as the compressive stress parallel to grain, but I'll show the calcualation again."
     ]
    },
    {
     "cell_type": "code",
     "collapsed": false,
     "input": [
      "shore.f_c_latex"
     ],
     "language": "python",
     "metadata": {},
     "outputs": [
      {
       "latex": [
        "$$f_c = \\frac{P}{A}$$  \n",
        "${}$\n",
        " $$f_c = \\frac{3369.33 lb}{19.25 in^2}$$ \n",
        "$${}$$\n",
        " $f_c = 175.03 psi$"
       ],
       "metadata": {},
       "output_type": "pyout",
       "prompt_number": 44,
       "text": [
        "<IPython.core.display.Latex at 0x7f901dd3c470>"
       ]
      }
     ],
     "prompt_number": 44
    },
    {
     "cell_type": "heading",
     "level": 3,
     "metadata": {
      "slideshow": {
       "slide_type": "slide"
      }
     },
     "source": [
      "Adequacy Check"
     ]
    },
    {
     "cell_type": "markdown",
     "metadata": {},
     "source": [
      "<audio controls data-autoplay preload>\n",
      " <source src=\"https://github.com/damontallen/Construction-Lectures/raw/master/Lecture%20Audio/Week%209/Slab%20Form%20Design/Adequacy%20Check.mp3\"\n",
      "         type='audio/mp3'>\n",
      " <p>Your user agent does not support the HTML5 Audio element or the files are missing.</p>\n",
      "</audio>"
     ]
    },
    {
     "cell_type": "code",
     "collapsed": false,
     "input": [
      "shore.column_adequacy_check_latex"
     ],
     "language": "python",
     "metadata": {},
     "outputs": [
      {
       "latex": [
        "$$ F_c' = 181.74 psi \\geq f_c = 175.03 psi$$ \n",
        " $$\\textbf{This column is adequate}$$"
       ],
       "metadata": {},
       "output_type": "pyout",
       "prompt_number": 45,
       "text": [
        "<IPython.core.display.Latex at 0x7f901dd3c710>"
       ]
      }
     ],
     "prompt_number": 45
    },
    {
     "cell_type": "heading",
     "level": 2,
     "metadata": {
      "slideshow": {
       "slide_type": "slide"
      }
     },
     "source": [
      "Shore Load Capacity"
     ]
    },
    {
     "cell_type": "markdown",
     "metadata": {},
     "source": [
      "<audio controls data-autoplay preload>\n",
      " <source src=\"https://github.com/damontallen/Construction-Lectures/raw/master/Lecture%20Audio/Week%209/Slab%20Form%20Design/Shore%20Load%20Capacity.mp3\"\n",
      "         type='audio/mp3'>\n",
      " <p>Your user agent does not support the HTML5 Audio element or the files are missing.</p>\n",
      "</audio>"
     ]
    },
    {
     "cell_type": "markdown",
     "metadata": {},
     "source": [
      "As a mater of curiosity, lets also work out what the shore's capacity is."
     ]
    },
    {
     "cell_type": "code",
     "collapsed": false,
     "input": [
      "shore.column_capacity_latex"
     ],
     "language": "python",
     "metadata": {},
     "outputs": [
      {
       "latex": [
        "$$P_{allowed} = F_c' \\times A$$ \n",
        "$${}$$\n",
        " $$P_{allowed} = 181.74 psi \\times 19.25 in^2$$ \n",
        "$${}$$\n",
        " $$P_{allowed} = 3498.41 lbs$$"
       ],
       "metadata": {},
       "output_type": "pyout",
       "prompt_number": 46,
       "text": [
        "<IPython.core.display.Latex at 0x7f901dd43710>"
       ]
      }
     ],
     "prompt_number": 46
    },
    {
     "cell_type": "heading",
     "level": 2,
     "metadata": {
      "slideshow": {
       "slide_type": "slide"
      }
     },
     "source": [
      "Summary"
     ]
    },
    {
     "cell_type": "markdown",
     "metadata": {},
     "source": [
      "<audio controls data-autoplay preload>\n",
      " <source src=\"https://github.com/damontallen/Construction-Lectures/raw/master/Lecture%20Audio/Week%209/Slab%20Form%20Design/Summary.mp3\"\n",
      "         type='audio/mp3'>\n",
      " <p>Your user agent does not support the HTML5 Audio element or the files are missing.</p>\n",
      "</audio>"
     ]
    },
    {
     "cell_type": "code",
     "collapsed": false,
     "input": [
      "txt = r'$$\\text{Using %s\", Group %s, %s stress rated, plywood, '%(ply.nom_thick, ply.Group, ply.stress_rating)\n",
      "txt += r'supporting a %g\" thick slab,}$$'%(t_concrete)\n",
      "txt += r'$$\\text{the %s, %s, 4x4 joists need to be spaced at %g\" on center,}$$'%(Grade,Species,joist_spacing['value'])\n",
      "txt += r'$$\\text{the 4x6 stringers need to be spaced at %g\" on center,}$$'%stringer_spacing['value']\n",
      "D = ceil(Shore_section_d)\n",
      "B = ceil(Shore_section_b)\n",
      "txt += r\"$$\\text{and the %g' tall %dx%d shores \"%(Shore_length, B,D)\n",
      "txt += r'need to be spaced at %g\" on center.}$$'%shore_spacing['value']\n",
      "summary = txt"
     ],
     "language": "python",
     "metadata": {
      "slideshow": {
       "slide_type": "skip"
      }
     },
     "outputs": [],
     "prompt_number": 47
    },
    {
     "cell_type": "code",
     "collapsed": false,
     "input": [
      "Latex(summary)"
     ],
     "language": "python",
     "metadata": {},
     "outputs": [
      {
       "latex": [
        "$$\\text{Using 3/4\", Group 2, S-2 stress rated, plywood, supporting a 10\" thick slab,}$$$$\\text{the Select Structural, HEM-FIR, 4x4 joists need to be spaced at 16\" on center,}$$$$\\text{the 4x6 stringers need to be spaced at 48\" on center,}$$$$\\text{and the 14' tall 4x6 shores need to be spaced at 56\" on center.}$$"
       ],
       "metadata": {},
       "output_type": "pyout",
       "prompt_number": 48,
       "text": [
        "<IPython.core.display.Latex at 0x7f901dd43940>"
       ]
      }
     ],
     "prompt_number": 48
    },
    {
     "cell_type": "heading",
     "level": 2,
     "metadata": {
      "slideshow": {
       "slide_type": "slide"
      }
     },
     "source": [
      "References:"
     ]
    },
    {
     "cell_type": "markdown",
     "metadata": {},
     "source": [
      "[Class website](https://elearning2.courses.ufl.edu/portal/site/UFL-BCN4423C-40908-52014) *(Use this link to if you are taking the course on e-learning.)*\n",
      "\n",
      "[Github.io version of course website](http://damontallen.github.io/Construction-Lectures/) *(Do not use this link if you are taking this course in Summer A or B.)*\n",
      "\n",
      "[IPython.org](http://ipython.org/) *(IPython is the opensource software used in the development of much of this course.)*\n",
      "\n",
      "[Complete Software List](http://nbviewer.ipython.org/github/damontallen/Construction-Lectures/blob/master/Resources.ipynb)"
     ]
    },
    {
     "cell_type": "code",
     "collapsed": false,
     "input": [],
     "language": "python",
     "metadata": {
      "slideshow": {
       "slide_type": "skip"
      }
     },
     "outputs": [],
     "prompt_number": 48
    }
   ],
   "metadata": {}
  }
 ]
}