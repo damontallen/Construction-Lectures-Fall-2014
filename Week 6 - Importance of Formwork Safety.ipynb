{
 "metadata": {
  "name": "",
  "signature": "sha256:4704d39d401ab5709d1f9b2e43c8739f6614804a8daed998287f375cbed8e7b9"
 },
 "nbformat": 3,
 "nbformat_minor": 0,
 "worksheets": [
  {
   "cells": [
    {
     "cell_type": "heading",
     "level": 1,
     "metadata": {
      "slideshow": {
       "slide_type": "slide"
      }
     },
     "source": [
      "The Importance of \n",
      "Safe Use & Construction \n",
      "of Temporary Structures"
     ]
    },
    {
     "cell_type": "markdown",
     "metadata": {
      "slideshow": {
       "slide_type": "-"
      }
     },
     "source": [
      "<iframe width=\"420\" height=\"315\" src=\"//www.youtube.com/embed/ihjLlMMP6tQ\" frameborder=\"0\" allowfullscreen style=\" float:left; margin-right:15px;\"></iframe>\n",
      "\n",
      "Bring notes to class that cover the following:\n",
      "\n",
      "* What possible steps could have been taken on the job to prevent the disaster.\n",
      "* How can these steps be generalized and applied to other job sites.\n",
      "* What should someone learn from reading this report.\n",
      "* Come up with three steps that your team would implement on their job-site to prevent disasters like this.\n",
      "* How would a construction disaster impact a project's schedule, cost, and final quality.\n",
      "\n",
      "These notes should be written in sentences and paragraphs and must be turned in at the end of the class discussion.  I may call on you to read your notes to the class as part of the discussion."
     ]
    },
    {
     "cell_type": "markdown",
     "metadata": {
      "slideshow": {
       "slide_type": "-"
      }
     },
     "source": [
      "[Willow Island Cooling Towers Disaster](http://pbadupws.nrc.gov/docs/ML1126/ML11264A019.pdf)"
     ]
    },
    {
     "cell_type": "markdown",
     "metadata": {
      "slideshow": {
       "slide_type": "skip"
      }
     },
     "source": [
      "CSS stylesheet\n",
      "\n",
      "<head>\n",
      "<style>\n",
      "important {font:italic bold 16px arial;}\n",
      ".missing {color:Red}\n",
      "fragment {color:LightBlue;}\n",
      "subslide {color:DarkBlue;}\n",
      "\n",
      ".rgt {float:right;}\n",
      "\n",
      ".lt {float:left;}\n",
      "\n",
      ".cnt {text-align:center; vertical-align:text-top;}\n",
      "\n",
      ".box { border:1px solid blue; float:left; margin-right:3px;}\n",
      "\n",
      ".max {max-width:300px; max-height:300px;}\n",
      "\n",
      ".fix {max-height:200px; max-width:200px;}\n",
      "\n",
      "</style>\n",
      "</head>\n",
      "\n",
      "    ###Useful Tip:\n",
      "\n",
      "    If you use Firefox or Chrome then installing one of the following extensions will make viewing images in lectures easier.\n",
      "    \n",
      "    * Firefox - [Thumbnail Zoom Plus](https://addons.mozilla.org/en-US/firefox/addon/thumbnail-zoom-plus/?src=search)\n",
      "    * Chrome - [Hover Free](https://chrome.google.com/webstore/detail/hover-free/hcmnnggnaofmhflgomfjfbndngdoogkj) (Not to be confused with Hover Zoom.)\n",
      "\n",
      "    /* class = \"max box\" for img tags\n",
      "    \n",
      "    <audio controls data-autoplay preload>\n",
      "     <source src=\"https://github.com/damontallen/Construction-Lectures-Fall-2014/raw/master/Intro/FILE%20NAME.mp3\"\n",
      "             type='audio/mp3'>\n",
      "     <p><strong>Your user agent does not support the HTML5 Audio element or the files are missing.</strong></p>\n",
      "    </audio><a></a>\n",
      "    \n",
      "    */\n",
      "    class = \"max box\" == style=\"max-width:300px; max-height:300px; border:1px solid blue; float:left; margin-right:3px;\"\n",
      "    important == <strong><font style=\"font:italic bold 16px arial;\"> Text here </font></strong>\n",
      "    Example <important class=\"missing\">Video Placeholder</important>\n",
      "    \n",
      "    Picture Examples: (Right side)\n",
      "<a href=\"http://i.imgur.com/h7H0m0b.png\">\n",
      "<img src=\"http://i.imgur.com/h7H0m0b.png\" alt=\"Elevated Slab with Worker\"style=\"max-width:300px; max-height:300px; border:1px solid blue; float:right; margin-left:10px;\"/>\n",
      "</a>\n",
      "    \n",
      "    (Left side)\n",
      "<a href=\"http://i.imgur.com/EWHj3eh.png\">\n",
      "<img src=\"http://i.imgur.com/EWHj3eh.png\" alt=\"Braced Slab\" Title=\"Braced Slab\"style=\"max-width:300px; max-height:300px; border:1px solid blue; float:left; margin-right:3px;\"/>\n",
      "</a>\n",
      "    \n",
      "    (hover over image)\n",
      "    <a href=\"http://i.imgur.com/aTxezXX.png\" id=\"Top Down Slab\">\n",
      "        <img title=\"Top Down Slab (Bracing in the 60 ft direction)\" alt = \"Top Down Slab\"\n",
      "            src=\"http://i.imgur.com/EL2FYDQ.png\" \n",
      "            onmouseover=\"this.src='http://i.imgur.com/aTxezXX.png'\".\n",
      "            onmouseout=\"this.src='http://i.imgur.com/EL2FYDQ.png'\" \n",
      "            style=\"max-width:300px; max-height:300px; border:1px solid blue; \n",
      "                    float:right; margin-left:10px;\"/>\n",
      "    </a>"
     ]
    },
    {
     "cell_type": "markdown",
     "metadata": {
      "slideshow": {
       "slide_type": "skip"
      }
     },
     "source": [
      "(hover over image)\n",
      "    <a href=\"http://i.imgur.com/aTxezXX.png\" id=\"Top Down Slab\">\n",
      "        <img title=\"Top Down Slab (Bracing in the 60 ft direction)\" alt = \"Top Down Slab\"\n",
      "            src=\"http://i.imgur.com/EL2FYDQ.png\" \n",
      "            onmouseover=\"this.src='http://i.imgur.com/aTxezXX.png'\".\n",
      "            onmouseout=\"this.src='http://i.imgur.com/EL2FYDQ.png'\" \n",
      "            style=\"max-width:300px; max-height:300px; border:1px solid blue; \n",
      "                    float:right; margin-left:10px;\"/>\n",
      "    </a>"
     ]
    }
   ],
   "metadata": {}
  }
 ]
}
